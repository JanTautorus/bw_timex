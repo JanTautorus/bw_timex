{
 "cells": [
  {
   "cell_type": "code",
   "execution_count": 1,
   "id": "3d095fe9-f532-4866-8b77-d0be04d6e406",
   "metadata": {
    "tags": []
   },
   "outputs": [],
   "source": [
    "import bw2io as bi\n",
    "import bw2data as bd\n",
    "import bw2calc as bc\n",
    "import bw2analyzer as ba\n",
    "import bw_temporalis as bwt"
   ]
  },
  {
   "cell_type": "code",
   "execution_count": 2,
   "id": "d34bd596-7b79-442b-8e04-18a7add52503",
   "metadata": {},
   "outputs": [],
   "source": [
    "import numpy as np\n",
    "import pandas as pd\n",
    "import seaborn as sb"
   ]
  },
  {
   "cell_type": "code",
   "execution_count": 3,
   "id": "ad409bf8-2230-4932-bdf2-e7341bcb2c43",
   "metadata": {},
   "outputs": [],
   "source": [
    "import os\n",
    "from typing import Optional\n",
    "from pathlib import Path"
   ]
  },
  {
   "cell_type": "markdown",
   "id": "0ac61910-ea08-46b0-b5b7-d362e5e6b0f1",
   "metadata": {},
   "source": [
    "# Setting the project to the team one on the server"
   ]
  },
  {
   "cell_type": "code",
   "execution_count": 4,
   "id": "7dfabb12-9c97-4729-9ab3-b9c42a27419d",
   "metadata": {},
   "outputs": [],
   "source": [
    "def change_base_directory(base_dir: Path) -> None: \n",
    "    assert isinstance(base_dir, Path) and base_dir.is_dir() and os.access(base_dir, os.W_OK) \n",
    "    \n",
    "    bd.projects._base_data_dir = base_dir\n",
    "    bd.projects.db.change_path(base_dir / \"projects.db\") \n",
    "    bd.projects.set_current(\"default\", update=False) "
   ]
  },
  {
   "cell_type": "code",
   "execution_count": 5,
   "id": "c6b7af93-6cd4-45cf-a0a4-c7a5d12b3243",
   "metadata": {},
   "outputs": [],
   "source": [
    "tictac_team_dir = Path(\"/srv/teams/tictac_team\") \n",
    "change_base_directory(tictac_team_dir) \n",
    "\n",
    "bd.projects.set_current(\"tictac_premise\")"
   ]
  },
  {
   "cell_type": "code",
   "execution_count": 6,
   "id": "a3f31190-badd-44fc-8cef-664a1fe848e8",
   "metadata": {},
   "outputs": [
    {
     "data": {
      "text/plain": [
       "'tictac_premise'"
      ]
     },
     "execution_count": 6,
     "metadata": {},
     "output_type": "execute_result"
    }
   ],
   "source": [
    "bd.projects.current"
   ]
  },
  {
   "cell_type": "code",
   "execution_count": 7,
   "id": "46e3ed14-c739-49e1-8429-96962e2cb310",
   "metadata": {},
   "outputs": [
    {
     "data": {
      "text/plain": [
       "Databases dictionary with 0 objects"
      ]
     },
     "execution_count": 7,
     "metadata": {},
     "output_type": "execute_result"
    }
   ],
   "source": [
    "bd.databases"
   ]
  },
  {
   "cell_type": "code",
   "execution_count": 8,
   "id": "78bdd020-4e65-46f8-b3c2-e007754d8147",
   "metadata": {},
   "outputs": [],
   "source": [
    "bd.projects.set_current(\"default\")"
   ]
  },
  {
   "cell_type": "markdown",
   "id": "43645e58-0e00-43eb-a12a-e77d3f9e0690",
   "metadata": {},
   "source": [
    "# Setting the project to one having ecoinvent, from the notebook"
   ]
  },
  {
   "cell_type": "code",
   "execution_count": 4,
   "id": "ef162137-362e-4b83-88e1-898a6c86a408",
   "metadata": {},
   "outputs": [
    {
     "name": "stdout",
     "output_type": "stream",
     "text": [
      "Restoring project backup archive - this could take a few minutes...\n"
     ]
    },
    {
     "ename": "ValueError",
     "evalue": "Project ecoinvent-3.9-cutoff already exists",
     "output_type": "error",
     "traceback": [
      "\u001b[0;31m---------------------------------------------------------------------------\u001b[0m",
      "\u001b[0;31mValueError\u001b[0m                                Traceback (most recent call last)",
      "Cell \u001b[0;32mIn[4], line 1\u001b[0m\n\u001b[0;32m----> 1\u001b[0m \u001b[43mbi\u001b[49m\u001b[38;5;241;43m.\u001b[39;49m\u001b[43mrestore_project_directory\u001b[49m\u001b[43m(\u001b[49m\u001b[38;5;124;43m\"\u001b[39;49m\u001b[38;5;124;43m/srv/data/ecoinvent-3.9-cutoff.tar.gz\u001b[39;49m\u001b[38;5;124;43m\"\u001b[39;49m\u001b[43m)\u001b[49m\n",
      "File \u001b[0;32m/opt/tljh/user/envs/autumn_school/lib/python3.11/site-packages/bw2io/backup.py:121\u001b[0m, in \u001b[0;36mrestore_project_directory\u001b[0;34m(fp, project_name, overwrite_existing)\u001b[0m\n\u001b[1;32m    118\u001b[0m project_name \u001b[38;5;241m=\u001b[39m get_project_name(fp) \u001b[38;5;28;01mif\u001b[39;00m project_name \u001b[38;5;129;01mis\u001b[39;00m \u001b[38;5;28;01mNone\u001b[39;00m \u001b[38;5;28;01melse\u001b[39;00m project_name\n\u001b[1;32m    120\u001b[0m \u001b[38;5;28;01mif\u001b[39;00m project_name \u001b[38;5;129;01min\u001b[39;00m projects \u001b[38;5;129;01mand\u001b[39;00m \u001b[38;5;129;01mnot\u001b[39;00m overwrite_existing:\n\u001b[0;32m--> 121\u001b[0m     \u001b[38;5;28;01mraise\u001b[39;00m \u001b[38;5;167;01mValueError\u001b[39;00m(\u001b[38;5;124m\"\u001b[39m\u001b[38;5;124mProject \u001b[39m\u001b[38;5;132;01m{}\u001b[39;00m\u001b[38;5;124m already exists\u001b[39m\u001b[38;5;124m\"\u001b[39m\u001b[38;5;241m.\u001b[39mformat(project_name))\n\u001b[1;32m    123\u001b[0m \u001b[38;5;28;01mwith\u001b[39;00m tempfile\u001b[38;5;241m.\u001b[39mTemporaryDirectory() \u001b[38;5;28;01mas\u001b[39;00m td:\n\u001b[1;32m    124\u001b[0m     \u001b[38;5;28;01mwith\u001b[39;00m tarfile\u001b[38;5;241m.\u001b[39mopen(fp, \u001b[38;5;124m\"\u001b[39m\u001b[38;5;124mr:gz\u001b[39m\u001b[38;5;124m\"\u001b[39m) \u001b[38;5;28;01mas\u001b[39;00m tar:\n",
      "\u001b[0;31mValueError\u001b[0m: Project ecoinvent-3.9-cutoff already exists"
     ]
    }
   ],
   "source": [
    "bi.restore_project_directory(\"/srv/data/ecoinvent-3.9-cutoff.tar.gz\")"
   ]
  },
  {
   "cell_type": "code",
   "execution_count": 5,
   "id": "9a84b131-6e66-441d-858c-e20078ea6a92",
   "metadata": {},
   "outputs": [
    {
     "data": {
      "text/plain": [
       "Brightway2 projects manager with 16 objects:\n",
       "\tTemporalis example project\n",
       "\tUSEEIO-1.1\n",
       "\tbw_temporalis example\n",
       "\tdefault\n",
       "\tdynamic distribution example\n",
       "\tecoinvent-3.9-cutoff\n",
       "\tecoinvent=3.9-cutoff\n",
       "\tpremise_ei39\n",
       "\tpremise_ei39_2\n",
       "\tspreadsheet\n",
       "\tsupply chain graph\n",
       "\tsupply chain graph_0\n",
       "\ttictac\n",
       "\ttictac spring server\n",
       "\ttictac2\n",
       "\ttictac3\n",
       "Use `projects.report()` to get a report on all projects."
      ]
     },
     "execution_count": 5,
     "metadata": {},
     "output_type": "execute_result"
    }
   ],
   "source": [
    "bd.projects"
   ]
  },
  {
   "cell_type": "code",
   "execution_count": 6,
   "id": "1f945519-0060-49cc-87c8-456e6020fbef",
   "metadata": {},
   "outputs": [],
   "source": [
    "bd.projects.set_current('premise_ei39')"
   ]
  },
  {
   "cell_type": "code",
   "execution_count": 7,
   "id": "9e99f3b6-1e1e-40c9-9c8f-c808168247b0",
   "metadata": {},
   "outputs": [],
   "source": [
    "# bd.projects.migrate_project_25()"
   ]
  },
  {
   "cell_type": "code",
   "execution_count": 8,
   "id": "9c722374-00b4-4763-99bd-1345bb9c7ab9",
   "metadata": {},
   "outputs": [
    {
     "data": {
      "text/plain": [
       "Databases dictionary with 3 object(s):\n",
       "\tbiosphere3\n",
       "\tecoinvent-3.9-cutoff\n",
       "\twind-example"
      ]
     },
     "execution_count": 8,
     "metadata": {},
     "output_type": "execute_result"
    }
   ],
   "source": [
    "bd.databases"
   ]
  },
  {
   "cell_type": "code",
   "execution_count": 9,
   "id": "4fbf78bf-3edf-4a5f-a1e2-43bfec5e121f",
   "metadata": {},
   "outputs": [],
   "source": [
    "ei = bd.Database('ecoinvent-3.9-cutoff')"
   ]
  },
  {
   "cell_type": "markdown",
   "id": "4c829c64-b7aa-4062-baed-091d8027644a",
   "metadata": {},
   "source": [
    "# Temporal distribution for wind electricity (onshore) in `Europe`, corresponding to `remind SSP2 - 1150` IAM scenario"
   ]
  },
  {
   "cell_type": "markdown",
   "id": "58a69475-cce7-43b9-bd1d-5749182f4279",
   "metadata": {},
   "source": [
    "### Values "
   ]
  },
  {
   "cell_type": "code",
   "execution_count": 10,
   "id": "be2f275b-e672-41bf-b726-eb5bed3bef15",
   "metadata": {},
   "outputs": [],
   "source": [
    "a = np.array([0.79, 1.57, 3.6, 6.03, 8.73, 10.66, 11.27, 11.31])\n",
    "a = a/np.sum(a) # normalizing the trend in Exajoules to get an actual TD"
   ]
  },
  {
   "cell_type": "markdown",
   "id": "dc29fa94-8763-4015-96cc-e8929b4b1102",
   "metadata": {},
   "source": [
    "## Absolute TD"
   ]
  },
  {
   "cell_type": "code",
   "execution_count": 11,
   "id": "a72e4fa3-7824-42b4-a531-68beff424b49",
   "metadata": {},
   "outputs": [
    {
     "name": "stdout",
     "output_type": "stream",
     "text": [
      "['2010-01-01' '2020-01-01' '2030-01-01' '2040-01-01' '2050-01-01'\n",
      " '2060-01-01' '2070-01-01' '2080-01-01']\n"
     ]
    }
   ],
   "source": [
    "d = np.array([str(2010+k*10)+\"-01-01\" for k in range(8)])\n",
    "d = np.array(d,dtype=np.datetime64)\n",
    "print(d)"
   ]
  },
  {
   "cell_type": "code",
   "execution_count": 12,
   "id": "4c65162b-a1dd-4213-983b-eb1ff483064d",
   "metadata": {},
   "outputs": [
    {
     "data": {
      "text/plain": [
       "<Axes: xlabel='Date', ylabel='Amount'>"
      ]
     },
     "execution_count": 12,
     "metadata": {},
     "output_type": "execute_result"
    },
    {
     "data": {
      "image/png": "[encoded data removed]",
      "text/plain": [
       "<Figure size 640x480 with 1 Axes>"
      ]
     },
     "metadata": {},
     "output_type": "display_data"
    }
   ],
   "source": [
    "inc_wind_turbine_energy_absolute = bwt.TemporalDistribution(\n",
    "    date=d,\n",
    "    amount=a\n",
    ")\n",
    "inc_wind_turbine_energy_absolute.graph()"
   ]
  },
  {
   "cell_type": "markdown",
   "id": "f8ede963-2013-4d76-8cf4-73aeaec07590",
   "metadata": {},
   "source": [
    "## Relative TD"
   ]
  },
  {
   "cell_type": "code",
   "execution_count": 13,
   "id": "6b874e2a-c23d-4104-8a50-bd8b984d4c43",
   "metadata": {},
   "outputs": [
    {
     "name": "stdout",
     "output_type": "stream",
     "text": [
      "[10 20 30 40 50 60 70 80]\n"
     ]
    }
   ],
   "source": [
    "delta = np.array([np.timedelta64(10*(k+1), 'Y') for k in range(8)])\n",
    "print(delta)"
   ]
  },
  {
   "cell_type": "code",
   "execution_count": 14,
   "id": "2aa59c16-bbf1-4d56-ae9f-e58cc314cea8",
   "metadata": {
    "scrolled": true
   },
   "outputs": [
    {
     "data": {
      "text/plain": [
       "<Axes: xlabel='Time (seconds)', ylabel='Amount'>"
      ]
     },
     "execution_count": 14,
     "metadata": {},
     "output_type": "execute_result"
    },
    {
     "data": {
      "image/png": "[encoded data removed]",
      "text/plain": [
       "<Figure size 640x480 with 1 Axes>"
      ]
     },
     "metadata": {},
     "output_type": "display_data"
    }
   ],
   "source": [
    "inc_wind_turbine_energy_relative = bwt.TemporalDistribution(\n",
    "    date=delta,\n",
    "    amount=a\n",
    ")\n",
    "inc_wind_turbine_energy_relative.graph()"
   ]
  },
  {
   "cell_type": "markdown",
   "id": "ffb6f221-6576-42f0-b648-342413243c03",
   "metadata": {},
   "source": [
    "# Dummy wind turbine system "
   ]
  },
  {
   "cell_type": "code",
   "execution_count": 15,
   "id": "4d043052-e4bc-422b-9a37-fbd56a34d973",
   "metadata": {},
   "outputs": [],
   "source": [
    "del bd.databases['wind-example']"
   ]
  },
  {
   "cell_type": "code",
   "execution_count": 16,
   "id": "434fc6c0-50e6-4011-87bd-aae624ef37b9",
   "metadata": {
    "tags": []
   },
   "outputs": [
    {
     "name": "stdout",
     "output_type": "stream",
     "text": [
      "Not able to determine geocollections for all datasets. This database is not ready for regionalization.\n"
     ]
    },
    {
     "name": "stderr",
     "output_type": "stream",
     "text": [
      "100%|██████████| 8/8 [00:00<00:00, 47127.01it/s]"
     ]
    },
    {
     "name": "stdout",
     "output_type": "stream",
     "text": [
      "Vacuuming database \n"
     ]
    },
    {
     "name": "stderr",
     "output_type": "stream",
     "text": [
      "\n"
     ]
    }
   ],
   "source": [
    "generated_electricity_over_lifetime = 4.38e9 / 1e3 # Amount of electricity generated by a wind turbine over its lifetime in kWh\n",
    "share_of_wind_in_electricity_mix = 0.8\n",
    "LT = 25 # 25 years lifetime of a wind turbine\n",
    "\n",
    "bd.Database('wind-example').write({\n",
    "    ('wind-example', \"CO2\"): {\n",
    "        \"type\": \"emission\",\n",
    "        \"name\": \"carbon dioxide\",\n",
    "        \"unit\": \"kilogram\",\n",
    "    },\n",
    "    ('wind-example', \"coal\"): {\n",
    "        \"type\": \"emission\",\n",
    "        \"name\": \"coal\",\n",
    "        \"unit\": \"kilogram\",\n",
    "    },\n",
    "    ('wind-example', 'electricity-mix'): {\n",
    "        'name': 'Electricity mix',\n",
    "        'unit': 'kilowatt hour',\n",
    "        'exchanges': [\n",
    "            {\n",
    "                'input': ('wind-example', 'electricity-production-wind'),\n",
    "                'amount': share_of_wind_in_electricity_mix,\n",
    "                'type': 'technosphere',\n",
    "            },\n",
    "            {\n",
    "                'input': ('wind-example', 'electricity-production-coal'),\n",
    "                'amount': 1-share_of_wind_in_electricity_mix,\n",
    "                'type': 'technosphere',\n",
    "            },\n",
    "        ]\n",
    "    },\n",
    "    ('wind-example', 'electricity-production-coal'): {\n",
    "        'name': 'Electricity production, coal',\n",
    "        'unit': 'kilowatt hour',\n",
    "        'exchanges': [\n",
    "            {\n",
    "                'input': ('wind-example', 'coal'),\n",
    "                'amount': 1,\n",
    "                'type': 'biosphere',\n",
    "            },\n",
    "            {\n",
    "                'input': ('wind-example', 'CO2'),\n",
    "                'amount': 0.9,\n",
    "                'type': 'biosphere',\n",
    "            },\n",
    "        ]\n",
    "    },\n",
    "    ('wind-example', 'electricity-production-wind'): {\n",
    "        'name': 'Electricity production, wind',\n",
    "        'unit': 'kilowatt hour',\n",
    "        'exchanges': [\n",
    "            {\n",
    "                'input': ('wind-example', 'electricity-production-wind'),\n",
    "                'amount': 1,\n",
    "                'type': 'production',\n",
    "            },\n",
    "            {\n",
    "                'input': ('wind-example', 'operational-wind-turbine'),\n",
    "                'amount': 1/generated_electricity_over_lifetime,\n",
    "                'type': 'technosphere',\n",
    "                'temporal_distribution' : inc_wind_turbine_energy_relative, #we would prefer to use the absolute TD, but for some reason the graph reversal isn't working with it...\n",
    "            },\n",
    "            # maybe add maintenance, oil changes, ...\n",
    "        ]\n",
    "    },\n",
    "        ('wind-example', 'operational-wind-turbine'): {\n",
    "        'name': \"End-of-life, wind turbine\",\n",
    "        'unit': 'unit',\n",
    "        'exchanges': [\n",
    "            {\n",
    "                'input': ('wind-example', 'wind-turbine-construction'),\n",
    "                'amount': 1,\n",
    "                'type': 'technosphere',\n",
    "                'temporal_distribution': bwt.easy_timedelta_distribution(\n",
    "                    start=-1,\n",
    "                    end=1,\n",
    "                    resolution=\"Y\",  # M for months, Y for years, etc.\n",
    "                    steps=3,\n",
    "                    # kind = '',\n",
    "                    # param = 0\n",
    "                ),\n",
    "            },\n",
    "            {\n",
    "                'input': ('wind-example', 'eol-wind'),\n",
    "                'amount': 1,\n",
    "                'type': 'technosphere',\n",
    "                'temporal_distribution': bwt.easy_timedelta_distribution(\n",
    "                    start=20,\n",
    "                    end=30,\n",
    "                    resolution=\"Y\",  # M for months, Y for years, etc.\n",
    "                    steps=11,\n",
    "                    kind = 'normal',\n",
    "                    param = 0.1\n",
    "                )\n",
    "            },\n",
    "            # CO2 emissions corresponding to maintenance\n",
    "            # {\n",
    "            #     'input': ('wind-example', 'CO2'),\n",
    "            #     'amount': 100,\n",
    "            #     'type': 'biosphere',\n",
    "            # }\n",
    "        ]\n",
    "    },\n",
    "    ('wind-example', 'wind-turbine-construction'): {\n",
    "        'name': 'Wind turbine construction',\n",
    "        'unit': 'unit',\n",
    "        'exchanges': [\n",
    "            {\n",
    "                'input': ('wind-example', 'wind-turbine-construction'),\n",
    "                'amount': 1,\n",
    "                'type': 'production',\n",
    "            },\n",
    "            {\n",
    "                'input': ('wind-example', 'electricity-mix'),\n",
    "                'amount': 200000,\n",
    "                'type': 'technosphere',\n",
    "            },\n",
    "            {\n",
    "                'input': ('wind-example', 'CO2'),\n",
    "                'amount': 1e6,\n",
    "                'type': 'biosphere',\n",
    "            } #taking into account CO2 of machine and materials, not just operational energy\n",
    "        ]\n",
    "    },\n",
    "    ('wind-example', 'eol-wind'): {\n",
    "        'name': \"End-of-life, wind turbine\",\n",
    "        'unit': 'unit',\n",
    "        'exchanges': [\n",
    "            {\n",
    "                'input': ('wind-example', 'eol-wind'),\n",
    "                'amount': 1,\n",
    "                'type': 'production',\n",
    "            },\n",
    "            {\n",
    "                'input': ('wind-example', 'CO2'),\n",
    "                'amount': 1e5,\n",
    "                'type': 'biosphere',\n",
    "            }, #taking into account CO2 of machines and materials, not just operational energy\n",
    "            {\n",
    "                'input' : ('wind-example', 'electricity-mix'),\n",
    "                'amount': 1e5,\n",
    "                'type': 'technosphere',\n",
    "            }\n",
    "        ]\n",
    "    },\n",
    "})"
   ]
  },
  {
   "cell_type": "code",
   "execution_count": 17,
   "id": "3abffe5e-b7ec-48b8-8880-bc696ba69199",
   "metadata": {
    "tags": []
   },
   "outputs": [
    {
     "data": {
      "text/plain": [
       "0.2787439554172777"
      ]
     },
     "execution_count": 17,
     "metadata": {},
     "output_type": "execute_result"
    }
   ],
   "source": [
    "lca = bc.LCA({('wind-example', 'electricity-production-wind'): 1}, (\"GWP\", \"wind-example\"))\n",
    "lca.lci()\n",
    "lca.lcia()\n",
    "lca.score"
   ]
  },
  {
   "cell_type": "code",
   "execution_count": 18,
   "id": "c5805c6d-3454-4d39-ab5f-7ea378e5a423",
   "metadata": {
    "tags": []
   },
   "outputs": [
    {
     "name": "stdout",
     "output_type": "stream",
     "text": [
      "Starting graph traversal\n",
      "Calculation count: 31\n"
     ]
    }
   ],
   "source": [
    "tlca = bwt.TemporalisLCA(lca, starting_datetime=np.datetime64(40, 'Y'))"
   ]
  },
  {
   "cell_type": "code",
   "execution_count": 19,
   "id": "5782bfb8-c241-4fd6-a454-87333e26cdf1",
   "metadata": {
    "tags": []
   },
   "outputs": [],
   "source": [
    "tl = tlca.build_timeline()"
   ]
  },
  {
   "cell_type": "code",
   "execution_count": 20,
   "id": "7676edf4-506d-4e0d-9dfc-9bc6160df58d",
   "metadata": {
    "tags": []
   },
   "outputs": [],
   "source": [
    "df = tl.build_dataframe()\n",
    "df = tl.add_metadata_to_dataframe(['wind-example'])"
   ]
  },
  {
   "cell_type": "code",
   "execution_count": 21,
   "id": "3491272e-bda8-41a6-aada-da547dbb2c9e",
   "metadata": {},
   "outputs": [],
   "source": [
    "df2  = bd.Database('wind-example').nodes_to_dataframe()"
   ]
  },
  {
   "cell_type": "code",
   "execution_count": 22,
   "id": "df9d774a-8d3f-4b0d-8503-07792cfba8d9",
   "metadata": {},
   "outputs": [
    {
     "data": {
      "text/plain": [
       "Text(0.5, 1.0, 'C02 emissions over time_ FU : 1 kWh produced by electricity mix')"
      ]
     },
     "execution_count": 22,
     "metadata": {},
     "output_type": "execute_result"
    },
    {
     "data": {
      "image/png": "[encoded data removed]",
      "text/plain": [
       "<Figure size 640x480 with 1 Axes>"
      ]
     },
     "metadata": {},
     "output_type": "display_data"
    }
   ],
   "source": [
    "axes = sb.scatterplot(\n",
    "    x = \"date\",\n",
    "    y = 'amount',\n",
    "    hue = 'activity_name',\n",
    "    data = df.merge(\n",
    "        df2.rename(columns={'id' : 'activity'}), on='activity'\n",
    "    )\n",
    ")\n",
    "axes.set_ylabel(\"$CO_{2}$ emissions (kg)\")\n",
    "axes.set_xlabel(\"Time\")\n",
    "axes.set_xlim(xmin=np.datetime64(40, 'Y'), xmax=np.datetime64(110, 'Y'))\n",
    "axes.set_ylim(ymax=0.05)\n",
    "axes.set_title(\"C02 emissions over time_ FU : 1 kWh produced by electricity mix\") #right after being put in service"
   ]
  },
  {
   "cell_type": "markdown",
   "id": "cd48a3c6-34fb-4246-867c-dee7e970c49f",
   "metadata": {},
   "source": [
    "# Timeline of activities"
   ]
  },
  {
   "cell_type": "code",
   "execution_count": 23,
   "id": "72640c26-84af-4b10-a9ed-bce8a7e54dff",
   "metadata": {},
   "outputs": [],
   "source": [
    "def build_timeline_processes(tlca, db) :\n",
    "    ' take as input'\n",
    "    ' - the result of the graph reversal (given by the \"bwt.TemporalisLCA\") '\n",
    "    ' - the name of the database as str (static database, not prospective) '\n",
    "    ' return a dataframe within the following columns '\n",
    "    ' - date '\n",
    "    ' - amount '\n",
    "    ' - activity (?)'\n",
    "    ' - database '\n",
    "    ' - name (of activity) '\n",
    "    ' - type '\n",
    "    ' - unit '\n",
    "    \n",
    "    tl_activities= tlca.build_timeline(node_timeline=True) #creating timeline for the nodes, not the flows\"\n",
    "    df_tl_act = tl_activities.build_dataframe() # converting the data into dataframe\n",
    "\n",
    "    if 'ecoinvent' in db : \n",
    "        df_tl_act=df_tl_act.rename(columns={\"activity\" :\"id\"}).merge(bd.Database(db).nodes_to_dataframe(), on='id')\n",
    "    else :\n",
    "        df_tl_act=df_tl_act.merge(bd.Database(db).nodes_to_dataframe().rename(columns={\"id\" : \"activity\"}), on='activity')\n",
    "        del df_tl_act['flow']\n",
    "    \n",
    "    return df_tl_act\n"
   ]
  },
  {
   "cell_type": "code",
   "execution_count": 24,
   "id": "a21bbf23-0079-4c1e-84fd-fdd3480f01c7",
   "metadata": {
    "scrolled": true
   },
   "outputs": [
    {
     "name": "stderr",
     "output_type": "stream",
     "text": [
      "/opt/tljh/user/envs/autumn_school/lib/python3.11/site-packages/bw_temporalis/lca.py:135: UserWarning: This functionality is experimental, and will change.\n",
      "You have been warned.\n",
      "  warnings.warn(\n"
     ]
    },
    {
     "data": {
      "text/html": [
       "<div>\n",
       "<style scoped>\n",
       "    .dataframe tbody tr th:only-of-type {\n",
       "        vertical-align: middle;\n",
       "    }\n",
       "\n",
       "    .dataframe tbody tr th {\n",
       "        vertical-align: top;\n",
       "    }\n",
       "\n",
       "    .dataframe thead th {\n",
       "        text-align: right;\n",
       "    }\n",
       "</style>\n",
       "<table border=\"1\" class=\"dataframe\">\n",
       "  <thead>\n",
       "    <tr style=\"text-align: right;\">\n",
       "      <th></th>\n",
       "      <th>date</th>\n",
       "      <th>amount</th>\n",
       "      <th>activity</th>\n",
       "      <th>code</th>\n",
       "      <th>database</th>\n",
       "      <th>name</th>\n",
       "      <th>type</th>\n",
       "      <th>unit</th>\n",
       "    </tr>\n",
       "  </thead>\n",
       "  <tbody>\n",
       "    <tr>\n",
       "      <th>0</th>\n",
       "      <td>2010-01-01 00:00:00</td>\n",
       "      <td>1.000000e+00</td>\n",
       "      <td>25969</td>\n",
       "      <td>electricity-production-wind</td>\n",
       "      <td>wind-example</td>\n",
       "      <td>Electricity production, wind</td>\n",
       "      <td>NaN</td>\n",
       "      <td>kilowatt hour</td>\n",
       "    </tr>\n",
       "    <tr>\n",
       "      <th>1</th>\n",
       "      <td>2019-01-01 04:22:48</td>\n",
       "      <td>1.782706e-04</td>\n",
       "      <td>25969</td>\n",
       "      <td>electricity-production-wind</td>\n",
       "      <td>wind-example</td>\n",
       "      <td>Electricity production, wind</td>\n",
       "      <td>NaN</td>\n",
       "      <td>kilowatt hour</td>\n",
       "    </tr>\n",
       "    <tr>\n",
       "      <th>2</th>\n",
       "      <td>2020-01-01 10:12:00</td>\n",
       "      <td>1.782706e-04</td>\n",
       "      <td>25969</td>\n",
       "      <td>electricity-production-wind</td>\n",
       "      <td>wind-example</td>\n",
       "      <td>Electricity production, wind</td>\n",
       "      <td>NaN</td>\n",
       "      <td>kilowatt hour</td>\n",
       "    </tr>\n",
       "    <tr>\n",
       "      <th>3</th>\n",
       "      <td>2020-12-31 16:01:12</td>\n",
       "      <td>1.782706e-04</td>\n",
       "      <td>25969</td>\n",
       "      <td>electricity-production-wind</td>\n",
       "      <td>wind-example</td>\n",
       "      <td>Electricity production, wind</td>\n",
       "      <td>NaN</td>\n",
       "      <td>kilowatt hour</td>\n",
       "    </tr>\n",
       "    <tr>\n",
       "      <th>4</th>\n",
       "      <td>2028-01-01 08:45:36</td>\n",
       "      <td>3.178041e-08</td>\n",
       "      <td>25969</td>\n",
       "      <td>electricity-production-wind</td>\n",
       "      <td>wind-example</td>\n",
       "      <td>Electricity production, wind</td>\n",
       "      <td>NaN</td>\n",
       "      <td>kilowatt hour</td>\n",
       "    </tr>\n",
       "    <tr>\n",
       "      <th>...</th>\n",
       "      <td>...</td>\n",
       "      <td>...</td>\n",
       "      <td>...</td>\n",
       "      <td>...</td>\n",
       "      <td>...</td>\n",
       "      <td>...</td>\n",
       "      <td>...</td>\n",
       "      <td>...</td>\n",
       "    </tr>\n",
       "    <tr>\n",
       "      <th>3626</th>\n",
       "      <td>2226-01-01 09:07:12</td>\n",
       "      <td>6.377526e-15</td>\n",
       "      <td>25972</td>\n",
       "      <td>eol-wind</td>\n",
       "      <td>wind-example</td>\n",
       "      <td>End-of-life, wind turbine</td>\n",
       "      <td>NaN</td>\n",
       "      <td>unit</td>\n",
       "    </tr>\n",
       "    <tr>\n",
       "      <th>3627</th>\n",
       "      <td>2227-01-01 14:56:24</td>\n",
       "      <td>2.467268e-16</td>\n",
       "      <td>25972</td>\n",
       "      <td>eol-wind</td>\n",
       "      <td>wind-example</td>\n",
       "      <td>End-of-life, wind turbine</td>\n",
       "      <td>NaN</td>\n",
       "      <td>unit</td>\n",
       "    </tr>\n",
       "    <tr>\n",
       "      <th>3628</th>\n",
       "      <td>2228-01-01 20:45:36</td>\n",
       "      <td>5.695356e-18</td>\n",
       "      <td>25972</td>\n",
       "      <td>eol-wind</td>\n",
       "      <td>wind-example</td>\n",
       "      <td>End-of-life, wind turbine</td>\n",
       "      <td>NaN</td>\n",
       "      <td>unit</td>\n",
       "    </tr>\n",
       "    <tr>\n",
       "      <th>3629</th>\n",
       "      <td>2229-01-01 02:34:48</td>\n",
       "      <td>7.290148e-20</td>\n",
       "      <td>25972</td>\n",
       "      <td>eol-wind</td>\n",
       "      <td>wind-example</td>\n",
       "      <td>End-of-life, wind turbine</td>\n",
       "      <td>NaN</td>\n",
       "      <td>unit</td>\n",
       "    </tr>\n",
       "    <tr>\n",
       "      <th>3630</th>\n",
       "      <td>2230-01-01 08:24:00</td>\n",
       "      <td>4.049311e-22</td>\n",
       "      <td>25972</td>\n",
       "      <td>eol-wind</td>\n",
       "      <td>wind-example</td>\n",
       "      <td>End-of-life, wind turbine</td>\n",
       "      <td>NaN</td>\n",
       "      <td>unit</td>\n",
       "    </tr>\n",
       "  </tbody>\n",
       "</table>\n",
       "<p>3631 rows × 8 columns</p>\n",
       "</div>"
      ],
      "text/plain": [
       "                    date        amount  activity                         code  \\\n",
       "0    2010-01-01 00:00:00  1.000000e+00     25969  electricity-production-wind   \n",
       "1    2019-01-01 04:22:48  1.782706e-04     25969  electricity-production-wind   \n",
       "2    2020-01-01 10:12:00  1.782706e-04     25969  electricity-production-wind   \n",
       "3    2020-12-31 16:01:12  1.782706e-04     25969  electricity-production-wind   \n",
       "4    2028-01-01 08:45:36  3.178041e-08     25969  electricity-production-wind   \n",
       "...                  ...           ...       ...                          ...   \n",
       "3626 2226-01-01 09:07:12  6.377526e-15     25972                     eol-wind   \n",
       "3627 2227-01-01 14:56:24  2.467268e-16     25972                     eol-wind   \n",
       "3628 2228-01-01 20:45:36  5.695356e-18     25972                     eol-wind   \n",
       "3629 2229-01-01 02:34:48  7.290148e-20     25972                     eol-wind   \n",
       "3630 2230-01-01 08:24:00  4.049311e-22     25972                     eol-wind   \n",
       "\n",
       "          database                          name type           unit  \n",
       "0     wind-example  Electricity production, wind  NaN  kilowatt hour  \n",
       "1     wind-example  Electricity production, wind  NaN  kilowatt hour  \n",
       "2     wind-example  Electricity production, wind  NaN  kilowatt hour  \n",
       "3     wind-example  Electricity production, wind  NaN  kilowatt hour  \n",
       "4     wind-example  Electricity production, wind  NaN  kilowatt hour  \n",
       "...            ...                           ...  ...            ...  \n",
       "3626  wind-example     End-of-life, wind turbine  NaN           unit  \n",
       "3627  wind-example     End-of-life, wind turbine  NaN           unit  \n",
       "3628  wind-example     End-of-life, wind turbine  NaN           unit  \n",
       "3629  wind-example     End-of-life, wind turbine  NaN           unit  \n",
       "3630  wind-example     End-of-life, wind turbine  NaN           unit  \n",
       "\n",
       "[3631 rows x 8 columns]"
      ]
     },
     "execution_count": 24,
     "metadata": {},
     "output_type": "execute_result"
    }
   ],
   "source": [
    "df_tl_act = build_timeline_processes(tlca, 'wind-example')\n",
    "df_tl_act"
   ]
  },
  {
   "cell_type": "markdown",
   "id": "f8bda26e-6da9-414a-8d84-2c30c4cf9965",
   "metadata": {},
   "source": [
    "### Example : exchanges timeline for energy activities"
   ]
  },
  {
   "cell_type": "code",
   "execution_count": 25,
   "id": "49d4fc48-bdfd-45c0-8e7d-bb7c268775ad",
   "metadata": {},
   "outputs": [],
   "source": [
    "df_tl_energy = df_tl_act[df_tl_act['unit']=='kilowatt hour']"
   ]
  },
  {
   "cell_type": "code",
   "execution_count": 26,
   "id": "ffa1088d-7fce-41a9-8166-4c29f1c09fb7",
   "metadata": {
    "scrolled": true
   },
   "outputs": [
    {
     "data": {
      "text/html": [
       "<div>\n",
       "<style scoped>\n",
       "    .dataframe tbody tr th:only-of-type {\n",
       "        vertical-align: middle;\n",
       "    }\n",
       "\n",
       "    .dataframe tbody tr th {\n",
       "        vertical-align: top;\n",
       "    }\n",
       "\n",
       "    .dataframe thead th {\n",
       "        text-align: right;\n",
       "    }\n",
       "</style>\n",
       "<table border=\"1\" class=\"dataframe\">\n",
       "  <thead>\n",
       "    <tr style=\"text-align: right;\">\n",
       "      <th></th>\n",
       "      <th>date</th>\n",
       "      <th>amount</th>\n",
       "      <th>activity</th>\n",
       "      <th>code</th>\n",
       "      <th>database</th>\n",
       "      <th>name</th>\n",
       "      <th>type</th>\n",
       "      <th>unit</th>\n",
       "    </tr>\n",
       "  </thead>\n",
       "  <tbody>\n",
       "    <tr>\n",
       "      <th>0</th>\n",
       "      <td>2010-01-01 00:00:00</td>\n",
       "      <td>1.000000e+00</td>\n",
       "      <td>25969</td>\n",
       "      <td>electricity-production-wind</td>\n",
       "      <td>wind-example</td>\n",
       "      <td>Electricity production, wind</td>\n",
       "      <td>NaN</td>\n",
       "      <td>kilowatt hour</td>\n",
       "    </tr>\n",
       "    <tr>\n",
       "      <th>1</th>\n",
       "      <td>2019-01-01 04:22:48</td>\n",
       "      <td>1.782706e-04</td>\n",
       "      <td>25969</td>\n",
       "      <td>electricity-production-wind</td>\n",
       "      <td>wind-example</td>\n",
       "      <td>Electricity production, wind</td>\n",
       "      <td>NaN</td>\n",
       "      <td>kilowatt hour</td>\n",
       "    </tr>\n",
       "    <tr>\n",
       "      <th>2</th>\n",
       "      <td>2020-01-01 10:12:00</td>\n",
       "      <td>1.782706e-04</td>\n",
       "      <td>25969</td>\n",
       "      <td>electricity-production-wind</td>\n",
       "      <td>wind-example</td>\n",
       "      <td>Electricity production, wind</td>\n",
       "      <td>NaN</td>\n",
       "      <td>kilowatt hour</td>\n",
       "    </tr>\n",
       "    <tr>\n",
       "      <th>3</th>\n",
       "      <td>2020-12-31 16:01:12</td>\n",
       "      <td>1.782706e-04</td>\n",
       "      <td>25969</td>\n",
       "      <td>electricity-production-wind</td>\n",
       "      <td>wind-example</td>\n",
       "      <td>Electricity production, wind</td>\n",
       "      <td>NaN</td>\n",
       "      <td>kilowatt hour</td>\n",
       "    </tr>\n",
       "    <tr>\n",
       "      <th>4</th>\n",
       "      <td>2028-01-01 08:45:36</td>\n",
       "      <td>3.178041e-08</td>\n",
       "      <td>25969</td>\n",
       "      <td>electricity-production-wind</td>\n",
       "      <td>wind-example</td>\n",
       "      <td>Electricity production, wind</td>\n",
       "      <td>NaN</td>\n",
       "      <td>kilowatt hour</td>\n",
       "    </tr>\n",
       "    <tr>\n",
       "      <th>...</th>\n",
       "      <td>...</td>\n",
       "      <td>...</td>\n",
       "      <td>...</td>\n",
       "      <td>...</td>\n",
       "      <td>...</td>\n",
       "      <td>...</td>\n",
       "      <td>...</td>\n",
       "      <td>...</td>\n",
       "    </tr>\n",
       "    <tr>\n",
       "      <th>1615</th>\n",
       "      <td>2198-12-31 19:58:48</td>\n",
       "      <td>1.115600e-08</td>\n",
       "      <td>25968</td>\n",
       "      <td>electricity-production-coal</td>\n",
       "      <td>wind-example</td>\n",
       "      <td>Electricity production, coal</td>\n",
       "      <td>NaN</td>\n",
       "      <td>kilowatt hour</td>\n",
       "    </tr>\n",
       "    <tr>\n",
       "      <th>1616</th>\n",
       "      <td>2200-01-01 01:48:00</td>\n",
       "      <td>3.305324e-10</td>\n",
       "      <td>25968</td>\n",
       "      <td>electricity-production-coal</td>\n",
       "      <td>wind-example</td>\n",
       "      <td>Electricity production, coal</td>\n",
       "      <td>NaN</td>\n",
       "      <td>kilowatt hour</td>\n",
       "    </tr>\n",
       "    <tr>\n",
       "      <th>1617</th>\n",
       "      <td>2200-01-01 01:48:00</td>\n",
       "      <td>3.305324e-10</td>\n",
       "      <td>25968</td>\n",
       "      <td>electricity-production-coal</td>\n",
       "      <td>wind-example</td>\n",
       "      <td>Electricity production, coal</td>\n",
       "      <td>NaN</td>\n",
       "      <td>kilowatt hour</td>\n",
       "    </tr>\n",
       "    <tr>\n",
       "      <th>1618</th>\n",
       "      <td>2201-01-01 07:37:12</td>\n",
       "      <td>3.631540e-12</td>\n",
       "      <td>25968</td>\n",
       "      <td>electricity-production-coal</td>\n",
       "      <td>wind-example</td>\n",
       "      <td>Electricity production, coal</td>\n",
       "      <td>NaN</td>\n",
       "      <td>kilowatt hour</td>\n",
       "    </tr>\n",
       "    <tr>\n",
       "      <th>1619</th>\n",
       "      <td>2201-01-01 07:37:12</td>\n",
       "      <td>3.631540e-12</td>\n",
       "      <td>25968</td>\n",
       "      <td>electricity-production-coal</td>\n",
       "      <td>wind-example</td>\n",
       "      <td>Electricity production, coal</td>\n",
       "      <td>NaN</td>\n",
       "      <td>kilowatt hour</td>\n",
       "    </tr>\n",
       "  </tbody>\n",
       "</table>\n",
       "<p>1620 rows × 8 columns</p>\n",
       "</div>"
      ],
      "text/plain": [
       "                    date        amount  activity                         code  \\\n",
       "0    2010-01-01 00:00:00  1.000000e+00     25969  electricity-production-wind   \n",
       "1    2019-01-01 04:22:48  1.782706e-04     25969  electricity-production-wind   \n",
       "2    2020-01-01 10:12:00  1.782706e-04     25969  electricity-production-wind   \n",
       "3    2020-12-31 16:01:12  1.782706e-04     25969  electricity-production-wind   \n",
       "4    2028-01-01 08:45:36  3.178041e-08     25969  electricity-production-wind   \n",
       "...                  ...           ...       ...                          ...   \n",
       "1615 2198-12-31 19:58:48  1.115600e-08     25968  electricity-production-coal   \n",
       "1616 2200-01-01 01:48:00  3.305324e-10     25968  electricity-production-coal   \n",
       "1617 2200-01-01 01:48:00  3.305324e-10     25968  electricity-production-coal   \n",
       "1618 2201-01-01 07:37:12  3.631540e-12     25968  electricity-production-coal   \n",
       "1619 2201-01-01 07:37:12  3.631540e-12     25968  electricity-production-coal   \n",
       "\n",
       "          database                          name type           unit  \n",
       "0     wind-example  Electricity production, wind  NaN  kilowatt hour  \n",
       "1     wind-example  Electricity production, wind  NaN  kilowatt hour  \n",
       "2     wind-example  Electricity production, wind  NaN  kilowatt hour  \n",
       "3     wind-example  Electricity production, wind  NaN  kilowatt hour  \n",
       "4     wind-example  Electricity production, wind  NaN  kilowatt hour  \n",
       "...            ...                           ...  ...            ...  \n",
       "1615  wind-example  Electricity production, coal  NaN  kilowatt hour  \n",
       "1616  wind-example  Electricity production, coal  NaN  kilowatt hour  \n",
       "1617  wind-example  Electricity production, coal  NaN  kilowatt hour  \n",
       "1618  wind-example  Electricity production, coal  NaN  kilowatt hour  \n",
       "1619  wind-example  Electricity production, coal  NaN  kilowatt hour  \n",
       "\n",
       "[1620 rows x 8 columns]"
      ]
     },
     "execution_count": 26,
     "metadata": {},
     "output_type": "execute_result"
    }
   ],
   "source": [
    "df_tl_energy"
   ]
  },
  {
   "cell_type": "code",
   "execution_count": 27,
   "id": "93b64cfd-3309-4ce5-b0fd-151420e287cb",
   "metadata": {},
   "outputs": [
    {
     "name": "stderr",
     "output_type": "stream",
     "text": [
      "/tmp/ipykernel_1706180/508802167.py:1: SettingWithCopyWarning: \n",
      "A value is trying to be set on a copy of a slice from a DataFrame.\n",
      "Try using .loc[row_indexer,col_indexer] = value instead\n",
      "\n",
      "See the caveats in the documentation: https://pandas.pydata.org/pandas-docs/stable/user_guide/indexing.html#returning-a-view-versus-a-copy\n",
      "  df_tl_energy['amount']  = df_tl_energy['amount']*1000\n"
     ]
    }
   ],
   "source": [
    "df_tl_energy['amount']  = df_tl_energy['amount']*1000"
   ]
  },
  {
   "cell_type": "code",
   "execution_count": 28,
   "id": "bdf8c18d-4670-4aaa-b47c-d04a5b0d087a",
   "metadata": {
    "scrolled": true
   },
   "outputs": [
    {
     "data": {
      "text/html": [
       "<div>\n",
       "<style scoped>\n",
       "    .dataframe tbody tr th:only-of-type {\n",
       "        vertical-align: middle;\n",
       "    }\n",
       "\n",
       "    .dataframe tbody tr th {\n",
       "        vertical-align: top;\n",
       "    }\n",
       "\n",
       "    .dataframe thead th {\n",
       "        text-align: right;\n",
       "    }\n",
       "</style>\n",
       "<table border=\"1\" class=\"dataframe\">\n",
       "  <thead>\n",
       "    <tr style=\"text-align: right;\">\n",
       "      <th></th>\n",
       "      <th>date</th>\n",
       "      <th>amount</th>\n",
       "      <th>activity</th>\n",
       "      <th>code</th>\n",
       "      <th>database</th>\n",
       "      <th>name</th>\n",
       "      <th>type</th>\n",
       "      <th>unit</th>\n",
       "    </tr>\n",
       "  </thead>\n",
       "  <tbody>\n",
       "    <tr>\n",
       "      <th>0</th>\n",
       "      <td>2010-01-01 00:00:00</td>\n",
       "      <td>1.000000e+03</td>\n",
       "      <td>25969</td>\n",
       "      <td>electricity-production-wind</td>\n",
       "      <td>wind-example</td>\n",
       "      <td>Electricity production, wind</td>\n",
       "      <td>NaN</td>\n",
       "      <td>1e-3 kilowatt hour</td>\n",
       "    </tr>\n",
       "    <tr>\n",
       "      <th>1</th>\n",
       "      <td>2019-01-01 04:22:48</td>\n",
       "      <td>1.782706e-01</td>\n",
       "      <td>25969</td>\n",
       "      <td>electricity-production-wind</td>\n",
       "      <td>wind-example</td>\n",
       "      <td>Electricity production, wind</td>\n",
       "      <td>NaN</td>\n",
       "      <td>1e-3 kilowatt hour</td>\n",
       "    </tr>\n",
       "    <tr>\n",
       "      <th>2</th>\n",
       "      <td>2020-01-01 10:12:00</td>\n",
       "      <td>1.782706e-01</td>\n",
       "      <td>25969</td>\n",
       "      <td>electricity-production-wind</td>\n",
       "      <td>wind-example</td>\n",
       "      <td>Electricity production, wind</td>\n",
       "      <td>NaN</td>\n",
       "      <td>1e-3 kilowatt hour</td>\n",
       "    </tr>\n",
       "    <tr>\n",
       "      <th>3</th>\n",
       "      <td>2020-12-31 16:01:12</td>\n",
       "      <td>1.782706e-01</td>\n",
       "      <td>25969</td>\n",
       "      <td>electricity-production-wind</td>\n",
       "      <td>wind-example</td>\n",
       "      <td>Electricity production, wind</td>\n",
       "      <td>NaN</td>\n",
       "      <td>1e-3 kilowatt hour</td>\n",
       "    </tr>\n",
       "    <tr>\n",
       "      <th>4</th>\n",
       "      <td>2028-01-01 08:45:36</td>\n",
       "      <td>3.178041e-05</td>\n",
       "      <td>25969</td>\n",
       "      <td>electricity-production-wind</td>\n",
       "      <td>wind-example</td>\n",
       "      <td>Electricity production, wind</td>\n",
       "      <td>NaN</td>\n",
       "      <td>1e-3 kilowatt hour</td>\n",
       "    </tr>\n",
       "    <tr>\n",
       "      <th>...</th>\n",
       "      <td>...</td>\n",
       "      <td>...</td>\n",
       "      <td>...</td>\n",
       "      <td>...</td>\n",
       "      <td>...</td>\n",
       "      <td>...</td>\n",
       "      <td>...</td>\n",
       "      <td>...</td>\n",
       "    </tr>\n",
       "    <tr>\n",
       "      <th>1615</th>\n",
       "      <td>2198-12-31 19:58:48</td>\n",
       "      <td>1.115600e-05</td>\n",
       "      <td>25968</td>\n",
       "      <td>electricity-production-coal</td>\n",
       "      <td>wind-example</td>\n",
       "      <td>Electricity production, coal</td>\n",
       "      <td>NaN</td>\n",
       "      <td>1e-3 kilowatt hour</td>\n",
       "    </tr>\n",
       "    <tr>\n",
       "      <th>1616</th>\n",
       "      <td>2200-01-01 01:48:00</td>\n",
       "      <td>3.305324e-07</td>\n",
       "      <td>25968</td>\n",
       "      <td>electricity-production-coal</td>\n",
       "      <td>wind-example</td>\n",
       "      <td>Electricity production, coal</td>\n",
       "      <td>NaN</td>\n",
       "      <td>1e-3 kilowatt hour</td>\n",
       "    </tr>\n",
       "    <tr>\n",
       "      <th>1617</th>\n",
       "      <td>2200-01-01 01:48:00</td>\n",
       "      <td>3.305324e-07</td>\n",
       "      <td>25968</td>\n",
       "      <td>electricity-production-coal</td>\n",
       "      <td>wind-example</td>\n",
       "      <td>Electricity production, coal</td>\n",
       "      <td>NaN</td>\n",
       "      <td>1e-3 kilowatt hour</td>\n",
       "    </tr>\n",
       "    <tr>\n",
       "      <th>1618</th>\n",
       "      <td>2201-01-01 07:37:12</td>\n",
       "      <td>3.631540e-09</td>\n",
       "      <td>25968</td>\n",
       "      <td>electricity-production-coal</td>\n",
       "      <td>wind-example</td>\n",
       "      <td>Electricity production, coal</td>\n",
       "      <td>NaN</td>\n",
       "      <td>1e-3 kilowatt hour</td>\n",
       "    </tr>\n",
       "    <tr>\n",
       "      <th>1619</th>\n",
       "      <td>2201-01-01 07:37:12</td>\n",
       "      <td>3.631540e-09</td>\n",
       "      <td>25968</td>\n",
       "      <td>electricity-production-coal</td>\n",
       "      <td>wind-example</td>\n",
       "      <td>Electricity production, coal</td>\n",
       "      <td>NaN</td>\n",
       "      <td>1e-3 kilowatt hour</td>\n",
       "    </tr>\n",
       "  </tbody>\n",
       "</table>\n",
       "<p>1620 rows × 8 columns</p>\n",
       "</div>"
      ],
      "text/plain": [
       "                    date        amount  activity                         code  \\\n",
       "0    2010-01-01 00:00:00  1.000000e+03     25969  electricity-production-wind   \n",
       "1    2019-01-01 04:22:48  1.782706e-01     25969  electricity-production-wind   \n",
       "2    2020-01-01 10:12:00  1.782706e-01     25969  electricity-production-wind   \n",
       "3    2020-12-31 16:01:12  1.782706e-01     25969  electricity-production-wind   \n",
       "4    2028-01-01 08:45:36  3.178041e-05     25969  electricity-production-wind   \n",
       "...                  ...           ...       ...                          ...   \n",
       "1615 2198-12-31 19:58:48  1.115600e-05     25968  electricity-production-coal   \n",
       "1616 2200-01-01 01:48:00  3.305324e-07     25968  electricity-production-coal   \n",
       "1617 2200-01-01 01:48:00  3.305324e-07     25968  electricity-production-coal   \n",
       "1618 2201-01-01 07:37:12  3.631540e-09     25968  electricity-production-coal   \n",
       "1619 2201-01-01 07:37:12  3.631540e-09     25968  electricity-production-coal   \n",
       "\n",
       "          database                          name type                unit  \n",
       "0     wind-example  Electricity production, wind  NaN  1e-3 kilowatt hour  \n",
       "1     wind-example  Electricity production, wind  NaN  1e-3 kilowatt hour  \n",
       "2     wind-example  Electricity production, wind  NaN  1e-3 kilowatt hour  \n",
       "3     wind-example  Electricity production, wind  NaN  1e-3 kilowatt hour  \n",
       "4     wind-example  Electricity production, wind  NaN  1e-3 kilowatt hour  \n",
       "...            ...                           ...  ...                 ...  \n",
       "1615  wind-example  Electricity production, coal  NaN  1e-3 kilowatt hour  \n",
       "1616  wind-example  Electricity production, coal  NaN  1e-3 kilowatt hour  \n",
       "1617  wind-example  Electricity production, coal  NaN  1e-3 kilowatt hour  \n",
       "1618  wind-example  Electricity production, coal  NaN  1e-3 kilowatt hour  \n",
       "1619  wind-example  Electricity production, coal  NaN  1e-3 kilowatt hour  \n",
       "\n",
       "[1620 rows x 8 columns]"
      ]
     },
     "execution_count": 28,
     "metadata": {},
     "output_type": "execute_result"
    }
   ],
   "source": [
    " df_tl_energy.replace({'unit': {'kilowatt hour' :'1e-3 kilowatt hour'}})"
   ]
  },
  {
   "cell_type": "code",
   "execution_count": 29,
   "id": "a5a353f8-eb36-41c3-ae8d-1acc86029a96",
   "metadata": {},
   "outputs": [
    {
     "data": {
      "text/plain": [
       "(-0.1, 1.0)"
      ]
     },
     "execution_count": 29,
     "metadata": {},
     "output_type": "execute_result"
    },
    {
     "data": {
      "image/png": "[encoded data removed]",
      "text/plain": [
       "<Figure size 640x480 with 1 Axes>"
      ]
     },
     "metadata": {},
     "output_type": "display_data"
    }
   ],
   "source": [
    "axes = sb.scatterplot(\n",
    "    x = \"date\",\n",
    "    y = 'amount',\n",
    "    hue = 'name',\n",
    "    data = df_tl_energy,\n",
    ")\n",
    "axes.set_ylabel(\"$10^{-3}$ kilowatt hour\")\n",
    "axes.set_xlabel(\"Time\")\n",
    "axes.set_xlim(xmin=np.datetime64(40, 'Y') ,xmax=np.datetime64(110, 'Y'))\n",
    "axes.set_ylim(ymax=1, ymin=-0.1)\n",
    "# axes.set_title(\"C02 emissions over time_ FU : 1 kWh produced by electricity mix\") #right after being put in service"
   ]
  },
  {
   "cell_type": "markdown",
   "id": "e0ab0ba5-7aab-4946-8b7e-ae8cb1235758",
   "metadata": {},
   "source": [
    "# Wind turbine system w/ some ei process"
   ]
  },
  {
   "cell_type": "code",
   "execution_count": 30,
   "id": "590178c6-7702-41c9-811f-3e4875eea332",
   "metadata": {},
   "outputs": [
    {
     "data": {
      "text/plain": [
       "['market group for electricity, medium voltage' (kilowatt hour, RER, None),\n",
       " 'market for electricity, medium voltage, aluminium industry' (kilowatt hour, IAI Area, Russia & RER w/o EU27 & EFTA, None)]"
      ]
     },
     "execution_count": 30,
     "metadata": {},
     "output_type": "execute_result"
    }
   ],
   "source": [
    "ei.search('market group electricity medium voltage RER')"
   ]
  },
  {
   "cell_type": "code",
   "execution_count": 31,
   "id": "c3b691c4-46dd-49c0-8293-3af05eefe4a8",
   "metadata": {},
   "outputs": [],
   "source": [
    "act = bd.get_node(name=\"market group for electricity, medium voltage\", location='RER')"
   ]
  },
  {
   "cell_type": "code",
   "execution_count": 32,
   "id": "3df55e1f-1f61-43a4-aa91-981d1497dc5f",
   "metadata": {},
   "outputs": [
    {
     "data": {
      "text/plain": [
       "'17c9d0c2c72446bf59393f60c096a588'"
      ]
     },
     "execution_count": 32,
     "metadata": {},
     "output_type": "execute_result"
    }
   ],
   "source": [
    "act['code']"
   ]
  },
  {
   "cell_type": "code",
   "execution_count": 33,
   "id": "5792238f-145e-4630-882e-63eb7a1dc41e",
   "metadata": {},
   "outputs": [],
   "source": [
    "del bd.databases['wind-example']"
   ]
  },
  {
   "cell_type": "code",
   "execution_count": 34,
   "id": "850d4c7b-9d6d-4b8a-83b2-5c95b64d6e50",
   "metadata": {
    "tags": []
   },
   "outputs": [
    {
     "name": "stdout",
     "output_type": "stream",
     "text": [
      "Not able to determine geocollections for all datasets. This database is not ready for regionalization.\n"
     ]
    },
    {
     "name": "stderr",
     "output_type": "stream",
     "text": [
      "100%|██████████| 8/8 [00:00<00:00, 105186.31it/s]"
     ]
    },
    {
     "name": "stdout",
     "output_type": "stream",
     "text": [
      "Vacuuming database \n"
     ]
    },
    {
     "name": "stderr",
     "output_type": "stream",
     "text": [
      "\n"
     ]
    }
   ],
   "source": [
    "generated_electricity_over_lifetime = 4.38e9 / 1e3 # Amount of electricity generated by a wind turbine over its lifetime in kWh\n",
    "share_of_wind_in_electricity_mix = 0.8\n",
    "LT = 25 # 25 years lifetime of a wind turbine\n",
    "\n",
    "bd.Database('wind-example').write({\n",
    "    ('wind-example', \"CO2\"): {\n",
    "        \"type\": \"emission\",\n",
    "        \"name\": \"carbon dioxide\",\n",
    "        \"unit\": \"kilogram\",\n",
    "    },\n",
    "    ('wind-example', \"coal\"): {\n",
    "        \"type\": \"emission\",\n",
    "        \"name\": \"coal\",\n",
    "        \"unit\": \"kilogram\",\n",
    "    },\n",
    "    ('wind-example', 'electricity-mix'): {\n",
    "        'name': 'Electricity mix',\n",
    "        'unit': 'kilowatt hour',\n",
    "        'exchanges': [\n",
    "            {\n",
    "                'input': ('wind-example', 'electricity-production-wind'),\n",
    "                'amount': share_of_wind_in_electricity_mix,\n",
    "                'type': 'technosphere',\n",
    "            },\n",
    "            {\n",
    "                'input': ('wind-example', 'electricity-production-coal'),\n",
    "                'amount': 1-share_of_wind_in_electricity_mix,\n",
    "                'type': 'technosphere',\n",
    "            },\n",
    "        ]\n",
    "    },\n",
    "    ('wind-example', 'electricity-production-coal'): {\n",
    "        'name': 'Electricity production, coal',\n",
    "        'unit': 'kilowatt hour',\n",
    "        'exchanges': [\n",
    "            {\n",
    "                'input': ('wind-example', 'coal'),\n",
    "                'amount': 1,\n",
    "                'type': 'biosphere',\n",
    "            },\n",
    "            {\n",
    "                'input': ('wind-example', 'CO2'),\n",
    "                'amount': 0.9,\n",
    "                'type': 'biosphere',\n",
    "            },\n",
    "        ]\n",
    "    },\n",
    "    ('wind-example', 'electricity-production-wind'): {\n",
    "        'name': 'Electricity production, wind',\n",
    "        'unit': 'kilowatt hour',\n",
    "        'exchanges': [\n",
    "            {\n",
    "                'input': ('wind-example', 'electricity-production-wind'),\n",
    "                'amount': 1,\n",
    "                'type': 'production',\n",
    "            },\n",
    "            {\n",
    "                'input': ('wind-example', 'operational-wind-turbine'),\n",
    "                'amount': 1/generated_electricity_over_lifetime,\n",
    "                'type': 'technosphere',\n",
    "                'temporal_distribution' : inc_wind_turbine_energy_relative, #we would prefer to use the absolute TD, but for some reason the graph reversal isn't working with it...\n",
    "            },\n",
    "            # maybe add maintenance, oil changes, ...\n",
    "        ]\n",
    "    },\n",
    "        ('wind-example', 'operational-wind-turbine'): {\n",
    "        'name': \"End-of-life, wind turbine\",\n",
    "        'unit': 'unit',\n",
    "        'exchanges': [\n",
    "            {\n",
    "                'input': ('wind-example', 'wind-turbine-construction'),\n",
    "                'amount': 1,\n",
    "                'type': 'technosphere',\n",
    "                'temporal_distribution': bwt.easy_timedelta_distribution(\n",
    "                    start=-1,\n",
    "                    end=1,\n",
    "                    resolution=\"Y\",  # M for months, Y for years, etc.\n",
    "                    steps=3,\n",
    "                    # kind = '',\n",
    "                    # param = 0\n",
    "                ),\n",
    "            },\n",
    "            {\n",
    "                'input': ('wind-example', 'eol-wind'),\n",
    "                'amount': 1,\n",
    "                'type': 'technosphere',\n",
    "                'temporal_distribution': bwt.easy_timedelta_distribution(\n",
    "                    start=20,\n",
    "                    end=30,\n",
    "                    resolution=\"Y\",  # M for months, Y for years, etc.\n",
    "                    steps=11,\n",
    "                    kind = 'normal',\n",
    "                    param = 0.1\n",
    "                )\n",
    "            },\n",
    "            # CO2 emissions corresponding to maintenance\n",
    "            # {\n",
    "            #     'input': ('wind-example', 'CO2'),\n",
    "            #     'amount': 100,\n",
    "            #     'type': 'biosphere',\n",
    "            # }\n",
    "        ]\n",
    "    },\n",
    "    ('wind-example', 'wind-turbine-construction'): {\n",
    "        'name': 'Wind turbine construction',\n",
    "        'unit': 'unit',\n",
    "        'exchanges': [\n",
    "            {\n",
    "                'input': ('wind-example', 'wind-turbine-construction'),\n",
    "                'amount': 1,\n",
    "                'type': 'production',\n",
    "            },\n",
    "            {\n",
    "                'input': ('ecoinvent-3.9-cutoff', act['code']),\n",
    "                'amount': 2e5,\n",
    "                'type': 'technosphere',\n",
    "            },\n",
    "            {\n",
    "                'input': ('wind-example', 'CO2'),\n",
    "                'amount': 1e6,\n",
    "                'type': 'biosphere',\n",
    "            } #taking into account CO2 of machine and materials, not just operational energy\n",
    "        ]\n",
    "    },\n",
    "    ('wind-example', 'eol-wind'): {\n",
    "        'name': \"End-of-life, wind turbine\",\n",
    "        'unit': 'unit',\n",
    "        'exchanges': [\n",
    "            {\n",
    "                'input': ('wind-example', 'eol-wind'),\n",
    "                'amount': 1,\n",
    "                'type': 'production',\n",
    "            },\n",
    "            {\n",
    "                'input': ('wind-example', 'CO2'),\n",
    "                'amount': 1e5,\n",
    "                'type': 'biosphere',\n",
    "            }, #taking into account CO2 of machines and materials, not just operational energy\n",
    "            {\n",
    "                'input' : ('ecoinvent-3.9-cutoff', act['code']),\n",
    "                'amount': 1e5,\n",
    "                'type': 'technosphere',\n",
    "            }\n",
    "        ]\n",
    "    },\n",
    "})"
   ]
  },
  {
   "cell_type": "code",
   "execution_count": 35,
   "id": "e7e5573a-ee83-47de-a414-85d51323d552",
   "metadata": {
    "tags": []
   },
   "outputs": [
    {
     "data": {
      "text/plain": [
       "0.25114154738048455"
      ]
     },
     "execution_count": 35,
     "metadata": {},
     "output_type": "execute_result"
    }
   ],
   "source": [
    "lca = bc.LCA({('wind-example', 'electricity-production-wind'): 1}, (\"GWP\", \"wind-example\"))\n",
    "lca.lci()\n",
    "lca.lcia()\n",
    "lca.score"
   ]
  },
  {
   "cell_type": "code",
   "execution_count": 36,
   "id": "70632cdd-b03a-4c1c-80a4-5758c1f2a355",
   "metadata": {
    "tags": []
   },
   "outputs": [
    {
     "name": "stdout",
     "output_type": "stream",
     "text": [
      "Starting graph traversal\n",
      "Calculation count: 3\n"
     ]
    }
   ],
   "source": [
    "tlca = bwt.TemporalisLCA(lca, starting_datetime=np.datetime64(40, 'Y'))"
   ]
  },
  {
   "cell_type": "code",
   "execution_count": 39,
   "id": "4fc9f5f2-ba3c-49c9-ace6-7c87cfe3f950",
   "metadata": {
    "tags": []
   },
   "outputs": [],
   "source": [
    "tl = tlca.build_timeline()"
   ]
  },
  {
   "cell_type": "code",
   "execution_count": 40,
   "id": "6bb53309-ff79-4856-9e8d-97ff16e52d6b",
   "metadata": {
    "tags": []
   },
   "outputs": [],
   "source": [
    "df = tl.build_dataframe()\n",
    "# df = tl.add_metadata_to_dataframe(['wind-example'])"
   ]
  },
  {
   "cell_type": "code",
   "execution_count": 49,
   "id": "ac8b20f6-6b1b-4f11-897f-a1eb13e981e8",
   "metadata": {},
   "outputs": [
    {
     "data": {
      "text/html": [
       "<div>\n",
       "<style scoped>\n",
       "    .dataframe tbody tr th:only-of-type {\n",
       "        vertical-align: middle;\n",
       "    }\n",
       "\n",
       "    .dataframe tbody tr th {\n",
       "        vertical-align: top;\n",
       "    }\n",
       "\n",
       "    .dataframe thead th {\n",
       "        text-align: right;\n",
       "    }\n",
       "</style>\n",
       "<table border=\"1\" class=\"dataframe\">\n",
       "  <thead>\n",
       "    <tr style=\"text-align: right;\">\n",
       "      <th></th>\n",
       "      <th>date</th>\n",
       "      <th>amount</th>\n",
       "      <th>flow</th>\n",
       "      <th>activity</th>\n",
       "    </tr>\n",
       "  </thead>\n",
       "  <tbody>\n",
       "    <tr>\n",
       "      <th>0</th>\n",
       "      <td>2019-01-01 04:22:48</td>\n",
       "      <td>1.114191e-03</td>\n",
       "      <td>25965</td>\n",
       "      <td>25971</td>\n",
       "    </tr>\n",
       "    <tr>\n",
       "      <th>1</th>\n",
       "      <td>2020-01-01 10:12:00</td>\n",
       "      <td>1.114191e-03</td>\n",
       "      <td>25965</td>\n",
       "      <td>25971</td>\n",
       "    </tr>\n",
       "    <tr>\n",
       "      <th>2</th>\n",
       "      <td>2020-12-31 16:01:12</td>\n",
       "      <td>1.114191e-03</td>\n",
       "      <td>25965</td>\n",
       "      <td>25971</td>\n",
       "    </tr>\n",
       "    <tr>\n",
       "      <th>3</th>\n",
       "      <td>2028-12-31 14:34:48</td>\n",
       "      <td>2.214279e-03</td>\n",
       "      <td>25965</td>\n",
       "      <td>25971</td>\n",
       "    </tr>\n",
       "    <tr>\n",
       "      <th>4</th>\n",
       "      <td>2029-12-31 20:24:00</td>\n",
       "      <td>2.214279e-03</td>\n",
       "      <td>25965</td>\n",
       "      <td>25971</td>\n",
       "    </tr>\n",
       "    <tr>\n",
       "      <th>...</th>\n",
       "      <td>...</td>\n",
       "      <td>...</td>\n",
       "      <td>...</td>\n",
       "      <td>...</td>\n",
       "    </tr>\n",
       "    <tr>\n",
       "      <th>100</th>\n",
       "      <td>2116-01-01 16:55:12</td>\n",
       "      <td>1.157922e-03</td>\n",
       "      <td>25965</td>\n",
       "      <td>25972</td>\n",
       "    </tr>\n",
       "    <tr>\n",
       "      <th>101</th>\n",
       "      <td>2116-12-31 22:44:24</td>\n",
       "      <td>2.583674e-04</td>\n",
       "      <td>25965</td>\n",
       "      <td>25972</td>\n",
       "    </tr>\n",
       "    <tr>\n",
       "      <th>102</th>\n",
       "      <td>2118-01-01 04:33:36</td>\n",
       "      <td>2.120808e-05</td>\n",
       "      <td>25965</td>\n",
       "      <td>25972</td>\n",
       "    </tr>\n",
       "    <tr>\n",
       "      <th>103</th>\n",
       "      <td>2119-01-01 10:22:48</td>\n",
       "      <td>6.404287e-07</td>\n",
       "      <td>25965</td>\n",
       "      <td>25972</td>\n",
       "    </tr>\n",
       "    <tr>\n",
       "      <th>104</th>\n",
       "      <td>2120-01-01 16:12:00</td>\n",
       "      <td>7.114520e-09</td>\n",
       "      <td>25965</td>\n",
       "      <td>25972</td>\n",
       "    </tr>\n",
       "  </tbody>\n",
       "</table>\n",
       "<p>105 rows × 4 columns</p>\n",
       "</div>"
      ],
      "text/plain": [
       "                   date        amount   flow  activity\n",
       "0   2019-01-01 04:22:48  1.114191e-03  25965     25971\n",
       "1   2020-01-01 10:12:00  1.114191e-03  25965     25971\n",
       "2   2020-12-31 16:01:12  1.114191e-03  25965     25971\n",
       "3   2028-12-31 14:34:48  2.214279e-03  25965     25971\n",
       "4   2029-12-31 20:24:00  2.214279e-03  25965     25971\n",
       "..                  ...           ...    ...       ...\n",
       "100 2116-01-01 16:55:12  1.157922e-03  25965     25972\n",
       "101 2116-12-31 22:44:24  2.583674e-04  25965     25972\n",
       "102 2118-01-01 04:33:36  2.120808e-05  25965     25972\n",
       "103 2119-01-01 10:22:48  6.404287e-07  25965     25972\n",
       "104 2120-01-01 16:12:00  7.114520e-09  25965     25972\n",
       "\n",
       "[105 rows x 4 columns]"
      ]
     },
     "execution_count": 49,
     "metadata": {},
     "output_type": "execute_result"
    }
   ],
   "source": [
    "df"
   ]
  },
  {
   "cell_type": "code",
   "execution_count": 53,
   "id": "4b004620-4cc6-41bd-83ca-ce009f965c35",
   "metadata": {},
   "outputs": [
    {
     "data": {
      "text/plain": [
       "'Wind turbine construction' (unit, None, None)"
      ]
     },
     "execution_count": 53,
     "metadata": {},
     "output_type": "execute_result"
    }
   ],
   "source": [
    "bd.get_activity(id=25971)"
   ]
  },
  {
   "cell_type": "code",
   "execution_count": 43,
   "id": "7a13b406-ddd9-4739-a8b1-3950e64ab3ac",
   "metadata": {},
   "outputs": [],
   "source": [
    "df2  = bd.Database('ecoinvent').nodes_to_dataframe()"
   ]
  },
  {
   "cell_type": "code",
   "execution_count": 44,
   "id": "6798f1e6-8d2a-4eb0-9fdb-3a5bb00019e3",
   "metadata": {},
   "outputs": [
    {
     "ename": "KeyError",
     "evalue": "'activity'",
     "output_type": "error",
     "traceback": [
      "\u001b[0;31m---------------------------------------------------------------------------\u001b[0m",
      "\u001b[0;31mKeyError\u001b[0m                                  Traceback (most recent call last)",
      "\u001b[0;32m/tmp/ipykernel_1706180/2168020672.py\u001b[0m in \u001b[0;36m?\u001b[0;34m()\u001b[0m\n\u001b[1;32m      1\u001b[0m axes = sb.scatterplot(\n\u001b[1;32m      2\u001b[0m     \u001b[0mx\u001b[0m \u001b[0;34m=\u001b[0m \u001b[0;34m\"date\"\u001b[0m\u001b[0;34m,\u001b[0m\u001b[0;34m\u001b[0m\u001b[0;34m\u001b[0m\u001b[0m\n\u001b[1;32m      3\u001b[0m     \u001b[0my\u001b[0m \u001b[0;34m=\u001b[0m \u001b[0;34m'amount'\u001b[0m\u001b[0;34m,\u001b[0m\u001b[0;34m\u001b[0m\u001b[0;34m\u001b[0m\u001b[0m\n\u001b[1;32m      4\u001b[0m     \u001b[0mhue\u001b[0m \u001b[0;34m=\u001b[0m \u001b[0;34m'activity_name'\u001b[0m\u001b[0;34m,\u001b[0m\u001b[0;34m\u001b[0m\u001b[0;34m\u001b[0m\u001b[0m\n\u001b[0;32m----> 5\u001b[0;31m     data = df.merge(\n\u001b[0m\u001b[1;32m      6\u001b[0m         \u001b[0mdf2\u001b[0m\u001b[0;34m.\u001b[0m\u001b[0mrename\u001b[0m\u001b[0;34m(\u001b[0m\u001b[0mcolumns\u001b[0m\u001b[0;34m=\u001b[0m\u001b[0;34m{\u001b[0m\u001b[0;34m'id'\u001b[0m \u001b[0;34m:\u001b[0m \u001b[0;34m'activity'\u001b[0m\u001b[0;34m}\u001b[0m\u001b[0;34m)\u001b[0m\u001b[0;34m,\u001b[0m \u001b[0mon\u001b[0m\u001b[0;34m=\u001b[0m\u001b[0;34m'activity'\u001b[0m\u001b[0;34m\u001b[0m\u001b[0;34m\u001b[0m\u001b[0m\n\u001b[1;32m      7\u001b[0m     )\n\u001b[1;32m      8\u001b[0m )\n",
      "\u001b[0;32m/opt/tljh/user/envs/autumn_school/lib/python3.11/site-packages/pandas/core/frame.py\u001b[0m in \u001b[0;36m?\u001b[0;34m(self, right, how, on, left_on, right_on, left_index, right_index, sort, suffixes, copy, indicator, validate)\u001b[0m\n\u001b[1;32m  10486\u001b[0m         \u001b[0mvalidate\u001b[0m\u001b[0;34m:\u001b[0m \u001b[0mMergeValidate\u001b[0m \u001b[0;34m|\u001b[0m \u001b[0;32mNone\u001b[0m \u001b[0;34m=\u001b[0m \u001b[0;32mNone\u001b[0m\u001b[0;34m,\u001b[0m\u001b[0;34m\u001b[0m\u001b[0;34m\u001b[0m\u001b[0m\n\u001b[1;32m  10487\u001b[0m     ) -> DataFrame:\n\u001b[1;32m  10488\u001b[0m         \u001b[0;32mfrom\u001b[0m \u001b[0mpandas\u001b[0m\u001b[0;34m.\u001b[0m\u001b[0mcore\u001b[0m\u001b[0;34m.\u001b[0m\u001b[0mreshape\u001b[0m\u001b[0;34m.\u001b[0m\u001b[0mmerge\u001b[0m \u001b[0;32mimport\u001b[0m \u001b[0mmerge\u001b[0m\u001b[0;34m\u001b[0m\u001b[0;34m\u001b[0m\u001b[0m\n\u001b[1;32m  10489\u001b[0m \u001b[0;34m\u001b[0m\u001b[0m\n\u001b[0;32m> 10490\u001b[0;31m         return merge(\n\u001b[0m\u001b[1;32m  10491\u001b[0m             \u001b[0mself\u001b[0m\u001b[0;34m,\u001b[0m\u001b[0;34m\u001b[0m\u001b[0;34m\u001b[0m\u001b[0m\n\u001b[1;32m  10492\u001b[0m             \u001b[0mright\u001b[0m\u001b[0;34m,\u001b[0m\u001b[0;34m\u001b[0m\u001b[0;34m\u001b[0m\u001b[0m\n\u001b[1;32m  10493\u001b[0m             \u001b[0mhow\u001b[0m\u001b[0;34m=\u001b[0m\u001b[0mhow\u001b[0m\u001b[0;34m,\u001b[0m\u001b[0;34m\u001b[0m\u001b[0;34m\u001b[0m\u001b[0m\n",
      "\u001b[0;32m/opt/tljh/user/envs/autumn_school/lib/python3.11/site-packages/pandas/core/reshape/merge.py\u001b[0m in \u001b[0;36m?\u001b[0;34m(left, right, how, on, left_on, right_on, left_index, right_index, sort, suffixes, copy, indicator, validate)\u001b[0m\n\u001b[1;32m    165\u001b[0m             \u001b[0mvalidate\u001b[0m\u001b[0;34m=\u001b[0m\u001b[0mvalidate\u001b[0m\u001b[0;34m,\u001b[0m\u001b[0;34m\u001b[0m\u001b[0;34m\u001b[0m\u001b[0m\n\u001b[1;32m    166\u001b[0m             \u001b[0mcopy\u001b[0m\u001b[0;34m=\u001b[0m\u001b[0mcopy\u001b[0m\u001b[0;34m,\u001b[0m\u001b[0;34m\u001b[0m\u001b[0;34m\u001b[0m\u001b[0m\n\u001b[1;32m    167\u001b[0m         )\n\u001b[1;32m    168\u001b[0m     \u001b[0;32melse\u001b[0m\u001b[0;34m:\u001b[0m\u001b[0;34m\u001b[0m\u001b[0;34m\u001b[0m\u001b[0m\n\u001b[0;32m--> 169\u001b[0;31m         op = _MergeOperation(\n\u001b[0m\u001b[1;32m    170\u001b[0m             \u001b[0mleft_df\u001b[0m\u001b[0;34m,\u001b[0m\u001b[0;34m\u001b[0m\u001b[0;34m\u001b[0m\u001b[0m\n\u001b[1;32m    171\u001b[0m             \u001b[0mright_df\u001b[0m\u001b[0;34m,\u001b[0m\u001b[0;34m\u001b[0m\u001b[0;34m\u001b[0m\u001b[0m\n\u001b[1;32m    172\u001b[0m             \u001b[0mhow\u001b[0m\u001b[0;34m=\u001b[0m\u001b[0mhow\u001b[0m\u001b[0;34m,\u001b[0m\u001b[0;34m\u001b[0m\u001b[0;34m\u001b[0m\u001b[0m\n",
      "\u001b[0;32m/opt/tljh/user/envs/autumn_school/lib/python3.11/site-packages/pandas/core/reshape/merge.py\u001b[0m in \u001b[0;36m?\u001b[0;34m(self, left, right, how, on, left_on, right_on, left_index, right_index, sort, suffixes, indicator, validate)\u001b[0m\n\u001b[1;32m    787\u001b[0m             \u001b[0mself\u001b[0m\u001b[0;34m.\u001b[0m\u001b[0mright_join_keys\u001b[0m\u001b[0;34m,\u001b[0m\u001b[0;34m\u001b[0m\u001b[0;34m\u001b[0m\u001b[0m\n\u001b[1;32m    788\u001b[0m             \u001b[0mself\u001b[0m\u001b[0;34m.\u001b[0m\u001b[0mjoin_names\u001b[0m\u001b[0;34m,\u001b[0m\u001b[0;34m\u001b[0m\u001b[0;34m\u001b[0m\u001b[0m\n\u001b[1;32m    789\u001b[0m             \u001b[0mleft_drop\u001b[0m\u001b[0;34m,\u001b[0m\u001b[0;34m\u001b[0m\u001b[0;34m\u001b[0m\u001b[0m\n\u001b[1;32m    790\u001b[0m             \u001b[0mright_drop\u001b[0m\u001b[0;34m,\u001b[0m\u001b[0;34m\u001b[0m\u001b[0;34m\u001b[0m\u001b[0m\n\u001b[0;32m--> 791\u001b[0;31m         ) = self._get_merge_keys()\n\u001b[0m\u001b[1;32m    792\u001b[0m \u001b[0;34m\u001b[0m\u001b[0m\n\u001b[1;32m    793\u001b[0m         \u001b[0;32mif\u001b[0m \u001b[0mleft_drop\u001b[0m\u001b[0;34m:\u001b[0m\u001b[0;34m\u001b[0m\u001b[0;34m\u001b[0m\u001b[0m\n\u001b[1;32m    794\u001b[0m             \u001b[0mself\u001b[0m\u001b[0;34m.\u001b[0m\u001b[0mleft\u001b[0m \u001b[0;34m=\u001b[0m \u001b[0mself\u001b[0m\u001b[0;34m.\u001b[0m\u001b[0mleft\u001b[0m\u001b[0;34m.\u001b[0m\u001b[0m_drop_labels_or_levels\u001b[0m\u001b[0;34m(\u001b[0m\u001b[0mleft_drop\u001b[0m\u001b[0;34m)\u001b[0m\u001b[0;34m\u001b[0m\u001b[0;34m\u001b[0m\u001b[0m\n",
      "\u001b[0;32m/opt/tljh/user/envs/autumn_school/lib/python3.11/site-packages/pandas/core/reshape/merge.py\u001b[0m in \u001b[0;36m?\u001b[0;34m(self)\u001b[0m\n\u001b[1;32m   1265\u001b[0m                         \u001b[0;31m# Then we're either Hashable or a wrong-length arraylike,\u001b[0m\u001b[0;34m\u001b[0m\u001b[0;34m\u001b[0m\u001b[0m\n\u001b[1;32m   1266\u001b[0m                         \u001b[0;31m#  the latter of which will raise\u001b[0m\u001b[0;34m\u001b[0m\u001b[0;34m\u001b[0m\u001b[0m\n\u001b[1;32m   1267\u001b[0m                         \u001b[0mrk\u001b[0m \u001b[0;34m=\u001b[0m \u001b[0mcast\u001b[0m\u001b[0;34m(\u001b[0m\u001b[0mHashable\u001b[0m\u001b[0;34m,\u001b[0m \u001b[0mrk\u001b[0m\u001b[0;34m)\u001b[0m\u001b[0;34m\u001b[0m\u001b[0;34m\u001b[0m\u001b[0m\n\u001b[1;32m   1268\u001b[0m                         \u001b[0;32mif\u001b[0m \u001b[0mrk\u001b[0m \u001b[0;32mis\u001b[0m \u001b[0;32mnot\u001b[0m \u001b[0;32mNone\u001b[0m\u001b[0;34m:\u001b[0m\u001b[0;34m\u001b[0m\u001b[0;34m\u001b[0m\u001b[0m\n\u001b[0;32m-> 1269\u001b[0;31m                             \u001b[0mright_keys\u001b[0m\u001b[0;34m.\u001b[0m\u001b[0mappend\u001b[0m\u001b[0;34m(\u001b[0m\u001b[0mright\u001b[0m\u001b[0;34m.\u001b[0m\u001b[0m_get_label_or_level_values\u001b[0m\u001b[0;34m(\u001b[0m\u001b[0mrk\u001b[0m\u001b[0;34m)\u001b[0m\u001b[0;34m)\u001b[0m\u001b[0;34m\u001b[0m\u001b[0;34m\u001b[0m\u001b[0m\n\u001b[0m\u001b[1;32m   1270\u001b[0m                         \u001b[0;32melse\u001b[0m\u001b[0;34m:\u001b[0m\u001b[0;34m\u001b[0m\u001b[0;34m\u001b[0m\u001b[0m\n\u001b[1;32m   1271\u001b[0m                             \u001b[0;31m# work-around for merge_asof(right_index=True)\u001b[0m\u001b[0;34m\u001b[0m\u001b[0;34m\u001b[0m\u001b[0m\n\u001b[1;32m   1272\u001b[0m                             \u001b[0mright_keys\u001b[0m\u001b[0;34m.\u001b[0m\u001b[0mappend\u001b[0m\u001b[0;34m(\u001b[0m\u001b[0mright\u001b[0m\u001b[0;34m.\u001b[0m\u001b[0mindex\u001b[0m\u001b[0;34m.\u001b[0m\u001b[0m_values\u001b[0m\u001b[0;34m)\u001b[0m\u001b[0;34m\u001b[0m\u001b[0;34m\u001b[0m\u001b[0m\n",
      "\u001b[0;32m/opt/tljh/user/envs/autumn_school/lib/python3.11/site-packages/pandas/core/generic.py\u001b[0m in \u001b[0;36m?\u001b[0;34m(self, key, axis)\u001b[0m\n\u001b[1;32m   1840\u001b[0m             \u001b[0mvalues\u001b[0m \u001b[0;34m=\u001b[0m \u001b[0mself\u001b[0m\u001b[0;34m.\u001b[0m\u001b[0mxs\u001b[0m\u001b[0;34m(\u001b[0m\u001b[0mkey\u001b[0m\u001b[0;34m,\u001b[0m \u001b[0maxis\u001b[0m\u001b[0;34m=\u001b[0m\u001b[0mother_axes\u001b[0m\u001b[0;34m[\u001b[0m\u001b[0;36m0\u001b[0m\u001b[0;34m]\u001b[0m\u001b[0;34m)\u001b[0m\u001b[0;34m.\u001b[0m\u001b[0m_values\u001b[0m\u001b[0;34m\u001b[0m\u001b[0;34m\u001b[0m\u001b[0m\n\u001b[1;32m   1841\u001b[0m         \u001b[0;32melif\u001b[0m \u001b[0mself\u001b[0m\u001b[0;34m.\u001b[0m\u001b[0m_is_level_reference\u001b[0m\u001b[0;34m(\u001b[0m\u001b[0mkey\u001b[0m\u001b[0;34m,\u001b[0m \u001b[0maxis\u001b[0m\u001b[0;34m=\u001b[0m\u001b[0maxis\u001b[0m\u001b[0;34m)\u001b[0m\u001b[0;34m:\u001b[0m\u001b[0;34m\u001b[0m\u001b[0;34m\u001b[0m\u001b[0m\n\u001b[1;32m   1842\u001b[0m             \u001b[0mvalues\u001b[0m \u001b[0;34m=\u001b[0m \u001b[0mself\u001b[0m\u001b[0;34m.\u001b[0m\u001b[0maxes\u001b[0m\u001b[0;34m[\u001b[0m\u001b[0maxis\u001b[0m\u001b[0;34m]\u001b[0m\u001b[0;34m.\u001b[0m\u001b[0mget_level_values\u001b[0m\u001b[0;34m(\u001b[0m\u001b[0mkey\u001b[0m\u001b[0;34m)\u001b[0m\u001b[0;34m.\u001b[0m\u001b[0m_values\u001b[0m\u001b[0;34m\u001b[0m\u001b[0;34m\u001b[0m\u001b[0m\n\u001b[1;32m   1843\u001b[0m         \u001b[0;32melse\u001b[0m\u001b[0;34m:\u001b[0m\u001b[0;34m\u001b[0m\u001b[0;34m\u001b[0m\u001b[0m\n\u001b[0;32m-> 1844\u001b[0;31m             \u001b[0;32mraise\u001b[0m \u001b[0mKeyError\u001b[0m\u001b[0;34m(\u001b[0m\u001b[0mkey\u001b[0m\u001b[0;34m)\u001b[0m\u001b[0;34m\u001b[0m\u001b[0;34m\u001b[0m\u001b[0m\n\u001b[0m\u001b[1;32m   1845\u001b[0m \u001b[0;34m\u001b[0m\u001b[0m\n\u001b[1;32m   1846\u001b[0m         \u001b[0;31m# Check for duplicates\u001b[0m\u001b[0;34m\u001b[0m\u001b[0;34m\u001b[0m\u001b[0m\n\u001b[1;32m   1847\u001b[0m         \u001b[0;32mif\u001b[0m \u001b[0mvalues\u001b[0m\u001b[0;34m.\u001b[0m\u001b[0mndim\u001b[0m \u001b[0;34m>\u001b[0m \u001b[0;36m1\u001b[0m\u001b[0;34m:\u001b[0m\u001b[0;34m\u001b[0m\u001b[0;34m\u001b[0m\u001b[0m\n",
      "\u001b[0;31mKeyError\u001b[0m: 'activity'"
     ]
    }
   ],
   "source": [
    "axes = sb.scatterplot(\n",
    "    x = \"date\",\n",
    "    y = 'amount',\n",
    "    hue = 'activity_name',\n",
    "    data = df.merge(\n",
    "        df2.rename(columns={'id' : 'activity'}), on='activity'\n",
    "    )\n",
    ")\n",
    "axes.set_ylabel(\"$CO_{2}$ emissions (kg)\")\n",
    "axes.set_xlabel(\"Time\")\n",
    "axes.set_xlim(xmin=np.datetime64(40, 'Y'), xmax=np.datetime64(110, 'Y'))\n",
    "axes.set_ylim(ymax=0.05)\n",
    "axes.set_title(\"C02 emissions over time_ FU : 1 kWh produced by electricity mix\") #right after being put in service"
   ]
  },
  {
   "cell_type": "code",
   "execution_count": 54,
   "id": "baa1b09e-80d2-4ff7-9ed7-1f332a2ac6a1",
   "metadata": {},
   "outputs": [
    {
     "name": "stderr",
     "output_type": "stream",
     "text": [
      "/opt/tljh/user/envs/autumn_school/lib/python3.11/site-packages/bw_temporalis/lca.py:135: UserWarning: This functionality is experimental, and will change.\n",
      "You have been warned.\n",
      "  warnings.warn(\n"
     ]
    },
    {
     "data": {
      "text/html": [
       "<div>\n",
       "<style scoped>\n",
       "    .dataframe tbody tr th:only-of-type {\n",
       "        vertical-align: middle;\n",
       "    }\n",
       "\n",
       "    .dataframe tbody tr th {\n",
       "        vertical-align: top;\n",
       "    }\n",
       "\n",
       "    .dataframe thead th {\n",
       "        text-align: right;\n",
       "    }\n",
       "</style>\n",
       "<table border=\"1\" class=\"dataframe\">\n",
       "  <thead>\n",
       "    <tr style=\"text-align: right;\">\n",
       "      <th></th>\n",
       "      <th>date</th>\n",
       "      <th>amount</th>\n",
       "      <th>activity</th>\n",
       "      <th>code</th>\n",
       "      <th>database</th>\n",
       "      <th>name</th>\n",
       "      <th>type</th>\n",
       "      <th>unit</th>\n",
       "    </tr>\n",
       "  </thead>\n",
       "  <tbody>\n",
       "    <tr>\n",
       "      <th>0</th>\n",
       "      <td>2010-01-01 00:00:00</td>\n",
       "      <td>1.000000e+00</td>\n",
       "      <td>25969</td>\n",
       "      <td>electricity-production-wind</td>\n",
       "      <td>wind-example</td>\n",
       "      <td>Electricity production, wind</td>\n",
       "      <td>NaN</td>\n",
       "      <td>kilowatt hour</td>\n",
       "    </tr>\n",
       "    <tr>\n",
       "      <th>1</th>\n",
       "      <td>2019-01-01 04:22:48</td>\n",
       "      <td>1.114191e-09</td>\n",
       "      <td>25971</td>\n",
       "      <td>wind-turbine-construction</td>\n",
       "      <td>wind-example</td>\n",
       "      <td>Wind turbine construction</td>\n",
       "      <td>NaN</td>\n",
       "      <td>unit</td>\n",
       "    </tr>\n",
       "    <tr>\n",
       "      <th>2</th>\n",
       "      <td>2020-01-01 10:12:00</td>\n",
       "      <td>1.114191e-09</td>\n",
       "      <td>25971</td>\n",
       "      <td>wind-turbine-construction</td>\n",
       "      <td>wind-example</td>\n",
       "      <td>Wind turbine construction</td>\n",
       "      <td>NaN</td>\n",
       "      <td>unit</td>\n",
       "    </tr>\n",
       "    <tr>\n",
       "      <th>3</th>\n",
       "      <td>2020-12-31 16:01:12</td>\n",
       "      <td>1.114191e-09</td>\n",
       "      <td>25971</td>\n",
       "      <td>wind-turbine-construction</td>\n",
       "      <td>wind-example</td>\n",
       "      <td>Wind turbine construction</td>\n",
       "      <td>NaN</td>\n",
       "      <td>unit</td>\n",
       "    </tr>\n",
       "    <tr>\n",
       "      <th>4</th>\n",
       "      <td>2028-12-31 14:34:48</td>\n",
       "      <td>2.214279e-09</td>\n",
       "      <td>25971</td>\n",
       "      <td>wind-turbine-construction</td>\n",
       "      <td>wind-example</td>\n",
       "      <td>Wind turbine construction</td>\n",
       "      <td>NaN</td>\n",
       "      <td>unit</td>\n",
       "    </tr>\n",
       "    <tr>\n",
       "      <th>...</th>\n",
       "      <td>...</td>\n",
       "      <td>...</td>\n",
       "      <td>...</td>\n",
       "      <td>...</td>\n",
       "      <td>...</td>\n",
       "      <td>...</td>\n",
       "      <td>...</td>\n",
       "      <td>...</td>\n",
       "    </tr>\n",
       "    <tr>\n",
       "      <th>109</th>\n",
       "      <td>2116-01-01 16:55:12</td>\n",
       "      <td>1.157922e-08</td>\n",
       "      <td>25972</td>\n",
       "      <td>eol-wind</td>\n",
       "      <td>wind-example</td>\n",
       "      <td>End-of-life, wind turbine</td>\n",
       "      <td>NaN</td>\n",
       "      <td>unit</td>\n",
       "    </tr>\n",
       "    <tr>\n",
       "      <th>110</th>\n",
       "      <td>2116-12-31 22:44:24</td>\n",
       "      <td>2.583674e-09</td>\n",
       "      <td>25972</td>\n",
       "      <td>eol-wind</td>\n",
       "      <td>wind-example</td>\n",
       "      <td>End-of-life, wind turbine</td>\n",
       "      <td>NaN</td>\n",
       "      <td>unit</td>\n",
       "    </tr>\n",
       "    <tr>\n",
       "      <th>111</th>\n",
       "      <td>2118-01-01 04:33:36</td>\n",
       "      <td>2.120808e-10</td>\n",
       "      <td>25972</td>\n",
       "      <td>eol-wind</td>\n",
       "      <td>wind-example</td>\n",
       "      <td>End-of-life, wind turbine</td>\n",
       "      <td>NaN</td>\n",
       "      <td>unit</td>\n",
       "    </tr>\n",
       "    <tr>\n",
       "      <th>112</th>\n",
       "      <td>2119-01-01 10:22:48</td>\n",
       "      <td>6.404287e-12</td>\n",
       "      <td>25972</td>\n",
       "      <td>eol-wind</td>\n",
       "      <td>wind-example</td>\n",
       "      <td>End-of-life, wind turbine</td>\n",
       "      <td>NaN</td>\n",
       "      <td>unit</td>\n",
       "    </tr>\n",
       "    <tr>\n",
       "      <th>113</th>\n",
       "      <td>2120-01-01 16:12:00</td>\n",
       "      <td>7.114520e-14</td>\n",
       "      <td>25972</td>\n",
       "      <td>eol-wind</td>\n",
       "      <td>wind-example</td>\n",
       "      <td>End-of-life, wind turbine</td>\n",
       "      <td>NaN</td>\n",
       "      <td>unit</td>\n",
       "    </tr>\n",
       "  </tbody>\n",
       "</table>\n",
       "<p>114 rows × 8 columns</p>\n",
       "</div>"
      ],
      "text/plain": [
       "                   date        amount  activity                         code  \\\n",
       "0   2010-01-01 00:00:00  1.000000e+00     25969  electricity-production-wind   \n",
       "1   2019-01-01 04:22:48  1.114191e-09     25971    wind-turbine-construction   \n",
       "2   2020-01-01 10:12:00  1.114191e-09     25971    wind-turbine-construction   \n",
       "3   2020-12-31 16:01:12  1.114191e-09     25971    wind-turbine-construction   \n",
       "4   2028-12-31 14:34:48  2.214279e-09     25971    wind-turbine-construction   \n",
       "..                  ...           ...       ...                          ...   \n",
       "109 2116-01-01 16:55:12  1.157922e-08     25972                     eol-wind   \n",
       "110 2116-12-31 22:44:24  2.583674e-09     25972                     eol-wind   \n",
       "111 2118-01-01 04:33:36  2.120808e-10     25972                     eol-wind   \n",
       "112 2119-01-01 10:22:48  6.404287e-12     25972                     eol-wind   \n",
       "113 2120-01-01 16:12:00  7.114520e-14     25972                     eol-wind   \n",
       "\n",
       "         database                          name type           unit  \n",
       "0    wind-example  Electricity production, wind  NaN  kilowatt hour  \n",
       "1    wind-example     Wind turbine construction  NaN           unit  \n",
       "2    wind-example     Wind turbine construction  NaN           unit  \n",
       "3    wind-example     Wind turbine construction  NaN           unit  \n",
       "4    wind-example     Wind turbine construction  NaN           unit  \n",
       "..            ...                           ...  ...            ...  \n",
       "109  wind-example     End-of-life, wind turbine  NaN           unit  \n",
       "110  wind-example     End-of-life, wind turbine  NaN           unit  \n",
       "111  wind-example     End-of-life, wind turbine  NaN           unit  \n",
       "112  wind-example     End-of-life, wind turbine  NaN           unit  \n",
       "113  wind-example     End-of-life, wind turbine  NaN           unit  \n",
       "\n",
       "[114 rows x 8 columns]"
      ]
     },
     "execution_count": 54,
     "metadata": {},
     "output_type": "execute_result"
    }
   ],
   "source": [
    "df_tl_energy_w_ei = build_timeline_processes(tlca, 'wind-example')\n",
    "df_tl_energy_w_ei"
   ]
  },
  {
   "cell_type": "code",
   "execution_count": 55,
   "id": "09e57b41-375b-4495-94c2-491b46e27faf",
   "metadata": {},
   "outputs": [],
   "source": [
    "df_tl_energy_w_ei['amount']  = df_tl_energy['amount']*1000"
   ]
  },
  {
   "cell_type": "code",
   "execution_count": 56,
   "id": "97163008-b806-4be9-9306-ea1b48d7f148",
   "metadata": {
    "scrolled": true
   },
   "outputs": [
    {
     "data": {
      "text/html": [
       "<div>\n",
       "<style scoped>\n",
       "    .dataframe tbody tr th:only-of-type {\n",
       "        vertical-align: middle;\n",
       "    }\n",
       "\n",
       "    .dataframe tbody tr th {\n",
       "        vertical-align: top;\n",
       "    }\n",
       "\n",
       "    .dataframe thead th {\n",
       "        text-align: right;\n",
       "    }\n",
       "</style>\n",
       "<table border=\"1\" class=\"dataframe\">\n",
       "  <thead>\n",
       "    <tr style=\"text-align: right;\">\n",
       "      <th></th>\n",
       "      <th>date</th>\n",
       "      <th>amount</th>\n",
       "      <th>activity</th>\n",
       "      <th>code</th>\n",
       "      <th>database</th>\n",
       "      <th>name</th>\n",
       "      <th>type</th>\n",
       "      <th>unit</th>\n",
       "    </tr>\n",
       "  </thead>\n",
       "  <tbody>\n",
       "    <tr>\n",
       "      <th>0</th>\n",
       "      <td>2010-01-01 00:00:00</td>\n",
       "      <td>1000000.000000</td>\n",
       "      <td>25969</td>\n",
       "      <td>electricity-production-wind</td>\n",
       "      <td>wind-example</td>\n",
       "      <td>Electricity production, wind</td>\n",
       "      <td>NaN</td>\n",
       "      <td>1e-3 kilowatt hour</td>\n",
       "    </tr>\n",
       "    <tr>\n",
       "      <th>1</th>\n",
       "      <td>2019-01-01 04:22:48</td>\n",
       "      <td>178.270616</td>\n",
       "      <td>25971</td>\n",
       "      <td>wind-turbine-construction</td>\n",
       "      <td>wind-example</td>\n",
       "      <td>Wind turbine construction</td>\n",
       "      <td>NaN</td>\n",
       "      <td>unit</td>\n",
       "    </tr>\n",
       "    <tr>\n",
       "      <th>2</th>\n",
       "      <td>2020-01-01 10:12:00</td>\n",
       "      <td>178.270616</td>\n",
       "      <td>25971</td>\n",
       "      <td>wind-turbine-construction</td>\n",
       "      <td>wind-example</td>\n",
       "      <td>Wind turbine construction</td>\n",
       "      <td>NaN</td>\n",
       "      <td>unit</td>\n",
       "    </tr>\n",
       "    <tr>\n",
       "      <th>3</th>\n",
       "      <td>2020-12-31 16:01:12</td>\n",
       "      <td>178.270616</td>\n",
       "      <td>25971</td>\n",
       "      <td>wind-turbine-construction</td>\n",
       "      <td>wind-example</td>\n",
       "      <td>Wind turbine construction</td>\n",
       "      <td>NaN</td>\n",
       "      <td>unit</td>\n",
       "    </tr>\n",
       "    <tr>\n",
       "      <th>4</th>\n",
       "      <td>2028-12-31 14:34:48</td>\n",
       "      <td>0.031780</td>\n",
       "      <td>25971</td>\n",
       "      <td>wind-turbine-construction</td>\n",
       "      <td>wind-example</td>\n",
       "      <td>Wind turbine construction</td>\n",
       "      <td>NaN</td>\n",
       "      <td>unit</td>\n",
       "    </tr>\n",
       "    <tr>\n",
       "      <th>...</th>\n",
       "      <td>...</td>\n",
       "      <td>...</td>\n",
       "      <td>...</td>\n",
       "      <td>...</td>\n",
       "      <td>...</td>\n",
       "      <td>...</td>\n",
       "      <td>...</td>\n",
       "      <td>...</td>\n",
       "    </tr>\n",
       "    <tr>\n",
       "      <th>109</th>\n",
       "      <td>2116-01-01 16:55:12</td>\n",
       "      <td>0.163080</td>\n",
       "      <td>25972</td>\n",
       "      <td>eol-wind</td>\n",
       "      <td>wind-example</td>\n",
       "      <td>End-of-life, wind turbine</td>\n",
       "      <td>NaN</td>\n",
       "      <td>unit</td>\n",
       "    </tr>\n",
       "    <tr>\n",
       "      <th>110</th>\n",
       "      <td>2116-12-31 22:44:24</td>\n",
       "      <td>0.000866</td>\n",
       "      <td>25972</td>\n",
       "      <td>eol-wind</td>\n",
       "      <td>wind-example</td>\n",
       "      <td>End-of-life, wind turbine</td>\n",
       "      <td>NaN</td>\n",
       "      <td>unit</td>\n",
       "    </tr>\n",
       "    <tr>\n",
       "      <th>111</th>\n",
       "      <td>2118-01-01 04:33:36</td>\n",
       "      <td>0.004846</td>\n",
       "      <td>25972</td>\n",
       "      <td>eol-wind</td>\n",
       "      <td>wind-example</td>\n",
       "      <td>End-of-life, wind turbine</td>\n",
       "      <td>NaN</td>\n",
       "      <td>unit</td>\n",
       "    </tr>\n",
       "    <tr>\n",
       "      <th>112</th>\n",
       "      <td>2119-01-01 10:22:48</td>\n",
       "      <td>2405.525022</td>\n",
       "      <td>25972</td>\n",
       "      <td>eol-wind</td>\n",
       "      <td>wind-example</td>\n",
       "      <td>End-of-life, wind turbine</td>\n",
       "      <td>NaN</td>\n",
       "      <td>unit</td>\n",
       "    </tr>\n",
       "    <tr>\n",
       "      <th>113</th>\n",
       "      <td>2120-01-01 16:12:00</td>\n",
       "      <td>6.979510</td>\n",
       "      <td>25972</td>\n",
       "      <td>eol-wind</td>\n",
       "      <td>wind-example</td>\n",
       "      <td>End-of-life, wind turbine</td>\n",
       "      <td>NaN</td>\n",
       "      <td>unit</td>\n",
       "    </tr>\n",
       "  </tbody>\n",
       "</table>\n",
       "<p>114 rows × 8 columns</p>\n",
       "</div>"
      ],
      "text/plain": [
       "                   date          amount  activity  \\\n",
       "0   2010-01-01 00:00:00  1000000.000000     25969   \n",
       "1   2019-01-01 04:22:48      178.270616     25971   \n",
       "2   2020-01-01 10:12:00      178.270616     25971   \n",
       "3   2020-12-31 16:01:12      178.270616     25971   \n",
       "4   2028-12-31 14:34:48        0.031780     25971   \n",
       "..                  ...             ...       ...   \n",
       "109 2116-01-01 16:55:12        0.163080     25972   \n",
       "110 2116-12-31 22:44:24        0.000866     25972   \n",
       "111 2118-01-01 04:33:36        0.004846     25972   \n",
       "112 2119-01-01 10:22:48     2405.525022     25972   \n",
       "113 2120-01-01 16:12:00        6.979510     25972   \n",
       "\n",
       "                            code      database                          name  \\\n",
       "0    electricity-production-wind  wind-example  Electricity production, wind   \n",
       "1      wind-turbine-construction  wind-example     Wind turbine construction   \n",
       "2      wind-turbine-construction  wind-example     Wind turbine construction   \n",
       "3      wind-turbine-construction  wind-example     Wind turbine construction   \n",
       "4      wind-turbine-construction  wind-example     Wind turbine construction   \n",
       "..                           ...           ...                           ...   \n",
       "109                     eol-wind  wind-example     End-of-life, wind turbine   \n",
       "110                     eol-wind  wind-example     End-of-life, wind turbine   \n",
       "111                     eol-wind  wind-example     End-of-life, wind turbine   \n",
       "112                     eol-wind  wind-example     End-of-life, wind turbine   \n",
       "113                     eol-wind  wind-example     End-of-life, wind turbine   \n",
       "\n",
       "    type                unit  \n",
       "0    NaN  1e-3 kilowatt hour  \n",
       "1    NaN                unit  \n",
       "2    NaN                unit  \n",
       "3    NaN                unit  \n",
       "4    NaN                unit  \n",
       "..   ...                 ...  \n",
       "109  NaN                unit  \n",
       "110  NaN                unit  \n",
       "111  NaN                unit  \n",
       "112  NaN                unit  \n",
       "113  NaN                unit  \n",
       "\n",
       "[114 rows x 8 columns]"
      ]
     },
     "execution_count": 56,
     "metadata": {},
     "output_type": "execute_result"
    }
   ],
   "source": [
    " df_tl_energy_w_ei.replace({'unit': {'kilowatt hour' :'1e-3 kilowatt hour'}})"
   ]
  },
  {
   "cell_type": "code",
   "execution_count": 57,
   "id": "6cbbc1ef-513b-4527-b689-e30acf36633b",
   "metadata": {},
   "outputs": [
    {
     "data": {
      "text/plain": [
       "(-0.1, 1.0)"
      ]
     },
     "execution_count": 57,
     "metadata": {},
     "output_type": "execute_result"
    },
    {
     "data": {
      "image/png": "[encoded data removed]",
      "text/plain": [
       "<Figure size 640x480 with 1 Axes>"
      ]
     },
     "metadata": {},
     "output_type": "display_data"
    }
   ],
   "source": [
    "axes = sb.scatterplot(\n",
    "    x = \"date\",\n",
    "    y = 'amount',\n",
    "    hue = 'name',\n",
    "    data = df_tl_energy_w_ei,\n",
    ")\n",
    "axes.set_ylabel(\"$10^{-3}$ kilowatt hour\")\n",
    "axes.set_xlabel(\"Time\")\n",
    "axes.set_xlim(xmin=np.datetime64(40, 'Y') ,xmax=np.datetime64(110, 'Y'))\n",
    "axes.set_ylim(ymax=1, ymin=-0.1)\n",
    "# axes.set_title(\"C02 emissions over time_ FU : 1 kWh produced by electricity mix\") #right after being put in service"
   ]
  },
  {
   "cell_type": "code",
   "execution_count": null,
   "id": "c2634448-d33c-49fd-bacb-9d311bf3d340",
   "metadata": {},
   "outputs": [],
   "source": []
  },
  {
   "cell_type": "code",
   "execution_count": null,
   "id": "04a546c5-77d1-4fba-a8e3-ba7bf25bc3f9",
   "metadata": {},
   "outputs": [],
   "source": []
  },
  {
   "cell_type": "code",
   "execution_count": null,
   "id": "d09b1b9c-0db2-4589-bc8f-27537aca19c8",
   "metadata": {},
   "outputs": [],
   "source": []
  },
  {
   "cell_type": "code",
   "execution_count": null,
   "id": "2fd13d50-b656-4f87-be5e-ba125b8ddecc",
   "metadata": {},
   "outputs": [],
   "source": []
  }
 ],
 "metadata": {
  "kernelspec": {
   "display_name": "Python [conda env:autumn_school]",
   "language": "python",
   "name": "conda-env-autumn_school-py"
  },
  "language_info": {
   "codemirror_mode": {
    "name": "ipython",
    "version": 3
   },
   "file_extension": ".py",
   "mimetype": "text/x-python",
   "name": "python",
   "nbconvert_exporter": "python",
   "pygments_lexer": "ipython3",
   "version": "3.11.6"
  }
 },
 "nbformat": 4,
 "nbformat_minor": 5
}
