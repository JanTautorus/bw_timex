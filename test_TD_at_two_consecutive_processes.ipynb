{
 "cells": [
  {
   "cell_type": "code",
   "execution_count": 1,
   "id": "initial_id",
   "metadata": {
    "collapsed": true
   },
   "outputs": [],
   "source": [
    "#import libraries\n",
    "from bw_temporalis import easy_timedelta_distribution, TemporalDistribution\n",
    "from edge_extractor import EdgeExtracter\n",
    "from medusa_tools import *\n",
    "import bw2data as bd\n",
    "import bw2calc as bc\n",
    "import numpy as np\n",
    "import pandas as pd"
   ]
  },
  {
   "cell_type": "markdown",
   "id": "02fa7aea",
   "metadata": {},
   "source": [
    "## Test with 2 connected TDs at two processes \n",
    "\n",
    "(see issue #6 https://github.com/TimoDiepers/tictac_lca/issues/6)"
   ]
  },
  {
   "attachments": {
    "image.png": {
     "image/png": "[encoded data removed]"
    }
   },
   "cell_type": "markdown",
   "id": "0ef91d5b",
   "metadata": {},
   "source": [
    "\n",
    "![image.png](attachment:image.png)"
   ]
  },
  {
   "cell_type": "code",
   "execution_count": 2,
   "id": "88c6f135",
   "metadata": {},
   "outputs": [],
   "source": [
    "#setup example\n",
    "bd.projects.set_current(\"test_abc\")\n"
   ]
  },
  {
   "cell_type": "code",
   "execution_count": 3,
   "id": "fc35276f",
   "metadata": {},
   "outputs": [
    {
     "name": "stderr",
     "output_type": "stream",
     "text": [
      "100%|██████████| 2/2 [00:00<?, ?it/s]"
     ]
    },
    {
     "name": "stderr",
     "output_type": "stream",
     "text": [
      "\n"
     ]
    },
    {
     "name": "stdout",
     "output_type": "stream",
     "text": [
      "Vacuuming database \n",
      "Not able to determine geocollections for all datasets. This database is not ready for regionalization.\n"
     ]
    },
    {
     "name": "stderr",
     "output_type": "stream",
     "text": [
      "100%|██████████| 1/1 [00:00<?, ?it/s]\n"
     ]
    },
    {
     "name": "stdout",
     "output_type": "stream",
     "text": [
      "Vacuuming database \n",
      "Not able to determine geocollections for all datasets. This database is not ready for regionalization.\n"
     ]
    },
    {
     "name": "stderr",
     "output_type": "stream",
     "text": [
      "100%|██████████| 1/1 [00:00<?, ?it/s]\n"
     ]
    },
    {
     "name": "stdout",
     "output_type": "stream",
     "text": [
      "Vacuuming database \n",
      "Not able to determine geocollections for all datasets. This database is not ready for regionalization.\n"
     ]
    },
    {
     "name": "stderr",
     "output_type": "stream",
     "text": [
      "100%|██████████| 2/2 [00:00<?, ?it/s]\n"
     ]
    },
    {
     "name": "stdout",
     "output_type": "stream",
     "text": [
      "Vacuuming database \n"
     ]
    }
   ],
   "source": [
    "bd.Database('temporalis-bio').write({\n",
    "    ('temporalis-bio', \"CO2\"): {\n",
    "        \"type\": \"emission\",\n",
    "        \"name\": \"carbon dioxide\",\n",
    "        \"temporalis code\": \"co2\",\n",
    "    },\n",
    "    ('temporalis-bio', \"CH4\"): {\n",
    "        \"type\": \"emission\",\n",
    "        \"name\": \"methane\",\n",
    "        \"temporalis code\": \"ch4\",\n",
    "    },\n",
    "})\n",
    "\n",
    "bd.Database('background_2022').write({\n",
    "    ('background_2022', 'C'): {\n",
    "    'name': 'process C',\n",
    "    \"location\": \"somewhere\",\n",
    "    'reference product': 'C',\n",
    "    'exchanges': [\n",
    "            {\n",
    "                'amount': 1,\n",
    "                'type': 'production',\n",
    "                'input': ('background_2022', 'C'),\n",
    "            },\n",
    "            {\n",
    "                'amount': 1,\n",
    "                'type': 'biosphere',\n",
    "                'input': ('temporalis-bio', 'CO2'),\n",
    "            },  ]},\n",
    "},\n",
    "\n",
    "        )\n",
    "\n",
    "bd.Database('background_2020').write({\n",
    "    ('background_2020', 'C'): {\n",
    "    'name': 'process C',\n",
    "    \"location\": \"somewhere\",\n",
    "    'reference product': 'C',\n",
    "    'exchanges': [\n",
    "            {\n",
    "                'amount': 1,\n",
    "                'type': 'production',\n",
    "                'input': ('background_2020', 'C'),\n",
    "            },\n",
    "            {\n",
    "                'amount': 2,\n",
    "                'type': 'biosphere',\n",
    "                'input': ('temporalis-bio', 'CO2'),\n",
    "            },  ]},\n",
    "},\n",
    "\n",
    "        )\n",
    "\n",
    "bd.Database('foreground').write({\n",
    "    ('foreground', 'A'): {\n",
    "        'name': 'process A',\n",
    "        \"location\": \"somewhere\",\n",
    "        'reference product': 'A',\n",
    "        'exchanges': [\n",
    "            {\n",
    "                'amount': 1,\n",
    "                'type': 'production',\n",
    "                'input': ('foreground', 'A'),\n",
    "            },\n",
    "            {\n",
    "                'amount': 1,\n",
    "                'type': 'technosphere',\n",
    "                'input': ('foreground', 'B'),\n",
    "                'temporal_distribution': TemporalDistribution(\n",
    "                    np.array([-4, -2], dtype='timedelta64[Y]'),\n",
    "                    np.array([0.5, 0.5])),  \n",
    "            },\n",
    "        ]\n",
    "    },\n",
    "    ('foreground', 'B'):\n",
    "    {\n",
    "        \"name\": \"process B\",\n",
    "        \"location\": \"somewhere\",\n",
    "        'reference product': 'B',\n",
    "        \"exchanges\": [\n",
    "             {\n",
    "                'amount': 1,\n",
    "                'type': 'technosphere',\n",
    "                'input': ('background_2022', 'C'),\n",
    "                'temporal_distribution': TemporalDistribution(\n",
    "                    np.array([-1], dtype='timedelta64[Y]'),\n",
    "                    np.array([1])), \n",
    "              }\n",
    "        ]\n",
    "\n",
    "    },\n",
    "})"
   ]
  },
  {
   "cell_type": "code",
   "execution_count": 4,
   "id": "3bb58c55",
   "metadata": {},
   "outputs": [
    {
     "name": "stdout",
     "output_type": "stream",
     "text": [
      "'process B' (None, somewhere, None)\n",
      "'process A' (None, somewhere, None)\n",
      "'process C' (None, somewhere, None)\n"
     ]
    }
   ],
   "source": [
    "for act in bd.Database(\"foreground\"):\n",
    "    print(act)\n",
    "    if \"temporal_distribution\" in act:\n",
    "        print(act[\"temporal_distribution\"].amount)\n",
    "        print(act[\"temporal_distribution\"].date)\n",
    "        \n",
    "\n",
    "for act in bd.Database(\"background_2022\"):\n",
    "    print(act)\n",
    "    if \"temporal_distribution\" in act:\n",
    "        print(act[\"temporal_distribution\"].amount)\n",
    "        print(act[\"temporal_distribution\"].date)"
   ]
  },
  {
   "cell_type": "markdown",
   "id": "4e8b479b",
   "metadata": {},
   "source": [
    "The TD on the exchange between B and A is not stored at the activity (see print above) but at the level of exchanges (see print below)"
   ]
  },
  {
   "cell_type": "code",
   "execution_count": 5,
   "id": "9f507a13",
   "metadata": {},
   "outputs": [
    {
     "name": "stdout",
     "output_type": "stream",
     "text": [
      "'process A' (None, somewhere, None)\n",
      "There is a temporal information for Exchange: 1 None 'process B' (None, somewhere, None) to 'process A' (None, somewhere, None)>\n",
      "[0.5 0.5]\n",
      "[-126227808  -63113904]\n",
      "'process B' (None, somewhere, None)\n",
      "There is a temporal information for Exchange: 1 None 'process C' (None, somewhere, None) to 'process B' (None, somewhere, None)>\n",
      "[1.]\n",
      "[-31556952]\n"
     ]
    }
   ],
   "source": [
    "for act in bd.Database(\"foreground\"):\n",
    "    for exc in act.exchanges():\n",
    "        if \"temporal_distribution\" in exc:\n",
    "            print(act)\n",
    "            print(f\"There is a temporal information for {exc}\")\n",
    "            print(exc[\"temporal_distribution\"].amount)\n",
    "            print(exc[\"temporal_distribution\"].date)"
   ]
  },
  {
   "cell_type": "code",
   "execution_count": 6,
   "id": "00b4f8bf",
   "metadata": {},
   "outputs": [],
   "source": [
    "bd.Method((\"GWP\", \"example\")).write([\n",
    "    (('temporalis-bio', \"CO2\"), 1),\n",
    "    (('temporalis-bio', \"CH4\"), 25),\n",
    "])"
   ]
  },
  {
   "cell_type": "code",
   "execution_count": 7,
   "id": "9c4913b7",
   "metadata": {},
   "outputs": [],
   "source": [
    "demand = {('foreground', 'A'): 1}\n",
    "gwp = ('GWP', 'example')"
   ]
  },
  {
   "cell_type": "code",
   "execution_count": 8,
   "id": "0ecb9c8b",
   "metadata": {},
   "outputs": [
    {
     "name": "stdout",
     "output_type": "stream",
     "text": [
      "Static LCA score: 1.0\n"
     ]
    }
   ],
   "source": [
    "slca = bc.LCA(demand, gwp)\n",
    "slca.lci()\n",
    "slca.lcia()\n",
    "print(f'Static LCA score: {slca.score}')"
   ]
  },
  {
   "cell_type": "markdown",
   "id": "20ea6d12",
   "metadata": {},
   "source": [
    "Medusa LCA"
   ]
  },
  {
   "cell_type": "code",
   "execution_count": 9,
   "id": "e5a7f7bb",
   "metadata": {},
   "outputs": [],
   "source": [
    "SKIPPABLE = [] #node.id for node in bd.Database('background_2020')] #+ [\n",
    "    #node.id for node in bd.Database('background_2022')\n",
    "#]\n",
    "\n",
    "def filter_function(database_id: int) -> bool:\n",
    "    return database_id in SKIPPABLE"
   ]
  },
  {
   "cell_type": "code",
   "execution_count": 10,
   "id": "b6bdd1dd",
   "metadata": {},
   "outputs": [
    {
     "name": "stdout",
     "output_type": "stream",
     "text": [
      "Starting graph traversal\n",
      "Calculation count: 2\n"
     ]
    },
    {
     "data": {
      "text/plain": [
       "[Edge(distribution=TemporalDistribution instance with 1 values and total: 1, leaf=False, consumer=-1, producer=167),\n",
       " Edge(distribution=TemporalDistribution instance with 2 values and total: 1, leaf=False, consumer=167, producer=168),\n",
       " Edge(distribution=TemporalDistribution instance with 2 values and total: 1, leaf=False, consumer=168, producer=165)]"
      ]
     },
     "execution_count": 10,
     "metadata": {},
     "output_type": "execute_result"
    }
   ],
   "source": [
    "eelca = EdgeExtracter(slca, edge_filter_function=filter_function)\n",
    "timeline = eelca.build_edge_timeline()\n",
    "timeline\n"
   ]
  },
  {
   "cell_type": "code",
   "execution_count": 11,
   "id": "ecbf47b1",
   "metadata": {},
   "outputs": [
    {
     "name": "stdout",
     "output_type": "stream",
     "text": [
      "dict_keys([datetime.datetime(2022, 1, 1, 0, 0), datetime.datetime(2020, 1, 1, 0, 0)])\n",
      "Warning: Reference date 2019-01-01 00:00:00 is lower than all provided dates. Data will be taken from closest higher .\n",
      "Warning: Reference date 2024-01-01 00:00:00 is higher than all provided dates. Data will be taken from the closest lower year.\n"
     ]
    },
    {
     "data": {
      "text/html": [
       "<div>\n",
       "<style scoped>\n",
       "    .dataframe tbody tr th:only-of-type {\n",
       "        vertical-align: middle;\n",
       "    }\n",
       "\n",
       "    .dataframe tbody tr th {\n",
       "        vertical-align: top;\n",
       "    }\n",
       "\n",
       "    .dataframe thead th {\n",
       "        text-align: right;\n",
       "    }\n",
       "</style>\n",
       "<table border=\"1\" class=\"dataframe\">\n",
       "  <thead>\n",
       "    <tr style=\"text-align: right;\">\n",
       "      <th></th>\n",
       "      <th>date</th>\n",
       "      <th>year</th>\n",
       "      <th>producer</th>\n",
       "      <th>producer_name</th>\n",
       "      <th>consumer</th>\n",
       "      <th>consumer_name</th>\n",
       "      <th>amount</th>\n",
       "      <th>interpolation_weights</th>\n",
       "    </tr>\n",
       "  </thead>\n",
       "  <tbody>\n",
       "    <tr>\n",
       "      <th>0</th>\n",
       "      <td>2019-01-01</td>\n",
       "      <td>2019</td>\n",
       "      <td>165</td>\n",
       "      <td>process C</td>\n",
       "      <td>168</td>\n",
       "      <td>process B</td>\n",
       "      <td>0.5</td>\n",
       "      <td>{2020: 1}</td>\n",
       "    </tr>\n",
       "    <tr>\n",
       "      <th>1</th>\n",
       "      <td>2020-01-01</td>\n",
       "      <td>2020</td>\n",
       "      <td>168</td>\n",
       "      <td>process B</td>\n",
       "      <td>167</td>\n",
       "      <td>process A</td>\n",
       "      <td>0.5</td>\n",
       "      <td>{2020: 1}</td>\n",
       "    </tr>\n",
       "    <tr>\n",
       "      <th>2</th>\n",
       "      <td>2021-01-01</td>\n",
       "      <td>2021</td>\n",
       "      <td>165</td>\n",
       "      <td>process C</td>\n",
       "      <td>168</td>\n",
       "      <td>process B</td>\n",
       "      <td>0.5</td>\n",
       "      <td>{2020: 0.4993160054719562, 2022: 0.50068399452...</td>\n",
       "    </tr>\n",
       "    <tr>\n",
       "      <th>3</th>\n",
       "      <td>2022-01-01</td>\n",
       "      <td>2022</td>\n",
       "      <td>168</td>\n",
       "      <td>process B</td>\n",
       "      <td>167</td>\n",
       "      <td>process A</td>\n",
       "      <td>0.5</td>\n",
       "      <td>{2022: 1}</td>\n",
       "    </tr>\n",
       "    <tr>\n",
       "      <th>4</th>\n",
       "      <td>2024-01-01</td>\n",
       "      <td>2024</td>\n",
       "      <td>167</td>\n",
       "      <td>process A</td>\n",
       "      <td>-1</td>\n",
       "      <td>-1</td>\n",
       "      <td>1.0</td>\n",
       "      <td>{2022: 1}</td>\n",
       "    </tr>\n",
       "  </tbody>\n",
       "</table>\n",
       "</div>"
      ],
      "text/plain": [
       "        date  year  producer producer_name  consumer consumer_name amount  \\\n",
       "0 2019-01-01  2019       165     process C       168     process B    0.5   \n",
       "1 2020-01-01  2020       168     process B       167     process A    0.5   \n",
       "2 2021-01-01  2021       165     process C       168     process B    0.5   \n",
       "3 2022-01-01  2022       168     process B       167     process A    0.5   \n",
       "4 2024-01-01  2024       167     process A        -1            -1    1.0   \n",
       "\n",
       "                               interpolation_weights  \n",
       "0                                          {2020: 1}  \n",
       "1                                          {2020: 1}  \n",
       "2  {2020: 0.4993160054719562, 2022: 0.50068399452...  \n",
       "3                                          {2022: 1}  \n",
       "4                                          {2022: 1}  "
      ]
     },
     "execution_count": 11,
     "metadata": {},
     "output_type": "execute_result"
    }
   ],
   "source": [
    "database_date_dict = {\n",
    "            datetime.strptime(\"2022\", \"%Y\"): 'background_2022',\n",
    "            datetime.strptime(\"2020\", \"%Y\"): 'background_2020',\n",
    "        }\n",
    "print(database_date_dict.keys())\n",
    "timeline_df = create_grouped_edge_dataframe(timeline, database_date_dict.keys(), interpolation_type=\"linear\")\n",
    "timeline_df"
   ]
  },
  {
   "cell_type": "code",
   "execution_count": 12,
   "id": "de066a44",
   "metadata": {},
   "outputs": [],
   "source": [
    "demand_timing_dict = create_demand_timing_dict(timeline_df, demand)\n",
    "\n",
    "dp = create_datapackage_from_edge_timeline(timeline_df, database_date_dict, demand_timing_dict)"
   ]
  },
  {
   "cell_type": "code",
   "execution_count": 13,
   "id": "6aa3f0a6",
   "metadata": {},
   "outputs": [
    {
     "data": {
      "text/plain": [
       "0.0"
      ]
     },
     "execution_count": 13,
     "metadata": {},
     "output_type": "execute_result"
    }
   ],
   "source": [
    "fu, data_objs, remapping = prepare_medusa_lca_inputs(demand=demand, demand_timing_dict=demand_timing_dict, method=gwp) \n",
    "lca = bc.LCA(fu, data_objs = data_objs + [dp], remapping_dicts=remapping)\n",
    "lca.lci()\n",
    "lca.lcia()\n",
    "lca.score"
   ]
  },
  {
   "cell_type": "markdown",
   "id": "90ed8c11",
   "metadata": {},
   "source": [
    "### Investigation of matrices"
   ]
  },
  {
   "cell_type": "code",
   "execution_count": 14,
   "id": "c5aa6844",
   "metadata": {},
   "outputs": [
    {
     "data": {
      "text/plain": [
       "array([[ 1.        ,  0.        ,  0.        , -1.        ,  0.        ,\n",
       "         0.        ,  0.        ,  0.        ,  0.        ,  0.        ,\n",
       "         0.        , -0.50068399,  0.        ],\n",
       "       [ 0.        ,  1.        ,  0.        ,  0.        ,  0.        ,\n",
       "         0.        ,  0.        ,  0.        ,  0.        , -1.        ,\n",
       "         0.        , -0.49931601,  0.        ],\n",
       "       [ 0.        ,  0.        ,  1.        ,  0.        ,  0.        ,\n",
       "         0.        ,  0.        ,  0.        ,  0.        ,  0.        ,\n",
       "         0.        ,  0.        ,  0.        ],\n",
       "       [ 0.        ,  0.        , -1.        ,  1.        ,  0.        ,\n",
       "         0.        ,  0.        ,  0.        ,  0.        ,  0.        ,\n",
       "         0.        ,  0.        ,  0.        ],\n",
       "       [ 0.        ,  0.        ,  0.        ,  0.        ,  1.        ,\n",
       "         0.        ,  0.        ,  0.        ,  0.        ,  0.        ,\n",
       "         0.        ,  0.        ,  0.        ],\n",
       "       [ 0.        ,  0.        ,  0.        ,  0.        ,  0.        ,\n",
       "         1.        ,  0.        ,  0.        ,  0.        ,  0.        ,\n",
       "         0.        ,  0.        ,  0.        ],\n",
       "       [ 0.        ,  0.        ,  0.        ,  0.        ,  0.        ,\n",
       "         0.        ,  1.        ,  0.        ,  0.        ,  0.        ,\n",
       "         0.        ,  0.        ,  0.        ],\n",
       "       [ 0.        ,  0.        ,  0.        ,  0.        ,  0.        ,\n",
       "         0.        ,  0.        ,  1.        ,  0.        ,  0.        ,\n",
       "         0.        ,  0.        ,  0.        ],\n",
       "       [ 0.        ,  0.        ,  0.        ,  0.        ,  0.        ,\n",
       "         0.        ,  0.        ,  0.        ,  1.        ,  0.        ,\n",
       "         0.        ,  0.        ,  0.        ],\n",
       "       [ 0.        ,  0.        ,  0.        ,  0.        ,  0.        ,\n",
       "         0.        ,  0.        ,  0.        ,  0.        ,  1.        ,\n",
       "         0.        ,  0.        ,  0.        ],\n",
       "       [ 0.        ,  0.        ,  0.        ,  0.        ,  0.        ,\n",
       "         0.        ,  0.        ,  0.        , -0.5       ,  0.        ,\n",
       "         1.        ,  0.        ,  0.        ],\n",
       "       [ 0.        ,  0.        ,  0.        ,  0.        ,  0.        ,\n",
       "         0.        ,  0.        ,  0.        ,  0.        ,  0.        ,\n",
       "         0.        ,  1.        ,  0.        ],\n",
       "       [ 0.        ,  0.        ,  0.        ,  0.        ,  0.        ,\n",
       "         0.        ,  0.        ,  0.        , -0.5       ,  0.        ,\n",
       "         0.        ,  0.        ,  1.        ]])"
      ]
     },
     "execution_count": 14,
     "metadata": {},
     "output_type": "execute_result"
    }
   ],
   "source": [
    "lca.technosphere_matrix.toarray()"
   ]
  },
  {
   "attachments": {
    "image-2.png": {
     "image/png": "[encoded data removed]"
    }
   },
   "cell_type": "markdown",
   "id": "2a501c0c",
   "metadata": {},
   "source": [
    "The problem is that the new inputs of C to the new exploded process copies of B are done for the time of C, in this case 2019 and 2021, instead of at the time of B, in this case 2020 and 2022 (column N and P). This leads to empty inputs from C for new process copies of B in 2020 and 2022, which is are the rows consumed by A, which results in a wrong LCIA score.\n",
    "\n",
    "![image-2.png](attachment:image-2.png)\n",
    "\n"
   ]
  },
  {
   "cell_type": "code",
   "execution_count": 15,
   "id": "6417b2aa",
   "metadata": {},
   "outputs": [],
   "source": [
    "df= pd.DataFrame(lca.technosphere_matrix.toarray()) #for excel visualization\n",
    "df.to_csv(\"test.csv\", index=False)"
   ]
  },
  {
   "cell_type": "code",
   "execution_count": 16,
   "id": "4f0c6914",
   "metadata": {},
   "outputs": [],
   "source": [
    "lca.load_lci_data(nonsquare_ok=True)"
   ]
  },
  {
   "cell_type": "code",
   "execution_count": 17,
   "id": "c35d196e",
   "metadata": {},
   "outputs": [
    {
     "data": {
      "text/plain": [
       "{(0, 165),\n",
       " (1, 166),\n",
       " (2, 167),\n",
       " (3, 168),\n",
       " (4, 1652019),\n",
       " (5, 1652021),\n",
       " (6, 1672020),\n",
       " (7, 1672022),\n",
       " (8, 1672024),\n",
       " (9, 1682019),\n",
       " (10, 1682020),\n",
       " (11, 1682021),\n",
       " (12, 1682022)}"
      ]
     },
     "execution_count": 17,
     "metadata": {},
     "output_type": "execute_result"
    }
   ],
   "source": [
    "set(lca.dicts.activity.reversed.items())"
   ]
  },
  {
   "cell_type": "code",
   "execution_count": 18,
   "id": "5aac9e48",
   "metadata": {},
   "outputs": [
    {
     "data": {
      "text/plain": [
       "[165,\n",
       " 166,\n",
       " 167,\n",
       " 168,\n",
       " 1652019,\n",
       " 1652021,\n",
       " 1672020,\n",
       " 1672022,\n",
       " 1672024,\n",
       " 1682019,\n",
       " 1682020,\n",
       " 1682021,\n",
       " 1682022]"
      ]
     },
     "execution_count": 18,
     "metadata": {},
     "output_type": "execute_result"
    }
   ],
   "source": [
    "second_items_list = [item[1] for item in lca.dicts.activity.reversed.items()]\n",
    "second_items_list"
   ]
  },
  {
   "cell_type": "code",
   "execution_count": 19,
   "id": "e4460812",
   "metadata": {},
   "outputs": [
    {
     "name": "stdout",
     "output_type": "stream",
     "text": [
      "product_dict (mapping between Ids and csr_matrix column index):\n",
      " {165: 0, 166: 1, 167: 2, 168: 3, 1652019: 4, 1652021: 5, 1672020: 6, 1672022: 7, 1672024: 8, 1682019: 9, 1682020: 10, 1682021: 11, 1682022: 12}\n",
      "\n",
      "activity_dict (mapping between IDS and csr_matrix row index):\n",
      " {165: 0, 166: 1, 167: 2, 168: 3, 1652019: 4, 1652021: 5, 1672020: 6, 1672022: 7, 1672024: 8, 1682019: 9, 1682020: 10, 1682021: 11, 1682022: 12}\n"
     ]
    }
   ],
   "source": [
    "print(\"product_dict (mapping between Ids and csr_matrix column index):\\n\", lca.product_dict)\n",
    "print(\"\\nactivity_dict (mapping between IDS and csr_matrix row index):\\n\", lca.activity_dict)"
   ]
  },
  {
   "cell_type": "code",
   "execution_count": 20,
   "id": "293e81be",
   "metadata": {},
   "outputs": [
    {
     "name": "stdout",
     "output_type": "stream",
     "text": [
      "165 -> 'process C' (None, somewhere, None) background_2022\n",
      "166 -> 'process C' (None, somewhere, None) background_2020\n",
      "167 -> 'process A' (None, somewhere, None) foreground\n",
      "168 -> 'process B' (None, somewhere, None) foreground\n"
     ]
    },
    {
     "ename": "UnknownObject",
     "evalue": "",
     "output_type": "error",
     "traceback": [
      "\u001b[1;31m---------------------------------------------------------------------------\u001b[0m",
      "\u001b[1;31mUnknownObject\u001b[0m                             Traceback (most recent call last)",
      "Cell \u001b[1;32mIn[20], line 2\u001b[0m\n\u001b[0;32m      1\u001b[0m \u001b[38;5;28;01mfor\u001b[39;00m key \u001b[38;5;129;01min\u001b[39;00m lca\u001b[38;5;241m.\u001b[39mactivity_dict:\n\u001b[1;32m----> 2\u001b[0m     \u001b[38;5;28mprint\u001b[39m(key, \u001b[38;5;124m\"\u001b[39m\u001b[38;5;124m->\u001b[39m\u001b[38;5;124m\"\u001b[39m,\u001b[43mbd\u001b[49m\u001b[38;5;241;43m.\u001b[39;49m\u001b[43mget_activity\u001b[49m\u001b[43m(\u001b[49m\u001b[43mkey\u001b[49m\u001b[43m)\u001b[49m, bd\u001b[38;5;241m.\u001b[39mget_activity(key)[\u001b[38;5;124m\"\u001b[39m\u001b[38;5;124mdatabase\u001b[39m\u001b[38;5;124m\"\u001b[39m])\n",
      "File \u001b[1;32mc:\\Users\\MULLERA\\AppData\\Local\\anaconda3\\envs\\tictac2\\lib\\site-packages\\bw2data\\utils.py:440\u001b[0m, in \u001b[0;36mget_activity\u001b[1;34m(key, **kwargs)\u001b[0m\n\u001b[0;32m    438\u001b[0m \u001b[38;5;28;01melif\u001b[39;00m \u001b[38;5;28misinstance\u001b[39m(key, numbers\u001b[38;5;241m.\u001b[39mIntegral):\n\u001b[0;32m    439\u001b[0m     kwargs[\u001b[38;5;124m\"\u001b[39m\u001b[38;5;124mid\u001b[39m\u001b[38;5;124m\"\u001b[39m] \u001b[38;5;241m=\u001b[39m key\n\u001b[1;32m--> 440\u001b[0m \u001b[38;5;28;01mreturn\u001b[39;00m get_node(\u001b[38;5;241m*\u001b[39m\u001b[38;5;241m*\u001b[39mkwargs)\n",
      "File \u001b[1;32mc:\\Users\\MULLERA\\AppData\\Local\\anaconda3\\envs\\tictac2\\lib\\site-packages\\bw2data\\utils.py:422\u001b[0m, in \u001b[0;36mget_node\u001b[1;34m(**kwargs)\u001b[0m\n\u001b[0;32m    418\u001b[0m     \u001b[38;5;28;01mraise\u001b[39;00m MultipleResults(\n\u001b[0;32m    419\u001b[0m         \u001b[38;5;124m\"\u001b[39m\u001b[38;5;124mFound \u001b[39m\u001b[38;5;132;01m{}\u001b[39;00m\u001b[38;5;124m results for the given search\u001b[39m\u001b[38;5;124m\"\u001b[39m\u001b[38;5;241m.\u001b[39mformat(\u001b[38;5;28mlen\u001b[39m(candidates))\n\u001b[0;32m    420\u001b[0m     )\n\u001b[0;32m    421\u001b[0m \u001b[38;5;28;01melif\u001b[39;00m \u001b[38;5;129;01mnot\u001b[39;00m candidates:\n\u001b[1;32m--> 422\u001b[0m     \u001b[38;5;28;01mraise\u001b[39;00m UnknownObject\n\u001b[0;32m    423\u001b[0m \u001b[38;5;28;01mreturn\u001b[39;00m candidates[\u001b[38;5;241m0\u001b[39m]\n",
      "\u001b[1;31mUnknownObject\u001b[0m: "
     ]
    }
   ],
   "source": [
    "for key in lca.activity_dict:\n",
    "    print(key, \"->\",bd.get_activity(key), bd.get_activity(key)[\"database\"]) #BW does not find the \"exploded nodes\", because they exist only in the datapackages?"
   ]
  },
  {
   "cell_type": "code",
   "execution_count": null,
   "id": "0c9bf06a",
   "metadata": {},
   "outputs": [
    {
     "data": {
      "text/plain": [
       "array([0., 0., 0., 0., 0., 0., 0., 0., 1., 0., 0., 0., 0.])"
      ]
     },
     "execution_count": 45,
     "metadata": {},
     "output_type": "execute_result"
    }
   ],
   "source": [
    "f=lca.demand_array\n",
    "f"
   ]
  },
  {
   "cell_type": "code",
   "execution_count": null,
   "id": "15146b22",
   "metadata": {},
   "outputs": [
    {
     "data": {
      "text/plain": [
       "array([[ 1.        ,  0.        ,  0.        , -1.        ,  0.        ,\n",
       "         0.        ,  0.        ,  0.        ,  0.        ,  0.        ,\n",
       "         0.        , -0.50068399,  0.        ],\n",
       "       [ 0.        ,  1.        ,  0.        ,  0.        ,  0.        ,\n",
       "         0.        ,  0.        ,  0.        ,  0.        , -1.        ,\n",
       "         0.        , -0.49931601,  0.        ],\n",
       "       [ 0.        ,  0.        ,  1.        ,  0.        ,  0.        ,\n",
       "         0.        ,  0.        ,  0.        ,  0.        ,  0.        ,\n",
       "         0.        ,  0.        ,  0.        ],\n",
       "       [ 0.        ,  0.        , -1.        ,  1.        ,  0.        ,\n",
       "         0.        ,  0.        ,  0.        ,  0.        ,  0.        ,\n",
       "         0.        ,  0.        ,  0.        ],\n",
       "       [ 0.        ,  0.        ,  0.        ,  0.        ,  1.        ,\n",
       "         0.        ,  0.        ,  0.        ,  0.        ,  0.        ,\n",
       "         0.        ,  0.        ,  0.        ],\n",
       "       [ 0.        ,  0.        ,  0.        ,  0.        ,  0.        ,\n",
       "         1.        ,  0.        ,  0.        ,  0.        ,  0.        ,\n",
       "         0.        ,  0.        ,  0.        ],\n",
       "       [ 0.        ,  0.        ,  0.        ,  0.        ,  0.        ,\n",
       "         0.        ,  1.        ,  0.        ,  0.        ,  0.        ,\n",
       "         0.        ,  0.        ,  0.        ],\n",
       "       [ 0.        ,  0.        ,  0.        ,  0.        ,  0.        ,\n",
       "         0.        ,  0.        ,  1.        ,  0.        ,  0.        ,\n",
       "         0.        ,  0.        ,  0.        ],\n",
       "       [ 0.        ,  0.        ,  0.        ,  0.        ,  0.        ,\n",
       "         0.        ,  0.        ,  0.        ,  1.        ,  0.        ,\n",
       "         0.        ,  0.        ,  0.        ],\n",
       "       [ 0.        ,  0.        ,  0.        ,  0.        ,  0.        ,\n",
       "         0.        ,  0.        ,  0.        ,  0.        ,  1.        ,\n",
       "         0.        ,  0.        ,  0.        ],\n",
       "       [ 0.        ,  0.        ,  0.        ,  0.        ,  0.        ,\n",
       "         0.        ,  0.        ,  0.        , -0.5       ,  0.        ,\n",
       "         1.        ,  0.        ,  0.        ],\n",
       "       [ 0.        ,  0.        ,  0.        ,  0.        ,  0.        ,\n",
       "         0.        ,  0.        ,  0.        ,  0.        ,  0.        ,\n",
       "         0.        ,  1.        ,  0.        ],\n",
       "       [ 0.        ,  0.        ,  0.        ,  0.        ,  0.        ,\n",
       "         0.        ,  0.        ,  0.        , -0.5       ,  0.        ,\n",
       "         0.        ,  0.        ,  1.        ]])"
      ]
     },
     "execution_count": 46,
     "metadata": {},
     "output_type": "execute_result"
    }
   ],
   "source": [
    "lca.technosphere_matrix.toarray()"
   ]
  },
  {
   "cell_type": "code",
   "execution_count": null,
   "id": "00c13408",
   "metadata": {},
   "outputs": [
    {
     "data": {
      "text/plain": [
       "array([[1.        , 0.        , 1.        , 1.        , 0.        ,\n",
       "        0.        , 0.        , 0.        , 0.        , 0.        ,\n",
       "        0.        , 0.50068399, 0.        ],\n",
       "       [0.        , 1.        , 0.        , 0.        , 0.        ,\n",
       "        0.        , 0.        , 0.        , 0.        , 1.        ,\n",
       "        0.        , 0.49931601, 0.        ],\n",
       "       [0.        , 0.        , 1.        , 0.        , 0.        ,\n",
       "        0.        , 0.        , 0.        , 0.        , 0.        ,\n",
       "        0.        , 0.        , 0.        ],\n",
       "       [0.        , 0.        , 1.        , 1.        , 0.        ,\n",
       "        0.        , 0.        , 0.        , 0.        , 0.        ,\n",
       "        0.        , 0.        , 0.        ],\n",
       "       [0.        , 0.        , 0.        , 0.        , 1.        ,\n",
       "        0.        , 0.        , 0.        , 0.        , 0.        ,\n",
       "        0.        , 0.        , 0.        ],\n",
       "       [0.        , 0.        , 0.        , 0.        , 0.        ,\n",
       "        1.        , 0.        , 0.        , 0.        , 0.        ,\n",
       "        0.        , 0.        , 0.        ],\n",
       "       [0.        , 0.        , 0.        , 0.        , 0.        ,\n",
       "        0.        , 1.        , 0.        , 0.        , 0.        ,\n",
       "        0.        , 0.        , 0.        ],\n",
       "       [0.        , 0.        , 0.        , 0.        , 0.        ,\n",
       "        0.        , 0.        , 1.        , 0.        , 0.        ,\n",
       "        0.        , 0.        , 0.        ],\n",
       "       [0.        , 0.        , 0.        , 0.        , 0.        ,\n",
       "        0.        , 0.        , 0.        , 1.        , 0.        ,\n",
       "        0.        , 0.        , 0.        ],\n",
       "       [0.        , 0.        , 0.        , 0.        , 0.        ,\n",
       "        0.        , 0.        , 0.        , 0.        , 1.        ,\n",
       "        0.        , 0.        , 0.        ],\n",
       "       [0.        , 0.        , 0.        , 0.        , 0.        ,\n",
       "        0.        , 0.        , 0.        , 0.5       , 0.        ,\n",
       "        1.        , 0.        , 0.        ],\n",
       "       [0.        , 0.        , 0.        , 0.        , 0.        ,\n",
       "        0.        , 0.        , 0.        , 0.        , 0.        ,\n",
       "        0.        , 1.        , 0.        ],\n",
       "       [0.        , 0.        , 0.        , 0.        , 0.        ,\n",
       "        0.        , 0.        , 0.        , 0.5       , 0.        ,\n",
       "        0.        , 0.        , 1.        ]])"
      ]
     },
     "execution_count": 47,
     "metadata": {},
     "output_type": "execute_result"
    }
   ],
   "source": [
    "A_inv= np.linalg.inv(lca.technosphere_matrix.toarray())\n",
    "A_inv"
   ]
  },
  {
   "cell_type": "code",
   "execution_count": null,
   "id": "b1bf6c67",
   "metadata": {},
   "outputs": [
    {
     "data": {
      "text/plain": [
       "array([0. , 0. , 0. , 0. , 0. , 0. , 0. , 0. , 1. , 0. , 0.5, 0. , 0.5])"
      ]
     },
     "execution_count": 48,
     "metadata": {},
     "output_type": "execute_result"
    }
   ],
   "source": [
    "s= np.matmul(A_inv, f)\n",
    "s"
   ]
  },
  {
   "cell_type": "code",
   "execution_count": null,
   "id": "5b314e5d",
   "metadata": {},
   "outputs": [
    {
     "data": {
      "text/plain": [
       "array([[1., 2., 0., 0., 0., 0., 0., 0., 0., 0., 0., 0., 0.]])"
      ]
     },
     "execution_count": 49,
     "metadata": {},
     "output_type": "execute_result"
    }
   ],
   "source": [
    "lca.biosphere_matrix.toarray()"
   ]
  },
  {
   "cell_type": "code",
   "execution_count": null,
   "id": "f0a14674",
   "metadata": {},
   "outputs": [
    {
     "data": {
      "text/plain": [
       "array([0.])"
      ]
     },
     "execution_count": 50,
     "metadata": {},
     "output_type": "execute_result"
    }
   ],
   "source": [
    "b= np.matmul(lca.biosphere_matrix.toarray(), s)\n",
    "b"
   ]
  }
 ],
 "metadata": {
  "kernelspec": {
   "display_name": "Python 3",
   "language": "python",
   "name": "python3"
  },
  "language_info": {
   "codemirror_mode": {
    "name": "ipython",
    "version": 3
   },
   "file_extension": ".py",
   "mimetype": "text/x-python",
   "name": "python",
   "nbconvert_exporter": "python",
   "pygments_lexer": "ipython3",
   "version": "3.10.13"
  }
 },
 "nbformat": 4,
 "nbformat_minor": 5
}
