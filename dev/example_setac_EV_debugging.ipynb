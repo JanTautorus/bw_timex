{
 "cells": [
  {
   "cell_type": "code",
   "execution_count": 5,
   "metadata": {},
   "outputs": [],
   "source": [
    "import sys\n",
    "import os\n",
    "import bw2data as bd\n",
    "import bw2calc as bc\n",
    "import bw2io as bi\n",
    "#from bw_temporalis import TemporalDistribution\n",
    "sys.path.append(os.path.realpath('../'))\n",
    "import numpy as np"
   ]
  },
  {
   "cell_type": "code",
   "execution_count": 6,
   "metadata": {},
   "outputs": [
    {
     "name": "stdout",
     "output_type": "stream",
     "text": [
      "Using existing project: bw25_EV_setac\n"
     ]
    },
    {
     "data": {
      "text/plain": [
       "Databases dictionary with 6 object(s):\n",
       "\tbiosphere3\n",
       "\tcutoff39\n",
       "\tdb_2020\n",
       "\tdb_2030\n",
       "\tdb_2040\n",
       "\tforeground"
      ]
     },
     "execution_count": 6,
     "metadata": {},
     "output_type": "execute_result"
    }
   ],
   "source": [
    "\n",
    "PROJECT_NAME = \"bw25_EV_setac\"\n",
    "RESET= False\n",
    "\n",
    "if PROJECT_NAME in bd.projects and not RESET: # use existing project\n",
    "    print(\"Using existing project: {}\".format(PROJECT_NAME))\n",
    "    bd.projects.set_current(PROJECT_NAME, writable=True) #not have readonly exchanges\n",
    "    \n",
    "else: # create project from scratch\n",
    "    print(\"Creating new project: {}\".format(PROJECT_NAME))\n",
    "    if PROJECT_NAME in bd.projects:\n",
    "        bd.projects.delete_project(PROJECT_NAME)\n",
    "    bi.backup.restore_project_directory(r'filepath/to/backup/directory') # tar file shared on slack\n",
    "    bd.projects.set_current(PROJECT_NAME)\n",
    "    \n",
    "bd.databases"
   ]
  },
  {
   "cell_type": "code",
   "execution_count": 7,
   "metadata": {},
   "outputs": [],
   "source": [
    "del bd.databases[\"foreground\"]"
   ]
  },
  {
   "cell_type": "code",
   "execution_count": 8,
   "metadata": {},
   "outputs": [],
   "source": [
    "# prospective databases were generated with premise, updating only electricity\n",
    "db_2020 = bd.Database(\"db_2020\")\n",
    "db_2030 = bd.Database(\"db_2030\")\n",
    "db_2040 = bd.Database(\"db_2040\")"
   ]
  },
  {
   "cell_type": "code",
   "execution_count": 9,
   "metadata": {},
   "outputs": [],
   "source": [
    "#EV transport process 2020\n",
    "EV_km_2020 = [x for x in db_2020 if (x['name'] == 'transport, passenger car, electric' )][0]\n"
   ]
  },
  {
   "cell_type": "code",
   "execution_count": 10,
   "metadata": {},
   "outputs": [],
   "source": [
    "foreground = bd.Database('foreground')\n",
    "foreground.register()\n",
    "\n",
    "EV= foreground.new_node(\n",
    "    code = \"EV\",\n",
    "    name = \"foreground transport, electric vehicle, 1km\",\n",
    "    location = \"GLO\",\n",
    ")\n",
    "EV.save()\n",
    "\n",
    "EV.new_edge(input=(\"foreground\", \"EV\"), amount=1.0, unit = \"kilometer\", type=\"production\").save() #add production amount\n",
    "\n",
    "#add technosphere exchanges\n",
    "for exc in EV_km_2020.exchanges(): #looping over the exchanges of the EV process in the background db and adding them to our EV process in the foreground\n",
    "    if not exc.input == exc.output and \"market for passenger car, electric, without battery\" not in exc.input[\"name\"]: #skip production exchange of process and car production, which we\"ll move to the foreground separately\n",
    "        #add other exchanges of EV process\n",
    "        EV.new_edge(input=exc.input.key, amount=exc['amount'], type=exc[\"type\"]).save() #  "
   ]
  },
  {
   "cell_type": "code",
   "execution_count": 11,
   "metadata": {},
   "outputs": [],
   "source": [
    "#add car production separately (we skip the ecoinvent GLO market for car production, as it only has 1 input of GLO car production, and no losses)\n",
    "car_prod_background = [x for x in db_2020 if (x['name'] == 'passenger car production, electric, without battery')][0]\n",
    "\n",
    "car_prod = foreground.new_node(\n",
    "    code = \"car_prod\",\n",
    "    name = \"foreground car production, electric, without battery\",\n",
    "    location = \"GLO\",\n",
    ")\n",
    "car_prod.save()\n",
    "\n",
    "car_prod.new_edge(input=(\"foreground\", \"car_prod\"), amount=1.0, unit= \"kilogram\", type=\"production\").save() #add production amount\n",
    "#TODO undertsand why impact of production is different betweeen foreground system and background system\n",
    "#add technosphere exchanges\n",
    "for exc in car_prod_background.exchanges(): #looping over the exchanges of the EV process in the background db and adding them to our EV process in the foreground\n",
    "    if not exc.input == exc.output: #skip production exchange\n",
    "        #add other exchanges of car production\n",
    "        car_prod.new_edge(input=exc.input.key, amount=exc['amount'], type=exc[\"type\"]).save() #\n",
    "\n",
    " \n",
    "for exc in EV_km_2020.exchanges():\n",
    "    if \"market for passenger car, electric, without battery\" in exc.input[\"name\"]:\n",
    "        amount_car_prod_background= exc[\"amount\"] #find amount of car production per 1 km EV driving in background db\n",
    "\n",
    "EV.new_edge( #add new car prod to EV process\n",
    "    input=(\"foreground\", \"car_prod\"),\n",
    "    amount=amount_car_prod_background,\n",
    "    type=\"technosphere\"\n",
    ").save()\n",
    "\n"
   ]
  },
  {
   "cell_type": "code",
   "execution_count": 12,
   "metadata": {},
   "outputs": [
    {
     "name": "stdout",
     "output_type": "stream",
     "text": [
      "Exchange: -6.116388703958364e-06 kilogram 'market for waste glass' (kilogram, CY, None) to 'passenger car production, electric, without battery' (kilogram, GLO, None)>\n",
      "Exchange: -0.0010599906090646982 kilogram 'market for waste rubber, unspecified' (kilogram, CH, None) to 'passenger car production, electric, without battery' (kilogram, GLO, None)>\n",
      "Exchange: -0.0029251330997794867 kilogram 'market for waste glass' (kilogram, BR, None) to 'passenger car production, electric, without battery' (kilogram, GLO, None)>\n",
      "Exchange: -0.005556371994316578 kilogram 'market group for waste glass' (kilogram, RER, None) to 'passenger car production, electric, without battery' (kilogram, GLO, None)>\n",
      "Exchange: -0.0009497396531514823 kilogram 'market for waste mineral oil' (kilogram, Europe without Switzerland, None) to 'passenger car production, electric, without battery' (kilogram, GLO, None)>\n",
      "Exchange: 1.0 kilogram 'passenger car production, electric, without battery' (kilogram, GLO, None) to 'passenger car production, electric, without battery' (kilogram, GLO, None)>\n",
      "Exchange: -0.02525000460445881 kilogram 'market for waste rubber, unspecified' (kilogram, RoW, None) to 'passenger car production, electric, without battery' (kilogram, GLO, None)>\n",
      "Exchange: -2.5153587557724677e-05 kilogram 'market for waste glass' (kilogram, IN, None) to 'passenger car production, electric, without battery' (kilogram, GLO, None)>\n",
      "Exchange: -2.3511776817031205e-05 kilogram 'market for waste mineral oil' (kilogram, CH, None) to 'passenger car production, electric, without battery' (kilogram, GLO, None)>\n",
      "Exchange: -0.002486748620867729 kilogram 'market for waste mineral oil' (kilogram, RoW, None) to 'passenger car production, electric, without battery' (kilogram, GLO, None)>\n",
      "Exchange: -0.02525000460445881 kilogram 'market for waste rubber, unspecified' (kilogram, Europe without Switzerland, None) to 'passenger car production, electric, without battery' (kilogram, GLO, None)>\n",
      "Exchange: -0.0001125530616263859 kilogram 'market for waste glass' (kilogram, ZA, None) to 'passenger car production, electric, without battery' (kilogram, GLO, None)>\n",
      "Exchange: -3.8197125832084566e-05 kilogram 'market for waste glass' (kilogram, PE, None) to 'passenger car production, electric, without battery' (kilogram, GLO, None)>\n",
      "Exchange: -0.02756687067449093 kilogram 'market for waste glass' (kilogram, RoW, None) to 'passenger car production, electric, without battery' (kilogram, GLO, None)>\n",
      "Exchange: -0.0002696031879168004 kilogram 'market for waste glass' (kilogram, CO, None) to 'passenger car production, electric, without battery' (kilogram, GLO, None)>\n"
     ]
    }
   ],
   "source": [
    "for exc in car_prod_background.biosphere():\n",
    "    print(exc)\n",
    "\n",
    "for exc in car_prod_background.production():\n",
    "    print(exc)"
   ]
  },
  {
   "cell_type": "code",
   "execution_count": 13,
   "metadata": {},
   "outputs": [
    {
     "name": "stdout",
     "output_type": "stream",
     "text": [
      "'foreground car production, electric, without battery' (None, GLO, None)\n",
      "1.0 foreground car production, electric, without battery foreground\n",
      "-6.1163887e-06 market for waste glass db_2020\n",
      "-0.0010599906 market for waste rubber, unspecified db_2020\n",
      "-0.002925133 market for waste glass db_2020\n",
      "-0.005556372 market group for waste glass db_2020\n",
      "-0.00094973965 market for waste mineral oil db_2020\n",
      "-0.025250005 market for waste rubber, unspecified db_2020\n",
      "-2.5153588e-05 market for waste glass db_2020\n",
      "-2.3511777e-05 market for waste mineral oil db_2020\n",
      "-0.0024867486 market for waste mineral oil db_2020\n",
      "-0.025250005 market for waste rubber, unspecified db_2020\n",
      "-0.00011255306 market for waste glass db_2020\n",
      "-3.8197126e-05 market for waste glass db_2020\n",
      "-0.02756687 market for waste glass db_2020\n",
      "-0.0002696032 market for waste glass db_2020\n",
      "0.9126353 market for glider, passenger car db_2020\n",
      "0.08736468 market for powertrain, for electric passenger car db_2020\n",
      "1.0 market for manual dismantling of used electric passenger car db_2020\n",
      "----------------\n",
      "'foreground transport, electric vehicle, 1km' (None, GLO, None)\n",
      "1.0 foreground transport, electric vehicle, 1km foreground\n",
      "-1.0503958e-06 market for brake wear emissions, passenger car db_2020\n",
      "-1.15543535e-05 market for road wear emissions, passenger car db_2020\n",
      "-0.00262 market for used Li-ion battery db_2020\n",
      "-6.75676e-05 market for tyre wear emissions, passenger car db_2020\n",
      "0.00048748 market for road db_2020\n",
      "0.00262 market for battery, Li-ion, LiMn2O4, rechargeable, prismatic db_2020\n",
      "6.6666666e-06 market for maintenance, passenger car, electric, without battery db_2020\n",
      "0.199 market group for electricity, low voltage db_2020\n",
      "0.006121467 foreground car production, electric, without battery foreground\n",
      "----------------\n"
     ]
    }
   ],
   "source": [
    "# checking if product system links correctly\n",
    "for act in bd.Database('foreground'):\n",
    "    print(act)\n",
    "    for exc in act.exchanges():\n",
    "        print(exc[\"amount\"], exc.input[\"name\"], exc.input[\"database\"])\n",
    "    print (\"----------------\")"
   ]
  },
  {
   "cell_type": "code",
   "execution_count": 14,
   "metadata": {},
   "outputs": [
    {
     "data": {
      "text/plain": [
       "('IPCC 2021 no LT',\n",
       " 'climate change no LT',\n",
       " 'global warming potential (GWP100) no LT')"
      ]
     },
     "execution_count": 14,
     "metadata": {},
     "output_type": "execute_result"
    }
   ],
   "source": [
    "CC_method = [m for m in bd.methods if 'IPCC 2021' in str(m) and  'climate change no LT' in str(m) and 'GWP100' in str(m) and 'no LT' in str(m)][0]\n",
    "CC_method"
   ]
  },
  {
   "cell_type": "code",
   "execution_count": 15,
   "metadata": {},
   "outputs": [
    {
     "name": "stdout",
     "output_type": "stream",
     "text": [
      "1 km of EV driving: Foreground: 0.22196471361962195 vs Background: 0.230222822980059\n"
     ]
    }
   ],
   "source": [
    "#compare EV in fore and background\n",
    "demand = {EV_km_2020.key: 1}\n",
    "method = CC_method\n",
    "\n",
    "lca_bg = bc.LCA(demand, method)\n",
    "lca_bg.lci()\n",
    "lca_bg.lcia()\n",
    "lca_bg.score\n",
    "\n",
    "#check with foreground process:\n",
    "demand = {('foreground', 'EV'): 1}\n",
    "method = CC_method\n",
    "\n",
    "lca_fg = bc.LCA(demand, method)\n",
    "lca_fg.lci()\n",
    "lca_fg.lcia()\n",
    "lca_fg.score\n",
    "\n",
    "print(f\"1 km of EV driving: Foreground: {lca_fg.score} vs Background: {lca_bg.score}\")"
   ]
  },
  {
   "cell_type": "markdown",
   "metadata": {},
   "source": [
    "### below: understanding why scores are different but without success"
   ]
  },
  {
   "cell_type": "code",
   "execution_count": 16,
   "metadata": {},
   "outputs": [
    {
     "name": "stdout",
     "output_type": "stream",
     "text": [
      "1 kg of car production: Foreground: 7.143851026405615 vs Background: 7.484964738948721\n"
     ]
    }
   ],
   "source": [
    "#compare car prod in fore and background\n",
    "demand = {car_prod_background.key: 1}\n",
    "method = CC_method\n",
    "\n",
    "lca_bg = bc.LCA(demand, method)\n",
    "lca_bg.lci()\n",
    "lca_bg.lcia()\n",
    "lca_bg.score\n",
    "\n",
    "demand = {('foreground', 'car_prod'): 1}\n",
    "method = CC_method\n",
    "\n",
    "lca_fg = bc.LCA(demand, method)\n",
    "lca_fg.lci()\n",
    "lca_fg.lcia()\n",
    "lca_fg.score\n",
    "\n",
    "print(f\"1 kg of car production: Foreground: {lca_fg.score} vs Background: {lca_bg.score}\")"
   ]
  },
  {
   "cell_type": "code",
   "execution_count": 17,
   "metadata": {},
   "outputs": [
    {
     "name": "stdout",
     "output_type": "stream",
     "text": [
      "\n",
      "sum material amount: fg: 2.908480008461538, bg: 2.908480008461538. \n",
      "number of processes: fg: 18, bg: 18\n",
      "number of tech exc: fg: 3, bg: 3. \n",
      "number of bio exc: fg: 0, bg: 0 \n",
      "number of prod exc: fg: 15, bg: 15\n",
      "lca score: fg: 7.143851026405615 vs bg: 7.484964738948721\n"
     ]
    }
   ],
   "source": [
    "#check all material sums and process numbers -> no biosphere flows!\n",
    "sum_amount_foreground=0\n",
    "num_proc_foreground=0\n",
    "num_tech_fg=0\n",
    "num_bio_fg=0\n",
    "num_bio_fg=0\n",
    "num_prod_fg=0\n",
    "\n",
    "sum_amount_background=0\n",
    "num_proc_background=0\n",
    "num_tech_bg=0\n",
    "num_bio_bg=0\n",
    "num_prod_bg=0\n",
    "\n",
    "for exc in car_prod.exchanges():\n",
    "    #print(exc[\"amount\"], exc[\"type\"], exc.input[\"name\"], exc.input[\"location\"], exc.input[\"database\"] , sep=\"\\t\")\n",
    "    sum_amount_foreground+=exc[\"amount\"]\n",
    "    num_proc_foreground+=1\n",
    "    if exc[\"type\"]==\"technosphere\":\n",
    "        num_tech_fg+=1\n",
    "    if exc[\"type\"]==\"biosphere\":\n",
    "        num_bio_fg+=1\n",
    "    if exc[\"type\"]==\"production\":\n",
    "        num_prod_fg+=1\n",
    "        \n",
    "\n",
    "for exc in car_prod_background.exchanges():\n",
    "    #print(exc[\"amount\"], exc[\"type\"], exc.input[\"name\"], exc.input[\"location\"],  sep=\"\\t\")\n",
    "    sum_amount_background+=exc[\"amount\"]\n",
    "    num_proc_background+=1\n",
    "    if exc[\"type\"]==\"technosphere\":\n",
    "        num_tech_bg+=1\n",
    "    if exc[\"type\"]==\"biosphere\":\n",
    "        num_bio_bg+=1\n",
    "    if exc[\"type\"]==\"production\":\n",
    "        num_prod_bg+=1\n",
    "\n",
    "print(f\"\\nsum material amount: fg: {sum_amount_foreground}, bg: {sum_amount_background}. \\nnumber of processes: fg: {num_proc_foreground}, bg: {num_proc_background}\")\n",
    "print(f\"number of tech exc: fg: {num_tech_fg}, bg: {num_tech_bg}. \\nnumber of bio exc: fg: {num_bio_fg}, bg: {num_bio_bg} \\nnumber of prod exc: fg: {num_prod_fg}, bg: {num_prod_bg}\")\n",
    "print(f\"lca score: fg: {lca_fg.score} vs bg: {lca_bg.score}\")\n"
   ]
  },
  {
   "cell_type": "code",
   "execution_count": null,
   "metadata": {},
   "outputs": [],
   "source": []
  },
  {
   "cell_type": "code",
   "execution_count": 18,
   "metadata": {},
   "outputs": [
    {
     "data": {
      "text/plain": [
       "{'_document': <ExchangeDataset: 676302>,\n",
       " '_data': {'output': ('foreground', 'car_prod'),\n",
       "  'input': ('foreground', 'car_prod'),\n",
       "  'amount': 1.0,\n",
       "  'unit': 'kilogram',\n",
       "  'type': 'production'},\n",
       " '_input': 'foreground car production, electric, without battery' (None, GLO, None),\n",
       " '_output': 'foreground car production, electric, without battery' (None, GLO, None)}"
      ]
     },
     "execution_count": 18,
     "metadata": {},
     "output_type": "execute_result"
    }
   ],
   "source": [
    "# fg reference flow\n",
    "prod_exc = [exc for exc in car_prod.exchanges() if exc.input[\"name\"] == exc.output[\"name\"]][0]\n",
    "prod_exc.__dict__"
   ]
  },
  {
   "cell_type": "code",
   "execution_count": 41,
   "metadata": {},
   "outputs": [
    {
     "data": {
      "text/plain": [
       "{'input': 'passenger car production, electric, without battery' (kilogram, GLO, None),\n",
       " 'output': 'passenger car production, electric, without battery' (kilogram, GLO, None),\n",
       " 'amount': 1.0,\n",
       " '_data': {'amount': 1.0,\n",
       "  'uncertainty_type': 0,\n",
       "  'type': 'production',\n",
       "  'input': ('db_2020', '2faf7f39dced7d6bad666f90033d76f9'),\n",
       "  'output': ('db_2020', '2faf7f39dced7d6bad666f90033d76f9')}}"
      ]
     },
     "execution_count": 41,
     "metadata": {},
     "output_type": "execute_result"
    }
   ],
   "source": [
    "prod_exc_bg = [ exc for exc in car_prod_background.exchanges() if exc.input[\"name\"] == exc.output[\"name\"]][0]\n",
    "prod_exc_bg.__dict__"
   ]
  },
  {
   "cell_type": "code",
   "execution_count": 21,
   "metadata": {},
   "outputs": [],
   "source": [
    "#compare LCA results by sub-process\n",
    "import pandas as pd\n",
    "\n",
    "def do_lca(process, method):\n",
    "    demand = {process.input.key: process.amount}\n",
    "    lca = bc.LCA(demand, method)\n",
    "    lca.lci()\n",
    "    lca.lcia()\n",
    "    return lca.score\n",
    "calc_count_fg=0\n",
    "calc_count_bg=0\n",
    "results_df = pd.DataFrame() #columns=[\"exchange\", \"database1\", \"database2\"])\n",
    "dict_results_1 = []\n",
    "dict_results_2 = []\n",
    "\n",
    "# Loop over input data and perform calculations for each input\n",
    "for exc in car_prod.exchanges():\n",
    "    result= do_lca(exc, CC_method)\n",
    "    dict_results_1.append({(exc.input[\"name\"], exc.input[\"location\"]):result})\n",
    "    calc_count_fg+=1\n",
    "\n",
    "# Loop over input data and perform calculations for each input\n",
    "for exc in car_prod_background.exchanges():\n",
    "    result= do_lca(exc, CC_method)\n",
    "    dict_results_2.append({(exc.input[\"name\"], exc.input[\"location\"]):result})\n",
    "    calc_count_bg+=1\n"
   ]
  },
  {
   "cell_type": "code",
   "execution_count": 22,
   "metadata": {},
   "outputs": [],
   "source": [
    "# Convert data into DataFrame\n",
    "flat_data = []\n",
    "for d in dict_results_1:\n",
    "    for key, value in d.items():\n",
    "        flat_data.append({'input_name': key, 'Value': value})\n",
    "df1 = pd.DataFrame(flat_data)\n",
    "\n",
    "flat_data = []\n",
    "for d in dict_results_2:\n",
    "    for key, value in d.items():\n",
    "        flat_data.append({'input_name': key, 'Value': value})\n",
    "df2 = pd.DataFrame(flat_data)\n",
    "\n",
    "results_df = pd.merge(df1, df2, on=\"input_name\", how =\"outer\")\n",
    "results_df[\"delta\"]= results_df[\"Value_x\"]-results_df[\"Value_y\"]\n",
    "results_df[\"difference_to_total_score [%]\"]= results_df[\"Value_x\"]/lca_bg.score*100 "
   ]
  },
  {
   "cell_type": "code",
   "execution_count": 24,
   "metadata": {},
   "outputs": [
    {
     "data": {
      "text/html": [
       "<div>\n",
       "<style scoped>\n",
       "    .dataframe tbody tr th:only-of-type {\n",
       "        vertical-align: middle;\n",
       "    }\n",
       "\n",
       "    .dataframe tbody tr th {\n",
       "        vertical-align: top;\n",
       "    }\n",
       "\n",
       "    .dataframe thead th {\n",
       "        text-align: right;\n",
       "    }\n",
       "</style>\n",
       "<table border=\"1\" class=\"dataframe\">\n",
       "  <thead>\n",
       "    <tr style=\"text-align: right;\">\n",
       "      <th></th>\n",
       "      <th>input_name</th>\n",
       "      <th>Value_x</th>\n",
       "      <th>Value_y</th>\n",
       "      <th>delta</th>\n",
       "      <th>difference_to_total_score [%]</th>\n",
       "    </tr>\n",
       "  </thead>\n",
       "  <tbody>\n",
       "    <tr>\n",
       "      <th>0</th>\n",
       "      <td>(foreground car production, electric, without ...</td>\n",
       "      <td>7.143851e+00</td>\n",
       "      <td>NaN</td>\n",
       "      <td>NaN</td>\n",
       "      <td>9.544268e+01</td>\n",
       "    </tr>\n",
       "    <tr>\n",
       "      <th>1</th>\n",
       "      <td>(market for waste glass, CY)</td>\n",
       "      <td>6.531931e-08</td>\n",
       "      <td>6.531931e-08</td>\n",
       "      <td>0.0</td>\n",
       "      <td>8.726736e-07</td>\n",
       "    </tr>\n",
       "    <tr>\n",
       "      <th>2</th>\n",
       "      <td>(market for waste rubber, unspecified, CH)</td>\n",
       "      <td>3.341704e-03</td>\n",
       "      <td>3.341704e-03</td>\n",
       "      <td>0.0</td>\n",
       "      <td>4.464556e-02</td>\n",
       "    </tr>\n",
       "    <tr>\n",
       "      <th>3</th>\n",
       "      <td>(market for waste glass, BR)</td>\n",
       "      <td>5.626422e-05</td>\n",
       "      <td>5.626422e-05</td>\n",
       "      <td>0.0</td>\n",
       "      <td>7.516965e-04</td>\n",
       "    </tr>\n",
       "    <tr>\n",
       "      <th>4</th>\n",
       "      <td>(market group for waste glass, RER)</td>\n",
       "      <td>1.557024e-04</td>\n",
       "      <td>1.557024e-04</td>\n",
       "      <td>0.0</td>\n",
       "      <td>2.080203e-03</td>\n",
       "    </tr>\n",
       "    <tr>\n",
       "      <th>5</th>\n",
       "      <td>(market for waste mineral oil, Europe without ...</td>\n",
       "      <td>2.153274e-03</td>\n",
       "      <td>2.153274e-03</td>\n",
       "      <td>0.0</td>\n",
       "      <td>2.876799e-02</td>\n",
       "    </tr>\n",
       "    <tr>\n",
       "      <th>6</th>\n",
       "      <td>(market for waste rubber, unspecified, RoW)</td>\n",
       "      <td>7.980411e-02</td>\n",
       "      <td>7.980411e-02</td>\n",
       "      <td>0.0</td>\n",
       "      <td>1.066192e+00</td>\n",
       "    </tr>\n",
       "    <tr>\n",
       "      <th>7</th>\n",
       "      <td>(market for waste glass, IN)</td>\n",
       "      <td>1.734418e-06</td>\n",
       "      <td>1.734418e-06</td>\n",
       "      <td>0.0</td>\n",
       "      <td>2.317203e-05</td>\n",
       "    </tr>\n",
       "    <tr>\n",
       "      <th>8</th>\n",
       "      <td>(market for waste mineral oil, CH)</td>\n",
       "      <td>5.851374e-05</td>\n",
       "      <td>5.851374e-05</td>\n",
       "      <td>0.0</td>\n",
       "      <td>7.817504e-04</td>\n",
       "    </tr>\n",
       "    <tr>\n",
       "      <th>9</th>\n",
       "      <td>(market for waste mineral oil, RoW)</td>\n",
       "      <td>4.477542e-03</td>\n",
       "      <td>4.477542e-03</td>\n",
       "      <td>0.0</td>\n",
       "      <td>5.982048e-02</td>\n",
       "    </tr>\n",
       "    <tr>\n",
       "      <th>10</th>\n",
       "      <td>(market for waste rubber, unspecified, Europe ...</td>\n",
       "      <td>7.983168e-02</td>\n",
       "      <td>7.983168e-02</td>\n",
       "      <td>0.0</td>\n",
       "      <td>1.066561e+00</td>\n",
       "    </tr>\n",
       "    <tr>\n",
       "      <th>11</th>\n",
       "      <td>(market for waste glass, ZA)</td>\n",
       "      <td>2.420080e-06</td>\n",
       "      <td>2.420080e-06</td>\n",
       "      <td>0.0</td>\n",
       "      <td>3.233255e-05</td>\n",
       "    </tr>\n",
       "    <tr>\n",
       "      <th>12</th>\n",
       "      <td>(market for waste glass, PE)</td>\n",
       "      <td>1.040396e-06</td>\n",
       "      <td>1.040396e-06</td>\n",
       "      <td>0.0</td>\n",
       "      <td>1.389982e-05</td>\n",
       "    </tr>\n",
       "    <tr>\n",
       "      <th>13</th>\n",
       "      <td>(market for waste glass, RoW)</td>\n",
       "      <td>6.660569e-04</td>\n",
       "      <td>6.660569e-04</td>\n",
       "      <td>0.0</td>\n",
       "      <td>8.898598e-03</td>\n",
       "    </tr>\n",
       "    <tr>\n",
       "      <th>14</th>\n",
       "      <td>(market for waste glass, CO)</td>\n",
       "      <td>6.747366e-06</td>\n",
       "      <td>6.747366e-06</td>\n",
       "      <td>0.0</td>\n",
       "      <td>9.014559e-05</td>\n",
       "    </tr>\n",
       "    <tr>\n",
       "      <th>15</th>\n",
       "      <td>(market for glider, passenger car, GLO)</td>\n",
       "      <td>5.742122e+00</td>\n",
       "      <td>5.742122e+00</td>\n",
       "      <td>0.0</td>\n",
       "      <td>7.671542e+01</td>\n",
       "    </tr>\n",
       "    <tr>\n",
       "      <th>16</th>\n",
       "      <td>(market for powertrain, for electric passenger...</td>\n",
       "      <td>1.563102e+00</td>\n",
       "      <td>1.563102e+00</td>\n",
       "      <td>0.0</td>\n",
       "      <td>2.088323e+01</td>\n",
       "    </tr>\n",
       "    <tr>\n",
       "      <th>17</th>\n",
       "      <td>(market for manual dismantling of used electri...</td>\n",
       "      <td>9.183829e-03</td>\n",
       "      <td>9.183829e-03</td>\n",
       "      <td>0.0</td>\n",
       "      <td>1.226970e-01</td>\n",
       "    </tr>\n",
       "    <tr>\n",
       "      <th>18</th>\n",
       "      <td>(passenger car production, electric, without b...</td>\n",
       "      <td>NaN</td>\n",
       "      <td>7.484965e+00</td>\n",
       "      <td>NaN</td>\n",
       "      <td>NaN</td>\n",
       "    </tr>\n",
       "  </tbody>\n",
       "</table>\n",
       "</div>"
      ],
      "text/plain": [
       "                                           input_name       Value_x  \\\n",
       "0   (foreground car production, electric, without ...  7.143851e+00   \n",
       "1                        (market for waste glass, CY)  6.531931e-08   \n",
       "2          (market for waste rubber, unspecified, CH)  3.341704e-03   \n",
       "3                        (market for waste glass, BR)  5.626422e-05   \n",
       "4                 (market group for waste glass, RER)  1.557024e-04   \n",
       "5   (market for waste mineral oil, Europe without ...  2.153274e-03   \n",
       "6         (market for waste rubber, unspecified, RoW)  7.980411e-02   \n",
       "7                        (market for waste glass, IN)  1.734418e-06   \n",
       "8                  (market for waste mineral oil, CH)  5.851374e-05   \n",
       "9                 (market for waste mineral oil, RoW)  4.477542e-03   \n",
       "10  (market for waste rubber, unspecified, Europe ...  7.983168e-02   \n",
       "11                       (market for waste glass, ZA)  2.420080e-06   \n",
       "12                       (market for waste glass, PE)  1.040396e-06   \n",
       "13                      (market for waste glass, RoW)  6.660569e-04   \n",
       "14                       (market for waste glass, CO)  6.747366e-06   \n",
       "15            (market for glider, passenger car, GLO)  5.742122e+00   \n",
       "16  (market for powertrain, for electric passenger...  1.563102e+00   \n",
       "17  (market for manual dismantling of used electri...  9.183829e-03   \n",
       "18  (passenger car production, electric, without b...           NaN   \n",
       "\n",
       "         Value_y  delta  difference_to_total_score [%]  \n",
       "0            NaN    NaN                   9.544268e+01  \n",
       "1   6.531931e-08    0.0                   8.726736e-07  \n",
       "2   3.341704e-03    0.0                   4.464556e-02  \n",
       "3   5.626422e-05    0.0                   7.516965e-04  \n",
       "4   1.557024e-04    0.0                   2.080203e-03  \n",
       "5   2.153274e-03    0.0                   2.876799e-02  \n",
       "6   7.980411e-02    0.0                   1.066192e+00  \n",
       "7   1.734418e-06    0.0                   2.317203e-05  \n",
       "8   5.851374e-05    0.0                   7.817504e-04  \n",
       "9   4.477542e-03    0.0                   5.982048e-02  \n",
       "10  7.983168e-02    0.0                   1.066561e+00  \n",
       "11  2.420080e-06    0.0                   3.233255e-05  \n",
       "12  1.040396e-06    0.0                   1.389982e-05  \n",
       "13  6.660569e-04    0.0                   8.898598e-03  \n",
       "14  6.747366e-06    0.0                   9.014559e-05  \n",
       "15  5.742122e+00    0.0                   7.671542e+01  \n",
       "16  1.563102e+00    0.0                   2.088323e+01  \n",
       "17  9.183829e-03    0.0                   1.226970e-01  \n",
       "18  7.484965e+00    NaN                            NaN  "
      ]
     },
     "execution_count": 24,
     "metadata": {},
     "output_type": "execute_result"
    }
   ],
   "source": [
    "results_df"
   ]
  },
  {
   "cell_type": "code",
   "execution_count": 22,
   "metadata": {},
   "outputs": [
    {
     "data": {
      "text/plain": [
       "[(0.582722315238863,\n",
       "  0.6862984610311513,\n",
       "  'pig iron production' (kilogram, RoW, None)),\n",
       " (0.39136399843034175,\n",
       "  0.16138296211097597,\n",
       "  'treatment of residue from shredder fraction from manual dismantling, municipal waste incineration' (kilogram, RoW, None)),\n",
       " (0.34966611289893446,\n",
       "  0.8639858766304461,\n",
       "  'hard coal mine operation and hard coal preparation' (kilogram, CN, None)),\n",
       " (0.23562816678547388,\n",
       "  2.0473454844472845,\n",
       "  'heat production, at hard coal industrial furnace 1-10MW' (megajoule, RoW, None)),\n",
       " (0.1782925954652096,\n",
       "  0.720613351369965,\n",
       "  'iron sinter production' (kilogram, RoW, None)),\n",
       " (0.13897828872144707,\n",
       "  0.007965741810447312,\n",
       "  'natural gas venting from petroleum/natural gas production' (cubic meter, GLO, None)),\n",
       " (0.13820982148150324,\n",
       "  0.1362904012441366,\n",
       "  'electricity production, hard coal' (kilowatt hour, CN-SD, None)),\n",
       " (0.12564898431463734,\n",
       "  0.12389378191821376,\n",
       "  'electricity production, hard coal' (kilowatt hour, CN-NM, None)),\n",
       " (0.1141735522237947,\n",
       "  0.11258590625488792,\n",
       "  'electricity production, hard coal' (kilowatt hour, CN-JS, None)),\n",
       " (0.08389757458908255,\n",
       "  0.08273307520863143,\n",
       "  'electricity production, hard coal' (kilowatt hour, CN-SX, None))]"
      ]
     },
     "execution_count": 22,
     "metadata": {},
     "output_type": "execute_result"
    }
   ],
   "source": [
    "import bw2analyzer as ba\n",
    "ca = ba.contribution.ContributionAnalysis()\n",
    "ca.annotated_top_processes(lca_bg, limit=10)\n",
    "ca.annotated_top_emissions(lca_fg, limit=10)"
   ]
  },
  {
   "cell_type": "code",
   "execution_count": 43,
   "metadata": {},
   "outputs": [
    {
     "ename": "KeyError",
     "evalue": "9848.0",
     "output_type": "error",
     "traceback": [
      "\u001b[1;31m---------------------------------------------------------------------------\u001b[0m",
      "\u001b[1;31mKeyError\u001b[0m                                  Traceback (most recent call last)",
      "Cell \u001b[1;32mIn[43], line 1\u001b[0m\n\u001b[1;32m----> 1\u001b[0m \u001b[43mca\u001b[49m\u001b[38;5;241;43m.\u001b[39;49m\u001b[43md3_treemap\u001b[49m\u001b[43m(\u001b[49m\u001b[43mlca_bg\u001b[49m\u001b[38;5;241;43m.\u001b[39;49m\u001b[43mtechnosphere_matrix\u001b[49m\u001b[43m,\u001b[49m\u001b[43m \u001b[49m\u001b[43mlca_bg\u001b[49m\u001b[38;5;241;43m.\u001b[39;49m\u001b[43mdicts\u001b[49m\u001b[38;5;241;43m.\u001b[39;49m\u001b[43mbiosphere\u001b[49m\u001b[43m,\u001b[49m\u001b[43m \u001b[49m\u001b[43mlca_bg\u001b[49m\u001b[38;5;241;43m.\u001b[39;49m\u001b[43mdicts\u001b[49m\u001b[38;5;241;43m.\u001b[39;49m\u001b[43mactivity\u001b[49m\u001b[38;5;241;43m.\u001b[39;49m\u001b[43mreversed\u001b[49m\u001b[43m,\u001b[49m\u001b[43m \u001b[49m\u001b[43mlimit\u001b[49m\u001b[38;5;241;43m=\u001b[39;49m\u001b[38;5;241;43m0.025\u001b[39;49m\u001b[43m,\u001b[49m\u001b[43m \u001b[49m\u001b[43mlimit_type\u001b[49m\u001b[38;5;241;43m=\u001b[39;49m\u001b[38;5;124;43m'\u001b[39;49m\u001b[38;5;124;43mpercent\u001b[39;49m\u001b[38;5;124;43m'\u001b[39;49m\u001b[43m)\u001b[49m\n",
      "File \u001b[1;32mc:\\Users\\MULLERA\\AppData\\Local\\anaconda3\\envs\\bw25\\Lib\\site-packages\\bw2analyzer\\contribution.py:201\u001b[0m, in \u001b[0;36mContributionAnalysis.d3_treemap\u001b[1;34m(self, matrix, rev_bio, rev_techno, limit, limit_type)\u001b[0m\n\u001b[0;32m    192\u001b[0m children \u001b[38;5;241m=\u001b[39m []\n\u001b[0;32m    193\u001b[0m \u001b[38;5;28;01mfor\u001b[39;00m score, bio_index \u001b[38;5;129;01min\u001b[39;00m \u001b[38;5;28mself\u001b[39m\u001b[38;5;241m.\u001b[39msort_array(\n\u001b[0;32m    194\u001b[0m     matrix[:, \u001b[38;5;28mint\u001b[39m(tech_index)]\u001b[38;5;241m.\u001b[39mtoarray()\u001b[38;5;241m.\u001b[39mravel(),\n\u001b[0;32m    195\u001b[0m     limit\u001b[38;5;241m=\u001b[39mlimit,\n\u001b[0;32m    196\u001b[0m     limit_type\u001b[38;5;241m=\u001b[39mlimit_type,\n\u001b[0;32m    197\u001b[0m     total\u001b[38;5;241m=\u001b[39mtotal,\n\u001b[0;32m    198\u001b[0m ):\n\u001b[0;32m    199\u001b[0m     children\u001b[38;5;241m.\u001b[39mappend(\n\u001b[0;32m    200\u001b[0m         {\n\u001b[1;32m--> 201\u001b[0m             \u001b[38;5;124m\"\u001b[39m\u001b[38;5;124mname\u001b[39m\u001b[38;5;124m\"\u001b[39m: \u001b[38;5;28mself\u001b[39m\u001b[38;5;241m.\u001b[39mget_name(\u001b[43mrev_bio\u001b[49m\u001b[43m[\u001b[49m\u001b[43mbio_index\u001b[49m\u001b[43m]\u001b[49m),\n\u001b[0;32m    202\u001b[0m             \u001b[38;5;124m\"\u001b[39m\u001b[38;5;124msize\u001b[39m\u001b[38;5;124m\"\u001b[39m: \u001b[38;5;28mfloat\u001b[39m(\u001b[38;5;28mabs\u001b[39m(matrix[\u001b[38;5;28mint\u001b[39m(bio_index), \u001b[38;5;28mint\u001b[39m(tech_index)])),\n\u001b[0;32m    203\u001b[0m         }\n\u001b[0;32m    204\u001b[0m     )\n\u001b[0;32m    205\u001b[0m children_score \u001b[38;5;241m=\u001b[39m \u001b[38;5;28msum\u001b[39m([x[\u001b[38;5;124m\"\u001b[39m\u001b[38;5;124msize\u001b[39m\u001b[38;5;124m\"\u001b[39m] \u001b[38;5;28;01mfor\u001b[39;00m x \u001b[38;5;129;01min\u001b[39;00m children])\n\u001b[0;32m    206\u001b[0m \u001b[38;5;28;01mif\u001b[39;00m children_score \u001b[38;5;241m<\u001b[39m (\u001b[38;5;241m0.95\u001b[39m \u001b[38;5;241m*\u001b[39m this_score):\n",
      "File \u001b[1;32mc:\\Users\\MULLERA\\AppData\\Local\\anaconda3\\envs\\bw25\\Lib\\site-packages\\bw2calc\\dictionary_manager.py:13\u001b[0m, in \u001b[0;36mresolved.<locals>.wrapper\u001b[1;34m(self, *args)\u001b[0m\n\u001b[0;32m     11\u001b[0m     \u001b[38;5;28mself\u001b[39m\u001b[38;5;241m.\u001b[39m_resolved \u001b[38;5;241m=\u001b[39m \u001b[38;5;28;01mTrue\u001b[39;00m\n\u001b[0;32m     12\u001b[0m     \u001b[38;5;28mdelattr\u001b[39m(\u001b[38;5;28mself\u001b[39m, \u001b[38;5;124m\"\u001b[39m\u001b[38;5;124m_partial\u001b[39m\u001b[38;5;124m\"\u001b[39m)\n\u001b[1;32m---> 13\u001b[0m \u001b[38;5;28;01mreturn\u001b[39;00m \u001b[43mf\u001b[49m\u001b[43m(\u001b[49m\u001b[38;5;28;43mself\u001b[39;49m\u001b[43m,\u001b[49m\u001b[43m \u001b[49m\u001b[38;5;241;43m*\u001b[39;49m\u001b[43margs\u001b[49m\u001b[43m)\u001b[49m\n",
      "File \u001b[1;32mc:\\Users\\MULLERA\\AppData\\Local\\anaconda3\\envs\\bw25\\Lib\\site-packages\\bw2calc\\dictionary_manager.py:102\u001b[0m, in \u001b[0;36mReversibleRemappableDictionary.__getitem__\u001b[1;34m(self, key)\u001b[0m\n\u001b[0;32m    100\u001b[0m \u001b[38;5;129m@resolved\u001b[39m\n\u001b[0;32m    101\u001b[0m \u001b[38;5;28;01mdef\u001b[39;00m \u001b[38;5;21m__getitem__\u001b[39m(\u001b[38;5;28mself\u001b[39m, key):\n\u001b[1;32m--> 102\u001b[0m     \u001b[38;5;28;01mreturn\u001b[39;00m \u001b[38;5;28;43mself\u001b[39;49m\u001b[38;5;241;43m.\u001b[39;49m\u001b[43m_dict\u001b[49m\u001b[43m[\u001b[49m\u001b[43mkey\u001b[49m\u001b[43m]\u001b[49m\n",
      "\u001b[1;31mKeyError\u001b[0m: 9848.0"
     ]
    }
   ],
   "source": [
    "ca.d3_treemap(lca_bg.technosphere_matrix, lca_bg.dicts.biosphere, lca_bg.dicts.activity.reversed, limit=0.025, limit_type='percent')"
   ]
  },
  {
   "cell_type": "code",
   "execution_count": 54,
   "metadata": {},
   "outputs": [],
   "source": [
    "def print_recursive_calculation(activity, lcia_method, lca_obj=None, total_score=None, amount=1, level=0, max_level=3, cutoff=1e-2):\n",
    "    if lca_obj is None:\n",
    "        lca_obj = bc.LCA({activity.key: amount}, lcia_method)\n",
    "        lca_obj.lci()\n",
    "        lca_obj.lcia()\n",
    "        total_score = lca_obj.score\n",
    "    elif total_score is None:\n",
    "        raise ValueError\n",
    "    else:\n",
    "        lca_obj.redo_lcia({activity.id: amount})\n",
    "        if abs(lca_obj.score) <= abs(total_score * cutoff):\n",
    "            return\n",
    "    print(\"{}{:4.3f} ({:06.4f}): {:.70}\".format(\"  \" * level, lca_obj.score / total_score, lca_obj.score, str(activity)))\n",
    "    if level < max_level:\n",
    "        for exc in activity.technosphere():\n",
    "            print_recursive_calculation(\n",
    "                activity=exc.input, \n",
    "                lcia_method=lcia_method, \n",
    "                lca_obj=lca_obj, \n",
    "                total_score=total_score, \n",
    "                amount=amount * exc['amount'], \n",
    "                level=level + 1, \n",
    "                max_level=max_level, \n",
    "                cutoff=cutoff\n",
    "            )  "
   ]
  },
  {
   "cell_type": "code",
   "execution_count": 30,
   "metadata": {},
   "outputs": [
    {
     "name": "stdout",
     "output_type": "stream",
     "text": [
      "Differences observed. LCA scores:\n",
      "\t7.144 -> ('foreground', 'car_prod')\n",
      "\t7.485 -> ('db_2020', '2faf7f39dced7d6bad666f90033d76f9')\n"
     ]
    }
   ],
   "source": [
    "#using comparison function of bw2analyser\n",
    "activities = [car_prod, car_prod_background]\n",
    "ba.comparisons.compare_activities_by_lcia_score(activities, CC_method, band=0.01)"
   ]
  },
  {
   "cell_type": "markdown",
   "metadata": {},
   "source": [
    "Contribution analysis is identical by contributing process, but the total amount is wrong!"
   ]
  },
  {
   "cell_type": "code",
   "execution_count": 65,
   "metadata": {},
   "outputs": [
    {
     "name": "stdout",
     "output_type": "stream",
     "text": [
      "1.000 (7.4850): 'passenger car production, electric, without battery' (kilogram, GLO, \n",
      "0.767 (5.7421): 'market for glider, passenger car' (kilogram, GLO, None)\n",
      "  0.767 (5.7421): 'glider production, passenger car' (kilogram, GLO, None)\n",
      "    0.003 (0.0213): 'market for nylon 6' (kilogram, RoW, None)\n",
      "    0.003 (0.0214): 'market for magnesium' (kilogram, GLO, None)\n",
      "    0.011 (0.0823): 'market group for heat, district or industrial, natural gas' (megajoul\n",
      "    0.018 (0.1324): 'market for polypropylene, granulate' (kilogram, GLO, None)\n",
      "    0.000 (0.0032): 'market for sheet rolling, aluminium' (kilogram, GLO, None)\n",
      "    0.009 (0.0650): 'market for fibre, viscose' (kilogram, GLO, None)\n",
      "    0.001 (0.0041): 'market for zinc' (kilogram, GLO, None)\n",
      "    0.009 (0.0648): 'market for road vehicle factory' (unit, GLO, None)\n",
      "    0.002 (0.0168): 'market for aluminium, wrought alloy' (kilogram, GLO, None)\n",
      "    0.000 (0.0009): 'market for lubricating oil' (kilogram, RER, None)\n",
      "    0.000 (0.0023): 'market group for tap water' (kilogram, GLO, None)\n",
      "    0.002 (0.0116): 'market for epoxy resin, liquid' (kilogram, RER, None)\n",
      "    0.001 (0.0048): 'market for lubricating oil' (kilogram, RoW, None)\n",
      "    0.004 (0.0306): 'market for light emitting diode' (kilogram, GLO, None)\n",
      "    0.000 (0.0026): 'market for wire drawing, copper' (kilogram, GLO, None)\n",
      "    0.001 (0.0065): 'market for tempering, flat glass' (kilogram, GLO, None)\n",
      "    0.044 (0.3308): 'market for steel, low-alloyed, hot rolled' (kilogram, GLO, None)\n",
      "    0.008 (0.0572): 'market for epoxy resin, liquid' (kilogram, RoW, None)\n",
      "    0.009 (0.0664): 'market for coating powder' (kilogram, RoW, None)\n",
      "    0.004 (0.0277): 'market for polyvinylchloride, suspension polymerised' (kilogram, GLO,\n",
      "    0.001 (0.0054): 'market for polyethylene terephthalate, granulate, amorphous' (kilogra\n",
      "    0.001 (0.0059): 'market group for heat, district or industrial, other than natural gas\n",
      "    0.004 (0.0319): 'market for flat glass, uncoated' (kilogram, RoW, None)\n",
      "    0.007 (0.0511): 'market for copper, cathode' (kilogram, GLO, None)\n",
      "    0.065 (0.4893): 'market for printed wiring board, mounted mainboard, desktop computer,\n",
      "    0.003 (0.0258): 'market for coating powder' (kilogram, RER, None)\n",
      "    0.001 (0.0063): 'market for flat glass, uncoated' (kilogram, RER, None)\n",
      "    0.000 (0.0019): 'market for glass fibre reinforced plastic, polyester resin, hand lay-\n",
      "    0.006 (0.0421): 'market for polyethylene, low density, granulate' (kilogram, GLO, None\n",
      "    0.001 (0.0105): 'market for nylon 6' (kilogram, RER, None)\n",
      "    0.003 (0.0259): 'market for polyurethane, flexible foam' (kilogram, RER, None)\n",
      "    0.020 (0.1524): 'market for synthetic rubber' (kilogram, GLO, None)\n",
      "    0.000 (0.0037): 'market for lead' (kilogram, GLO, None)\n",
      "    0.016 (0.1195): 'market for steel, chromium steel 18/8, hot rolled' (kilogram, GLO, No\n",
      "    0.003 (0.0244): 'market for aluminium, cast alloy' (kilogram, GLO, None)\n",
      "    0.210 (1.5700): 'market for reinforcing steel' (kilogram, GLO, None)\n",
      "    0.019 (0.1421): 'market for polyurethane, flexible foam' (kilogram, RoW, None)\n",
      "    0.003 (0.0237): 'market for acrylonitrile-butadiene-styrene copolymer' (kilogram, GLO,\n",
      "    0.031 (0.2319): 'market for sheet rolling, steel' (kilogram, GLO, None)\n",
      "    0.170 (1.2716): 'market group for electricity, medium voltage' (kilowatt hour, World, \n",
      "0.209 (1.5631): 'market for powertrain, for electric passenger car' (kilogram, GLO, No\n",
      "  0.209 (1.5631): 'powertrain production, for electric passenger car' (kilogram, GLO, No\n",
      "    0.027 (0.2051): 'market for power distribution unit, for electric passenger car' (kilo\n",
      "    0.069 (0.5197): 'market for electric motor, electric passenger car' (kilogram, GLO, No\n",
      "    0.058 (0.4335): 'market for inverter, for electric passenger car' (kilogram, GLO, None\n",
      "    0.026 (0.1958): 'market for converter, for electric passenger car' (kilogram, GLO, Non\n",
      "    0.025 (0.1876): 'market for charger, electric passenger car' (kilogram, GLO, None)\n",
      "    0.002 (0.0169): 'market for cable, three-conductor cable' (meter, GLO, None)\n",
      "0.001 (0.0092): 'market for manual dismantling of used electric passenger car' (unit, \n",
      "  0.001 (0.0092): 'manual dismantling of used electric passenger car' (unit, GLO, None)\n",
      "    0.001 (0.0092): 'market for manual treatment facility, waste electric and electronic e\n"
     ]
    }
   ],
   "source": [
    "print_recursive_calculation(car_prod_background, CC_method, lca_obj=None, total_score=None, amount=1, level=-1, max_level=2, cutoff=1e-4)"
   ]
  },
  {
   "cell_type": "code",
   "execution_count": 66,
   "metadata": {},
   "outputs": [
    {
     "name": "stdout",
     "output_type": "stream",
     "text": [
      "1.000 (7.1439): 'foreground car production, electric, without battery' (None, GLO, Non\n",
      "0.804 (5.7421): 'market for glider, passenger car' (kilogram, GLO, None)\n",
      "  0.804 (5.7421): 'glider production, passenger car' (kilogram, GLO, None)\n",
      "    0.003 (0.0213): 'market for nylon 6' (kilogram, RoW, None)\n",
      "    0.003 (0.0214): 'market for magnesium' (kilogram, GLO, None)\n",
      "    0.012 (0.0823): 'market group for heat, district or industrial, natural gas' (megajoul\n",
      "    0.019 (0.1324): 'market for polypropylene, granulate' (kilogram, GLO, None)\n",
      "    0.000 (0.0032): 'market for sheet rolling, aluminium' (kilogram, GLO, None)\n",
      "    0.009 (0.0650): 'market for fibre, viscose' (kilogram, GLO, None)\n",
      "    0.001 (0.0041): 'market for zinc' (kilogram, GLO, None)\n",
      "    0.009 (0.0648): 'market for road vehicle factory' (unit, GLO, None)\n",
      "    0.002 (0.0168): 'market for aluminium, wrought alloy' (kilogram, GLO, None)\n",
      "    0.000 (0.0009): 'market for lubricating oil' (kilogram, RER, None)\n",
      "    0.000 (0.0023): 'market group for tap water' (kilogram, GLO, None)\n",
      "    0.002 (0.0116): 'market for epoxy resin, liquid' (kilogram, RER, None)\n",
      "    0.001 (0.0048): 'market for lubricating oil' (kilogram, RoW, None)\n",
      "    0.004 (0.0306): 'market for light emitting diode' (kilogram, GLO, None)\n",
      "    0.000 (0.0026): 'market for wire drawing, copper' (kilogram, GLO, None)\n",
      "    0.001 (0.0065): 'market for tempering, flat glass' (kilogram, GLO, None)\n",
      "    0.046 (0.3308): 'market for steel, low-alloyed, hot rolled' (kilogram, GLO, None)\n",
      "    0.008 (0.0572): 'market for epoxy resin, liquid' (kilogram, RoW, None)\n",
      "    0.009 (0.0664): 'market for coating powder' (kilogram, RoW, None)\n",
      "    0.004 (0.0277): 'market for polyvinylchloride, suspension polymerised' (kilogram, GLO,\n",
      "    0.001 (0.0054): 'market for polyethylene terephthalate, granulate, amorphous' (kilogra\n",
      "    0.001 (0.0059): 'market group for heat, district or industrial, other than natural gas\n",
      "    0.004 (0.0319): 'market for flat glass, uncoated' (kilogram, RoW, None)\n",
      "    0.007 (0.0511): 'market for copper, cathode' (kilogram, GLO, None)\n",
      "    0.068 (0.4893): 'market for printed wiring board, mounted mainboard, desktop computer,\n",
      "    0.004 (0.0258): 'market for coating powder' (kilogram, RER, None)\n",
      "    0.001 (0.0063): 'market for flat glass, uncoated' (kilogram, RER, None)\n",
      "    0.000 (0.0019): 'market for glass fibre reinforced plastic, polyester resin, hand lay-\n",
      "    0.006 (0.0421): 'market for polyethylene, low density, granulate' (kilogram, GLO, None\n",
      "    0.001 (0.0105): 'market for nylon 6' (kilogram, RER, None)\n",
      "    0.004 (0.0259): 'market for polyurethane, flexible foam' (kilogram, RER, None)\n",
      "    0.021 (0.1524): 'market for synthetic rubber' (kilogram, GLO, None)\n",
      "    0.001 (0.0037): 'market for lead' (kilogram, GLO, None)\n",
      "    0.017 (0.1195): 'market for steel, chromium steel 18/8, hot rolled' (kilogram, GLO, No\n",
      "    0.003 (0.0244): 'market for aluminium, cast alloy' (kilogram, GLO, None)\n",
      "    0.220 (1.5700): 'market for reinforcing steel' (kilogram, GLO, None)\n",
      "    0.020 (0.1421): 'market for polyurethane, flexible foam' (kilogram, RoW, None)\n",
      "    0.003 (0.0237): 'market for acrylonitrile-butadiene-styrene copolymer' (kilogram, GLO,\n",
      "    0.032 (0.2319): 'market for sheet rolling, steel' (kilogram, GLO, None)\n",
      "    0.178 (1.2716): 'market group for electricity, medium voltage' (kilowatt hour, World, \n",
      "0.219 (1.5631): 'market for powertrain, for electric passenger car' (kilogram, GLO, No\n",
      "  0.219 (1.5631): 'powertrain production, for electric passenger car' (kilogram, GLO, No\n",
      "    0.029 (0.2051): 'market for power distribution unit, for electric passenger car' (kilo\n",
      "    0.073 (0.5197): 'market for electric motor, electric passenger car' (kilogram, GLO, No\n",
      "    0.061 (0.4335): 'market for inverter, for electric passenger car' (kilogram, GLO, None\n",
      "    0.027 (0.1958): 'market for converter, for electric passenger car' (kilogram, GLO, Non\n",
      "    0.026 (0.1876): 'market for charger, electric passenger car' (kilogram, GLO, None)\n",
      "    0.002 (0.0169): 'market for cable, three-conductor cable' (meter, GLO, None)\n",
      "0.001 (0.0092): 'market for manual dismantling of used electric passenger car' (unit, \n",
      "  0.001 (0.0092): 'manual dismantling of used electric passenger car' (unit, GLO, None)\n",
      "    0.001 (0.0092): 'market for manual treatment facility, waste electric and electronic e\n"
     ]
    }
   ],
   "source": [
    "print_recursive_calculation(car_prod, CC_method, lca_obj=None, total_score=None, amount=1, level=-1, max_level=2, cutoff=1e-4)"
   ]
  },
  {
   "cell_type": "code",
   "execution_count": 34,
   "metadata": {},
   "outputs": [
    {
     "data": {
      "text/html": [
       "<div>\n",
       "<style scoped>\n",
       "    .dataframe tbody tr th:only-of-type {\n",
       "        vertical-align: middle;\n",
       "    }\n",
       "\n",
       "    .dataframe tbody tr th {\n",
       "        vertical-align: top;\n",
       "    }\n",
       "\n",
       "    .dataframe thead th {\n",
       "        text-align: right;\n",
       "    }\n",
       "</style>\n",
       "<table border=\"1\" class=\"dataframe\">\n",
       "  <thead>\n",
       "    <tr style=\"text-align: right;\">\n",
       "      <th></th>\n",
       "      <th>activity</th>\n",
       "      <th>product</th>\n",
       "      <th>location</th>\n",
       "      <th>unit</th>\n",
       "      <th>total</th>\n",
       "      <th>direct emissions</th>\n",
       "      <th>4124: Bars and rods, hot-rolled, of iron or steel</th>\n",
       "      <th>None</th>\n",
       "      <th>4613: Parts for the goods of classes 4611 and 4612</th>\n",
       "      <th>4611: Electric motors, generators and the like</th>\n",
       "      <th>...</th>\n",
       "      <th>6512: Railway transport services of freight</th>\n",
       "      <th>88531: Glass manufacturing services</th>\n",
       "      <th>33380: Lubricants</th>\n",
       "      <th>41442: Zinc, unwrought</th>\n",
       "      <th>41441: Lead, unwrought</th>\n",
       "      <th>41513: Wire of copper</th>\n",
       "      <th>65219: Other coastal and transoceanic water transport services of other freight</th>\n",
       "      <th>18000: Natural water</th>\n",
       "      <th>36990: Articles of plastics n.e.c.</th>\n",
       "      <th>65229: Other inland water transport services of freight</th>\n",
       "    </tr>\n",
       "  </thead>\n",
       "  <tbody>\n",
       "    <tr>\n",
       "      <th>0</th>\n",
       "      <td>passenger car production, electric, without ba...</td>\n",
       "      <td>passenger car, electric, without battery</td>\n",
       "      <td>GLO</td>\n",
       "      <td>kilogram</td>\n",
       "      <td>7.484965</td>\n",
       "      <td>0.0</td>\n",
       "      <td>1.537191</td>\n",
       "      <td>1.271628</td>\n",
       "      <td>0.638605</td>\n",
       "      <td>0.519714</td>\n",
       "      <td>...</td>\n",
       "      <td>0.008767</td>\n",
       "      <td>0.006488</td>\n",
       "      <td>0.005689</td>\n",
       "      <td>0.004075</td>\n",
       "      <td>0.003663</td>\n",
       "      <td>0.002646</td>\n",
       "      <td>0.002294</td>\n",
       "      <td>0.002294</td>\n",
       "      <td>0.001852</td>\n",
       "      <td>0.000752</td>\n",
       "    </tr>\n",
       "    <tr>\n",
       "      <th>1</th>\n",
       "      <td>foreground car production, electric, without b...</td>\n",
       "      <td></td>\n",
       "      <td>GLO</td>\n",
       "      <td></td>\n",
       "      <td>7.143851</td>\n",
       "      <td>0.0</td>\n",
       "      <td>1.537191</td>\n",
       "      <td>1.271628</td>\n",
       "      <td>0.638605</td>\n",
       "      <td>0.519714</td>\n",
       "      <td>...</td>\n",
       "      <td>0.008767</td>\n",
       "      <td>0.006488</td>\n",
       "      <td>0.005689</td>\n",
       "      <td>0.004075</td>\n",
       "      <td>0.003663</td>\n",
       "      <td>0.002646</td>\n",
       "      <td>0.002294</td>\n",
       "      <td>0.002294</td>\n",
       "      <td>0.001852</td>\n",
       "      <td>0.000752</td>\n",
       "    </tr>\n",
       "  </tbody>\n",
       "</table>\n",
       "<p>2 rows × 45 columns</p>\n",
       "</div>"
      ],
      "text/plain": [
       "                                            activity  \\\n",
       "0  passenger car production, electric, without ba...   \n",
       "1  foreground car production, electric, without b...   \n",
       "\n",
       "                                    product location      unit     total  \\\n",
       "0  passenger car, electric, without battery      GLO  kilogram  7.484965   \n",
       "1                                                GLO            7.143851   \n",
       "\n",
       "   direct emissions  4124: Bars and rods, hot-rolled, of iron or steel  \\\n",
       "0               0.0                                           1.537191   \n",
       "1               0.0                                           1.537191   \n",
       "\n",
       "       None  4613: Parts for the goods of classes 4611 and 4612  \\\n",
       "0  1.271628                                           0.638605    \n",
       "1  1.271628                                           0.638605    \n",
       "\n",
       "   4611: Electric motors, generators and the like  ...  \\\n",
       "0                                        0.519714  ...   \n",
       "1                                        0.519714  ...   \n",
       "\n",
       "   6512: Railway transport services of freight  \\\n",
       "0                                     0.008767   \n",
       "1                                     0.008767   \n",
       "\n",
       "   88531: Glass manufacturing services  33380: Lubricants  \\\n",
       "0                             0.006488           0.005689   \n",
       "1                             0.006488           0.005689   \n",
       "\n",
       "   41442: Zinc, unwrought  41441: Lead, unwrought  41513: Wire of copper  \\\n",
       "0                0.004075                0.003663               0.002646   \n",
       "1                0.004075                0.003663               0.002646   \n",
       "\n",
       "   65219: Other coastal and transoceanic water transport services of other freight  \\\n",
       "0                                           0.002294                                 \n",
       "1                                           0.002294                                 \n",
       "\n",
       "   18000: Natural water  36990: Articles of plastics n.e.c.  \\\n",
       "0              0.002294                            0.001852   \n",
       "1              0.002294                            0.001852   \n",
       "\n",
       "   65229: Other inland water transport services of freight  \n",
       "0                                           0.000752        \n",
       "1                                           0.000752        \n",
       "\n",
       "[2 rows x 45 columns]"
      ]
     },
     "execution_count": 34,
     "metadata": {},
     "output_type": "execute_result"
    }
   ],
   "source": [
    "ba.comparisons.compare_activities_by_grouped_leaves(activities, CC_method, mode='absolute', max_level=4, cutoff=0.0075, output_format='pandas', str_length=30)"
   ]
  },
  {
   "cell_type": "code",
   "execution_count": 35,
   "metadata": {},
   "outputs": [
    {
     "data": {
      "text/plain": [
       "[(3.4869516299398082,\n",
       "  3.4869516299398096,\n",
       "  'Carbon dioxide, fossil' (kilogram, None, ('air', 'non-urban air or from high stacks'))),\n",
       " (1.447295978089624,\n",
       "  1.4472959780896237,\n",
       "  'Carbon dioxide, fossil' (kilogram, None, ('air',))),\n",
       " (1.3662745854271725,\n",
       "  1.3662745854271743,\n",
       "  'Carbon dioxide, fossil' (kilogram, None, ('air', 'urban air close to ground'))),\n",
       " (0.6165726720393878,\n",
       "  0.020690358651841594,\n",
       "  'Methane, fossil' (kilogram, None, ('air', 'non-urban air or from high stacks'))),\n",
       " (0.08835908794612665,\n",
       "  0.002965070141217974,\n",
       "  'Methane, fossil' (kilogram, None, ('air', 'urban air close to ground'))),\n",
       " (0.04108046084795087,\n",
       "  0.00015047787856392248,\n",
       "  'Dinitrogen monoxide' (kilogram, None, ('air', 'urban air close to ground'))),\n",
       " (0.01922163172619143,\n",
       "  2.604557144470384e-06,\n",
       "  'Methane, tetrafluoro-, R-14' (kilogram, None, ('air',))),\n",
       " (0.016559933486495714,\n",
       "  6.06590970201308e-05,\n",
       "  'Dinitrogen monoxide' (kilogram, None, ('air', 'non-urban air or from high stacks'))),\n",
       " (0.014549927881390238,\n",
       "  1.1733812807572774e-06,\n",
       "  'Ethane, hexafluoro-, HFC-116' (kilogram, None, ('air', 'urban air close to ground'))),\n",
       " (0.011208856673340532,\n",
       "  0.011208856673340541,\n",
       "  'Carbon dioxide, from soil or biomass stock' (kilogram, None, ('air', 'non-urban air or from high stacks')))]"
      ]
     },
     "execution_count": 35,
     "metadata": {},
     "output_type": "execute_result"
    }
   ],
   "source": [
    "import bw2analyzer as ba\n",
    "ca = ba.contribution.ContributionAnalysis()\n",
    "#ca.annotated_top_processes(lca_fg, limit=10)\n",
    "ca.annotated_top_emissions(lca_fg, limit=10)"
   ]
  },
  {
   "cell_type": "code",
   "execution_count": 134,
   "metadata": {},
   "outputs": [
    {
     "data": {
      "text/plain": [
       "[(3.48945288809704,\n",
       "  3.4894528880970355,\n",
       "  'Carbon dioxide, fossil' (kilogram, None, ('air', 'non-urban air or from high stacks'))),\n",
       " (1.7012817015789625,\n",
       "  1.7012817015789647,\n",
       "  'Carbon dioxide, fossil' (kilogram, None, ('air', 'urban air close to ground'))),\n",
       " (1.4494585621482359,\n",
       "  1.4494585621482359,\n",
       "  'Carbon dioxide, fossil' (kilogram, None, ('air',))),\n",
       " (0.617013415943002,\n",
       "  0.02070514871609991,\n",
       "  'Methane, fossil' (kilogram, None, ('air', 'non-urban air or from high stacks'))),\n",
       " (0.08869706816567792,\n",
       "  0.002976411759614088,\n",
       "  'Methane, fossil' (kilogram, None, ('air', 'urban air close to ground'))),\n",
       " (0.04124832897220351,\n",
       "  0.00015109278011796127,\n",
       "  'Dinitrogen monoxide' (kilogram, None, ('air', 'urban air close to ground'))),\n",
       " (0.019222249090697037,\n",
       "  2.6046407981974302e-06,\n",
       "  'Methane, tetrafluoro-, R-14' (kilogram, None, ('air',))),\n",
       " (0.016566944870258216,\n",
       "  6.068477974453564e-05,\n",
       "  'Dinitrogen monoxide' (kilogram, None, ('air', 'non-urban air or from high stacks'))),\n",
       " (0.01455002655977723,\n",
       "  1.1733892386917123e-06,\n",
       "  'Ethane, hexafluoro-, HFC-116' (kilogram, None, ('air', 'urban air close to ground'))),\n",
       " (0.011214480133019612,\n",
       "  0.01121448013301961,\n",
       "  'Carbon dioxide, from soil or biomass stock' (kilogram, None, ('air', 'non-urban air or from high stacks')))]"
      ]
     },
     "execution_count": 134,
     "metadata": {},
     "output_type": "execute_result"
    }
   ],
   "source": [
    "import bw2analyzer as ba\n",
    "ca = ba.contribution.ContributionAnalysis()\n",
    "\n",
    "ca.annotated_top_emissions(lca_bg, limit=10)"
   ]
  },
  {
   "cell_type": "code",
   "execution_count": 68,
   "metadata": {},
   "outputs": [],
   "source": [
    "top_emissions_bg = ca.annotated_top_emissions(lca_bg, limit=10)"
   ]
  },
  {
   "cell_type": "code",
   "execution_count": 149,
   "metadata": {},
   "outputs": [],
   "source": [
    "import pandas as pd\n",
    "# Extracting data into separate lists\n",
    "top_emissions_bg = ca.annotated_top_emissions(lca_bg, limit=10)\n",
    "#column1 = [(item[2][\"name\"], item[2][\"categories\"]) for item in top_emissions_bg]\n",
    "column2 = [(item[1]) for item in top_emissions_bg]\n",
    "column3= [(item[2][\"id\"]) for item in top_emissions_bg]\n",
    "df_bg = pd.DataFrame({'flow_id': column3, 'amount': column2,})# \"id\": column3})\n",
    "\n",
    "top_emissions_fg = ca.annotated_top_emissions(lca_fg, limit=10)\n",
    "#column1 = [(item[2][\"name\"], item[2][\"categories\"]) for item in top_emissions_fg]\n",
    "column2 = [(item[1]) for item in top_emissions_fg]\n",
    "column3= [(item[2][\"id\"]) for item in top_emissions_bg]\n",
    "df_fg = pd.DataFrame({'flow_id': column3, 'amount': column2,})# \"id\": column3})\n",
    "\n",
    "emission_comparison = pd.merge(df_fg, df_bg, on=\"flow_id\", how =\"outer\")\n",
    "emission_comparison[\"delta\"]= emission_comparison[\"amount_x\"]-emission_comparison[\"amount_y\"]\n",
    "\n"
   ]
  },
  {
   "cell_type": "code",
   "execution_count": 150,
   "metadata": {},
   "outputs": [
    {
     "data": {
      "text/html": [
       "<div>\n",
       "<style scoped>\n",
       "    .dataframe tbody tr th:only-of-type {\n",
       "        vertical-align: middle;\n",
       "    }\n",
       "\n",
       "    .dataframe tbody tr th {\n",
       "        vertical-align: top;\n",
       "    }\n",
       "\n",
       "    .dataframe thead th {\n",
       "        text-align: right;\n",
       "    }\n",
       "</style>\n",
       "<table border=\"1\" class=\"dataframe\">\n",
       "  <thead>\n",
       "    <tr style=\"text-align: right;\">\n",
       "      <th></th>\n",
       "      <th>flow_id</th>\n",
       "      <th>amount_x</th>\n",
       "      <th>amount_y</th>\n",
       "      <th>delta</th>\n",
       "    </tr>\n",
       "  </thead>\n",
       "  <tbody>\n",
       "    <tr>\n",
       "      <th>0</th>\n",
       "      <td>1168</td>\n",
       "      <td>3.486952</td>\n",
       "      <td>3.489453</td>\n",
       "      <td>-2.501258e-03</td>\n",
       "    </tr>\n",
       "    <tr>\n",
       "      <th>1</th>\n",
       "      <td>112</td>\n",
       "      <td>1.447296</td>\n",
       "      <td>1.701282</td>\n",
       "      <td>-2.539857e-01</td>\n",
       "    </tr>\n",
       "    <tr>\n",
       "      <th>2</th>\n",
       "      <td>1171</td>\n",
       "      <td>1.366275</td>\n",
       "      <td>1.449459</td>\n",
       "      <td>-8.318398e-02</td>\n",
       "    </tr>\n",
       "    <tr>\n",
       "      <th>3</th>\n",
       "      <td>1649</td>\n",
       "      <td>0.020690</td>\n",
       "      <td>0.020705</td>\n",
       "      <td>-1.479006e-05</td>\n",
       "    </tr>\n",
       "    <tr>\n",
       "      <th>4</th>\n",
       "      <td>438</td>\n",
       "      <td>0.002965</td>\n",
       "      <td>0.002976</td>\n",
       "      <td>-1.134162e-05</td>\n",
       "    </tr>\n",
       "    <tr>\n",
       "      <th>5</th>\n",
       "      <td>4684</td>\n",
       "      <td>0.000150</td>\n",
       "      <td>0.000151</td>\n",
       "      <td>-6.149016e-07</td>\n",
       "    </tr>\n",
       "    <tr>\n",
       "      <th>6</th>\n",
       "      <td>1664</td>\n",
       "      <td>0.000003</td>\n",
       "      <td>0.000003</td>\n",
       "      <td>-8.365373e-11</td>\n",
       "    </tr>\n",
       "    <tr>\n",
       "      <th>7</th>\n",
       "      <td>4685</td>\n",
       "      <td>0.000061</td>\n",
       "      <td>0.000061</td>\n",
       "      <td>-2.568272e-08</td>\n",
       "    </tr>\n",
       "    <tr>\n",
       "      <th>8</th>\n",
       "      <td>255</td>\n",
       "      <td>0.000001</td>\n",
       "      <td>0.000001</td>\n",
       "      <td>-7.957934e-12</td>\n",
       "    </tr>\n",
       "    <tr>\n",
       "      <th>9</th>\n",
       "      <td>3642</td>\n",
       "      <td>0.011209</td>\n",
       "      <td>0.011214</td>\n",
       "      <td>-5.623460e-06</td>\n",
       "    </tr>\n",
       "  </tbody>\n",
       "</table>\n",
       "</div>"
      ],
      "text/plain": [
       "   flow_id  amount_x  amount_y         delta\n",
       "0     1168  3.486952  3.489453 -2.501258e-03\n",
       "1      112  1.447296  1.701282 -2.539857e-01\n",
       "2     1171  1.366275  1.449459 -8.318398e-02\n",
       "3     1649  0.020690  0.020705 -1.479006e-05\n",
       "4      438  0.002965  0.002976 -1.134162e-05\n",
       "5     4684  0.000150  0.000151 -6.149016e-07\n",
       "6     1664  0.000003  0.000003 -8.365373e-11\n",
       "7     4685  0.000061  0.000061 -2.568272e-08\n",
       "8      255  0.000001  0.000001 -7.957934e-12\n",
       "9     3642  0.011209  0.011214 -5.623460e-06"
      ]
     },
     "execution_count": 150,
     "metadata": {},
     "output_type": "execute_result"
    }
   ],
   "source": [
    "emission_comparison "
   ]
  },
  {
   "attachments": {
    "image.png": {
     "image/png": "[encoded data removed]"
    }
   },
   "cell_type": "markdown",
   "metadata": {},
   "source": [
    "![image.png](attachment:image.png)\n",
    "the problem lies here at biosphere flow 112 and 1171, but I don't know how to find the actual error"
   ]
  },
  {
   "cell_type": "code",
   "execution_count": 132,
   "metadata": {},
   "outputs": [
    {
     "data": {
      "text/plain": [
       "'Carbon dioxide, fossil' (kilogram, None, ('air', 'urban air close to ground'))"
      ]
     },
     "execution_count": 132,
     "metadata": {},
     "output_type": "execute_result"
    }
   ],
   "source": [
    "bd.get_node(id=112)"
   ]
  },
  {
   "cell_type": "code",
   "execution_count": 133,
   "metadata": {},
   "outputs": [
    {
     "data": {
      "text/plain": [
       "'Carbon dioxide, fossil' (kilogram, None, ('air',))"
      ]
     },
     "execution_count": 133,
     "metadata": {},
     "output_type": "execute_result"
    }
   ],
   "source": [
    "bd.get_node(id=1171)"
   ]
  },
  {
   "cell_type": "code",
   "execution_count": 165,
   "metadata": {},
   "outputs": [
    {
     "data": {
      "text/plain": [
       "156"
      ]
     },
     "execution_count": 165,
     "metadata": {},
     "output_type": "execute_result"
    }
   ],
   "source": [
    "co2_urban_air_id = lca_fg.dicts.biosphere.reversed[112]\n",
    "co2_urban_air_id"
   ]
  },
  {
   "cell_type": "markdown",
   "metadata": {},
   "source": [
    "check matrices"
   ]
  },
  {
   "cell_type": "code",
   "execution_count": 27,
   "metadata": {},
   "outputs": [
    {
     "data": {
      "text/plain": [
       "<2429x24107 sparse matrix of type '<class 'numpy.float64'>'\n",
       "\twith 302034 stored elements in Compressed Sparse Row format>"
      ]
     },
     "execution_count": 27,
     "metadata": {},
     "output_type": "execute_result"
    }
   ],
   "source": [
    "lca_fg.inventory"
   ]
  },
  {
   "cell_type": "code",
   "execution_count": 28,
   "metadata": {},
   "outputs": [
    {
     "data": {
      "text/plain": [
       "<2429x24105 sparse matrix of type '<class 'numpy.float64'>'\n",
       "\twith 302580 stored elements in Compressed Sparse Row format>"
      ]
     },
     "execution_count": 28,
     "metadata": {},
     "output_type": "execute_result"
    }
   ],
   "source": [
    "lca_bg.inventory"
   ]
  },
  {
   "cell_type": "code",
   "execution_count": null,
   "metadata": {},
   "outputs": [
    {
     "data": {
      "text/plain": [
       "{98281: 1}"
      ]
     },
     "execution_count": 29,
     "metadata": {},
     "output_type": "execute_result"
    }
   ],
   "source": [
    "lca_fg.demand"
   ]
  },
  {
   "cell_type": "code",
   "execution_count": 30,
   "metadata": {},
   "outputs": [
    {
     "data": {
      "text/plain": [
       "'passenger car production, electric, without battery' (kilogram, GLO, None)"
      ]
     },
     "execution_count": 30,
     "metadata": {},
     "output_type": "execute_result"
    }
   ],
   "source": [
    "bd.get_node(id=29952)"
   ]
  },
  {
   "cell_type": "code",
   "execution_count": 31,
   "metadata": {},
   "outputs": [
    {
     "data": {
      "text/plain": [
       "24106"
      ]
     },
     "execution_count": 31,
     "metadata": {},
     "output_type": "execute_result"
    }
   ],
   "source": [
    "lca_fg.dicts.activity[98281] #matrix_id"
   ]
  },
  {
   "cell_type": "code",
   "execution_count": 32,
   "metadata": {},
   "outputs": [
    {
     "name": "stdout",
     "output_type": "stream",
     "text": [
      "-6.116388703958364e-06 'market for waste glass' (kilogram, CY, None)\n",
      "-0.0010599906090646982 'market for waste rubber, unspecified' (kilogram, CH, None)\n",
      "-0.912635326385498 'market for glider, passenger car' (kilogram, GLO, None)\n",
      "-0.0029251330997794867 'market for waste glass' (kilogram, BR, None)\n",
      "-0.005556371994316578 'market group for waste glass' (kilogram, RER, None)\n",
      "-0.0009497396531514823 'market for waste mineral oil' (kilogram, Europe without Switzerland, None)\n",
      "-0.02525000460445881 'market for waste rubber, unspecified' (kilogram, RoW, None)\n",
      "-2.5153587557724677e-05 'market for waste glass' (kilogram, IN, None)\n",
      "-2.3511776817031205e-05 'market for waste mineral oil' (kilogram, CH, None)\n",
      "-0.002486748620867729 'market for waste mineral oil' (kilogram, RoW, None)\n",
      "-0.02525000460445881 'market for waste rubber, unspecified' (kilogram, Europe without Switzerland, None)\n",
      "-0.0001125530616263859 'market for waste glass' (kilogram, ZA, None)\n",
      "-3.8197125832084566e-05 'market for waste glass' (kilogram, PE, None)\n",
      "-0.02756687067449093 'market for waste glass' (kilogram, RoW, None)\n",
      "-0.0002696031879168004 'market for waste glass' (kilogram, CO, None)\n",
      "-0.08736468106508255 'market for powertrain, for electric passenger car' (kilogram, GLO, None)\n",
      "-1.0 'market for manual dismantling of used electric passenger car' (unit, GLO, None)\n",
      "1.0 'foreground car production, electric, without battery' (None, GLO, None)\n"
     ]
    }
   ],
   "source": [
    "#retrieve exchanges directly from matrices -> also fine\n",
    "column_ids = lca_fg.technosphere_matrix[:,24106].nonzero()\n",
    "\n",
    "for id in column_ids[0]:\n",
    "    lca_fg.technosphere_matrix[id,24106]\n",
    "    print(lca_fg.technosphere_matrix[id,24106], bd.get_node(id=lca_fg.dicts.activity.reversed[id]))"
   ]
  }
 ],
 "metadata": {
  "kernelspec": {
   "display_name": "Python 3",
   "language": "python",
   "name": "python3"
  },
  "language_info": {
   "codemirror_mode": {
    "name": "ipython",
    "version": 3
   },
   "file_extension": ".py",
   "mimetype": "text/x-python",
   "name": "python",
   "nbconvert_exporter": "python",
   "pygments_lexer": "ipython3",
   "version": "3.12.0"
  }
 },
 "nbformat": 4,
 "nbformat_minor": 2
}
