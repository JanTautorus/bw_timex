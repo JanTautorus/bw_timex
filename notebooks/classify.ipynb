{
 "cells": [
  {
   "cell_type": "markdown",
   "id": "bee706e3",
   "metadata": {},
   "source": [
    "# `MEDUSA`\n",
    "aka. Dynamic-Prospective LCA aka. Union(premise, temporalis)"
   ]
  },
  {
   "cell_type": "code",
   "execution_count": 1,
   "id": "d8cd7a3f",
   "metadata": {
    "tags": []
   },
   "outputs": [],
   "source": [
    "from bw_temporalis import easy_timedelta_distribution, TemporalDistribution, easy_datetime_distribution\n",
    "import sys\n",
    "import os\n",
    "sys.path.append(os.path.realpath('../'))\n",
    "from medusa.edge_extractor import *\n",
    "from medusa.matrix_modifier import MatrixModifier\n",
    "from medusa.medusa_lca import *\n",
    "from medusa.timeline_builder import TimelineBuilder\n",
    "import bw2data as bd\n",
    "import bw2calc as bc\n",
    "import numpy as np\n",
    "import pandas as pd"
   ]
  },
  {
   "cell_type": "code",
   "execution_count": 2,
   "id": "5d3622ff",
   "metadata": {},
   "outputs": [
    {
     "name": "stderr",
     "output_type": "stream",
     "text": [
      "100%|██████████| 1/1 [00:00<00:00, 5461.33it/s]\n"
     ]
    },
    {
     "name": "stdout",
     "output_type": "stream",
     "text": [
      "Vacuuming database \n",
      "Not able to determine geocollections for all datasets. This database is not ready for regionalization.\n"
     ]
    },
    {
     "name": "stderr",
     "output_type": "stream",
     "text": [
      "100%|██████████| 2/2 [00:00<00:00, 46603.38it/s]\n"
     ]
    },
    {
     "name": "stdout",
     "output_type": "stream",
     "text": [
      "Vacuuming database \n",
      "Not able to determine geocollections for all datasets. This database is not ready for regionalization.\n"
     ]
    },
    {
     "name": "stderr",
     "output_type": "stream",
     "text": [
      "100%|██████████| 2/2 [00:00<00:00, 48770.98it/s]\n"
     ]
    },
    {
     "name": "stdout",
     "output_type": "stream",
     "text": [
      "Vacuuming database \n",
      "Not able to determine geocollections for all datasets. This database is not ready for regionalization.\n"
     ]
    },
    {
     "name": "stderr",
     "output_type": "stream",
     "text": [
      "100%|██████████| 4/4 [00:00<00:00, 95325.09it/s]"
     ]
    },
    {
     "name": "stdout",
     "output_type": "stream",
     "text": [
      "Vacuuming database \n"
     ]
    },
    {
     "name": "stderr",
     "output_type": "stream",
     "text": [
      "\n"
     ]
    }
   ],
   "source": [
    "from tests.databases import *\n",
    "# db_abc_simple() # works\n",
    "# db_abc_C_to_E() # works\n",
    "# db_abc_C_and_B_to_E() # BREAKS THINGS\n",
    "# db_abc_B_to_E() # BREAKS THINGS\n",
    "# db_abc_B_to_E_simplified() # BREAKS THINGS\n",
    "# db_abc_B_to_E_simplified_and_E_with_TD()\n",
    "db_abc_loopA_with_biosphere()"
   ]
  },
  {
   "cell_type": "code",
   "execution_count": 3,
   "id": "8d9405d9",
   "metadata": {},
   "outputs": [],
   "source": [
    "demand = {('foreground', 'A'): 1}\n",
    "gwp = ('GWP', 'example')"
   ]
  },
  {
   "cell_type": "markdown",
   "id": "31ced634",
   "metadata": {},
   "source": [
    "# Static LCA"
   ]
  },
  {
   "cell_type": "code",
   "execution_count": 4,
   "id": "cca6b8f2-12a3-43f9-8be2-c6a898268adf",
   "metadata": {
    "tags": []
   },
   "outputs": [
    {
     "name": "stdout",
     "output_type": "stream",
     "text": [
      "Static LCA score: 240.5555559538397\n"
     ]
    }
   ],
   "source": [
    "slca = bc.LCA(demand, gwp)\n",
    "slca.lci()\n",
    "slca.lcia()\n",
    "print(f'Static LCA score: {slca.score}')"
   ]
  },
  {
   "cell_type": "markdown",
   "id": "b461bbb5",
   "metadata": {},
   "source": [
    "# `MEDUSA` LCA"
   ]
  },
  {
   "cell_type": "code",
   "execution_count": 5,
   "id": "31af46a8-ceee-4ccd-8964-fbc9698f43b3",
   "metadata": {},
   "outputs": [],
   "source": [
    "SKIPPABLE = [node.id for node in bd.Database('background_2020')] + [\n",
    "    node.id for node in bd.Database('background_2024')\n",
    "]\n",
    "\n",
    "def filter_function(database_id: int) -> bool:\n",
    "    return database_id in SKIPPABLE"
   ]
  },
  {
   "cell_type": "markdown",
   "id": "dead855e",
   "metadata": {},
   "source": [
    "Now we can do the graph traversal and create a timeline of edges:"
   ]
  },
  {
   "cell_type": "code",
   "execution_count": 6,
   "id": "7b5649e3",
   "metadata": {},
   "outputs": [],
   "source": [
    "import warnings\n",
    "warnings.filterwarnings(\"ignore\")\n",
    "\n",
    "database_date_dict = {\n",
    "            datetime.strptime(\"2008\", \"%Y\"): 'background_2008',\n",
    "            datetime.strptime(\"2024\", \"%Y\"): 'background_2024',\n",
    "        }"
   ]
  },
  {
   "cell_type": "code",
   "execution_count": 7,
   "id": "d7d48585",
   "metadata": {},
   "outputs": [],
   "source": [
    "# tl_builder = TimelineBuilder(slca, filter_function, database_date_dict)\n",
    "\n",
    "# timeline = tl_builder.build_timeline()\n",
    "\n",
    "# demand_timing_dict = create_demand_timing_dict(timeline, demand) # Should go elsewhere as well - medusa LCA?\n",
    "\n",
    "# mm = MatrixModifier(timeline, database_date_dict, demand_timing_dict)\n",
    "# dp = mm.create_datapackage()\n",
    "\n",
    "# fu, data_objs, remapping = prepare_medusa_lca_inputs(demand=demand, demand_timing_dict=demand_timing_dict, method=gwp) \n",
    "# lca = bc.LCA(fu, data_objs = data_objs + dp, remapping_dicts=remapping)\n",
    "# lca.lci()\n",
    "# lca.lcia()"
   ]
  },
  {
   "cell_type": "code",
   "execution_count": 8,
   "id": "71bba776",
   "metadata": {},
   "outputs": [
    {
     "name": "stdout",
     "output_type": "stream",
     "text": [
      "Starting graph traversal\n",
      "Calculation count: 42\n"
     ]
    }
   ],
   "source": [
    "mlca = MedusaLCA(slca, filter_function, database_date_dict)"
   ]
  },
  {
   "cell_type": "code",
   "execution_count": 9,
   "id": "c40754e8",
   "metadata": {},
   "outputs": [
    {
     "name": "stdout",
     "output_type": "stream",
     "text": [
      "All databases in database_date_dict exist as brightway project databases\n"
     ]
    },
    {
     "data": {
      "text/html": [
       "<div>\n",
       "<style scoped>\n",
       "    .dataframe tbody tr th:only-of-type {\n",
       "        vertical-align: middle;\n",
       "    }\n",
       "\n",
       "    .dataframe tbody tr th {\n",
       "        vertical-align: top;\n",
       "    }\n",
       "\n",
       "    .dataframe thead th {\n",
       "        text-align: right;\n",
       "    }\n",
       "</style>\n",
       "<table border=\"1\" class=\"dataframe\">\n",
       "  <thead>\n",
       "    <tr style=\"text-align: right;\">\n",
       "      <th></th>\n",
       "      <th>hash_producer</th>\n",
       "      <th>date_producer</th>\n",
       "      <th>producer</th>\n",
       "      <th>producer_name</th>\n",
       "      <th>hash_consumer</th>\n",
       "      <th>date_consumer</th>\n",
       "      <th>consumer</th>\n",
       "      <th>consumer_name</th>\n",
       "      <th>amount</th>\n",
       "      <th>interpolation_weights</th>\n",
       "    </tr>\n",
       "  </thead>\n",
       "  <tbody>\n",
       "    <tr>\n",
       "      <th>0</th>\n",
       "      <td>1995</td>\n",
       "      <td>1995-01-01</td>\n",
       "      <td>2</td>\n",
       "      <td>C</td>\n",
       "      <td>2000</td>\n",
       "      <td>2000-01-01</td>\n",
       "      <td>8</td>\n",
       "      <td>B</td>\n",
       "      <td>13.0</td>\n",
       "      <td>{'background_2008': 1}</td>\n",
       "    </tr>\n",
       "    <tr>\n",
       "      <th>1</th>\n",
       "      <td>1996</td>\n",
       "      <td>1996-01-01</td>\n",
       "      <td>2</td>\n",
       "      <td>C</td>\n",
       "      <td>2001</td>\n",
       "      <td>2001-01-01</td>\n",
       "      <td>8</td>\n",
       "      <td>B</td>\n",
       "      <td>13.0</td>\n",
       "      <td>{'background_2008': 1}</td>\n",
       "    </tr>\n",
       "    <tr>\n",
       "      <th>2</th>\n",
       "      <td>1997</td>\n",
       "      <td>1997-01-01</td>\n",
       "      <td>2</td>\n",
       "      <td>C</td>\n",
       "      <td>2002</td>\n",
       "      <td>2002-01-01</td>\n",
       "      <td>8</td>\n",
       "      <td>B</td>\n",
       "      <td>13.0</td>\n",
       "      <td>{'background_2008': 1}</td>\n",
       "    </tr>\n",
       "    <tr>\n",
       "      <th>3</th>\n",
       "      <td>1998</td>\n",
       "      <td>1998-01-01</td>\n",
       "      <td>2</td>\n",
       "      <td>C</td>\n",
       "      <td>2003</td>\n",
       "      <td>2003-01-01</td>\n",
       "      <td>8</td>\n",
       "      <td>B</td>\n",
       "      <td>13.0</td>\n",
       "      <td>{'background_2008': 1}</td>\n",
       "    </tr>\n",
       "    <tr>\n",
       "      <th>4</th>\n",
       "      <td>1999</td>\n",
       "      <td>1999-01-01</td>\n",
       "      <td>2</td>\n",
       "      <td>C</td>\n",
       "      <td>2004</td>\n",
       "      <td>2004-01-01</td>\n",
       "      <td>8</td>\n",
       "      <td>B</td>\n",
       "      <td>13.0</td>\n",
       "      <td>{'background_2008': 1}</td>\n",
       "    </tr>\n",
       "    <tr>\n",
       "      <th>...</th>\n",
       "      <td>...</td>\n",
       "      <td>...</td>\n",
       "      <td>...</td>\n",
       "      <td>...</td>\n",
       "      <td>...</td>\n",
       "      <td>...</td>\n",
       "      <td>...</td>\n",
       "      <td>...</td>\n",
       "      <td>...</td>\n",
       "      <td>...</td>\n",
       "    </tr>\n",
       "    <tr>\n",
       "      <th>79</th>\n",
       "      <td>2035</td>\n",
       "      <td>2035-01-01</td>\n",
       "      <td>8</td>\n",
       "      <td>B</td>\n",
       "      <td>2020</td>\n",
       "      <td>2020-01-01</td>\n",
       "      <td>9</td>\n",
       "      <td>A</td>\n",
       "      <td>0.4</td>\n",
       "      <td>{'background_2024': 1}</td>\n",
       "    </tr>\n",
       "    <tr>\n",
       "      <th>80</th>\n",
       "      <td>2036</td>\n",
       "      <td>2036-01-01</td>\n",
       "      <td>8</td>\n",
       "      <td>B</td>\n",
       "      <td>2021</td>\n",
       "      <td>2021-01-01</td>\n",
       "      <td>9</td>\n",
       "      <td>A</td>\n",
       "      <td>0.4</td>\n",
       "      <td>{'background_2024': 1}</td>\n",
       "    </tr>\n",
       "    <tr>\n",
       "      <th>81</th>\n",
       "      <td>2037</td>\n",
       "      <td>2037-01-01</td>\n",
       "      <td>8</td>\n",
       "      <td>B</td>\n",
       "      <td>2022</td>\n",
       "      <td>2022-01-01</td>\n",
       "      <td>9</td>\n",
       "      <td>A</td>\n",
       "      <td>0.4</td>\n",
       "      <td>{'background_2024': 1}</td>\n",
       "    </tr>\n",
       "    <tr>\n",
       "      <th>82</th>\n",
       "      <td>2038</td>\n",
       "      <td>2038-01-01</td>\n",
       "      <td>8</td>\n",
       "      <td>B</td>\n",
       "      <td>2023</td>\n",
       "      <td>2023-01-01</td>\n",
       "      <td>9</td>\n",
       "      <td>A</td>\n",
       "      <td>0.4</td>\n",
       "      <td>{'background_2024': 1}</td>\n",
       "    </tr>\n",
       "    <tr>\n",
       "      <th>83</th>\n",
       "      <td>2039</td>\n",
       "      <td>2039-01-01</td>\n",
       "      <td>8</td>\n",
       "      <td>B</td>\n",
       "      <td>2024</td>\n",
       "      <td>2024-01-01</td>\n",
       "      <td>9</td>\n",
       "      <td>A</td>\n",
       "      <td>0.4</td>\n",
       "      <td>{'background_2024': 1}</td>\n",
       "    </tr>\n",
       "  </tbody>\n",
       "</table>\n",
       "<p>84 rows × 10 columns</p>\n",
       "</div>"
      ],
      "text/plain": [
       "    hash_producer date_producer  producer producer_name  hash_consumer  \\\n",
       "0            1995    1995-01-01         2             C           2000   \n",
       "1            1996    1996-01-01         2             C           2001   \n",
       "2            1997    1997-01-01         2             C           2002   \n",
       "3            1998    1998-01-01         2             C           2003   \n",
       "4            1999    1999-01-01         2             C           2004   \n",
       "..            ...           ...       ...           ...            ...   \n",
       "79           2035    2035-01-01         8             B           2020   \n",
       "80           2036    2036-01-01         8             B           2021   \n",
       "81           2037    2037-01-01         8             B           2022   \n",
       "82           2038    2038-01-01         8             B           2023   \n",
       "83           2039    2039-01-01         8             B           2024   \n",
       "\n",
       "   date_consumer  consumer consumer_name amount   interpolation_weights  \n",
       "0     2000-01-01         8             B   13.0  {'background_2008': 1}  \n",
       "1     2001-01-01         8             B   13.0  {'background_2008': 1}  \n",
       "2     2002-01-01         8             B   13.0  {'background_2008': 1}  \n",
       "3     2003-01-01         8             B   13.0  {'background_2008': 1}  \n",
       "4     2004-01-01         8             B   13.0  {'background_2008': 1}  \n",
       "..           ...       ...           ...    ...                     ...  \n",
       "79    2020-01-01         9             A    0.4  {'background_2024': 1}  \n",
       "80    2021-01-01         9             A    0.4  {'background_2024': 1}  \n",
       "81    2022-01-01         9             A    0.4  {'background_2024': 1}  \n",
       "82    2023-01-01         9             A    0.4  {'background_2024': 1}  \n",
       "83    2024-01-01         9             A    0.4  {'background_2024': 1}  \n",
       "\n",
       "[84 rows x 10 columns]"
      ]
     },
     "execution_count": 9,
     "metadata": {},
     "output_type": "execute_result"
    }
   ],
   "source": [
    "mlca.build_timeline()"
   ]
  },
  {
   "cell_type": "code",
   "execution_count": 10,
   "id": "1c833eff",
   "metadata": {},
   "outputs": [],
   "source": [
    "mlca.build_datapackage()"
   ]
  },
  {
   "cell_type": "code",
   "execution_count": 11,
   "id": "d0f38d8e",
   "metadata": {},
   "outputs": [],
   "source": [
    "mlca.lci()"
   ]
  },
  {
   "cell_type": "code",
   "execution_count": 12,
   "id": "b4ed53cf",
   "metadata": {},
   "outputs": [],
   "source": [
    "mlca.lcia()"
   ]
  },
  {
   "cell_type": "code",
   "execution_count": 13,
   "id": "4a51cd8a",
   "metadata": {},
   "outputs": [
    {
     "name": "stdout",
     "output_type": "stream",
     "text": [
      "New MEDUSA LCA Score: 240.3056850550947\n",
      "Old static LCA Score: 240.5555559538397\n"
     ]
    }
   ],
   "source": [
    "print('New MEDUSA LCA Score:', mlca.score)\n",
    "print('Old static LCA Score:', slca.score)"
   ]
  }
 ],
 "metadata": {
  "kernelspec": {
   "display_name": "Python 3 (ipykernel)",
   "language": "python",
   "name": "python3"
  },
  "language_info": {
   "codemirror_mode": {
    "name": "ipython",
    "version": 3
   },
   "file_extension": ".py",
   "mimetype": "text/x-python",
   "name": "python",
   "nbconvert_exporter": "python",
   "pygments_lexer": "ipython3",
   "version": "3.11.6"
  }
 },
 "nbformat": 4,
 "nbformat_minor": 5
}
