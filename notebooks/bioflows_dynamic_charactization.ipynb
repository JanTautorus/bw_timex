{
 "cells": [
  {
   "cell_type": "markdown",
   "id": "bee706e3",
   "metadata": {},
   "source": [
    "# `MEDUSA`\n",
    "aka. Dynamic-Prospective LCA aka. Union(premise, temporalis)"
   ]
  },
  {
   "cell_type": "code",
   "execution_count": 1,
   "id": "d8cd7a3f",
   "metadata": {
    "tags": []
   },
   "outputs": [],
   "source": [
    "from bw_temporalis import easy_timedelta_distribution, TemporalDistribution, easy_datetime_distribution\n",
    "from bw_temporalis.lcia.climate import characterize_methane, characterize_co2\n",
    "import sys\n",
    "import os\n",
    "sys.path.append(os.path.realpath('../'))\n",
    "from medusa.edge_extractor import *\n",
    "from medusa.matrix_modifier import MatrixModifier\n",
    "from medusa.medusa_lca import *\n",
    "from medusa.timeline_builder import TimelineBuilder\n",
    "from medusa.dynamic_characterization import DynamicCharacterization\n",
    "import bw2data as bd\n",
    "import bw2calc as bc\n",
    "import numpy as np\n",
    "import pandas as pd"
   ]
  },
  {
   "cell_type": "code",
   "execution_count": 2,
   "id": "5d3622ff",
   "metadata": {},
   "outputs": [
    {
     "name": "stderr",
     "output_type": "stream",
     "text": [
      "100%|██████████| 2/2 [00:00<?, ?it/s]\n"
     ]
    },
    {
     "name": "stdout",
     "output_type": "stream",
     "text": [
      "Vacuuming database \n",
      "Not able to determine geocollections for all datasets. This database is not ready for regionalization.\n"
     ]
    },
    {
     "name": "stderr",
     "output_type": "stream",
     "text": [
      "100%|██████████| 2/2 [00:00<?, ?it/s]\n"
     ]
    },
    {
     "name": "stdout",
     "output_type": "stream",
     "text": [
      "Vacuuming database \n",
      "Not able to determine geocollections for all datasets. This database is not ready for regionalization.\n"
     ]
    },
    {
     "name": "stderr",
     "output_type": "stream",
     "text": [
      "100%|██████████| 2/2 [00:00<00:00, 1111.07it/s]\n"
     ]
    },
    {
     "name": "stdout",
     "output_type": "stream",
     "text": [
      "Vacuuming database \n",
      "Not able to determine geocollections for all datasets. This database is not ready for regionalization.\n"
     ]
    },
    {
     "name": "stderr",
     "output_type": "stream",
     "text": [
      "100%|██████████| 2/2 [00:00<?, ?it/s]\n"
     ]
    },
    {
     "name": "stdout",
     "output_type": "stream",
     "text": [
      "Vacuuming database \n"
     ]
    }
   ],
   "source": [
    "from tests.databases import *\n",
    "db_dynamic_cf_test()"
   ]
  },
  {
   "cell_type": "code",
   "execution_count": 3,
   "id": "8d9405d9",
   "metadata": {},
   "outputs": [],
   "source": [
    "demand = {('foreground', 'A'): 1}\n",
    "gwp = ('GWP', 'example')"
   ]
  },
  {
   "cell_type": "markdown",
   "id": "31ced634",
   "metadata": {},
   "source": [
    "# Static LCA"
   ]
  },
  {
   "cell_type": "code",
   "execution_count": 4,
   "id": "cca6b8f2-12a3-43f9-8be2-c6a898268adf",
   "metadata": {
    "tags": []
   },
   "outputs": [
    {
     "name": "stdout",
     "output_type": "stream",
     "text": [
      "Static LCA score: 52017.0\n"
     ]
    }
   ],
   "source": [
    "slca = bc.LCA(demand, gwp)\n",
    "slca.lci()\n",
    "slca.lcia()\n",
    "print(f'Static LCA score: {slca.score}')"
   ]
  },
  {
   "cell_type": "markdown",
   "id": "b461bbb5",
   "metadata": {},
   "source": [
    "# `MEDUSA` LCA"
   ]
  },
  {
   "cell_type": "code",
   "execution_count": 5,
   "id": "31af46a8-ceee-4ccd-8964-fbc9698f43b3",
   "metadata": {},
   "outputs": [],
   "source": [
    "SKIPPABLE = [node.id for node in bd.Database('background_2020')] + [\n",
    "    node.id for node in bd.Database('background_2024')\n",
    "]\n",
    "\n",
    "def filter_function(database_id: int) -> bool:\n",
    "    return database_id in SKIPPABLE"
   ]
  },
  {
   "cell_type": "markdown",
   "id": "dead855e",
   "metadata": {},
   "source": [
    "Now we can do the graph traversal and create a timeline of edges:"
   ]
  },
  {
   "cell_type": "code",
   "execution_count": 6,
   "id": "7b5649e3",
   "metadata": {},
   "outputs": [],
   "source": [
    "import warnings\n",
    "warnings.filterwarnings(\"ignore\")\n",
    "\n",
    "database_date_dict = {\n",
    "            'background_2008': datetime.strptime(\"2008\", \"%Y\"),\n",
    "            'background_2024': datetime.strptime(\"2024\", \"%Y\"),\n",
    "            'foreground': \"dynamic\", # flag databases that should be temporally distributed with \"dynamic\"\n",
    "        }"
   ]
  },
  {
   "cell_type": "code",
   "execution_count": 7,
   "id": "71bba776",
   "metadata": {},
   "outputs": [
    {
     "name": "stdout",
     "output_type": "stream",
     "text": [
      "Starting graph traversal\n",
      "Calculation count: 3\n"
     ]
    }
   ],
   "source": [
    "mlca = MedusaLCA(demand, gwp, filter_function, database_date_dict, max_calc=1000)"
   ]
  },
  {
   "cell_type": "code",
   "execution_count": 8,
   "id": "c40754e8",
   "metadata": {},
   "outputs": [
    {
     "name": "stdout",
     "output_type": "stream",
     "text": [
      "All databases in database_date_dict exist as brightway project databases\n"
     ]
    },
    {
     "data": {
      "text/html": [
       "<div>\n",
       "<style scoped>\n",
       "    .dataframe tbody tr th:only-of-type {\n",
       "        vertical-align: middle;\n",
       "    }\n",
       "\n",
       "    .dataframe tbody tr th {\n",
       "        vertical-align: top;\n",
       "    }\n",
       "\n",
       "    .dataframe thead th {\n",
       "        text-align: right;\n",
       "    }\n",
       "</style>\n",
       "<table border=\"1\" class=\"dataframe\">\n",
       "  <thead>\n",
       "    <tr style=\"text-align: right;\">\n",
       "      <th></th>\n",
       "      <th>hash_producer</th>\n",
       "      <th>time_mapped_producer</th>\n",
       "      <th>date_producer</th>\n",
       "      <th>producer</th>\n",
       "      <th>producer_name</th>\n",
       "      <th>hash_consumer</th>\n",
       "      <th>time_mapped_consumer</th>\n",
       "      <th>date_consumer</th>\n",
       "      <th>consumer</th>\n",
       "      <th>consumer_name</th>\n",
       "      <th>amount</th>\n",
       "      <th>interpolation_weights</th>\n",
       "    </tr>\n",
       "  </thead>\n",
       "  <tbody>\n",
       "    <tr>\n",
       "      <th>0</th>\n",
       "      <td>2024</td>\n",
       "      <td>387</td>\n",
       "      <td>2024-01-01</td>\n",
       "      <td>387</td>\n",
       "      <td>C</td>\n",
       "      <td>2024</td>\n",
       "      <td>393</td>\n",
       "      <td>2024-01-01</td>\n",
       "      <td>391</td>\n",
       "      <td>B</td>\n",
       "      <td>13.0</td>\n",
       "      <td>{'background_2024': 1}</td>\n",
       "    </tr>\n",
       "    <tr>\n",
       "      <th>1</th>\n",
       "      <td>2024</td>\n",
       "      <td>393</td>\n",
       "      <td>2024-01-01</td>\n",
       "      <td>391</td>\n",
       "      <td>B</td>\n",
       "      <td>2024</td>\n",
       "      <td>394</td>\n",
       "      <td>2024-01-01</td>\n",
       "      <td>392</td>\n",
       "      <td>A</td>\n",
       "      <td>4.0</td>\n",
       "      <td>{'background_2024': 1}</td>\n",
       "    </tr>\n",
       "    <tr>\n",
       "      <th>2</th>\n",
       "      <td>2024</td>\n",
       "      <td>394</td>\n",
       "      <td>2024-01-01</td>\n",
       "      <td>392</td>\n",
       "      <td>A</td>\n",
       "      <td>2024</td>\n",
       "      <td>-1</td>\n",
       "      <td>2024-01-01</td>\n",
       "      <td>-1</td>\n",
       "      <td>-1</td>\n",
       "      <td>1.0</td>\n",
       "      <td>{'background_2024': 1}</td>\n",
       "    </tr>\n",
       "  </tbody>\n",
       "</table>\n",
       "</div>"
      ],
      "text/plain": [
       "   hash_producer  time_mapped_producer date_producer  producer producer_name  \\\n",
       "0           2024                   387    2024-01-01       387             C   \n",
       "1           2024                   393    2024-01-01       391             B   \n",
       "2           2024                   394    2024-01-01       392             A   \n",
       "\n",
       "   hash_consumer  time_mapped_consumer date_consumer  consumer consumer_name  \\\n",
       "0           2024                   393    2024-01-01       391             B   \n",
       "1           2024                   394    2024-01-01       392             A   \n",
       "2           2024                    -1    2024-01-01        -1            -1   \n",
       "\n",
       "  amount   interpolation_weights  \n",
       "0   13.0  {'background_2024': 1}  \n",
       "1    4.0  {'background_2024': 1}  \n",
       "2    1.0  {'background_2024': 1}  "
      ]
     },
     "execution_count": 8,
     "metadata": {},
     "output_type": "execute_result"
    }
   ],
   "source": [
    "mlca.build_timeline()"
   ]
  },
  {
   "cell_type": "code",
   "execution_count": 9,
   "id": "1c833eff",
   "metadata": {},
   "outputs": [],
   "source": [
    "mlca.build_datapackage()"
   ]
  },
  {
   "cell_type": "code",
   "execution_count": 10,
   "id": "d0f38d8e",
   "metadata": {},
   "outputs": [],
   "source": [
    "mlca.lci()"
   ]
  },
  {
   "cell_type": "code",
   "execution_count": 11,
   "id": "b4ed53cf",
   "metadata": {},
   "outputs": [],
   "source": [
    "mlca.lcia()"
   ]
  },
  {
   "cell_type": "code",
   "execution_count": 12,
   "id": "4a51cd8a",
   "metadata": {},
   "outputs": [
    {
     "name": "stdout",
     "output_type": "stream",
     "text": [
      "New MEDUSA LCA Score: 52017.0\n",
      "Old static LCA Score: 52017.0\n"
     ]
    }
   ],
   "source": [
    "print('New MEDUSA LCA Score:', mlca.score)\n",
    "print('Old static LCA Score:', slca.score)"
   ]
  },
  {
   "cell_type": "code",
   "execution_count": 13,
   "id": "0d954b57",
   "metadata": {},
   "outputs": [],
   "source": [
    "mlca.build_dynamic_biosphere()"
   ]
  },
  {
   "cell_type": "code",
   "execution_count": 14,
   "id": "19a3f3b3",
   "metadata": {},
   "outputs": [],
   "source": [
    "mlca.calculate_dynamic_lci()\n",
    "\n"
   ]
  },
  {
   "cell_type": "code",
   "execution_count": 15,
   "id": "4084b794",
   "metadata": {},
   "outputs": [
    {
     "data": {
      "text/html": [
       "<div>\n",
       "<style scoped>\n",
       "    .dataframe tbody tr th:only-of-type {\n",
       "        vertical-align: middle;\n",
       "    }\n",
       "\n",
       "    .dataframe tbody tr th {\n",
       "        vertical-align: top;\n",
       "    }\n",
       "\n",
       "    .dataframe thead th {\n",
       "        text-align: right;\n",
       "    }\n",
       "</style>\n",
       "<table border=\"1\" class=\"dataframe\">\n",
       "  <thead>\n",
       "    <tr style=\"text-align: right;\">\n",
       "      <th></th>\n",
       "      <th>date</th>\n",
       "      <th>amount</th>\n",
       "      <th>activity</th>\n",
       "      <th>flow</th>\n",
       "    </tr>\n",
       "  </thead>\n",
       "  <tbody>\n",
       "    <tr>\n",
       "      <th>0</th>\n",
       "      <td>2021-12-31 12:21:36</td>\n",
       "      <td>10400.0</td>\n",
       "      <td>388</td>\n",
       "      <td>385</td>\n",
       "    </tr>\n",
       "    <tr>\n",
       "      <th>1</th>\n",
       "      <td>2024-01-01 00:00:00</td>\n",
       "      <td>52000.0</td>\n",
       "      <td>387</td>\n",
       "      <td>385</td>\n",
       "    </tr>\n",
       "    <tr>\n",
       "      <th>2</th>\n",
       "      <td>2024-01-01 00:00:00</td>\n",
       "      <td>52000.0</td>\n",
       "      <td>388</td>\n",
       "      <td>385</td>\n",
       "    </tr>\n",
       "    <tr>\n",
       "      <th>3</th>\n",
       "      <td>2024-01-01 00:00:00</td>\n",
       "      <td>17.0</td>\n",
       "      <td>394</td>\n",
       "      <td>385</td>\n",
       "    </tr>\n",
       "    <tr>\n",
       "      <th>4</th>\n",
       "      <td>2024-12-31 05:49:12</td>\n",
       "      <td>36400.0</td>\n",
       "      <td>388</td>\n",
       "      <td>385</td>\n",
       "    </tr>\n",
       "    <tr>\n",
       "      <th>5</th>\n",
       "      <td>2025-12-31 11:38:24</td>\n",
       "      <td>5200.0</td>\n",
       "      <td>388</td>\n",
       "      <td>385</td>\n",
       "    </tr>\n",
       "    <tr>\n",
       "      <th>6</th>\n",
       "      <td>2021-12-31 12:21:36</td>\n",
       "      <td>4.0</td>\n",
       "      <td>393</td>\n",
       "      <td>386</td>\n",
       "    </tr>\n",
       "  </tbody>\n",
       "</table>\n",
       "</div>"
      ],
      "text/plain": [
       "                 date   amount  activity  flow\n",
       "0 2021-12-31 12:21:36  10400.0       388   385\n",
       "1 2024-01-01 00:00:00  52000.0       387   385\n",
       "2 2024-01-01 00:00:00  52000.0       388   385\n",
       "3 2024-01-01 00:00:00     17.0       394   385\n",
       "4 2024-12-31 05:49:12  36400.0       388   385\n",
       "5 2025-12-31 11:38:24   5200.0       388   385\n",
       "6 2021-12-31 12:21:36      4.0       393   386"
      ]
     },
     "execution_count": 15,
     "metadata": {},
     "output_type": "execute_result"
    }
   ],
   "source": [
    "mlca.characterize_dynamic_lci({\"carbon dioxide\": characterize_co2, \"methane\": characterize_methane})\t\n",
    "mlca.dynamic_inventory_characterizer.dynamic_lci_df \n"
   ]
  },
  {
   "cell_type": "code",
   "execution_count": 16,
   "id": "bc0d2858",
   "metadata": {},
   "outputs": [
    {
     "data": {
      "text/html": [
       "<div>\n",
       "<style scoped>\n",
       "    .dataframe tbody tr th:only-of-type {\n",
       "        vertical-align: middle;\n",
       "    }\n",
       "\n",
       "    .dataframe tbody tr th {\n",
       "        vertical-align: top;\n",
       "    }\n",
       "\n",
       "    .dataframe thead th {\n",
       "        text-align: right;\n",
       "    }\n",
       "</style>\n",
       "<table border=\"1\" class=\"dataframe\">\n",
       "  <thead>\n",
       "    <tr style=\"text-align: right;\">\n",
       "      <th></th>\n",
       "      <th>date</th>\n",
       "      <th>amount</th>\n",
       "      <th>flow</th>\n",
       "      <th>flow_name</th>\n",
       "      <th>activity</th>\n",
       "      <th>activity_name</th>\n",
       "      <th>amount_sum</th>\n",
       "    </tr>\n",
       "  </thead>\n",
       "  <tbody>\n",
       "    <tr>\n",
       "      <th>0</th>\n",
       "      <td>2021-12-31 12:21:36</td>\n",
       "      <td>0.000000e+00</td>\n",
       "      <td>385</td>\n",
       "      <td>carbon dioxide</td>\n",
       "      <td>388</td>\n",
       "      <td>(background_2024, electricity_wind)</td>\n",
       "      <td>0.000000e+00</td>\n",
       "    </tr>\n",
       "    <tr>\n",
       "      <th>1</th>\n",
       "      <td>2022-12-31 18:10:48</td>\n",
       "      <td>1.768417e-11</td>\n",
       "      <td>385</td>\n",
       "      <td>carbon dioxide</td>\n",
       "      <td>388</td>\n",
       "      <td>(background_2024, electricity_wind)</td>\n",
       "      <td>1.768417e-11</td>\n",
       "    </tr>\n",
       "    <tr>\n",
       "      <th>2</th>\n",
       "      <td>2024-01-01 00:00:00</td>\n",
       "      <td>1.660052e-11</td>\n",
       "      <td>385</td>\n",
       "      <td>carbon dioxide</td>\n",
       "      <td>388</td>\n",
       "      <td>(background_2024, electricity_wind)</td>\n",
       "      <td>3.428469e-11</td>\n",
       "    </tr>\n",
       "    <tr>\n",
       "      <th>3</th>\n",
       "      <td>2024-01-01 00:00:00</td>\n",
       "      <td>0.000000e+00</td>\n",
       "      <td>385</td>\n",
       "      <td>carbon dioxide</td>\n",
       "      <td>394</td>\n",
       "      <td>(foreground, A)</td>\n",
       "      <td>3.428469e-11</td>\n",
       "    </tr>\n",
       "    <tr>\n",
       "      <th>4</th>\n",
       "      <td>2024-01-01 00:00:00</td>\n",
       "      <td>0.000000e+00</td>\n",
       "      <td>385</td>\n",
       "      <td>carbon dioxide</td>\n",
       "      <td>388</td>\n",
       "      <td>(background_2024, electricity_wind)</td>\n",
       "      <td>3.428469e-11</td>\n",
       "    </tr>\n",
       "    <tr>\n",
       "      <th>...</th>\n",
       "      <td>...</td>\n",
       "      <td>...</td>\n",
       "      <td>...</td>\n",
       "      <td>...</td>\n",
       "      <td>...</td>\n",
       "      <td>...</td>\n",
       "      <td>...</td>\n",
       "    </tr>\n",
       "    <tr>\n",
       "      <th>695</th>\n",
       "      <td>2116-12-31 13:15:36</td>\n",
       "      <td>4.108858e-16</td>\n",
       "      <td>386</td>\n",
       "      <td>methane</td>\n",
       "      <td>393</td>\n",
       "      <td>(foreground, B)</td>\n",
       "      <td>1.038879e-11</td>\n",
       "    </tr>\n",
       "    <tr>\n",
       "      <th>696</th>\n",
       "      <td>2117-12-31 19:04:48</td>\n",
       "      <td>3.790507e-16</td>\n",
       "      <td>386</td>\n",
       "      <td>methane</td>\n",
       "      <td>393</td>\n",
       "      <td>(foreground, B)</td>\n",
       "      <td>1.038917e-11</td>\n",
       "    </tr>\n",
       "    <tr>\n",
       "      <th>697</th>\n",
       "      <td>2119-01-01 00:54:00</td>\n",
       "      <td>3.496823e-16</td>\n",
       "      <td>386</td>\n",
       "      <td>methane</td>\n",
       "      <td>393</td>\n",
       "      <td>(foreground, B)</td>\n",
       "      <td>1.038952e-11</td>\n",
       "    </tr>\n",
       "    <tr>\n",
       "      <th>698</th>\n",
       "      <td>2120-01-01 06:43:12</td>\n",
       "      <td>3.225892e-16</td>\n",
       "      <td>386</td>\n",
       "      <td>methane</td>\n",
       "      <td>393</td>\n",
       "      <td>(foreground, B)</td>\n",
       "      <td>1.038984e-11</td>\n",
       "    </tr>\n",
       "    <tr>\n",
       "      <th>699</th>\n",
       "      <td>2120-12-31 12:32:24</td>\n",
       "      <td>2.975953e-16</td>\n",
       "      <td>386</td>\n",
       "      <td>methane</td>\n",
       "      <td>393</td>\n",
       "      <td>(foreground, B)</td>\n",
       "      <td>1.039014e-11</td>\n",
       "    </tr>\n",
       "  </tbody>\n",
       "</table>\n",
       "<p>700 rows × 7 columns</p>\n",
       "</div>"
      ],
      "text/plain": [
       "                   date        amount  flow       flow_name  activity  \\\n",
       "0   2021-12-31 12:21:36  0.000000e+00   385  carbon dioxide       388   \n",
       "1   2022-12-31 18:10:48  1.768417e-11   385  carbon dioxide       388   \n",
       "2   2024-01-01 00:00:00  1.660052e-11   385  carbon dioxide       388   \n",
       "3   2024-01-01 00:00:00  0.000000e+00   385  carbon dioxide       394   \n",
       "4   2024-01-01 00:00:00  0.000000e+00   385  carbon dioxide       388   \n",
       "..                  ...           ...   ...             ...       ...   \n",
       "695 2116-12-31 13:15:36  4.108858e-16   386         methane       393   \n",
       "696 2117-12-31 19:04:48  3.790507e-16   386         methane       393   \n",
       "697 2119-01-01 00:54:00  3.496823e-16   386         methane       393   \n",
       "698 2120-01-01 06:43:12  3.225892e-16   386         methane       393   \n",
       "699 2120-12-31 12:32:24  2.975953e-16   386         methane       393   \n",
       "\n",
       "                           activity_name    amount_sum  \n",
       "0    (background_2024, electricity_wind)  0.000000e+00  \n",
       "1    (background_2024, electricity_wind)  1.768417e-11  \n",
       "2    (background_2024, electricity_wind)  3.428469e-11  \n",
       "3                        (foreground, A)  3.428469e-11  \n",
       "4    (background_2024, electricity_wind)  3.428469e-11  \n",
       "..                                   ...           ...  \n",
       "695                      (foreground, B)  1.038879e-11  \n",
       "696                      (foreground, B)  1.038917e-11  \n",
       "697                      (foreground, B)  1.038952e-11  \n",
       "698                      (foreground, B)  1.038984e-11  \n",
       "699                      (foreground, B)  1.039014e-11  \n",
       "\n",
       "[700 rows x 7 columns]"
      ]
     },
     "execution_count": 16,
     "metadata": {},
     "output_type": "execute_result"
    }
   ],
   "source": [
    "mlca.characterized_inventory"
   ]
  },
  {
   "cell_type": "code",
   "execution_count": 28,
   "id": "7473c1f5",
   "metadata": {},
   "outputs": [],
   "source": [
    "import seaborn as sb\n",
    "def plot_dynamic_characterized_inventory(self):\n",
    "    \"\"\"\n",
    "    Plot the characterized inventory of the dynamic LCI in a very simple plot\n",
    "    \"\"\"\n",
    "\n",
    "    axes = sb.scatterplot(\n",
    "        x=\"date\", \n",
    "        y=\"amount\",\n",
    "        hue=\"activity_name\",\n",
    "        style=\"flow_name\",\n",
    "        data=self.characterized_inventory\n",
    "    )\n",
    "    \n",
    "    \n",
    "    axes.set_ylabel(\"GWP in W/m2\")\n",
    "    axes.set_xlabel(\"Time (years)\")\n",
    "    \n",
    "    axes.legend(bbox_to_anchor=(1.05, 1), loc='upper left')"
   ]
  },
  {
   "cell_type": "code",
   "execution_count": 29,
   "id": "b1d92aac",
   "metadata": {},
   "outputs": [
    {
     "data": {
      "image/png": "[encoded data removed]",
      "text/plain": [
       "<Figure size 640x480 with 1 Axes>"
      ]
     },
     "metadata": {},
     "output_type": "display_data"
    }
   ],
   "source": [
    "plot_dynamic_characterized_inventory(mlca)"
   ]
  },
  {
   "cell_type": "code",
   "execution_count": 21,
   "id": "a6aaf6a1",
   "metadata": {},
   "outputs": [
    {
     "name": "stdout",
     "output_type": "stream",
     "text": [
      "               code         database   id                          name  \\\n",
      "0               CO2   temporalis-bio  385                carbon dioxide   \n",
      "1               CH4   temporalis-bio  386                       methane   \n",
      "2                 C  background_2024  387                             C   \n",
      "3  electricity_wind  background_2024  388  Electricity production, wind   \n",
      "4                 C  background_2008  389                             C   \n",
      "5  electricity_wind  background_2008  390  Electricity production, wind   \n",
      "6                 A       foreground  392                             A   \n",
      "7                 B       foreground  391                             B   \n",
      "\n",
      "  temporalis code      type   location  reference product  \n",
      "0             co2  emission        NaN                NaN  \n",
      "1             ch4  emission        NaN                NaN  \n",
      "2             NaN       NaN  somewhere                  c  \n",
      "3             NaN       NaN  somewhere  electricity, wind  \n",
      "4             NaN       NaN  somewhere                  c  \n",
      "5             NaN       NaN  somewhere  electricity, wind  \n",
      "6             NaN       NaN  somewhere                  a  \n",
      "7             NaN       NaN  somewhere                  b  \n"
     ]
    }
   ],
   "source": [
    "    dfs = []\n",
    "\n",
    "    for database in bd.databases:\n",
    "        df1 = bd.Database(database).nodes_to_dataframe()\n",
    "        dfs.append(df1)\n",
    "\n",
    "    all_databases_df = pd.concat(dfs, ignore_index=True)\n",
    "    print(all_databases_df)"
   ]
  },
  {
   "cell_type": "code",
   "execution_count": 22,
   "id": "249251f8",
   "metadata": {},
   "outputs": [
    {
     "name": "stdout",
     "output_type": "stream",
     "text": [
      "                   date        amount  flow       flow_name  activity  \\\n",
      "0   2021-12-31 12:21:36  0.000000e+00   385  carbon dioxide       388   \n",
      "1   2022-12-31 18:10:48  1.768417e-11   385  carbon dioxide       388   \n",
      "2   2024-01-01 00:00:00  1.660052e-11   385  carbon dioxide       388   \n",
      "3   2024-01-01 00:00:00  0.000000e+00   385  carbon dioxide       394   \n",
      "4   2024-01-01 00:00:00  0.000000e+00   385  carbon dioxide       388   \n",
      "..                  ...           ...   ...             ...       ...   \n",
      "695 2116-12-31 13:15:36  4.108858e-16   386         methane       393   \n",
      "696 2117-12-31 19:04:48  3.790507e-16   386         methane       393   \n",
      "697 2119-01-01 00:54:00  3.496823e-16   386         methane       393   \n",
      "698 2120-01-01 06:43:12  3.225892e-16   386         methane       393   \n",
      "699 2120-12-31 12:32:24  2.975953e-16   386         methane       393   \n",
      "\n",
      "                           activity_name    amount_sum  \n",
      "0    (background_2024, electricity_wind)  0.000000e+00  \n",
      "1    (background_2024, electricity_wind)  1.768417e-11  \n",
      "2    (background_2024, electricity_wind)  3.428469e-11  \n",
      "3                        (foreground, A)  3.428469e-11  \n",
      "4    (background_2024, electricity_wind)  3.428469e-11  \n",
      "..                                   ...           ...  \n",
      "695                      (foreground, B)  1.038879e-11  \n",
      "696                      (foreground, B)  1.038917e-11  \n",
      "697                      (foreground, B)  1.038952e-11  \n",
      "698                      (foreground, B)  1.038984e-11  \n",
      "699                      (foreground, B)  1.039014e-11  \n",
      "\n",
      "[700 rows x 7 columns]\n",
      "-------------------\n",
      "               code         database   id                          name  \\\n",
      "0               CO2   temporalis-bio  385                carbon dioxide   \n",
      "1               CH4   temporalis-bio  386                       methane   \n",
      "2                 C  background_2024  387                             C   \n",
      "3  electricity_wind  background_2024  388  Electricity production, wind   \n",
      "4                 C  background_2008  389                             C   \n",
      "5  electricity_wind  background_2008  390  Electricity production, wind   \n",
      "6                 A       foreground  392                             A   \n",
      "7                 B       foreground  391                             B   \n",
      "\n",
      "  temporalis code      type   location  reference product  \n",
      "0             co2  emission        NaN                NaN  \n",
      "1             ch4  emission        NaN                NaN  \n",
      "2             NaN       NaN  somewhere                  c  \n",
      "3             NaN       NaN  somewhere  electricity, wind  \n",
      "4             NaN       NaN  somewhere                  c  \n",
      "5             NaN       NaN  somewhere  electricity, wind  \n",
      "6             NaN       NaN  somewhere                  a  \n",
      "7             NaN       NaN  somewhere                  b  \n",
      "-------------------\n",
      "                   date        amount  flow       flow_name  activity  \\\n",
      "0   2021-12-31 12:21:36  0.000000e+00   385  carbon dioxide       388   \n",
      "1   2022-12-31 18:10:48  1.768417e-11   385  carbon dioxide       388   \n",
      "2   2024-01-01 00:00:00  1.660052e-11   385  carbon dioxide       388   \n",
      "3   2024-01-01 00:00:00  0.000000e+00   385  carbon dioxide       388   \n",
      "4   2024-12-31 05:49:12  8.842085e-11   385  carbon dioxide       388   \n",
      "..                  ...           ...   ...             ...       ...   \n",
      "495 2119-01-01 00:54:00  3.796627e-11   385  carbon dioxide       387   \n",
      "496 2120-01-01 06:43:12  3.787287e-11   385  carbon dioxide       387   \n",
      "497 2120-12-31 12:32:24  3.778100e-11   385  carbon dioxide       387   \n",
      "498 2121-12-31 18:21:36  3.769061e-11   385  carbon dioxide       387   \n",
      "499 2123-01-01 00:10:48  3.760166e-11   385  carbon dioxide       387   \n",
      "\n",
      "                           activity_name    amount_sum              code  \\\n",
      "0    (background_2024, electricity_wind)  0.000000e+00  electricity_wind   \n",
      "1    (background_2024, electricity_wind)  1.768417e-11  electricity_wind   \n",
      "2    (background_2024, electricity_wind)  3.428469e-11  electricity_wind   \n",
      "3    (background_2024, electricity_wind)  3.428469e-11  electricity_wind   \n",
      "4    (background_2024, electricity_wind)  1.227345e-10  electricity_wind   \n",
      "..                                   ...           ...               ...   \n",
      "495                 (background_2024, C)  1.374998e-08                 C   \n",
      "496                 (background_2024, C)  1.384099e-08                 C   \n",
      "497                 (background_2024, C)  1.394323e-08                 C   \n",
      "498                 (background_2024, C)  1.406033e-08                 C   \n",
      "499                 (background_2024, C)  1.422986e-08                 C   \n",
      "\n",
      "            database                          name temporalis code type  \\\n",
      "0    background_2024  Electricity production, wind             NaN  NaN   \n",
      "1    background_2024  Electricity production, wind             NaN  NaN   \n",
      "2    background_2024  Electricity production, wind             NaN  NaN   \n",
      "3    background_2024  Electricity production, wind             NaN  NaN   \n",
      "4    background_2024  Electricity production, wind             NaN  NaN   \n",
      "..               ...                           ...             ...  ...   \n",
      "495  background_2024                             C             NaN  NaN   \n",
      "496  background_2024                             C             NaN  NaN   \n",
      "497  background_2024                             C             NaN  NaN   \n",
      "498  background_2024                             C             NaN  NaN   \n",
      "499  background_2024                             C             NaN  NaN   \n",
      "\n",
      "      location  reference product  \n",
      "0    somewhere  electricity, wind  \n",
      "1    somewhere  electricity, wind  \n",
      "2    somewhere  electricity, wind  \n",
      "3    somewhere  electricity, wind  \n",
      "4    somewhere  electricity, wind  \n",
      "..         ...                ...  \n",
      "495  somewhere                  c  \n",
      "496  somewhere                  c  \n",
      "497  somewhere                  c  \n",
      "498  somewhere                  c  \n",
      "499  somewhere                  c  \n",
      "\n",
      "[500 rows x 14 columns]\n",
      "500\n",
      "700\n"
     ]
    }
   ],
   "source": [
    "print(mlca.characterized_inventory)\n",
    "print(\"-------------------\")\n",
    "print(all_databases_df)\n",
    "print(\"-------------------\")\n",
    "data= mlca.characterized_inventory.merge(\n",
    "            all_databases_df.rename(columns={'id': 'activity'}), \n",
    "            on='activity')\n",
    "print(data)\n",
    "print(len(data))\n",
    "print(len(mlca.characterized_inventory))"
   ]
  },
  {
   "cell_type": "code",
   "execution_count": 23,
   "id": "bed911d9",
   "metadata": {},
   "outputs": [
    {
     "name": "stdout",
     "output_type": "stream",
     "text": [
      "Starting graph traversal\n",
      "Calculation count: 3\n",
      "All databases in database_date_dict exist as brightway project databases\n"
     ]
    }
   ],
   "source": [
    "mlca = MedusaLCA(demand, gwp, filter_function, database_date_dict, max_calc=1000)\n",
    "mlca.build_timeline()\n",
    "mlca.build_datapackage()\n",
    "mlca.lci()\n",
    "mlca.lcia()\n",
    "\n",
    "mlca.build_dynamic_biosphere()\n",
    "mlca.calculate_dynamic_lci()\n",
    "mlca.characterize_dynamic_lci({\"carbon dioxide\": characterize_co2, \"methane\": characterize_methane})"
   ]
  },
  {
   "cell_type": "markdown",
   "id": "f202fa83",
   "metadata": {},
   "source": [
    "TODO make sure all arguments can be passed, e.g. cumsum. switch between methane and CO2,\n",
    " addition of methane and CO2, selected timeframe, add units, add plotting, add ids sum needs to be the same as for temporalis example"
   ]
  }
 ],
 "metadata": {
  "kernelspec": {
   "display_name": "Python 3 (ipykernel)",
   "language": "python",
   "name": "python3"
  },
  "language_info": {
   "codemirror_mode": {
    "name": "ipython",
    "version": 3
   },
   "file_extension": ".py",
   "mimetype": "text/x-python",
   "name": "python",
   "nbconvert_exporter": "python",
   "pygments_lexer": "ipython3",
   "version": "3.10.13"
  }
 },
 "nbformat": 4,
 "nbformat_minor": 5
}
