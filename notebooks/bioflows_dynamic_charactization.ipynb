{
 "cells": [
  {
   "cell_type": "markdown",
   "id": "bee706e3",
   "metadata": {},
   "source": [
    "# `MEDUSA`\n",
    "aka. Dynamic-Prospective LCA aka. Union(premise, temporalis)"
   ]
  },
  {
   "cell_type": "code",
   "execution_count": 1,
   "id": "d8cd7a3f",
   "metadata": {
    "tags": []
   },
   "outputs": [],
   "source": [
    "from bw_temporalis import easy_timedelta_distribution, TemporalDistribution, easy_datetime_distribution\n",
    "from bw_temporalis.lcia.climate import characterize_methane, characterize_co2\n",
    "import sys\n",
    "import os\n",
    "sys.path.append(os.path.realpath('../'))\n",
    "from medusa.edge_extractor import *\n",
    "from medusa.matrix_modifier import MatrixModifier\n",
    "from medusa.medusa_lca import *\n",
    "from medusa.timeline_builder import TimelineBuilder\n",
    "from medusa.dynamic_characterization import DynamicCharacterization\n",
    "import bw2data as bd\n",
    "import bw2calc as bc\n",
    "import numpy as np\n",
    "import pandas as pd"
   ]
  },
  {
   "cell_type": "code",
   "execution_count": 2,
   "id": "5d3622ff",
   "metadata": {},
   "outputs": [
    {
     "name": "stderr",
     "output_type": "stream",
     "text": [
      "100%|██████████| 2/2 [00:00<00:00, 3964.37it/s]\n"
     ]
    },
    {
     "name": "stdout",
     "output_type": "stream",
     "text": [
      "Vacuuming database \n",
      "Not able to determine geocollections for all datasets. This database is not ready for regionalization.\n"
     ]
    },
    {
     "name": "stderr",
     "output_type": "stream",
     "text": [
      "100%|██████████| 2/2 [00:00<?, ?it/s]\n"
     ]
    },
    {
     "name": "stdout",
     "output_type": "stream",
     "text": [
      "Vacuuming database \n",
      "Not able to determine geocollections for all datasets. This database is not ready for regionalization.\n"
     ]
    },
    {
     "name": "stderr",
     "output_type": "stream",
     "text": [
      "100%|██████████| 2/2 [00:00<?, ?it/s]\n"
     ]
    },
    {
     "name": "stdout",
     "output_type": "stream",
     "text": [
      "Vacuuming database \n",
      "Not able to determine geocollections for all datasets. This database is not ready for regionalization.\n"
     ]
    },
    {
     "name": "stderr",
     "output_type": "stream",
     "text": [
      "100%|██████████| 4/4 [00:00<?, ?it/s]\n"
     ]
    },
    {
     "name": "stdout",
     "output_type": "stream",
     "text": [
      "Vacuuming database \n"
     ]
    }
   ],
   "source": [
    "from tests.databases import *\n",
    "db_abc_loopA_with_biosphere_advanced_simple()"
   ]
  },
  {
   "cell_type": "code",
   "execution_count": 3,
   "id": "8d9405d9",
   "metadata": {},
   "outputs": [],
   "source": [
    "demand = {('foreground', 'A'): 1}\n",
    "gwp = ('GWP', 'example')"
   ]
  },
  {
   "cell_type": "markdown",
   "id": "31ced634",
   "metadata": {},
   "source": [
    "# Static LCA"
   ]
  },
  {
   "cell_type": "code",
   "execution_count": 4,
   "id": "cca6b8f2-12a3-43f9-8be2-c6a898268adf",
   "metadata": {
    "tags": []
   },
   "outputs": [
    {
     "name": "stdout",
     "output_type": "stream",
     "text": [
      "Static LCA score: 240.5555559538397\n"
     ]
    }
   ],
   "source": [
    "slca = bc.LCA(demand, gwp)\n",
    "slca.lci()\n",
    "slca.lcia()\n",
    "print(f'Static LCA score: {slca.score}')"
   ]
  },
  {
   "cell_type": "markdown",
   "id": "b461bbb5",
   "metadata": {},
   "source": [
    "# `MEDUSA` LCA"
   ]
  },
  {
   "cell_type": "code",
   "execution_count": 5,
   "id": "31af46a8-ceee-4ccd-8964-fbc9698f43b3",
   "metadata": {},
   "outputs": [],
   "source": [
    "SKIPPABLE = [node.id for node in bd.Database('background_2020')] + [\n",
    "    node.id for node in bd.Database('background_2024')\n",
    "]\n",
    "\n",
    "def filter_function(database_id: int) -> bool:\n",
    "    return database_id in SKIPPABLE"
   ]
  },
  {
   "cell_type": "markdown",
   "id": "dead855e",
   "metadata": {},
   "source": [
    "Now we can do the graph traversal and create a timeline of edges:"
   ]
  },
  {
   "cell_type": "code",
   "execution_count": 6,
   "id": "7b5649e3",
   "metadata": {},
   "outputs": [],
   "source": [
    "import warnings\n",
    "warnings.filterwarnings(\"ignore\")\n",
    "\n",
    "database_date_dict = {\n",
    "            'background_2008': datetime.strptime(\"2008\", \"%Y\"),\n",
    "            'background_2024': datetime.strptime(\"2024\", \"%Y\"),\n",
    "            'foreground': \"dynamic\", # flag databases that should be temporally distributed with \"dynamic\"\n",
    "        }"
   ]
  },
  {
   "cell_type": "code",
   "execution_count": 7,
   "id": "71bba776",
   "metadata": {},
   "outputs": [
    {
     "name": "stdout",
     "output_type": "stream",
     "text": [
      "Starting graph traversal\n",
      "Calculation count: 42\n"
     ]
    }
   ],
   "source": [
    "mlca = MedusaLCA(demand, gwp, filter_function, database_date_dict, max_calc=1000)"
   ]
  },
  {
   "cell_type": "code",
   "execution_count": 8,
   "id": "c40754e8",
   "metadata": {},
   "outputs": [
    {
     "name": "stdout",
     "output_type": "stream",
     "text": [
      "All databases in database_date_dict exist as brightway project databases\n"
     ]
    },
    {
     "data": {
      "text/html": [
       "<div>\n",
       "<style scoped>\n",
       "    .dataframe tbody tr th:only-of-type {\n",
       "        vertical-align: middle;\n",
       "    }\n",
       "\n",
       "    .dataframe tbody tr th {\n",
       "        vertical-align: top;\n",
       "    }\n",
       "\n",
       "    .dataframe thead th {\n",
       "        text-align: right;\n",
       "    }\n",
       "</style>\n",
       "<table border=\"1\" class=\"dataframe\">\n",
       "  <thead>\n",
       "    <tr style=\"text-align: right;\">\n",
       "      <th></th>\n",
       "      <th>hash_producer</th>\n",
       "      <th>time_mapped_producer</th>\n",
       "      <th>date_producer</th>\n",
       "      <th>producer</th>\n",
       "      <th>producer_name</th>\n",
       "      <th>hash_consumer</th>\n",
       "      <th>time_mapped_consumer</th>\n",
       "      <th>date_consumer</th>\n",
       "      <th>consumer</th>\n",
       "      <th>consumer_name</th>\n",
       "      <th>amount</th>\n",
       "      <th>interpolation_weights</th>\n",
       "    </tr>\n",
       "  </thead>\n",
       "  <tbody>\n",
       "    <tr>\n",
       "      <th>0</th>\n",
       "      <td>2024</td>\n",
       "      <td>258</td>\n",
       "      <td>2024-01-01</td>\n",
       "      <td>258</td>\n",
       "      <td>C</td>\n",
       "      <td>2024</td>\n",
       "      <td>266</td>\n",
       "      <td>2024-01-01</td>\n",
       "      <td>262</td>\n",
       "      <td>E</td>\n",
       "      <td>11.0</td>\n",
       "      <td>{'background_2024': 1}</td>\n",
       "    </tr>\n",
       "    <tr>\n",
       "      <th>1</th>\n",
       "      <td>2024</td>\n",
       "      <td>258</td>\n",
       "      <td>2024-01-01</td>\n",
       "      <td>258</td>\n",
       "      <td>C</td>\n",
       "      <td>2024</td>\n",
       "      <td>268</td>\n",
       "      <td>2024-01-01</td>\n",
       "      <td>264</td>\n",
       "      <td>B</td>\n",
       "      <td>13.0</td>\n",
       "      <td>{'background_2024': 1}</td>\n",
       "    </tr>\n",
       "    <tr>\n",
       "      <th>2</th>\n",
       "      <td>2024</td>\n",
       "      <td>266</td>\n",
       "      <td>2024-01-01</td>\n",
       "      <td>262</td>\n",
       "      <td>E</td>\n",
       "      <td>2024</td>\n",
       "      <td>267</td>\n",
       "      <td>2024-01-01</td>\n",
       "      <td>263</td>\n",
       "      <td>D</td>\n",
       "      <td>2.0</td>\n",
       "      <td>{'background_2024': 1}</td>\n",
       "    </tr>\n",
       "    <tr>\n",
       "      <th>3</th>\n",
       "      <td>2024</td>\n",
       "      <td>267</td>\n",
       "      <td>2024-01-01</td>\n",
       "      <td>263</td>\n",
       "      <td>D</td>\n",
       "      <td>2024</td>\n",
       "      <td>269</td>\n",
       "      <td>2024-01-01</td>\n",
       "      <td>265</td>\n",
       "      <td>A</td>\n",
       "      <td>0.5</td>\n",
       "      <td>{'background_2024': 1}</td>\n",
       "    </tr>\n",
       "    <tr>\n",
       "      <th>4</th>\n",
       "      <td>2024</td>\n",
       "      <td>268</td>\n",
       "      <td>2024-01-01</td>\n",
       "      <td>264</td>\n",
       "      <td>B</td>\n",
       "      <td>2024</td>\n",
       "      <td>266</td>\n",
       "      <td>2024-01-01</td>\n",
       "      <td>262</td>\n",
       "      <td>E</td>\n",
       "      <td>8.0</td>\n",
       "      <td>{'background_2024': 1}</td>\n",
       "    </tr>\n",
       "    <tr>\n",
       "      <th>5</th>\n",
       "      <td>2024</td>\n",
       "      <td>268</td>\n",
       "      <td>2024-01-01</td>\n",
       "      <td>264</td>\n",
       "      <td>B</td>\n",
       "      <td>2024</td>\n",
       "      <td>267</td>\n",
       "      <td>2024-01-01</td>\n",
       "      <td>263</td>\n",
       "      <td>D</td>\n",
       "      <td>5.0</td>\n",
       "      <td>{'background_2024': 1}</td>\n",
       "    </tr>\n",
       "    <tr>\n",
       "      <th>6</th>\n",
       "      <td>2024</td>\n",
       "      <td>268</td>\n",
       "      <td>2024-01-01</td>\n",
       "      <td>264</td>\n",
       "      <td>B</td>\n",
       "      <td>2024</td>\n",
       "      <td>269</td>\n",
       "      <td>2024-01-01</td>\n",
       "      <td>265</td>\n",
       "      <td>A</td>\n",
       "      <td>4.0</td>\n",
       "      <td>{'background_2024': 1}</td>\n",
       "    </tr>\n",
       "    <tr>\n",
       "      <th>7</th>\n",
       "      <td>2024</td>\n",
       "      <td>269</td>\n",
       "      <td>2024-01-01</td>\n",
       "      <td>265</td>\n",
       "      <td>A</td>\n",
       "      <td>2024</td>\n",
       "      <td>-1</td>\n",
       "      <td>2024-01-01</td>\n",
       "      <td>-1</td>\n",
       "      <td>-1</td>\n",
       "      <td>1.0</td>\n",
       "      <td>{'background_2024': 1}</td>\n",
       "    </tr>\n",
       "    <tr>\n",
       "      <th>8</th>\n",
       "      <td>2024</td>\n",
       "      <td>269</td>\n",
       "      <td>2024-01-01</td>\n",
       "      <td>265</td>\n",
       "      <td>A</td>\n",
       "      <td>2024</td>\n",
       "      <td>266</td>\n",
       "      <td>2024-01-01</td>\n",
       "      <td>262</td>\n",
       "      <td>E</td>\n",
       "      <td>0.1</td>\n",
       "      <td>{'background_2024': 1}</td>\n",
       "    </tr>\n",
       "  </tbody>\n",
       "</table>\n",
       "</div>"
      ],
      "text/plain": [
       "   hash_producer  time_mapped_producer date_producer  producer producer_name  \\\n",
       "0           2024                   258    2024-01-01       258             C   \n",
       "1           2024                   258    2024-01-01       258             C   \n",
       "2           2024                   266    2024-01-01       262             E   \n",
       "3           2024                   267    2024-01-01       263             D   \n",
       "4           2024                   268    2024-01-01       264             B   \n",
       "5           2024                   268    2024-01-01       264             B   \n",
       "6           2024                   268    2024-01-01       264             B   \n",
       "7           2024                   269    2024-01-01       265             A   \n",
       "8           2024                   269    2024-01-01       265             A   \n",
       "\n",
       "   hash_consumer  time_mapped_consumer date_consumer  consumer consumer_name  \\\n",
       "0           2024                   266    2024-01-01       262             E   \n",
       "1           2024                   268    2024-01-01       264             B   \n",
       "2           2024                   267    2024-01-01       263             D   \n",
       "3           2024                   269    2024-01-01       265             A   \n",
       "4           2024                   266    2024-01-01       262             E   \n",
       "5           2024                   267    2024-01-01       263             D   \n",
       "6           2024                   269    2024-01-01       265             A   \n",
       "7           2024                    -1    2024-01-01        -1            -1   \n",
       "8           2024                   266    2024-01-01       262             E   \n",
       "\n",
       "  amount   interpolation_weights  \n",
       "0   11.0  {'background_2024': 1}  \n",
       "1   13.0  {'background_2024': 1}  \n",
       "2    2.0  {'background_2024': 1}  \n",
       "3    0.5  {'background_2024': 1}  \n",
       "4    8.0  {'background_2024': 1}  \n",
       "5    5.0  {'background_2024': 1}  \n",
       "6    4.0  {'background_2024': 1}  \n",
       "7    1.0  {'background_2024': 1}  \n",
       "8    0.1  {'background_2024': 1}  "
      ]
     },
     "execution_count": 8,
     "metadata": {},
     "output_type": "execute_result"
    }
   ],
   "source": [
    "mlca.build_timeline()"
   ]
  },
  {
   "cell_type": "code",
   "execution_count": 9,
   "id": "1c833eff",
   "metadata": {},
   "outputs": [],
   "source": [
    "mlca.build_datapackage()"
   ]
  },
  {
   "cell_type": "code",
   "execution_count": 10,
   "id": "d0f38d8e",
   "metadata": {},
   "outputs": [],
   "source": [
    "mlca.lci()"
   ]
  },
  {
   "cell_type": "code",
   "execution_count": 11,
   "id": "b4ed53cf",
   "metadata": {},
   "outputs": [],
   "source": [
    "mlca.lcia()"
   ]
  },
  {
   "cell_type": "code",
   "execution_count": 12,
   "id": "4a51cd8a",
   "metadata": {},
   "outputs": [
    {
     "name": "stdout",
     "output_type": "stream",
     "text": [
      "New MEDUSA LCA Score: 240.5555559538397\n",
      "Old static LCA Score: 240.5555559538397\n"
     ]
    }
   ],
   "source": [
    "print('New MEDUSA LCA Score:', mlca.score)\n",
    "print('Old static LCA Score:', slca.score)"
   ]
  },
  {
   "cell_type": "code",
   "execution_count": 13,
   "id": "0d954b57",
   "metadata": {},
   "outputs": [],
   "source": [
    "mlca.build_dynamic_biosphere()"
   ]
  },
  {
   "cell_type": "code",
   "execution_count": 14,
   "id": "19a3f3b3",
   "metadata": {},
   "outputs": [],
   "source": [
    "mlca.calculate_dynamic_lci()"
   ]
  },
  {
   "cell_type": "code",
   "execution_count": 16,
   "id": "98b7e9bc",
   "metadata": {},
   "outputs": [
    {
     "data": {
      "text/plain": [
       "{'CO2': {'time': array(['2005-12-31T12:21:36', '2008-01-01T00:00:00',\n",
       "         '2008-12-31T05:49:12', '2009-12-31T11:38:24',\n",
       "         '2021-12-31T12:21:36', '2024-01-01T00:00:00',\n",
       "         '2024-12-31T05:49:12', '2025-12-31T11:38:24'],\n",
       "        dtype='datetime64[s]'),\n",
       "  'amount': array([ 0.        ,  0.        ,  0.        ,  0.        ,  0.        ,\n",
       "         18.88888892,  0.        ,  0.        ])},\n",
       " 'CH4': {'time': array(['2021-12-31T12:21:36'], dtype='datetime64[s]'),\n",
       "  'amount': array([16.11111114])}}"
      ]
     },
     "execution_count": 16,
     "metadata": {},
     "output_type": "execute_result"
    }
   ],
   "source": [
    "mlca.dynamic_inventory"
   ]
  },
  {
   "cell_type": "code",
   "execution_count": 17,
   "id": "4084b794",
   "metadata": {},
   "outputs": [],
   "source": [
    "mlca.characterize_dynamic_lci({\"carbon dioxide\": characterize_co2, \"methane\": characterize_methane})\t \n"
   ]
  },
  {
   "cell_type": "code",
   "execution_count": 18,
   "id": "c8e26894",
   "metadata": {},
   "outputs": [
    {
     "data": {
      "text/html": [
       "<div>\n",
       "<style scoped>\n",
       "    .dataframe tbody tr th:only-of-type {\n",
       "        vertical-align: middle;\n",
       "    }\n",
       "\n",
       "    .dataframe tbody tr th {\n",
       "        vertical-align: top;\n",
       "    }\n",
       "\n",
       "    .dataframe thead th {\n",
       "        text-align: right;\n",
       "    }\n",
       "</style>\n",
       "<table border=\"1\" class=\"dataframe\">\n",
       "  <thead>\n",
       "    <tr style=\"text-align: right;\">\n",
       "      <th></th>\n",
       "      <th>date</th>\n",
       "      <th>amount</th>\n",
       "      <th>flow</th>\n",
       "      <th>activity</th>\n",
       "      <th>amount_sum</th>\n",
       "    </tr>\n",
       "  </thead>\n",
       "  <tbody>\n",
       "    <tr>\n",
       "      <th>0</th>\n",
       "      <td>2005-12-31 12:21:36</td>\n",
       "      <td>0.000000e+00</td>\n",
       "      <td>256</td>\n",
       "      <td>76867</td>\n",
       "      <td>0.000000e+00</td>\n",
       "    </tr>\n",
       "    <tr>\n",
       "      <th>1</th>\n",
       "      <td>2006-12-31 18:10:48</td>\n",
       "      <td>0.000000e+00</td>\n",
       "      <td>256</td>\n",
       "      <td>76867</td>\n",
       "      <td>0.000000e+00</td>\n",
       "    </tr>\n",
       "    <tr>\n",
       "      <th>2</th>\n",
       "      <td>2008-01-01 00:00:00</td>\n",
       "      <td>0.000000e+00</td>\n",
       "      <td>256</td>\n",
       "      <td>76867</td>\n",
       "      <td>0.000000e+00</td>\n",
       "    </tr>\n",
       "    <tr>\n",
       "      <th>3</th>\n",
       "      <td>2008-01-01 00:00:00</td>\n",
       "      <td>0.000000e+00</td>\n",
       "      <td>256</td>\n",
       "      <td>76867</td>\n",
       "      <td>0.000000e+00</td>\n",
       "    </tr>\n",
       "    <tr>\n",
       "      <th>4</th>\n",
       "      <td>2008-12-31 05:49:12</td>\n",
       "      <td>0.000000e+00</td>\n",
       "      <td>256</td>\n",
       "      <td>76867</td>\n",
       "      <td>0.000000e+00</td>\n",
       "    </tr>\n",
       "    <tr>\n",
       "      <th>...</th>\n",
       "      <td>...</td>\n",
       "      <td>...</td>\n",
       "      <td>...</td>\n",
       "      <td>...</td>\n",
       "      <td>...</td>\n",
       "    </tr>\n",
       "    <tr>\n",
       "      <th>95</th>\n",
       "      <td>2116-12-31 13:15:36</td>\n",
       "      <td>1.654957e-15</td>\n",
       "      <td>257</td>\n",
       "      <td>76867</td>\n",
       "      <td>4.184373e-11</td>\n",
       "    </tr>\n",
       "    <tr>\n",
       "      <th>96</th>\n",
       "      <td>2117-12-31 19:04:48</td>\n",
       "      <td>1.526732e-15</td>\n",
       "      <td>257</td>\n",
       "      <td>76867</td>\n",
       "      <td>4.184526e-11</td>\n",
       "    </tr>\n",
       "    <tr>\n",
       "      <th>97</th>\n",
       "      <td>2119-01-01 00:54:00</td>\n",
       "      <td>1.408442e-15</td>\n",
       "      <td>257</td>\n",
       "      <td>76867</td>\n",
       "      <td>4.184666e-11</td>\n",
       "    </tr>\n",
       "    <tr>\n",
       "      <th>98</th>\n",
       "      <td>2120-01-01 06:43:12</td>\n",
       "      <td>1.299318e-15</td>\n",
       "      <td>257</td>\n",
       "      <td>76867</td>\n",
       "      <td>4.184796e-11</td>\n",
       "    </tr>\n",
       "    <tr>\n",
       "      <th>99</th>\n",
       "      <td>2120-12-31 12:32:24</td>\n",
       "      <td>1.198648e-15</td>\n",
       "      <td>257</td>\n",
       "      <td>76867</td>\n",
       "      <td>4.184916e-11</td>\n",
       "    </tr>\n",
       "  </tbody>\n",
       "</table>\n",
       "<p>900 rows × 5 columns</p>\n",
       "</div>"
      ],
      "text/plain": [
       "                  date        amount  flow  activity    amount_sum\n",
       "0  2005-12-31 12:21:36  0.000000e+00   256     76867  0.000000e+00\n",
       "1  2006-12-31 18:10:48  0.000000e+00   256     76867  0.000000e+00\n",
       "2  2008-01-01 00:00:00  0.000000e+00   256     76867  0.000000e+00\n",
       "3  2008-01-01 00:00:00  0.000000e+00   256     76867  0.000000e+00\n",
       "4  2008-12-31 05:49:12  0.000000e+00   256     76867  0.000000e+00\n",
       "..                 ...           ...   ...       ...           ...\n",
       "95 2116-12-31 13:15:36  1.654957e-15   257     76867  4.184373e-11\n",
       "96 2117-12-31 19:04:48  1.526732e-15   257     76867  4.184526e-11\n",
       "97 2119-01-01 00:54:00  1.408442e-15   257     76867  4.184666e-11\n",
       "98 2120-01-01 06:43:12  1.299318e-15   257     76867  4.184796e-11\n",
       "99 2120-12-31 12:32:24  1.198648e-15   257     76867  4.184916e-11\n",
       "\n",
       "[900 rows x 5 columns]"
      ]
     },
     "execution_count": 18,
     "metadata": {},
     "output_type": "execute_result"
    }
   ],
   "source": [
    "mlca.characterized_inventory"
   ]
  },
  {
   "cell_type": "code",
   "execution_count": 20,
   "id": "bed911d9",
   "metadata": {},
   "outputs": [
    {
     "name": "stdout",
     "output_type": "stream",
     "text": [
      "Starting graph traversal\n",
      "Calculation count: 42\n",
      "All databases in database_date_dict exist as brightway project databases\n"
     ]
    }
   ],
   "source": [
    "mlca = MedusaLCA(demand, gwp, filter_function, database_date_dict, max_calc=1000)\n",
    "mlca.build_timeline()\n",
    "mlca.build_datapackage()\n",
    "mlca.lci()\n",
    "mlca.lcia()\n",
    "\n",
    "mlca.build_dynamic_biosphere()\n",
    "mlca.calculate_dynamic_lci()\n",
    "mlca.characterize_dynamic_lci({\"carbon dioxide\": characterize_co2, \"methane\": characterize_methane})"
   ]
  },
  {
   "cell_type": "markdown",
   "id": "f202fa83",
   "metadata": {},
   "source": [
    "TODO make sure all arguments can be passed, e.g. cumsum. switch between methane and CO2,\n",
    " addition of methane and CO2, selected timeframe, add units, add plotting, add ids sum needs to be the same as for temporalis example"
   ]
  }
 ],
 "metadata": {
  "kernelspec": {
   "display_name": "Python 3 (ipykernel)",
   "language": "python",
   "name": "python3"
  },
  "language_info": {
   "codemirror_mode": {
    "name": "ipython",
    "version": 3
   },
   "file_extension": ".py",
   "mimetype": "text/x-python",
   "name": "python",
   "nbconvert_exporter": "python",
   "pygments_lexer": "ipython3",
   "version": "3.10.13"
  }
 },
 "nbformat": 4,
 "nbformat_minor": 5
}
