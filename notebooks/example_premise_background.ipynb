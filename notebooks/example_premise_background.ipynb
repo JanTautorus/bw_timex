{
 "cells": [
  {
   "cell_type": "markdown",
   "metadata": {},
   "source": [
    "# Time explicit LCA with a dummy foreground and premise background\n"
   ]
  },
  {
   "cell_type": "code",
   "execution_count": 1,
   "metadata": {},
   "outputs": [],
   "source": [
    "import numpy as np\n",
    "import bw2data as bd\n",
    "import bw2calc as bc\n",
    "import bw2io as bi\n",
    "from bw_temporalis import TemporalDistribution\n",
    "from timex_lca import MedusaLCA"
   ]
  },
  {
   "cell_type": "code",
   "execution_count": 2,
   "metadata": {},
   "outputs": [
    {
     "name": "stdout",
     "output_type": "stream",
     "text": [
      "Using existing project: bw25_premise_background_v2\n"
     ]
    }
   ],
   "source": [
    "PROJECT_NAME = \"bw25_premise_background_v2\"\n",
    "RESET = False\n",
    "\n",
    "if PROJECT_NAME in bd.projects and not RESET:  # use existing project\n",
    "    print(\"Using existing project: {}\".format(PROJECT_NAME))\n",
    "    bd.projects.set_current(PROJECT_NAME)\n",
    "\n",
    "else:  # create project from scratch\n",
    "    print(\"Creating new project: {}\".format(PROJECT_NAME))\n",
    "    if PROJECT_NAME in bd.projects:\n",
    "        bd.projects.delete_project(PROJECT_NAME)\n",
    "    bi.backup.restore_project_directory(\n",
    "        r\"filepath/to/backup/directory\"\n",
    "    )  # tar file shared on slack\n",
    "    bd.projects.set_current(PROJECT_NAME)"
   ]
  },
  {
   "cell_type": "code",
   "execution_count": 3,
   "metadata": {},
   "outputs": [],
   "source": [
    "# prospective databases were generated with premise, updating only electricity\n",
    "db_2020 = bd.Database(\"db_2020\")\n",
    "db_2030 = bd.Database(\"db_2030\")\n",
    "db_2040 = bd.Database(\"db_2040\")"
   ]
  },
  {
   "attachments": {
    "image.png": {
     "image/png": "[encoded data removed]"
    }
   },
   "cell_type": "markdown",
   "metadata": {},
   "source": [
    "Flow chart of system:<br> <br> ![image.png](attachment:image.png)\n",
    "<br> <br>\n"
   ]
  },
  {
   "cell_type": "markdown",
   "metadata": {},
   "source": [
    "Select electricity process in dbs\n"
   ]
  },
  {
   "cell_type": "code",
   "execution_count": 4,
   "metadata": {},
   "outputs": [
    {
     "data": {
      "text/plain": [
       "'market group for electricity, high voltage' (kilowatt hour, WEU, None)"
      ]
     },
     "execution_count": 4,
     "metadata": {},
     "output_type": "execute_result"
    }
   ],
   "source": [
    "# selecting Western Europe's electricity market mix as\n",
    "electr_WEU_2020 = [\n",
    "    x\n",
    "    for x in db_2020\n",
    "    if (\n",
    "        x[\"name\"] == \"market group for electricity, high voltage\"\n",
    "        and \"period\" not in x[\"name\"]\n",
    "        and x[\"location\"] == \"WEU\"\n",
    "    )\n",
    "][0]\n",
    "electr_WEU_2020"
   ]
  },
  {
   "cell_type": "code",
   "execution_count": 5,
   "metadata": {},
   "outputs": [],
   "source": [
    "electr_WEU_2030 = [\n",
    "    x\n",
    "    for x in db_2030\n",
    "    if (\n",
    "        x[\"name\"] == \"market group for electricity, high voltage\"\n",
    "        and \"period\" not in x[\"name\"]\n",
    "        and x[\"location\"] == \"WEU\"\n",
    "    )\n",
    "][0]\n",
    "electr_WEU_2030.as_dict()\n",
    "\n",
    "electr_WEU_2040 = [\n",
    "    x\n",
    "    for x in db_2040\n",
    "    if (\n",
    "        x[\"name\"] == \"market group for electricity, high voltage\"\n",
    "        and \"period\" not in x[\"name\"]\n",
    "        and x[\"location\"] == \"WEU\"\n",
    "    )\n",
    "][0]"
   ]
  },
  {
   "cell_type": "markdown",
   "metadata": {},
   "source": [
    "write foreground db:\n"
   ]
  },
  {
   "cell_type": "code",
   "execution_count": 6,
   "metadata": {},
   "outputs": [
    {
     "name": "stdout",
     "output_type": "stream",
     "text": [
      "Not able to determine geocollections for all datasets. This database is not ready for regionalization.\n"
     ]
    },
    {
     "name": "stderr",
     "output_type": "stream",
     "text": [
      "100%|██████████| 2/2 [00:00<00:00, 9098.27it/s]"
     ]
    },
    {
     "name": "stdout",
     "output_type": "stream",
     "text": [
      "Vacuuming database \n"
     ]
    },
    {
     "name": "stderr",
     "output_type": "stream",
     "text": [
      "\n"
     ]
    }
   ],
   "source": [
    "bd.Database(\"foreground\").write(\n",
    "    {\n",
    "        (\"foreground\", \"A\"): {\n",
    "            \"name\": \"process A\",\n",
    "            \"exchanges\": [\n",
    "                {\n",
    "                    \"amount\": 1,\n",
    "                    \"type\": \"production\",\n",
    "                    \"input\": (\"foreground\", \"A\"),\n",
    "                },\n",
    "                {\n",
    "                    \"amount\": 1,\n",
    "                    \"type\": \"technosphere\",\n",
    "                    \"input\": (\"foreground\", \"B\"),\n",
    "                    \"temporal_distribution\": TemporalDistribution(\n",
    "                        np.array([1, 11], dtype=\"timedelta64[Y]\"), np.array([0.5, 0.5])\n",
    "                    ),\n",
    "                },\n",
    "            ],\n",
    "        },\n",
    "        (\"foreground\", \"B\"): {\n",
    "            \"name\": \"process B\",\n",
    "            \"exchanges\": [\n",
    "                {\n",
    "                    \"amount\": 1,\n",
    "                    \"type\": \"technosphere\",\n",
    "                    \"input\": (\n",
    "                        electr_WEU_2020.key\n",
    "                    ),  # market group for electricity, high voltage' (kilowatt hour, WEU, None)\n",
    "                }\n",
    "            ],\n",
    "        },\n",
    "    }\n",
    ")"
   ]
  },
  {
   "cell_type": "markdown",
   "metadata": {},
   "source": [
    "select method:\n"
   ]
  },
  {
   "cell_type": "code",
   "execution_count": 7,
   "metadata": {},
   "outputs": [],
   "source": [
    "method = (\n",
    "    \"IPCC 2021 no LT\",\n",
    "    \"climate change no LT\",\n",
    "    \"global warming potential (GWP100) no LT\",\n",
    ")"
   ]
  },
  {
   "cell_type": "markdown",
   "metadata": {},
   "source": [
    "### Standard medusa LCA from here on:\n"
   ]
  },
  {
   "cell_type": "code",
   "execution_count": 8,
   "metadata": {},
   "outputs": [],
   "source": [
    "from datetime import datetime\n",
    "\n",
    "database_date_dict = {\n",
    "    \"db_2020\": datetime.strptime(\"2020\", \"%Y\"),\n",
    "    \"db_2030\": datetime.strptime(\"2030\", \"%Y\"),\n",
    "    \"db_2040\": datetime.strptime(\"2040\", \"%Y\"),\n",
    "    \"foreground\": \"dynamic\",  # flag databases that should be temporally distributed with \"dynamic\"\n",
    "}"
   ]
  },
  {
   "cell_type": "code",
   "execution_count": 9,
   "metadata": {},
   "outputs": [],
   "source": [
    "demand = {(\"foreground\", \"A\"): 1}"
   ]
  },
  {
   "cell_type": "code",
   "execution_count": 10,
   "metadata": {},
   "outputs": [
    {
     "name": "stdout",
     "output_type": "stream",
     "text": [
      "Calculation count: 2\n"
     ]
    }
   ],
   "source": [
    "mlca = MedusaLCA(\n",
    "    demand, method, None, database_date_dict\n",
    ")"
   ]
  },
  {
   "cell_type": "code",
   "execution_count": 11,
   "metadata": {},
   "outputs": [
    {
     "data": {
      "text/html": [
       "<div>\n",
       "<style scoped>\n",
       "    .dataframe tbody tr th:only-of-type {\n",
       "        vertical-align: middle;\n",
       "    }\n",
       "\n",
       "    .dataframe tbody tr th {\n",
       "        vertical-align: top;\n",
       "    }\n",
       "\n",
       "    .dataframe thead th {\n",
       "        text-align: right;\n",
       "    }\n",
       "</style>\n",
       "<table border=\"1\" class=\"dataframe\">\n",
       "  <thead>\n",
       "    <tr style=\"text-align: right;\">\n",
       "      <th></th>\n",
       "      <th>hash_producer</th>\n",
       "      <th>time_mapped_producer</th>\n",
       "      <th>date_producer</th>\n",
       "      <th>producer</th>\n",
       "      <th>producer_name</th>\n",
       "      <th>hash_consumer</th>\n",
       "      <th>time_mapped_consumer</th>\n",
       "      <th>date_consumer</th>\n",
       "      <th>consumer</th>\n",
       "      <th>consumer_name</th>\n",
       "      <th>amount</th>\n",
       "      <th>interpolation_weights</th>\n",
       "    </tr>\n",
       "  </thead>\n",
       "  <tbody>\n",
       "    <tr>\n",
       "      <th>0</th>\n",
       "      <td>2024</td>\n",
       "      <td>98282</td>\n",
       "      <td>2024-01-01</td>\n",
       "      <td>98280</td>\n",
       "      <td>process A</td>\n",
       "      <td>2024</td>\n",
       "      <td>-1</td>\n",
       "      <td>2024-01-01</td>\n",
       "      <td>-1</td>\n",
       "      <td>-1</td>\n",
       "      <td>1.0</td>\n",
       "      <td>{'db_2020': 0.6000547495209416, 'db_2030': 0.3...</td>\n",
       "    </tr>\n",
       "    <tr>\n",
       "      <th>1</th>\n",
       "      <td>2025</td>\n",
       "      <td>98283</td>\n",
       "      <td>2025-01-01</td>\n",
       "      <td>98281</td>\n",
       "      <td>process B</td>\n",
       "      <td>2024</td>\n",
       "      <td>98282</td>\n",
       "      <td>2024-01-01</td>\n",
       "      <td>98280</td>\n",
       "      <td>process A</td>\n",
       "      <td>0.5</td>\n",
       "      <td>{'db_2020': 0.4998631261976457, 'db_2030': 0.5...</td>\n",
       "    </tr>\n",
       "    <tr>\n",
       "      <th>2</th>\n",
       "      <td>2025</td>\n",
       "      <td>98284</td>\n",
       "      <td>2025-01-01</td>\n",
       "      <td>49780</td>\n",
       "      <td>market group for electricity, high voltage</td>\n",
       "      <td>2025</td>\n",
       "      <td>98283</td>\n",
       "      <td>2025-01-01</td>\n",
       "      <td>98281</td>\n",
       "      <td>process B</td>\n",
       "      <td>1.0</td>\n",
       "      <td>{'db_2020': 0.4998631261976457, 'db_2030': 0.5...</td>\n",
       "    </tr>\n",
       "    <tr>\n",
       "      <th>3</th>\n",
       "      <td>2035</td>\n",
       "      <td>98285</td>\n",
       "      <td>2035-01-01</td>\n",
       "      <td>98281</td>\n",
       "      <td>process B</td>\n",
       "      <td>2024</td>\n",
       "      <td>98282</td>\n",
       "      <td>2024-01-01</td>\n",
       "      <td>98280</td>\n",
       "      <td>process A</td>\n",
       "      <td>0.5</td>\n",
       "      <td>{'db_2030': 0.5, 'db_2040': 0.5}</td>\n",
       "    </tr>\n",
       "    <tr>\n",
       "      <th>4</th>\n",
       "      <td>2035</td>\n",
       "      <td>98286</td>\n",
       "      <td>2035-01-01</td>\n",
       "      <td>49780</td>\n",
       "      <td>market group for electricity, high voltage</td>\n",
       "      <td>2035</td>\n",
       "      <td>98285</td>\n",
       "      <td>2035-01-01</td>\n",
       "      <td>98281</td>\n",
       "      <td>process B</td>\n",
       "      <td>1.0</td>\n",
       "      <td>{'db_2030': 0.5, 'db_2040': 0.5}</td>\n",
       "    </tr>\n",
       "  </tbody>\n",
       "</table>\n",
       "</div>"
      ],
      "text/plain": [
       "   hash_producer  time_mapped_producer date_producer  producer  \\\n",
       "0           2024                 98282    2024-01-01     98280   \n",
       "1           2025                 98283    2025-01-01     98281   \n",
       "2           2025                 98284    2025-01-01     49780   \n",
       "3           2035                 98285    2035-01-01     98281   \n",
       "4           2035                 98286    2035-01-01     49780   \n",
       "\n",
       "                                producer_name  hash_consumer  \\\n",
       "0                                   process A           2024   \n",
       "1                                   process B           2024   \n",
       "2  market group for electricity, high voltage           2025   \n",
       "3                                   process B           2024   \n",
       "4  market group for electricity, high voltage           2035   \n",
       "\n",
       "   time_mapped_consumer date_consumer  consumer consumer_name amount  \\\n",
       "0                    -1    2024-01-01        -1            -1    1.0   \n",
       "1                 98282    2024-01-01     98280     process A    0.5   \n",
       "2                 98283    2025-01-01     98281     process B    1.0   \n",
       "3                 98282    2024-01-01     98280     process A    0.5   \n",
       "4                 98285    2035-01-01     98281     process B    1.0   \n",
       "\n",
       "                               interpolation_weights  \n",
       "0  {'db_2020': 0.6000547495209416, 'db_2030': 0.3...  \n",
       "1  {'db_2020': 0.4998631261976457, 'db_2030': 0.5...  \n",
       "2  {'db_2020': 0.4998631261976457, 'db_2030': 0.5...  \n",
       "3                   {'db_2030': 0.5, 'db_2040': 0.5}  \n",
       "4                   {'db_2030': 0.5, 'db_2040': 0.5}  "
      ]
     },
     "execution_count": 11,
     "metadata": {},
     "output_type": "execute_result"
    }
   ],
   "source": [
    "mlca.build_timeline()"
   ]
  },
  {
   "cell_type": "code",
   "execution_count": 12,
   "metadata": {},
   "outputs": [],
   "source": [
    "mlca.build_datapackage()"
   ]
  },
  {
   "cell_type": "code",
   "execution_count": 13,
   "metadata": {},
   "outputs": [],
   "source": [
    "mlca.lci()"
   ]
  },
  {
   "cell_type": "code",
   "execution_count": 14,
   "metadata": {},
   "outputs": [],
   "source": [
    "mlca.lcia()"
   ]
  },
  {
   "cell_type": "code",
   "execution_count": 15,
   "metadata": {},
   "outputs": [
    {
     "name": "stdout",
     "output_type": "stream",
     "text": [
      "Old static LCA Score: 0.3457984665944551\n",
      "New MEDUSA LCA Score: 0.1418399100528639\n"
     ]
    }
   ],
   "source": [
    "print(\"Old static LCA Score:\", mlca.static_lca.score)\n",
    "print(\"New MEDUSA LCA Score:\", mlca.score)"
   ]
  },
  {
   "cell_type": "code",
   "execution_count": 16,
   "metadata": {},
   "outputs": [
    {
     "data": {
      "image/png": "[encoded data removed]",
      "text/plain": [
       "<Figure size 640x480 with 1 Axes>"
      ]
     },
     "metadata": {},
     "output_type": "display_data"
    }
   ],
   "source": [
    "code = bd.Database(\"biosphere3\").search(\"carbon dioxide, fossil\")[2][\"code\"]\n",
    "mlca.plot_dynamic_inventory(code)"
   ]
  },
  {
   "cell_type": "markdown",
   "metadata": {},
   "source": [
    "compare with prospective-dynamic score with expected results\n"
   ]
  },
  {
   "cell_type": "code",
   "execution_count": 17,
   "metadata": {},
   "outputs": [
    {
     "name": "stdout",
     "output_type": "stream",
     "text": [
      "Difference between medusa score and expected score 1.7552186933167402e-05\n"
     ]
    }
   ],
   "source": [
    "# compare with expected results: tiny deviation is fine!\n",
    "\n",
    "# expected lca results from 1 kWh electricty WEU 2020\n",
    "lca_electr_WEU_2020 = bc.LCA(\n",
    "    {(electr_WEU_2020[\"database\"], electr_WEU_2020[\"code\"]): 1}, method\n",
    ")\n",
    "lca_electr_WEU_2020.lci()\n",
    "lca_electr_WEU_2020.lcia()\n",
    "score_2020 = lca_electr_WEU_2020.score\n",
    "\n",
    "# expected lca results from 1 kWh electricty WEU 2030\n",
    "lca_electr_WEU_2030 = bc.LCA(\n",
    "    {(electr_WEU_2030[\"database\"], electr_WEU_2030[\"code\"]): 1}, method\n",
    ")\n",
    "lca_electr_WEU_2030.lci()\n",
    "lca_electr_WEU_2030.lcia()\n",
    "score_2030 = lca_electr_WEU_2030.score\n",
    "\n",
    "# expected lca results from 1 kWh electricty WEU 2040\n",
    "lca_electr_WEU_2040 = bc.LCA(\n",
    "    {(electr_WEU_2040[\"database\"], electr_WEU_2040[\"code\"]): 1}, method\n",
    ")\n",
    "lca_electr_WEU_2040.lci()\n",
    "lca_electr_WEU_2040.lcia()\n",
    "score_2040 = lca_electr_WEU_2040.score\n",
    "\n",
    "# expected score according to temporal distributions\n",
    "expected_score = 0.5 * (0.5 * score_2020 + 0.5 * score_2030) + 0.5 * (\n",
    "    0.5 * score_2030 + 0.5 * score_2040\n",
    ")\n",
    "delta = expected_score - mlca.score\n",
    "print(f\"Difference between medusa score and expected score {delta}\")"
   ]
  }
 ],
 "metadata": {
  "kernelspec": {
   "display_name": "tictac2",
   "language": "python",
   "name": "python3"
  },
  "language_info": {
   "codemirror_mode": {
    "name": "ipython",
    "version": 3
   },
   "file_extension": ".py",
   "mimetype": "text/x-python",
   "name": "python",
   "nbconvert_exporter": "python",
   "pygments_lexer": "ipython3",
   "version": "3.10.13"
  }
 },
 "nbformat": 4,
 "nbformat_minor": 2
}
