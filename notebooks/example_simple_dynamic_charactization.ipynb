{
 "cells": [
  {
   "cell_type": "markdown",
   "id": "bee706e3",
   "metadata": {},
   "source": [
    "# Example of dynamic characterization\n",
    "\n",
    "In this example, there is a very simple database containing only one node with a pulse emission of CH4 without any extra temporal distributions."
   ]
  },
  {
   "cell_type": "code",
   "execution_count": 17,
   "id": "5d3622ff",
   "metadata": {},
   "outputs": [
    {
     "name": "stderr",
     "output_type": "stream",
     "text": [
      "100%|██████████| 3/3 [00:00<00:00, 19753.39it/s]\n"
     ]
    },
    {
     "name": "stdout",
     "output_type": "stream",
     "text": [
      "Vacuuming database \n",
      "Not able to determine geocollections for all datasets. This database is not ready for regionalization.\n"
     ]
    },
    {
     "name": "stderr",
     "output_type": "stream",
     "text": [
      "100%|██████████| 1/1 [00:00<00:00, 7869.24it/s]"
     ]
    },
    {
     "name": "stdout",
     "output_type": "stream",
     "text": [
      "Vacuuming database \n"
     ]
    },
    {
     "name": "stderr",
     "output_type": "stream",
     "text": [
      "\n"
     ]
    }
   ],
   "source": [
    "from example_databases import *\n",
    "db_dynamic_cf_test()"
   ]
  },
  {
   "cell_type": "code",
   "execution_count": 18,
   "id": "8d9405d9",
   "metadata": {},
   "outputs": [],
   "source": [
    "demand = {('test', 'A'): 1}\n",
    "gwp = ('GWP', 'example')"
   ]
  },
  {
   "cell_type": "code",
   "execution_count": 19,
   "id": "e6d93104",
   "metadata": {},
   "outputs": [],
   "source": [
    "from timex_lca import TimexLCA"
   ]
  },
  {
   "cell_type": "code",
   "execution_count": 20,
   "id": "71bba776",
   "metadata": {},
   "outputs": [
    {
     "name": "stdout",
     "output_type": "stream",
     "text": [
      "Calculation count: 0\n"
     ]
    },
    {
     "name": "stderr",
     "output_type": "stream",
     "text": [
      "/Users/timodiepers/Documents/Coding/timex/timex_lca/timex_lca.py:75: UserWarning: No database_date_dict provided. Treating the databases containing the functional unit as dynamic. No remapping to time explicit databases will be done.\n",
      "  warnings.warn(\n",
      "/Users/timodiepers/Documents/Coding/timex/timex_lca/timex_lca.py:86: UserWarning: No edge filter function provided. Skipping all edges within background databases.\n",
      "  warnings.warn(\n"
     ]
    }
   ],
   "source": [
    "mlca = TimexLCA(demand, gwp)"
   ]
  },
  {
   "cell_type": "code",
   "execution_count": 21,
   "id": "c40754e8",
   "metadata": {},
   "outputs": [
    {
     "name": "stderr",
     "output_type": "stream",
     "text": [
      "/Users/timodiepers/Documents/Coding/timex/timex_lca/timeline_builder.py:205: Warning: No temporal databases provided.\n",
      "  warnings.warn(\n"
     ]
    },
    {
     "data": {
      "text/html": [
       "<div>\n",
       "<style scoped>\n",
       "    .dataframe tbody tr th:only-of-type {\n",
       "        vertical-align: middle;\n",
       "    }\n",
       "\n",
       "    .dataframe tbody tr th {\n",
       "        vertical-align: top;\n",
       "    }\n",
       "\n",
       "    .dataframe thead th {\n",
       "        text-align: right;\n",
       "    }\n",
       "</style>\n",
       "<table border=\"1\" class=\"dataframe\">\n",
       "  <thead>\n",
       "    <tr style=\"text-align: right;\">\n",
       "      <th></th>\n",
       "      <th>date_producer</th>\n",
       "      <th>producer_name</th>\n",
       "      <th>date_consumer</th>\n",
       "      <th>consumer_name</th>\n",
       "      <th>amount</th>\n",
       "      <th>interpolation_weights</th>\n",
       "    </tr>\n",
       "  </thead>\n",
       "  <tbody>\n",
       "    <tr>\n",
       "      <th>0</th>\n",
       "      <td>2024-01-01</td>\n",
       "      <td>A</td>\n",
       "      <td>2024-01-01</td>\n",
       "      <td>-1</td>\n",
       "      <td>1.0</td>\n",
       "      <td>None</td>\n",
       "    </tr>\n",
       "  </tbody>\n",
       "</table>\n",
       "</div>"
      ],
      "text/plain": [
       "  date_producer producer_name date_consumer consumer_name amount  \\\n",
       "0    2024-01-01             A    2024-01-01            -1    1.0   \n",
       "\n",
       "  interpolation_weights  \n",
       "0                  None  "
      ]
     },
     "execution_count": 21,
     "metadata": {},
     "output_type": "execute_result"
    }
   ],
   "source": [
    "mlca.build_timeline()"
   ]
  },
  {
   "cell_type": "code",
   "execution_count": 22,
   "id": "1c833eff",
   "metadata": {},
   "outputs": [],
   "source": [
    "mlca.build_datapackage()"
   ]
  },
  {
   "cell_type": "code",
   "execution_count": 23,
   "id": "d0f38d8e",
   "metadata": {},
   "outputs": [],
   "source": [
    "mlca.lci()"
   ]
  },
  {
   "cell_type": "code",
   "execution_count": 24,
   "id": "b4ed53cf",
   "metadata": {},
   "outputs": [],
   "source": [
    "mlca.lcia()"
   ]
  },
  {
   "cell_type": "code",
   "execution_count": 25,
   "id": "4a51cd8a",
   "metadata": {},
   "outputs": [
    {
     "name": "stdout",
     "output_type": "stream",
     "text": [
      "New MEDUSA LCA Score: 28.40999984741211\n"
     ]
    }
   ],
   "source": [
    "print('New MEDUSA LCA Score:', mlca.score)"
   ]
  },
  {
   "cell_type": "markdown",
   "id": "8729dc9f",
   "metadata": {},
   "source": [
    "`timex` allows to calculate radiative forcing [W/m2] and GWP [kg CO2eq] over fexible time horizons (TH). Default TH is 100 years.\n",
    "\n",
    "The TH of analysis can be flexible (fixed_TH == False), which calculates the warming for the duration of TH from the timing each each emission or it can be fixed (fixed_TH), which harmonizes the duration of impact calculation to duration of TH starting from the functional unit. This means that emissions occuring later than the functional unit are counted for a shorter time (less impact) and emission occuring earlier are counted for a longer time (more impact). See more information in Levasseur 2010."
   ]
  },
  {
   "cell_type": "markdown",
   "id": "2fc8b1f0",
   "metadata": {},
   "source": [
    "Calculate dynamic emissions for radiative forcing, flexible TH and 100 years TH (default)"
   ]
  },
  {
   "cell_type": "code",
   "execution_count": 26,
   "id": "246683b4",
   "metadata": {},
   "outputs": [
    {
     "name": "stderr",
     "output_type": "stream",
     "text": [
      "/Users/timodiepers/Documents/Coding/timex/timex_lca/dynamic_characterization.py:55: UserWarning: No characterization functions provided. Using default functions for CO2, CH4, N2O, CO.\n",
      "  warnings.warn(\n",
      "/Users/timodiepers/Documents/Coding/timex/timex_lca/dynamic_characterization.py:122: UserWarning: If there is no dynamic characterization function for a flow, the flow will be ingored.\n",
      "  warnings.warn(\n"
     ]
    },
    {
     "data": {
      "text/html": [
       "<div>\n",
       "<style scoped>\n",
       "    .dataframe tbody tr th:only-of-type {\n",
       "        vertical-align: middle;\n",
       "    }\n",
       "\n",
       "    .dataframe tbody tr th {\n",
       "        vertical-align: top;\n",
       "    }\n",
       "\n",
       "    .dataframe thead th {\n",
       "        text-align: right;\n",
       "    }\n",
       "</style>\n",
       "<table border=\"1\" class=\"dataframe\">\n",
       "  <thead>\n",
       "    <tr style=\"text-align: right;\">\n",
       "      <th></th>\n",
       "      <th>date</th>\n",
       "      <th>amount</th>\n",
       "      <th>flow</th>\n",
       "      <th>flow_name</th>\n",
       "      <th>activity</th>\n",
       "      <th>activity_name</th>\n",
       "      <th>amount_sum</th>\n",
       "    </tr>\n",
       "  </thead>\n",
       "  <tbody>\n",
       "    <tr>\n",
       "      <th>0</th>\n",
       "      <td>2024-01-01 00:00:00</td>\n",
       "      <td>0.000000e+00</td>\n",
       "      <td>2</td>\n",
       "      <td>methane</td>\n",
       "      <td>4</td>\n",
       "      <td>(test, A)</td>\n",
       "      <td>0.000000e+00</td>\n",
       "    </tr>\n",
       "    <tr>\n",
       "      <th>1</th>\n",
       "      <td>2024-12-31 05:49:12</td>\n",
       "      <td>1.922234e-13</td>\n",
       "      <td>2</td>\n",
       "      <td>methane</td>\n",
       "      <td>4</td>\n",
       "      <td>(test, A)</td>\n",
       "      <td>1.922234e-13</td>\n",
       "    </tr>\n",
       "    <tr>\n",
       "      <th>2</th>\n",
       "      <td>2025-12-31 11:38:24</td>\n",
       "      <td>1.766044e-13</td>\n",
       "      <td>2</td>\n",
       "      <td>methane</td>\n",
       "      <td>4</td>\n",
       "      <td>(test, A)</td>\n",
       "      <td>3.688278e-13</td>\n",
       "    </tr>\n",
       "    <tr>\n",
       "      <th>3</th>\n",
       "      <td>2026-12-31 17:27:36</td>\n",
       "      <td>1.622546e-13</td>\n",
       "      <td>2</td>\n",
       "      <td>methane</td>\n",
       "      <td>4</td>\n",
       "      <td>(test, A)</td>\n",
       "      <td>5.310824e-13</td>\n",
       "    </tr>\n",
       "    <tr>\n",
       "      <th>4</th>\n",
       "      <td>2027-12-31 23:16:48</td>\n",
       "      <td>1.490707e-13</td>\n",
       "      <td>2</td>\n",
       "      <td>methane</td>\n",
       "      <td>4</td>\n",
       "      <td>(test, A)</td>\n",
       "      <td>6.801531e-13</td>\n",
       "    </tr>\n",
       "    <tr>\n",
       "      <th>...</th>\n",
       "      <td>...</td>\n",
       "      <td>...</td>\n",
       "      <td>...</td>\n",
       "      <td>...</td>\n",
       "      <td>...</td>\n",
       "      <td>...</td>\n",
       "      <td>...</td>\n",
       "    </tr>\n",
       "    <tr>\n",
       "      <th>95</th>\n",
       "      <td>2119-01-01 00:54:00</td>\n",
       "      <td>6.670712e-17</td>\n",
       "      <td>2</td>\n",
       "      <td>methane</td>\n",
       "      <td>4</td>\n",
       "      <td>(test, A)</td>\n",
       "      <td>2.364951e-12</td>\n",
       "    </tr>\n",
       "    <tr>\n",
       "      <th>96</th>\n",
       "      <td>2120-01-01 06:43:12</td>\n",
       "      <td>6.128689e-17</td>\n",
       "      <td>2</td>\n",
       "      <td>methane</td>\n",
       "      <td>4</td>\n",
       "      <td>(test, A)</td>\n",
       "      <td>2.365012e-12</td>\n",
       "    </tr>\n",
       "    <tr>\n",
       "      <th>97</th>\n",
       "      <td>2120-12-31 12:32:24</td>\n",
       "      <td>5.630707e-17</td>\n",
       "      <td>2</td>\n",
       "      <td>methane</td>\n",
       "      <td>4</td>\n",
       "      <td>(test, A)</td>\n",
       "      <td>2.365068e-12</td>\n",
       "    </tr>\n",
       "    <tr>\n",
       "      <th>98</th>\n",
       "      <td>2121-12-31 18:21:36</td>\n",
       "      <td>5.173189e-17</td>\n",
       "      <td>2</td>\n",
       "      <td>methane</td>\n",
       "      <td>4</td>\n",
       "      <td>(test, A)</td>\n",
       "      <td>2.365120e-12</td>\n",
       "    </tr>\n",
       "    <tr>\n",
       "      <th>99</th>\n",
       "      <td>2123-01-01 00:10:48</td>\n",
       "      <td>4.752846e-17</td>\n",
       "      <td>2</td>\n",
       "      <td>methane</td>\n",
       "      <td>4</td>\n",
       "      <td>(test, A)</td>\n",
       "      <td>2.365167e-12</td>\n",
       "    </tr>\n",
       "  </tbody>\n",
       "</table>\n",
       "<p>100 rows × 7 columns</p>\n",
       "</div>"
      ],
      "text/plain": [
       "                  date        amount  flow flow_name  activity activity_name  \\\n",
       "0  2024-01-01 00:00:00  0.000000e+00     2   methane         4     (test, A)   \n",
       "1  2024-12-31 05:49:12  1.922234e-13     2   methane         4     (test, A)   \n",
       "2  2025-12-31 11:38:24  1.766044e-13     2   methane         4     (test, A)   \n",
       "3  2026-12-31 17:27:36  1.622546e-13     2   methane         4     (test, A)   \n",
       "4  2027-12-31 23:16:48  1.490707e-13     2   methane         4     (test, A)   \n",
       "..                 ...           ...   ...       ...       ...           ...   \n",
       "95 2119-01-01 00:54:00  6.670712e-17     2   methane         4     (test, A)   \n",
       "96 2120-01-01 06:43:12  6.128689e-17     2   methane         4     (test, A)   \n",
       "97 2120-12-31 12:32:24  5.630707e-17     2   methane         4     (test, A)   \n",
       "98 2121-12-31 18:21:36  5.173189e-17     2   methane         4     (test, A)   \n",
       "99 2123-01-01 00:10:48  4.752846e-17     2   methane         4     (test, A)   \n",
       "\n",
       "      amount_sum  \n",
       "0   0.000000e+00  \n",
       "1   1.922234e-13  \n",
       "2   3.688278e-13  \n",
       "3   5.310824e-13  \n",
       "4   6.801531e-13  \n",
       "..           ...  \n",
       "95  2.364951e-12  \n",
       "96  2.365012e-12  \n",
       "97  2.365068e-12  \n",
       "98  2.365120e-12  \n",
       "99  2.365167e-12  \n",
       "\n",
       "[100 rows x 7 columns]"
      ]
     },
     "execution_count": 26,
     "metadata": {},
     "output_type": "execute_result"
    }
   ],
   "source": [
    "mlca.characterize_dynamic_inventory(type=\"radiative_forcing\", fixed_TH = False)"
   ]
  },
  {
   "cell_type": "code",
   "execution_count": 27,
   "id": "5868fb38",
   "metadata": {},
   "outputs": [
    {
     "name": "stderr",
     "output_type": "stream",
     "text": [
      "/Users/timodiepers/anaconda3/envs/medusa/lib/python3.11/site-packages/seaborn/_oldcore.py:1498: FutureWarning: is_categorical_dtype is deprecated and will be removed in a future version. Use isinstance(dtype, CategoricalDtype) instead\n",
      "  if pd.api.types.is_categorical_dtype(vector):\n",
      "/Users/timodiepers/anaconda3/envs/medusa/lib/python3.11/site-packages/seaborn/_oldcore.py:1498: FutureWarning: is_categorical_dtype is deprecated and will be removed in a future version. Use isinstance(dtype, CategoricalDtype) instead\n",
      "  if pd.api.types.is_categorical_dtype(vector):\n",
      "/Users/timodiepers/anaconda3/envs/medusa/lib/python3.11/site-packages/seaborn/_oldcore.py:1498: FutureWarning: is_categorical_dtype is deprecated and will be removed in a future version. Use isinstance(dtype, CategoricalDtype) instead\n",
      "  if pd.api.types.is_categorical_dtype(vector):\n",
      "/Users/timodiepers/anaconda3/envs/medusa/lib/python3.11/site-packages/seaborn/_oldcore.py:1498: FutureWarning: is_categorical_dtype is deprecated and will be removed in a future version. Use isinstance(dtype, CategoricalDtype) instead\n",
      "  if pd.api.types.is_categorical_dtype(vector):\n",
      "/Users/timodiepers/anaconda3/envs/medusa/lib/python3.11/site-packages/seaborn/_oldcore.py:1498: FutureWarning: is_categorical_dtype is deprecated and will be removed in a future version. Use isinstance(dtype, CategoricalDtype) instead\n",
      "  if pd.api.types.is_categorical_dtype(vector):\n"
     ]
    },
    {
     "data": {
      "image/png": "[encoded data removed]",
      "text/plain": [
       "<Figure size 1400x600 with 1 Axes>"
      ]
     },
     "metadata": {},
     "output_type": "display_data"
    }
   ],
   "source": [
    "mlca.plot_dynamic_characterized_inventory()\n"
   ]
  },
  {
   "cell_type": "code",
   "execution_count": 28,
   "id": "40c30c15",
   "metadata": {},
   "outputs": [
    {
     "name": "stdout",
     "output_type": "stream",
     "text": [
      "characterized dynamic score: 2.365167366927053e-12 [radiative_forcing (100 year)]\n"
     ]
    }
   ],
   "source": [
    "print(f\"characterized dynamic score: {mlca.characterized_dynamic_score} [{mlca.type_of_method} ({mlca.TH} {mlca.temporal_grouping})]\")"
   ]
  },
  {
   "cell_type": "markdown",
   "id": "273acdc1",
   "metadata": {},
   "source": [
    "We can also calculate dynamic emissions for GWP, flexible TH and 100 years TH (default)"
   ]
  },
  {
   "cell_type": "code",
   "execution_count": 29,
   "id": "d66dd743",
   "metadata": {},
   "outputs": [
    {
     "name": "stderr",
     "output_type": "stream",
     "text": [
      "/Users/timodiepers/Documents/Coding/timex/timex_lca/dynamic_characterization.py:55: UserWarning: No characterization functions provided. Using default functions for CO2, CH4, N2O, CO.\n",
      "  warnings.warn(\n",
      "/Users/timodiepers/Documents/Coding/timex/timex_lca/dynamic_characterization.py:122: UserWarning: If there is no dynamic characterization function for a flow, the flow will be ingored.\n",
      "  warnings.warn(\n",
      "/Users/timodiepers/Documents/Coding/timex/timex_lca/dynamic_characterization.py:186: UserWarning: Using timex' default co2 characterization function for GWP reference.\n",
      "  warnings.warn(\n",
      "/Users/timodiepers/anaconda3/envs/medusa/lib/python3.11/site-packages/seaborn/_oldcore.py:1498: FutureWarning: is_categorical_dtype is deprecated and will be removed in a future version. Use isinstance(dtype, CategoricalDtype) instead\n",
      "  if pd.api.types.is_categorical_dtype(vector):\n",
      "/Users/timodiepers/anaconda3/envs/medusa/lib/python3.11/site-packages/seaborn/_oldcore.py:1498: FutureWarning: is_categorical_dtype is deprecated and will be removed in a future version. Use isinstance(dtype, CategoricalDtype) instead\n",
      "  if pd.api.types.is_categorical_dtype(vector):\n",
      "/Users/timodiepers/anaconda3/envs/medusa/lib/python3.11/site-packages/seaborn/_oldcore.py:1498: FutureWarning: is_categorical_dtype is deprecated and will be removed in a future version. Use isinstance(dtype, CategoricalDtype) instead\n",
      "  if pd.api.types.is_categorical_dtype(vector):\n",
      "/Users/timodiepers/anaconda3/envs/medusa/lib/python3.11/site-packages/seaborn/_oldcore.py:1498: FutureWarning: is_categorical_dtype is deprecated and will be removed in a future version. Use isinstance(dtype, CategoricalDtype) instead\n",
      "  if pd.api.types.is_categorical_dtype(vector):\n",
      "/Users/timodiepers/anaconda3/envs/medusa/lib/python3.11/site-packages/seaborn/_oldcore.py:1498: FutureWarning: is_categorical_dtype is deprecated and will be removed in a future version. Use isinstance(dtype, CategoricalDtype) instead\n",
      "  if pd.api.types.is_categorical_dtype(vector):\n"
     ]
    },
    {
     "data": {
      "image/png": "[encoded data removed]",
      "text/plain": [
       "<Figure size 1400x600 with 1 Axes>"
      ]
     },
     "metadata": {},
     "output_type": "display_data"
    },
    {
     "name": "stdout",
     "output_type": "stream",
     "text": [
      "characterized dynamic score: 26.705808501447027 [GWP (100)]\n"
     ]
    }
   ],
   "source": [
    "mlca.characterize_dynamic_inventory(type=\"GWP\", fixed_TH = False, TH=100)\n",
    "mlca.plot_dynamic_characterized_inventory()\n",
    "print(f\"characterized dynamic score: {mlca.characterized_dynamic_score} [{mlca.type_of_method} ({mlca.TH})]\")"
   ]
  },
  {
   "cell_type": "code",
   "execution_count": 30,
   "id": "635d6a0f",
   "metadata": {},
   "outputs": [
    {
     "data": {
      "text/plain": [
       "26.705808501447027"
      ]
     },
     "execution_count": 30,
     "metadata": {},
     "output_type": "execute_result"
    }
   ],
   "source": [
    "mlca.characterized_dynamic_score"
   ]
  },
  {
   "cell_type": "code",
   "execution_count": null,
   "id": "50bc0ac8",
   "metadata": {},
   "outputs": [],
   "source": []
  }
 ],
 "metadata": {
  "kernelspec": {
   "display_name": "Python 3 (ipykernel)",
   "language": "python",
   "name": "python3"
  },
  "language_info": {
   "codemirror_mode": {
    "name": "ipython",
    "version": 3
   },
   "file_extension": ".py",
   "mimetype": "text/x-python",
   "name": "python",
   "nbconvert_exporter": "python",
   "pygments_lexer": "ipython3",
   "version": "3.11.6"
  }
 },
 "nbformat": 4,
 "nbformat_minor": 5
}
