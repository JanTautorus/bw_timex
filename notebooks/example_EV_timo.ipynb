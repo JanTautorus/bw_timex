{
 "cells": [
  {
   "cell_type": "code",
   "execution_count": null,
   "metadata": {},
   "outputs": [],
   "source": [
    "# import bw2io as bi"
   ]
  },
  {
   "cell_type": "code",
   "execution_count": null,
   "metadata": {},
   "outputs": [],
   "source": [
    "# bi.restore_project_directory('/Users/timodiepers/Documents/Coding/brightway2-project-bw25_premise_background_v2-backup.26-March-2024-01-40PM.tar.gz', overwrite_existing=True, project_name='bw25_premise')"
   ]
  },
  {
   "cell_type": "code",
   "execution_count": null,
   "metadata": {},
   "outputs": [],
   "source": [
    "import bw2data as bd"
   ]
  },
  {
   "cell_type": "code",
   "execution_count": null,
   "metadata": {},
   "outputs": [],
   "source": [
    "bd.projects.set_current('bw25_premise')"
   ]
  },
  {
   "cell_type": "code",
   "execution_count": null,
   "metadata": {},
   "outputs": [],
   "source": [
    "db_2020 = bd.Database(\"db_2020\")\n",
    "db_2030 = bd.Database(\"db_2030\")\n",
    "db_2040 = bd.Database(\"db_2040\")"
   ]
  },
  {
   "cell_type": "code",
   "execution_count": null,
   "metadata": {},
   "outputs": [],
   "source": [
    "del bd.databases['foreground']"
   ]
  },
  {
   "cell_type": "code",
   "execution_count": null,
   "metadata": {},
   "outputs": [],
   "source": [
    "ev_background = [x for x in db_2020 if (x['name'] == 'transport, passenger car, electric')][0]\n",
    "ev_background"
   ]
  },
  {
   "cell_type": "code",
   "execution_count": null,
   "metadata": {},
   "outputs": [],
   "source": [
    "[e for e in ev_background.exchanges()]"
   ]
  },
  {
   "cell_type": "code",
   "execution_count": null,
   "metadata": {},
   "outputs": [],
   "source": [
    "foreground = bd.Database(\"foreground\")\n",
    "foreground.write({})"
   ]
  },
  {
   "cell_type": "code",
   "execution_count": null,
   "metadata": {},
   "outputs": [],
   "source": [
    "ev = ev_background.copy(name=\"copy of transport, passenger car, electric\")"
   ]
  },
  {
   "cell_type": "code",
   "execution_count": null,
   "metadata": {},
   "outputs": [],
   "source": [
    "ev['database'] = 'foreground'"
   ]
  },
  {
   "cell_type": "code",
   "execution_count": null,
   "metadata": {},
   "outputs": [],
   "source": [
    "ev.save()"
   ]
  },
  {
   "cell_type": "code",
   "execution_count": null,
   "metadata": {},
   "outputs": [],
   "source": [
    "[e for e in ev.exchanges()]"
   ]
  },
  {
   "cell_type": "code",
   "execution_count": null,
   "metadata": {},
   "outputs": [],
   "source": [
    "from bw_temporalis import TemporalDistribution\n",
    "import numpy as np\n",
    "\n",
    "# defining Temporal Distributions of system\n",
    "td_production = TemporalDistribution(\n",
    "            date=np.array([-1], dtype='timedelta64[Y]'), #2023\n",
    "            amount=np.array([1]))\n",
    "\n",
    "td_use_phase = TemporalDistribution( #to be further refined based on use pattern\n",
    "                    date=np.array([1, 6, 11, 16], dtype='timedelta64[Y]'), #2025, 2030, 2035, 2040\n",
    "                    amount=np.array([0.25, 0.25, 0.25, 0.25]))\n",
    "\n",
    "td_eol = TemporalDistribution(\n",
    "            date=np.array([21], dtype='timedelta64[Y]'), #2045\n",
    "            amount=np.array([1]))\n",
    "\n",
    "td_eol_from_production_time = TemporalDistribution(\n",
    "            date=np.array([22], dtype='timedelta64[Y]'), #2045, counting from 2023\n",
    "            amount=np.array([1]))"
   ]
  },
  {
   "cell_type": "code",
   "execution_count": null,
   "metadata": {},
   "outputs": [],
   "source": [
    "#add TD to electricity and car production\n",
    "for exc in ev.exchanges():\n",
    "    if \"market for battery, Li-ion\"in exc.input[\"name\"]: #battery production\n",
    "        exc[\"temporal_distribution\"]= td_production\n",
    "        exc.save()\n",
    "        print(\"added TD to \", {exc.input[\"name\"]})\n",
    "\n",
    "    elif \"market for passenger car, electric, without battery\"in exc.input[\"name\"]: # foreground car production\n",
    "        exc[\"temporal_distribution\"]= td_production\n",
    "        exc.save()\n",
    "        print(\"added TD to \", {exc.input[\"name\"]})\n",
    "\n",
    "    elif \"market group for electricity, low voltage\" in exc.input[\"name\"]: #electricity while driving\n",
    "        exc[\"temporal_distribution\"]= td_use_phase\n",
    "        exc.save()\n",
    "        print(\"added TD to \", {exc.input[\"name\"]})\n",
    "\n",
    "    elif \"market for used Li-ion battery\" in exc.input[\"name\"]:   #battery recycling\n",
    "        exc[\"temporal_distribution\"]= td_eol\n",
    "        exc.save()\n",
    "        print(\"added TD to \", {exc.input[\"name\"]})\n",
    "\n",
    "    elif \"wear emissions, passenger car\" in exc.input[\"name\"]: #brake, road and tyre wear while driving\n",
    "        exc[\"temporal_distribution\"]= td_use_phase\n",
    "        exc.save()\n",
    "        print(\"added TD to \", {exc.input[\"name\"]})\n",
    "    \n",
    "    elif \"market for maintenance, passenger car\" in exc.input[\"name\"]: #car maintenance while driving\n",
    "        exc[\"temporal_distribution\"]= td_use_phase\n",
    "        exc.save()\n",
    "        print(\"added TD to \", {exc.input[\"name\"]})\n",
    "            \n",
    "    elif exc.input[\"name\"] == \"market for road\": # road usage while driving\n",
    "        exc[\"temporal_distribution\"]= td_use_phase\n",
    "        exc.save()\n",
    "        print(\"added TD to \", {exc.input[\"name\"]})\n",
    "    \n",
    "    elif exc.input[\"name\"] == exc.output[\"name\"]: #skip production exchange\n",
    "        continue\n",
    "\n",
    "    else:\n",
    "        print(\"no TD added to \", {exc.input[\"name\"]})\n",
    "\n",
    "    # car recycling is modelled at the level of car production, and TD is added there"
   ]
  },
  {
   "cell_type": "code",
   "execution_count": null,
   "metadata": {},
   "outputs": [],
   "source": [
    "method = ('IPCC 2021 no LT',\n",
    " 'climate change no LT',\n",
    " 'global warming potential (GWP100) no LT')"
   ]
  },
  {
   "cell_type": "code",
   "execution_count": null,
   "metadata": {},
   "outputs": [],
   "source": [
    "from datetime import datetime\n",
    "\n",
    "database_date_dict = {\n",
    "    \"db_2020\": datetime.strptime(\"2020\", \"%Y\"),\n",
    "    \"db_2030\": datetime.strptime(\"2030\", \"%Y\"),\n",
    "    \"db_2040\": datetime.strptime(\"2040\", \"%Y\"),\n",
    "    # \"cutoff39\": datetime.strptime(\"2020\", \"%Y\"), # all databases need to have a corresponding time\n",
    "    \"foreground\": \"dynamic\",  # flag databases that should be temporally distributed with \"dynamic\"\n",
    "}"
   ]
  },
  {
   "cell_type": "code",
   "execution_count": null,
   "metadata": {},
   "outputs": [],
   "source": [
    "from timex_lca import MedusaLCA\n",
    "mlca = MedusaLCA({ev.key: 1}, method, None, database_date_dict) #aborted after 100 min for max_calc = 5000\n"
   ]
  },
  {
   "cell_type": "code",
   "execution_count": null,
   "metadata": {},
   "outputs": [],
   "source": [
    "mlca.build_timeline()"
   ]
  },
  {
   "cell_type": "code",
   "execution_count": null,
   "metadata": {},
   "outputs": [],
   "source": [
    "mlca.build_datapackage()\n",
    "mlca.lci()\n",
    "mlca.lcia()"
   ]
  },
  {
   "cell_type": "code",
   "execution_count": null,
   "metadata": {},
   "outputs": [],
   "source": [
    "mlca.create_labelled_technosphere_dataframe()"
   ]
  },
  {
   "cell_type": "code",
   "execution_count": null,
   "metadata": {},
   "outputs": [],
   "source": [
    "\n",
    "mlca.create_labelled_dynamic_biosphere_dataframe()"
   ]
  },
  {
   "cell_type": "code",
   "execution_count": null,
   "metadata": {},
   "outputs": [],
   "source": [
    "co2_flows = [flow for flow in bd.Database('biosphere3') if 'Carbon dioxide' in flow['name'] and \"air\" in flow['categories']]\n",
    "co2_flows"
   ]
  },
  {
   "cell_type": "code",
   "execution_count": null,
   "metadata": {},
   "outputs": [],
   "source": [
    "co2_flows_codes = [flow.key[1] for flow in co2_flows]"
   ]
  },
  {
   "cell_type": "code",
   "execution_count": null,
   "metadata": {},
   "outputs": [],
   "source": [
    "co2_flows_codes"
   ]
  },
  {
   "cell_type": "code",
   "execution_count": null,
   "metadata": {},
   "outputs": [],
   "source": [
    "mlca.dynamic_inventory[\"d6235194-e4e6-4548-bfa3-ac095131aef4\"]"
   ]
  },
  {
   "cell_type": "code",
   "execution_count": null,
   "metadata": {},
   "outputs": [],
   "source": [
    "mlca.plot_dynamic_inventory(bio_flows=co2_flows_codes)"
   ]
  }
 ],
 "metadata": {
  "kernelspec": {
   "display_name": "medusa",
   "language": "python",
   "name": "python3"
  },
  "language_info": {
   "codemirror_mode": {
    "name": "ipython",
    "version": 3
   },
   "file_extension": ".py",
   "mimetype": "text/x-python",
   "name": "python",
   "nbconvert_exporter": "python",
   "pygments_lexer": "ipython3",
   "version": "3.11.6"
  }
 },
 "nbformat": 4,
 "nbformat_minor": 2
}
