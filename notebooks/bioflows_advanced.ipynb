{
 "cells": [
  {
   "cell_type": "markdown",
   "id": "bee706e3",
   "metadata": {},
   "source": [
    "# `MEDUSA`\n",
    "aka. Dynamic-Prospective LCA aka. Union(premise, temporalis)"
   ]
  },
  {
   "cell_type": "code",
   "execution_count": 1,
   "id": "d8cd7a3f",
   "metadata": {
    "tags": []
   },
   "outputs": [],
   "source": [
    "from bw_temporalis import easy_timedelta_distribution, TemporalDistribution, easy_datetime_distribution\n",
    "import sys\n",
    "import os\n",
    "sys.path.append(os.path.realpath('../'))\n",
    "from medusa.edge_extractor import *\n",
    "from medusa.matrix_modifier import MatrixModifier\n",
    "from medusa.medusa_lca import *\n",
    "from medusa.timeline_builder import TimelineBuilder\n",
    "import bw2data as bd\n",
    "import bw2calc as bc\n",
    "import numpy as np\n",
    "import pandas as pd"
   ]
  },
  {
   "cell_type": "code",
   "execution_count": 2,
   "id": "5d3622ff",
   "metadata": {},
   "outputs": [
    {
     "name": "stderr",
     "output_type": "stream",
     "text": [
      "100%|██████████| 2/2 [00:00<00:00, 5118.13it/s]\n"
     ]
    },
    {
     "name": "stdout",
     "output_type": "stream",
     "text": [
      "Vacuuming database \n",
      "Not able to determine geocollections for all datasets. This database is not ready for regionalization.\n"
     ]
    },
    {
     "name": "stderr",
     "output_type": "stream",
     "text": [
      "100%|██████████| 2/2 [00:00<00:00, 19553.86it/s]\n"
     ]
    },
    {
     "name": "stdout",
     "output_type": "stream",
     "text": [
      "Vacuuming database \n",
      "Not able to determine geocollections for all datasets. This database is not ready for regionalization.\n"
     ]
    },
    {
     "name": "stderr",
     "output_type": "stream",
     "text": [
      "100%|██████████| 2/2 [00:00<00:00, 5633.72it/s]\n"
     ]
    },
    {
     "name": "stdout",
     "output_type": "stream",
     "text": [
      "Vacuuming database \n",
      "Not able to determine geocollections for all datasets. This database is not ready for regionalization.\n"
     ]
    },
    {
     "name": "stderr",
     "output_type": "stream",
     "text": [
      "100%|██████████| 4/4 [00:00<00:00, 15033.35it/s]\n"
     ]
    },
    {
     "name": "stdout",
     "output_type": "stream",
     "text": [
      "Vacuuming database \n"
     ]
    }
   ],
   "source": [
    "from tests.databases import *\n",
    "db_abc_loopA_with_biosphere_advanced()"
   ]
  },
  {
   "cell_type": "code",
   "execution_count": 3,
   "id": "8d9405d9",
   "metadata": {},
   "outputs": [],
   "source": [
    "demand = {('foreground', 'A'): 1}\n",
    "gwp = ('GWP', 'example')"
   ]
  },
  {
   "cell_type": "markdown",
   "id": "31ced634",
   "metadata": {},
   "source": [
    "# Static LCA"
   ]
  },
  {
   "cell_type": "code",
   "execution_count": 4,
   "id": "cca6b8f2-12a3-43f9-8be2-c6a898268adf",
   "metadata": {
    "tags": []
   },
   "outputs": [
    {
     "name": "stdout",
     "output_type": "stream",
     "text": [
      "Static LCA score: 2657.2222266217445\n"
     ]
    }
   ],
   "source": [
    "slca = bc.LCA(demand, gwp)\n",
    "slca.lci()\n",
    "slca.lcia()\n",
    "print(f'Static LCA score: {slca.score}')"
   ]
  },
  {
   "cell_type": "markdown",
   "id": "b461bbb5",
   "metadata": {},
   "source": [
    "# `MEDUSA` LCA"
   ]
  },
  {
   "cell_type": "code",
   "execution_count": 5,
   "id": "31af46a8-ceee-4ccd-8964-fbc9698f43b3",
   "metadata": {},
   "outputs": [],
   "source": [
    "SKIPPABLE = [node.id for node in bd.Database('background_2020')] + [\n",
    "    node.id for node in bd.Database('background_2024')\n",
    "]\n",
    "\n",
    "def filter_function(database_id: int) -> bool:\n",
    "    return database_id in SKIPPABLE"
   ]
  },
  {
   "cell_type": "markdown",
   "id": "dead855e",
   "metadata": {},
   "source": [
    "Now we can do the graph traversal and create a timeline of edges:"
   ]
  },
  {
   "cell_type": "code",
   "execution_count": 6,
   "id": "7b5649e3",
   "metadata": {},
   "outputs": [],
   "source": [
    "import warnings\n",
    "warnings.filterwarnings(\"ignore\")\n",
    "\n",
    "database_date_dict = {\n",
    "            datetime.strptime(\"2008\", \"%Y\"): 'background_2008',\n",
    "            datetime.strptime(\"2024\", \"%Y\"): 'background_2024',\n",
    "        }"
   ]
  },
  {
   "cell_type": "code",
   "execution_count": 7,
   "id": "71bba776",
   "metadata": {},
   "outputs": [
    {
     "name": "stdout",
     "output_type": "stream",
     "text": [
      "Starting graph traversal\n"
     ]
    },
    {
     "name": "stdout",
     "output_type": "stream",
     "text": [
      "Calculation count: 34\n"
     ]
    }
   ],
   "source": [
    "mlca = MedusaLCA(slca, filter_function, database_date_dict)"
   ]
  },
  {
   "cell_type": "code",
   "execution_count": 8,
   "id": "c40754e8",
   "metadata": {},
   "outputs": [
    {
     "name": "stdout",
     "output_type": "stream",
     "text": [
      "All databases in database_date_dict exist as brightway project databases\n"
     ]
    },
    {
     "data": {
      "text/html": [
       "<div>\n",
       "<style scoped>\n",
       "    .dataframe tbody tr th:only-of-type {\n",
       "        vertical-align: middle;\n",
       "    }\n",
       "\n",
       "    .dataframe tbody tr th {\n",
       "        vertical-align: top;\n",
       "    }\n",
       "\n",
       "    .dataframe thead th {\n",
       "        text-align: right;\n",
       "    }\n",
       "</style>\n",
       "<table border=\"1\" class=\"dataframe\">\n",
       "  <thead>\n",
       "    <tr style=\"text-align: right;\">\n",
       "      <th></th>\n",
       "      <th>hash_producer</th>\n",
       "      <th>date_producer</th>\n",
       "      <th>producer</th>\n",
       "      <th>producer_name</th>\n",
       "      <th>hash_consumer</th>\n",
       "      <th>date_consumer</th>\n",
       "      <th>consumer</th>\n",
       "      <th>consumer_name</th>\n",
       "      <th>amount</th>\n",
       "      <th>interpolation_weights</th>\n",
       "    </tr>\n",
       "  </thead>\n",
       "  <tbody>\n",
       "    <tr>\n",
       "      <th>0</th>\n",
       "      <td>1997</td>\n",
       "      <td>1997-01-01</td>\n",
       "      <td>3</td>\n",
       "      <td>C</td>\n",
       "      <td>2002</td>\n",
       "      <td>2002-01-01</td>\n",
       "      <td>9</td>\n",
       "      <td>B</td>\n",
       "      <td>13.0</td>\n",
       "      <td>{'background_2008': 1}</td>\n",
       "    </tr>\n",
       "    <tr>\n",
       "      <th>1</th>\n",
       "      <td>1998</td>\n",
       "      <td>1998-01-01</td>\n",
       "      <td>3</td>\n",
       "      <td>C</td>\n",
       "      <td>2003</td>\n",
       "      <td>2003-01-01</td>\n",
       "      <td>9</td>\n",
       "      <td>B</td>\n",
       "      <td>13.0</td>\n",
       "      <td>{'background_2008': 1}</td>\n",
       "    </tr>\n",
       "    <tr>\n",
       "      <th>2</th>\n",
       "      <td>1999</td>\n",
       "      <td>1999-01-01</td>\n",
       "      <td>3</td>\n",
       "      <td>C</td>\n",
       "      <td>2004</td>\n",
       "      <td>2004-01-01</td>\n",
       "      <td>9</td>\n",
       "      <td>B</td>\n",
       "      <td>13.0</td>\n",
       "      <td>{'background_2008': 1}</td>\n",
       "    </tr>\n",
       "    <tr>\n",
       "      <th>3</th>\n",
       "      <td>2000</td>\n",
       "      <td>2000-01-01</td>\n",
       "      <td>9</td>\n",
       "      <td>B</td>\n",
       "      <td>2020</td>\n",
       "      <td>2020-01-01</td>\n",
       "      <td>10</td>\n",
       "      <td>A</td>\n",
       "      <td>3.6</td>\n",
       "      <td>{'background_2008': 1}</td>\n",
       "    </tr>\n",
       "    <tr>\n",
       "      <th>4</th>\n",
       "      <td>2001</td>\n",
       "      <td>2001-01-01</td>\n",
       "      <td>9</td>\n",
       "      <td>B</td>\n",
       "      <td>2021</td>\n",
       "      <td>2021-01-01</td>\n",
       "      <td>10</td>\n",
       "      <td>A</td>\n",
       "      <td>3.6</td>\n",
       "      <td>{'background_2008': 1}</td>\n",
       "    </tr>\n",
       "    <tr>\n",
       "      <th>...</th>\n",
       "      <td>...</td>\n",
       "      <td>...</td>\n",
       "      <td>...</td>\n",
       "      <td>...</td>\n",
       "      <td>...</td>\n",
       "      <td>...</td>\n",
       "      <td>...</td>\n",
       "      <td>...</td>\n",
       "      <td>...</td>\n",
       "      <td>...</td>\n",
       "    </tr>\n",
       "    <tr>\n",
       "      <th>69</th>\n",
       "      <td>2035</td>\n",
       "      <td>2035-01-01</td>\n",
       "      <td>9</td>\n",
       "      <td>B</td>\n",
       "      <td>2020</td>\n",
       "      <td>2020-01-01</td>\n",
       "      <td>10</td>\n",
       "      <td>A</td>\n",
       "      <td>0.4</td>\n",
       "      <td>{'background_2024': 1}</td>\n",
       "    </tr>\n",
       "    <tr>\n",
       "      <th>70</th>\n",
       "      <td>2036</td>\n",
       "      <td>2036-01-01</td>\n",
       "      <td>9</td>\n",
       "      <td>B</td>\n",
       "      <td>2021</td>\n",
       "      <td>2021-01-01</td>\n",
       "      <td>10</td>\n",
       "      <td>A</td>\n",
       "      <td>0.4</td>\n",
       "      <td>{'background_2024': 1}</td>\n",
       "    </tr>\n",
       "    <tr>\n",
       "      <th>71</th>\n",
       "      <td>2037</td>\n",
       "      <td>2037-01-01</td>\n",
       "      <td>9</td>\n",
       "      <td>B</td>\n",
       "      <td>2022</td>\n",
       "      <td>2022-01-01</td>\n",
       "      <td>10</td>\n",
       "      <td>A</td>\n",
       "      <td>0.4</td>\n",
       "      <td>{'background_2024': 1}</td>\n",
       "    </tr>\n",
       "    <tr>\n",
       "      <th>72</th>\n",
       "      <td>2038</td>\n",
       "      <td>2038-01-01</td>\n",
       "      <td>9</td>\n",
       "      <td>B</td>\n",
       "      <td>2023</td>\n",
       "      <td>2023-01-01</td>\n",
       "      <td>10</td>\n",
       "      <td>A</td>\n",
       "      <td>0.4</td>\n",
       "      <td>{'background_2024': 1}</td>\n",
       "    </tr>\n",
       "    <tr>\n",
       "      <th>73</th>\n",
       "      <td>2039</td>\n",
       "      <td>2039-01-01</td>\n",
       "      <td>9</td>\n",
       "      <td>B</td>\n",
       "      <td>2024</td>\n",
       "      <td>2024-01-01</td>\n",
       "      <td>10</td>\n",
       "      <td>A</td>\n",
       "      <td>0.4</td>\n",
       "      <td>{'background_2024': 1}</td>\n",
       "    </tr>\n",
       "  </tbody>\n",
       "</table>\n",
       "<p>74 rows × 10 columns</p>\n",
       "</div>"
      ],
      "text/plain": [
       "    hash_producer date_producer  producer producer_name  hash_consumer  \\\n",
       "0            1997    1997-01-01         3             C           2002   \n",
       "1            1998    1998-01-01         3             C           2003   \n",
       "2            1999    1999-01-01         3             C           2004   \n",
       "3            2000    2000-01-01         9             B           2020   \n",
       "4            2001    2001-01-01         9             B           2021   \n",
       "..            ...           ...       ...           ...            ...   \n",
       "69           2035    2035-01-01         9             B           2020   \n",
       "70           2036    2036-01-01         9             B           2021   \n",
       "71           2037    2037-01-01         9             B           2022   \n",
       "72           2038    2038-01-01         9             B           2023   \n",
       "73           2039    2039-01-01         9             B           2024   \n",
       "\n",
       "   date_consumer  consumer consumer_name amount   interpolation_weights  \n",
       "0     2002-01-01         9             B   13.0  {'background_2008': 1}  \n",
       "1     2003-01-01         9             B   13.0  {'background_2008': 1}  \n",
       "2     2004-01-01         9             B   13.0  {'background_2008': 1}  \n",
       "3     2020-01-01        10             A    3.6  {'background_2008': 1}  \n",
       "4     2021-01-01        10             A    3.6  {'background_2008': 1}  \n",
       "..           ...       ...           ...    ...                     ...  \n",
       "69    2020-01-01        10             A    0.4  {'background_2024': 1}  \n",
       "70    2021-01-01        10             A    0.4  {'background_2024': 1}  \n",
       "71    2022-01-01        10             A    0.4  {'background_2024': 1}  \n",
       "72    2023-01-01        10             A    0.4  {'background_2024': 1}  \n",
       "73    2024-01-01        10             A    0.4  {'background_2024': 1}  \n",
       "\n",
       "[74 rows x 10 columns]"
      ]
     },
     "execution_count": 8,
     "metadata": {},
     "output_type": "execute_result"
    }
   ],
   "source": [
    "mlca.build_timeline()"
   ]
  },
  {
   "cell_type": "code",
   "execution_count": 9,
   "id": "1c833eff",
   "metadata": {},
   "outputs": [],
   "source": [
    "mlca.build_datapackage()"
   ]
  },
  {
   "cell_type": "code",
   "execution_count": 10,
   "id": "d0f38d8e",
   "metadata": {},
   "outputs": [],
   "source": [
    "mlca.lci()"
   ]
  },
  {
   "cell_type": "code",
   "execution_count": 11,
   "id": "b4ed53cf",
   "metadata": {},
   "outputs": [],
   "source": [
    "mlca.lcia()"
   ]
  },
  {
   "cell_type": "code",
   "execution_count": 12,
   "id": "4a51cd8a",
   "metadata": {},
   "outputs": [
    {
     "name": "stdout",
     "output_type": "stream",
     "text": [
      "New MEDUSA LCA Score: 2653.3894588780245\n",
      "Old static LCA Score: 2657.2222266217445\n"
     ]
    }
   ],
   "source": [
    "print('New MEDUSA LCA Score:', mlca.score)\n",
    "print('Old static LCA Score:', slca.score)"
   ]
  },
  {
   "cell_type": "code",
   "execution_count": 13,
   "id": "0d954b57",
   "metadata": {},
   "outputs": [
    {
     "name": "stdout",
     "output_type": "stream",
     "text": [
      "B 2000 'methane' (None, None, None)\n",
      "B 2001 'methane' (None, None, None)\n",
      "B 2002 'methane' (None, None, None)\n",
      "B 2003 'methane' (None, None, None)\n",
      "B 2004 'methane' (None, None, None)\n",
      "B 2014 'methane' (None, None, None)\n",
      "B 2015 'methane' (None, None, None)\n",
      "B 2016 'methane' (None, None, None)\n",
      "B 2017 'methane' (None, None, None)\n",
      "A 2018 'carbon dioxide' (None, None, None)\n",
      "B 2018 'methane' (None, None, None)\n",
      "A 2019 'carbon dioxide' (None, None, None)\n",
      "B 2019 'methane' (None, None, None)\n",
      "A 2020 'carbon dioxide' (None, None, None)\n",
      "B 2020 'methane' (None, None, None)\n",
      "A 2021 'carbon dioxide' (None, None, None)\n",
      "B 2021 'methane' (None, None, None)\n",
      "A 2022 'carbon dioxide' (None, None, None)\n",
      "B 2022 'methane' (None, None, None)\n",
      "A 2023 'carbon dioxide' (None, None, None)\n",
      "A 2024 'carbon dioxide' (None, None, None)\n",
      "B 2035 'methane' (None, None, None)\n",
      "B 2036 'methane' (None, None, None)\n",
      "B 2037 'methane' (None, None, None)\n",
      "B 2038 'methane' (None, None, None)\n",
      "B 2039 'methane' (None, None, None)\n"
     ]
    }
   ],
   "source": [
    "mlca.build_dynamic_biosphere()"
   ]
  },
  {
   "cell_type": "code",
   "execution_count": null,
   "id": "cfda4036",
   "metadata": {},
   "outputs": [],
   "source": []
  }
 ],
 "metadata": {
  "kernelspec": {
   "display_name": "Python 3 (ipykernel)",
   "language": "python",
   "name": "python3"
  },
  "language_info": {
   "codemirror_mode": {
    "name": "ipython",
    "version": 3
   },
   "file_extension": ".py",
   "mimetype": "text/x-python",
   "name": "python",
   "nbconvert_exporter": "python",
   "pygments_lexer": "ipython3",
   "version": "3.10.13"
  }
 },
 "nbformat": 4,
 "nbformat_minor": 5
}
