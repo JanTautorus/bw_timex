{
 "cells": [
  {
   "cell_type": "code",
   "execution_count": 1,
   "metadata": {},
   "outputs": [],
   "source": [
    "# import bw2io as bi"
   ]
  },
  {
   "cell_type": "code",
   "execution_count": 2,
   "metadata": {},
   "outputs": [],
   "source": [
    "# bi.restore_project_directory('/Users/timodiepers/Documents/Coding/brightway2-project-bw25_premise_background_v2-backup.26-March-2024-01-40PM.tar.gz', overwrite_existing=True, project_name='bw25_premise')"
   ]
  },
  {
   "cell_type": "code",
   "execution_count": 3,
   "metadata": {},
   "outputs": [],
   "source": [
    "import bw2data as bd"
   ]
  },
  {
   "cell_type": "code",
   "execution_count": 4,
   "metadata": {},
   "outputs": [],
   "source": [
    "bd.projects.set_current('bw25_premise')"
   ]
  },
  {
   "cell_type": "code",
   "execution_count": 5,
   "metadata": {},
   "outputs": [
    {
     "data": {
      "text/plain": [
       "Databases dictionary with 6 object(s):\n",
       "\tbiosphere3\n",
       "\tcutoff39\n",
       "\tdb_2020\n",
       "\tdb_2030\n",
       "\tdb_2040\n",
       "\tforeground"
      ]
     },
     "execution_count": 5,
     "metadata": {},
     "output_type": "execute_result"
    }
   ],
   "source": [
    "bd.databases"
   ]
  },
  {
   "cell_type": "code",
   "execution_count": 6,
   "metadata": {},
   "outputs": [],
   "source": [
    "db_2020 = bd.Database(\"db_2020\")\n",
    "db_2030 = bd.Database(\"db_2030\")\n",
    "db_2040 = bd.Database(\"db_2040\")"
   ]
  },
  {
   "cell_type": "code",
   "execution_count": 7,
   "metadata": {},
   "outputs": [],
   "source": [
    "del bd.databases['foreground']"
   ]
  },
  {
   "cell_type": "code",
   "execution_count": 8,
   "metadata": {},
   "outputs": [
    {
     "data": {
      "text/plain": [
       "'transport, passenger car, electric' (kilometer, GLO, None)"
      ]
     },
     "execution_count": 8,
     "metadata": {},
     "output_type": "execute_result"
    }
   ],
   "source": [
    "ev_background = [x for x in db_2020 if (x['name'] == 'transport, passenger car, electric')][0]\n",
    "ev_background"
   ]
  },
  {
   "cell_type": "code",
   "execution_count": 9,
   "metadata": {},
   "outputs": [
    {
     "data": {
      "text/plain": [
       "[<bw2data.backends.iotable.proxies.ReadOnlyExchange at 0x1530bd810>,\n",
       " <bw2data.backends.iotable.proxies.ReadOnlyExchange at 0x1530bc150>,\n",
       " <bw2data.backends.iotable.proxies.ReadOnlyExchange at 0x1530d2b50>,\n",
       " <bw2data.backends.iotable.proxies.ReadOnlyExchange at 0x1530eb650>,\n",
       " <bw2data.backends.iotable.proxies.ReadOnlyExchange at 0x1530ea310>,\n",
       " <bw2data.backends.iotable.proxies.ReadOnlyExchange at 0x1530c8b10>,\n",
       " <bw2data.backends.iotable.proxies.ReadOnlyExchange at 0x1530c9590>,\n",
       " <bw2data.backends.iotable.proxies.ReadOnlyExchange at 0x1530f7790>,\n",
       " <bw2data.backends.iotable.proxies.ReadOnlyExchange at 0x151b9f2d0>,\n",
       " <bw2data.backends.iotable.proxies.ReadOnlyExchange at 0x153084fd0>]"
      ]
     },
     "execution_count": 9,
     "metadata": {},
     "output_type": "execute_result"
    }
   ],
   "source": [
    "[e for e in ev_background.exchanges()]"
   ]
  },
  {
   "cell_type": "code",
   "execution_count": 10,
   "metadata": {},
   "outputs": [],
   "source": [
    "foreground = bd.Database(\"foreground\")\n",
    "foreground.write({})"
   ]
  },
  {
   "cell_type": "code",
   "execution_count": 11,
   "metadata": {},
   "outputs": [],
   "source": [
    "ev = ev_background.copy(name=\"copy of transport, passenger car, electric\")"
   ]
  },
  {
   "cell_type": "code",
   "execution_count": 12,
   "metadata": {},
   "outputs": [
    {
     "name": "stdout",
     "output_type": "stream",
     "text": [
      "Successfully switch activity dataset to database `foreground`\n"
     ]
    }
   ],
   "source": [
    "ev['database'] = 'foreground'"
   ]
  },
  {
   "cell_type": "code",
   "execution_count": 13,
   "metadata": {},
   "outputs": [],
   "source": [
    "ev.save()"
   ]
  },
  {
   "cell_type": "code",
   "execution_count": 14,
   "metadata": {},
   "outputs": [
    {
     "data": {
      "text/plain": [
       "[Exchange: 1.0 kilometer 'copy of transport, passenger car, electric' (kilometer, GLO, None) to 'copy of transport, passenger car, electric' (kilometer, GLO, None)>,\n",
       " Exchange: -1.050395781021507e-06 kilogram 'market for brake wear emissions, passenger car' (kilogram, GLO, None) to 'copy of transport, passenger car, electric' (kilometer, GLO, None)>,\n",
       " Exchange: -1.155435347754974e-05 kilogram 'market for road wear emissions, passenger car' (kilogram, GLO, None) to 'copy of transport, passenger car, electric' (kilometer, GLO, None)>,\n",
       " Exchange: -0.0026199999265372753 kilogram 'market for used Li-ion battery' (kilogram, GLO, None) to 'copy of transport, passenger car, electric' (kilometer, GLO, None)>,\n",
       " Exchange: -6.756759830750525e-05 kilogram 'market for tyre wear emissions, passenger car' (kilogram, GLO, None) to 'copy of transport, passenger car, electric' (kilometer, GLO, None)>,\n",
       " Exchange: 0.00048747999244369566 meter-year 'market for road' (meter-year, GLO, None) to 'copy of transport, passenger car, electric' (kilometer, GLO, None)>,\n",
       " Exchange: 0.0026199999265372753 kilogram 'market for battery, Li-ion, LiMn2O4, rechargeable, prismatic' (kilogram, GLO, None) to 'copy of transport, passenger car, electric' (kilometer, GLO, None)>,\n",
       " Exchange: 6.666666649834951e-06 unit 'market for maintenance, passenger car, electric, without battery' (unit, GLO, None) to 'copy of transport, passenger car, electric' (kilometer, GLO, None)>,\n",
       " Exchange: 0.006121466867625713 kilogram 'market for passenger car, electric, without battery' (kilogram, GLO, None) to 'copy of transport, passenger car, electric' (kilometer, GLO, None)>,\n",
       " Exchange: 0.19900000095367432 kilowatt hour 'market group for electricity, low voltage' (kilowatt hour, World, None) to 'copy of transport, passenger car, electric' (kilometer, GLO, None)>]"
      ]
     },
     "execution_count": 14,
     "metadata": {},
     "output_type": "execute_result"
    }
   ],
   "source": [
    "[e for e in ev.exchanges()]"
   ]
  },
  {
   "cell_type": "code",
   "execution_count": 15,
   "metadata": {},
   "outputs": [],
   "source": [
    "from bw_temporalis import TemporalDistribution\n",
    "import numpy as np\n",
    "\n",
    "# defining Temporal Distributions of system\n",
    "td_production = TemporalDistribution(\n",
    "            date=np.array([-1], dtype='timedelta64[Y]'), #2023\n",
    "            amount=np.array([1]))\n",
    "\n",
    "td_use_phase = TemporalDistribution( #to be further refined based on use pattern\n",
    "                    date=np.array([1, 6, 11, 16], dtype='timedelta64[Y]'), #2025, 2030, 2035, 2040\n",
    "                    amount=np.array([0.25, 0.25, 0.25, 0.25]))\n",
    "\n",
    "td_eol = TemporalDistribution(\n",
    "            date=np.array([21], dtype='timedelta64[Y]'), #2045\n",
    "            amount=np.array([1]))\n",
    "\n",
    "td_eol_from_production_time = TemporalDistribution(\n",
    "            date=np.array([22], dtype='timedelta64[Y]'), #2045, counting from 2023\n",
    "            amount=np.array([1]))"
   ]
  },
  {
   "cell_type": "code",
   "execution_count": 16,
   "metadata": {},
   "outputs": [
    {
     "name": "stdout",
     "output_type": "stream",
     "text": [
      "added TD to  {'market for brake wear emissions, passenger car'}\n",
      "added TD to  {'market for road wear emissions, passenger car'}\n",
      "added TD to  {'market for used Li-ion battery'}\n",
      "added TD to  {'market for tyre wear emissions, passenger car'}\n",
      "added TD to  {'market for road'}\n",
      "added TD to  {'market for battery, Li-ion, LiMn2O4, rechargeable, prismatic'}\n",
      "added TD to  {'market for maintenance, passenger car, electric, without battery'}\n",
      "added TD to  {'market for passenger car, electric, without battery'}\n",
      "added TD to  {'market group for electricity, low voltage'}\n"
     ]
    }
   ],
   "source": [
    "#add TD to electricity and car production\n",
    "for exc in ev.exchanges():\n",
    "    if \"market for battery, Li-ion\"in exc.input[\"name\"]: #battery production\n",
    "        exc[\"temporal_distribution\"]= td_production\n",
    "        exc.save()\n",
    "        print(\"added TD to \", {exc.input[\"name\"]})\n",
    "\n",
    "    elif \"market for passenger car, electric, without battery\"in exc.input[\"name\"]: # foreground car production\n",
    "        exc[\"temporal_distribution\"]= td_production\n",
    "        exc.save()\n",
    "        print(\"added TD to \", {exc.input[\"name\"]})\n",
    "\n",
    "    elif \"market group for electricity, low voltage\" in exc.input[\"name\"]: #electricity while driving\n",
    "        exc[\"temporal_distribution\"]= td_use_phase\n",
    "        exc.save()\n",
    "        print(\"added TD to \", {exc.input[\"name\"]})\n",
    "\n",
    "    elif \"market for used Li-ion battery\" in exc.input[\"name\"]:   #battery recycling\n",
    "        exc[\"temporal_distribution\"]= td_eol\n",
    "        exc.save()\n",
    "        print(\"added TD to \", {exc.input[\"name\"]})\n",
    "\n",
    "    elif \"wear emissions, passenger car\" in exc.input[\"name\"]: #brake, road and tyre wear while driving\n",
    "        exc[\"temporal_distribution\"]= td_use_phase\n",
    "        exc.save()\n",
    "        print(\"added TD to \", {exc.input[\"name\"]})\n",
    "    \n",
    "    elif \"market for maintenance, passenger car\" in exc.input[\"name\"]: #car maintenance while driving\n",
    "        exc[\"temporal_distribution\"]= td_use_phase\n",
    "        exc.save()\n",
    "        print(\"added TD to \", {exc.input[\"name\"]})\n",
    "            \n",
    "    elif exc.input[\"name\"] == \"market for road\": # road usage while driving\n",
    "        exc[\"temporal_distribution\"]= td_use_phase\n",
    "        exc.save()\n",
    "        print(\"added TD to \", {exc.input[\"name\"]})\n",
    "    \n",
    "    elif exc.input[\"name\"] == exc.output[\"name\"]: #skip production exchange\n",
    "        continue\n",
    "\n",
    "    else:\n",
    "        print(\"no TD added to \", {exc.input[\"name\"]})\n",
    "\n",
    "    # car recycling is modelled at the level of car production, and TD is added there"
   ]
  },
  {
   "cell_type": "code",
   "execution_count": 17,
   "metadata": {},
   "outputs": [],
   "source": [
    "method = ('IPCC 2021 no LT',\n",
    " 'climate change no LT',\n",
    " 'global warming potential (GWP100) no LT')"
   ]
  },
  {
   "cell_type": "code",
   "execution_count": 18,
   "metadata": {},
   "outputs": [],
   "source": [
    "from datetime import datetime\n",
    "\n",
    "database_date_dict = {\n",
    "    \"db_2020\": datetime.strptime(\"2020\", \"%Y\"),\n",
    "    \"db_2030\": datetime.strptime(\"2030\", \"%Y\"),\n",
    "    \"db_2040\": datetime.strptime(\"2040\", \"%Y\"),\n",
    "    # \"cutoff39\": datetime.strptime(\"2020\", \"%Y\"), # all databases need to have a corresponding time\n",
    "    \"foreground\": \"dynamic\",  # flag databases that should be temporally distributed with \"dynamic\"\n",
    "}"
   ]
  },
  {
   "cell_type": "code",
   "execution_count": 19,
   "metadata": {},
   "outputs": [
    {
     "name": "stdout",
     "output_type": "stream",
     "text": [
      "Calculation count: 5\n"
     ]
    }
   ],
   "source": [
    "from timex_lca import TimexLCA\n",
    "tlca = TimexLCA({ev.key: 1}, method, None, database_date_dict) #aborted after 100 min for max_calc = 5000\n"
   ]
  },
  {
   "cell_type": "code",
   "execution_count": 20,
   "metadata": {},
   "outputs": [
    {
     "data": {
      "text/html": [
       "<div>\n",
       "<style scoped>\n",
       "    .dataframe tbody tr th:only-of-type {\n",
       "        vertical-align: middle;\n",
       "    }\n",
       "\n",
       "    .dataframe tbody tr th {\n",
       "        vertical-align: top;\n",
       "    }\n",
       "\n",
       "    .dataframe thead th {\n",
       "        text-align: right;\n",
       "    }\n",
       "</style>\n",
       "<table border=\"1\" class=\"dataframe\">\n",
       "  <thead>\n",
       "    <tr style=\"text-align: right;\">\n",
       "      <th></th>\n",
       "      <th>hash_producer</th>\n",
       "      <th>time_mapped_producer</th>\n",
       "      <th>date_producer</th>\n",
       "      <th>producer</th>\n",
       "      <th>producer_name</th>\n",
       "      <th>hash_consumer</th>\n",
       "      <th>time_mapped_consumer</th>\n",
       "      <th>date_consumer</th>\n",
       "      <th>consumer</th>\n",
       "      <th>consumer_name</th>\n",
       "      <th>amount</th>\n",
       "      <th>interpolation_weights</th>\n",
       "    </tr>\n",
       "  </thead>\n",
       "  <tbody>\n",
       "    <tr>\n",
       "      <th>0</th>\n",
       "      <td>2023</td>\n",
       "      <td>98281</td>\n",
       "      <td>2023-01-01</td>\n",
       "      <td>35045</td>\n",
       "      <td>market for battery, Li-ion, LiMn2O4, rechargea...</td>\n",
       "      <td>2024</td>\n",
       "      <td>98283</td>\n",
       "      <td>2024-01-01</td>\n",
       "      <td>98280</td>\n",
       "      <td>copy of transport, passenger car, electric</td>\n",
       "      <td>0.00262</td>\n",
       "      <td>{'db_2020': 0.6999726252395291, 'db_2030': 0.3...</td>\n",
       "    </tr>\n",
       "    <tr>\n",
       "      <th>1</th>\n",
       "      <td>2023</td>\n",
       "      <td>98282</td>\n",
       "      <td>2023-01-01</td>\n",
       "      <td>43696</td>\n",
       "      <td>market for passenger car, electric, without ba...</td>\n",
       "      <td>2024</td>\n",
       "      <td>98283</td>\n",
       "      <td>2024-01-01</td>\n",
       "      <td>98280</td>\n",
       "      <td>copy of transport, passenger car, electric</td>\n",
       "      <td>0.006121</td>\n",
       "      <td>{'db_2020': 0.6999726252395291, 'db_2030': 0.3...</td>\n",
       "    </tr>\n",
       "    <tr>\n",
       "      <th>2</th>\n",
       "      <td>2024</td>\n",
       "      <td>98283</td>\n",
       "      <td>2024-01-01</td>\n",
       "      <td>98280</td>\n",
       "      <td>copy of transport, passenger car, electric</td>\n",
       "      <td>2024</td>\n",
       "      <td>-1</td>\n",
       "      <td>2024-01-01</td>\n",
       "      <td>-1</td>\n",
       "      <td>-1</td>\n",
       "      <td>1.0</td>\n",
       "      <td>{'db_2020': 0.6000547495209416, 'db_2030': 0.3...</td>\n",
       "    </tr>\n",
       "    <tr>\n",
       "      <th>3</th>\n",
       "      <td>2025</td>\n",
       "      <td>98284</td>\n",
       "      <td>2025-01-01</td>\n",
       "      <td>31847</td>\n",
       "      <td>market for road</td>\n",
       "      <td>2024</td>\n",
       "      <td>98283</td>\n",
       "      <td>2024-01-01</td>\n",
       "      <td>98280</td>\n",
       "      <td>copy of transport, passenger car, electric</td>\n",
       "      <td>0.000122</td>\n",
       "      <td>{'db_2020': 0.4998631261976457, 'db_2030': 0.5...</td>\n",
       "    </tr>\n",
       "    <tr>\n",
       "      <th>4</th>\n",
       "      <td>2025</td>\n",
       "      <td>98285</td>\n",
       "      <td>2025-01-01</td>\n",
       "      <td>40481</td>\n",
       "      <td>market for maintenance, passenger car, electri...</td>\n",
       "      <td>2024</td>\n",
       "      <td>98283</td>\n",
       "      <td>2024-01-01</td>\n",
       "      <td>98280</td>\n",
       "      <td>copy of transport, passenger car, electric</td>\n",
       "      <td>0.000002</td>\n",
       "      <td>{'db_2020': 0.4998631261976457, 'db_2030': 0.5...</td>\n",
       "    </tr>\n",
       "    <tr>\n",
       "      <th>5</th>\n",
       "      <td>2025</td>\n",
       "      <td>98286</td>\n",
       "      <td>2025-01-01</td>\n",
       "      <td>50069</td>\n",
       "      <td>market group for electricity, low voltage</td>\n",
       "      <td>2024</td>\n",
       "      <td>98283</td>\n",
       "      <td>2024-01-01</td>\n",
       "      <td>98280</td>\n",
       "      <td>copy of transport, passenger car, electric</td>\n",
       "      <td>0.04975</td>\n",
       "      <td>{'db_2020': 0.4998631261976457, 'db_2030': 0.5...</td>\n",
       "    </tr>\n",
       "    <tr>\n",
       "      <th>6</th>\n",
       "      <td>2030</td>\n",
       "      <td>98287</td>\n",
       "      <td>2030-01-01</td>\n",
       "      <td>31847</td>\n",
       "      <td>market for road</td>\n",
       "      <td>2024</td>\n",
       "      <td>98283</td>\n",
       "      <td>2024-01-01</td>\n",
       "      <td>98280</td>\n",
       "      <td>copy of transport, passenger car, electric</td>\n",
       "      <td>0.000122</td>\n",
       "      <td>{'db_2030': 1}</td>\n",
       "    </tr>\n",
       "    <tr>\n",
       "      <th>7</th>\n",
       "      <td>2030</td>\n",
       "      <td>98288</td>\n",
       "      <td>2030-01-01</td>\n",
       "      <td>40481</td>\n",
       "      <td>market for maintenance, passenger car, electri...</td>\n",
       "      <td>2024</td>\n",
       "      <td>98283</td>\n",
       "      <td>2024-01-01</td>\n",
       "      <td>98280</td>\n",
       "      <td>copy of transport, passenger car, electric</td>\n",
       "      <td>0.000002</td>\n",
       "      <td>{'db_2030': 1}</td>\n",
       "    </tr>\n",
       "    <tr>\n",
       "      <th>8</th>\n",
       "      <td>2030</td>\n",
       "      <td>98289</td>\n",
       "      <td>2030-01-01</td>\n",
       "      <td>50069</td>\n",
       "      <td>market group for electricity, low voltage</td>\n",
       "      <td>2024</td>\n",
       "      <td>98283</td>\n",
       "      <td>2024-01-01</td>\n",
       "      <td>98280</td>\n",
       "      <td>copy of transport, passenger car, electric</td>\n",
       "      <td>0.04975</td>\n",
       "      <td>{'db_2030': 1}</td>\n",
       "    </tr>\n",
       "    <tr>\n",
       "      <th>9</th>\n",
       "      <td>2035</td>\n",
       "      <td>98290</td>\n",
       "      <td>2035-01-01</td>\n",
       "      <td>31847</td>\n",
       "      <td>market for road</td>\n",
       "      <td>2024</td>\n",
       "      <td>98283</td>\n",
       "      <td>2024-01-01</td>\n",
       "      <td>98280</td>\n",
       "      <td>copy of transport, passenger car, electric</td>\n",
       "      <td>0.000122</td>\n",
       "      <td>{'db_2030': 0.5, 'db_2040': 0.5}</td>\n",
       "    </tr>\n",
       "    <tr>\n",
       "      <th>10</th>\n",
       "      <td>2035</td>\n",
       "      <td>98291</td>\n",
       "      <td>2035-01-01</td>\n",
       "      <td>40481</td>\n",
       "      <td>market for maintenance, passenger car, electri...</td>\n",
       "      <td>2024</td>\n",
       "      <td>98283</td>\n",
       "      <td>2024-01-01</td>\n",
       "      <td>98280</td>\n",
       "      <td>copy of transport, passenger car, electric</td>\n",
       "      <td>0.000002</td>\n",
       "      <td>{'db_2030': 0.5, 'db_2040': 0.5}</td>\n",
       "    </tr>\n",
       "    <tr>\n",
       "      <th>11</th>\n",
       "      <td>2035</td>\n",
       "      <td>98292</td>\n",
       "      <td>2035-01-01</td>\n",
       "      <td>50069</td>\n",
       "      <td>market group for electricity, low voltage</td>\n",
       "      <td>2024</td>\n",
       "      <td>98283</td>\n",
       "      <td>2024-01-01</td>\n",
       "      <td>98280</td>\n",
       "      <td>copy of transport, passenger car, electric</td>\n",
       "      <td>0.04975</td>\n",
       "      <td>{'db_2030': 0.5, 'db_2040': 0.5}</td>\n",
       "    </tr>\n",
       "    <tr>\n",
       "      <th>12</th>\n",
       "      <td>2040</td>\n",
       "      <td>98293</td>\n",
       "      <td>2040-01-01</td>\n",
       "      <td>31847</td>\n",
       "      <td>market for road</td>\n",
       "      <td>2024</td>\n",
       "      <td>98283</td>\n",
       "      <td>2024-01-01</td>\n",
       "      <td>98280</td>\n",
       "      <td>copy of transport, passenger car, electric</td>\n",
       "      <td>0.000122</td>\n",
       "      <td>{'db_2040': 1}</td>\n",
       "    </tr>\n",
       "    <tr>\n",
       "      <th>13</th>\n",
       "      <td>2040</td>\n",
       "      <td>98294</td>\n",
       "      <td>2040-01-01</td>\n",
       "      <td>40481</td>\n",
       "      <td>market for maintenance, passenger car, electri...</td>\n",
       "      <td>2024</td>\n",
       "      <td>98283</td>\n",
       "      <td>2024-01-01</td>\n",
       "      <td>98280</td>\n",
       "      <td>copy of transport, passenger car, electric</td>\n",
       "      <td>0.000002</td>\n",
       "      <td>{'db_2040': 1}</td>\n",
       "    </tr>\n",
       "    <tr>\n",
       "      <th>14</th>\n",
       "      <td>2040</td>\n",
       "      <td>98295</td>\n",
       "      <td>2040-01-01</td>\n",
       "      <td>50069</td>\n",
       "      <td>market group for electricity, low voltage</td>\n",
       "      <td>2024</td>\n",
       "      <td>98283</td>\n",
       "      <td>2024-01-01</td>\n",
       "      <td>98280</td>\n",
       "      <td>copy of transport, passenger car, electric</td>\n",
       "      <td>0.04975</td>\n",
       "      <td>{'db_2040': 1}</td>\n",
       "    </tr>\n",
       "  </tbody>\n",
       "</table>\n",
       "</div>"
      ],
      "text/plain": [
       "    hash_producer  time_mapped_producer date_producer  producer  \\\n",
       "0            2023                 98281    2023-01-01     35045   \n",
       "1            2023                 98282    2023-01-01     43696   \n",
       "2            2024                 98283    2024-01-01     98280   \n",
       "3            2025                 98284    2025-01-01     31847   \n",
       "4            2025                 98285    2025-01-01     40481   \n",
       "5            2025                 98286    2025-01-01     50069   \n",
       "6            2030                 98287    2030-01-01     31847   \n",
       "7            2030                 98288    2030-01-01     40481   \n",
       "8            2030                 98289    2030-01-01     50069   \n",
       "9            2035                 98290    2035-01-01     31847   \n",
       "10           2035                 98291    2035-01-01     40481   \n",
       "11           2035                 98292    2035-01-01     50069   \n",
       "12           2040                 98293    2040-01-01     31847   \n",
       "13           2040                 98294    2040-01-01     40481   \n",
       "14           2040                 98295    2040-01-01     50069   \n",
       "\n",
       "                                        producer_name  hash_consumer  \\\n",
       "0   market for battery, Li-ion, LiMn2O4, rechargea...           2024   \n",
       "1   market for passenger car, electric, without ba...           2024   \n",
       "2          copy of transport, passenger car, electric           2024   \n",
       "3                                     market for road           2024   \n",
       "4   market for maintenance, passenger car, electri...           2024   \n",
       "5           market group for electricity, low voltage           2024   \n",
       "6                                     market for road           2024   \n",
       "7   market for maintenance, passenger car, electri...           2024   \n",
       "8           market group for electricity, low voltage           2024   \n",
       "9                                     market for road           2024   \n",
       "10  market for maintenance, passenger car, electri...           2024   \n",
       "11          market group for electricity, low voltage           2024   \n",
       "12                                    market for road           2024   \n",
       "13  market for maintenance, passenger car, electri...           2024   \n",
       "14          market group for electricity, low voltage           2024   \n",
       "\n",
       "    time_mapped_consumer date_consumer  consumer  \\\n",
       "0                  98283    2024-01-01     98280   \n",
       "1                  98283    2024-01-01     98280   \n",
       "2                     -1    2024-01-01        -1   \n",
       "3                  98283    2024-01-01     98280   \n",
       "4                  98283    2024-01-01     98280   \n",
       "5                  98283    2024-01-01     98280   \n",
       "6                  98283    2024-01-01     98280   \n",
       "7                  98283    2024-01-01     98280   \n",
       "8                  98283    2024-01-01     98280   \n",
       "9                  98283    2024-01-01     98280   \n",
       "10                 98283    2024-01-01     98280   \n",
       "11                 98283    2024-01-01     98280   \n",
       "12                 98283    2024-01-01     98280   \n",
       "13                 98283    2024-01-01     98280   \n",
       "14                 98283    2024-01-01     98280   \n",
       "\n",
       "                                 consumer_name    amount  \\\n",
       "0   copy of transport, passenger car, electric   0.00262   \n",
       "1   copy of transport, passenger car, electric  0.006121   \n",
       "2                                           -1       1.0   \n",
       "3   copy of transport, passenger car, electric  0.000122   \n",
       "4   copy of transport, passenger car, electric  0.000002   \n",
       "5   copy of transport, passenger car, electric   0.04975   \n",
       "6   copy of transport, passenger car, electric  0.000122   \n",
       "7   copy of transport, passenger car, electric  0.000002   \n",
       "8   copy of transport, passenger car, electric   0.04975   \n",
       "9   copy of transport, passenger car, electric  0.000122   \n",
       "10  copy of transport, passenger car, electric  0.000002   \n",
       "11  copy of transport, passenger car, electric   0.04975   \n",
       "12  copy of transport, passenger car, electric  0.000122   \n",
       "13  copy of transport, passenger car, electric  0.000002   \n",
       "14  copy of transport, passenger car, electric   0.04975   \n",
       "\n",
       "                                interpolation_weights  \n",
       "0   {'db_2020': 0.6999726252395291, 'db_2030': 0.3...  \n",
       "1   {'db_2020': 0.6999726252395291, 'db_2030': 0.3...  \n",
       "2   {'db_2020': 0.6000547495209416, 'db_2030': 0.3...  \n",
       "3   {'db_2020': 0.4998631261976457, 'db_2030': 0.5...  \n",
       "4   {'db_2020': 0.4998631261976457, 'db_2030': 0.5...  \n",
       "5   {'db_2020': 0.4998631261976457, 'db_2030': 0.5...  \n",
       "6                                      {'db_2030': 1}  \n",
       "7                                      {'db_2030': 1}  \n",
       "8                                      {'db_2030': 1}  \n",
       "9                    {'db_2030': 0.5, 'db_2040': 0.5}  \n",
       "10                   {'db_2030': 0.5, 'db_2040': 0.5}  \n",
       "11                   {'db_2030': 0.5, 'db_2040': 0.5}  \n",
       "12                                     {'db_2040': 1}  \n",
       "13                                     {'db_2040': 1}  \n",
       "14                                     {'db_2040': 1}  "
      ]
     },
     "execution_count": 20,
     "metadata": {},
     "output_type": "execute_result"
    }
   ],
   "source": [
    "tlca.build_timeline()"
   ]
  },
  {
   "cell_type": "code",
   "execution_count": 21,
   "metadata": {},
   "outputs": [],
   "source": [
    "tlca.build_datapackage()\n",
    "tlca.lci()\n",
    "tlca.lcia()"
   ]
  },
  {
   "cell_type": "code",
   "execution_count": 22,
   "metadata": {},
   "outputs": [
    {
     "data": {
      "text/plain": [
       "Databases dictionary with 6 object(s):\n",
       "\tbiosphere3\n",
       "\tcutoff39\n",
       "\tdb_2020\n",
       "\tdb_2030\n",
       "\tdb_2040\n",
       "\tforeground"
      ]
     },
     "execution_count": 22,
     "metadata": {},
     "output_type": "execute_result"
    }
   ],
   "source": [
    "bd.databases"
   ]
  },
  {
   "cell_type": "code",
   "execution_count": 23,
   "metadata": {},
   "outputs": [
    {
     "data": {
      "text/plain": [
       "['Carbon dioxide, from soil or biomass stock' (kilogram, None, ('air', 'urban air close to ground')),\n",
       " 'Carbon dioxide, from soil or biomass stock' (kilogram, None, ('air',)),\n",
       " 'Carbon dioxide, from soil or biomass stock' (kilogram, None, ('air', 'low population density, long-term')),\n",
       " 'Carbon dioxide, fossil' (kilogram, None, ('air', 'lower stratosphere + upper troposphere')),\n",
       " 'Carbon dioxide, from soil or biomass stock' (kilogram, None, ('air', 'lower stratosphere + upper troposphere')),\n",
       " 'Carbon dioxide, fossil' (kilogram, None, ('air', 'urban air close to ground')),\n",
       " 'Carbon dioxide, non-fossil' (kilogram, None, ('air', 'low population density, long-term')),\n",
       " 'Carbon dioxide, fossil' (kilogram, None, ('air',)),\n",
       " 'Carbon dioxide, from soil or biomass stock' (kilogram, None, ('air', 'non-urban air or from high stacks')),\n",
       " 'Carbon dioxide, non-fossil' (kilogram, None, ('air', 'urban air close to ground')),\n",
       " 'Carbon dioxide, non-fossil' (kilogram, None, ('air', 'non-urban air or from high stacks')),\n",
       " 'Carbon dioxide, fossil' (kilogram, None, ('air', 'non-urban air or from high stacks')),\n",
       " 'Carbon dioxide, non-fossil' (kilogram, None, ('air',)),\n",
       " 'Carbon dioxide, fossil' (kilogram, None, ('air', 'low population density, long-term')),\n",
       " 'Carbon dioxide, non-fossil' (kilogram, None, ('air', 'lower stratosphere + upper troposphere'))]"
      ]
     },
     "execution_count": 23,
     "metadata": {},
     "output_type": "execute_result"
    }
   ],
   "source": [
    "co2_flows = [flow for flow in bd.Database('biosphere3') if 'Carbon dioxide' in flow['name'] and \"air\" in flow['categories']]\n",
    "co2_flows"
   ]
  },
  {
   "cell_type": "code",
   "execution_count": 27,
   "metadata": {},
   "outputs": [],
   "source": [
    "co2_flows_codes = [flow.key[1] for flow in co2_flows]"
   ]
  },
  {
   "cell_type": "code",
   "execution_count": 38,
   "metadata": {},
   "outputs": [
    {
     "data": {
      "image/png": "[encoded data removed]",
      "text/plain": [
       "<Figure size 1000x600 with 1 Axes>"
      ]
     },
     "metadata": {},
     "output_type": "display_data"
    }
   ],
   "source": [
    "import matplotlib.pyplot as plt\n",
    "import numpy as np\n",
    "from collections import defaultdict\n",
    "\n",
    "# Initialize a defaultdict to store summed amounts for each unique time point\n",
    "time_amounts = defaultdict(float)\n",
    "\n",
    "# Iterate over each specified flow and aggregate amounts by time\n",
    "for flow_id in co2_flows_codes:\n",
    "    if flow_id in tlca.dynamic_inventory:\n",
    "        flow_data = tlca.dynamic_inventory[flow_id]\n",
    "        for time, amount in zip(flow_data['time'], flow_data['amount']):\n",
    "            time_amounts[str(time)] += amount  # Convert time to string for uniqueness\n",
    "\n",
    "# Sort the times and amounts for plotting\n",
    "sorted_times = np.array(sorted(time_amounts.keys()))\n",
    "sorted_amounts = np.array([time_amounts[time] for time in sorted_times])\n",
    "\n",
    "# Convert sorted times from strings back to datetime for plotting\n",
    "sorted_times = np.array(sorted_times, dtype='datetime64')\n",
    "\n",
    "# Plotting\n",
    "plt.figure(figsize=(10, 6))\n",
    "plt.plot(sorted_times, sorted_amounts, marker='o', linestyle='-')\n",
    "plt.xlabel('Time')\n",
    "plt.ylabel('Sum of Selected CO2 Flows')\n",
    "plt.title('Sum of CO2 Flows Over Time')\n",
    "plt.grid(True)\n",
    "plt.xticks(rotation=45)  # Rotate dates for better readability\n",
    "plt.tight_layout()  # Adjust layout to make room for the rotated date labels\n",
    "plt.show()"
   ]
  },
  {
   "cell_type": "code",
   "execution_count": null,
   "metadata": {},
   "outputs": [],
   "source": []
  }
 ],
 "metadata": {
  "kernelspec": {
   "display_name": "medusa",
   "language": "python",
   "name": "python3"
  },
  "language_info": {
   "codemirror_mode": {
    "name": "ipython",
    "version": 3
   },
   "file_extension": ".py",
   "mimetype": "text/x-python",
   "name": "python",
   "nbconvert_exporter": "python",
   "pygments_lexer": "ipython3",
   "version": "3.10.13"
  }
 },
 "nbformat": 4,
 "nbformat_minor": 2
}
