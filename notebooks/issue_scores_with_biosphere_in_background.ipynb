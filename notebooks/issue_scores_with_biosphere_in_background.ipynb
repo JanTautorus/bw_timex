{
 "cells": [
  {
   "cell_type": "markdown",
   "id": "bee706e3",
   "metadata": {},
   "source": [
    "# `MEDUSA`"
   ]
  },
  {
   "cell_type": "markdown",
   "id": "d7f9b34c",
   "metadata": {},
   "source": [
    "### Setup and definitions\n",
    "\n",
    "First, we set up a database with temporally distributed exchanges."
   ]
  },
  {
   "cell_type": "code",
   "execution_count": 7,
   "id": "aa41e56f",
   "metadata": {},
   "outputs": [
    {
     "name": "stdout",
     "output_type": "stream",
     "text": [
      "Current working directory: c:\\Users\\muell\\Documents\\PhD\\Futuralis\n",
      "New working directory: c:\\Users\\muell\\Documents\\PhD\n"
     ]
    }
   ],
   "source": [
    "#I need to set working directory on my computer for from tests.databases import * to work\n",
    "import os\n",
    "\n",
    "current_directory = os.getcwd()\n",
    "print(\"Current working directory:\", current_directory)\n",
    "parent_directory = os.path.dirname(current_directory)\n",
    "os.chdir(parent_directory)\n",
    "print(\"New working directory:\", os.getcwd())"
   ]
  },
  {
   "cell_type": "markdown",
   "id": "e4465849",
   "metadata": {},
   "source": [
    "First, no biosphere flow in the background"
   ]
  },
  {
   "cell_type": "code",
   "execution_count": 2,
   "id": "5d3622ff",
   "metadata": {},
   "outputs": [
    {
     "name": "stderr",
     "output_type": "stream",
     "text": [
      "100%|██████████| 2/2 [00:00<?, ?it/s]\n"
     ]
    },
    {
     "name": "stdout",
     "output_type": "stream",
     "text": [
      "Vacuuming database \n",
      "Not able to determine geocollections for all datasets. This database is not ready for regionalization.\n"
     ]
    },
    {
     "name": "stderr",
     "output_type": "stream",
     "text": [
      "100%|██████████| 3/3 [00:00<00:00, 2235.77it/s]\n"
     ]
    },
    {
     "name": "stdout",
     "output_type": "stream",
     "text": [
      "Vacuuming database \n",
      "Not able to determine geocollections for all datasets. This database is not ready for regionalization.\n"
     ]
    },
    {
     "name": "stderr",
     "output_type": "stream",
     "text": [
      "100%|██████████| 3/3 [00:00<?, ?it/s]"
     ]
    },
    {
     "name": "stdout",
     "output_type": "stream",
     "text": [
      "Vacuuming database \n"
     ]
    },
    {
     "name": "stderr",
     "output_type": "stream",
     "text": [
      "\n"
     ]
    },
    {
     "name": "stdout",
     "output_type": "stream",
     "text": [
      "Not able to determine geocollections for all datasets. This database is not ready for regionalization.\n"
     ]
    },
    {
     "name": "stderr",
     "output_type": "stream",
     "text": [
      "100%|██████████| 2/2 [00:00<?, ?it/s]\n"
     ]
    },
    {
     "name": "stdout",
     "output_type": "stream",
     "text": [
      "Vacuuming database \n",
      "Starting graph traversal\n",
      "Calculation count: 5\n",
      "All databases in database_date_dict exist as brightway project databases\n",
      "Old static LCA Score: 54.30000203847885\n",
      "New MEDUSA LCA Score: 54.30000203847885\n"
     ]
    }
   ],
   "source": [
    "\n",
    "from tests.databases import *\n",
    "db_abcd_CO2_and_CH4_foreground()\n",
    "\n",
    "from datetime import datetime\n",
    "database_date_dict = {\n",
    "    \"background_2008\": datetime.strptime(\"2008\", \"%Y\"),\n",
    "    \"background_2024\": datetime.strptime(\"2024\", \"%Y\"),\n",
    "    \"foreground\": \"dynamic\",  # flag databases that should be temporally distributed with \"dynamic\"\n",
    "}\n",
    "\n",
    "SKIPPABLE = [\n",
    "    node.id for node in bd.Database('background_2008')] + [\n",
    "    node.id for node in bd.Database('background_2024')\n",
    "]\n",
    "\n",
    "def filter_function(database_id: int) -> bool:\n",
    "    return database_id in SKIPPABLE\n",
    "\n",
    "demand = {('foreground', 'A'): 1}\n",
    "method = ('GWP', 'example')\n",
    "\n",
    "from medusa import MedusaLCA\n",
    "flca = MedusaLCA(demand, method, filter_function, database_date_dict, max_calc=5000)\n",
    "\n",
    "import warnings\n",
    "warnings.filterwarnings(\"ignore\")\n",
    "flca.build_timeline()\n",
    "\n",
    "flca.build_datapackage()\n",
    "\n",
    "flca.lci()\n",
    "flca.lcia()\n",
    "\n",
    "print('Old static LCA Score:', flca.static_lca.score)\n",
    "print('New MEDUSA LCA Score:', flca.score)"
   ]
  },
  {
   "cell_type": "markdown",
   "id": "bc7fd086",
   "metadata": {},
   "source": [
    "score is the same between static and medua\n",
    "\n",
    "now, with biosphere flows in the background, which are the same in both databases and have no additional biosphere TD;"
   ]
  },
  {
   "cell_type": "code",
   "execution_count": 3,
   "id": "6487dc77",
   "metadata": {},
   "outputs": [
    {
     "name": "stderr",
     "output_type": "stream",
     "text": [
      "100%|██████████| 2/2 [00:00<00:00, 1807.89it/s]\n"
     ]
    },
    {
     "name": "stdout",
     "output_type": "stream",
     "text": [
      "Vacuuming database \n",
      "Not able to determine geocollections for all datasets. This database is not ready for regionalization.\n"
     ]
    },
    {
     "name": "stderr",
     "output_type": "stream",
     "text": [
      "100%|██████████| 3/3 [00:00<00:00, 5533.38it/s]"
     ]
    },
    {
     "name": "stdout",
     "output_type": "stream",
     "text": [
      "Vacuuming database \n"
     ]
    },
    {
     "name": "stderr",
     "output_type": "stream",
     "text": [
      "\n"
     ]
    },
    {
     "name": "stdout",
     "output_type": "stream",
     "text": [
      "Not able to determine geocollections for all datasets. This database is not ready for regionalization.\n"
     ]
    },
    {
     "name": "stderr",
     "output_type": "stream",
     "text": [
      "100%|██████████| 3/3 [00:00<?, ?it/s]"
     ]
    },
    {
     "name": "stdout",
     "output_type": "stream",
     "text": [
      "Vacuuming database \n"
     ]
    },
    {
     "name": "stderr",
     "output_type": "stream",
     "text": [
      "\n"
     ]
    },
    {
     "name": "stdout",
     "output_type": "stream",
     "text": [
      "Not able to determine geocollections for all datasets. This database is not ready for regionalization.\n"
     ]
    },
    {
     "name": "stderr",
     "output_type": "stream",
     "text": [
      "100%|██████████| 2/2 [00:00<00:00, 2005.40it/s]"
     ]
    },
    {
     "name": "stdout",
     "output_type": "stream",
     "text": [
      "Vacuuming database \n"
     ]
    },
    {
     "name": "stderr",
     "output_type": "stream",
     "text": [
      "\n"
     ]
    },
    {
     "name": "stdout",
     "output_type": "stream",
     "text": [
      "Starting graph traversal\n",
      "Calculation count: 5\n",
      "All databases in database_date_dict exist as brightway project databases\n"
     ]
    },
    {
     "data": {
      "text/html": [
       "<div>\n",
       "<style scoped>\n",
       "    .dataframe tbody tr th:only-of-type {\n",
       "        vertical-align: middle;\n",
       "    }\n",
       "\n",
       "    .dataframe tbody tr th {\n",
       "        vertical-align: top;\n",
       "    }\n",
       "\n",
       "    .dataframe thead th {\n",
       "        text-align: right;\n",
       "    }\n",
       "</style>\n",
       "<table border=\"1\" class=\"dataframe\">\n",
       "  <thead>\n",
       "    <tr style=\"text-align: right;\">\n",
       "      <th></th>\n",
       "      <th>hash_producer</th>\n",
       "      <th>time_mapped_producer</th>\n",
       "      <th>date_producer</th>\n",
       "      <th>producer</th>\n",
       "      <th>producer_name</th>\n",
       "      <th>hash_consumer</th>\n",
       "      <th>time_mapped_consumer</th>\n",
       "      <th>date_consumer</th>\n",
       "      <th>consumer</th>\n",
       "      <th>consumer_name</th>\n",
       "      <th>amount</th>\n",
       "      <th>interpolation_weights</th>\n",
       "    </tr>\n",
       "  </thead>\n",
       "  <tbody>\n",
       "    <tr>\n",
       "      <th>0</th>\n",
       "      <td>2018</td>\n",
       "      <td>10</td>\n",
       "      <td>2018-01-01</td>\n",
       "      <td>4</td>\n",
       "      <td>D</td>\n",
       "      <td>2024</td>\n",
       "      <td>12</td>\n",
       "      <td>2024-01-01</td>\n",
       "      <td>9</td>\n",
       "      <td>B</td>\n",
       "      <td>6.0</td>\n",
       "      <td>{'background_2008': 0.37491444216290215, 'back...</td>\n",
       "    </tr>\n",
       "    <tr>\n",
       "      <th>1</th>\n",
       "      <td>2023</td>\n",
       "      <td>11</td>\n",
       "      <td>2023-01-01</td>\n",
       "      <td>3</td>\n",
       "      <td>C</td>\n",
       "      <td>2024</td>\n",
       "      <td>12</td>\n",
       "      <td>2024-01-01</td>\n",
       "      <td>9</td>\n",
       "      <td>B</td>\n",
       "      <td>1.0</td>\n",
       "      <td>{'background_2008': 0.06245722108145102, 'back...</td>\n",
       "    </tr>\n",
       "    <tr>\n",
       "      <th>2</th>\n",
       "      <td>2024</td>\n",
       "      <td>12</td>\n",
       "      <td>2024-01-01</td>\n",
       "      <td>9</td>\n",
       "      <td>B</td>\n",
       "      <td>2024</td>\n",
       "      <td>13</td>\n",
       "      <td>2024-01-01</td>\n",
       "      <td>10</td>\n",
       "      <td>A</td>\n",
       "      <td>1.0</td>\n",
       "      <td>{'background_2024': 1}</td>\n",
       "    </tr>\n",
       "    <tr>\n",
       "      <th>3</th>\n",
       "      <td>2024</td>\n",
       "      <td>13</td>\n",
       "      <td>2024-01-01</td>\n",
       "      <td>10</td>\n",
       "      <td>A</td>\n",
       "      <td>2024</td>\n",
       "      <td>-1</td>\n",
       "      <td>2024-01-01</td>\n",
       "      <td>-1</td>\n",
       "      <td>-1</td>\n",
       "      <td>1.0</td>\n",
       "      <td>{'background_2024': 1}</td>\n",
       "    </tr>\n",
       "  </tbody>\n",
       "</table>\n",
       "</div>"
      ],
      "text/plain": [
       "   hash_producer  time_mapped_producer date_producer  producer producer_name  \\\n",
       "0           2018                    10    2018-01-01         4             D   \n",
       "1           2023                    11    2023-01-01         3             C   \n",
       "2           2024                    12    2024-01-01         9             B   \n",
       "3           2024                    13    2024-01-01        10             A   \n",
       "\n",
       "   hash_consumer  time_mapped_consumer date_consumer  consumer consumer_name  \\\n",
       "0           2024                    12    2024-01-01         9             B   \n",
       "1           2024                    12    2024-01-01         9             B   \n",
       "2           2024                    13    2024-01-01        10             A   \n",
       "3           2024                    -1    2024-01-01        -1            -1   \n",
       "\n",
       "  amount                              interpolation_weights  \n",
       "0    6.0  {'background_2008': 0.37491444216290215, 'back...  \n",
       "1    1.0  {'background_2008': 0.06245722108145102, 'back...  \n",
       "2    1.0                             {'background_2024': 1}  \n",
       "3    1.0                             {'background_2024': 1}  "
      ]
     },
     "execution_count": 3,
     "metadata": {},
     "output_type": "execute_result"
    }
   ],
   "source": [
    "\n",
    "from tests.databases import *\n",
    "db_abcd_CO2_foreground_and_background()\n",
    "\n",
    "from datetime import datetime\n",
    "database_date_dict = {\n",
    "    \"background_2008\": datetime.strptime(\"2008\", \"%Y\"),\n",
    "    \"background_2024\": datetime.strptime(\"2024\", \"%Y\"),\n",
    "    \"foreground\": \"dynamic\",  # flag databases that should be temporally distributed with \"dynamic\"\n",
    "}\n",
    "\n",
    "SKIPPABLE = [\n",
    "    node.id for node in bd.Database('background_2008')] + [\n",
    "    node.id for node in bd.Database('background_2024')\n",
    "]\n",
    "\n",
    "def filter_function(database_id: int) -> bool:\n",
    "    return database_id in SKIPPABLE\n",
    "\n",
    "demand = {('foreground', 'A'): 1}\n",
    "method = ('GWP', 'example')\n",
    "\n",
    "from medusa import MedusaLCA\n",
    "mlca = MedusaLCA(demand, method, filter_function, database_date_dict, max_calc=5000)\n",
    "\n",
    "import warnings\n",
    "warnings.filterwarnings(\"ignore\")\n",
    "mlca.build_timeline()\n",
    "\n"
   ]
  },
  {
   "cell_type": "code",
   "execution_count": 6,
   "id": "f26940f2",
   "metadata": {},
   "outputs": [
    {
     "name": "stdout",
     "output_type": "stream",
     "text": [
      "Old static LCA Score: 33.5\n",
      "New MEDUSA LCA Score: 239.49999999999997\n"
     ]
    }
   ],
   "source": [
    "mlca.build_datapackage()\n",
    "\n",
    "mlca.lci()\n",
    "mlca.lcia()\n",
    "\n",
    "print('Old static LCA Score:', mlca.static_lca.score)\n",
    "print('New MEDUSA LCA Score:', mlca.score)"
   ]
  },
  {
   "cell_type": "markdown",
   "id": "90e857bf",
   "metadata": {},
   "source": [
    "Score should be different than in the calculation before, but there should be no difference between the static LCA score and the MEDUSA LCA score"
   ]
  },
  {
   "cell_type": "code",
   "execution_count": 4,
   "id": "e4caf7d4",
   "metadata": {},
   "outputs": [
    {
     "data": {
      "text/html": [
       "<div>\n",
       "<style scoped>\n",
       "    .dataframe tbody tr th:only-of-type {\n",
       "        vertical-align: middle;\n",
       "    }\n",
       "\n",
       "    .dataframe tbody tr th {\n",
       "        vertical-align: top;\n",
       "    }\n",
       "\n",
       "    .dataframe thead th {\n",
       "        text-align: right;\n",
       "    }\n",
       "</style>\n",
       "<table border=\"1\" class=\"dataframe\">\n",
       "  <thead>\n",
       "    <tr style=\"text-align: right;\">\n",
       "      <th></th>\n",
       "      <th>hash_producer</th>\n",
       "      <th>time_mapped_producer</th>\n",
       "      <th>date_producer</th>\n",
       "      <th>producer</th>\n",
       "      <th>producer_name</th>\n",
       "      <th>hash_consumer</th>\n",
       "      <th>time_mapped_consumer</th>\n",
       "      <th>date_consumer</th>\n",
       "      <th>consumer</th>\n",
       "      <th>consumer_name</th>\n",
       "      <th>amount</th>\n",
       "      <th>interpolation_weights</th>\n",
       "    </tr>\n",
       "  </thead>\n",
       "  <tbody>\n",
       "    <tr>\n",
       "      <th>0</th>\n",
       "      <td>2018</td>\n",
       "      <td>10</td>\n",
       "      <td>2018-01-01</td>\n",
       "      <td>4</td>\n",
       "      <td>D</td>\n",
       "      <td>2024</td>\n",
       "      <td>12</td>\n",
       "      <td>2024-01-01</td>\n",
       "      <td>9</td>\n",
       "      <td>B</td>\n",
       "      <td>6.0</td>\n",
       "      <td>{'background_2008': 0.37491444216290215, 'back...</td>\n",
       "    </tr>\n",
       "    <tr>\n",
       "      <th>1</th>\n",
       "      <td>2023</td>\n",
       "      <td>11</td>\n",
       "      <td>2023-01-01</td>\n",
       "      <td>3</td>\n",
       "      <td>C</td>\n",
       "      <td>2024</td>\n",
       "      <td>12</td>\n",
       "      <td>2024-01-01</td>\n",
       "      <td>9</td>\n",
       "      <td>B</td>\n",
       "      <td>1.0</td>\n",
       "      <td>{'background_2008': 0.06245722108145102, 'back...</td>\n",
       "    </tr>\n",
       "    <tr>\n",
       "      <th>2</th>\n",
       "      <td>2024</td>\n",
       "      <td>12</td>\n",
       "      <td>2024-01-01</td>\n",
       "      <td>9</td>\n",
       "      <td>B</td>\n",
       "      <td>2024</td>\n",
       "      <td>13</td>\n",
       "      <td>2024-01-01</td>\n",
       "      <td>10</td>\n",
       "      <td>A</td>\n",
       "      <td>1.0</td>\n",
       "      <td>{'background_2024': 1}</td>\n",
       "    </tr>\n",
       "    <tr>\n",
       "      <th>3</th>\n",
       "      <td>2024</td>\n",
       "      <td>13</td>\n",
       "      <td>2024-01-01</td>\n",
       "      <td>10</td>\n",
       "      <td>A</td>\n",
       "      <td>2024</td>\n",
       "      <td>-1</td>\n",
       "      <td>2024-01-01</td>\n",
       "      <td>-1</td>\n",
       "      <td>-1</td>\n",
       "      <td>1.0</td>\n",
       "      <td>{'background_2024': 1}</td>\n",
       "    </tr>\n",
       "  </tbody>\n",
       "</table>\n",
       "</div>"
      ],
      "text/plain": [
       "   hash_producer  time_mapped_producer date_producer  producer producer_name  \\\n",
       "0           2018                    10    2018-01-01         4             D   \n",
       "1           2023                    11    2023-01-01         3             C   \n",
       "2           2024                    12    2024-01-01         9             B   \n",
       "3           2024                    13    2024-01-01        10             A   \n",
       "\n",
       "   hash_consumer  time_mapped_consumer date_consumer  consumer consumer_name  \\\n",
       "0           2024                    12    2024-01-01         9             B   \n",
       "1           2024                    12    2024-01-01         9             B   \n",
       "2           2024                    13    2024-01-01        10             A   \n",
       "3           2024                    -1    2024-01-01        -1            -1   \n",
       "\n",
       "  amount                              interpolation_weights  \n",
       "0    6.0  {'background_2008': 0.37491444216290215, 'back...  \n",
       "1    1.0  {'background_2008': 0.06245722108145102, 'back...  \n",
       "2    1.0                             {'background_2024': 1}  \n",
       "3    1.0                             {'background_2024': 1}  "
      ]
     },
     "execution_count": 4,
     "metadata": {},
     "output_type": "execute_result"
    }
   ],
   "source": [
    "mlca.timeline"
   ]
  },
  {
   "cell_type": "code",
   "execution_count": 5,
   "id": "43b15ca6",
   "metadata": {},
   "outputs": [
    {
     "data": {
      "text/html": [
       "<div>\n",
       "<style scoped>\n",
       "    .dataframe tbody tr th:only-of-type {\n",
       "        vertical-align: middle;\n",
       "    }\n",
       "\n",
       "    .dataframe tbody tr th {\n",
       "        vertical-align: top;\n",
       "    }\n",
       "\n",
       "    .dataframe thead th {\n",
       "        text-align: right;\n",
       "    }\n",
       "</style>\n",
       "<table border=\"1\" class=\"dataframe\">\n",
       "  <thead>\n",
       "    <tr style=\"text-align: right;\">\n",
       "      <th></th>\n",
       "      <th>((background_2024, D), 2024)</th>\n",
       "      <th>((background_2024, electricity_wind), 2024)</th>\n",
       "      <th>((background_2008, C), 2008)</th>\n",
       "      <th>((background_2008, D), 2008)</th>\n",
       "      <th>((background_2008, electricity_wind), 2008)</th>\n",
       "      <th>((foreground, B), dynamic)</th>\n",
       "      <th>((foreground, A), dynamic)</th>\n",
       "      <th>((background_2024, D), 2018)</th>\n",
       "      <th>((background_2024, C), 2023)</th>\n",
       "      <th>((foreground, B), 2024)</th>\n",
       "      <th>((foreground, A), 2024)</th>\n",
       "    </tr>\n",
       "  </thead>\n",
       "  <tbody>\n",
       "    <tr>\n",
       "      <th>((background_2024, D), 2024)</th>\n",
       "      <td>1.0</td>\n",
       "      <td>0.0</td>\n",
       "      <td>0.0</td>\n",
       "      <td>0.0</td>\n",
       "      <td>0.0</td>\n",
       "      <td>0.0</td>\n",
       "      <td>-1.0</td>\n",
       "      <td>0.000000</td>\n",
       "      <td>-0.937543</td>\n",
       "      <td>0.0</td>\n",
       "      <td>0.0</td>\n",
       "    </tr>\n",
       "    <tr>\n",
       "      <th>((background_2024, electricity_wind), 2024)</th>\n",
       "      <td>0.0</td>\n",
       "      <td>1.0</td>\n",
       "      <td>0.0</td>\n",
       "      <td>0.0</td>\n",
       "      <td>0.0</td>\n",
       "      <td>0.0</td>\n",
       "      <td>-6.0</td>\n",
       "      <td>-0.625086</td>\n",
       "      <td>0.000000</td>\n",
       "      <td>0.0</td>\n",
       "      <td>0.0</td>\n",
       "    </tr>\n",
       "    <tr>\n",
       "      <th>((background_2008, C), 2008)</th>\n",
       "      <td>-1.0</td>\n",
       "      <td>-3.0</td>\n",
       "      <td>1.0</td>\n",
       "      <td>0.0</td>\n",
       "      <td>0.0</td>\n",
       "      <td>0.0</td>\n",
       "      <td>0.0</td>\n",
       "      <td>0.000000</td>\n",
       "      <td>0.000000</td>\n",
       "      <td>0.0</td>\n",
       "      <td>0.0</td>\n",
       "    </tr>\n",
       "    <tr>\n",
       "      <th>((background_2008, D), 2008)</th>\n",
       "      <td>0.0</td>\n",
       "      <td>0.0</td>\n",
       "      <td>0.0</td>\n",
       "      <td>1.0</td>\n",
       "      <td>0.0</td>\n",
       "      <td>0.0</td>\n",
       "      <td>0.0</td>\n",
       "      <td>0.000000</td>\n",
       "      <td>-0.062457</td>\n",
       "      <td>0.0</td>\n",
       "      <td>0.0</td>\n",
       "    </tr>\n",
       "    <tr>\n",
       "      <th>((background_2008, electricity_wind), 2008)</th>\n",
       "      <td>0.0</td>\n",
       "      <td>0.0</td>\n",
       "      <td>0.0</td>\n",
       "      <td>0.0</td>\n",
       "      <td>1.0</td>\n",
       "      <td>0.0</td>\n",
       "      <td>0.0</td>\n",
       "      <td>-0.374914</td>\n",
       "      <td>0.000000</td>\n",
       "      <td>0.0</td>\n",
       "      <td>0.0</td>\n",
       "    </tr>\n",
       "    <tr>\n",
       "      <th>((foreground, B), dynamic)</th>\n",
       "      <td>0.0</td>\n",
       "      <td>0.0</td>\n",
       "      <td>0.0</td>\n",
       "      <td>-1.0</td>\n",
       "      <td>-3.0</td>\n",
       "      <td>1.0</td>\n",
       "      <td>0.0</td>\n",
       "      <td>0.000000</td>\n",
       "      <td>0.000000</td>\n",
       "      <td>0.0</td>\n",
       "      <td>0.0</td>\n",
       "    </tr>\n",
       "    <tr>\n",
       "      <th>((foreground, A), dynamic)</th>\n",
       "      <td>0.0</td>\n",
       "      <td>0.0</td>\n",
       "      <td>0.0</td>\n",
       "      <td>0.0</td>\n",
       "      <td>0.0</td>\n",
       "      <td>0.0</td>\n",
       "      <td>1.0</td>\n",
       "      <td>-1.000000</td>\n",
       "      <td>0.000000</td>\n",
       "      <td>0.0</td>\n",
       "      <td>0.0</td>\n",
       "    </tr>\n",
       "    <tr>\n",
       "      <th>((background_2024, D), 2018)</th>\n",
       "      <td>0.0</td>\n",
       "      <td>0.0</td>\n",
       "      <td>0.0</td>\n",
       "      <td>0.0</td>\n",
       "      <td>0.0</td>\n",
       "      <td>0.0</td>\n",
       "      <td>0.0</td>\n",
       "      <td>1.000000</td>\n",
       "      <td>0.000000</td>\n",
       "      <td>-6.0</td>\n",
       "      <td>0.0</td>\n",
       "    </tr>\n",
       "    <tr>\n",
       "      <th>((background_2024, C), 2023)</th>\n",
       "      <td>0.0</td>\n",
       "      <td>0.0</td>\n",
       "      <td>0.0</td>\n",
       "      <td>0.0</td>\n",
       "      <td>0.0</td>\n",
       "      <td>0.0</td>\n",
       "      <td>0.0</td>\n",
       "      <td>0.000000</td>\n",
       "      <td>1.000000</td>\n",
       "      <td>-1.0</td>\n",
       "      <td>0.0</td>\n",
       "    </tr>\n",
       "    <tr>\n",
       "      <th>((foreground, B), 2024)</th>\n",
       "      <td>0.0</td>\n",
       "      <td>0.0</td>\n",
       "      <td>0.0</td>\n",
       "      <td>0.0</td>\n",
       "      <td>0.0</td>\n",
       "      <td>0.0</td>\n",
       "      <td>0.0</td>\n",
       "      <td>0.000000</td>\n",
       "      <td>0.000000</td>\n",
       "      <td>1.0</td>\n",
       "      <td>-1.0</td>\n",
       "    </tr>\n",
       "    <tr>\n",
       "      <th>((foreground, A), 2024)</th>\n",
       "      <td>0.0</td>\n",
       "      <td>0.0</td>\n",
       "      <td>0.0</td>\n",
       "      <td>0.0</td>\n",
       "      <td>0.0</td>\n",
       "      <td>0.0</td>\n",
       "      <td>0.0</td>\n",
       "      <td>0.000000</td>\n",
       "      <td>0.000000</td>\n",
       "      <td>0.0</td>\n",
       "      <td>1.0</td>\n",
       "    </tr>\n",
       "  </tbody>\n",
       "</table>\n",
       "</div>"
      ],
      "text/plain": [
       "                                             ((background_2024, D), 2024)  \\\n",
       "((background_2024, D), 2024)                                          1.0   \n",
       "((background_2024, electricity_wind), 2024)                           0.0   \n",
       "((background_2008, C), 2008)                                         -1.0   \n",
       "((background_2008, D), 2008)                                          0.0   \n",
       "((background_2008, electricity_wind), 2008)                           0.0   \n",
       "((foreground, B), dynamic)                                            0.0   \n",
       "((foreground, A), dynamic)                                            0.0   \n",
       "((background_2024, D), 2018)                                          0.0   \n",
       "((background_2024, C), 2023)                                          0.0   \n",
       "((foreground, B), 2024)                                               0.0   \n",
       "((foreground, A), 2024)                                               0.0   \n",
       "\n",
       "                                             ((background_2024, electricity_wind), 2024)  \\\n",
       "((background_2024, D), 2024)                                                         0.0   \n",
       "((background_2024, electricity_wind), 2024)                                          1.0   \n",
       "((background_2008, C), 2008)                                                        -3.0   \n",
       "((background_2008, D), 2008)                                                         0.0   \n",
       "((background_2008, electricity_wind), 2008)                                          0.0   \n",
       "((foreground, B), dynamic)                                                           0.0   \n",
       "((foreground, A), dynamic)                                                           0.0   \n",
       "((background_2024, D), 2018)                                                         0.0   \n",
       "((background_2024, C), 2023)                                                         0.0   \n",
       "((foreground, B), 2024)                                                              0.0   \n",
       "((foreground, A), 2024)                                                              0.0   \n",
       "\n",
       "                                             ((background_2008, C), 2008)  \\\n",
       "((background_2024, D), 2024)                                          0.0   \n",
       "((background_2024, electricity_wind), 2024)                           0.0   \n",
       "((background_2008, C), 2008)                                          1.0   \n",
       "((background_2008, D), 2008)                                          0.0   \n",
       "((background_2008, electricity_wind), 2008)                           0.0   \n",
       "((foreground, B), dynamic)                                            0.0   \n",
       "((foreground, A), dynamic)                                            0.0   \n",
       "((background_2024, D), 2018)                                          0.0   \n",
       "((background_2024, C), 2023)                                          0.0   \n",
       "((foreground, B), 2024)                                               0.0   \n",
       "((foreground, A), 2024)                                               0.0   \n",
       "\n",
       "                                             ((background_2008, D), 2008)  \\\n",
       "((background_2024, D), 2024)                                          0.0   \n",
       "((background_2024, electricity_wind), 2024)                           0.0   \n",
       "((background_2008, C), 2008)                                          0.0   \n",
       "((background_2008, D), 2008)                                          1.0   \n",
       "((background_2008, electricity_wind), 2008)                           0.0   \n",
       "((foreground, B), dynamic)                                           -1.0   \n",
       "((foreground, A), dynamic)                                            0.0   \n",
       "((background_2024, D), 2018)                                          0.0   \n",
       "((background_2024, C), 2023)                                          0.0   \n",
       "((foreground, B), 2024)                                               0.0   \n",
       "((foreground, A), 2024)                                               0.0   \n",
       "\n",
       "                                             ((background_2008, electricity_wind), 2008)  \\\n",
       "((background_2024, D), 2024)                                                         0.0   \n",
       "((background_2024, electricity_wind), 2024)                                          0.0   \n",
       "((background_2008, C), 2008)                                                         0.0   \n",
       "((background_2008, D), 2008)                                                         0.0   \n",
       "((background_2008, electricity_wind), 2008)                                          1.0   \n",
       "((foreground, B), dynamic)                                                          -3.0   \n",
       "((foreground, A), dynamic)                                                           0.0   \n",
       "((background_2024, D), 2018)                                                         0.0   \n",
       "((background_2024, C), 2023)                                                         0.0   \n",
       "((foreground, B), 2024)                                                              0.0   \n",
       "((foreground, A), 2024)                                                              0.0   \n",
       "\n",
       "                                             ((foreground, B), dynamic)  \\\n",
       "((background_2024, D), 2024)                                        0.0   \n",
       "((background_2024, electricity_wind), 2024)                         0.0   \n",
       "((background_2008, C), 2008)                                        0.0   \n",
       "((background_2008, D), 2008)                                        0.0   \n",
       "((background_2008, electricity_wind), 2008)                         0.0   \n",
       "((foreground, B), dynamic)                                          1.0   \n",
       "((foreground, A), dynamic)                                          0.0   \n",
       "((background_2024, D), 2018)                                        0.0   \n",
       "((background_2024, C), 2023)                                        0.0   \n",
       "((foreground, B), 2024)                                             0.0   \n",
       "((foreground, A), 2024)                                             0.0   \n",
       "\n",
       "                                             ((foreground, A), dynamic)  \\\n",
       "((background_2024, D), 2024)                                       -1.0   \n",
       "((background_2024, electricity_wind), 2024)                        -6.0   \n",
       "((background_2008, C), 2008)                                        0.0   \n",
       "((background_2008, D), 2008)                                        0.0   \n",
       "((background_2008, electricity_wind), 2008)                         0.0   \n",
       "((foreground, B), dynamic)                                          0.0   \n",
       "((foreground, A), dynamic)                                          1.0   \n",
       "((background_2024, D), 2018)                                        0.0   \n",
       "((background_2024, C), 2023)                                        0.0   \n",
       "((foreground, B), 2024)                                             0.0   \n",
       "((foreground, A), 2024)                                             0.0   \n",
       "\n",
       "                                             ((background_2024, D), 2018)  \\\n",
       "((background_2024, D), 2024)                                     0.000000   \n",
       "((background_2024, electricity_wind), 2024)                     -0.625086   \n",
       "((background_2008, C), 2008)                                     0.000000   \n",
       "((background_2008, D), 2008)                                     0.000000   \n",
       "((background_2008, electricity_wind), 2008)                     -0.374914   \n",
       "((foreground, B), dynamic)                                       0.000000   \n",
       "((foreground, A), dynamic)                                      -1.000000   \n",
       "((background_2024, D), 2018)                                     1.000000   \n",
       "((background_2024, C), 2023)                                     0.000000   \n",
       "((foreground, B), 2024)                                          0.000000   \n",
       "((foreground, A), 2024)                                          0.000000   \n",
       "\n",
       "                                             ((background_2024, C), 2023)  \\\n",
       "((background_2024, D), 2024)                                    -0.937543   \n",
       "((background_2024, electricity_wind), 2024)                      0.000000   \n",
       "((background_2008, C), 2008)                                     0.000000   \n",
       "((background_2008, D), 2008)                                    -0.062457   \n",
       "((background_2008, electricity_wind), 2008)                      0.000000   \n",
       "((foreground, B), dynamic)                                       0.000000   \n",
       "((foreground, A), dynamic)                                       0.000000   \n",
       "((background_2024, D), 2018)                                     0.000000   \n",
       "((background_2024, C), 2023)                                     1.000000   \n",
       "((foreground, B), 2024)                                          0.000000   \n",
       "((foreground, A), 2024)                                          0.000000   \n",
       "\n",
       "                                             ((foreground, B), 2024)  \\\n",
       "((background_2024, D), 2024)                                     0.0   \n",
       "((background_2024, electricity_wind), 2024)                      0.0   \n",
       "((background_2008, C), 2008)                                     0.0   \n",
       "((background_2008, D), 2008)                                     0.0   \n",
       "((background_2008, electricity_wind), 2008)                      0.0   \n",
       "((foreground, B), dynamic)                                       0.0   \n",
       "((foreground, A), dynamic)                                       0.0   \n",
       "((background_2024, D), 2018)                                    -6.0   \n",
       "((background_2024, C), 2023)                                    -1.0   \n",
       "((foreground, B), 2024)                                          1.0   \n",
       "((foreground, A), 2024)                                          0.0   \n",
       "\n",
       "                                             ((foreground, A), 2024)  \n",
       "((background_2024, D), 2024)                                     0.0  \n",
       "((background_2024, electricity_wind), 2024)                      0.0  \n",
       "((background_2008, C), 2008)                                     0.0  \n",
       "((background_2008, D), 2008)                                     0.0  \n",
       "((background_2008, electricity_wind), 2008)                      0.0  \n",
       "((foreground, B), dynamic)                                       0.0  \n",
       "((foreground, A), dynamic)                                       0.0  \n",
       "((background_2024, D), 2018)                                     0.0  \n",
       "((background_2024, C), 2023)                                     0.0  \n",
       "((foreground, B), 2024)                                         -1.0  \n",
       "((foreground, A), 2024)                                          1.0  "
      ]
     },
     "execution_count": 5,
     "metadata": {},
     "output_type": "execute_result"
    }
   ],
   "source": [
    "mlca.create_labelled_technosphere_dataframe()"
   ]
  },
  {
   "cell_type": "markdown",
   "id": "0f110e61",
   "metadata": {},
   "source": [
    "In the above technosphere matrix, the temporal market for D for 2018 (column 8) has receives -1 from (foreground A, dynamic), which is wrong. There is no connection between the processes. This does not happen to a second temporal market at process C. I do not know where this comes from."
   ]
  },
  {
   "cell_type": "code",
   "execution_count": 6,
   "id": "99c24613",
   "metadata": {},
   "outputs": [
    {
     "data": {
      "text/html": [
       "<div>\n",
       "<style scoped>\n",
       "    .dataframe tbody tr th:only-of-type {\n",
       "        vertical-align: middle;\n",
       "    }\n",
       "\n",
       "    .dataframe tbody tr th {\n",
       "        vertical-align: top;\n",
       "    }\n",
       "\n",
       "    .dataframe thead th {\n",
       "        text-align: right;\n",
       "    }\n",
       "</style>\n",
       "<table border=\"1\" class=\"dataframe\">\n",
       "  <thead>\n",
       "    <tr style=\"text-align: right;\">\n",
       "      <th></th>\n",
       "      <th>((background_2024, electricity_wind), 2024)</th>\n",
       "      <th>((background_2008, C), 2008)</th>\n",
       "      <th>((background_2008, electricity_wind), 2008)</th>\n",
       "      <th>((foreground, B), dynamic)</th>\n",
       "      <th>((foreground, A), dynamic)</th>\n",
       "      <th>((background_2024, C), 2023)</th>\n",
       "      <th>((foreground, B), 2024)</th>\n",
       "      <th>((foreground, A), 2024)</th>\n",
       "    </tr>\n",
       "  </thead>\n",
       "  <tbody>\n",
       "    <tr>\n",
       "      <th>1</th>\n",
       "      <td>5.0</td>\n",
       "      <td>1.5</td>\n",
       "      <td>5.0</td>\n",
       "      <td>1.5</td>\n",
       "      <td>0.0</td>\n",
       "      <td>5.0</td>\n",
       "      <td>0.0</td>\n",
       "      <td>0.0</td>\n",
       "    </tr>\n",
       "  </tbody>\n",
       "</table>\n",
       "</div>"
      ],
      "text/plain": [
       "   ((background_2024, electricity_wind), 2024)  ((background_2008, C), 2008)  \\\n",
       "1                                          5.0                           1.5   \n",
       "\n",
       "   ((background_2008, electricity_wind), 2008)  ((foreground, B), dynamic)  \\\n",
       "1                                          5.0                         1.5   \n",
       "\n",
       "   ((foreground, A), dynamic)  ((background_2024, C), 2023)  \\\n",
       "1                         0.0                           5.0   \n",
       "\n",
       "   ((foreground, B), 2024)  ((foreground, A), 2024)  \n",
       "1                      0.0                      0.0  "
      ]
     },
     "execution_count": 6,
     "metadata": {},
     "output_type": "execute_result"
    }
   ],
   "source": [
    "mlca.create_labelled_biosphere_dataframe()\n"
   ]
  }
 ],
 "metadata": {
  "kernelspec": {
   "display_name": "Python 3 (ipykernel)",
   "language": "python",
   "name": "python3"
  },
  "language_info": {
   "codemirror_mode": {
    "name": "ipython",
    "version": 3
   },
   "file_extension": ".py",
   "mimetype": "text/x-python",
   "name": "python",
   "nbconvert_exporter": "python",
   "pygments_lexer": "ipython3",
   "version": "3.10.13"
  }
 },
 "nbformat": 4,
 "nbformat_minor": 5
}
