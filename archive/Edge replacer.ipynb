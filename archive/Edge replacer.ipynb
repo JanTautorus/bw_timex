{
 "cells": [
  {
   "cell_type": "code",
   "execution_count": 1,
   "id": "149d78d6-5f31-489e-9774-c5523781fb2d",
   "metadata": {},
   "outputs": [],
   "source": [
    "from typing import Union, Tuple, Optional\n",
    "import bw2data as bd\n",
    "import bw2calc as bc\n",
    "import bw_processing as bwp\n",
    "import uuid\n",
    "import logging\n",
    "import numpy as np"
   ]
  },
  {
   "cell_type": "markdown",
   "id": "0f0d3203-2553-48b3-a79f-4859cf302314",
   "metadata": {},
   "source": [
    "Change level to `logging.DEBUG` to print too much, `logging.WARNING` to print less"
   ]
  },
  {
   "cell_type": "code",
   "execution_count": 2,
   "id": "df572256-572d-4d0f-9f5d-80d70e092a67",
   "metadata": {},
   "outputs": [],
   "source": [
    "logging.basicConfig(level=logging.WARNING)\n",
    "logger = logging.getLogger('shaving-club')\n",
    "logger.setLevel(level=logging.INFO)"
   ]
  },
  {
   "cell_type": "markdown",
   "id": "f3205443-21ca-414d-b369-8a66a2a1d8aa",
   "metadata": {},
   "source": [
    "## Moving an edge to another producing node safely\n",
    "\n",
    "We use datapackages so that the underlying database isn't modified."
   ]
  },
  {
   "cell_type": "code",
   "execution_count": 3,
   "id": "c76bdade-a82e-4e38-9cbf-8d704517447b",
   "metadata": {},
   "outputs": [],
   "source": [
    "def safety_razor(\n",
    "        consumer: Union[bd.Node, Tuple[str, str], int], \n",
    "        previous_producer: Union[bd.Node, Tuple[str, str], int], \n",
    "        new_producer: Union[bd.Node, Tuple[str, str], int], \n",
    "        datapackage: Optional[bwp.Datapackage] = None,\n",
    "        amount: Optional[float] = None,\n",
    "        name: Optional[str] = None,\n",
    "    ) -> bwp.Datapackage:\n",
    "    \"\"\"Replace an existing edge with another edge. Zeroes out the existing edge.\n",
    "\n",
    "    Inputs:\n",
    "    consumer: Union[bd.Node, Tuple[str, str], int]\n",
    "        The consuming node \n",
    "    previous_producer: Union[bd.Node, Tuple[str, str], int]\n",
    "        The producing node which should be replaced\n",
    "    new_producer: Union[bd.Node, Tuple[str, str], int]\n",
    "        The new producing node\n",
    "    datapackage: Optional[bwp.Datapackage]\n",
    "        Append to this datapackage, if available. Otherwise create a new datapackage.\n",
    "    amount: Optional[float]\n",
    "        Amount of the new edge. Will be the *sum of all (previous_producer, consumer) edge amounts if not provided.\n",
    "    name: Optional[str]\n",
    "        Name of this datapackage resource.\n",
    "    \n",
    "    Returns a `bw_processing.Datapackage` with the modified data.\"\"\"\n",
    "\n",
    "    def resolve_node(node: Union[bd.Node, Tuple[str, str], int]) -> bd.Node:\n",
    "        \"\"\"Return a Brightway node from many different input possibilities.\n",
    "        \n",
    "        This isn't super-efficient - you could look up the `id` values ahead of time.\n",
    "        In production you don't need fancy logging messages.\"\"\"\n",
    "        if isinstance(node, tuple):\n",
    "            assert len(node) == 2\n",
    "            return bd.get_node(database=node[0], code=node[1])\n",
    "        elif isinstance(node, int):\n",
    "            return bd.get_node(id=int)\n",
    "        elif isinstance(node, bd.Node):\n",
    "            return node\n",
    "        else:\n",
    "            raise ValueError(f\"Can't understand {node}\")\n",
    "                \n",
    "    consumer = resolve_node(consumer)\n",
    "    previous_producer = resolve_node(previous_producer)\n",
    "    new_producer = resolve_node(new_producer)\n",
    "\n",
    "    assert new_producer.get(\"type\", \"process\") == \"process\", \"Wrong type of edge source\"\n",
    "    # Remove if creating new edge instead of moving or replacing existing an edge\n",
    "    assert any(exc.input == previous_producer for exc in consumer.technosphere())\n",
    "\n",
    "    if not name:\n",
    "        name = uuid.uuid4().hex\n",
    "        logger.info(f\"Using random name {name}\")\n",
    "\n",
    "    if not amount:\n",
    "        amount = sum(\n",
    "            exc['amount'] \n",
    "            for exc in consumer.technosphere() \n",
    "            if exc.input == previous_producer\n",
    "        )\n",
    "        logger.info(f\"Using database net amount {amount}\")\n",
    "\n",
    "    logger.info(f\"Zeroing exchange from {previous_producer} to {consumer}\")\n",
    "    logger.info(f\"Adding exchange of {amount} {new_producer} to {consumer}\")\n",
    "\n",
    "    if datapackage is None:\n",
    "        datapackage = bwp.create_datapackage()\n",
    "\n",
    "    datapackage.add_persistent_vector(\n",
    "        # This function would need to be adapted for biosphere edges\n",
    "        matrix=\"technosphere_matrix\",\n",
    "        name=name,\n",
    "        data_array=np.array([0, amount], dtype=float),\n",
    "        indices_array=np.array([\n",
    "                (previous_producer.id, consumer.id), \n",
    "                (new_producer.id, consumer.id)\n",
    "            ], dtype=bwp.INDICES_DTYPE),\n",
    "        flip_array=np.array([False, True], dtype=bool)\n",
    "    )  \n",
    "    return datapackage"
   ]
  },
  {
   "cell_type": "markdown",
   "id": "590e11ba-44d8-4d74-b997-716656a76e3e",
   "metadata": {},
   "source": [
    "## Usage"
   ]
  },
  {
   "cell_type": "code",
   "execution_count": 4,
   "id": "7a8094cc-21f2-44d6-b705-cf70d35c8c70",
   "metadata": {},
   "outputs": [],
   "source": [
    "import bw2io as bi\n",
    "import bw2analyzer as ba"
   ]
  },
  {
   "cell_type": "code",
   "execution_count": 6,
   "id": "359fab53-08a9-4f3a-84ee-21b3b2320740",
   "metadata": {},
   "outputs": [
    {
     "name": "stdout",
     "output_type": "stream",
     "text": [
      "Restoring project backup archive - this could take a few minutes...\n"
     ]
    },
    {
     "data": {
      "text/plain": [
       "'🪒'"
      ]
     },
     "execution_count": 6,
     "metadata": {},
     "output_type": "execute_result"
    }
   ],
   "source": [
    "bi.restore_project_directory(\n",
    "    fp=\"/srv/data/ecoinvent-3.9-cutoff.tar.gz\", \n",
    "    project_name=\"🪒\",  # Some silliness late at night :)\n",
    "    overwrite_existing=True\n",
    ")"
   ]
  },
  {
   "cell_type": "code",
   "execution_count": 5,
   "id": "a4fcae4e-014b-419b-b8b9-ae7e5c64fe2f",
   "metadata": {},
   "outputs": [],
   "source": [
    "bd.projects.set_current(\"🪒\")"
   ]
  },
  {
   "cell_type": "code",
   "execution_count": 6,
   "id": "0e659a23-55ec-41aa-96a5-0bd405be3976",
   "metadata": {},
   "outputs": [],
   "source": [
    "pear_market = bd.get_node(name=\"market for pear\")\n",
    "pear_china = bd.get_node(name=\"pear production\", location=\"CN\")\n",
    "apple = bd.get_node(name=\"apple production\", location=\"CL\")"
   ]
  },
  {
   "cell_type": "code",
   "execution_count": 7,
   "id": "a7e69539-dcb0-494c-8e5a-25f55fb3cb4e",
   "metadata": {},
   "outputs": [],
   "source": [
    "ipcc = ('IPCC 2021', 'climate change: fossil', 'global warming potential (GWP100)')"
   ]
  },
  {
   "cell_type": "code",
   "execution_count": 8,
   "id": "7e25083f-caac-46c7-865d-007053f3d574",
   "metadata": {},
   "outputs": [],
   "source": [
    "demand = {pear_market: 1}"
   ]
  },
  {
   "cell_type": "markdown",
   "id": "ff85461a-d221-4470-a0cc-9fff05d544f1",
   "metadata": {},
   "source": [
    "Get the list of `data_objs` - our new datapackage will be appended to this list."
   ]
  },
  {
   "cell_type": "code",
   "execution_count": 10,
   "id": "659b635a-3e20-4160-aa87-df36f7d2262a",
   "metadata": {},
   "outputs": [],
   "source": [
    "fu, data_objs, remapping = bd.prepare_lca_inputs(demand=demand, method=ipcc)"
   ]
  },
  {
   "cell_type": "code",
   "execution_count": 13,
   "id": "aed4db60-3f0c-4684-9895-95c875830366",
   "metadata": {},
   "outputs": [
    {
     "name": "stdout",
     "output_type": "stream",
     "text": [
      "Pear: 0.44607599419190447\n"
     ]
    }
   ],
   "source": [
    "lca = bc.LCA(fu, data_objs=data_objs, remapping_dicts=remapping)\n",
    "lca.lci()\n",
    "lca.lcia()\n",
    "print(\"Pear:\", lca.score)"
   ]
  },
  {
   "cell_type": "code",
   "execution_count": 15,
   "id": "7604862a-70c8-441b-b8d9-6a57cf53363f",
   "metadata": {},
   "outputs": [
    {
     "name": "stderr",
     "output_type": "stream",
     "text": [
      "INFO:shaving-club:Using random name 054616497092409c876e1c722aeb7bef\n",
      "INFO:shaving-club:Using database net amount 0.693363752738162\n",
      "INFO:shaving-club:Zeroing exchange from 'pear production' (kilogram, CN, None) to 'market for pear' (kilogram, GLO, None)\n",
      "INFO:shaving-club:Adding exchange of 0.693363752738162 'apple production' (kilogram, CL, None) to 'market for pear' (kilogram, GLO, None)\n"
     ]
    }
   ],
   "source": [
    "dp = safety_razor(\n",
    "    consumer=pear_market,\n",
    "    previous_producer=pear_china, \n",
    "    new_producer=apple, \n",
    ")"
   ]
  },
  {
   "cell_type": "code",
   "execution_count": 16,
   "id": "4468e7eb-3cc0-42bb-a9f4-d38a3576c932",
   "metadata": {},
   "outputs": [
    {
     "name": "stdout",
     "output_type": "stream",
     "text": [
      "Apples are not pears: 0.25399614413937016\n"
     ]
    }
   ],
   "source": [
    "lca = bc.LCA(fu, data_objs=data_objs + [dp], remapping_dicts=remapping)\n",
    "lca.lci()\n",
    "lca.lcia()\n",
    "print(\"Apples are not pears:\", lca.score)"
   ]
  },
  {
   "cell_type": "code",
   "execution_count": null,
   "id": "28bf9392-9460-4549-9b9f-0c9fcf529afb",
   "metadata": {},
   "outputs": [],
   "source": []
  }
 ],
 "metadata": {
  "kernelspec": {
   "display_name": "Python [conda env:autumn_school]",
   "language": "python",
   "name": "conda-env-autumn_school-py"
  },
  "language_info": {
   "codemirror_mode": {
    "name": "ipython",
    "version": 3
   },
   "file_extension": ".py",
   "mimetype": "text/x-python",
   "name": "python",
   "nbconvert_exporter": "python",
   "pygments_lexer": "ipython3",
   "version": "3.11.6"
  }
 },
 "nbformat": 4,
 "nbformat_minor": 5
}
