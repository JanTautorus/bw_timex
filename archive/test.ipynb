{
 "cells": [
  {
   "cell_type": "markdown",
   "id": "bee706e3",
   "metadata": {},
   "source": [
    "# `MEDUSA`\n",
    "aka. Dynamic-Prospective LCA aka. Union(premise, temporalis)"
   ]
  },
  {
   "cell_type": "code",
   "execution_count": 61,
   "id": "d8cd7a3f",
   "metadata": {
    "tags": []
   },
   "outputs": [],
   "source": [
    "from bw_temporalis import easy_timedelta_distribution, easy_datetime_distribution, TemporalisLCA, Timeline, TemporalDistribution\n",
    "from bw_temporalis.lcia import characterize_methane, characterize_co2\n",
    "import bw2data as bd\n",
    "import bw2calc as bc\n",
    "import bw_graph_tools as graph\n",
    "import numpy as np\n",
    "import pandas as pd"
   ]
  },
  {
   "cell_type": "code",
   "execution_count": 62,
   "id": "d00df98a-fcae-4160-a30f-54aed29c1f19",
   "metadata": {
    "editable": true,
    "slideshow": {
     "slide_type": ""
    },
    "tags": []
   },
   "outputs": [],
   "source": [
    "bd.projects.set_current(\"medusa_test\")"
   ]
  },
  {
   "cell_type": "markdown",
   "id": "26987fcb",
   "metadata": {},
   "source": [
    "### Create some example databases\n",
    "This is based on the forest example, but creating two versions\n"
   ]
  },
  {
   "cell_type": "code",
   "execution_count": 63,
   "id": "79a523bc",
   "metadata": {
    "tags": []
   },
   "outputs": [
    {
     "name": "stderr",
     "output_type": "stream",
     "text": [
      "100%|██████████| 2/2 [00:00<?, ?it/s]\n"
     ]
    },
    {
     "name": "stdout",
     "output_type": "stream",
     "text": [
      "Vacuuming database \n",
      "Not able to determine geocollections for all datasets. This database is not ready for regionalization.\n"
     ]
    },
    {
     "name": "stderr",
     "output_type": "stream",
     "text": [
      "100%|██████████| 2/2 [00:00<?, ?it/s]\n"
     ]
    },
    {
     "name": "stdout",
     "output_type": "stream",
     "text": [
      "Vacuuming database \n",
      "Not able to determine geocollections for all datasets. This database is not ready for regionalization.\n"
     ]
    },
    {
     "name": "stderr",
     "output_type": "stream",
     "text": [
      "100%|██████████| 2/2 [00:00<00:00, 2020.86it/s]"
     ]
    },
    {
     "name": "stderr",
     "output_type": "stream",
     "text": [
      "\n"
     ]
    },
    {
     "name": "stdout",
     "output_type": "stream",
     "text": [
      "Vacuuming database \n",
      "Not able to determine geocollections for all datasets. This database is not ready for regionalization.\n"
     ]
    },
    {
     "name": "stderr",
     "output_type": "stream",
     "text": [
      "100%|██████████| 12/12 [00:00<?, ?it/s]"
     ]
    },
    {
     "name": "stdout",
     "output_type": "stream",
     "text": [
      "Vacuuming database \n"
     ]
    },
    {
     "name": "stderr",
     "output_type": "stream",
     "text": [
      "\n"
     ]
    }
   ],
   "source": [
    "bd.Database('temporalis-bio').write({\n",
    "    ('temporalis-bio', \"CO2\"): {\n",
    "        \"type\": \"emission\",\n",
    "        \"name\": \"carbon dioxide\",\n",
    "        \"temporalis code\": \"co2\",\n",
    "    },\n",
    "    ('temporalis-bio', \"CH4\"): {\n",
    "        \"type\": \"emission\",\n",
    "        \"name\": \"methane\",\n",
    "        \"temporalis code\": \"ch4\",\n",
    "    },\n",
    "})\n",
    "\n",
    "bd.Database('dummy-database').write({\n",
    "    ('dummy-database', 'dummy_activity'): {\n",
    "        'name': 'Drive an electric car',\n",
    "        'exchanges': [\n",
    "            {\n",
    "                'amount': 3,\n",
    "                'type': 'technosphere',\n",
    "                'input': ('dummy-database', 'dummy_activity_2'),\n",
    "            },\n",
    "        ]\n",
    "    },\n",
    "    ('dummy-database', 'dummy_activity_2'): {\n",
    "        'name': 'Drive an electric car 3',\n",
    "        'exchanges': [\n",
    "            {\n",
    "                'amount': 1,\n",
    "                'type': 'production',\n",
    "                'input': ('dummy-database', 'dummy_activity_2'),\n",
    "            },\n",
    "            },\n",
    "            {\n",
    "                'amount': 3,\n",
    "                'type': 'biosphere',\n",
    "                'input': ('temporalis-bio', 'CO2'),\n",
    "            },\n",
    "        ]\n",
    "    }\n",
    "})\n",
    "\n",
    "\n",
    "bd.Database('dummy-database-2').write({\n",
    "    ('dummy-database-2', 'dummy_activity'): {\n",
    "        'name': 'Drive an electric car',\n",
    "        'exchanges': [\n",
    "            {\n",
    "                'amount': 1,\n",
    "                'type': 'technosphere',\n",
    "                'input': ('dummy-database-2', 'dummy_activity_2'),\n",
    "            },\n",
    "        ]\n",
    "    },\n",
    "    ('dummy-database-2', 'dummy_activity_2'): {\n",
    "        'name': 'Drive an electric car 3',\n",
    "        'exchanges': [\n",
    "            {\n",
    "                'amount': 1,\n",
    "                'type': 'production',\n",
    "                'input': ('dummy-database-2', 'dummy_activity_2'),\n",
    "            },\n",
    "            {\n",
    "                'amount': 3,\n",
    "                'type': 'biosphere',\n",
    "                'input': ('temporalis-bio', 'CO2'),\n",
    "            },\n",
    "        ]\n",
    "    }\n",
    "})\n",
    "\n",
    "\n",
    "bd.Database('temporalis-example').write({\n",
    "    ('temporalis-example', 'Functional Unit'): {\n",
    "        'name': 'Functional Unit',\n",
    "        'exchanges': [\n",
    "            {\n",
    "                'amount': 5,\n",
    "                'input': ('temporalis-example', 'EOL'),\n",
    "                'temporal_distribution': \n",
    "                    # bwt.FixedTD(\n",
    "                    # np.array([\"2020-10-11\", \"2021-10-11\", \"2022-10-11\", \"2023-10-11\", \"2024-10-11\"], dtype='datetime64[D]'),\n",
    "                    # np.ones(5) * 1/5,\n",
    "                \n",
    "                    easy_timedelta_distribution(\n",
    "                    start=0,\n",
    "                    end=4, # Range includes both start and end\n",
    "                    resolution=\"Y\",  # M for months, Y for years, etc.\n",
    "                    steps=5,\n",
    "                ),\n",
    "                'type': 'technosphere'\n",
    "            },\n",
    "        ],\n",
    "    },\n",
    "    ('temporalis-example', 'EOL'): {\n",
    "        'exchanges': [\n",
    "            {\n",
    "                'amount': 0.8,\n",
    "                'input': ('temporalis-example', 'Waste'),\n",
    "                'type': 'technosphere'\n",
    "            },\n",
    "            {\n",
    "                'amount': 0.2,\n",
    "                'input': ('temporalis-example', 'Landfill'),\n",
    "                'type': 'technosphere'\n",
    "            },\n",
    "            {\n",
    "                'amount': 1,\n",
    "                'input': ('temporalis-example', 'Use'),\n",
    "                'type': 'technosphere'\n",
    "            },\n",
    "        ],\n",
    "        'name': 'EOL',\n",
    "        'type': 'process'\n",
    "    },\n",
    "    ('temporalis-example', 'Use'): {\n",
    "        'exchanges': [\n",
    "            {\n",
    "                'amount': 1,\n",
    "                'input': ('temporalis-example', 'Production'),\n",
    "                'temporal_distribution': TemporalDistribution(\n",
    "                    np.array([-4], dtype='timedelta64[M]'),\n",
    "                    np.array([1.0])\n",
    "                ),\n",
    "                'type': 'technosphere'\n",
    "            },\n",
    "        ],\n",
    "        'name': 'Use',\n",
    "    },\n",
    "    ('temporalis-example', 'Production'): {\n",
    "        'exchanges': [\n",
    "            {\n",
    "                'amount': 1,\n",
    "                'input': ('temporalis-example', 'Transport'),\n",
    "                'temporal_distribution': TemporalDistribution(\n",
    "                    np.array([200],dtype='timedelta64[D]'),\n",
    "                    np.array([1.0])\n",
    "                ),\n",
    "                'type': 'technosphere'\n",
    "            },\n",
    "        ],\n",
    "        'name': 'Production',\n",
    "        'type': 'process'\n",
    "    },\n",
    "    ('temporalis-example', 'Transport'): {\n",
    "        'exchanges': [\n",
    "            {\n",
    "                'amount': 1,\n",
    "                'input': ('temporalis-example', 'Sawmill'),\n",
    "                'type': 'technosphere'\n",
    "            },\n",
    "            {\n",
    "                'amount': 0.1,\n",
    "                'input': ('temporalis-bio', 'CO2'),\n",
    "                'type': 'biosphere'\n",
    "            },\n",
    "        ],\n",
    "        'name': 'Production',\n",
    "        'type': 'process'\n",
    "    },\n",
    "    ('temporalis-example', 'Sawmill'): {\n",
    "        'exchanges': [\n",
    "            {\n",
    "                'amount': 1.2,\n",
    "                'input': ('temporalis-example', 'Forest'),\n",
    "                'temporal_distribution': TemporalDistribution(\n",
    "                    np.array([-14], dtype='timedelta64[M]'),\n",
    "                    np.array([1.0])\n",
    "                ),\n",
    "                'type': 'technosphere'\n",
    "            },\n",
    "            {\n",
    "                'amount': 0.1,\n",
    "                'input': ('temporalis-bio', 'CO2'),\n",
    "                'type': 'biosphere'\n",
    "            },\n",
    "            {\n",
    "                'amount': 4,\n",
    "                'input': ('dummy-database', 'dummy_activity'),\n",
    "                'temporal_distribution': TemporalDistribution(\n",
    "                    np.array([-5], dtype='timedelta64[M]'),\n",
    "                    np.array([1.0])\n",
    "                ),\n",
    "                'type': 'technosphere'\n",
    "            },\n",
    "        ],\n",
    "        'name': 'Sawmill',\n",
    "        'type': 'process'\n",
    "    },\n",
    "    ('temporalis-example', 'Forest'): {\n",
    "        'exchanges': [\n",
    "            {\n",
    "                'amount': -.1 * 6,\n",
    "                'input': ('temporalis-bio', 'CO2'),\n",
    "                'temporal_distribution': TemporalDistribution(\n",
    "                    np.array([-4, -3, 0, 1, 2, 5], dtype='timedelta64[Y]'),\n",
    "                    np.ones(6) * (1/6)\n",
    "                ),\n",
    "                'type': 'biosphere'\n",
    "            },\n",
    "            {\n",
    "                'amount': 1.5,\n",
    "                'input': ('temporalis-example', 'Thinning'),\n",
    "                'temporal_distribution': TemporalDistribution(\n",
    "                    np.array([-3, 0, 1], dtype='timedelta64[Y]'),\n",
    "                    np.ones(3) * 1/3\n",
    "                ),\n",
    "                'type': 'technosphere'\n",
    "            },\n",
    "        ],\n",
    "        'name': 'Forest',\n",
    "    },\n",
    "    ('temporalis-example', 'Thinning'): {\n",
    "        'exchanges': [\n",
    "            {\n",
    "                'amount': 1,\n",
    "                'input': ('temporalis-example', 'Thinning'),\n",
    "                'type': 'production'\n",
    "            },\n",
    "            {\n",
    "                'amount': 1,\n",
    "                'input': ('temporalis-example', 'Avoided impact - thinnings'),\n",
    "                'type': 'production'\n",
    "            },\n",
    "        ],\n",
    "        'name': 'Thinning',\n",
    "        'type': 'process'\n",
    "    },\n",
    "    ('temporalis-example', 'Landfill'): {\n",
    "        'exchanges': [\n",
    "            {\n",
    "                'amount': 0.1,\n",
    "                'input': ('temporalis-bio', 'CH4'),\n",
    "                'temporal_distribution': TemporalDistribution(\n",
    "                    np.array([10, 20, 60, 100], dtype='timedelta64[M]'),\n",
    "                    np.ones(4) * 1/4\n",
    "                ),\n",
    "                'type': 'biosphere'\n",
    "            },\n",
    "        ],\n",
    "        'name': 'Landfill',\n",
    "        'type': 'process'\n",
    "    },\n",
    "    ('temporalis-example', 'Waste'): {\n",
    "        'exchanges': [\n",
    "            {\n",
    "                'amount': 1,\n",
    "                'input': ('temporalis-example', 'Waste'),\n",
    "                'type': 'production'\n",
    "            },\n",
    "            {\n",
    "                'amount': 1,\n",
    "                'input': ('temporalis-example', 'Avoided impact - waste'),\n",
    "                'type': 'production'\n",
    "            },\n",
    "        ],\n",
    "        'name': 'Waste',\n",
    "        'type': 'process'\n",
    "    },\n",
    "    ('temporalis-example', 'Avoided impact - waste'): {\n",
    "        'exchanges': [\n",
    "            {\n",
    "                'amount': -0.4,\n",
    "                'input': ('temporalis-bio', 'CO2'),\n",
    "                'type': 'biosphere'\n",
    "            },\n",
    "            {\n",
    "                'amount': 1,\n",
    "                'input': ('temporalis-example', 'Avoided impact - waste'),\n",
    "                'type': 'production'\n",
    "            },\n",
    "        ],\n",
    "        'name': 'Avoided impact - waste',\n",
    "        'type': 'process'\n",
    "    },\n",
    "    ('temporalis-example', 'Avoided impact - thinnings'): {\n",
    "        'exchanges': [\n",
    "            {\n",
    "                'amount': -0.3,\n",
    "                'input': ('temporalis-bio', 'CO2'),\n",
    "                'type': 'biosphere'\n",
    "            },\n",
    "            {\n",
    "                'amount': 1,\n",
    "                'input': ('temporalis-example', 'Avoided impact - thinnings'),\n",
    "                'type': 'production'\n",
    "            },\n",
    "        ],\n",
    "        'name': 'Avoided impact - thinnings',\n",
    "        'type': 'process'\n",
    "    }\n",
    "})\n"
   ]
  },
  {
   "cell_type": "code",
   "execution_count": 64,
   "id": "8e02b150-0249-4884-90ad-f129c2c13eb2",
   "metadata": {
    "tags": []
   },
   "outputs": [],
   "source": [
    "bd.Method((\"GWP\", \"example\")).write([\n",
    "    (('temporalis-bio', \"CO2\"), 1),\n",
    "    (('temporalis-bio', \"CH4\"), 25),\n",
    "])"
   ]
  },
  {
   "cell_type": "code",
   "execution_count": 65,
   "id": "cca6b8f2-12a3-43f9-8be2-c6a898268adf",
   "metadata": {
    "tags": []
   },
   "outputs": [
    {
     "ename": "RuntimeError",
     "evalue": "failed to factorize matrix at line 413 in file ../scipy/sparse/linalg/_dsolve/SuperLU/SRC/dpanel_bmod.c\n",
     "output_type": "error",
     "traceback": [
      "\u001b[1;31m---------------------------------------------------------------------------\u001b[0m",
      "\u001b[1;31mRuntimeError\u001b[0m                              Traceback (most recent call last)",
      "\u001b[1;32mc:\\Users\\timod\\OneDrive\\Dokumente\\Python\\tictac_lca\\test.ipynb Cell 7\u001b[0m line \u001b[0;36m2\n\u001b[0;32m      <a href='vscode-notebook-cell:/c%3A/Users/timod/OneDrive/Dokumente/Python/tictac_lca/test.ipynb#X22sZmlsZQ%3D%3D?line=0'>1</a>\u001b[0m lca \u001b[39m=\u001b[39m bc\u001b[39m.\u001b[39mLCA({(\u001b[39m'\u001b[39m\u001b[39mtemporalis-example\u001b[39m\u001b[39m'\u001b[39m, \u001b[39m'\u001b[39m\u001b[39mEOL\u001b[39m\u001b[39m'\u001b[39m): \u001b[39m1\u001b[39m}, (\u001b[39m\"\u001b[39m\u001b[39mGWP\u001b[39m\u001b[39m\"\u001b[39m, \u001b[39m\"\u001b[39m\u001b[39mexample\u001b[39m\u001b[39m\"\u001b[39m))\n\u001b[1;32m----> <a href='vscode-notebook-cell:/c%3A/Users/timod/OneDrive/Dokumente/Python/tictac_lca/test.ipynb#X22sZmlsZQ%3D%3D?line=1'>2</a>\u001b[0m lca\u001b[39m.\u001b[39;49mlci()\n\u001b[0;32m      <a href='vscode-notebook-cell:/c%3A/Users/timod/OneDrive/Dokumente/Python/tictac_lca/test.ipynb#X22sZmlsZQ%3D%3D?line=2'>3</a>\u001b[0m lca\u001b[39m.\u001b[39mlcia()\n\u001b[0;32m      <a href='vscode-notebook-cell:/c%3A/Users/timod/OneDrive/Dokumente/Python/tictac_lca/test.ipynb#X22sZmlsZQ%3D%3D?line=3'>4</a>\u001b[0m lca\u001b[39m.\u001b[39mscore\n",
      "File \u001b[1;32mc:\\Users\\timod\\anaconda3\\envs\\tictac\\lib\\site-packages\\bw2calc\\lca.py:363\u001b[0m, in \u001b[0;36mLCA.lci\u001b[1;34m(self, demand, factorize)\u001b[0m\n\u001b[0;32m    361\u001b[0m \u001b[39mif\u001b[39;00m factorize \u001b[39mand\u001b[39;00m \u001b[39mnot\u001b[39;00m PYPARDISO:\n\u001b[0;32m    362\u001b[0m     \u001b[39mself\u001b[39m\u001b[39m.\u001b[39mdecompose_technosphere()\n\u001b[1;32m--> 363\u001b[0m \u001b[39mself\u001b[39;49m\u001b[39m.\u001b[39;49mlci_calculation()\n",
      "File \u001b[1;32mc:\\Users\\timod\\anaconda3\\envs\\tictac\\lib\\site-packages\\bw2calc\\lca.py:371\u001b[0m, in \u001b[0;36mLCA.lci_calculation\u001b[1;34m(self)\u001b[0m\n\u001b[0;32m    365\u001b[0m \u001b[39mdef\u001b[39;00m \u001b[39mlci_calculation\u001b[39m(\u001b[39mself\u001b[39m) \u001b[39m-\u001b[39m\u001b[39m>\u001b[39m \u001b[39mNone\u001b[39;00m:\n\u001b[0;32m    366\u001b[0m \u001b[39m    \u001b[39m\u001b[39m\"\"\"The actual LCI calculation.\u001b[39;00m\n\u001b[0;32m    367\u001b[0m \n\u001b[0;32m    368\u001b[0m \u001b[39m    Separated from ``lci`` to be reusable in cases where the matrices are already built, e.g. ``redo_lci`` and Monte Carlo classes.\u001b[39;00m\n\u001b[0;32m    369\u001b[0m \n\u001b[0;32m    370\u001b[0m \u001b[39m    \"\"\"\u001b[39;00m\n\u001b[1;32m--> 371\u001b[0m     \u001b[39mself\u001b[39m\u001b[39m.\u001b[39msupply_array \u001b[39m=\u001b[39m \u001b[39mself\u001b[39;49m\u001b[39m.\u001b[39;49msolve_linear_system()\n\u001b[0;32m    372\u001b[0m     \u001b[39m# Turn 1-d array into diagonal matrix\u001b[39;00m\n\u001b[0;32m    373\u001b[0m     count \u001b[39m=\u001b[39m \u001b[39mlen\u001b[39m(\u001b[39mself\u001b[39m\u001b[39m.\u001b[39mdicts\u001b[39m.\u001b[39mactivity)\n",
      "File \u001b[1;32mc:\\Users\\timod\\anaconda3\\envs\\tictac\\lib\\site-packages\\bw2calc\\lca.py:336\u001b[0m, in \u001b[0;36mLCA.solve_linear_system\u001b[1;34m(self)\u001b[0m\n\u001b[0;32m    334\u001b[0m     \u001b[39mreturn\u001b[39;00m \u001b[39mself\u001b[39m\u001b[39m.\u001b[39msolver(\u001b[39mself\u001b[39m\u001b[39m.\u001b[39mdemand_array)\n\u001b[0;32m    335\u001b[0m \u001b[39melse\u001b[39;00m:\n\u001b[1;32m--> 336\u001b[0m     \u001b[39mreturn\u001b[39;00m spsolve(\u001b[39mself\u001b[39;49m\u001b[39m.\u001b[39;49mtechnosphere_matrix, \u001b[39mself\u001b[39;49m\u001b[39m.\u001b[39;49mdemand_array)\n",
      "File \u001b[1;32mc:\\Users\\timod\\anaconda3\\envs\\tictac\\lib\\site-packages\\scipy\\sparse\\linalg\\_dsolve\\linsolve.py:290\u001b[0m, in \u001b[0;36mspsolve\u001b[1;34m(A, b, permc_spec, use_umfpack)\u001b[0m\n\u001b[0;32m    288\u001b[0m indptr \u001b[39m=\u001b[39m A\u001b[39m.\u001b[39mindptr\u001b[39m.\u001b[39mastype(np\u001b[39m.\u001b[39mintc, copy\u001b[39m=\u001b[39m\u001b[39mFalse\u001b[39;00m)\n\u001b[0;32m    289\u001b[0m options \u001b[39m=\u001b[39m \u001b[39mdict\u001b[39m(ColPerm\u001b[39m=\u001b[39mpermc_spec)\n\u001b[1;32m--> 290\u001b[0m x, info \u001b[39m=\u001b[39m _superlu\u001b[39m.\u001b[39;49mgssv(N, A\u001b[39m.\u001b[39;49mnnz, A\u001b[39m.\u001b[39;49mdata, indices, indptr,\n\u001b[0;32m    291\u001b[0m                         b, flag, options\u001b[39m=\u001b[39;49moptions)\n\u001b[0;32m    292\u001b[0m \u001b[39mif\u001b[39;00m info \u001b[39m!=\u001b[39m \u001b[39m0\u001b[39m:\n\u001b[0;32m    293\u001b[0m     warn(\u001b[39m\"\u001b[39m\u001b[39mMatrix is exactly singular\u001b[39m\u001b[39m\"\u001b[39m, MatrixRankWarning)\n",
      "\u001b[1;31mRuntimeError\u001b[0m: failed to factorize matrix at line 413 in file ../scipy/sparse/linalg/_dsolve/SuperLU/SRC/dpanel_bmod.c\n"
     ]
    }
   ],
   "source": [
    "lca = bc.LCA({('temporalis-example', 'EOL'): 1}, (\"GWP\", \"example\"))\n",
    "lca.lci()\n",
    "lca.lcia()\n",
    "lca.score"
   ]
  },
  {
   "cell_type": "markdown",
   "id": "fef29cd7-aad5-4b5b-9a38-4bd6f796299b",
   "metadata": {},
   "source": [
    "# Custom `EdgeExtractor` class"
   ]
  },
  {
   "cell_type": "code",
   "execution_count": null,
   "id": "d77883c7-1e2d-46f5-b12c-25c7f6be7d6e",
   "metadata": {},
   "outputs": [],
   "source": [
    "from dataclasses import dataclass\n",
    "from heapq import heappop, heappush\n",
    "from typing import Callable, List\n",
    "\n",
    "from bw_temporalis import TemporalisLCA, TemporalDistribution\n",
    "\n",
    "\n",
    "@dataclass\n",
    "class Edge:\n",
    "    \"\"\"\n",
    "    Class for storing a temporal edge with source and target.\n",
    "\n",
    "    Leaf edges link to a source process which is a leaf in\n",
    "    our graph traversal (either through cutoff or a filter\n",
    "    function).\n",
    "\n",
    "    Attributes\n",
    "    ----------\n",
    "    distribution : TemporalDistribution\n",
    "    leaf : bool\n",
    "    consumer : int\n",
    "    producer : int\n",
    "\n",
    "    \"\"\"\n",
    "\n",
    "    distribution: TemporalDistribution\n",
    "    leaf: bool\n",
    "    consumer: int\n",
    "    producer: int\n",
    "\n",
    "\n",
    "class EdgeExtracter(TemporalisLCA):\n",
    "    def __init__(self, *args, edge_filter_function: Callable = None, **kwargs):\n",
    "        super().__init__(*args, **kwargs)\n",
    "        if edge_filter_function:\n",
    "            self.edge_ff = edge_filter_function\n",
    "        else:\n",
    "            self.edge_ff = lambda x: False\n",
    "\n",
    "    def build_edge_timeline(self, node_timeline: bool | None = False) -> List:\n",
    "        heap = []\n",
    "        timeline = []\n",
    "\n",
    "        for edge in self.edge_mapping[self.unique_id]:\n",
    "            node = self.nodes[edge.producer_unique_id]\n",
    "            heappush(\n",
    "                heap,\n",
    "                (\n",
    "                    1 / node.cumulative_score,\n",
    "                    self.t0 * edge.amount,\n",
    "                    node,\n",
    "                ),\n",
    "            )\n",
    "            timeline.append(\n",
    "                Edge(\n",
    "                    distribution=self.t0 * edge.amount,\n",
    "                    leaf=False,\n",
    "                    consumer=self.unique_id,\n",
    "                    producer=node.activity_datapackage_id,\n",
    "                )\n",
    "            )\n",
    "\n",
    "        while heap:\n",
    "            _, td, node = heappop(heap)\n",
    "\n",
    "            for edge in self.edge_mapping[node.unique_id]:\n",
    "                row_id = self.nodes[edge.producer_unique_id].activity_datapackage_id\n",
    "                col_id = node.activity_datapackage_id\n",
    "                exchange = self.get_technosphere_exchange(\n",
    "                    input_id=row_id,\n",
    "                    output_id=col_id,\n",
    "                )\n",
    "                value = (\n",
    "                    self._exchange_value(\n",
    "                        exchange=exchange,\n",
    "                        row_id=row_id,\n",
    "                        col_id=col_id,\n",
    "                        matrix_label=\"technosphere_matrix\",\n",
    "                    )\n",
    "                    / node.reference_product_production_amount\n",
    "                )\n",
    "                producer = self.nodes[edge.producer_unique_id]\n",
    "                leaf = self.edge_ff(row_id)\n",
    "\n",
    "                distribution = (td * value).simplify()\n",
    "                timeline.append(\n",
    "                    Edge(\n",
    "                        distribution=distribution,\n",
    "                        leaf=leaf,\n",
    "                        consumer=node.activity_datapackage_id,\n",
    "                        producer=producer.activity_datapackage_id,\n",
    "                    )\n",
    "                )\n",
    "                if not leaf:\n",
    "                    heappush(\n",
    "                        heap,\n",
    "                        (\n",
    "                            1 / node.cumulative_score,\n",
    "                            distribution,\n",
    "                            producer,\n",
    "                        ),\n",
    "                    )\n",
    "        return timeline"
   ]
  },
  {
   "cell_type": "code",
   "execution_count": null,
   "id": "31af46a8-ceee-4ccd-8964-fbc9698f43b3",
   "metadata": {},
   "outputs": [],
   "source": [
    "SKIPPABLE = [\n",
    "    node.id for node in bd.Database('dummy-database')\n",
    "]\n",
    "\n",
    "def filter_function(database_id: int) -> bool:\n",
    "    return database_id in SKIPPABLE"
   ]
  },
  {
   "cell_type": "code",
   "execution_count": null,
   "id": "d3d56515-377a-4086-921f-c8fd7efca39f",
   "metadata": {
    "tags": []
   },
   "outputs": [
    {
     "name": "stdout",
     "output_type": "stream",
     "text": [
      "Starting graph traversal\n",
      "Calculation count: 12\n"
     ]
    }
   ],
   "source": [
    "eelca = EdgeExtracter(lca, edge_filter_function=filter_function)"
   ]
  },
  {
   "cell_type": "code",
   "execution_count": null,
   "id": "71a4206c-130e-4e91-b189-6b3c9cd11eeb",
   "metadata": {
    "tags": []
   },
   "outputs": [],
   "source": [
    "timeline = eelca.build_edge_timeline()"
   ]
  },
  {
   "cell_type": "code",
   "execution_count": null,
   "id": "a40392ca",
   "metadata": {},
   "outputs": [],
   "source": [
    "from datetime import datetime\n",
    "dates_list = [\n",
    "        datetime.strptime(\"2019\", \"%Y\"),\n",
    "        datetime.strptime(\"2023\", \"%Y\"),\n",
    "    ]"
   ]
  },
  {
   "cell_type": "code",
   "execution_count": null,
   "id": "7b5649e3",
   "metadata": {},
   "outputs": [],
   "source": [
    "from utils import create_grouped_edge_dataframe, get_datapackage_from_edge_timeline\n",
    "timeline_df = create_grouped_edge_dataframe(timeline, dates_list, \"linear\")"
   ]
  },
  {
   "cell_type": "code",
   "execution_count": null,
   "id": "6855aa93",
   "metadata": {},
   "outputs": [],
   "source": [
    "database_date_dict = {\n",
    "            2019: 'dummy-database',\n",
    "            2023: 'dummy-database-2',\n",
    "        }"
   ]
  },
  {
   "cell_type": "code",
   "execution_count": null,
   "id": "d7d48585",
   "metadata": {},
   "outputs": [
    {
     "name": "stdout",
     "output_type": "stream",
     "text": [
      "2023 dummy-database-2 Drive an electric car\n",
      "129 138 131 138002023\n"
     ]
    }
   ],
   "source": [
    "dp = get_datapackage_from_edge_timeline(timeline_df, database_date_dict)"
   ]
  },
  {
   "cell_type": "code",
   "execution_count": null,
   "id": "cdbdc9cb",
   "metadata": {},
   "outputs": [],
   "source": [
    "demand = {('temporalis-example', 'EOL'):1}\n",
    "gwp = ('GWP', 'example')"
   ]
  },
  {
   "cell_type": "code",
   "execution_count": null,
   "id": "80378c0a",
   "metadata": {},
   "outputs": [],
   "source": [
    "fu, data_objs, remapping = bd.prepare_lca_inputs(demand=demand, method=gwp)"
   ]
  },
  {
   "cell_type": "code",
   "execution_count": 18,
   "id": "672597c0",
   "metadata": {},
   "outputs": [],
   "source": [
    "lca = bc.LCA(fu, data_objs = data_objs + [dp], remapping_dicts=remapping)\n",
    "lca.lci()\n",
    "lca.lcia()\n",
    "lca.score"
   ]
  },
  {
   "cell_type": "code",
   "execution_count": 48,
   "id": "63d05bf2",
   "metadata": {},
   "outputs": [],
   "source": [
    "lca.load_lci_data(nonsquare_ok=True)"
   ]
  },
  {
   "cell_type": "code",
   "execution_count": 57,
   "id": "bd8c462f",
   "metadata": {},
   "outputs": [
    {
     "data": {
      "text/plain": [
       "{(0, 129),\n",
       " (1, 130),\n",
       " (2, 133),\n",
       " (3, 134),\n",
       " (4, 135),\n",
       " (5, 136),\n",
       " (6, 137),\n",
       " (7, 138),\n",
       " (8, 139),\n",
       " (9, 140),\n",
       " (10, 141),\n",
       " (11, 142),\n",
       " (12, 143),\n",
       " (13, 144),\n",
       " (14, 1002023),\n",
       " (15, 129002023),\n",
       " (16, 134002023),\n",
       " (17, 135002023),\n",
       " (18, 136002023),\n",
       " (19, 137002023),\n",
       " (20, 138002022),\n",
       " (21, 138002023),\n",
       " (22, 139002019),\n",
       " (23, 139002022),\n",
       " (24, 139002023),\n",
       " (25, 140002019),\n",
       " (26, 140002022),\n",
       " (27, 140002023),\n",
       " (28, 141002023),\n",
       " (29, 142002023),\n",
       " (30, 143002023),\n",
       " (31, 144002019),\n",
       " (32, 144002022),\n",
       " (33, 144002023)}"
      ]
     },
     "execution_count": 57,
     "metadata": {},
     "output_type": "execute_result"
    }
   ],
   "source": [
    "set(lca.dicts.activity.reversed.items())"
   ]
  },
  {
   "cell_type": "code",
   "execution_count": 59,
   "id": "c5e5e00a",
   "metadata": {},
   "outputs": [
    {
     "data": {
      "text/plain": [
       "'dummy-database-2'"
      ]
     },
     "execution_count": 59,
     "metadata": {},
     "output_type": "execute_result"
    }
   ],
   "source": [
    "bd.get_node(id=131)['database']"
   ]
  },
  {
   "cell_type": "code",
   "execution_count": 53,
   "id": "24c2d490",
   "metadata": {},
   "outputs": [
    {
     "data": {
      "text/plain": [
       "{(0, 129),\n",
       " (1, 130),\n",
       " (2, 131),\n",
       " (3, 133),\n",
       " (4, 134),\n",
       " (5, 135),\n",
       " (6, 136),\n",
       " (7, 137),\n",
       " (8, 138),\n",
       " (9, 139),\n",
       " (10, 140),\n",
       " (11, 141),\n",
       " (12, 142),\n",
       " (13, 143),\n",
       " (14, 144),\n",
       " (15, 1002023),\n",
       " (16, 129002023),\n",
       " (17, 134002023),\n",
       " (18, 135002023),\n",
       " (19, 136002023),\n",
       " (20, 137002023),\n",
       " (21, 138002022),\n",
       " (22, 138002023),\n",
       " (23, 139002019),\n",
       " (24, 139002022),\n",
       " (25, 139002023),\n",
       " (26, 140002019),\n",
       " (27, 140002022),\n",
       " (28, 140002023),\n",
       " (29, 141002023),\n",
       " (30, 142002023),\n",
       " (31, 143002023),\n",
       " (32, 144002019),\n",
       " (33, 144002022),\n",
       " (34, 144002023)}"
      ]
     },
     "execution_count": 53,
     "metadata": {},
     "output_type": "execute_result"
    }
   ],
   "source": [
    "prods = set(lca.dicts.product.reversed.items())\n",
    "prods"
   ]
  },
  {
   "cell_type": "code",
   "execution_count": 54,
   "id": "6f896d58",
   "metadata": {},
   "outputs": [
    {
     "data": {
      "text/plain": [
       "{(2, 133),\n",
       " (3, 134),\n",
       " (4, 135),\n",
       " (5, 136),\n",
       " (6, 137),\n",
       " (7, 138),\n",
       " (8, 139),\n",
       " (9, 140),\n",
       " (10, 141),\n",
       " (11, 142),\n",
       " (12, 143),\n",
       " (13, 144),\n",
       " (14, 1002023),\n",
       " (15, 129002023),\n",
       " (16, 134002023),\n",
       " (17, 135002023),\n",
       " (18, 136002023),\n",
       " (19, 137002023),\n",
       " (20, 138002022),\n",
       " (21, 138002023),\n",
       " (22, 139002019),\n",
       " (23, 139002022),\n",
       " (24, 139002023),\n",
       " (25, 140002019),\n",
       " (26, 140002022),\n",
       " (27, 140002023),\n",
       " (28, 141002023),\n",
       " (29, 142002023),\n",
       " (30, 143002023),\n",
       " (31, 144002019),\n",
       " (32, 144002022),\n",
       " (33, 144002023)}"
      ]
     },
     "execution_count": 54,
     "metadata": {},
     "output_type": "execute_result"
    }
   ],
   "source": [
    "set.difference(acts, prods)"
   ]
  },
  {
   "cell_type": "code",
   "execution_count": null,
   "id": "3a087606",
   "metadata": {},
   "outputs": [
    {
     "data": {
      "text/plain": [
       "array([[ 1.        ,  0.        ,  0.        ,  0.        ,  0.        ,\n",
       "         0.        ,  0.        ,  0.        ,  0.        ,  0.        ,\n",
       "         0.        ,  0.        ,  0.        ,  0.        ,  0.        ],\n",
       "       [-3.        ,  1.        ,  0.        ,  0.        ,  0.        ,\n",
       "         0.        ,  0.        ,  0.        ,  0.        ,  0.        ,\n",
       "         0.        ,  0.        ,  0.        ,  0.        ,  0.        ],\n",
       "       [ 0.        ,  0.        ,  0.        ,  0.        ,  0.        ,\n",
       "         0.        ,  0.        ,  0.        ,  0.        ,  0.        ,\n",
       "         0.        ,  0.        ,  0.        ,  0.        , -4.        ],\n",
       "       [ 0.        ,  0.        ,  1.        ,  0.        ,  0.        ,\n",
       "         0.        ,  0.        ,  0.        ,  0.        ,  0.        ,\n",
       "         0.        ,  0.        ,  0.        ,  0.        ,  0.        ],\n",
       "       [ 0.        ,  0.        , -5.        ,  1.        ,  0.        ,\n",
       "         0.        ,  0.        ,  0.        ,  0.        ,  0.        ,\n",
       "         0.        ,  0.        ,  0.        ,  0.        ,  0.        ],\n",
       "       [ 0.        ,  0.        ,  0.        , -1.        ,  1.        ,\n",
       "         0.        ,  0.        ,  0.        ,  0.        ,  0.        ,\n",
       "         0.        ,  0.        ,  0.        ,  0.        ,  0.        ],\n",
       "       [ 0.        ,  0.        ,  0.        ,  0.        , -1.        ,\n",
       "         1.        ,  0.        ,  0.        ,  0.        ,  0.        ,\n",
       "         0.        ,  0.        ,  0.        ,  0.        ,  0.        ],\n",
       "       [ 0.        ,  0.        ,  0.        ,  0.        ,  0.        ,\n",
       "        -1.        ,  1.        ,  0.        ,  0.        ,  0.        ,\n",
       "         0.        ,  0.        ,  0.        ,  0.        ,  0.        ],\n",
       "       [ 0.        ,  0.        ,  0.        ,  0.        ,  0.        ,\n",
       "         0.        , -1.        ,  1.        ,  0.        ,  0.        ,\n",
       "         0.        ,  0.        ,  0.        ,  0.        ,  0.        ],\n",
       "       [ 0.        ,  0.        ,  0.        ,  0.        ,  0.        ,\n",
       "         0.        ,  0.        , -1.20000005,  1.        ,  0.        ,\n",
       "         0.        ,  0.        ,  0.        ,  0.        ,  0.        ],\n",
       "       [ 0.        ,  0.        ,  0.        ,  0.        ,  0.        ,\n",
       "         0.        ,  0.        ,  0.        , -1.5       ,  1.        ,\n",
       "         0.        ,  0.        ,  0.        ,  0.        ,  0.        ],\n",
       "       [ 0.        ,  0.        ,  0.        , -0.2       ,  0.        ,\n",
       "         0.        ,  0.        ,  0.        ,  0.        ,  0.        ,\n",
       "         1.        ,  0.        ,  0.        ,  0.        ,  0.        ],\n",
       "       [ 0.        ,  0.        ,  0.        , -0.80000001,  0.        ,\n",
       "         0.        ,  0.        ,  0.        ,  0.        ,  0.        ,\n",
       "         0.        ,  1.        ,  0.        ,  0.        ,  0.        ],\n",
       "       [ 0.        ,  0.        ,  0.        ,  0.        ,  0.        ,\n",
       "         0.        ,  0.        ,  0.        ,  0.        ,  0.        ,\n",
       "         0.        ,  1.        ,  1.        ,  0.        ,  0.        ],\n",
       "       [ 0.        ,  0.        ,  0.        ,  0.        ,  0.        ,\n",
       "         0.        ,  0.        ,  0.        ,  0.        ,  1.        ,\n",
       "         0.        ,  0.        ,  0.        ,  1.        ,  0.        ],\n",
       "       [ 0.        ,  0.        ,  0.        ,  0.        ,  0.        ,\n",
       "         0.        ,  0.        ,  0.        ,  0.        ,  0.        ,\n",
       "         0.        ,  0.        ,  0.        ,  0.        ,  1.        ]])"
      ]
     },
     "metadata": {},
     "output_type": "display_data"
    }
   ],
   "source": [
    "lca.technosphere_matrix.toarray()"
   ]
  },
  {
   "cell_type": "code",
   "execution_count": null,
   "id": "256cf6e5",
   "metadata": {},
   "outputs": [],
   "source": []
  },
  {
   "cell_type": "code",
   "execution_count": null,
   "id": "51eae1e5",
   "metadata": {},
   "outputs": [],
   "source": []
  },
  {
   "cell_type": "markdown",
   "id": "3b2f3ce3",
   "metadata": {},
   "source": [
    "# Static Case"
   ]
  },
  {
   "cell_type": "code",
   "execution_count": 24,
   "id": "eb76d405",
   "metadata": {},
   "outputs": [
    {
     "data": {
      "text/plain": [
       "0.0"
      ]
     },
     "execution_count": 24,
     "metadata": {},
     "output_type": "execute_result"
    }
   ],
   "source": [
    "lca = bc.LCA({('temporalis-example', 'EOL'): 1}, (\"GWP\", \"example\"))\n",
    "lca.lci()\n",
    "lca.lcia()\n",
    "lca.score"
   ]
  },
  {
   "cell_type": "code",
   "execution_count": 20,
   "id": "78c73f89",
   "metadata": {},
   "outputs": [
    {
     "name": "stdout",
     "output_type": "stream",
     "text": [
      "['carbon dioxide' (None, None, None), 'methane' (None, None, None), 'Drive an electric car' (None, None, None), 'Drive an electric car 3' (None, None, None), 'Drive an electric car 3' (None, None, None), 'Drive an electric car' (None, None, None), 'Avoided impact - waste' (None, None, None), 'EOL' (None, None, None), 'Thinning' (None, None, None), 'Sawmill' (None, None, None), 'Production' (None, None, None), 'Waste' (None, None, None), 'Forest' (None, None, None), 'Avoided impact - thinnings' (None, None, None), 'Landfill' (None, None, None), 'Functional Unit' (None, None, None), 'Use' (None, None, None), 'Production' (None, None, None)]\n",
      "18\n"
     ]
    }
   ],
   "source": [
    "all_acts = [act for db in bd.databases for act in bd.Database(db)]\n",
    "print(all_acts)\n",
    "print(len(all_acts))"
   ]
  },
  {
   "cell_type": "code",
   "execution_count": null,
   "id": "18666827",
   "metadata": {},
   "outputs": [],
   "source": []
  }
 ],
 "metadata": {
  "kernelspec": {
   "display_name": "Python 3 (ipykernel)",
   "language": "python",
   "name": "python3"
  },
  "language_info": {
   "codemirror_mode": {
    "name": "ipython",
    "version": 3
   },
   "file_extension": ".py",
   "mimetype": "text/x-python",
   "name": "python",
   "nbconvert_exporter": "python",
   "pygments_lexer": "ipython3",
   "version": "3.10.12"
  }
 },
 "nbformat": 4,
 "nbformat_minor": 5
}
