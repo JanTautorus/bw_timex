{
 "cells": [
  {
   "cell_type": "code",
   "execution_count": 1,
   "id": "d8cd7a3f",
   "metadata": {
    "tags": []
   },
   "outputs": [],
   "source": [
    "from bw_temporalis import easy_timedelta_distribution, easy_datetime_distribution, TemporalisLCA, Timeline, TemporalDistribution\n",
    "from bw_temporalis.lcia import characterize_methane, characterize_co2\n",
    "import bw2data as bd\n",
    "import bw2calc as bc\n",
    "import bw_graph_tools as graph\n",
    "import numpy as np\n",
    "import pandas as pd"
   ]
  },
  {
   "cell_type": "code",
   "execution_count": 2,
   "id": "d00df98a-fcae-4160-a30f-54aed29c1f19",
   "metadata": {
    "editable": true,
    "slideshow": {
     "slide_type": ""
    },
    "tags": []
   },
   "outputs": [],
   "source": [
    "bd.projects.set_current(\"📊📈💎🕤🗓️\")"
   ]
  },
  {
   "cell_type": "code",
   "execution_count": 3,
   "id": "79a523bc",
   "metadata": {
    "tags": []
   },
   "outputs": [
    {
     "name": "stdout",
     "output_type": "stream",
     "text": [
      "Not able to determine geocollections for all datasets. This database is not ready for regionalization.\n"
     ]
    },
    {
     "name": "stderr",
     "output_type": "stream",
     "text": [
      "100%|██████████████████████████████████████████████████████████████████████████████████████████| 14/14 [00:00<?, ?it/s]"
     ]
    },
    {
     "name": "stdout",
     "output_type": "stream",
     "text": [
      "Vacuuming database \n"
     ]
    },
    {
     "name": "stderr",
     "output_type": "stream",
     "text": [
      "\n"
     ]
    }
   ],
   "source": [
    "bd.Database('temporalis-example').write({\n",
    "    ('temporalis-example', \"CO2\"): {\n",
    "        \"type\": \"emission\",\n",
    "        \"name\": \"carbon dioxide\",\n",
    "        \"temporalis code\": \"co2\",\n",
    "    },\n",
    "    ('temporalis-example', \"CH4\"): {\n",
    "        \"type\": \"emission\",\n",
    "        \"name\": \"methane\",\n",
    "        \"temporalis code\": \"ch4\",\n",
    "    },\n",
    "    ('temporalis-example', 'Functional Unit'): {\n",
    "        'name': 'Functional Unit',\n",
    "        'exchanges': [\n",
    "            {\n",
    "                'amount': 5,\n",
    "                'input': ('temporalis-example', 'EOL'),\n",
    "                'temporal_distribution': easy_timedelta_distribution(\n",
    "                    start=0,\n",
    "                    end=4, # Range includes both start and end\n",
    "                    resolution=\"Y\",  # M for months, Y for years, etc.\n",
    "                    steps=5,\n",
    "                ),\n",
    "                'type': 'technosphere'\n",
    "            },\n",
    "        ],\n",
    "    },\n",
    "    ('temporalis-example', 'EOL'): {\n",
    "        'exchanges': [\n",
    "            {\n",
    "                'amount': 0.8,\n",
    "                'input': ('temporalis-example', 'Waste'),\n",
    "                'type': 'technosphere'\n",
    "            },\n",
    "            {\n",
    "                'amount': 0.2,\n",
    "                'input': ('temporalis-example', 'Landfill'),\n",
    "                'type': 'technosphere'\n",
    "            },\n",
    "            {\n",
    "                'amount': 1,\n",
    "                'input': ('temporalis-example', 'Use'),\n",
    "                'type': 'technosphere'\n",
    "            },\n",
    "        ],\n",
    "        'name': 'EOL',\n",
    "        'type': 'process'\n",
    "    },\n",
    "    ('temporalis-example', 'Use'): {\n",
    "        'exchanges': [\n",
    "            {\n",
    "                'amount': 1,\n",
    "                'input': ('temporalis-example', 'Production'),\n",
    "                'temporal_distribution': TemporalDistribution(\n",
    "                    np.array([-4], dtype='timedelta64[M]'),\n",
    "                    np.array([1.0])\n",
    "                ),\n",
    "                'type': 'technosphere'\n",
    "            },\n",
    "        ],\n",
    "        'name': 'Use',\n",
    "    },\n",
    "    ('temporalis-example', 'Production'): {\n",
    "        'exchanges': [\n",
    "            {\n",
    "                'amount': 1,\n",
    "                'input': ('temporalis-example', 'Transport'),\n",
    "                'temporal_distribution': TemporalDistribution(\n",
    "                    np.array([200],dtype='timedelta64[D]'),\n",
    "                    np.array([1.0])\n",
    "                ),\n",
    "                'type': 'technosphere'\n",
    "            },\n",
    "        ],\n",
    "        'name': 'Production',\n",
    "        'type': 'process'\n",
    "    },\n",
    "    ('temporalis-example', 'Transport'): {\n",
    "        'exchanges': [\n",
    "            {\n",
    "                'amount': 1,\n",
    "                'input': ('temporalis-example', 'Sawmill'),\n",
    "                'type': 'technosphere'\n",
    "            },\n",
    "            {\n",
    "                'amount': 0.1,\n",
    "                'input': ('temporalis-example', 'CO2'),\n",
    "                'type': 'biosphere'\n",
    "            },\n",
    "        ],\n",
    "        'name': 'Production',\n",
    "        'type': 'process'\n",
    "    },\n",
    "    ('temporalis-example', 'Sawmill'): {\n",
    "        'exchanges': [\n",
    "            {\n",
    "                'amount': 1.2,\n",
    "                'input': ('temporalis-example', 'Forest'),\n",
    "                'temporal_distribution': TemporalDistribution(\n",
    "                    np.array([-14], dtype='timedelta64[M]'),\n",
    "                    np.array([1.0])\n",
    "                ),\n",
    "                'type': 'technosphere'\n",
    "            },\n",
    "            {\n",
    "                'amount': 0.1,\n",
    "                'input': ('temporalis-example', 'CO2'),\n",
    "                'type': 'biosphere'\n",
    "            },\n",
    "        ],\n",
    "        'name': 'Sawmill',\n",
    "        'type': 'process'\n",
    "    },\n",
    "    ('temporalis-example', 'Forest'): {\n",
    "        'exchanges': [\n",
    "            {\n",
    "                'amount': -.1 * 6,\n",
    "                'input': ('temporalis-example', 'CO2'),\n",
    "                'temporal_distribution': TemporalDistribution(\n",
    "                    np.array([-4, -3, 0, 1, 2, 5], dtype='timedelta64[Y]'),\n",
    "                    np.ones(6) * (1/6)\n",
    "                ),\n",
    "                'type': 'biosphere'\n",
    "            },\n",
    "            {\n",
    "                'amount': 1.5,\n",
    "                'input': ('temporalis-example', 'Thinning'),\n",
    "                'temporal_distribution': TemporalDistribution(\n",
    "                    np.array([-3, 0, 1], dtype='timedelta64[Y]'),\n",
    "                    np.ones(3) * 1/3\n",
    "                ),\n",
    "                'type': 'technosphere'\n",
    "            },\n",
    "        ],\n",
    "        'name': 'Forest',\n",
    "    },\n",
    "    ('temporalis-example', 'Thinning'): {\n",
    "        'exchanges': [\n",
    "            {\n",
    "                'amount': 1,\n",
    "                'input': ('temporalis-example', 'Thinning'),\n",
    "                'type': 'production'\n",
    "            },\n",
    "            {\n",
    "                'amount': 1,\n",
    "                'input': ('temporalis-example', 'Avoided impact - thinnings'),\n",
    "                'type': 'production'\n",
    "            },\n",
    "        ],\n",
    "        'name': 'Thinning',\n",
    "        'type': 'process'\n",
    "    },\n",
    "    ('temporalis-example', 'Landfill'): {\n",
    "        'exchanges': [\n",
    "            {\n",
    "                'amount': 0.1,\n",
    "                'input': ('temporalis-example', 'CH4'),\n",
    "                'temporal_distribution': TemporalDistribution(\n",
    "                    np.array([10, 20, 60, 100], dtype='timedelta64[M]'),\n",
    "                    np.ones(4) * 1/4\n",
    "                ),\n",
    "                'type': 'biosphere'\n",
    "            },\n",
    "        ],\n",
    "        'name': 'Landfill',\n",
    "        'type': 'process'\n",
    "    },\n",
    "    ('temporalis-example', 'Waste'): {\n",
    "        'exchanges': [\n",
    "            {\n",
    "                'amount': 1,\n",
    "                'input': ('temporalis-example', 'Waste'),\n",
    "                'type': 'production'\n",
    "            },\n",
    "            {\n",
    "                'amount': 1,\n",
    "                'input': ('temporalis-example', 'Avoided impact - waste'),\n",
    "                'type': 'production'\n",
    "            },\n",
    "        ],\n",
    "        'name': 'Waste',\n",
    "        'type': 'process'\n",
    "    },\n",
    "    ('temporalis-example', 'Avoided impact - waste'): {\n",
    "        'exchanges': [\n",
    "            {\n",
    "                'amount': -0.4,\n",
    "                'input': ('temporalis-example', 'CO2'),\n",
    "                'type': 'biosphere'\n",
    "            },\n",
    "            {\n",
    "                'amount': 1,\n",
    "                'input': ('temporalis-example', 'Avoided impact - waste'),\n",
    "                'type': 'production'\n",
    "            },\n",
    "        ],\n",
    "        'name': 'Avoided impact - waste',\n",
    "        'type': 'process'\n",
    "    },\n",
    "    ('temporalis-example', 'Avoided impact - thinnings'): {\n",
    "        'exchanges': [\n",
    "            {\n",
    "                'amount': -0.3,\n",
    "                'input': ('temporalis-example', 'CO2'),\n",
    "                'type': 'biosphere'\n",
    "            },\n",
    "            {\n",
    "                'amount': 1,\n",
    "                'input': ('temporalis-example', 'Avoided impact - thinnings'),\n",
    "                'type': 'production'\n",
    "            },\n",
    "        ],\n",
    "        'name': 'Avoided impact - thinnings',\n",
    "        'type': 'process'\n",
    "    }\n",
    "})"
   ]
  },
  {
   "cell_type": "code",
   "execution_count": 4,
   "id": "8e02b150-0249-4884-90ad-f129c2c13eb2",
   "metadata": {
    "tags": []
   },
   "outputs": [],
   "source": [
    "bd.Method((\"GWP\", \"example\")).write([\n",
    "    (('temporalis-example', \"CO2\"), 1),\n",
    "    (('temporalis-example', \"CH4\"), 25),\n",
    "])"
   ]
  },
  {
   "cell_type": "code",
   "execution_count": 5,
   "id": "cca6b8f2-12a3-43f9-8be2-c6a898268adf",
   "metadata": {
    "tags": []
   },
   "outputs": [],
   "source": [
    "lca = bc.LCA({('temporalis-example', 'EOL'): 1}, (\"GWP\", \"example\"))\n",
    "lca.lci()\n",
    "lca.lcia()"
   ]
  },
  {
   "cell_type": "markdown",
   "id": "fef29cd7-aad5-4b5b-9a38-4bd6f796299b",
   "metadata": {},
   "source": [
    "# Custom `EdgeExtractor` class"
   ]
  },
  {
   "cell_type": "code",
   "execution_count": 6,
   "id": "d77883c7-1e2d-46f5-b12c-25c7f6be7d6e",
   "metadata": {},
   "outputs": [],
   "source": [
    "from dataclasses import dataclass\n",
    "from heapq import heappop, heappush\n",
    "from typing import Callable, List\n",
    "\n",
    "from bw_temporalis import TemporalisLCA, TemporalDistribution\n",
    "\n",
    "\n",
    "@dataclass\n",
    "class Edge:\n",
    "    \"\"\"\n",
    "    Class for storing a temporal edge with source and target.\n",
    "\n",
    "    Leaf edges link to a source process which is a leaf in\n",
    "    our graph traversal (either through cutoff or a filter\n",
    "    function).\n",
    "\n",
    "    Attributes\n",
    "    ----------\n",
    "    distribution : TemporalDistribution\n",
    "    leaf : bool\n",
    "    consumer : int\n",
    "    producer : int\n",
    "\n",
    "    \"\"\"\n",
    "\n",
    "    distribution: TemporalDistribution\n",
    "    leaf: bool\n",
    "    consumer: int\n",
    "    producer: int\n",
    "\n",
    "\n",
    "class EdgeExtracter(TemporalisLCA):\n",
    "    def __init__(self, *args, edge_filter_function: Callable = None, **kwargs):\n",
    "        super().__init__(*args, **kwargs)\n",
    "        if edge_filter_function:\n",
    "            self.edge_ff = edge_filter_function\n",
    "        else:\n",
    "            self.edge_ff = lambda x: False\n",
    "\n",
    "    def build_edge_timeline(self, node_timeline: bool | None = False) -> List:\n",
    "        heap = []\n",
    "        timeline = []\n",
    "\n",
    "        for edge in self.edge_mapping[self.unique_id]:\n",
    "            node = self.nodes[edge.producer_unique_id]\n",
    "            heappush(\n",
    "                heap,\n",
    "                (\n",
    "                    1 / node.cumulative_score,\n",
    "                    self.t0 * edge.amount,\n",
    "                    node,\n",
    "                ),\n",
    "            )\n",
    "            timeline.append(\n",
    "                Edge(\n",
    "                    distribution=self.t0 * edge.amount,\n",
    "                    leaf=False,\n",
    "                    consumer=self.unique_id,\n",
    "                    producer=node.activity_datapackage_id,\n",
    "                )\n",
    "            )\n",
    "\n",
    "        while heap:\n",
    "            _, td, node = heappop(heap)\n",
    "\n",
    "            for edge in self.edge_mapping[node.unique_id]:\n",
    "                row_id = self.nodes[edge.producer_unique_id].activity_datapackage_id\n",
    "                col_id = node.activity_datapackage_id\n",
    "                exchange = self.get_technosphere_exchange(\n",
    "                    input_id=row_id,\n",
    "                    output_id=col_id,\n",
    "                )\n",
    "                value = (\n",
    "                    self._exchange_value(\n",
    "                        exchange=exchange,\n",
    "                        row_id=row_id,\n",
    "                        col_id=col_id,\n",
    "                        matrix_label=\"technosphere_matrix\",\n",
    "                    )\n",
    "                    / node.reference_product_production_amount\n",
    "                )\n",
    "                producer = self.nodes[edge.producer_unique_id]\n",
    "                leaf = self.edge_ff(row_id)\n",
    "\n",
    "                distribution = (td * value).simplify()\n",
    "                timeline.append(\n",
    "                    Edge(\n",
    "                        distribution=distribution,\n",
    "                        leaf=leaf,\n",
    "                        consumer=node.activity_datapackage_id,\n",
    "                        producer=producer.activity_datapackage_id,\n",
    "                    )\n",
    "                )\n",
    "                if not leaf:\n",
    "                    heappush(\n",
    "                        heap,\n",
    "                        (\n",
    "                            1 / node.cumulative_score,\n",
    "                            distribution,\n",
    "                            producer,\n",
    "                        ),\n",
    "                    )\n",
    "        return timeline"
   ]
  },
  {
   "cell_type": "code",
   "execution_count": 7,
   "id": "31af46a8-ceee-4ccd-8964-fbc9698f43b3",
   "metadata": {},
   "outputs": [],
   "source": [
    "SKIPPABLE = [\n",
    "    bd.get_node(code=code).id \n",
    "    for code in ('Avoided impact - waste', 'Landfill', 'Thinning')\n",
    "]\n",
    "\n",
    "def filter_function(database_id: int) -> bool:\n",
    "    return database_id in SKIPPABLE"
   ]
  },
  {
   "cell_type": "code",
   "execution_count": 8,
   "id": "d3d56515-377a-4086-921f-c8fd7efca39f",
   "metadata": {
    "tags": []
   },
   "outputs": [
    {
     "name": "stdout",
     "output_type": "stream",
     "text": [
      "Starting graph traversal\n",
      "Calculation count: 10\n"
     ]
    }
   ],
   "source": [
    "eelca = EdgeExtracter(lca, edge_filter_function=filter_function)"
   ]
  },
  {
   "cell_type": "code",
   "execution_count": 9,
   "id": "71a4206c-130e-4e91-b189-6b3c9cd11eeb",
   "metadata": {
    "tags": []
   },
   "outputs": [],
   "source": [
    "tl = eelca.build_edge_timeline()"
   ]
  },
  {
   "cell_type": "code",
   "execution_count": 10,
   "id": "3798b53b-7834-444c-bce5-edb1dbf6b95e",
   "metadata": {},
   "outputs": [
    {
     "data": {
      "text/plain": [
       "[Edge(distribution=TemporalDistribution instance with 1 values and total: 1, leaf=False, consumer=-1, producer=4),\n",
       " Edge(distribution=TemporalDistribution instance with 1 values and total: 1, leaf=False, consumer=4, producer=5),\n",
       " Edge(distribution=TemporalDistribution instance with 1 values and total: 0.2, leaf=True, consumer=4, producer=11),\n",
       " Edge(distribution=TemporalDistribution instance with 1 values and total: 0.8, leaf=False, consumer=4, producer=12),\n",
       " Edge(distribution=TemporalDistribution instance with 1 values and total: 0.8, leaf=True, consumer=12, producer=13),\n",
       " Edge(distribution=TemporalDistribution instance with 1 values and total: 1, leaf=False, consumer=5, producer=6),\n",
       " Edge(distribution=TemporalDistribution instance with 1 values and total: 1, leaf=False, consumer=6, producer=7),\n",
       " Edge(distribution=TemporalDistribution instance with 1 values and total: 1, leaf=False, consumer=7, producer=8),\n",
       " Edge(distribution=TemporalDistribution instance with 1 values and total: 1.2, leaf=False, consumer=8, producer=9),\n",
       " Edge(distribution=TemporalDistribution instance with 3 values and total: 1.8, leaf=True, consumer=9, producer=10)]"
      ]
     },
     "execution_count": 10,
     "metadata": {},
     "output_type": "execute_result"
    }
   ],
   "source": [
    "tl"
   ]
  },
  {
   "cell_type": "code",
   "execution_count": 58,
   "id": "2cd6661e-dbb5-4148-b779-5d238df376cc",
   "metadata": {
    "tags": []
   },
   "outputs": [
    {
     "name": "stdout",
     "output_type": "stream",
     "text": [
      "    year  producer  consumer amount  leaf\n",
      "0   2019        10         9    0.6     1\n",
      "1   2022         9         8    1.2     0\n",
      "2   2022        10         9    0.6     1\n",
      "3   2023         4        -1    1.0     0\n",
      "4   2023         5         4    1.0     0\n",
      "5   2023         6         5    1.0     0\n",
      "6   2023         7         6    1.0     0\n",
      "7   2023         8         7    1.0     0\n",
      "8   2023        10         9    0.6     1\n",
      "9   2023        11         4    0.2     1\n",
      "10  2023        12         4    0.8     0\n",
      "11  2023        13        12    0.8     1\n"
     ]
    }
   ],
   "source": [
    "#group flows from same producer to consumer in the same year\n",
    "\n",
    "edges_dict_list = [{\"datetime\": edge.distribution.date, 'amount': edge.distribution.amount, 'producer': edge.producer, 'consumer': edge.consumer, \"leaf\": edge.leaf} for edge in tl]\n",
    "edges_dataframe = pd.DataFrame(edges_dict_list)\n",
    "edges_dataframe = edges_dataframe.explode(['datetime', \"amount\"])\n",
    "edges_dataframe['year'] = edges_dataframe['datetime'].apply(lambda x: x.year)\n",
    "edge_dataframe = edges_dataframe.loc[:, \"amount\":].groupby(['year', 'producer', 'consumer']).sum().reset_index()\n",
    "print(edge_dataframe) \n"
   ]
  },
  {
   "cell_type": "markdown",
   "id": "8b700960-a790-439a-b381-14bf89d19e39",
   "metadata": {},
   "source": [
    "Compare with basic timeline:"
   ]
  },
  {
   "cell_type": "code",
   "execution_count": 11,
   "id": "37b8ab2a-550c-4923-a317-cf23d5acd151",
   "metadata": {
    "tags": []
   },
   "outputs": [
    {
     "name": "stdout",
     "output_type": "stream",
     "text": [
      "Starting graph traversal\n",
      "Calculation count: 10\n"
     ]
    },
    {
     "data": {
      "text/plain": [
       "[FlowTD(distribution=TemporalDistribution instance with 4 values and total: 0.02, flow=2, activity=11),\n",
       " FlowTD(distribution=TemporalDistribution instance with 1 values and total: -0.32, flow=1, activity=13),\n",
       " FlowTD(distribution=TemporalDistribution instance with 1 values and total: 0.1, flow=1, activity=7),\n",
       " FlowTD(distribution=TemporalDistribution instance with 1 values and total: 0.1, flow=1, activity=8),\n",
       " FlowTD(distribution=TemporalDistribution instance with 6 values and total: -0.72, flow=1, activity=9),\n",
       " FlowTD(distribution=TemporalDistribution instance with 3 values and total: -0.54, flow=1, activity=14)]"
      ]
     },
     "execution_count": 11,
     "metadata": {},
     "output_type": "execute_result"
    }
   ],
   "source": [
    "tlca = TemporalisLCA(lca)\n",
    "tl_original = tlca.build_timeline()\n",
    "tl_original.data"
   ]
  }
 ],
 "metadata": {
  "kernelspec": {
   "display_name": "Python 3 (ipykernel)",
   "language": "python",
   "name": "python3"
  },
  "language_info": {
   "codemirror_mode": {
    "name": "ipython",
    "version": 3
   },
   "file_extension": ".py",
   "mimetype": "text/x-python",
   "name": "python",
   "nbconvert_exporter": "python",
   "pygments_lexer": "ipython3",
   "version": "3.10.13"
  }
 },
 "nbformat": 4,
 "nbformat_minor": 5
}
