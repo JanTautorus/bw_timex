{
 "cells": [
  {
   "cell_type": "markdown",
   "metadata": {},
   "source": [
    "## premise dummy background"
   ]
  },
  {
   "cell_type": "markdown",
   "metadata": {},
   "source": [
    "Creating a simple case study, in which background databases contain only the electricity, high voltagey process from WEU, with the supply-chain-wide biosphere flow aggregated at this dataset."
   ]
  },
  {
   "cell_type": "code",
   "execution_count": 48,
   "metadata": {},
   "outputs": [],
   "source": [
    "import sys\n",
    "import os\n",
    "import bw2data as bd\n",
    "import bw2calc as bc\n",
    "import bw2io as bi\n",
    "from bw_temporalis import TemporalDistribution\n",
    "sys.path.append(os.path.realpath('../'))\n",
    "import numpy as np"
   ]
  },
  {
   "cell_type": "code",
   "execution_count": 49,
   "metadata": {},
   "outputs": [
    {
     "name": "stdout",
     "output_type": "stream",
     "text": [
      "Using existing project: bw25_premise_background_v2\n"
     ]
    },
    {
     "data": {
      "text/plain": [
       "Databases dictionary with 5 object(s):\n",
       "\tbiosphere3\n",
       "\tcutoff39\n",
       "\tdb_2020\n",
       "\tdb_2030\n",
       "\tdb_2040"
      ]
     },
     "execution_count": 49,
     "metadata": {},
     "output_type": "execute_result"
    }
   ],
   "source": [
    "PROJECT_NAME = \"bw25_premise_background_v2\"\n",
    "RESET= False\n",
    "\n",
    "\n",
    "if PROJECT_NAME in bd.projects and not RESET: # use existing project\n",
    "    print(\"Using existing project: {}\".format(PROJECT_NAME))\n",
    "    bd.projects.set_current(PROJECT_NAME)\n",
    "    \n",
    "else: # create project from scratch\n",
    "    print(\"Creating new project: {}\".format(PROJECT_NAME))\n",
    "    if PROJECT_NAME in bd.projects:\n",
    "        bd.projects.delete_project(PROJECT_NAME)\n",
    "    bi.backup.restore_project_directory(r'filepath/to/backup/directory') # tar file shared on slack\n",
    "    bd.projects.set_current(PROJECT_NAME)\n",
    "    \n",
    "bd.databases"
   ]
  },
  {
   "cell_type": "code",
   "execution_count": 50,
   "metadata": {},
   "outputs": [],
   "source": [
    "# prospective databases were generated with premise, updating only electricity\n",
    "db_2020 = bd.Database(\"db_2020\")\n",
    "db_2030 = bd.Database(\"db_2030\")\n",
    "db_2040 = bd.Database(\"db_2040\")"
   ]
  },
  {
   "cell_type": "markdown",
   "metadata": {},
   "source": [
    "Select electricity process in dbs"
   ]
  },
  {
   "cell_type": "code",
   "execution_count": 51,
   "metadata": {},
   "outputs": [
    {
     "data": {
      "text/plain": [
       "['market group for electricity, high voltage' (kilowatt hour, WEU, None),\n",
       " 'market group for electricity, high voltage, 20-year period' (kilowatt hour, WEU, None),\n",
       " 'market group for electricity, high voltage, 40-year period' (kilowatt hour, WEU, None),\n",
       " 'market group for electricity, high voltage, 60-year period' (kilowatt hour, WEU, None)]"
      ]
     },
     "execution_count": 51,
     "metadata": {},
     "output_type": "execute_result"
    }
   ],
   "source": [
    "db_2030.search(\"market group for electricity, high voltage WEU\")"
   ]
  },
  {
   "cell_type": "code",
   "execution_count": 52,
   "metadata": {},
   "outputs": [],
   "source": [
    "#selecting Western Europe's electricity market mix as\n",
    "electr_WEU_2020 = [x for x in db_2020 if (x['name'] == 'market group for electricity, high voltage' and \"period\"not in x[\"name\"] and x[\"location\"] == \"WEU\" )][0]\n",
    "electr_WEU_2030 = [x for x in db_2030 if (x['name'] == 'market group for electricity, high voltage' and \"period\"not in x[\"name\"] and x[\"location\"] == \"WEU\")][0]\n",
    "electr_WEU_2040 = [x for x in db_2040 if (x['name'] == 'market group for electricity, high voltage' and \"period\"not in x[\"name\"] and x[\"location\"] == \"WEU\")][0]\n",
    "\n"
   ]
  },
  {
   "cell_type": "code",
   "execution_count": 53,
   "metadata": {},
   "outputs": [],
   "source": [
    "def copy_process_from_background_with_supply_chain_emissions(process_key, db_name, new_process_name, new_process_code):\n",
    "    \n",
    "    \"\"\"\n",
    "    Copy a process from a background database to a new database, adding supply chain emissions from the background database.\n",
    "\n",
    "    \"\"\"\n",
    "    # BW needs a method but doesn't matter which one\n",
    "    CC_method = [m for m in bd.methods if 'IPCC 2021' in str(m) and  'climate change no LT' in str(m) and 'GWP100' in str(m) and 'no LT' in str(m)][0]\n",
    "    lca = bc.LCA({process_key: 1}, method=CC_method)\n",
    "    lca.lci()\n",
    "    inventory = lca.inventory.sum(axis=1) #uncharacterized inventory matrix, summed over columns\n",
    "    inventory = [float(x) for x in inventory] #convert to list of floats\n",
    "\n",
    "    bg_db = bd.Database(db_name)\n",
    "    bg_db.register()\n",
    "\n",
    "    process = bg_db.new_node(\n",
    "                code = new_process_code,\n",
    "                name = new_process_name,\n",
    "                location = bd.get_activity(process_key)[\"location\"],)\n",
    "    process.save()\n",
    "\n",
    "    process[\"reference product\"] = bd.get_activity(process_key)[\"reference product\"]\n",
    "    process.save()\n",
    "\n",
    "    #add production amount\n",
    "    process.new_edge(input=(db_name, new_process_code), amount=1, unit = bd.get_activity(process_key)[\"unit\"], type=\"production\").save() \n",
    "\n",
    "    #add biosphere exchanges\n",
    "    for idx, amount in zip(lca.dicts.biosphere.reversed.values(), inventory):\n",
    "        bio_node=bd.get_node(id=idx)\n",
    "        process.new_edge(input=bio_node, amount=amount, type=\"biosphere\").save()"
   ]
  },
  {
   "cell_type": "code",
   "execution_count": 54,
   "metadata": {},
   "outputs": [],
   "source": [
    "processes = [electr_WEU_2020.key, electr_WEU_2030.key, electr_WEU_2040.key]\n",
    "db_names = [\"bg_2020\", \"bg_2030\", \"bg_2040\"\t] \n",
    "new_process_names = [\"electricity, high voltage\", \"electricity, high voltage\", \"electricity, high voltage\"] #same as reference product\n",
    "new_process_codes = [\"electr\", \"electr\", \"electr\"]"
   ]
  },
  {
   "cell_type": "code",
   "execution_count": 55,
   "metadata": {},
   "outputs": [],
   "source": [
    "#write processes with their supply chain emissions to foreground\n",
    "\n",
    "for proc, db, new_proc_name, new_proc_code in zip(processes, db_names, new_process_names, new_process_codes):\n",
    "    copy_process_from_background_with_supply_chain_emissions(proc, db, new_proc_name, new_proc_code)\n"
   ]
  },
  {
   "cell_type": "code",
   "execution_count": 56,
   "metadata": {},
   "outputs": [
    {
     "name": "stdout",
     "output_type": "stream",
     "text": [
      "'electricity, high voltage' (None, WEU, None) bg_2020\n",
      "('bg_2020', 'electr')\n",
      "electricity, high voltage\n",
      "'electricity, high voltage' (None, WEU, None) bg_2030\n",
      "('bg_2030', 'electr')\n",
      "electricity, high voltage\n",
      "'electricity, high voltage' (None, WEU, None) bg_2040\n",
      "('bg_2040', 'electr')\n",
      "electricity, high voltage\n"
     ]
    }
   ],
   "source": [
    "#check if they are there\n",
    "for db in db_names:\n",
    "    database=bd.Database(db)\n",
    "    for act in database:\n",
    "        print(act, act[\"database\"])\n",
    "        print(act.key)\n",
    "        print(act[\"reference product\"])"
   ]
  },
  {
   "cell_type": "code",
   "execution_count": 57,
   "metadata": {},
   "outputs": [
    {
     "name": "stdout",
     "output_type": "stream",
     "text": [
      "\n",
      " 2020\n",
      "process copy:  0.3457984706911323\n",
      "original process:  0.34579846666257064\n",
      "\n",
      " 2030\n",
      "process copy:  0.08932478391536282\n",
      "original process:  0.08932478248315465\n",
      "\n",
      " 2040\n",
      "process copy:  0.04298181559558537\n",
      "original process:  0.04298181694250643\n"
     ]
    }
   ],
   "source": [
    "#check if scores are the same\n",
    "CC_method = [m for m in bd.methods if 'IPCC 2021' in str(m) and  'climate change no LT' in str(m) and 'GWP100' in str(m) and 'no LT' in str(m)][0]\n",
    "for year, a, b in zip([2020, 2030, 2040],[('bg_2020', 'electr'), ('bg_2030', 'electr'), ('bg_2040', 'electr')],[electr_WEU_2020.key, electr_WEU_2030.key, electr_WEU_2040.key]):\n",
    "    print(\"\\n\", year)\n",
    "    lca = bc.LCA({a: 1}, method=CC_method)\n",
    "    lca.lci()\n",
    "    lca.lcia()\n",
    "    print(\"process copy: \", lca.score)\n",
    "\n",
    "    lca = bc.LCA({b: 1}, method=CC_method)\n",
    "    lca.lci()\n",
    "    lca.lcia()\n",
    "    print(\"original process: \", lca.score)"
   ]
  },
  {
   "attachments": {
    "image.png": {
     "image/png": "[encoded data removed]"
    }
   },
   "cell_type": "markdown",
   "metadata": {},
   "source": [
    "Flow chart of system:<br> <br> ![image.png](attachment:image.png)\n",
    "<br> <br> "
   ]
  },
  {
   "cell_type": "markdown",
   "metadata": {},
   "source": [
    "write foreground db:"
   ]
  },
  {
   "cell_type": "code",
   "execution_count": 59,
   "metadata": {},
   "outputs": [
    {
     "name": "stderr",
     "output_type": "stream",
     "text": [
      "100%|██████████| 2/2 [00:00<00:00, 1978.45it/s]"
     ]
    },
    {
     "name": "stderr",
     "output_type": "stream",
     "text": [
      "\n"
     ]
    },
    {
     "name": "stdout",
     "output_type": "stream",
     "text": [
      "Vacuuming database \n"
     ]
    }
   ],
   "source": [
    "bd.Database('foreground').write({\n",
    "    ('foreground', 'A'): {\n",
    "        'name': 'process A',\n",
    "        \"reference product\": \"a\",\n",
    "        \"location\": \"GLO\",\n",
    "        'exchanges': [\n",
    "            {\n",
    "                'amount': 1,\n",
    "                'type': 'production',\n",
    "                'input': ('foreground', 'A'),\n",
    "            },\n",
    "            {\n",
    "                'amount': 1,\n",
    "                'type': 'technosphere',\n",
    "                'input': ('foreground', 'B'),\n",
    "                'temporal_distribution': TemporalDistribution(\n",
    "                    np.array([1, 11], dtype='timedelta64[Y]'),\n",
    "                    np.array([0.5, 0.5]\n",
    ")),  \n",
    "            },\n",
    "        ]\n",
    "    },\n",
    "    ('foreground', 'B'):\n",
    "    {\n",
    "        \"name\": \"process B\",\n",
    "        \"reference product\": \"b\",\n",
    "        \"location\": \"GLO\",\n",
    "        \"exchanges\": [\n",
    "             {\n",
    "                'amount': 1,\n",
    "                'type': 'technosphere',\n",
    "                'input': ('bg_2020', 'electr'), # market group for electricity, high voltage' (kilowatt hour, WEU, None)\n",
    "                                          }\n",
    "        ]\n",
    "\n",
    "    },\n",
    "})"
   ]
  },
  {
   "cell_type": "code",
   "execution_count": 60,
   "metadata": {},
   "outputs": [
    {
     "name": "stdout",
     "output_type": "stream",
     "text": [
      "'process A' (None, GLO, None) a\n",
      "Exchange: 1 None 'process B' (None, GLO, None) to 'process A' (None, GLO, None)> foreground\n",
      "'process B' (None, GLO, None) b\n",
      "Exchange: 1 None 'electricity, high voltage' (None, WEU, None) to 'process B' (None, GLO, None)> bg_2020\n"
     ]
    }
   ],
   "source": [
    "# checking foreground links\n",
    "for act in bd.Database('foreground'):\n",
    "    print(act, act[\"reference product\"])\n",
    "    for exc in act.technosphere():\n",
    "        print(exc, exc.input[\"database\"])\n",
    "       "
   ]
  },
  {
   "cell_type": "markdown",
   "metadata": {},
   "source": [
    "select method:"
   ]
  },
  {
   "cell_type": "code",
   "execution_count": 61,
   "metadata": {},
   "outputs": [
    {
     "data": {
      "text/plain": [
       "('IPCC 2021 no LT',\n",
       " 'climate change no LT',\n",
       " 'global warming potential (GWP100) no LT')"
      ]
     },
     "execution_count": 61,
     "metadata": {},
     "output_type": "execute_result"
    }
   ],
   "source": [
    "CC_method = [m for m in bd.methods if 'IPCC 2021' in str(m) and  'climate change no LT' in str(m) and 'GWP100' in str(m) and 'no LT' in str(m)][0]\n",
    "CC_method"
   ]
  },
  {
   "cell_type": "markdown",
   "metadata": {},
   "source": [
    "### Standard medusa LCA from here on:"
   ]
  },
  {
   "cell_type": "code",
   "execution_count": 62,
   "metadata": {},
   "outputs": [],
   "source": [
    "from datetime import datetime\n",
    "\n",
    "database_date_dict = {\n",
    "    \"bg_2020\": datetime.strptime(\"2020\", \"%Y\"),\n",
    "    \"bg_2030\": datetime.strptime(\"2030\", \"%Y\"),\n",
    "    \"bg_2040\": datetime.strptime(\"2040\", \"%Y\"),\n",
    "\n",
    "    \"db_2020\": datetime.strptime(\"2020\", \"%Y\"), # all databases need to have a corresponding time\n",
    "    \"db_2030\": datetime.strptime(\"2030\", \"%Y\"),\n",
    "    \"db_2040\": datetime.strptime(\"2040\", \"%Y\"),\n",
    "    \"cutoff39\": datetime.strptime(\"2020\", \"%Y\"),\n",
    "    \n",
    "    \"foreground\": \"dynamic\",  # flag databases that should be temporally distributed with \"dynamic\"\n",
    "}"
   ]
  },
  {
   "cell_type": "code",
   "execution_count": 63,
   "metadata": {},
   "outputs": [
    {
     "data": {
      "text/plain": [
       "93570"
      ]
     },
     "execution_count": 63,
     "metadata": {},
     "output_type": "execute_result"
    }
   ],
   "source": [
    "SKIPPABLE = [node.id for node in bd.Database('db_2020')] + [\n",
    "    node.id for node in bd.Database('db_2030')] + [\n",
    "    node.id for node in bd.Database('db_2040')] + [\n",
    "    node.id for node in bd.Database('cutoff39')\n",
    "    ] \n",
    "\n",
    "def filter_function(database_id: int) -> bool:\n",
    "    return database_id in SKIPPABLE\n",
    "\n",
    "len(SKIPPABLE)"
   ]
  },
  {
   "cell_type": "code",
   "execution_count": 64,
   "metadata": {},
   "outputs": [
    {
     "name": "stdout",
     "output_type": "stream",
     "text": [
      "Static LCA score: 0.3457984706911323\n"
     ]
    }
   ],
   "source": [
    "demand = {(\"foreground\",'A'): 1}\n",
    "slca=bc.LCA(demand,CC_method)\n",
    "slca.lci()\n",
    "slca.lcia()\n",
    "print(f'Static LCA score: {slca.score}')"
   ]
  },
  {
   "cell_type": "code",
   "execution_count": 65,
   "metadata": {},
   "outputs": [
    {
     "name": "stdout",
     "output_type": "stream",
     "text": [
      "Starting graph traversal\n",
      "Calculation count: 2\n"
     ]
    }
   ],
   "source": [
    "from timex_lca import MedusaLCA\n",
    "demand = {('foreground', 'A'): 1}\n",
    "method = CC_method\n",
    "mlca = MedusaLCA(demand, method, None, database_date_dict, max_calc=2) #aborted after 100 min for max_calc = 5000\n"
   ]
  },
  {
   "cell_type": "code",
   "execution_count": 66,
   "metadata": {},
   "outputs": [
    {
     "data": {
      "text/html": [
       "<div>\n",
       "<style scoped>\n",
       "    .dataframe tbody tr th:only-of-type {\n",
       "        vertical-align: middle;\n",
       "    }\n",
       "\n",
       "    .dataframe tbody tr th {\n",
       "        vertical-align: top;\n",
       "    }\n",
       "\n",
       "    .dataframe thead th {\n",
       "        text-align: right;\n",
       "    }\n",
       "</style>\n",
       "<table border=\"1\" class=\"dataframe\">\n",
       "  <thead>\n",
       "    <tr style=\"text-align: right;\">\n",
       "      <th></th>\n",
       "      <th>hash_producer</th>\n",
       "      <th>time_mapped_producer</th>\n",
       "      <th>date_producer</th>\n",
       "      <th>producer</th>\n",
       "      <th>producer_name</th>\n",
       "      <th>hash_consumer</th>\n",
       "      <th>time_mapped_consumer</th>\n",
       "      <th>date_consumer</th>\n",
       "      <th>consumer</th>\n",
       "      <th>consumer_name</th>\n",
       "      <th>amount</th>\n",
       "      <th>interpolation_weights</th>\n",
       "    </tr>\n",
       "  </thead>\n",
       "  <tbody>\n",
       "    <tr>\n",
       "      <th>0</th>\n",
       "      <td>2024</td>\n",
       "      <td>98285</td>\n",
       "      <td>2024-01-01</td>\n",
       "      <td>98283</td>\n",
       "      <td>process A</td>\n",
       "      <td>2024</td>\n",
       "      <td>-1</td>\n",
       "      <td>2024-01-01</td>\n",
       "      <td>-1</td>\n",
       "      <td>-1</td>\n",
       "      <td>1.0</td>\n",
       "      <td>{'cutoff39': 0.6000547495209416, 'db_2030': 0....</td>\n",
       "    </tr>\n",
       "    <tr>\n",
       "      <th>1</th>\n",
       "      <td>2025</td>\n",
       "      <td>98286</td>\n",
       "      <td>2025-01-01</td>\n",
       "      <td>98284</td>\n",
       "      <td>process B</td>\n",
       "      <td>2024</td>\n",
       "      <td>98285</td>\n",
       "      <td>2024-01-01</td>\n",
       "      <td>98283</td>\n",
       "      <td>process A</td>\n",
       "      <td>0.5</td>\n",
       "      <td>{'cutoff39': 0.4998631261976457, 'db_2030': 0....</td>\n",
       "    </tr>\n",
       "    <tr>\n",
       "      <th>2</th>\n",
       "      <td>2025</td>\n",
       "      <td>98287</td>\n",
       "      <td>2025-01-01</td>\n",
       "      <td>98280</td>\n",
       "      <td>electricity, high voltage</td>\n",
       "      <td>2025</td>\n",
       "      <td>98286</td>\n",
       "      <td>2025-01-01</td>\n",
       "      <td>98284</td>\n",
       "      <td>process B</td>\n",
       "      <td>1.0</td>\n",
       "      <td>{'cutoff39': 0.4998631261976457, 'db_2030': 0....</td>\n",
       "    </tr>\n",
       "    <tr>\n",
       "      <th>3</th>\n",
       "      <td>2035</td>\n",
       "      <td>98288</td>\n",
       "      <td>2035-01-01</td>\n",
       "      <td>98284</td>\n",
       "      <td>process B</td>\n",
       "      <td>2024</td>\n",
       "      <td>98285</td>\n",
       "      <td>2024-01-01</td>\n",
       "      <td>98283</td>\n",
       "      <td>process A</td>\n",
       "      <td>0.5</td>\n",
       "      <td>{'db_2030': 0.5, 'db_2040': 0.5}</td>\n",
       "    </tr>\n",
       "    <tr>\n",
       "      <th>4</th>\n",
       "      <td>2035</td>\n",
       "      <td>98289</td>\n",
       "      <td>2035-01-01</td>\n",
       "      <td>98280</td>\n",
       "      <td>electricity, high voltage</td>\n",
       "      <td>2035</td>\n",
       "      <td>98288</td>\n",
       "      <td>2035-01-01</td>\n",
       "      <td>98284</td>\n",
       "      <td>process B</td>\n",
       "      <td>1.0</td>\n",
       "      <td>{'db_2030': 0.5, 'db_2040': 0.5}</td>\n",
       "    </tr>\n",
       "  </tbody>\n",
       "</table>\n",
       "</div>"
      ],
      "text/plain": [
       "   hash_producer  time_mapped_producer date_producer  producer  \\\n",
       "0           2024                 98285    2024-01-01     98283   \n",
       "1           2025                 98286    2025-01-01     98284   \n",
       "2           2025                 98287    2025-01-01     98280   \n",
       "3           2035                 98288    2035-01-01     98284   \n",
       "4           2035                 98289    2035-01-01     98280   \n",
       "\n",
       "               producer_name  hash_consumer  time_mapped_consumer  \\\n",
       "0                  process A           2024                    -1   \n",
       "1                  process B           2024                 98285   \n",
       "2  electricity, high voltage           2025                 98286   \n",
       "3                  process B           2024                 98285   \n",
       "4  electricity, high voltage           2035                 98288   \n",
       "\n",
       "  date_consumer  consumer consumer_name amount  \\\n",
       "0    2024-01-01        -1            -1    1.0   \n",
       "1    2024-01-01     98283     process A    0.5   \n",
       "2    2025-01-01     98284     process B    1.0   \n",
       "3    2024-01-01     98283     process A    0.5   \n",
       "4    2035-01-01     98284     process B    1.0   \n",
       "\n",
       "                               interpolation_weights  \n",
       "0  {'cutoff39': 0.6000547495209416, 'db_2030': 0....  \n",
       "1  {'cutoff39': 0.4998631261976457, 'db_2030': 0....  \n",
       "2  {'cutoff39': 0.4998631261976457, 'db_2030': 0....  \n",
       "3                   {'db_2030': 0.5, 'db_2040': 0.5}  \n",
       "4                   {'db_2030': 0.5, 'db_2040': 0.5}  "
      ]
     },
     "execution_count": 66,
     "metadata": {},
     "output_type": "execute_result"
    }
   ],
   "source": [
    "import warnings\n",
    "warnings.filterwarnings(\"ignore\")\n",
    "mlca.build_timeline()"
   ]
  },
  {
   "cell_type": "code",
   "execution_count": 67,
   "metadata": {},
   "outputs": [
    {
     "ename": "UnknownObject",
     "evalue": "",
     "output_type": "error",
     "traceback": [
      "\u001b[1;31m---------------------------------------------------------------------------\u001b[0m",
      "\u001b[1;31mUnknownObject\u001b[0m                             Traceback (most recent call last)",
      "Cell \u001b[1;32mIn[67], line 1\u001b[0m\n\u001b[1;32m----> 1\u001b[0m \u001b[43mmlca\u001b[49m\u001b[38;5;241;43m.\u001b[39;49m\u001b[43mbuild_datapackage\u001b[49m\u001b[43m(\u001b[49m\u001b[43m)\u001b[49m\n\u001b[0;32m      2\u001b[0m mlca\u001b[38;5;241m.\u001b[39mlci()\n\u001b[0;32m      3\u001b[0m mlca\u001b[38;5;241m.\u001b[39mlcia()\n",
      "File \u001b[1;32mc:\\users\\mullera\\onedrive - vito\\documents\\04_coding\\tictac_lca\\timex_lca\\medusa_lca.py:237\u001b[0m, in \u001b[0;36mMedusaLCA.build_datapackage\u001b[1;34m(self)\u001b[0m\n\u001b[0;32m    233\u001b[0m \u001b[38;5;66;03m# Create matrix modifier that creates the new datapackages with the exploded processes and new links to background databases.\u001b[39;00m\n\u001b[0;32m    234\u001b[0m \u001b[38;5;28mself\u001b[39m\u001b[38;5;241m.\u001b[39mmatrix_modifier \u001b[38;5;241m=\u001b[39m MatrixModifier(\n\u001b[0;32m    235\u001b[0m     \u001b[38;5;28mself\u001b[39m\u001b[38;5;241m.\u001b[39mtimeline, \u001b[38;5;28mself\u001b[39m\u001b[38;5;241m.\u001b[39mdatabase_date_dict_static_only, \u001b[38;5;28mself\u001b[39m\u001b[38;5;241m.\u001b[39mdemand_timing_dict\n\u001b[0;32m    236\u001b[0m )\n\u001b[1;32m--> 237\u001b[0m \u001b[38;5;28mself\u001b[39m\u001b[38;5;241m.\u001b[39mdatapackage \u001b[38;5;241m=\u001b[39m \u001b[38;5;28;43mself\u001b[39;49m\u001b[38;5;241;43m.\u001b[39;49m\u001b[43mmatrix_modifier\u001b[49m\u001b[38;5;241;43m.\u001b[39;49m\u001b[43mcreate_datapackage\u001b[49m\u001b[43m(\u001b[49m\u001b[43m)\u001b[49m\n",
      "File \u001b[1;32mc:\\users\\mullera\\onedrive - vito\\documents\\04_coding\\tictac_lca\\timex_lca\\matrix_modifier.py:211\u001b[0m, in \u001b[0;36mMatrixModifier.create_datapackage\u001b[1;34m(self)\u001b[0m\n\u001b[0;32m    207\u001b[0m \u001b[38;5;28;01mdef\u001b[39;00m \u001b[38;5;21mcreate_datapackage\u001b[39m(\u001b[38;5;28mself\u001b[39m) \u001b[38;5;241m-\u001b[39m\u001b[38;5;241m>\u001b[39m \u001b[38;5;28;01mNone\u001b[39;00m:\n\u001b[0;32m    208\u001b[0m \u001b[38;5;250m    \u001b[39m\u001b[38;5;124;03m\"\"\"\u001b[39;00m\n\u001b[0;32m    209\u001b[0m \u001b[38;5;124;03m    Creates a list of datapackages for the technosphere and biosphere matrices.\u001b[39;00m\n\u001b[0;32m    210\u001b[0m \u001b[38;5;124;03m    \"\"\"\u001b[39;00m\n\u001b[1;32m--> 211\u001b[0m     technosphere_datapackage \u001b[38;5;241m=\u001b[39m \u001b[38;5;28;43mself\u001b[39;49m\u001b[38;5;241;43m.\u001b[39;49m\u001b[43mcreate_technosphere_datapackage\u001b[49m\u001b[43m(\u001b[49m\u001b[43m)\u001b[49m\n\u001b[0;32m    212\u001b[0m     biosphere_datapackge \u001b[38;5;241m=\u001b[39m \u001b[38;5;28mself\u001b[39m\u001b[38;5;241m.\u001b[39mcreate_biosphere_datapackage()\n\u001b[0;32m    213\u001b[0m     \u001b[38;5;28;01mreturn\u001b[39;00m [technosphere_datapackage, biosphere_datapackge]\n",
      "File \u001b[1;32mc:\\users\\mullera\\onedrive - vito\\documents\\04_coding\\tictac_lca\\timex_lca\\matrix_modifier.py:137\u001b[0m, in \u001b[0;36mMatrixModifier.create_technosphere_datapackage\u001b[1;34m(self)\u001b[0m\n\u001b[0;32m    134\u001b[0m new_nodes \u001b[38;5;241m=\u001b[39m \u001b[38;5;28mset\u001b[39m()\n\u001b[0;32m    136\u001b[0m \u001b[38;5;28;01mfor\u001b[39;00m row \u001b[38;5;129;01min\u001b[39;00m \u001b[38;5;28mself\u001b[39m\u001b[38;5;241m.\u001b[39mtimeline\u001b[38;5;241m.\u001b[39miloc[::\u001b[38;5;241m-\u001b[39m\u001b[38;5;241m1\u001b[39m]\u001b[38;5;241m.\u001b[39mitertuples():\n\u001b[1;32m--> 137\u001b[0m     \u001b[43madd_row_to_datapackage\u001b[49m\u001b[43m(\u001b[49m\n\u001b[0;32m    138\u001b[0m \u001b[43m        \u001b[49m\u001b[43mrow\u001b[49m\u001b[43m,\u001b[49m\n\u001b[0;32m    139\u001b[0m \u001b[43m        \u001b[49m\u001b[43mdatapackage\u001b[49m\u001b[43m,\u001b[49m\n\u001b[0;32m    140\u001b[0m \u001b[43m        \u001b[49m\u001b[38;5;28;43mself\u001b[39;49m\u001b[38;5;241;43m.\u001b[39;49m\u001b[43mdatabase_date_dict\u001b[49m\u001b[43m,\u001b[49m\n\u001b[0;32m    141\u001b[0m \u001b[43m        \u001b[49m\u001b[38;5;28;43mself\u001b[39;49m\u001b[38;5;241;43m.\u001b[39;49m\u001b[43mdemand_timing\u001b[49m\u001b[43m,\u001b[49m\n\u001b[0;32m    142\u001b[0m \u001b[43m        \u001b[49m\u001b[43mnew_nodes\u001b[49m\u001b[43m,\u001b[49m\n\u001b[0;32m    143\u001b[0m \u001b[43m    \u001b[49m\u001b[43m)\u001b[49m\n\u001b[0;32m    145\u001b[0m \u001b[38;5;66;03m# Adding ones on diagonal for new nodes\u001b[39;00m\n\u001b[0;32m    146\u001b[0m datapackage\u001b[38;5;241m.\u001b[39madd_persistent_vector(\n\u001b[0;32m    147\u001b[0m     matrix\u001b[38;5;241m=\u001b[39m\u001b[38;5;124m\"\u001b[39m\u001b[38;5;124mtechnosphere_matrix\u001b[39m\u001b[38;5;124m\"\u001b[39m,\n\u001b[0;32m    148\u001b[0m     name\u001b[38;5;241m=\u001b[39muuid\u001b[38;5;241m.\u001b[39muuid4()\u001b[38;5;241m.\u001b[39mhex,\n\u001b[1;32m   (...)\u001b[0m\n\u001b[0;32m    152\u001b[0m     ),\n\u001b[0;32m    153\u001b[0m )\n",
      "File \u001b[1;32mc:\\users\\mullera\\onedrive - vito\\documents\\04_coding\\tictac_lca\\timex_lca\\matrix_modifier.py:110\u001b[0m, in \u001b[0;36mMatrixModifier.create_technosphere_datapackage.<locals>.add_row_to_datapackage\u001b[1;34m(row, datapackage, database_date_dict, demand_timing, new_nodes)\u001b[0m\n\u001b[0;32m    106\u001b[0m \u001b[38;5;28;01mif\u001b[39;00m previous_producer_node[\u001b[38;5;124m\"\u001b[39m\u001b[38;5;124mdatabase\u001b[39m\u001b[38;5;124m\"\u001b[39m] \u001b[38;5;129;01min\u001b[39;00m \u001b[38;5;28mself\u001b[39m\u001b[38;5;241m.\u001b[39mdatabase_date_dict\u001b[38;5;241m.\u001b[39mkeys():\n\u001b[0;32m    107\u001b[0m     \u001b[38;5;66;03m# Create new edges based on interpolation_weights from the row\u001b[39;00m\n\u001b[0;32m    108\u001b[0m     \u001b[38;5;28;01mfor\u001b[39;00m database, db_share \u001b[38;5;129;01min\u001b[39;00m row\u001b[38;5;241m.\u001b[39minterpolation_weights\u001b[38;5;241m.\u001b[39mitems():\n\u001b[0;32m    109\u001b[0m         \u001b[38;5;66;03m# Get the producer activity in the corresponding background database\u001b[39;00m\n\u001b[1;32m--> 110\u001b[0m         producer_id_in_background_db \u001b[38;5;241m=\u001b[39m bd\u001b[38;5;241m.\u001b[39mget_node(\n\u001b[0;32m    111\u001b[0m             \u001b[38;5;241m*\u001b[39m\u001b[38;5;241m*\u001b[39m{\n\u001b[0;32m    112\u001b[0m                 \u001b[38;5;124m\"\u001b[39m\u001b[38;5;124mdatabase\u001b[39m\u001b[38;5;124m\"\u001b[39m: database,\n\u001b[0;32m    113\u001b[0m                 \u001b[38;5;124m\"\u001b[39m\u001b[38;5;124mname\u001b[39m\u001b[38;5;124m\"\u001b[39m: previous_producer_node[\u001b[38;5;124m\"\u001b[39m\u001b[38;5;124mname\u001b[39m\u001b[38;5;124m\"\u001b[39m],\n\u001b[0;32m    114\u001b[0m                 \u001b[38;5;124m\"\u001b[39m\u001b[38;5;124mproduct\u001b[39m\u001b[38;5;124m\"\u001b[39m: previous_producer_node[\u001b[38;5;124m\"\u001b[39m\u001b[38;5;124mreference product\u001b[39m\u001b[38;5;124m\"\u001b[39m],\n\u001b[0;32m    115\u001b[0m                 \u001b[38;5;124m\"\u001b[39m\u001b[38;5;124mlocation\u001b[39m\u001b[38;5;124m\"\u001b[39m: previous_producer_node[\u001b[38;5;124m\"\u001b[39m\u001b[38;5;124mlocation\u001b[39m\u001b[38;5;124m\"\u001b[39m],\n\u001b[0;32m    116\u001b[0m             }\n\u001b[0;32m    117\u001b[0m         )\u001b[38;5;241m.\u001b[39mid\n\u001b[0;32m    118\u001b[0m         \u001b[38;5;66;03m# Add entry between exploded producer and producer in background database (\"Temporal Market\")\u001b[39;00m\n\u001b[0;32m    119\u001b[0m         datapackage\u001b[38;5;241m.\u001b[39madd_persistent_vector(\n\u001b[0;32m    120\u001b[0m             matrix\u001b[38;5;241m=\u001b[39m\u001b[38;5;124m\"\u001b[39m\u001b[38;5;124mtechnosphere_matrix\u001b[39m\u001b[38;5;124m\"\u001b[39m,\n\u001b[0;32m    121\u001b[0m             name\u001b[38;5;241m=\u001b[39muuid\u001b[38;5;241m.\u001b[39muuid4()\u001b[38;5;241m.\u001b[39mhex,\n\u001b[1;32m   (...)\u001b[0m\n\u001b[0;32m    127\u001b[0m             flip_array\u001b[38;5;241m=\u001b[39mnp\u001b[38;5;241m.\u001b[39marray([\u001b[38;5;28;01mTrue\u001b[39;00m], dtype\u001b[38;5;241m=\u001b[39m\u001b[38;5;28mbool\u001b[39m),\n\u001b[0;32m    128\u001b[0m         )\n",
      "File \u001b[1;32mc:\\Users\\MULLERA\\AppData\\Local\\anaconda3\\envs\\tictac\\lib\\site-packages\\bw2data\\utils.py:422\u001b[0m, in \u001b[0;36mget_node\u001b[1;34m(**kwargs)\u001b[0m\n\u001b[0;32m    418\u001b[0m     \u001b[38;5;28;01mraise\u001b[39;00m MultipleResults(\n\u001b[0;32m    419\u001b[0m         \u001b[38;5;124m\"\u001b[39m\u001b[38;5;124mFound \u001b[39m\u001b[38;5;132;01m{}\u001b[39;00m\u001b[38;5;124m results for the given search\u001b[39m\u001b[38;5;124m\"\u001b[39m\u001b[38;5;241m.\u001b[39mformat(\u001b[38;5;28mlen\u001b[39m(candidates))\n\u001b[0;32m    420\u001b[0m     )\n\u001b[0;32m    421\u001b[0m \u001b[38;5;28;01melif\u001b[39;00m \u001b[38;5;129;01mnot\u001b[39;00m candidates:\n\u001b[1;32m--> 422\u001b[0m     \u001b[38;5;28;01mraise\u001b[39;00m UnknownObject\n\u001b[0;32m    423\u001b[0m \u001b[38;5;28;01mreturn\u001b[39;00m candidates[\u001b[38;5;241m0\u001b[39m]\n",
      "\u001b[1;31mUnknownObject\u001b[0m: "
     ]
    }
   ],
   "source": [
    "mlca.build_datapackage()\n",
    "mlca.lci()\n",
    "mlca.lcia()"
   ]
  },
  {
   "cell_type": "code",
   "execution_count": null,
   "metadata": {},
   "outputs": [
    {
     "name": "stdout",
     "output_type": "stream",
     "text": [
      "electricity, from premise bg_2020 electricity, high voltage WEU\n",
      "electricity, from premise bg_2030 electricity, high voltage WEU\n",
      "electricity, from premise bg_2040 electricity, high voltage WEU\n",
      "process B foreground b GLO\n",
      "process A foreground a GLO\n"
     ]
    }
   ],
   "source": [
    "for name in [\"bg_2020\", \"bg_2030\", \"bg_2040\", \"foreground\"]:\t\n",
    "    db = bd.Database(name)\n",
    "    for act in db:\n",
    "        print(act[\"name\"], act[\"database\"], act[\"reference product\"], act[\"location\"])\n",
    "# 112                 \"database\": database,\n",
    "#     113                 \"name\": previous_producer_node[\"name\"],\n",
    "#     114                 \"product\": previous_producer_node[\"reference product\"],\n",
    "#     115                 \"location\": previous_producer_node[\"location\"],"
   ]
  },
  {
   "cell_type": "code",
   "execution_count": null,
   "metadata": {},
   "outputs": [],
   "source": [
    "print('Old static LCA Score:', mlca.static_lca.score)\n",
    "print('New MEDUSA LCA Score:', mlca.score)"
   ]
  },
  {
   "cell_type": "code",
   "execution_count": null,
   "metadata": {},
   "outputs": [],
   "source": [
    "mlca.dynamic_inventory"
   ]
  },
  {
   "cell_type": "markdown",
   "metadata": {},
   "source": [
    "compare with prospective-dynamic score with expected results"
   ]
  },
  {
   "cell_type": "code",
   "execution_count": null,
   "metadata": {},
   "outputs": [
    {
     "name": "stdout",
     "output_type": "stream",
     "text": [
      "Difference between medusa score and expected score 2.1680213180275132e-11\n"
     ]
    }
   ],
   "source": [
    "# compare with expected results: tiny deviation is fine!\n",
    "\n",
    "# expected lca results from 1 kWh electricty WEU 2020\n",
    "lca_electr_WEU_2020=bc.LCA({(electr_WEU_2020[\"database\"],electr_WEU_2020[\"code\"]): 1},CC_method)\n",
    "lca_electr_WEU_2020.lci()\n",
    "lca_electr_WEU_2020.lcia()\n",
    "score_2020 = lca_electr_WEU_2020.score\n",
    "\n",
    "# expected lca results from 1 kWh electricty WEU 2030\n",
    "lca_electr_WEU_2030=bc.LCA({(electr_WEU_2030[\"database\"],electr_WEU_2030[\"code\"]): 1},CC_method)\n",
    "lca_electr_WEU_2030.lci()\n",
    "lca_electr_WEU_2030.lcia()\n",
    "score_2030 = lca_electr_WEU_2030.score\n",
    "\n",
    "# expected lca results from 1 kWh electricty WEU 2040\n",
    "lca_electr_WEU_2040=bc.LCA({(electr_WEU_2040[\"database\"],electr_WEU_2040[\"code\"]): 1},CC_method)\n",
    "lca_electr_WEU_2040.lci()\n",
    "lca_electr_WEU_2040.lcia()\n",
    "score_2040 = lca_electr_WEU_2040.score\n",
    "\n",
    "#expected score according to temporal distributions\n",
    "expected_score=0.5*(0.5*score_2020+0.5*score_2030) + 0.5*(0.5*score_2030+0.5*score_2040)\n",
    "delta=expected_score-mlca.score\n",
    "print(f\"Difference between medusa score and expected score {delta}\")"
   ]
  }
 ],
 "metadata": {
  "kernelspec": {
   "display_name": "tictac2",
   "language": "python",
   "name": "python3"
  },
  "language_info": {
   "codemirror_mode": {
    "name": "ipython",
    "version": 3
   },
   "file_extension": ".py",
   "mimetype": "text/x-python",
   "name": "python",
   "nbconvert_exporter": "python",
   "pygments_lexer": "ipython3",
   "version": "3.10.13"
  }
 },
 "nbformat": 4,
 "nbformat_minor": 2
}
