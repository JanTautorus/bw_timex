{
 "cells": [
  {
   "cell_type": "markdown",
   "metadata": {},
   "source": [
    "## EV example SETAC"
   ]
  },
  {
   "cell_type": "markdown",
   "metadata": {},
   "source": [
    "copying processes via bw25 didn't work so well as it gave different scores for the process copies despite copying everything (at least I think so) -> see script ...debuggung\n",
    "\n",
    "instead, I've copied the processes in AB in a bw2 project and now convert it to bw25"
   ]
  },
  {
   "cell_type": "code",
   "execution_count": 1,
   "metadata": {},
   "outputs": [],
   "source": [
    "import sys\n",
    "import os\n",
    "import bw2data as bd\n",
    "import bw2calc as bc\n",
    "import bw2io as bi\n",
    "from bw_temporalis import TemporalDistribution\n",
    "sys.path.append(os.path.realpath('../'))\n",
    "import numpy as np\n"
   ]
  },
  {
   "cell_type": "code",
   "execution_count": 2,
   "metadata": {},
   "outputs": [],
   "source": [
    "#bi.backup.restore_project_directory(fp = r'C:\\Users\\MULLERA\\brightway2-project-bw25_premise_background_v2-backup.26-March-2024-01-40PM.tar.gz', project_name= \"bw25_EV_setac\")"
   ]
  },
  {
   "cell_type": "code",
   "execution_count": 3,
   "metadata": {},
   "outputs": [
    {
     "name": "stdout",
     "output_type": "stream",
     "text": [
      "Using existing project: bw25_EV_setac\n"
     ]
    },
    {
     "data": {
      "text/plain": [
       "Databases dictionary with 5 object(s):\n",
       "\tbiosphere3\n",
       "\tcutoff39\n",
       "\tdb_2020\n",
       "\tdb_2030\n",
       "\tdb_2040"
      ]
     },
     "execution_count": 3,
     "metadata": {},
     "output_type": "execute_result"
    }
   ],
   "source": [
    "import bw2data as bd\n",
    "PROJECT_NAME = \"bw25_EV_setac\"\n",
    "RESET= False\n",
    "\n",
    "if PROJECT_NAME in bd.projects and not RESET: # use existing project\n",
    "    print(\"Using existing project: {}\".format(PROJECT_NAME))\n",
    "    bd.projects.set_current(PROJECT_NAME) \n",
    "    \n",
    "else: # create project from scratch\n",
    "    print(\"Creating new project: {}\".format(PROJECT_NAME))\n",
    "    if PROJECT_NAME in bd.projects:\n",
    "        bd.projects.delete_project(PROJECT_NAME)\n",
    "    bi.backup.restore_project_directory(r'filepath/to/backup/directory') # tar file shared on slack\n",
    "    bd.projects.set_current(PROJECT_NAME)\n",
    "    \n",
    "bd.databases"
   ]
  },
  {
   "cell_type": "code",
   "execution_count": 4,
   "metadata": {},
   "outputs": [],
   "source": [
    "#del bd.databases[\"foreground\"]"
   ]
  },
  {
   "cell_type": "code",
   "execution_count": 5,
   "metadata": {},
   "outputs": [
    {
     "data": {
      "text/plain": [
       "True"
      ]
     },
     "execution_count": 5,
     "metadata": {},
     "output_type": "execute_result"
    }
   ],
   "source": [
    "bd.projects.twofive"
   ]
  },
  {
   "cell_type": "code",
   "execution_count": 6,
   "metadata": {},
   "outputs": [],
   "source": [
    "# prospective databases were generated with premise, updating only electricity\n",
    "db_2020 = bd.Database(\"db_2020\")\n",
    "db_2030 = bd.Database(\"db_2030\")\n",
    "db_2040 = bd.Database(\"db_2040\")\n",
    "foreground = bd.Database(\"foreground\")"
   ]
  },
  {
   "cell_type": "markdown",
   "metadata": {},
   "source": [
    "write foreground db:"
   ]
  },
  {
   "cell_type": "code",
   "execution_count": 7,
   "metadata": {},
   "outputs": [
    {
     "data": {
      "text/plain": [
       "'transport, passenger car, electric' (kilometer, GLO, None)"
      ]
     },
     "execution_count": 7,
     "metadata": {},
     "output_type": "execute_result"
    }
   ],
   "source": [
    "#EV transport process 2020\n",
    "EV_driving_bg = [x for x in db_2020 if (x['name'] == 'transport, passenger car, electric')][0]\n",
    "EV_driving_bg\n"
   ]
  },
  {
   "cell_type": "code",
   "execution_count": 8,
   "metadata": {},
   "outputs": [],
   "source": [
    "foreground = bd.Database('foreground')\n",
    "foreground.register()\n",
    "\n",
    "EV= foreground.new_node(\n",
    "    code = \"EV\",\n",
    "    name = \"foreground transport, electric vehicle, 1km\",\n",
    "    location = \"GLO\",\n",
    ")\n",
    "EV.save()\n",
    "\n",
    "EV.new_edge(input=(\"foreground\", \"EV\"), amount=1, unit = \"kilometer\", type=\"production\").save() #add production amount\n",
    "\n",
    "#add technosphere exchanges\n",
    "for exc in EV_driving_bg.exchanges(): #looping over the exchanges of the EV process in the background db and adding them to our EV process in the foreground\n",
    "    if not exc.input == exc.output and \"market for passenger car, electric, without battery\" not in exc.input[\"name\"]: #skip production exchange of process and car production, which we\"ll move to the foreground separately\n",
    "        #add other exchanges of EV process\n",
    "        EV.new_edge(input=exc.input.key, amount=exc['amount'], type=exc[\"type\"]).save() #  "
   ]
  },
  {
   "cell_type": "code",
   "execution_count": 9,
   "metadata": {},
   "outputs": [],
   "source": [
    "# #add car production separately (we skip the ecoinvent GLO market for car production, as it only has 1 input of GLO car production, and no losses)\n",
    "car_prod_background = [x for x in db_2020 if (x['name'] == 'passenger car production, electric, without battery')][0]\n",
    "\n",
    "car_prod = foreground.new_node(\n",
    "    code = \"car_prod\",\n",
    "    name = \"foreground car production, electric, without battery\",\n",
    "    location = \"GLO\",\n",
    ")\n",
    "car_prod.save()\n",
    "\n",
    "car_prod.new_edge(input=(\"foreground\", \"car_prod\"), amount=1, unit= \"kilogram\", type=\"production\").save() #add production amount\n",
    "#TODO undertsand why impact of production is different betweeen foreground system and background system\n",
    "#add technosphere exchanges\n",
    "for exc in car_prod_background.exchanges(): #looping over the exchanges of the EV process in the background db and adding them to our EV process in the foreground\n",
    "    if not exc.input == exc.output: #skip production exchange\n",
    "        #add other exchanges of car production\n",
    "        car_prod.new_edge(input=exc.input.key, amount=exc['amount'], type=exc[\"type\"]).save() #\n",
    "\n",
    " \n",
    "for exc in EV_driving_bg.exchanges():\n",
    "    if \"market for passenger car, electric, without battery\" in exc.input[\"name\"]:\n",
    "        amount_car_prod_background= exc[\"amount\"] #find amount of car production per 1 km EV driving in background db\n",
    "\n",
    "EV.new_edge( #add new car prod to EV process\n",
    "    input=(\"foreground\", \"car_prod\"),\n",
    "    amount=amount_car_prod_background,\n",
    "    type=\"technosphere\"\n",
    ").save()\n",
    "\n"
   ]
  },
  {
   "cell_type": "markdown",
   "metadata": {},
   "source": [
    "Select EV processes in dbs"
   ]
  },
  {
   "cell_type": "code",
   "execution_count": 10,
   "metadata": {},
   "outputs": [
    {
     "data": {
      "text/plain": [
       "'foreground transport, electric vehicle, 1km' (None, GLO, None)"
      ]
     },
     "execution_count": 10,
     "metadata": {},
     "output_type": "execute_result"
    }
   ],
   "source": [
    "#EV transport process foreground\n",
    "EV_driving_fg = [x for x in foreground if (x['name'] == 'foreground transport, electric vehicle, 1km')][0]\n",
    "EV_driving_fg"
   ]
  },
  {
   "cell_type": "code",
   "execution_count": 11,
   "metadata": {},
   "outputs": [
    {
     "data": {
      "text/plain": [
       "'foreground car production, electric, without battery' (None, GLO, None)"
      ]
     },
     "execution_count": 11,
     "metadata": {},
     "output_type": "execute_result"
    }
   ],
   "source": [
    "#EV production foreground\n",
    "car_prod_fg = [x for x in foreground if (x['name'] == 'foreground car production, electric, without battery')][0]\n",
    "car_prod_fg"
   ]
  },
  {
   "cell_type": "code",
   "execution_count": 12,
   "metadata": {},
   "outputs": [],
   "source": [
    "# defining Temporal Distributions of system\n",
    "td_production = TemporalDistribution(\n",
    "            date=np.array([-1], dtype='timedelta64[Y]'), #2023\n",
    "            amount=np.array([1]))\n",
    "\n",
    "td_use_phase = TemporalDistribution( #to be further refined based on use pattern\n",
    "                    date=np.array([1, 6, 11, 16], dtype='timedelta64[Y]'), #2025, 2030, 2035, 2040\n",
    "                    amount=np.array([0.25, 0.25, 0.25, 0.25]))\n",
    "\n",
    "td_eol = TemporalDistribution(\n",
    "            date=np.array([21], dtype='timedelta64[Y]'), #2045\n",
    "            amount=np.array([1]))\n",
    "\n",
    "td_eol_from_production_time = TemporalDistribution(\n",
    "            date=np.array([22], dtype='timedelta64[Y]'), #2045, counting from 2023\n",
    "            amount=np.array([1]))\n"
   ]
  },
  {
   "cell_type": "code",
   "execution_count": 13,
   "metadata": {},
   "outputs": [
    {
     "name": "stdout",
     "output_type": "stream",
     "text": [
      "added TD to  {'market for brake wear emissions, passenger car'}\n",
      "added TD to  {'market for road wear emissions, passenger car'}\n",
      "added TD to  {'market for used Li-ion battery'}\n",
      "added TD to  {'market for tyre wear emissions, passenger car'}\n",
      "added TD to  {'market for road'}\n",
      "added TD to  {'market for battery, Li-ion, LiMn2O4, rechargeable, prismatic'}\n",
      "added TD to  {'market for maintenance, passenger car, electric, without battery'}\n",
      "added TD to  {'market group for electricity, low voltage'}\n",
      "added TD to  {'foreground car production, electric, without battery'}\n"
     ]
    }
   ],
   "source": [
    "#add TD to electricity and car production\n",
    "for exc in EV_driving_fg.exchanges():\n",
    "    if \"market for battery, Li-ion\"in exc.input[\"name\"]: #battery production\n",
    "        exc[\"temporal_distribution\"]= td_production\n",
    "        exc.save()\n",
    "        print(\"added TD to \", {exc.input[\"name\"]})\n",
    "\n",
    "    elif \"foreground car production, electric, without battery\"in exc.input[\"name\"]: # foreground car production\n",
    "        exc[\"temporal_distribution\"]= td_production\n",
    "        exc.save()\n",
    "        print(\"added TD to \", {exc.input[\"name\"]})\n",
    "\n",
    "    elif \"market group for electricity, low voltage\" in exc.input[\"name\"]: #electricity while driving\n",
    "        exc[\"temporal_distribution\"]= td_use_phase\n",
    "        exc.save()\n",
    "        print(\"added TD to \", {exc.input[\"name\"]})\n",
    "\n",
    "    elif \"market for used Li-ion battery\" in exc.input[\"name\"]:   #battery recycling\n",
    "        exc[\"temporal_distribution\"]= td_eol\n",
    "        exc.save()\n",
    "        print(\"added TD to \", {exc.input[\"name\"]})\n",
    "\n",
    "    elif \"wear emissions, passenger car\" in exc.input[\"name\"]: #brake, road and tyre wear while driving\n",
    "        exc[\"temporal_distribution\"]= td_use_phase\n",
    "        exc.save()\n",
    "        print(\"added TD to \", {exc.input[\"name\"]})\n",
    "    \n",
    "    elif \"market for maintenance, passenger car\" in exc.input[\"name\"]: #car maintenance while driving\n",
    "        exc[\"temporal_distribution\"]= td_use_phase\n",
    "        exc.save()\n",
    "        print(\"added TD to \", {exc.input[\"name\"]})\n",
    "            \n",
    "    elif exc.input[\"name\"] == \"market for road\": # road usage while driving\n",
    "        exc[\"temporal_distribution\"]= td_use_phase\n",
    "        exc.save()\n",
    "        print(\"added TD to \", {exc.input[\"name\"]})\n",
    "    \n",
    "    elif exc.input[\"name\"] == exc.output[\"name\"]: #skip production exchange\n",
    "        continue\n",
    "\n",
    "    else:\n",
    "        print(\"no TD added to \", {exc.input[\"name\"]})\n",
    "\n",
    "    # car recycling is modelled at the level of car production, and TD is added there"
   ]
  },
  {
   "cell_type": "code",
   "execution_count": 14,
   "metadata": {},
   "outputs": [
    {
     "name": "stdout",
     "output_type": "stream",
     "text": [
      "added TD to  {'market for waste glass'}\n",
      "added TD to  {'market for waste rubber, unspecified'}\n",
      "added TD to  {'market for waste glass'}\n",
      "added TD to  {'market group for waste glass'}\n",
      "added TD to  {'market for waste mineral oil'}\n"
     ]
    },
    {
     "name": "stdout",
     "output_type": "stream",
     "text": [
      "added TD to  {'market for waste rubber, unspecified'}\n",
      "added TD to  {'market for waste glass'}\n",
      "added TD to  {'market for waste mineral oil'}\n",
      "added TD to  {'market for waste mineral oil'}\n",
      "added TD to  {'market for waste rubber, unspecified'}\n",
      "added TD to  {'market for waste glass'}\n",
      "added TD to  {'market for waste glass'}\n",
      "added TD to  {'market for waste glass'}\n",
      "added TD to  {'market for waste glass'}\n",
      "no TD added to  {'market for glider, passenger car'}\n",
      "no TD added to  {'market for powertrain, for electric passenger car'}\n",
      "added TD to  {'market for manual dismantling of used electric passenger car'}\n"
     ]
    }
   ],
   "source": [
    "for exc in car_prod_fg.exchanges():\n",
    "    if \"waste\" in exc.input[\"name\"]: # all waste are EoL processes\n",
    "        exc[\"temporal_distribution\"]= td_eol_from_production_time \n",
    "        exc.save()\n",
    "        print(\"added TD to \", {exc.input[\"name\"]})\n",
    "\n",
    "    elif \"manual dismantling\" in exc.input[\"name\"]: # all waste are EoL processes\n",
    "        exc[\"temporal_distribution\"]= td_eol_from_production_time\n",
    "        exc.save()\n",
    "        print(\"added TD to \", {exc.input[\"name\"]})\n",
    "    \n",
    "    elif exc.input[\"name\"] == exc.output[\"name\"]: #skip production exchange\n",
    "        continue\n",
    "\n",
    "    else:\n",
    "        print(\"no TD added to \", {exc.input[\"name\"]})\n",
    "        # production processes (glider and powertrain) are temporalized at the level of the transport process\n"
   ]
  },
  {
   "cell_type": "code",
   "execution_count": 15,
   "metadata": {},
   "outputs": [
    {
     "name": "stdout",
     "output_type": "stream",
     "text": [
      "'foreground transport, electric vehicle, 1km' (None, GLO, None)\n",
      "market for brake wear emissions, passenger car\n",
      "[ 31556952 189341712 347126472 504911232]\n",
      "[0.25 0.25 0.25 0.25]\n",
      "market for road wear emissions, passenger car\n",
      "[ 31556952 189341712 347126472 504911232]\n",
      "[0.25 0.25 0.25 0.25]\n",
      "market for used Li-ion battery\n",
      "[662695992]\n",
      "[1.]\n",
      "market for tyre wear emissions, passenger car\n",
      "[ 31556952 189341712 347126472 504911232]\n",
      "[0.25 0.25 0.25 0.25]\n",
      "market for road\n",
      "[ 31556952 189341712 347126472 504911232]\n",
      "[0.25 0.25 0.25 0.25]\n",
      "market for battery, Li-ion, LiMn2O4, rechargeable, prismatic\n",
      "[-31556952]\n",
      "[1.]\n",
      "market for maintenance, passenger car, electric, without battery\n",
      "[ 31556952 189341712 347126472 504911232]\n",
      "[0.25 0.25 0.25 0.25]\n",
      "market group for electricity, low voltage\n",
      "[ 31556952 189341712 347126472 504911232]\n",
      "[0.25 0.25 0.25 0.25]\n",
      "foreground car production, electric, without battery\n",
      "[-31556952]\n",
      "[1.]\n",
      "'foreground car production, electric, without battery' (None, GLO, None)\n",
      "market for waste glass\n",
      "[694252944]\n",
      "[1.]\n",
      "market for waste rubber, unspecified\n",
      "[694252944]\n",
      "[1.]\n",
      "market for waste glass\n",
      "[694252944]\n",
      "[1.]\n",
      "market group for waste glass\n",
      "[694252944]\n",
      "[1.]\n",
      "market for waste mineral oil\n",
      "[694252944]\n",
      "[1.]\n",
      "market for waste rubber, unspecified\n",
      "[694252944]\n",
      "[1.]\n",
      "market for waste glass\n",
      "[694252944]\n",
      "[1.]\n",
      "market for waste mineral oil\n",
      "[694252944]\n",
      "[1.]\n",
      "market for waste mineral oil\n",
      "[694252944]\n",
      "[1.]\n",
      "market for waste rubber, unspecified\n",
      "[694252944]\n",
      "[1.]\n",
      "market for waste glass\n",
      "[694252944]\n",
      "[1.]\n",
      "market for waste glass\n",
      "[694252944]\n",
      "[1.]\n",
      "market for waste glass\n",
      "[694252944]\n",
      "[1.]\n",
      "market for waste glass\n",
      "[694252944]\n",
      "[1.]\n",
      "market for manual dismantling of used electric passenger car\n",
      "[694252944]\n",
      "[1.]\n"
     ]
    }
   ],
   "source": [
    "# checking foreground links\n",
    "for act in bd.Database('foreground'):\n",
    "    print(act)\n",
    "    for exc in act.exchanges():\n",
    "        if \"temporal_distribution\" in exc.keys():\n",
    "            print(exc.input[\"name\"])\n",
    "            print(exc[\"temporal_distribution\"].date)\n",
    "            print(exc[\"temporal_distribution\"].amount)\n",
    "       "
   ]
  },
  {
   "cell_type": "markdown",
   "metadata": {},
   "source": [
    "select method:"
   ]
  },
  {
   "cell_type": "code",
   "execution_count": 16,
   "metadata": {},
   "outputs": [
    {
     "data": {
      "text/plain": [
       "('IPCC 2021 no LT',\n",
       " 'climate change no LT',\n",
       " 'global warming potential (GWP100) no LT')"
      ]
     },
     "execution_count": 16,
     "metadata": {},
     "output_type": "execute_result"
    }
   ],
   "source": [
    "CC_method = [m for m in bd.methods if 'IPCC 2021' in str(m) and  'climate change no LT' in str(m) and 'GWP100' in str(m) and 'no LT' in str(m)][0]\n",
    "CC_method"
   ]
  },
  {
   "cell_type": "code",
   "execution_count": 17,
   "metadata": {},
   "outputs": [
    {
     "data": {
      "text/plain": [
       "0.22196471360166709"
      ]
     },
     "execution_count": 17,
     "metadata": {},
     "output_type": "execute_result"
    }
   ],
   "source": [
    "demand = {EV_driving_fg.key: 1}\n",
    "method = CC_method\n",
    "\n",
    "lca = bc.LCA(demand, method)\n",
    "lca.lci()\n",
    "lca.lcia()\n",
    "lca.score"
   ]
  },
  {
   "cell_type": "code",
   "execution_count": 18,
   "metadata": {},
   "outputs": [
    {
     "data": {
      "text/plain": [
       "0.23022282296697355"
      ]
     },
     "execution_count": 18,
     "metadata": {},
     "output_type": "execute_result"
    }
   ],
   "source": [
    "demand = {EV_driving_bg.key: 1}\n",
    "method = CC_method\n",
    "\n",
    "lca = bc.LCA(demand, method)\n",
    "lca.lci()\n",
    "lca.lcia()\n",
    "lca.score"
   ]
  },
  {
   "cell_type": "markdown",
   "metadata": {},
   "source": [
    "### see notebook ..._debugging for exploration why the scores are different\n",
    "\n",
    "for now, we simply acceot that the score is different."
   ]
  },
  {
   "cell_type": "markdown",
   "metadata": {},
   "source": [
    "### Now medusa LCA from here on:"
   ]
  },
  {
   "cell_type": "code",
   "execution_count": 19,
   "metadata": {},
   "outputs": [],
   "source": [
    "from datetime import datetime\n",
    "\n",
    "database_date_dict = {\n",
    "    \"db_2020\": datetime.strptime(\"2020\", \"%Y\"),\n",
    "    \"db_2030\": datetime.strptime(\"2030\", \"%Y\"),\n",
    "    \"db_2040\": datetime.strptime(\"2040\", \"%Y\"),\n",
    "    \"cutoff39\": datetime.strptime(\"2020\", \"%Y\"), # all databases need to have a corresponding time\n",
    "    \"foreground\": \"dynamic\",  # flag databases that should be temporally distributed with \"dynamic\"\n",
    "}"
   ]
  },
  {
   "cell_type": "code",
   "execution_count": 20,
   "metadata": {},
   "outputs": [
    {
     "data": {
      "text/plain": [
       "72315"
      ]
     },
     "execution_count": 20,
     "metadata": {},
     "output_type": "execute_result"
    }
   ],
   "source": [
    "SKIPPABLE = [node.id for node in bd.Database('db_2020')] + [\n",
    "    node.id for node in bd.Database('db_2030')] + [\n",
    "    node.id for node in bd.Database('db_2040')\n",
    "    ] \n",
    "\n",
    "def filter_function(database_id: int) -> bool:\n",
    "    return database_id in SKIPPABLE\n",
    "\n",
    "len(SKIPPABLE)"
   ]
  },
  {
   "cell_type": "code",
   "execution_count": 21,
   "metadata": {},
   "outputs": [],
   "source": [
    "demand = {('foreground', 'EV'): 1}\n",
    "method = CC_method"
   ]
  },
  {
   "cell_type": "code",
   "execution_count": 23,
   "metadata": {},
   "outputs": [
    {
     "name": "stdout",
     "output_type": "stream",
     "text": [
      "Starting graph traversal\n",
      "Calculation count: 3\n"
     ]
    }
   ],
   "source": [
    "from timex_lca import MedusaLCA\n",
    "mlca = MedusaLCA(demand, method, None, database_date_dict, max_calc=10) #aborted after 100 min for max_calc = 5000\n"
   ]
  },
  {
   "cell_type": "code",
   "execution_count": 24,
   "metadata": {},
   "outputs": [
    {
     "data": {
      "text/html": [
       "<div>\n",
       "<style scoped>\n",
       "    .dataframe tbody tr th:only-of-type {\n",
       "        vertical-align: middle;\n",
       "    }\n",
       "\n",
       "    .dataframe tbody tr th {\n",
       "        vertical-align: top;\n",
       "    }\n",
       "\n",
       "    .dataframe thead th {\n",
       "        text-align: right;\n",
       "    }\n",
       "</style>\n",
       "<table border=\"1\" class=\"dataframe\">\n",
       "  <thead>\n",
       "    <tr style=\"text-align: right;\">\n",
       "      <th></th>\n",
       "      <th>hash_producer</th>\n",
       "      <th>time_mapped_producer</th>\n",
       "      <th>date_producer</th>\n",
       "      <th>producer</th>\n",
       "      <th>producer_name</th>\n",
       "      <th>hash_consumer</th>\n",
       "      <th>time_mapped_consumer</th>\n",
       "      <th>date_consumer</th>\n",
       "      <th>consumer</th>\n",
       "      <th>consumer_name</th>\n",
       "      <th>amount</th>\n",
       "      <th>interpolation_weights</th>\n",
       "    </tr>\n",
       "  </thead>\n",
       "  <tbody>\n",
       "    <tr>\n",
       "      <th>0</th>\n",
       "      <td>2023</td>\n",
       "      <td>98282</td>\n",
       "      <td>2023-01-01</td>\n",
       "      <td>27559</td>\n",
       "      <td>market for glider, passenger car</td>\n",
       "      <td>2023</td>\n",
       "      <td>98283</td>\n",
       "      <td>2023-01-01</td>\n",
       "      <td>98281</td>\n",
       "      <td>foreground car production, electric, without b...</td>\n",
       "      <td>0.912635</td>\n",
       "      <td>{'cutoff39': 0.6999726252395291, 'db_2030': 0....</td>\n",
       "    </tr>\n",
       "    <tr>\n",
       "      <th>1</th>\n",
       "      <td>2023</td>\n",
       "      <td>98283</td>\n",
       "      <td>2023-01-01</td>\n",
       "      <td>98281</td>\n",
       "      <td>foreground car production, electric, without b...</td>\n",
       "      <td>2024</td>\n",
       "      <td>98284</td>\n",
       "      <td>2024-01-01</td>\n",
       "      <td>98280</td>\n",
       "      <td>foreground transport, electric vehicle, 1km</td>\n",
       "      <td>0.006121</td>\n",
       "      <td>{'cutoff39': 0.6999726252395291, 'db_2030': 0....</td>\n",
       "    </tr>\n",
       "    <tr>\n",
       "      <th>2</th>\n",
       "      <td>2024</td>\n",
       "      <td>98284</td>\n",
       "      <td>2024-01-01</td>\n",
       "      <td>98280</td>\n",
       "      <td>foreground transport, electric vehicle, 1km</td>\n",
       "      <td>2024</td>\n",
       "      <td>-1</td>\n",
       "      <td>2024-01-01</td>\n",
       "      <td>-1</td>\n",
       "      <td>-1</td>\n",
       "      <td>1.0</td>\n",
       "      <td>{'cutoff39': 0.6000547495209416, 'db_2030': 0....</td>\n",
       "    </tr>\n",
       "    <tr>\n",
       "      <th>3</th>\n",
       "      <td>2025</td>\n",
       "      <td>98285</td>\n",
       "      <td>2025-01-01</td>\n",
       "      <td>50069</td>\n",
       "      <td>market group for electricity, low voltage</td>\n",
       "      <td>2024</td>\n",
       "      <td>98284</td>\n",
       "      <td>2024-01-01</td>\n",
       "      <td>98280</td>\n",
       "      <td>foreground transport, electric vehicle, 1km</td>\n",
       "      <td>0.04975</td>\n",
       "      <td>{'cutoff39': 0.4998631261976457, 'db_2030': 0....</td>\n",
       "    </tr>\n",
       "    <tr>\n",
       "      <th>4</th>\n",
       "      <td>2030</td>\n",
       "      <td>98286</td>\n",
       "      <td>2030-01-01</td>\n",
       "      <td>50069</td>\n",
       "      <td>market group for electricity, low voltage</td>\n",
       "      <td>2024</td>\n",
       "      <td>98284</td>\n",
       "      <td>2024-01-01</td>\n",
       "      <td>98280</td>\n",
       "      <td>foreground transport, electric vehicle, 1km</td>\n",
       "      <td>0.04975</td>\n",
       "      <td>{'db_2030': 1}</td>\n",
       "    </tr>\n",
       "    <tr>\n",
       "      <th>5</th>\n",
       "      <td>2035</td>\n",
       "      <td>98287</td>\n",
       "      <td>2035-01-01</td>\n",
       "      <td>50069</td>\n",
       "      <td>market group for electricity, low voltage</td>\n",
       "      <td>2024</td>\n",
       "      <td>98284</td>\n",
       "      <td>2024-01-01</td>\n",
       "      <td>98280</td>\n",
       "      <td>foreground transport, electric vehicle, 1km</td>\n",
       "      <td>0.04975</td>\n",
       "      <td>{'db_2030': 0.5, 'db_2040': 0.5}</td>\n",
       "    </tr>\n",
       "    <tr>\n",
       "      <th>6</th>\n",
       "      <td>2040</td>\n",
       "      <td>98288</td>\n",
       "      <td>2040-01-01</td>\n",
       "      <td>50069</td>\n",
       "      <td>market group for electricity, low voltage</td>\n",
       "      <td>2024</td>\n",
       "      <td>98284</td>\n",
       "      <td>2024-01-01</td>\n",
       "      <td>98280</td>\n",
       "      <td>foreground transport, electric vehicle, 1km</td>\n",
       "      <td>0.04975</td>\n",
       "      <td>{'db_2040': 1}</td>\n",
       "    </tr>\n",
       "  </tbody>\n",
       "</table>\n",
       "</div>"
      ],
      "text/plain": [
       "   hash_producer  time_mapped_producer date_producer  producer  \\\n",
       "0           2023                 98282    2023-01-01     27559   \n",
       "1           2023                 98283    2023-01-01     98281   \n",
       "2           2024                 98284    2024-01-01     98280   \n",
       "3           2025                 98285    2025-01-01     50069   \n",
       "4           2030                 98286    2030-01-01     50069   \n",
       "5           2035                 98287    2035-01-01     50069   \n",
       "6           2040                 98288    2040-01-01     50069   \n",
       "\n",
       "                                       producer_name  hash_consumer  \\\n",
       "0                   market for glider, passenger car           2023   \n",
       "1  foreground car production, electric, without b...           2024   \n",
       "2        foreground transport, electric vehicle, 1km           2024   \n",
       "3          market group for electricity, low voltage           2024   \n",
       "4          market group for electricity, low voltage           2024   \n",
       "5          market group for electricity, low voltage           2024   \n",
       "6          market group for electricity, low voltage           2024   \n",
       "\n",
       "   time_mapped_consumer date_consumer  consumer  \\\n",
       "0                 98283    2023-01-01     98281   \n",
       "1                 98284    2024-01-01     98280   \n",
       "2                    -1    2024-01-01        -1   \n",
       "3                 98284    2024-01-01     98280   \n",
       "4                 98284    2024-01-01     98280   \n",
       "5                 98284    2024-01-01     98280   \n",
       "6                 98284    2024-01-01     98280   \n",
       "\n",
       "                                       consumer_name    amount  \\\n",
       "0  foreground car production, electric, without b...  0.912635   \n",
       "1        foreground transport, electric vehicle, 1km  0.006121   \n",
       "2                                                 -1       1.0   \n",
       "3        foreground transport, electric vehicle, 1km   0.04975   \n",
       "4        foreground transport, electric vehicle, 1km   0.04975   \n",
       "5        foreground transport, electric vehicle, 1km   0.04975   \n",
       "6        foreground transport, electric vehicle, 1km   0.04975   \n",
       "\n",
       "                               interpolation_weights  \n",
       "0  {'cutoff39': 0.6999726252395291, 'db_2030': 0....  \n",
       "1  {'cutoff39': 0.6999726252395291, 'db_2030': 0....  \n",
       "2  {'cutoff39': 0.6000547495209416, 'db_2030': 0....  \n",
       "3  {'cutoff39': 0.4998631261976457, 'db_2030': 0....  \n",
       "4                                     {'db_2030': 1}  \n",
       "5                   {'db_2030': 0.5, 'db_2040': 0.5}  \n",
       "6                                     {'db_2040': 1}  "
      ]
     },
     "execution_count": 24,
     "metadata": {},
     "output_type": "execute_result"
    }
   ],
   "source": [
    "import warnings\n",
    "warnings.filterwarnings(\"ignore\")\n",
    "mlca.build_timeline()"
   ]
  },
  {
   "cell_type": "code",
   "execution_count": 25,
   "metadata": {},
   "outputs": [
    {
     "ename": "UnknownObject",
     "evalue": "",
     "output_type": "error",
     "traceback": [
      "\u001b[1;31m---------------------------------------------------------------------------\u001b[0m",
      "\u001b[1;31mUnknownObject\u001b[0m                             Traceback (most recent call last)",
      "Cell \u001b[1;32mIn[25], line 1\u001b[0m\n\u001b[1;32m----> 1\u001b[0m \u001b[43mmlca\u001b[49m\u001b[38;5;241;43m.\u001b[39;49m\u001b[43mbuild_datapackage\u001b[49m\u001b[43m(\u001b[49m\u001b[43m)\u001b[49m\n\u001b[0;32m      2\u001b[0m mlca\u001b[38;5;241m.\u001b[39mlci()\n\u001b[0;32m      3\u001b[0m mlca\u001b[38;5;241m.\u001b[39mlcia()\n",
      "File \u001b[1;32mc:\\users\\mullera\\onedrive - vito\\documents\\04_coding\\tictac_lca\\timex_lca\\medusa_lca.py:237\u001b[0m, in \u001b[0;36mMedusaLCA.build_datapackage\u001b[1;34m(self)\u001b[0m\n\u001b[0;32m    233\u001b[0m \u001b[38;5;66;03m# Create matrix modifier that creates the new datapackages with the exploded processes and new links to background databases.\u001b[39;00m\n\u001b[0;32m    234\u001b[0m \u001b[38;5;28mself\u001b[39m\u001b[38;5;241m.\u001b[39mmatrix_modifier \u001b[38;5;241m=\u001b[39m MatrixModifier(\n\u001b[0;32m    235\u001b[0m     \u001b[38;5;28mself\u001b[39m\u001b[38;5;241m.\u001b[39mtimeline, \u001b[38;5;28mself\u001b[39m\u001b[38;5;241m.\u001b[39mdatabase_date_dict_static_only, \u001b[38;5;28mself\u001b[39m\u001b[38;5;241m.\u001b[39mdemand_timing_dict\n\u001b[0;32m    236\u001b[0m )\n\u001b[1;32m--> 237\u001b[0m \u001b[38;5;28mself\u001b[39m\u001b[38;5;241m.\u001b[39mdatapackage \u001b[38;5;241m=\u001b[39m \u001b[38;5;28;43mself\u001b[39;49m\u001b[38;5;241;43m.\u001b[39;49m\u001b[43mmatrix_modifier\u001b[49m\u001b[38;5;241;43m.\u001b[39;49m\u001b[43mcreate_datapackage\u001b[49m\u001b[43m(\u001b[49m\u001b[43m)\u001b[49m\n",
      "File \u001b[1;32mc:\\users\\mullera\\onedrive - vito\\documents\\04_coding\\tictac_lca\\timex_lca\\matrix_modifier.py:211\u001b[0m, in \u001b[0;36mMatrixModifier.create_datapackage\u001b[1;34m(self)\u001b[0m\n\u001b[0;32m    207\u001b[0m \u001b[38;5;28;01mdef\u001b[39;00m \u001b[38;5;21mcreate_datapackage\u001b[39m(\u001b[38;5;28mself\u001b[39m) \u001b[38;5;241m-\u001b[39m\u001b[38;5;241m>\u001b[39m \u001b[38;5;28;01mNone\u001b[39;00m:\n\u001b[0;32m    208\u001b[0m \u001b[38;5;250m    \u001b[39m\u001b[38;5;124;03m\"\"\"\u001b[39;00m\n\u001b[0;32m    209\u001b[0m \u001b[38;5;124;03m    Creates a list of datapackages for the technosphere and biosphere matrices.\u001b[39;00m\n\u001b[0;32m    210\u001b[0m \u001b[38;5;124;03m    \"\"\"\u001b[39;00m\n\u001b[1;32m--> 211\u001b[0m     technosphere_datapackage \u001b[38;5;241m=\u001b[39m \u001b[38;5;28;43mself\u001b[39;49m\u001b[38;5;241;43m.\u001b[39;49m\u001b[43mcreate_technosphere_datapackage\u001b[49m\u001b[43m(\u001b[49m\u001b[43m)\u001b[49m\n\u001b[0;32m    212\u001b[0m     biosphere_datapackge \u001b[38;5;241m=\u001b[39m \u001b[38;5;28mself\u001b[39m\u001b[38;5;241m.\u001b[39mcreate_biosphere_datapackage()\n\u001b[0;32m    213\u001b[0m     \u001b[38;5;28;01mreturn\u001b[39;00m [technosphere_datapackage, biosphere_datapackge]\n",
      "File \u001b[1;32mc:\\users\\mullera\\onedrive - vito\\documents\\04_coding\\tictac_lca\\timex_lca\\matrix_modifier.py:137\u001b[0m, in \u001b[0;36mMatrixModifier.create_technosphere_datapackage\u001b[1;34m(self)\u001b[0m\n\u001b[0;32m    134\u001b[0m new_nodes \u001b[38;5;241m=\u001b[39m \u001b[38;5;28mset\u001b[39m()\n\u001b[0;32m    136\u001b[0m \u001b[38;5;28;01mfor\u001b[39;00m row \u001b[38;5;129;01min\u001b[39;00m \u001b[38;5;28mself\u001b[39m\u001b[38;5;241m.\u001b[39mtimeline\u001b[38;5;241m.\u001b[39miloc[::\u001b[38;5;241m-\u001b[39m\u001b[38;5;241m1\u001b[39m]\u001b[38;5;241m.\u001b[39mitertuples():\n\u001b[1;32m--> 137\u001b[0m     \u001b[43madd_row_to_datapackage\u001b[49m\u001b[43m(\u001b[49m\n\u001b[0;32m    138\u001b[0m \u001b[43m        \u001b[49m\u001b[43mrow\u001b[49m\u001b[43m,\u001b[49m\n\u001b[0;32m    139\u001b[0m \u001b[43m        \u001b[49m\u001b[43mdatapackage\u001b[49m\u001b[43m,\u001b[49m\n\u001b[0;32m    140\u001b[0m \u001b[43m        \u001b[49m\u001b[38;5;28;43mself\u001b[39;49m\u001b[38;5;241;43m.\u001b[39;49m\u001b[43mdatabase_date_dict\u001b[49m\u001b[43m,\u001b[49m\n\u001b[0;32m    141\u001b[0m \u001b[43m        \u001b[49m\u001b[38;5;28;43mself\u001b[39;49m\u001b[38;5;241;43m.\u001b[39;49m\u001b[43mdemand_timing\u001b[49m\u001b[43m,\u001b[49m\n\u001b[0;32m    142\u001b[0m \u001b[43m        \u001b[49m\u001b[43mnew_nodes\u001b[49m\u001b[43m,\u001b[49m\n\u001b[0;32m    143\u001b[0m \u001b[43m    \u001b[49m\u001b[43m)\u001b[49m\n\u001b[0;32m    145\u001b[0m \u001b[38;5;66;03m# Adding ones on diagonal for new nodes\u001b[39;00m\n\u001b[0;32m    146\u001b[0m datapackage\u001b[38;5;241m.\u001b[39madd_persistent_vector(\n\u001b[0;32m    147\u001b[0m     matrix\u001b[38;5;241m=\u001b[39m\u001b[38;5;124m\"\u001b[39m\u001b[38;5;124mtechnosphere_matrix\u001b[39m\u001b[38;5;124m\"\u001b[39m,\n\u001b[0;32m    148\u001b[0m     name\u001b[38;5;241m=\u001b[39muuid\u001b[38;5;241m.\u001b[39muuid4()\u001b[38;5;241m.\u001b[39mhex,\n\u001b[1;32m   (...)\u001b[0m\n\u001b[0;32m    152\u001b[0m     ),\n\u001b[0;32m    153\u001b[0m )\n",
      "File \u001b[1;32mc:\\users\\mullera\\onedrive - vito\\documents\\04_coding\\tictac_lca\\timex_lca\\matrix_modifier.py:110\u001b[0m, in \u001b[0;36mMatrixModifier.create_technosphere_datapackage.<locals>.add_row_to_datapackage\u001b[1;34m(row, datapackage, database_date_dict, demand_timing, new_nodes)\u001b[0m\n\u001b[0;32m    106\u001b[0m \u001b[38;5;28;01mif\u001b[39;00m previous_producer_node[\u001b[38;5;124m\"\u001b[39m\u001b[38;5;124mdatabase\u001b[39m\u001b[38;5;124m\"\u001b[39m] \u001b[38;5;129;01min\u001b[39;00m \u001b[38;5;28mself\u001b[39m\u001b[38;5;241m.\u001b[39mdatabase_date_dict\u001b[38;5;241m.\u001b[39mkeys():\n\u001b[0;32m    107\u001b[0m     \u001b[38;5;66;03m# Create new edges based on interpolation_weights from the row\u001b[39;00m\n\u001b[0;32m    108\u001b[0m     \u001b[38;5;28;01mfor\u001b[39;00m database, db_share \u001b[38;5;129;01min\u001b[39;00m row\u001b[38;5;241m.\u001b[39minterpolation_weights\u001b[38;5;241m.\u001b[39mitems():\n\u001b[0;32m    109\u001b[0m         \u001b[38;5;66;03m# Get the producer activity in the corresponding background database\u001b[39;00m\n\u001b[1;32m--> 110\u001b[0m         producer_id_in_background_db \u001b[38;5;241m=\u001b[39m bd\u001b[38;5;241m.\u001b[39mget_node(\n\u001b[0;32m    111\u001b[0m             \u001b[38;5;241m*\u001b[39m\u001b[38;5;241m*\u001b[39m{\n\u001b[0;32m    112\u001b[0m                 \u001b[38;5;124m\"\u001b[39m\u001b[38;5;124mdatabase\u001b[39m\u001b[38;5;124m\"\u001b[39m: database,\n\u001b[0;32m    113\u001b[0m                 \u001b[38;5;124m\"\u001b[39m\u001b[38;5;124mname\u001b[39m\u001b[38;5;124m\"\u001b[39m: previous_producer_node[\u001b[38;5;124m\"\u001b[39m\u001b[38;5;124mname\u001b[39m\u001b[38;5;124m\"\u001b[39m],\n\u001b[0;32m    114\u001b[0m                 \u001b[38;5;124m\"\u001b[39m\u001b[38;5;124mproduct\u001b[39m\u001b[38;5;124m\"\u001b[39m: previous_producer_node[\u001b[38;5;124m\"\u001b[39m\u001b[38;5;124mreference product\u001b[39m\u001b[38;5;124m\"\u001b[39m],\n\u001b[0;32m    115\u001b[0m                 \u001b[38;5;124m\"\u001b[39m\u001b[38;5;124mlocation\u001b[39m\u001b[38;5;124m\"\u001b[39m: previous_producer_node[\u001b[38;5;124m\"\u001b[39m\u001b[38;5;124mlocation\u001b[39m\u001b[38;5;124m\"\u001b[39m],\n\u001b[0;32m    116\u001b[0m             }\n\u001b[0;32m    117\u001b[0m         )\u001b[38;5;241m.\u001b[39mid\n\u001b[0;32m    118\u001b[0m         \u001b[38;5;66;03m# Add entry between exploded producer and producer in background database (\"Temporal Market\")\u001b[39;00m\n\u001b[0;32m    119\u001b[0m         datapackage\u001b[38;5;241m.\u001b[39madd_persistent_vector(\n\u001b[0;32m    120\u001b[0m             matrix\u001b[38;5;241m=\u001b[39m\u001b[38;5;124m\"\u001b[39m\u001b[38;5;124mtechnosphere_matrix\u001b[39m\u001b[38;5;124m\"\u001b[39m,\n\u001b[0;32m    121\u001b[0m             name\u001b[38;5;241m=\u001b[39muuid\u001b[38;5;241m.\u001b[39muuid4()\u001b[38;5;241m.\u001b[39mhex,\n\u001b[1;32m   (...)\u001b[0m\n\u001b[0;32m    127\u001b[0m             flip_array\u001b[38;5;241m=\u001b[39mnp\u001b[38;5;241m.\u001b[39marray([\u001b[38;5;28;01mTrue\u001b[39;00m], dtype\u001b[38;5;241m=\u001b[39m\u001b[38;5;28mbool\u001b[39m),\n\u001b[0;32m    128\u001b[0m         )\n",
      "File \u001b[1;32mc:\\Users\\MULLERA\\AppData\\Local\\anaconda3\\envs\\tictac\\lib\\site-packages\\bw2data\\utils.py:422\u001b[0m, in \u001b[0;36mget_node\u001b[1;34m(**kwargs)\u001b[0m\n\u001b[0;32m    418\u001b[0m     \u001b[38;5;28;01mraise\u001b[39;00m MultipleResults(\n\u001b[0;32m    419\u001b[0m         \u001b[38;5;124m\"\u001b[39m\u001b[38;5;124mFound \u001b[39m\u001b[38;5;132;01m{}\u001b[39;00m\u001b[38;5;124m results for the given search\u001b[39m\u001b[38;5;124m\"\u001b[39m\u001b[38;5;241m.\u001b[39mformat(\u001b[38;5;28mlen\u001b[39m(candidates))\n\u001b[0;32m    420\u001b[0m     )\n\u001b[0;32m    421\u001b[0m \u001b[38;5;28;01melif\u001b[39;00m \u001b[38;5;129;01mnot\u001b[39;00m candidates:\n\u001b[1;32m--> 422\u001b[0m     \u001b[38;5;28;01mraise\u001b[39;00m UnknownObject\n\u001b[0;32m    423\u001b[0m \u001b[38;5;28;01mreturn\u001b[39;00m candidates[\u001b[38;5;241m0\u001b[39m]\n",
      "\u001b[1;31mUnknownObject\u001b[0m: "
     ]
    }
   ],
   "source": [
    "mlca.build_datapackage()\n",
    "mlca.lci()\n",
    "mlca.lcia()"
   ]
  },
  {
   "cell_type": "code",
   "execution_count": 35,
   "metadata": {},
   "outputs": [
    {
     "name": "stdout",
     "output_type": "stream",
     "text": [
      "transport, passenger car, electric db_2020 transport, passenger car, electric\n",
      "market for brake wear emissions, passenger car db_2020 brake wear emissions, passenger car\n",
      "market for road wear emissions, passenger car db_2020 road wear emissions, passenger car\n",
      "market for used Li-ion battery db_2020 used Li-ion battery\n",
      "market for tyre wear emissions, passenger car db_2020 tyre wear emissions, passenger car\n",
      "market for road db_2020 road\n",
      "market for battery, Li-ion, LiMn2O4, rechargeable, prismatic db_2020 battery, Li-ion, LiMn2O4, rechargeable, prismatic\n",
      "market for maintenance, passenger car, electric, without battery db_2020 maintenance, passenger car, electric, without battery\n",
      "market for passenger car, electric, without battery db_2020 passenger car, electric, without battery\n",
      "market group for electricity, low voltage db_2020 electricity, low voltage\n"
     ]
    },
    {
     "ename": "KeyError",
     "evalue": "",
     "output_type": "error",
     "traceback": [
      "\u001b[1;31m---------------------------------------------------------------------------\u001b[0m",
      "\u001b[1;31mValueError\u001b[0m                                Traceback (most recent call last)",
      "File \u001b[1;32mc:\\Users\\MULLERA\\AppData\\Local\\anaconda3\\envs\\tictac\\lib\\site-packages\\bw2data\\backends\\proxies.py:222\u001b[0m, in \u001b[0;36mActivity.__getitem__\u001b[1;34m(self, key)\u001b[0m\n\u001b[0;32m    221\u001b[0m \u001b[38;5;28;01mtry\u001b[39;00m:\n\u001b[1;32m--> 222\u001b[0m     rp \u001b[38;5;241m=\u001b[39m \u001b[38;5;28;43mself\u001b[39;49m\u001b[38;5;241;43m.\u001b[39;49m\u001b[43mrp_exchange\u001b[49m\u001b[43m(\u001b[49m\u001b[43m)\u001b[49m\n\u001b[0;32m    223\u001b[0m \u001b[38;5;28;01mexcept\u001b[39;00m \u001b[38;5;167;01mValueError\u001b[39;00m:\n",
      "File \u001b[1;32mc:\\Users\\MULLERA\\AppData\\Local\\anaconda3\\envs\\tictac\\lib\\site-packages\\bw2data\\backends\\proxies.py:412\u001b[0m, in \u001b[0;36mActivity.rp_exchange\u001b[1;34m(self)\u001b[0m\n\u001b[0;32m    411\u001b[0m \u001b[38;5;28;01melse\u001b[39;00m:\n\u001b[1;32m--> 412\u001b[0m     \u001b[38;5;28;01mraise\u001b[39;00m \u001b[38;5;167;01mValueError\u001b[39;00m(\n\u001b[0;32m    413\u001b[0m         \u001b[38;5;124m\"\u001b[39m\u001b[38;5;124mCan\u001b[39m\u001b[38;5;124m'\u001b[39m\u001b[38;5;124mt find a single reference product exchange (found \u001b[39m\u001b[38;5;132;01m{}\u001b[39;00m\u001b[38;5;124m candidates)\u001b[39m\u001b[38;5;124m\"\u001b[39m\u001b[38;5;241m.\u001b[39mformat(\n\u001b[0;32m    414\u001b[0m             \u001b[38;5;28mlen\u001b[39m(candidates)\n\u001b[0;32m    415\u001b[0m         )\n\u001b[0;32m    416\u001b[0m     )\n",
      "\u001b[1;31mValueError\u001b[0m: Can't find a single reference product exchange (found 5 candidates)",
      "\nDuring handling of the above exception, another exception occurred:\n",
      "\u001b[1;31mKeyError\u001b[0m                                  Traceback (most recent call last)",
      "Cell \u001b[1;32mIn[35], line 8\u001b[0m\n\u001b[0;32m      5\u001b[0m     \u001b[38;5;28mprint\u001b[39m(exc\u001b[38;5;241m.\u001b[39minput[\u001b[38;5;124m\"\u001b[39m\u001b[38;5;124mname\u001b[39m\u001b[38;5;124m\"\u001b[39m], exc\u001b[38;5;241m.\u001b[39minput[\u001b[38;5;124m\"\u001b[39m\u001b[38;5;124mdatabase\u001b[39m\u001b[38;5;124m\"\u001b[39m], exc\u001b[38;5;241m.\u001b[39minput[\u001b[38;5;124m\"\u001b[39m\u001b[38;5;124mreference product\u001b[39m\u001b[38;5;124m\"\u001b[39m], )\n\u001b[0;32m      7\u001b[0m \u001b[38;5;28;01mfor\u001b[39;00m exc \u001b[38;5;129;01min\u001b[39;00m EV_driving_fg\u001b[38;5;241m.\u001b[39mexchanges():\n\u001b[1;32m----> 8\u001b[0m     \u001b[38;5;28mprint\u001b[39m(exc\u001b[38;5;241m.\u001b[39minput[\u001b[38;5;124m\"\u001b[39m\u001b[38;5;124mname\u001b[39m\u001b[38;5;124m\"\u001b[39m], exc\u001b[38;5;241m.\u001b[39minput[\u001b[38;5;124m\"\u001b[39m\u001b[38;5;124mdatabase\u001b[39m\u001b[38;5;124m\"\u001b[39m], \u001b[43mexc\u001b[49m\u001b[38;5;241;43m.\u001b[39;49m\u001b[43minput\u001b[49m\u001b[43m[\u001b[49m\u001b[38;5;124;43m\"\u001b[39;49m\u001b[38;5;124;43mreference product\u001b[39;49m\u001b[38;5;124;43m\"\u001b[39;49m\u001b[43m]\u001b[49m, )\n",
      "File \u001b[1;32mc:\\Users\\MULLERA\\AppData\\Local\\anaconda3\\envs\\tictac\\lib\\site-packages\\bw2data\\backends\\proxies.py:224\u001b[0m, in \u001b[0;36mActivity.__getitem__\u001b[1;34m(self, key)\u001b[0m\n\u001b[0;32m    222\u001b[0m     rp \u001b[38;5;241m=\u001b[39m \u001b[38;5;28mself\u001b[39m\u001b[38;5;241m.\u001b[39mrp_exchange()\n\u001b[0;32m    223\u001b[0m \u001b[38;5;28;01mexcept\u001b[39;00m \u001b[38;5;167;01mValueError\u001b[39;00m:\n\u001b[1;32m--> 224\u001b[0m     \u001b[38;5;28;01mraise\u001b[39;00m \u001b[38;5;167;01mKeyError\u001b[39;00m\n\u001b[0;32m    226\u001b[0m \u001b[38;5;28;01mif\u001b[39;00m key \u001b[38;5;129;01min\u001b[39;00m rp\u001b[38;5;241m.\u001b[39mget(\u001b[38;5;124m\"\u001b[39m\u001b[38;5;124mclassifications\u001b[39m\u001b[38;5;124m\"\u001b[39m, []):\n\u001b[0;32m    227\u001b[0m     \u001b[38;5;28;01mreturn\u001b[39;00m rp[\u001b[38;5;124m\"\u001b[39m\u001b[38;5;124mclassifications\u001b[39m\u001b[38;5;124m\"\u001b[39m][key]\n",
      "\u001b[1;31mKeyError\u001b[0m: "
     ]
    }
   ],
   "source": [
    "# maybe the problem lies in that the background databases have unique reference products on the exchanges, \n",
    "# while the foreground processes have ValueError: Can't find a single reference product exchange (found 5 candidates)\n",
    "# i don't know how to add them\n",
    "\n",
    "for exc in EV_driving_bg.exchanges():\n",
    "    print(exc.input[\"name\"], exc.input[\"database\"], exc.input[\"reference product\"], )\n",
    "\n",
    "for exc in EV_driving_fg.exchanges():\n",
    "    print(exc.input[\"name\"], exc.input[\"database\"], exc.input[\"reference product\"], )"
   ]
  },
  {
   "cell_type": "code",
   "execution_count": 36,
   "metadata": {},
   "outputs": [
    {
     "name": "stdout",
     "output_type": "stream",
     "text": [
      "market for waste glass db_2020 waste glass\n",
      "market for waste rubber, unspecified db_2020 waste rubber, unspecified\n",
      "market for waste glass db_2020 waste glass\n",
      "market group for waste glass db_2020 waste glass\n",
      "market for waste mineral oil db_2020 waste mineral oil\n",
      "passenger car production, electric, without battery db_2020 passenger car, electric, without battery\n",
      "market for waste rubber, unspecified db_2020 waste rubber, unspecified\n",
      "market for waste glass db_2020 waste glass\n",
      "market for waste mineral oil db_2020 waste mineral oil\n",
      "market for waste mineral oil db_2020 waste mineral oil\n",
      "market for waste rubber, unspecified db_2020 waste rubber, unspecified\n",
      "market for waste glass db_2020 waste glass\n",
      "market for waste glass db_2020 waste glass\n",
      "market for waste glass db_2020 waste glass\n",
      "market for waste glass db_2020 waste glass\n",
      "market for glider, passenger car db_2020 glider, passenger car\n",
      "market for powertrain, for electric passenger car db_2020 powertrain, for electric passenger car\n",
      "market for manual dismantling of used electric passenger car db_2020 manual dismantling of used electric passenger car\n"
     ]
    },
    {
     "ename": "KeyError",
     "evalue": "",
     "output_type": "error",
     "traceback": [
      "\u001b[1;31m---------------------------------------------------------------------------\u001b[0m",
      "\u001b[1;31mValueError\u001b[0m                                Traceback (most recent call last)",
      "File \u001b[1;32mc:\\Users\\MULLERA\\AppData\\Local\\anaconda3\\envs\\tictac\\lib\\site-packages\\bw2data\\backends\\proxies.py:222\u001b[0m, in \u001b[0;36mActivity.__getitem__\u001b[1;34m(self, key)\u001b[0m\n\u001b[0;32m    221\u001b[0m \u001b[38;5;28;01mtry\u001b[39;00m:\n\u001b[1;32m--> 222\u001b[0m     rp \u001b[38;5;241m=\u001b[39m \u001b[38;5;28;43mself\u001b[39;49m\u001b[38;5;241;43m.\u001b[39;49m\u001b[43mrp_exchange\u001b[49m\u001b[43m(\u001b[49m\u001b[43m)\u001b[49m\n\u001b[0;32m    223\u001b[0m \u001b[38;5;28;01mexcept\u001b[39;00m \u001b[38;5;167;01mValueError\u001b[39;00m:\n",
      "File \u001b[1;32mc:\\Users\\MULLERA\\AppData\\Local\\anaconda3\\envs\\tictac\\lib\\site-packages\\bw2data\\backends\\proxies.py:412\u001b[0m, in \u001b[0;36mActivity.rp_exchange\u001b[1;34m(self)\u001b[0m\n\u001b[0;32m    411\u001b[0m \u001b[38;5;28;01melse\u001b[39;00m:\n\u001b[1;32m--> 412\u001b[0m     \u001b[38;5;28;01mraise\u001b[39;00m \u001b[38;5;167;01mValueError\u001b[39;00m(\n\u001b[0;32m    413\u001b[0m         \u001b[38;5;124m\"\u001b[39m\u001b[38;5;124mCan\u001b[39m\u001b[38;5;124m'\u001b[39m\u001b[38;5;124mt find a single reference product exchange (found \u001b[39m\u001b[38;5;132;01m{}\u001b[39;00m\u001b[38;5;124m candidates)\u001b[39m\u001b[38;5;124m\"\u001b[39m\u001b[38;5;241m.\u001b[39mformat(\n\u001b[0;32m    414\u001b[0m             \u001b[38;5;28mlen\u001b[39m(candidates)\n\u001b[0;32m    415\u001b[0m         )\n\u001b[0;32m    416\u001b[0m     )\n",
      "\u001b[1;31mValueError\u001b[0m: Can't find a single reference product exchange (found 15 candidates)",
      "\nDuring handling of the above exception, another exception occurred:\n",
      "\u001b[1;31mKeyError\u001b[0m                                  Traceback (most recent call last)",
      "Cell \u001b[1;32mIn[36], line 5\u001b[0m\n\u001b[0;32m      2\u001b[0m     \u001b[38;5;28mprint\u001b[39m(exc\u001b[38;5;241m.\u001b[39minput[\u001b[38;5;124m\"\u001b[39m\u001b[38;5;124mname\u001b[39m\u001b[38;5;124m\"\u001b[39m], exc\u001b[38;5;241m.\u001b[39minput[\u001b[38;5;124m\"\u001b[39m\u001b[38;5;124mdatabase\u001b[39m\u001b[38;5;124m\"\u001b[39m], exc\u001b[38;5;241m.\u001b[39minput[\u001b[38;5;124m\"\u001b[39m\u001b[38;5;124mreference product\u001b[39m\u001b[38;5;124m\"\u001b[39m], )\n\u001b[0;32m      4\u001b[0m \u001b[38;5;28;01mfor\u001b[39;00m exc \u001b[38;5;129;01min\u001b[39;00m car_prod_fg\u001b[38;5;241m.\u001b[39mexchanges():\n\u001b[1;32m----> 5\u001b[0m     \u001b[38;5;28mprint\u001b[39m(exc\u001b[38;5;241m.\u001b[39minput[\u001b[38;5;124m\"\u001b[39m\u001b[38;5;124mname\u001b[39m\u001b[38;5;124m\"\u001b[39m], exc\u001b[38;5;241m.\u001b[39minput[\u001b[38;5;124m\"\u001b[39m\u001b[38;5;124mdatabase\u001b[39m\u001b[38;5;124m\"\u001b[39m], \u001b[43mexc\u001b[49m\u001b[38;5;241;43m.\u001b[39;49m\u001b[43minput\u001b[49m\u001b[43m[\u001b[49m\u001b[38;5;124;43m\"\u001b[39;49m\u001b[38;5;124;43mreference product\u001b[39;49m\u001b[38;5;124;43m\"\u001b[39;49m\u001b[43m]\u001b[49m, )\n",
      "File \u001b[1;32mc:\\Users\\MULLERA\\AppData\\Local\\anaconda3\\envs\\tictac\\lib\\site-packages\\bw2data\\backends\\proxies.py:224\u001b[0m, in \u001b[0;36mActivity.__getitem__\u001b[1;34m(self, key)\u001b[0m\n\u001b[0;32m    222\u001b[0m     rp \u001b[38;5;241m=\u001b[39m \u001b[38;5;28mself\u001b[39m\u001b[38;5;241m.\u001b[39mrp_exchange()\n\u001b[0;32m    223\u001b[0m \u001b[38;5;28;01mexcept\u001b[39;00m \u001b[38;5;167;01mValueError\u001b[39;00m:\n\u001b[1;32m--> 224\u001b[0m     \u001b[38;5;28;01mraise\u001b[39;00m \u001b[38;5;167;01mKeyError\u001b[39;00m\n\u001b[0;32m    226\u001b[0m \u001b[38;5;28;01mif\u001b[39;00m key \u001b[38;5;129;01min\u001b[39;00m rp\u001b[38;5;241m.\u001b[39mget(\u001b[38;5;124m\"\u001b[39m\u001b[38;5;124mclassifications\u001b[39m\u001b[38;5;124m\"\u001b[39m, []):\n\u001b[0;32m    227\u001b[0m     \u001b[38;5;28;01mreturn\u001b[39;00m rp[\u001b[38;5;124m\"\u001b[39m\u001b[38;5;124mclassifications\u001b[39m\u001b[38;5;124m\"\u001b[39m][key]\n",
      "\u001b[1;31mKeyError\u001b[0m: "
     ]
    }
   ],
   "source": [
    "for exc in car_prod_background.exchanges():\n",
    "    print(exc.input[\"name\"], exc.input[\"database\"], exc.input[\"reference product\"], )\n",
    "\n",
    "for exc in car_prod_fg.exchanges():\n",
    "    print(exc.input[\"name\"], exc.input[\"database\"], exc.input[\"reference product\"], )"
   ]
  },
  {
   "cell_type": "code",
   "execution_count": null,
   "metadata": {},
   "outputs": [],
   "source": [
    "print('Old static LCA Score:', mlca.static_lca.score)\n",
    "print('New MEDUSA LCA Score:', mlca.score)"
   ]
  },
  {
   "cell_type": "code",
   "execution_count": null,
   "metadata": {},
   "outputs": [],
   "source": [
    "mlca.dynamic_inventory"
   ]
  }
 ],
 "metadata": {
  "kernelspec": {
   "display_name": "tictac2",
   "language": "python",
   "name": "python3"
  },
  "language_info": {
   "codemirror_mode": {
    "name": "ipython",
    "version": 3
   },
   "file_extension": ".py",
   "mimetype": "text/x-python",
   "name": "python",
   "nbconvert_exporter": "python",
   "pygments_lexer": "ipython3",
   "version": "3.10.13"
  }
 },
 "nbformat": 4,
 "nbformat_minor": 2
}
