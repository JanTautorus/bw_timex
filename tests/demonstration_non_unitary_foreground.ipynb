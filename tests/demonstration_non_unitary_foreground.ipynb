{
 "cells": [
  {
   "cell_type": "code",
   "execution_count": 1,
   "metadata": {},
   "outputs": [
    {
     "name": "stderr",
     "output_type": "stream",
     "text": [
      "100%|██████████| 1/1 [00:00<?, ?it/s]\n"
     ]
    },
    {
     "name": "stdout",
     "output_type": "stream",
     "text": [
      "Vacuuming database \n",
      "Not able to determine geocollections for all datasets. This database is not ready for regionalization.\n"
     ]
    },
    {
     "name": "stderr",
     "output_type": "stream",
     "text": [
      "100%|██████████| 1/1 [00:00<00:00, 932.69it/s]\n"
     ]
    },
    {
     "name": "stdout",
     "output_type": "stream",
     "text": [
      "Vacuuming database \n",
      "Not able to determine geocollections for all datasets. This database is not ready for regionalization.\n"
     ]
    },
    {
     "name": "stderr",
     "output_type": "stream",
     "text": [
      "100%|██████████| 2/2 [00:00<00:00, 4140.48it/s]\n"
     ]
    },
    {
     "name": "stdout",
     "output_type": "stream",
     "text": [
      "Vacuuming database \n"
     ]
    }
   ],
   "source": [
    "from pathlib import Path\n",
    "import pytest\n",
    "import bw2calc as bc\n",
    "import bw2data as bd\n",
    "from bw_timex import TimexLCA\n",
    "from datetime import datetime\n",
    "\n",
    "bd.projects.set_current(\"__test_nonunitary__\")\n",
    "bd.Database(\"bio\").write(\n",
    "    {\n",
    "        (\"bio\", \"CO2\"): {\n",
    "            \"type\": \"emission\",\n",
    "            \"name\": \"carbon dioxide\",\n",
    "        },\n",
    "    },\n",
    ")\n",
    "bd.Database(\"db_2020\").write(\n",
    "    {\n",
    "        (\"db_2020\", \"C\"): {\n",
    "            \"name\": \"c\",\n",
    "            \"location\": \"somewhere\",\n",
    "            \"reference product\": \"c\",\n",
    "            \"exchanges\": [\n",
    "                {\n",
    "                    \"amount\": 3, #produces a non unitary (not 1) amount\n",
    "                    \"type\": \"production\",\n",
    "                    \"input\": (\"db_2020\", \"C\"),\n",
    "                },\n",
    "                {\n",
    "                    \"amount\": 0.5,  \n",
    "                    \"type\": \"biosphere\",\n",
    "                    \"input\": (\"bio\", \"CO2\"),\n",
    "                },\n",
    "            ]\n",
    "        },\n",
    "}\n",
    ")\n",
    "\n",
    "bd.Database(\"foreground\").write(\n",
    "    { \n",
    "        (\"foreground\", \"A\"): {\n",
    "            \"name\": \"a\",\n",
    "            \"location\": \"somewhere\",\n",
    "            \"reference product\": \"a\",\n",
    "            \"exchanges\": [\n",
    "                {\n",
    "                    \"amount\": 1,\n",
    "                    \"type\": \"production\",\n",
    "                    \"input\": (\"foreground\", \"A\"),\n",
    "                },\n",
    "                {\n",
    "                    \"amount\": 1.5,\n",
    "                    \"type\": \"technosphere\",\n",
    "                    \"input\": (\"db_2020\", \"C\"),\n",
    "                },\n",
    "                {\n",
    "                    \"amount\": 4,\n",
    "                    \"type\": \"technosphere\",\n",
    "                    \"input\": (\"foreground\", \"B\"),\n",
    "                },\n",
    "            ]\n",
    "        },\n",
    "\n",
    "        (\"foreground\", \"B\"): {\n",
    "            \"name\": \"b\",\n",
    "            \"location\": \"somewhere\",\n",
    "            \"reference product\": \"b\",\n",
    "            \"exchanges\": [\n",
    "                {\n",
    "                    \"amount\": 7, #produces a non unitary (not 1) amount\n",
    "                    \"type\": \"production\",\n",
    "                    \"input\": (\"foreground\", \"B\"),\n",
    "                },\n",
    "                {\n",
    "                    \"amount\": 0.9,  \n",
    "                    \"type\": \"biosphere\",\n",
    "                    \"input\": (\"bio\", \"CO2\"),\n",
    "                },\n",
    "            ]\n",
    "        }\n",
    "    }\n",
    ")\n",
    "\n",
    "bd.Method((\"GWP\", \"example\")).write(\n",
    "    [\n",
    "        ((\"bio\", \"CO2\"), 1),\n",
    "    ]\n",
    ")"
   ]
  },
  {
   "cell_type": "code",
   "execution_count": 2,
   "metadata": {},
   "outputs": [
    {
     "name": "stdout",
     "output_type": "stream",
     "text": [
      "Starting graph traversal\n",
      "Calculation count: 2\n"
     ]
    },
    {
     "name": "stderr",
     "output_type": "stream",
     "text": [
      "c:\\Users\\MULLERA\\OneDrive - VITO\\Documents\\04_Coding\\tictac_lca\\bw_timex\\timex_lca.py:182: UserWarning: No edge filter function provided. Skipping all edges within background databases.\n",
      "  warnings.warn(\n",
      "c:\\Users\\MULLERA\\OneDrive - VITO\\Documents\\04_Coding\\tictac_lca\\bw_timex\\timeline_builder.py:444: Warning: Reference date 2024-01-01 00:00:00 is higher than all provided dates. Data will be taken from the closest lower year.\n",
      "  warnings.warn(\n"
     ]
    }
   ],
   "source": [
    "bd.projects.set_current(\"__test_nonunitary__\")\n",
    "\n",
    "node_a = bd.get_node(database=\"foreground\", code=\"A\")\n",
    "\n",
    "database_date_dict = {\n",
    "    \"db_2020\": datetime.strptime(\"2020\", \"%Y\")    ,         \n",
    "    \"foreground\": \"dynamic\",  \n",
    "}\n",
    "\n",
    "tlca = TimexLCA(demand={node_a: 1}, method=(\"GWP\", \"example\"), database_date_dict = database_date_dict)\n",
    "\n",
    "tlca.build_timeline()\n",
    "tlca.lci()\n",
    "tlca.static_lcia()\n"
   ]
  },
  {
   "cell_type": "code",
   "execution_count": 3,
   "metadata": {},
   "outputs": [
    {
     "data": {
      "text/plain": [
       "0.7642857142857142"
      ]
     },
     "execution_count": 3,
     "metadata": {},
     "output_type": "execute_result"
    }
   ],
   "source": [
    "expected_score = (1 * 1.5 / 3 * 0.5 + # A -> Nonunitary in bd_2020\n",
    "                  1 * 4 / 7 * 0.9) # A -> B -> Nonunitary in foreground \n",
    "\n",
    "\n",
    "expected_score "
   ]
  },
  {
   "cell_type": "code",
   "execution_count": 4,
   "metadata": {},
   "outputs": [
    {
     "data": {
      "text/plain": [
       "3.85"
      ]
     },
     "execution_count": 4,
     "metadata": {},
     "output_type": "execute_result"
    }
   ],
   "source": [
    "tlca.score"
   ]
  },
  {
   "cell_type": "code",
   "execution_count": 6,
   "metadata": {},
   "outputs": [
    {
     "data": {
      "text/plain": [
       "3.85"
      ]
     },
     "execution_count": 6,
     "metadata": {},
     "output_type": "execute_result"
    }
   ],
   "source": [
    "false_score =  (1 * 1.5 / 3 * 0.5 + # A -> Nonunitary in bd_2020\n",
    "                  1 * 4  * 0.9) # A -> B -> Nonunitary in foreground (not scaled by production amount!)\n",
    "false_score "
   ]
  }
 ],
 "metadata": {
  "kernelspec": {
   "display_name": "timex_temporalis_local",
   "language": "python",
   "name": "python3"
  },
  "language_info": {
   "codemirror_mode": {
    "name": "ipython",
    "version": 3
   },
   "file_extension": ".py",
   "mimetype": "text/x-python",
   "name": "python",
   "nbconvert_exporter": "python",
   "pygments_lexer": "ipython3",
   "version": "3.12.3"
  }
 },
 "nbformat": 4,
 "nbformat_minor": 2
}
