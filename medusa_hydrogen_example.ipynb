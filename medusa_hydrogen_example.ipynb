{
 "cells": [
  {
   "cell_type": "markdown",
   "id": "bee706e3",
   "metadata": {},
   "source": [
    "# `MEDUSA`\n",
    "aka. Dynamic-Prospective LCA aka. Union(premise, temporalis)"
   ]
  },
  {
   "cell_type": "code",
   "execution_count": 44,
   "id": "d8cd7a3f",
   "metadata": {
    "tags": []
   },
   "outputs": [],
   "source": [
    "from bw_temporalis import easy_timedelta_distribution, easy_datetime_distribution, TemporalisLCA, Timeline, TemporalDistribution\n",
    "from bw_temporalis.lcia import characterize_methane, characterize_co2\n",
    "import bw2data as bd\n",
    "import bw2calc as bc\n",
    "import bw_graph_tools as graph\n",
    "import numpy as np\n",
    "import pandas as pd"
   ]
  },
  {
   "cell_type": "code",
   "execution_count": 45,
   "id": "2e2b26c2",
   "metadata": {},
   "outputs": [
    {
     "data": {
      "text/plain": [
       "Brightway2 projects manager with 15 objects:\n",
       "\tLCA_VL_masterdb\n",
       "\tTest\n",
       "\tas23_project\n",
       "\tas23_project_bw2\n",
       "\tdefault\n",
       "\tei39\n",
       "\tei39_premise_scenarios\n",
       "\tmedusa_test1\n",
       "\tpremise-example\n",
       "\tpremise_ei39\n",
       "\ttest\n",
       "\ttictac\n",
       "\ttictacthree\n",
       "\t📊📈💎🕤🗓️\n",
       "\t🪒\n",
       "Use `projects.report()` to get a report on all projects."
      ]
     },
     "execution_count": 45,
     "metadata": {},
     "output_type": "execute_result"
    }
   ],
   "source": [
    "bd.projects.set_current('default')\n",
    "bd.projects"
   ]
  },
  {
   "cell_type": "code",
   "execution_count": 46,
   "id": "d00df98a-fcae-4160-a30f-54aed29c1f19",
   "metadata": {
    "editable": true,
    "slideshow": {
     "slide_type": ""
    },
    "tags": []
   },
   "outputs": [],
   "source": [
    "try: \n",
    "    bd.projects.delete_project('medusa_test1')\n",
    "    bd.projects.purge_deleted_directories()\n",
    "except:\n",
    "    pass\n",
    "\n",
    "bd.projects.set_current(\"medusa_test1\")"
   ]
  },
  {
   "cell_type": "markdown",
   "id": "26987fcb",
   "metadata": {},
   "source": [
    "### Create some example databases\n",
    "This is based on the forest example"
   ]
  },
  {
   "cell_type": "code",
   "execution_count": 47,
   "id": "79a523bc",
   "metadata": {
    "tags": []
   },
   "outputs": [],
   "source": [
    "# bd.Database('temporalis-bio').write({\n",
    "#     ('temporalis-bio', \"CO2\"): {\n",
    "#         \"type\": \"emission\",\n",
    "#         \"name\": \"carbon dioxide\",\n",
    "#         \"temporalis code\": \"co2\",\n",
    "#     },\n",
    "#     ('temporalis-bio', \"CH4\"): {\n",
    "#         \"type\": \"emission\",\n",
    "#         \"name\": \"methane\",\n",
    "#         \"temporalis code\": \"ch4\",\n",
    "#     },\n",
    "# })\n",
    "\n",
    "# bd.Database('dummy-database').write({\n",
    "#     ('dummy-database', 'dummy_activity'): {\n",
    "#         'name': 'Drive an electric car',\n",
    "#         'exchanges': [\n",
    "#             {\n",
    "#                 'amount': 1,\n",
    "#                 'type': 'production',\n",
    "#                 'input': ('dummy-database', 'dummy_activity'),\n",
    "#             },\n",
    "#             {\n",
    "#                 'amount': 3,\n",
    "#                 'type': 'technosphere',\n",
    "#                 'input': ('dummy-database', 'dummy_activity_2'),\n",
    "#             },\n",
    "#         ]\n",
    "#     },\n",
    "#     ('dummy-database', 'dummy_activity_2'): {\n",
    "#         'name': 'Drive an electric car 3',\n",
    "#         'exchanges': [\n",
    "#             {\n",
    "#                 'amount': 1,\n",
    "#                 'type': 'production',\n",
    "#                 'input': ('dummy-database', 'dummy_activity_2'),\n",
    "#             },\n",
    "#             {\n",
    "#                 'amount': 398189,\n",
    "#                 'type': 'biosphere',\n",
    "#                 'input': ('temporalis-bio', 'CO2'),\n",
    "#             },\n",
    "#         ]\n",
    "#     }\n",
    "# })\n",
    "\n",
    "\n",
    "# bd.Database('dummy-database-2').write({\n",
    "#     ('dummy-database-2', 'dummy_activity'): {\n",
    "#         'name': 'Drive an electric car',\n",
    "#         'exchanges': [\n",
    "#             {\n",
    "#                 'amount': 1,\n",
    "#                 'type': 'production',\n",
    "#                 'input': ('dummy-database-2', 'dummy_activity'),\n",
    "#             },\n",
    "#             {\n",
    "#                 'amount': 1,\n",
    "#                 'type': 'technosphere',\n",
    "#                 'input': ('dummy-database-2', 'dummy_activity_2'),\n",
    "#             },\n",
    "#         ]\n",
    "#     },\n",
    "#     ('dummy-database-2', 'dummy_activity_2'): {\n",
    "#         'name': 'Drive an electric car 3',\n",
    "#         'exchanges': [\n",
    "#             {\n",
    "#                 'amount': 1,\n",
    "#                 'type': 'production',\n",
    "#                 'input': ('dummy-database-2', 'dummy_activity_2'),\n",
    "#             },\n",
    "#             {\n",
    "#                 'amount': 0,\n",
    "#                 'type': 'biosphere',\n",
    "#                 'input': ('temporalis-bio', 'CO2'),\n",
    "#             },\n",
    "#         ]\n",
    "#     }\n",
    "# })\n",
    "\n",
    "\n",
    "# bd.Database('temporalis-example').write({\n",
    "#     ('temporalis-example', 'Functional Unit'): {\n",
    "#         'name': 'Functional Unit',\n",
    "#         'type': 'process',\n",
    "#         'exchanges': [\n",
    "#             {\n",
    "#                 'amount': 1,\n",
    "#                 'input': ('temporalis-example', 'Functional Unit'),\n",
    "#                 'type': 'production',\n",
    "#             },\n",
    "#             {\n",
    "#                 'amount': 5,\n",
    "#                 'input': ('temporalis-example', 'EOL'),\n",
    "#                 'temporal_distribution': \n",
    "#                     easy_timedelta_distribution(\n",
    "#                     start=0,\n",
    "#                     end=4, # Range includes both start and end\n",
    "#                     resolution=\"Y\",  # M for months, Y for years, etc.\n",
    "#                     steps=5,\n",
    "#                 ),\n",
    "#                 'type': 'technosphere'\n",
    "#             },\n",
    "#         ],\n",
    "#     },\n",
    "#     ('temporalis-example', 'EOL'): {\n",
    "#         'exchanges': [\n",
    "#             {\n",
    "#                 'amount': 0.8,\n",
    "#                 'input': ('temporalis-example', 'Waste'),\n",
    "#                 'type': 'technosphere'\n",
    "#             },\n",
    "#             {\n",
    "#                 'amount': 0.2,\n",
    "#                 'input': ('temporalis-example', 'Landfill'),\n",
    "#                 'type': 'technosphere'\n",
    "#             },\n",
    "#             {\n",
    "#                 'amount': 1,\n",
    "#                 'input': ('temporalis-example', 'Use'),\n",
    "#                 'type': 'technosphere'\n",
    "#             },\n",
    "#         ],\n",
    "#         'name': 'EOL',\n",
    "#         'type': 'process'\n",
    "#     },\n",
    "#     ('temporalis-example', 'Use'): {\n",
    "#         'exchanges': [\n",
    "#             {\n",
    "#                 'amount': 1,\n",
    "#                 'input': ('temporalis-example', 'Production'),\n",
    "#                 'temporal_distribution': TemporalDistribution(\n",
    "#                     np.array([-4], dtype='timedelta64[M]'),\n",
    "#                     np.array([1.0])\n",
    "#                 ),\n",
    "#                 'type': 'technosphere'\n",
    "#             },\n",
    "#         ],\n",
    "#         'name': 'Use',\n",
    "#     },\n",
    "#     ('temporalis-example', 'Production'): {\n",
    "#         'exchanges': [\n",
    "#             {\n",
    "#                 'amount': 1,\n",
    "#                 'input': ('temporalis-example', 'Transport'),\n",
    "#                 'temporal_distribution': TemporalDistribution(\n",
    "#                     np.array([200],dtype='timedelta64[D]'),\n",
    "#                     np.array([1.0])\n",
    "#                 ),\n",
    "#                 'type': 'technosphere'\n",
    "#             },\n",
    "#         ],\n",
    "#         'name': 'Production',\n",
    "#         'type': 'process'\n",
    "#     },\n",
    "#     ('temporalis-example', 'Transport'): {\n",
    "#         'exchanges': [\n",
    "#             {\n",
    "#                 'amount': 1,\n",
    "#                 'input': ('temporalis-example', 'Sawmill'),\n",
    "#                 'type': 'technosphere'\n",
    "#             },\n",
    "#             {\n",
    "#                 'amount': 0.1,\n",
    "#                 'input': ('temporalis-bio', 'CO2'),\n",
    "#                 'type': 'biosphere'\n",
    "#             },\n",
    "#         ],\n",
    "#         'name': 'Production',\n",
    "#         'type': 'process'\n",
    "#     },\n",
    "#     ('temporalis-example', 'Sawmill'): {\n",
    "#         'exchanges': [\n",
    "#             {\n",
    "#                 'amount': 1.2,\n",
    "#                 'input': ('temporalis-example', 'Forest'),\n",
    "#                 'temporal_distribution': TemporalDistribution(\n",
    "#                     np.array([-14], dtype='timedelta64[M]'),\n",
    "#                     np.array([1.0])\n",
    "#                 ),\n",
    "#                 'type': 'technosphere'\n",
    "#             },\n",
    "#             {\n",
    "#                 'amount': 0.1,\n",
    "#                 'input': ('temporalis-bio', 'CO2'),\n",
    "#                 'type': 'biosphere'\n",
    "#             },\n",
    "#             {\n",
    "#                 'amount': 4,\n",
    "#                 'input': ('dummy-database', 'dummy_activity'),\n",
    "#                 'temporal_distribution': TemporalDistribution(\n",
    "#                     np.array([-5], dtype='timedelta64[M]'),\n",
    "#                     np.array([1.0])\n",
    "#                 ),\n",
    "#                 'type': 'technosphere'\n",
    "#             },\n",
    "#         ],\n",
    "#         'name': 'Sawmill',\n",
    "#         'type': 'process'\n",
    "#     },\n",
    "#     ('temporalis-example', 'Forest'): {\n",
    "#         'exchanges': [\n",
    "#             {\n",
    "#                 'amount': -.1 * 6,\n",
    "#                 'input': ('temporalis-bio', 'CO2'),\n",
    "#                 'temporal_distribution': TemporalDistribution(\n",
    "#                     np.array([-4, -3, 0, 1, 2, 5], dtype='timedelta64[Y]'),\n",
    "#                     np.ones(6) * (1/6)\n",
    "#                 ),\n",
    "#                 'type': 'biosphere'\n",
    "#             },\n",
    "#             {\n",
    "#                 'amount': 1.5,\n",
    "#                 'input': ('temporalis-example', 'Thinning'),\n",
    "#                 'temporal_distribution': TemporalDistribution(\n",
    "#                     np.array([-3, 0, 1], dtype='timedelta64[Y]'),\n",
    "#                     np.ones(3) * 1/3\n",
    "#                 ),\n",
    "#                 'type': 'technosphere'\n",
    "#             },\n",
    "#         ],\n",
    "#         'name': 'Forest',\n",
    "#     },\n",
    "#     ('temporalis-example', 'Thinning'): {\n",
    "#         'exchanges': [\n",
    "#             {\n",
    "#                 'amount': 1,\n",
    "#                 'input': ('temporalis-example', 'Thinning'),\n",
    "#                 'type': 'production'\n",
    "#             },\n",
    "#             {\n",
    "#                 'amount': 1,\n",
    "#                 'input': ('temporalis-example', 'Avoided impact - thinnings'),\n",
    "#                 'type': 'production'\n",
    "#             },\n",
    "#         ],\n",
    "#         'name': 'Thinning',\n",
    "#         'type': 'process'\n",
    "#     },\n",
    "#     ('temporalis-example', 'Landfill'): {\n",
    "#         'exchanges': [\n",
    "#             {\n",
    "#                 'amount': 0.1,\n",
    "#                 'input': ('temporalis-bio', 'CH4'),\n",
    "#                 'temporal_distribution': TemporalDistribution(\n",
    "#                     np.array([10, 20, 60, 100], dtype='timedelta64[M]'),\n",
    "#                     np.ones(4) * 1/4\n",
    "#                 ),\n",
    "#                 'type': 'biosphere'\n",
    "#             },\n",
    "#         ],\n",
    "#         'name': 'Landfill',\n",
    "#         'type': 'process'\n",
    "#     },\n",
    "#     ('temporalis-example', 'Waste'): {\n",
    "#         'exchanges': [\n",
    "#             {\n",
    "#                 'amount': 1,\n",
    "#                 'input': ('temporalis-example', 'Waste'),\n",
    "#                 'type': 'production'\n",
    "#             },\n",
    "#             {\n",
    "#                 'amount': 1,\n",
    "#                 'input': ('temporalis-example', 'Avoided impact - waste'),\n",
    "#                 'type': 'production'\n",
    "#             },\n",
    "#         ],\n",
    "#         'name': 'Waste',\n",
    "#         'type': 'process'\n",
    "#     },\n",
    "#     ('temporalis-example', 'Avoided impact - waste'): {\n",
    "#         'exchanges': [\n",
    "#             {\n",
    "#                 'amount': -0.4,\n",
    "#                 'input': ('temporalis-bio', 'CO2'),\n",
    "#                 'type': 'biosphere'\n",
    "#             },\n",
    "#             {\n",
    "#                 'amount': 1,\n",
    "#                 'input': ('temporalis-example', 'Avoided impact - waste'),\n",
    "#                 'type': 'production'\n",
    "#             },\n",
    "#         ],\n",
    "#         'name': 'Avoided impact - waste',\n",
    "#         'type': 'process'\n",
    "#     },\n",
    "#     ('temporalis-example', 'Avoided impact - thinnings'): {\n",
    "#         'exchanges': [\n",
    "#             {\n",
    "#                 'amount': -0.3,\n",
    "#                 'input': ('temporalis-bio', 'CO2'),\n",
    "#                 'type': 'biosphere'\n",
    "#             },\n",
    "#             {\n",
    "#                 'amount': 1,\n",
    "#                 'input': ('temporalis-example', 'Avoided impact - thinnings'),\n",
    "#                 'type': 'production'\n",
    "#             },\n",
    "#         ],\n",
    "#         'name': 'Avoided impact - thinnings',\n",
    "#         'type': 'process'\n",
    "#     }\n",
    "# })\n"
   ]
  },
  {
   "cell_type": "code",
   "execution_count": 48,
   "id": "5d3622ff",
   "metadata": {},
   "outputs": [
    {
     "name": "stderr",
     "output_type": "stream",
     "text": [
      "100%|██████████| 2/2 [00:00<?, ?it/s]\n"
     ]
    },
    {
     "name": "stdout",
     "output_type": "stream",
     "text": [
      "Vacuuming database \n",
      "Not able to determine geocollections for all datasets. This database is not ready for regionalization.\n"
     ]
    },
    {
     "name": "stderr",
     "output_type": "stream",
     "text": [
      "100%|██████████| 2/2 [00:00<?, ?it/s]\n"
     ]
    },
    {
     "name": "stdout",
     "output_type": "stream",
     "text": [
      "Vacuuming database \n",
      "Not able to determine geocollections for all datasets. This database is not ready for regionalization.\n"
     ]
    },
    {
     "name": "stderr",
     "output_type": "stream",
     "text": [
      "100%|██████████| 2/2 [00:00<?, ?it/s]\n"
     ]
    },
    {
     "name": "stdout",
     "output_type": "stream",
     "text": [
      "Vacuuming database \n",
      "Not able to determine geocollections for all datasets. This database is not ready for regionalization.\n"
     ]
    },
    {
     "name": "stderr",
     "output_type": "stream",
     "text": [
      "100%|██████████| 2/2 [00:00<?, ?it/s]"
     ]
    },
    {
     "name": "stdout",
     "output_type": "stream",
     "text": [
      "Vacuuming database \n"
     ]
    },
    {
     "name": "stderr",
     "output_type": "stream",
     "text": [
      "\n"
     ]
    }
   ],
   "source": [
    "bd.Database('temporalis-bio').write({\n",
    "    ('temporalis-bio', \"CO2\"): {\n",
    "        \"type\": \"emission\",\n",
    "        \"name\": \"carbon dioxide\",\n",
    "        \"temporalis code\": \"co2\",\n",
    "    },\n",
    "    ('temporalis-bio', \"CH4\"): {\n",
    "        \"type\": \"emission\",\n",
    "        \"name\": \"methane\",\n",
    "        \"temporalis code\": \"ch4\",\n",
    "    },\n",
    "})\n",
    "\n",
    "bd.Database('background_2023').write({\n",
    "    ('background_2023', 'electricity_mix'): {\n",
    "        'name': 'Electricity mix',\n",
    "        'exchanges': [\n",
    "            {\n",
    "                'amount': 1,\n",
    "                'type': 'production',\n",
    "                'input': ('background_2023', 'electricity_mix'),\n",
    "            },\n",
    "            {\n",
    "                'amount': 1,\n",
    "                'type': 'technosphere',\n",
    "                'input': ('background_2023', 'electricity_wind'),\n",
    "            },\n",
    "        ]\n",
    "    },\n",
    "    ('background_2023', 'electricity_wind'): {\n",
    "        'name': 'Electricity production, wind',\n",
    "        'exchanges': [\n",
    "            {\n",
    "                'amount': 1,\n",
    "                'type': 'production',\n",
    "                'input': ('background_2023', 'electricity_wind'),\n",
    "            },\n",
    "            {\n",
    "                'amount': 1,\n",
    "                'type': 'biosphere',\n",
    "                'input': ('temporalis-bio', 'CO2'),\n",
    "            },\n",
    "        ]\n",
    "    }\n",
    "})\n",
    "\n",
    "bd.Database('background_2020').write({\n",
    "    ('background_2020', 'electricity_mix'): {\n",
    "        'name': 'Electricity mix',\n",
    "        'exchanges': [\n",
    "            {\n",
    "                'amount': 1,\n",
    "                'type': 'production',\n",
    "                'input': ('background_2020', 'electricity_mix'),\n",
    "            },\n",
    "            {\n",
    "                'amount': 1,\n",
    "                'type': 'technosphere',\n",
    "                'input': ('background_2020', 'electricity_wind'),\n",
    "            },\n",
    "        ]\n",
    "    },\n",
    "    ('background_2020', 'electricity_wind'): {\n",
    "        'name': 'Electricity production, wind',\n",
    "        'exchanges': [\n",
    "            {\n",
    "                'amount': 1,\n",
    "                'type': 'production',\n",
    "                'input': ('background_2020', 'electricity_wind'),\n",
    "            },\n",
    "            {\n",
    "                'amount': 3124987,\n",
    "                'type': 'biosphere',\n",
    "                'input': ('temporalis-bio', 'CO2'),\n",
    "            },\n",
    "        ]\n",
    "    }\n",
    "})\n",
    "\n",
    "bd.Database('foreground').write({\n",
    "    ('foreground', 'heat_from_hydrogen'): {\n",
    "        'name': 'Heat production, hydrogen',\n",
    "        'exchanges': [\n",
    "            {\n",
    "                'amount': 1,\n",
    "                'type': 'production',\n",
    "                'input': ('foreground', 'heat_from_hydrogen'),\n",
    "            },\n",
    "            {\n",
    "                'amount': 1,\n",
    "                'type': 'technosphere',\n",
    "                'input': ('foreground', 'electrolysis'),\n",
    "                'temporal_distribution': # e.g. because some hydrogen was stored in the meantime\n",
    "                    easy_timedelta_distribution(\n",
    "                    start=-4,\n",
    "                    end=0, # Range includes both start and end\n",
    "                    resolution=\"Y\",  # M for months, Y for years, etc.\n",
    "                    steps=2,\n",
    "                ),\n",
    "            },\n",
    "        ]\n",
    "    },('foreground', 'electrolysis'): {\n",
    "        'name': 'Hydrogen production, electrolysis',\n",
    "        'exchanges': [\n",
    "            {\n",
    "                'amount': 1,\n",
    "                'type': 'production',\n",
    "                'input': ('foreground', 'electrolysis'),\n",
    "            },\n",
    "            {\n",
    "                'amount': 1,\n",
    "                'type': 'technosphere',\n",
    "                'input': ('background_2023', 'electricity_mix'),\n",
    "            },\n",
    "        ]\n",
    "    },\n",
    "})"
   ]
  },
  {
   "cell_type": "code",
   "execution_count": 49,
   "id": "8e02b150-0249-4884-90ad-f129c2c13eb2",
   "metadata": {
    "tags": []
   },
   "outputs": [],
   "source": [
    "bd.Method((\"GWP\", \"example\")).write([\n",
    "    (('temporalis-bio', \"CO2\"), 1),\n",
    "    (('temporalis-bio', \"CH4\"), 25),\n",
    "])"
   ]
  },
  {
   "cell_type": "code",
   "execution_count": 50,
   "id": "8d9405d9",
   "metadata": {},
   "outputs": [],
   "source": [
    "demand = {('foreground', 'heat_from_hydrogen'): 1}\n",
    "gwp = ('GWP', 'example')"
   ]
  },
  {
   "cell_type": "markdown",
   "id": "31ced634",
   "metadata": {},
   "source": [
    "# Static LCA"
   ]
  },
  {
   "cell_type": "code",
   "execution_count": 51,
   "id": "cca6b8f2-12a3-43f9-8be2-c6a898268adf",
   "metadata": {
    "tags": []
   },
   "outputs": [
    {
     "data": {
      "text/plain": [
       "1.0"
      ]
     },
     "execution_count": 51,
     "metadata": {},
     "output_type": "execute_result"
    }
   ],
   "source": [
    "slca = bc.LCA(demand, gwp)\n",
    "slca.lci()\n",
    "slca.lcia()\n",
    "slca.score"
   ]
  },
  {
   "cell_type": "code",
   "execution_count": 52,
   "id": "418d17a1",
   "metadata": {},
   "outputs": [],
   "source": [
    "# [(bd.get_node(id=i)['name'], bd.get_node(id=i)['database']) for i in lca.dicts.product.reversed.values()]"
   ]
  },
  {
   "cell_type": "markdown",
   "id": "fef29cd7-aad5-4b5b-9a38-4bd6f796299b",
   "metadata": {},
   "source": [
    "# Custom `EdgeExtractor` class"
   ]
  },
  {
   "cell_type": "code",
   "execution_count": 53,
   "id": "d77883c7-1e2d-46f5-b12c-25c7f6be7d6e",
   "metadata": {},
   "outputs": [],
   "source": [
    "from dataclasses import dataclass\n",
    "from heapq import heappop, heappush\n",
    "from typing import Callable, List\n",
    "\n",
    "from bw_temporalis import TemporalisLCA, TemporalDistribution\n",
    "\n",
    "\n",
    "@dataclass\n",
    "class Edge:\n",
    "    \"\"\"\n",
    "    Class for storing a temporal edge with source and target.\n",
    "\n",
    "    Leaf edges link to a source process which is a leaf in\n",
    "    our graph traversal (either through cutoff or a filter\n",
    "    function).\n",
    "\n",
    "    Attributes\n",
    "    ----------\n",
    "    distribution : TemporalDistribution\n",
    "    leaf : bool\n",
    "    consumer : int\n",
    "    producer : int\n",
    "\n",
    "    \"\"\"\n",
    "\n",
    "    distribution: TemporalDistribution\n",
    "    leaf: bool\n",
    "    consumer: int\n",
    "    producer: int\n",
    "\n",
    "\n",
    "class EdgeExtracter(TemporalisLCA):\n",
    "    def __init__(self, *args, edge_filter_function: Callable = None, **kwargs):\n",
    "        super().__init__(*args, **kwargs)\n",
    "        if edge_filter_function:\n",
    "            self.edge_ff = edge_filter_function\n",
    "        else:\n",
    "            self.edge_ff = lambda x: False\n",
    "\n",
    "    def build_edge_timeline(self, node_timeline: bool | None = False) -> List:\n",
    "        heap = []\n",
    "        timeline = []\n",
    "\n",
    "        for edge in self.edge_mapping[self.unique_id]:\n",
    "            node = self.nodes[edge.producer_unique_id]\n",
    "            heappush(\n",
    "                heap,\n",
    "                (\n",
    "                    1 / node.cumulative_score,\n",
    "                    self.t0 * edge.amount,\n",
    "                    node,\n",
    "                ),\n",
    "            )\n",
    "            timeline.append(\n",
    "                Edge(\n",
    "                    distribution=self.t0 * edge.amount,\n",
    "                    leaf=False,\n",
    "                    consumer=self.unique_id,\n",
    "                    producer=node.activity_datapackage_id,\n",
    "                )\n",
    "            )\n",
    "\n",
    "        while heap:\n",
    "            _, td, node = heappop(heap)\n",
    "\n",
    "            for edge in self.edge_mapping[node.unique_id]:\n",
    "                row_id = self.nodes[edge.producer_unique_id].activity_datapackage_id\n",
    "                col_id = node.activity_datapackage_id\n",
    "                exchange = self.get_technosphere_exchange(\n",
    "                    input_id=row_id,\n",
    "                    output_id=col_id,\n",
    "                )\n",
    "                value = (\n",
    "                    self._exchange_value(\n",
    "                        exchange=exchange,\n",
    "                        row_id=row_id,\n",
    "                        col_id=col_id,\n",
    "                        matrix_label=\"technosphere_matrix\",\n",
    "                    )\n",
    "                    / node.reference_product_production_amount\n",
    "                )\n",
    "                producer = self.nodes[edge.producer_unique_id]\n",
    "                leaf = self.edge_ff(row_id)\n",
    "\n",
    "                distribution = (td * value).simplify()\n",
    "                timeline.append(\n",
    "                    Edge(\n",
    "                        distribution=distribution,\n",
    "                        leaf=leaf,\n",
    "                        consumer=node.activity_datapackage_id,\n",
    "                        producer=producer.activity_datapackage_id,\n",
    "                    )\n",
    "                )\n",
    "                if not leaf:\n",
    "                    heappush(\n",
    "                        heap,\n",
    "                        (\n",
    "                            1 / node.cumulative_score,\n",
    "                            distribution,\n",
    "                            producer,\n",
    "                        ),\n",
    "                    )\n",
    "        return timeline"
   ]
  },
  {
   "cell_type": "code",
   "execution_count": 54,
   "id": "31af46a8-ceee-4ccd-8964-fbc9698f43b3",
   "metadata": {},
   "outputs": [],
   "source": [
    "SKIPPABLE = [node.id for node in bd.Database('background_2020')] + [\n",
    "    node.id for node in bd.Database('background_2023')\n",
    "]\n",
    "\n",
    "def filter_function(database_id: int) -> bool:\n",
    "    return database_id in SKIPPABLE"
   ]
  },
  {
   "cell_type": "markdown",
   "id": "97cceffb",
   "metadata": {},
   "source": [
    "# Example"
   ]
  },
  {
   "cell_type": "code",
   "execution_count": 55,
   "id": "d3d56515-377a-4086-921f-c8fd7efca39f",
   "metadata": {
    "tags": []
   },
   "outputs": [
    {
     "name": "stdout",
     "output_type": "stream",
     "text": [
      "Starting graph traversal\n",
      "Calculation count: 3\n"
     ]
    }
   ],
   "source": [
    "eelca = EdgeExtracter(slca, edge_filter_function=filter_function)"
   ]
  },
  {
   "cell_type": "code",
   "execution_count": 56,
   "id": "71a4206c-130e-4e91-b189-6b3c9cd11eeb",
   "metadata": {
    "tags": []
   },
   "outputs": [],
   "source": [
    "timeline = eelca.build_edge_timeline()"
   ]
  },
  {
   "cell_type": "code",
   "execution_count": 57,
   "id": "87ee2773",
   "metadata": {},
   "outputs": [
    {
     "data": {
      "text/plain": [
       "[array(['2023-10-14T11:38:32'], dtype='datetime64[s]'),\n",
       " array(['2019-10-14T12:21:44', '2023-10-14T11:38:32'],\n",
       "       dtype='datetime64[s]'),\n",
       " array(['2019-10-14T12:21:44', '2023-10-14T11:38:32'],\n",
       "       dtype='datetime64[s]')]"
      ]
     },
     "execution_count": 57,
     "metadata": {},
     "output_type": "execute_result"
    }
   ],
   "source": [
    "[edge.distribution.date for edge in timeline]"
   ]
  },
  {
   "cell_type": "code",
   "execution_count": 58,
   "id": "7b5649e3",
   "metadata": {},
   "outputs": [
    {
     "name": "stderr",
     "output_type": "stream",
     "text": [
      "c:\\Users\\timod\\OneDrive\\Dokumente\\Python\\tictac_lca\\medusa_tools.py:334: Warning: Date outside the range of dates covered by the databases.\n",
      "  warnings.warn(\"Date outside the range of dates covered by the databases.\", category=Warning)\n"
     ]
    }
   ],
   "source": [
    "from medusa_tools import create_grouped_edge_dataframe\n",
    "from datetime import datetime\n",
    "\n",
    "dates_list = [\n",
    "        datetime.strptime(\"2020\", \"%Y\"),\n",
    "        datetime.strptime(\"2023\", \"%Y\"),\n",
    "    ] # we probably should comebine this with database_date_dict, or include the time data in the databases directly\n",
    "timeline_df = create_grouped_edge_dataframe(timeline, dates_list, interpolation_type=\"linear\")"
   ]
  },
  {
   "cell_type": "code",
   "execution_count": 59,
   "id": "67d65172",
   "metadata": {},
   "outputs": [
    {
     "data": {
      "text/html": [
       "<div>\n",
       "<style scoped>\n",
       "    .dataframe tbody tr th:only-of-type {\n",
       "        vertical-align: middle;\n",
       "    }\n",
       "\n",
       "    .dataframe tbody tr th {\n",
       "        vertical-align: top;\n",
       "    }\n",
       "\n",
       "    .dataframe thead th {\n",
       "        text-align: right;\n",
       "    }\n",
       "</style>\n",
       "<table border=\"1\" class=\"dataframe\">\n",
       "  <thead>\n",
       "    <tr style=\"text-align: right;\">\n",
       "      <th></th>\n",
       "      <th>year</th>\n",
       "      <th>producer</th>\n",
       "      <th>consumer</th>\n",
       "      <th>amount</th>\n",
       "      <th>leaf</th>\n",
       "      <th>date</th>\n",
       "      <th>interpolation_weights</th>\n",
       "      <th>producer_name</th>\n",
       "    </tr>\n",
       "  </thead>\n",
       "  <tbody>\n",
       "    <tr>\n",
       "      <th>0</th>\n",
       "      <td>2019</td>\n",
       "      <td>11</td>\n",
       "      <td>16</td>\n",
       "      <td>0.5</td>\n",
       "      <td>1</td>\n",
       "      <td>2019-01-01</td>\n",
       "      <td>{2020: 1}</td>\n",
       "      <td>Electricity mix</td>\n",
       "    </tr>\n",
       "    <tr>\n",
       "      <th>1</th>\n",
       "      <td>2019</td>\n",
       "      <td>16</td>\n",
       "      <td>15</td>\n",
       "      <td>0.5</td>\n",
       "      <td>0</td>\n",
       "      <td>2019-01-01</td>\n",
       "      <td>{2020: 1}</td>\n",
       "      <td>Hydrogen production, electrolysis</td>\n",
       "    </tr>\n",
       "    <tr>\n",
       "      <th>2</th>\n",
       "      <td>2023</td>\n",
       "      <td>11</td>\n",
       "      <td>16</td>\n",
       "      <td>0.5</td>\n",
       "      <td>1</td>\n",
       "      <td>2023-01-01</td>\n",
       "      <td>{2023: 1}</td>\n",
       "      <td>Electricity mix</td>\n",
       "    </tr>\n",
       "    <tr>\n",
       "      <th>3</th>\n",
       "      <td>2023</td>\n",
       "      <td>15</td>\n",
       "      <td>-1</td>\n",
       "      <td>1.0</td>\n",
       "      <td>0</td>\n",
       "      <td>2023-01-01</td>\n",
       "      <td>{2023: 1}</td>\n",
       "      <td>Heat production, hydrogen</td>\n",
       "    </tr>\n",
       "    <tr>\n",
       "      <th>4</th>\n",
       "      <td>2023</td>\n",
       "      <td>16</td>\n",
       "      <td>15</td>\n",
       "      <td>0.5</td>\n",
       "      <td>0</td>\n",
       "      <td>2023-01-01</td>\n",
       "      <td>{2023: 1}</td>\n",
       "      <td>Hydrogen production, electrolysis</td>\n",
       "    </tr>\n",
       "  </tbody>\n",
       "</table>\n",
       "</div>"
      ],
      "text/plain": [
       "   year  producer  consumer amount  leaf       date interpolation_weights  \\\n",
       "0  2019        11        16    0.5     1 2019-01-01             {2020: 1}   \n",
       "1  2019        16        15    0.5     0 2019-01-01             {2020: 1}   \n",
       "2  2023        11        16    0.5     1 2023-01-01             {2023: 1}   \n",
       "3  2023        15        -1    1.0     0 2023-01-01             {2023: 1}   \n",
       "4  2023        16        15    0.5     0 2023-01-01             {2023: 1}   \n",
       "\n",
       "                       producer_name  \n",
       "0                    Electricity mix  \n",
       "1  Hydrogen production, electrolysis  \n",
       "2                    Electricity mix  \n",
       "3          Heat production, hydrogen  \n",
       "4  Hydrogen production, electrolysis  "
      ]
     },
     "execution_count": 59,
     "metadata": {},
     "output_type": "execute_result"
    }
   ],
   "source": [
    "timeline_df\n",
    "# if leaf -> include prospective db in dp???"
   ]
  },
  {
   "cell_type": "code",
   "execution_count": 60,
   "id": "d7d48585",
   "metadata": {},
   "outputs": [
    {
     "name": "stdout",
     "output_type": "stream",
     "text": [
      "Choosing background_2020 for year 2020; Previous producer was ('background_2023', 'electricity_mix')\n",
      "Previous producer: ('background_2023', 'electricity_mix'), id = 11\n",
      "Previous consumer: ('foreground', 'electrolysis'), id = 16\n",
      "New producer id = 13\n",
      "New consumer id = 1602019\n",
      "\n",
      "Choosing background_2023 for year 2023; Previous producer was ('background_2023', 'electricity_mix')\n",
      "Previous producer: ('background_2023', 'electricity_mix'), id = 11\n",
      "Previous consumer: ('foreground', 'electrolysis'), id = 16\n",
      "New producer id = 11\n",
      "New consumer id = 1602023\n",
      "\n"
     ]
    },
    {
     "name": "stderr",
     "output_type": "stream",
     "text": [
      "c:\\Users\\timod\\OneDrive\\Dokumente\\Python\\tictac_lca\\medusa_tools.py:169: Warning: \n",
      "May I have your attention please? Will the real producer please stand up? \n",
      "'Heat production, hydrogen' (None, None, None) has no producer. Production exchange missing?\n",
      "  warnings.warn(f\"\\nMay I have your attention please? Will the real producer please stand up? \\n{bd.get_node(id=row.producer)} has no producer. Production exchange missing?\", category=Warning)\n"
     ]
    }
   ],
   "source": [
    "from medusa_tools import get_datapackage_from_edge_timeline\n",
    "\n",
    "database_date_dict = {\n",
    "            2020: 'background_2020',\n",
    "            2023: 'background_2023',\n",
    "        }\n",
    "dp = get_datapackage_from_edge_timeline(timeline_df, database_date_dict)"
   ]
  },
  {
   "cell_type": "code",
   "execution_count": 61,
   "id": "7c180abc",
   "metadata": {},
   "outputs": [],
   "source": [
    "# databases_as_dp = [bd.Database(db).datapackage() for db in bd.databases]\n",
    "# should rather be something like database_names = set.union(\n",
    "        #     *[\n",
    "        #         Database(db_label).find_graph_dependents()\n",
    "        #         for db_label in demand_database_names\n",
    "        #     ]\n",
    "        # )\n",
    "\n",
    "# databases_as_dp = bd.Database('background_2020').datapackage()"
   ]
  },
  {
   "cell_type": "code",
   "execution_count": 62,
   "id": "71bba776",
   "metadata": {},
   "outputs": [],
   "source": [
    "from medusa_tools import prepare_medusa_lca_inputs\n",
    "\n",
    "# fu, data_objs, remapping = bd.prepare_lca_inputs(demand=demand, method=gwp)\n",
    "fu, data_objs, remapping = prepare_medusa_lca_inputs(demand=demand, method=gwp) # using this instead of bd.prepare_lca_inputs(), all databases (incl. prospective ones) should now be included in data_objs"
   ]
  },
  {
   "cell_type": "code",
   "execution_count": 68,
   "id": "4b3edb83",
   "metadata": {},
   "outputs": [
    {
     "data": {
      "text/plain": [
       "{'activity': {9: ('temporalis-bio', 'CO2'),\n",
       "  10: ('temporalis-bio', 'CH4'),\n",
       "  11: ('background_2023', 'electricity_mix'),\n",
       "  12: ('background_2023', 'electricity_wind'),\n",
       "  13: ('background_2020', 'electricity_mix'),\n",
       "  14: ('background_2020', 'electricity_wind'),\n",
       "  15: ('foreground', 'heat_from_hydrogen'),\n",
       "  16: ('foreground', 'electrolysis')},\n",
       " 'product': {9: ('temporalis-bio', 'CO2'),\n",
       "  10: ('temporalis-bio', 'CH4'),\n",
       "  11: ('background_2023', 'electricity_mix'),\n",
       "  12: ('background_2023', 'electricity_wind'),\n",
       "  13: ('background_2020', 'electricity_mix'),\n",
       "  14: ('background_2020', 'electricity_wind'),\n",
       "  15: ('foreground', 'heat_from_hydrogen'),\n",
       "  16: ('foreground', 'electrolysis')},\n",
       " 'biosphere': {9: ('temporalis-bio', 'CO2'),\n",
       "  10: ('temporalis-bio', 'CH4'),\n",
       "  11: ('background_2023', 'electricity_mix'),\n",
       "  12: ('background_2023', 'electricity_wind'),\n",
       "  13: ('background_2020', 'electricity_mix'),\n",
       "  14: ('background_2020', 'electricity_wind'),\n",
       "  15: ('foreground', 'heat_from_hydrogen'),\n",
       "  16: ('foreground', 'electrolysis')}}"
      ]
     },
     "execution_count": 68,
     "metadata": {},
     "output_type": "execute_result"
    }
   ],
   "source": [
    "remapping"
   ]
  },
  {
   "cell_type": "code",
   "execution_count": 71,
   "id": "0e819fe2",
   "metadata": {},
   "outputs": [
    {
     "ename": "TypeError",
     "evalue": "'Datapackage' object is not subscriptable",
     "output_type": "error",
     "traceback": [
      "\u001b[1;31m---------------------------------------------------------------------------\u001b[0m",
      "\u001b[1;31mTypeError\u001b[0m                                 Traceback (most recent call last)",
      "\u001b[1;32mc:\\Users\\timod\\OneDrive\\Dokumente\\Python\\tictac_lca\\medusa_testi.ipynb Cell 26\u001b[0m line \u001b[0;36m1\n\u001b[1;32m----> <a href='vscode-notebook-cell:/c%3A/Users/timod/OneDrive/Dokumente/Python/tictac_lca/medusa_testi.ipynb#Y106sZmlsZQ%3D%3D?line=0'>1</a>\u001b[0m data_objs[\u001b[39m0\u001b[39;49m][\u001b[39m'\u001b[39;49m\u001b[39mname\u001b[39;49m\u001b[39m'\u001b[39;49m]\n",
      "\u001b[1;31mTypeError\u001b[0m: 'Datapackage' object is not subscriptable"
     ]
    }
   ],
   "source": [
    "data_objs[0]['name']"
   ]
  },
  {
   "cell_type": "code",
   "execution_count": 65,
   "id": "672597c0",
   "metadata": {},
   "outputs": [],
   "source": [
    "lca = bc.LCA(fu, data_objs = data_objs + [dp], remapping_dicts=remapping)"
   ]
  },
  {
   "cell_type": "code",
   "execution_count": 66,
   "id": "368af63e",
   "metadata": {},
   "outputs": [
    {
     "data": {
      "text/plain": [
       "[]"
      ]
     },
     "execution_count": 66,
     "metadata": {},
     "output_type": "execute_result"
    }
   ],
   "source": [
    "lca.load_lci_data(nonsquare_ok=True)\n",
    "acts = set([v for v in lca.dicts.activity.reversed.values()])\n",
    "prods = set([v for v in lca.dicts.product.reversed.values()])\n",
    "prods-acts\n",
    "[bd.get_node(id=missing_product).key for missing_product in prods-acts]"
   ]
  },
  {
   "cell_type": "code",
   "execution_count": 67,
   "id": "4a51cd8a",
   "metadata": {},
   "outputs": [
    {
     "name": "stdout",
     "output_type": "stream",
     "text": [
      "new lca score: 1.0\n",
      "old lca score: 1.0\n"
     ]
    }
   ],
   "source": [
    "lca.lci()\n",
    "lca.lcia()\n",
    "print('new lca score:', lca.score)\n",
    "print('old lca score:', slca.score)"
   ]
  },
  {
   "cell_type": "code",
   "execution_count": 43,
   "id": "e551b7da",
   "metadata": {},
   "outputs": [
    {
     "data": {
      "text/plain": [
       "{3, 4, 5, 6, 7, 8, 302019, 302023, 702019, 702023, 802019, 802023}"
      ]
     },
     "execution_count": 43,
     "metadata": {},
     "output_type": "execute_result"
    }
   ],
   "source": [
    "acts"
   ]
  },
  {
   "cell_type": "code",
   "execution_count": null,
   "id": "6b693fce",
   "metadata": {},
   "outputs": [],
   "source": []
  }
 ],
 "metadata": {
  "kernelspec": {
   "display_name": "Python 3 (ipykernel)",
   "language": "python",
   "name": "python3"
  },
  "language_info": {
   "codemirror_mode": {
    "name": "ipython",
    "version": 3
   },
   "file_extension": ".py",
   "mimetype": "text/x-python",
   "name": "python",
   "nbconvert_exporter": "python",
   "pygments_lexer": "ipython3",
   "version": "3.10.12"
  }
 },
 "nbformat": 4,
 "nbformat_minor": 5
}
