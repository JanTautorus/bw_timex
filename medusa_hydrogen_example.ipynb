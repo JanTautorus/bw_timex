{
 "cells": [
  {
   "cell_type": "markdown",
   "id": "bee706e3",
   "metadata": {},
   "source": [
    "# `MEDUSA`\n",
    "aka. Dynamic-Prospective LCA aka. Union(premise, temporalis)"
   ]
  },
  {
   "cell_type": "code",
   "execution_count": 1,
   "id": "d8cd7a3f",
   "metadata": {
    "tags": []
   },
   "outputs": [],
   "source": [
    "from bw_temporalis import easy_timedelta_distribution, easy_datetime_distribution, TemporalisLCA, Timeline, TemporalDistribution\n",
    "from bw_temporalis.lcia import characterize_methane, characterize_co2\n",
    "import bw2data as bd\n",
    "import bw2calc as bc\n",
    "import bw_graph_tools as graph\n",
    "import numpy as np\n",
    "import pandas as pd"
   ]
  },
  {
   "cell_type": "code",
   "execution_count": 2,
   "id": "d00df98a-fcae-4160-a30f-54aed29c1f19",
   "metadata": {
    "editable": true,
    "slideshow": {
     "slide_type": ""
    },
    "tags": []
   },
   "outputs": [],
   "source": [
    "try: \n",
    "    bd.projects.delete_project('medusa_test1')\n",
    "    bd.projects.purge_deleted_directories()\n",
    "except:\n",
    "    pass\n",
    "\n",
    "bd.projects.set_current(\"medusa_test9\")"
   ]
  },
  {
   "cell_type": "markdown",
   "id": "26987fcb",
   "metadata": {},
   "source": [
    "### Create example databases"
   ]
  },
  {
   "cell_type": "code",
   "execution_count": 24,
   "id": "5d3622ff",
   "metadata": {},
   "outputs": [
    {
     "name": "stderr",
     "output_type": "stream",
     "text": [
      "100%|██████████| 2/2 [00:00<?, ?it/s]"
     ]
    },
    {
     "name": "stderr",
     "output_type": "stream",
     "text": [
      "\n"
     ]
    },
    {
     "name": "stdout",
     "output_type": "stream",
     "text": [
      "Vacuuming database \n",
      "Not able to determine geocollections for all datasets. This database is not ready for regionalization.\n"
     ]
    },
    {
     "name": "stderr",
     "output_type": "stream",
     "text": [
      "100%|██████████| 2/2 [00:00<00:00, 1990.65it/s]\n"
     ]
    },
    {
     "name": "stdout",
     "output_type": "stream",
     "text": [
      "Vacuuming database \n",
      "Not able to determine geocollections for all datasets. This database is not ready for regionalization.\n"
     ]
    },
    {
     "name": "stderr",
     "output_type": "stream",
     "text": [
      "100%|██████████| 2/2 [00:00<?, ?it/s]\n"
     ]
    },
    {
     "name": "stdout",
     "output_type": "stream",
     "text": [
      "Vacuuming database \n",
      "Not able to determine geocollections for all datasets. This database is not ready for regionalization.\n"
     ]
    },
    {
     "name": "stderr",
     "output_type": "stream",
     "text": [
      "100%|██████████| 2/2 [00:00<?, ?it/s]\n"
     ]
    },
    {
     "name": "stdout",
     "output_type": "stream",
     "text": [
      "Vacuuming database \n"
     ]
    }
   ],
   "source": [
    "bd.Database('temporalis-bio').write({\n",
    "    ('temporalis-bio', \"CO2\"): {\n",
    "        \"type\": \"emission\",\n",
    "        \"name\": \"carbon dioxide\",\n",
    "        \"temporalis code\": \"co2\",\n",
    "    },\n",
    "    ('temporalis-bio', \"CH4\"): {\n",
    "        \"type\": \"emission\",\n",
    "        \"name\": \"methane\",\n",
    "        \"temporalis code\": \"ch4\",\n",
    "    },\n",
    "})\n",
    "\n",
    "bd.Database('background_2023').write({\n",
    "    ('background_2023', 'electricity_mix'): {\n",
    "        'name': 'Electricity mix',\n",
    "        'exchanges': [\n",
    "            {\n",
    "                'amount': 1,\n",
    "                'type': 'production',\n",
    "                'input': ('background_2023', 'electricity_mix'),\n",
    "            },\n",
    "            {\n",
    "                'amount': 1,\n",
    "                'type': 'technosphere',\n",
    "                'input': ('background_2023', 'electricity_wind'),\n",
    "            },\n",
    "        ]\n",
    "    },\n",
    "    ('background_2023', 'electricity_wind'): {\n",
    "        'name': 'Electricity production, wind',\n",
    "        'exchanges': [\n",
    "            {\n",
    "                'amount': 1,\n",
    "                'type': 'production',\n",
    "                'input': ('background_2023', 'electricity_wind'),\n",
    "            },\n",
    "            {\n",
    "                'amount': 1,\n",
    "                'type': 'biosphere',\n",
    "                'input': ('temporalis-bio', 'CO2'),\n",
    "            },\n",
    "        ]\n",
    "    }\n",
    "})\n",
    "\n",
    "bd.Database('background_2020').write({\n",
    "    ('background_2020', 'electricity_mix'): {\n",
    "        'name': 'Electricity mix',\n",
    "        'exchanges': [\n",
    "            {\n",
    "                'amount': 1,\n",
    "                'type': 'production',\n",
    "                'input': ('background_2020', 'electricity_mix'),\n",
    "            },\n",
    "            {\n",
    "                'amount': 1,\n",
    "                'type': 'technosphere',\n",
    "                'input': ('background_2020', 'electricity_wind'),\n",
    "            },\n",
    "        ]\n",
    "    },\n",
    "    ('background_2020', 'electricity_wind'): {\n",
    "        'name': 'Electricity production, wind',\n",
    "        'exchanges': [\n",
    "            {\n",
    "                'amount': 1,\n",
    "                'type': 'production',\n",
    "                'input': ('background_2020', 'electricity_wind'),\n",
    "            },\n",
    "            {\n",
    "                'amount': 468745,\n",
    "                'type': 'biosphere',\n",
    "                'input': ('temporalis-bio', 'CO2'),\n",
    "            },\n",
    "        ]\n",
    "    }\n",
    "})\n",
    "\n",
    "bd.Database('foreground').write({\n",
    "    ('foreground', 'heat_from_hydrogen'): {\n",
    "        'name': 'Heat production, hydrogen',\n",
    "        'exchanges': [\n",
    "            {\n",
    "                'amount': 1,\n",
    "                'type': 'production',\n",
    "                'input': ('foreground', 'heat_from_hydrogen'),\n",
    "            },\n",
    "            {\n",
    "                'amount': 1,\n",
    "                'type': 'technosphere',\n",
    "                'input': ('background_2023', 'electricity_mix'),\n",
    "                'temporal_distribution': # e.g. because some hydrogen was stored in the meantime\n",
    "                    easy_timedelta_distribution(\n",
    "                    start=-2,\n",
    "                    end=0, # Range includes both start and end\n",
    "                    resolution=\"Y\",  # M for months, Y for years, etc.\n",
    "                    steps=2,\n",
    "                ),\n",
    "            },\n",
    "        ]\n",
    "    },\n",
    "    ('foreground', 'electrolysis'): {\n",
    "        'name': 'Hydrogen production, electrolysis',\n",
    "        'exchanges': [\n",
    "            {\n",
    "                'amount': 1,\n",
    "                'type': 'production',\n",
    "                'input': ('foreground', 'electrolysis'),\n",
    "            },\n",
    "            {\n",
    "                'amount': 1,\n",
    "                'type': 'technosphere',\n",
    "                'input': ('background_2023', 'electricity_mix'),\n",
    "            },\n",
    "        ]\n",
    "    },\n",
    "})"
   ]
  },
  {
   "cell_type": "code",
   "execution_count": 25,
   "id": "8e02b150-0249-4884-90ad-f129c2c13eb2",
   "metadata": {
    "tags": []
   },
   "outputs": [],
   "source": [
    "bd.Method((\"GWP\", \"example\")).write([\n",
    "    (('temporalis-bio', \"CO2\"), 1),\n",
    "    (('temporalis-bio', \"CH4\"), 25),\n",
    "])"
   ]
  },
  {
   "cell_type": "code",
   "execution_count": 26,
   "id": "8d9405d9",
   "metadata": {},
   "outputs": [],
   "source": [
    "demand = {('foreground', 'heat_from_hydrogen'): 1}\n",
    "gwp = ('GWP', 'example')"
   ]
  },
  {
   "cell_type": "markdown",
   "id": "31ced634",
   "metadata": {},
   "source": [
    "# Static LCA"
   ]
  },
  {
   "cell_type": "code",
   "execution_count": 27,
   "id": "cca6b8f2-12a3-43f9-8be2-c6a898268adf",
   "metadata": {
    "tags": []
   },
   "outputs": [
    {
     "data": {
      "text/plain": [
       "1.0"
      ]
     },
     "execution_count": 27,
     "metadata": {},
     "output_type": "execute_result"
    }
   ],
   "source": [
    "slca = bc.LCA(demand, gwp)\n",
    "slca.lci()\n",
    "slca.lcia()\n",
    "slca.score"
   ]
  },
  {
   "cell_type": "markdown",
   "id": "fef29cd7-aad5-4b5b-9a38-4bd6f796299b",
   "metadata": {},
   "source": [
    "# Custom `EdgeExtractor` class"
   ]
  },
  {
   "cell_type": "code",
   "execution_count": 28,
   "id": "d77883c7-1e2d-46f5-b12c-25c7f6be7d6e",
   "metadata": {},
   "outputs": [],
   "source": [
    "from dataclasses import dataclass\n",
    "from heapq import heappop, heappush\n",
    "from typing import Callable, List\n",
    "\n",
    "from bw_temporalis import TemporalisLCA, TemporalDistribution\n",
    "\n",
    "\n",
    "@dataclass\n",
    "class Edge:\n",
    "    \"\"\"\n",
    "    Class for storing a temporal edge with source and target.\n",
    "\n",
    "    Leaf edges link to a source process which is a leaf in\n",
    "    our graph traversal (either through cutoff or a filter\n",
    "    function).\n",
    "\n",
    "    Attributes\n",
    "    ----------\n",
    "    distribution : TemporalDistribution\n",
    "    leaf : bool\n",
    "    consumer : int\n",
    "    producer : int\n",
    "\n",
    "    \"\"\"\n",
    "\n",
    "    distribution: TemporalDistribution\n",
    "    leaf: bool\n",
    "    consumer: int\n",
    "    producer: int\n",
    "\n",
    "\n",
    "class EdgeExtracter(TemporalisLCA):\n",
    "    def __init__(self, *args, edge_filter_function: Callable = None, **kwargs):\n",
    "        super().__init__(*args, **kwargs)\n",
    "        if edge_filter_function:\n",
    "            self.edge_ff = edge_filter_function\n",
    "        else:\n",
    "            self.edge_ff = lambda x: False\n",
    "\n",
    "    def build_edge_timeline(self, node_timeline: bool | None = False) -> List:\n",
    "        heap = []\n",
    "        timeline = []\n",
    "\n",
    "        for edge in self.edge_mapping[self.unique_id]:\n",
    "            node = self.nodes[edge.producer_unique_id]\n",
    "            heappush(\n",
    "                heap,\n",
    "                (\n",
    "                    1 / node.cumulative_score,\n",
    "                    self.t0 * edge.amount,\n",
    "                    node,\n",
    "                ),\n",
    "            )\n",
    "            timeline.append(\n",
    "                Edge(\n",
    "                    distribution=self.t0 * edge.amount,\n",
    "                    leaf=False,\n",
    "                    consumer=self.unique_id,\n",
    "                    producer=node.activity_datapackage_id,\n",
    "                )\n",
    "            )\n",
    "\n",
    "        while heap:\n",
    "            _, td, node = heappop(heap)\n",
    "\n",
    "            for edge in self.edge_mapping[node.unique_id]:\n",
    "                row_id = self.nodes[edge.producer_unique_id].activity_datapackage_id\n",
    "                col_id = node.activity_datapackage_id\n",
    "                exchange = self.get_technosphere_exchange(\n",
    "                    input_id=row_id,\n",
    "                    output_id=col_id,\n",
    "                )\n",
    "                value = (\n",
    "                    self._exchange_value(\n",
    "                        exchange=exchange,\n",
    "                        row_id=row_id,\n",
    "                        col_id=col_id,\n",
    "                        matrix_label=\"technosphere_matrix\",\n",
    "                    )\n",
    "                    / node.reference_product_production_amount\n",
    "                )\n",
    "                producer = self.nodes[edge.producer_unique_id]\n",
    "                leaf = self.edge_ff(row_id)\n",
    "\n",
    "                distribution = (td * value).simplify()\n",
    "                timeline.append(\n",
    "                    Edge(\n",
    "                        distribution=distribution,\n",
    "                        leaf=leaf,\n",
    "                        consumer=node.activity_datapackage_id,\n",
    "                        producer=producer.activity_datapackage_id,\n",
    "                    )\n",
    "                )\n",
    "                if not leaf:\n",
    "                    heappush(\n",
    "                        heap,\n",
    "                        (\n",
    "                            1 / node.cumulative_score,\n",
    "                            distribution,\n",
    "                            producer,\n",
    "                        ),\n",
    "                    )\n",
    "        return timeline"
   ]
  },
  {
   "cell_type": "code",
   "execution_count": 29,
   "id": "31af46a8-ceee-4ccd-8964-fbc9698f43b3",
   "metadata": {},
   "outputs": [],
   "source": [
    "SKIPPABLE = [node.id for node in bd.Database('background_2020')] + [\n",
    "    node.id for node in bd.Database('background_2023')\n",
    "]\n",
    "\n",
    "def filter_function(database_id: int) -> bool:\n",
    "    return database_id in SKIPPABLE"
   ]
  },
  {
   "cell_type": "markdown",
   "id": "97cceffb",
   "metadata": {},
   "source": [
    "# Example"
   ]
  },
  {
   "cell_type": "code",
   "execution_count": 30,
   "id": "d3d56515-377a-4086-921f-c8fd7efca39f",
   "metadata": {
    "tags": []
   },
   "outputs": [
    {
     "name": "stdout",
     "output_type": "stream",
     "text": [
      "Starting graph traversal\n",
      "Calculation count: 2\n"
     ]
    }
   ],
   "source": [
    "eelca = EdgeExtracter(slca, edge_filter_function=filter_function)"
   ]
  },
  {
   "cell_type": "code",
   "execution_count": 31,
   "id": "71a4206c-130e-4e91-b189-6b3c9cd11eeb",
   "metadata": {
    "tags": []
   },
   "outputs": [],
   "source": [
    "timeline = eelca.build_edge_timeline()"
   ]
  },
  {
   "cell_type": "code",
   "execution_count": 32,
   "id": "7b5649e3",
   "metadata": {},
   "outputs": [],
   "source": [
    "from medusa_tools import create_grouped_edge_dataframe\n",
    "from datetime import datetime\n",
    "\n",
    "# dates_list = [\n",
    "#         datetime.strptime(\"2020\", \"%Y\"),\n",
    "#         datetime.strptime(\"2023\", \"%Y\"),\n",
    "#     ] # we probably should comebine this with database_date_dict, or include the time data in the databases directly\n",
    "\n",
    "database_date_dict = {\n",
    "            datetime.strptime(\"2020\", \"%Y\"): 'background_2020',\n",
    "            datetime.strptime(\"2023\", \"%Y\"): 'background_2023',\n",
    "        }\n",
    "\n",
    "timeline_df = create_grouped_edge_dataframe(timeline, database_date_dict.keys(), interpolation_type=\"linear\")"
   ]
  },
  {
   "cell_type": "code",
   "execution_count": 33,
   "id": "67d65172",
   "metadata": {},
   "outputs": [
    {
     "data": {
      "text/html": [
       "<div>\n",
       "<style scoped>\n",
       "    .dataframe tbody tr th:only-of-type {\n",
       "        vertical-align: middle;\n",
       "    }\n",
       "\n",
       "    .dataframe tbody tr th {\n",
       "        vertical-align: top;\n",
       "    }\n",
       "\n",
       "    .dataframe thead th {\n",
       "        text-align: right;\n",
       "    }\n",
       "</style>\n",
       "<table border=\"1\" class=\"dataframe\">\n",
       "  <thead>\n",
       "    <tr style=\"text-align: right;\">\n",
       "      <th></th>\n",
       "      <th>year</th>\n",
       "      <th>producer</th>\n",
       "      <th>consumer</th>\n",
       "      <th>amount</th>\n",
       "      <th>date</th>\n",
       "      <th>interpolation_weights</th>\n",
       "      <th>producer_name</th>\n",
       "      <th>consumer_name</th>\n",
       "    </tr>\n",
       "  </thead>\n",
       "  <tbody>\n",
       "    <tr>\n",
       "      <th>0</th>\n",
       "      <td>2021</td>\n",
       "      <td>17</td>\n",
       "      <td>21</td>\n",
       "      <td>0.5</td>\n",
       "      <td>2021-01-01</td>\n",
       "      <td>{2020: 0.666058394160584, 2023: 0.333941605839...</td>\n",
       "      <td>Electricity mix</td>\n",
       "      <td>Heat production, hydrogen</td>\n",
       "    </tr>\n",
       "    <tr>\n",
       "      <th>1</th>\n",
       "      <td>2023</td>\n",
       "      <td>17</td>\n",
       "      <td>21</td>\n",
       "      <td>0.5</td>\n",
       "      <td>2023-01-01</td>\n",
       "      <td>{2023: 1}</td>\n",
       "      <td>Electricity mix</td>\n",
       "      <td>Heat production, hydrogen</td>\n",
       "    </tr>\n",
       "    <tr>\n",
       "      <th>2</th>\n",
       "      <td>2023</td>\n",
       "      <td>21</td>\n",
       "      <td>-1</td>\n",
       "      <td>1.0</td>\n",
       "      <td>2023-01-01</td>\n",
       "      <td>{2023: 1}</td>\n",
       "      <td>Heat production, hydrogen</td>\n",
       "      <td>-1</td>\n",
       "    </tr>\n",
       "  </tbody>\n",
       "</table>\n",
       "</div>"
      ],
      "text/plain": [
       "   year  producer  consumer amount       date  \\\n",
       "0  2021        17        21    0.5 2021-01-01   \n",
       "1  2023        17        21    0.5 2023-01-01   \n",
       "2  2023        21        -1    1.0 2023-01-01   \n",
       "\n",
       "                               interpolation_weights  \\\n",
       "0  {2020: 0.666058394160584, 2023: 0.333941605839...   \n",
       "1                                          {2023: 1}   \n",
       "2                                          {2023: 1}   \n",
       "\n",
       "               producer_name              consumer_name  \n",
       "0            Electricity mix  Heat production, hydrogen  \n",
       "1            Electricity mix  Heat production, hydrogen  \n",
       "2  Heat production, hydrogen                         -1  "
      ]
     },
     "execution_count": 33,
     "metadata": {},
     "output_type": "execute_result"
    }
   ],
   "source": [
    "timeline_df"
   ]
  },
  {
   "cell_type": "code",
   "execution_count": 36,
   "id": "d7d48585",
   "metadata": {},
   "outputs": [
    {
     "name": "stdout",
     "output_type": "stream",
     "text": [
      "Current row: 2021  |  Electricity mix  |  Heat production, hydrogen\n",
      "Row links to background database\n",
      "New link goes to background_2020 for year 2020\n",
      "Previous producer: ('background_2023', 'electricity_mix'), id = 17\n",
      "Previous consumer: ('foreground', 'heat_from_hydrogen'), id = 21\n",
      "New producer id = 19\n",
      "New consumer id = 21002023\n",
      "\n",
      "New link goes to background_2023 for year 2023\n",
      "Previous producer: ('background_2023', 'electricity_mix'), id = 17\n",
      "Previous consumer: ('foreground', 'heat_from_hydrogen'), id = 21\n",
      "New producer id = 17\n",
      "New consumer id = 21002023\n",
      "\n",
      "Current row: 2023  |  Electricity mix  |  Heat production, hydrogen\n",
      "Row links to background database\n",
      "New link goes to background_2023 for year 2023\n",
      "Previous producer: ('background_2023', 'electricity_mix'), id = 17\n",
      "Previous consumer: ('foreground', 'heat_from_hydrogen'), id = 21\n",
      "New producer id = 17\n",
      "New consumer id = 21002023\n",
      "\n",
      "Current row: 2023  |  Heat production, hydrogen  |  -1\n",
      "Row contains the functional unit - exploding to new time-specific node\n",
      "New producer id = 21002023\n",
      "\n"
     ]
    }
   ],
   "source": [
    "from medusa_tools import create_datapackage_from_edge_timeline, create_demand_timing_dict\n",
    "\n",
    "demand_timing_dict = create_demand_timing_dict(timeline_df, demand)\n",
    "\n",
    "dp = create_datapackage_from_edge_timeline(timeline_df, database_date_dict, demand_timing_dict)"
   ]
  },
  {
   "cell_type": "code",
   "execution_count": 37,
   "id": "71bba776",
   "metadata": {},
   "outputs": [],
   "source": [
    "from medusa_tools import prepare_medusa_lca_inputs\n",
    "\n",
    "# fu, data_objs, remapping = bd.prepare_lca_inputs(demand=demand, method=gwp)\n",
    "\n",
    "# using this instead of bd.prepare_lca_inputs() should now include all databases (incl. prospective ones) in data_objs\n",
    "fu, data_objs, remapping = prepare_medusa_lca_inputs(demand=demand, demand_timing_dict=demand_timing_dict, method=gwp) "
   ]
  },
  {
   "cell_type": "code",
   "execution_count": 38,
   "id": "672597c0",
   "metadata": {},
   "outputs": [],
   "source": [
    "lca = bc.LCA(fu, data_objs = data_objs + [dp], remapping_dicts=remapping)"
   ]
  },
  {
   "cell_type": "code",
   "execution_count": 39,
   "id": "368af63e",
   "metadata": {},
   "outputs": [],
   "source": [
    "# Check for non-square matrices\n",
    "# lca.load_lci_data(nonsquare_ok=True)\n",
    "# acts = set([v for v in lca.dicts.activity.reversed.values()])\n",
    "# prods = set([v for v in lca.dicts.product.reversed.values()])\n",
    "# prods-acts\n",
    "# [bd.get_node(id=missing_product).key for missing_product in prods-acts]"
   ]
  },
  {
   "cell_type": "code",
   "execution_count": 40,
   "id": "4a51cd8a",
   "metadata": {},
   "outputs": [
    {
     "name": "stdout",
     "output_type": "stream",
     "text": [
      "new lca score: 156106.27098540147\n",
      "old lca score: 1.0\n"
     ]
    }
   ],
   "source": [
    "lca.lci()\n",
    "lca.lcia()\n",
    "print('new lca score:', lca.score)\n",
    "print('old lca score:', slca.score)"
   ]
  }
 ],
 "metadata": {
  "kernelspec": {
   "display_name": "Python 3 (ipykernel)",
   "language": "python",
   "name": "python3"
  },
  "language_info": {
   "codemirror_mode": {
    "name": "ipython",
    "version": 3
   },
   "file_extension": ".py",
   "mimetype": "text/x-python",
   "name": "python",
   "nbconvert_exporter": "python",
   "pygments_lexer": "ipython3",
   "version": "3.10.12"
  }
 },
 "nbformat": 4,
 "nbformat_minor": 5
}
