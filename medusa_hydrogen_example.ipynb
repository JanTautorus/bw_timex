{
 "cells": [
  {
   "cell_type": "markdown",
   "id": "bee706e3",
   "metadata": {},
   "source": [
    "# `MEDUSA`\n",
    "aka. Dynamic-Prospective LCA aka. Union(premise, temporalis)"
   ]
  },
  {
   "cell_type": "code",
   "execution_count": 1,
   "id": "d8cd7a3f",
   "metadata": {
    "tags": []
   },
   "outputs": [],
   "source": [
    "from bw_temporalis import easy_timedelta_distribution\n",
    "from edge_extractor import EdgeExtracter\n",
    "from medusa_tools import *\n",
    "import bw2data as bd\n",
    "import bw2calc as bc\n",
    "import numpy as np\n",
    "import pandas as pd"
   ]
  },
  {
   "cell_type": "code",
   "execution_count": 2,
   "id": "d00df98a-fcae-4160-a30f-54aed29c1f19",
   "metadata": {
    "editable": true,
    "slideshow": {
     "slide_type": ""
    },
    "tags": []
   },
   "outputs": [],
   "source": [
    "bd.projects.set_current(\"medusa_hydrogen_example\")"
   ]
  },
  {
   "cell_type": "markdown",
   "id": "26987fcb",
   "metadata": {},
   "source": [
    "### Setup of our Example"
   ]
  },
  {
   "cell_type": "code",
   "execution_count": 3,
   "id": "5d3622ff",
   "metadata": {},
   "outputs": [
    {
     "name": "stderr",
     "output_type": "stream",
     "text": [
      "100%|██████████| 2/2 [00:00<?, ?it/s]"
     ]
    },
    {
     "name": "stderr",
     "output_type": "stream",
     "text": [
      "\n"
     ]
    },
    {
     "name": "stdout",
     "output_type": "stream",
     "text": [
      "Vacuuming database \n",
      "Not able to determine geocollections for all datasets. This database is not ready for regionalization.\n"
     ]
    },
    {
     "name": "stderr",
     "output_type": "stream",
     "text": [
      "100%|██████████| 2/2 [00:00<?, ?it/s]\n"
     ]
    },
    {
     "name": "stdout",
     "output_type": "stream",
     "text": [
      "Vacuuming database \n",
      "Not able to determine geocollections for all datasets. This database is not ready for regionalization.\n"
     ]
    },
    {
     "name": "stderr",
     "output_type": "stream",
     "text": [
      "100%|██████████| 2/2 [00:00<?, ?it/s]\n"
     ]
    },
    {
     "name": "stdout",
     "output_type": "stream",
     "text": [
      "Vacuuming database \n",
      "Not able to determine geocollections for all datasets. This database is not ready for regionalization.\n"
     ]
    },
    {
     "name": "stderr",
     "output_type": "stream",
     "text": [
      "100%|██████████| 2/2 [00:00<?, ?it/s]\n"
     ]
    },
    {
     "name": "stdout",
     "output_type": "stream",
     "text": [
      "Vacuuming database \n"
     ]
    }
   ],
   "source": [
    "bd.Database('temporalis-bio').write({\n",
    "    ('temporalis-bio', \"CO2\"): {\n",
    "        \"type\": \"emission\",\n",
    "        \"name\": \"carbon dioxide\",\n",
    "        \"temporalis code\": \"co2\",\n",
    "    },\n",
    "    ('temporalis-bio', \"CH4\"): {\n",
    "        \"type\": \"emission\",\n",
    "        \"name\": \"methane\",\n",
    "        \"temporalis code\": \"ch4\",\n",
    "    },\n",
    "})\n",
    "\n",
    "bd.Database('background_2023').write({\n",
    "    ('background_2023', 'electricity_mix'): {\n",
    "        'name': 'Electricity mix',\n",
    "        'exchanges': [\n",
    "            {\n",
    "                'amount': 1,\n",
    "                'type': 'production',\n",
    "                'input': ('background_2023', 'electricity_mix'),\n",
    "            },\n",
    "            {\n",
    "                'amount': 1,\n",
    "                'type': 'technosphere',\n",
    "                'input': ('background_2023', 'electricity_wind'),\n",
    "            },\n",
    "        ]\n",
    "    },\n",
    "    ('background_2023', 'electricity_wind'): {\n",
    "        'name': 'Electricity production, wind',\n",
    "        'exchanges': [\n",
    "            {\n",
    "                'amount': 1,\n",
    "                'type': 'production',\n",
    "                'input': ('background_2023', 'electricity_wind'),\n",
    "            },\n",
    "            {\n",
    "                'amount': 1,\n",
    "                'type': 'biosphere',\n",
    "                'input': ('temporalis-bio', 'CO2'),\n",
    "            },\n",
    "        ]\n",
    "    }\n",
    "})\n",
    "\n",
    "bd.Database('background_2020').write({\n",
    "    ('background_2020', 'electricity_mix'): {\n",
    "        'name': 'Electricity mix',\n",
    "        'exchanges': [\n",
    "            {\n",
    "                'amount': 1,\n",
    "                'type': 'production',\n",
    "                'input': ('background_2020', 'electricity_mix'),\n",
    "            },\n",
    "            {\n",
    "                'amount': 1,\n",
    "                'type': 'technosphere',\n",
    "                'input': ('background_2020', 'electricity_wind'),\n",
    "            },\n",
    "        ]\n",
    "    },\n",
    "    ('background_2020', 'electricity_wind'): {\n",
    "        'name': 'Electricity production, wind',\n",
    "        'exchanges': [\n",
    "            {\n",
    "                'amount': 1,\n",
    "                'type': 'production',\n",
    "                'input': ('background_2020', 'electricity_wind'),\n",
    "            },\n",
    "            {\n",
    "                'amount': 468745,\n",
    "                'type': 'biosphere',\n",
    "                'input': ('temporalis-bio', 'CO2'),\n",
    "            },\n",
    "        ]\n",
    "    }\n",
    "})\n",
    "\n",
    "bd.Database('foreground').write({\n",
    "    ('foreground', 'heat_from_hydrogen'): {\n",
    "        'name': 'Heat production, hydrogen',\n",
    "        'exchanges': [\n",
    "            {\n",
    "                'amount': 1,\n",
    "                'type': 'production',\n",
    "                'input': ('foreground', 'heat_from_hydrogen'),\n",
    "            },\n",
    "            {\n",
    "                'amount': 1,\n",
    "                'type': 'technosphere',\n",
    "                'input': ('foreground', 'electrolysis'),\n",
    "                'temporal_distribution': # e.g. because some hydrogen was stored in the meantime\n",
    "                    easy_timedelta_distribution(\n",
    "                    start=-2,\n",
    "                    end=0, # Range includes both start and end\n",
    "                    resolution=\"Y\",  # M for months, Y for years, etc.\n",
    "                    steps=2,\n",
    "                ),\n",
    "            },\n",
    "        ]\n",
    "    },\n",
    "    ('foreground', 'electrolysis'): {\n",
    "        'name': 'Hydrogen production, electrolysis',\n",
    "        'exchanges': [\n",
    "            {\n",
    "                'amount': 1,\n",
    "                'type': 'production',\n",
    "                'input': ('foreground', 'electrolysis'),\n",
    "            },\n",
    "            {\n",
    "                'amount': 1,\n",
    "                'type': 'technosphere',\n",
    "                'input': ('background_2023', 'electricity_mix'),\n",
    "            },\n",
    "        ]\n",
    "    },\n",
    "})"
   ]
  },
  {
   "cell_type": "code",
   "execution_count": 4,
   "id": "8e02b150-0249-4884-90ad-f129c2c13eb2",
   "metadata": {
    "tags": []
   },
   "outputs": [],
   "source": [
    "bd.Method((\"GWP\", \"example\")).write([\n",
    "    (('temporalis-bio', \"CO2\"), 1),\n",
    "    (('temporalis-bio', \"CH4\"), 25),\n",
    "])"
   ]
  },
  {
   "cell_type": "code",
   "execution_count": 5,
   "id": "8d9405d9",
   "metadata": {},
   "outputs": [],
   "source": [
    "demand = {('foreground', 'heat_from_hydrogen'): 1}\n",
    "gwp = ('GWP', 'example')"
   ]
  },
  {
   "cell_type": "markdown",
   "id": "31ced634",
   "metadata": {},
   "source": [
    "# Static LCA"
   ]
  },
  {
   "cell_type": "code",
   "execution_count": 6,
   "id": "cca6b8f2-12a3-43f9-8be2-c6a898268adf",
   "metadata": {
    "tags": []
   },
   "outputs": [
    {
     "name": "stdout",
     "output_type": "stream",
     "text": [
      "Static LCA score: 1.0\n"
     ]
    }
   ],
   "source": [
    "slca = bc.LCA(demand, gwp)\n",
    "slca.lci()\n",
    "slca.lcia()\n",
    "print(f'Static LCA score: {slca.score}')"
   ]
  },
  {
   "cell_type": "markdown",
   "id": "b461bbb5",
   "metadata": {},
   "source": [
    "# `MEDUSA` LCA"
   ]
  },
  {
   "cell_type": "markdown",
   "id": "aa7f0158",
   "metadata": {},
   "source": [
    "A MEDUSA LCA builds upon a static LCA, but adds a temporal dimensions, linking to prospective LCA databases. Similarly to a `Temporalis LCA`, the supply chain graph is traversed, taking into account temporal distributions of the edges. \n",
    "\n",
    "For now, only the foreground system is assumed to have temporal distributions. Therefore, we define a filter function, that tells to EdgeExtracter (which is doing the actual graph traversal and saves the edges with respective timestamps), when a database that is known to have no temporal distributions (i.e., the prospective background databases) is reached, so that the traversal can be stopped."
   ]
  },
  {
   "cell_type": "code",
   "execution_count": 7,
   "id": "31af46a8-ceee-4ccd-8964-fbc9698f43b3",
   "metadata": {},
   "outputs": [],
   "source": [
    "SKIPPABLE = [node.id for node in bd.Database('background_2020')] + [\n",
    "    node.id for node in bd.Database('background_2023')\n",
    "]\n",
    "\n",
    "def filter_function(database_id: int) -> bool:\n",
    "    return database_id in SKIPPABLE"
   ]
  },
  {
   "cell_type": "markdown",
   "id": "dead855e",
   "metadata": {},
   "source": [
    "Now we can do the graph traversal and create a timeline of edges:"
   ]
  },
  {
   "cell_type": "code",
   "execution_count": 8,
   "id": "d3d56515-377a-4086-921f-c8fd7efca39f",
   "metadata": {
    "tags": []
   },
   "outputs": [
    {
     "name": "stdout",
     "output_type": "stream",
     "text": [
      "Starting graph traversal\n",
      "Calculation count: 3\n"
     ]
    }
   ],
   "source": [
    "eelca = EdgeExtracter(slca, edge_filter_function=filter_function)\n",
    "timeline = eelca.build_edge_timeline()"
   ]
  },
  {
   "cell_type": "markdown",
   "id": "ae2733bf",
   "metadata": {},
   "source": [
    "Next, we define a dictionary containing the dates of our prospective background databases. Using this, we can create a timeline dataframe. \n",
    "\n",
    "The dates of the edges are mapped to the prospective background databases; interpolation is used for dates in between the dates of the background databases. The default is linear interpolation, another currently included option is \"nearest\", choosing the next best fitting database."
   ]
  },
  {
   "cell_type": "code",
   "execution_count": 9,
   "id": "7b5649e3",
   "metadata": {},
   "outputs": [
    {
     "data": {
      "text/html": [
       "<div>\n",
       "<style scoped>\n",
       "    .dataframe tbody tr th:only-of-type {\n",
       "        vertical-align: middle;\n",
       "    }\n",
       "\n",
       "    .dataframe tbody tr th {\n",
       "        vertical-align: top;\n",
       "    }\n",
       "\n",
       "    .dataframe thead th {\n",
       "        text-align: right;\n",
       "    }\n",
       "</style>\n",
       "<table border=\"1\" class=\"dataframe\">\n",
       "  <thead>\n",
       "    <tr style=\"text-align: right;\">\n",
       "      <th></th>\n",
       "      <th>date</th>\n",
       "      <th>year</th>\n",
       "      <th>producer</th>\n",
       "      <th>producer_name</th>\n",
       "      <th>consumer</th>\n",
       "      <th>consumer_name</th>\n",
       "      <th>amount</th>\n",
       "      <th>interpolation_weights</th>\n",
       "    </tr>\n",
       "  </thead>\n",
       "  <tbody>\n",
       "    <tr>\n",
       "      <th>0</th>\n",
       "      <td>2021-01-01</td>\n",
       "      <td>2021</td>\n",
       "      <td>27</td>\n",
       "      <td>Electricity mix</td>\n",
       "      <td>32</td>\n",
       "      <td>Hydrogen production, electrolysis</td>\n",
       "      <td>0.5</td>\n",
       "      <td>{2020: 0.666058394160584, 2023: 0.333941605839...</td>\n",
       "    </tr>\n",
       "    <tr>\n",
       "      <th>1</th>\n",
       "      <td>2021-01-01</td>\n",
       "      <td>2021</td>\n",
       "      <td>32</td>\n",
       "      <td>Hydrogen production, electrolysis</td>\n",
       "      <td>31</td>\n",
       "      <td>Heat production, hydrogen</td>\n",
       "      <td>0.5</td>\n",
       "      <td>{2020: 0.666058394160584, 2023: 0.333941605839...</td>\n",
       "    </tr>\n",
       "    <tr>\n",
       "      <th>2</th>\n",
       "      <td>2023-01-01</td>\n",
       "      <td>2023</td>\n",
       "      <td>27</td>\n",
       "      <td>Electricity mix</td>\n",
       "      <td>32</td>\n",
       "      <td>Hydrogen production, electrolysis</td>\n",
       "      <td>0.5</td>\n",
       "      <td>{2023: 1}</td>\n",
       "    </tr>\n",
       "    <tr>\n",
       "      <th>3</th>\n",
       "      <td>2023-01-01</td>\n",
       "      <td>2023</td>\n",
       "      <td>31</td>\n",
       "      <td>Heat production, hydrogen</td>\n",
       "      <td>-1</td>\n",
       "      <td>-1</td>\n",
       "      <td>1.0</td>\n",
       "      <td>{2023: 1}</td>\n",
       "    </tr>\n",
       "    <tr>\n",
       "      <th>4</th>\n",
       "      <td>2023-01-01</td>\n",
       "      <td>2023</td>\n",
       "      <td>32</td>\n",
       "      <td>Hydrogen production, electrolysis</td>\n",
       "      <td>31</td>\n",
       "      <td>Heat production, hydrogen</td>\n",
       "      <td>0.5</td>\n",
       "      <td>{2023: 1}</td>\n",
       "    </tr>\n",
       "  </tbody>\n",
       "</table>\n",
       "</div>"
      ],
      "text/plain": [
       "        date  year  producer                      producer_name  consumer  \\\n",
       "0 2021-01-01  2021        27                    Electricity mix        32   \n",
       "1 2021-01-01  2021        32  Hydrogen production, electrolysis        31   \n",
       "2 2023-01-01  2023        27                    Electricity mix        32   \n",
       "3 2023-01-01  2023        31          Heat production, hydrogen        -1   \n",
       "4 2023-01-01  2023        32  Hydrogen production, electrolysis        31   \n",
       "\n",
       "                       consumer_name amount  \\\n",
       "0  Hydrogen production, electrolysis    0.5   \n",
       "1          Heat production, hydrogen    0.5   \n",
       "2  Hydrogen production, electrolysis    0.5   \n",
       "3                                 -1    1.0   \n",
       "4          Heat production, hydrogen    0.5   \n",
       "\n",
       "                               interpolation_weights  \n",
       "0  {2020: 0.666058394160584, 2023: 0.333941605839...  \n",
       "1  {2020: 0.666058394160584, 2023: 0.333941605839...  \n",
       "2                                          {2023: 1}  \n",
       "3                                          {2023: 1}  \n",
       "4                                          {2023: 1}  "
      ]
     },
     "execution_count": 9,
     "metadata": {},
     "output_type": "execute_result"
    }
   ],
   "source": [
    "database_date_dict = {\n",
    "            datetime.strptime(\"2020\", \"%Y\"): 'background_2020',\n",
    "            datetime.strptime(\"2023\", \"%Y\"): 'background_2023',\n",
    "        }\n",
    "\n",
    "timeline_df = create_grouped_edge_dataframe(timeline, database_date_dict.keys(), interpolation_type=\"linear\")\n",
    "timeline_df"
   ]
  },
  {
   "cell_type": "markdown",
   "id": "fb32fc50",
   "metadata": {},
   "source": [
    "Now, we want to create a datapackage that takes care of relinking processes to our prospective databases. To do so, we need to provide the timeline dataframe, the dict of prospective databases and corresponding years, and a new dictionary that defines at which point in time our functional unit is assessed *(We can probably include this information in the database_date_dict in the future, but for now, this works)*."
   ]
  },
  {
   "cell_type": "code",
   "execution_count": 10,
   "id": "d7d48585",
   "metadata": {},
   "outputs": [],
   "source": [
    "demand_timing_dict = create_demand_timing_dict(timeline_df, demand)\n",
    "\n",
    "dp = create_datapackage_from_edge_timeline(timeline_df, database_date_dict, demand_timing_dict)"
   ]
  },
  {
   "cell_type": "markdown",
   "id": "7db5ff18",
   "metadata": {},
   "source": [
    "Finally, we just have to reformat our input data for the LCA, add our datapackage containing the patches, and run the lca."
   ]
  },
  {
   "cell_type": "code",
   "execution_count": 11,
   "id": "71bba776",
   "metadata": {},
   "outputs": [],
   "source": [
    "fu, data_objs, remapping = prepare_medusa_lca_inputs(demand=demand, demand_timing_dict=demand_timing_dict, method=gwp) \n",
    "lca = bc.LCA(fu, data_objs = data_objs + [dp], remapping_dicts=remapping)\n",
    "lca.lci()\n",
    "lca.lcia()"
   ]
  },
  {
   "cell_type": "markdown",
   "id": "b8f8795d",
   "metadata": {},
   "source": [
    "Let's take a look at the results:"
   ]
  },
  {
   "cell_type": "code",
   "execution_count": 12,
   "id": "4a51cd8a",
   "metadata": {},
   "outputs": [
    {
     "name": "stdout",
     "output_type": "stream",
     "text": [
      "New MEDUSA LCA Score: 78053.21897810219\n",
      "Old static LCA Score: 1.0\n"
     ]
    }
   ],
   "source": [
    "print('New MEDUSA LCA Score:', lca.score)\n",
    "print('Old static LCA Score:', slca.score)"
   ]
  }
 ],
 "metadata": {
  "kernelspec": {
   "display_name": "Python 3 (ipykernel)",
   "language": "python",
   "name": "python3"
  },
  "language_info": {
   "codemirror_mode": {
    "name": "ipython",
    "version": 3
   },
   "file_extension": ".py",
   "mimetype": "text/x-python",
   "name": "python",
   "nbconvert_exporter": "python",
   "pygments_lexer": "ipython3",
   "version": "3.10.12"
  }
 },
 "nbformat": 4,
 "nbformat_minor": 5
}
