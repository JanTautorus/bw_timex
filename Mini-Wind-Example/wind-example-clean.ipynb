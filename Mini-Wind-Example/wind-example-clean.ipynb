{
 "cells": [
  {
   "cell_type": "code",
   "execution_count": 27,
   "metadata": {
    "tags": []
   },
   "outputs": [],
   "source": [
    "import bw2io as bi\n",
    "import bw2data as bd\n",
    "import bw2calc as bc\n",
    "from bw_temporalis import easy_timedelta_distribution, TemporalisLCA\n",
    "import bw_processing as bwp\n",
    "from utilities import *"
   ]
  },
  {
   "cell_type": "markdown",
   "metadata": {},
   "source": [
    "# Set project and databases"
   ]
  },
  {
   "cell_type": "code",
   "execution_count": 28,
   "metadata": {
    "tags": []
   },
   "outputs": [],
   "source": [
    "bd.projects.set_current('tictac')"
   ]
  },
  {
   "cell_type": "code",
   "execution_count": 34,
   "metadata": {
    "tags": []
   },
   "outputs": [
    {
     "data": {
      "text/plain": [
       "Databases dictionary with 7 object(s):\n",
       "\tbio\n",
       "\twind-example\n",
       "\twind-example-2020\n",
       "\twind-example-2030\n",
       "\twind-example-2035\n",
       "\twind-example-2040\n",
       "\twind-example-2050"
      ]
     },
     "execution_count": 34,
     "metadata": {},
     "output_type": "execute_result"
    }
   ],
   "source": [
    "bd.databases"
   ]
  },
  {
   "cell_type": "code",
   "execution_count": 33,
   "metadata": {
    "tags": []
   },
   "outputs": [
    {
     "name": "stderr",
     "output_type": "stream",
     "text": [
      "100%|████████████████████████████████████████████████████████████████████████████████████████████| 2/2 [00:00<?, ?it/s]\n"
     ]
    },
    {
     "name": "stdout",
     "output_type": "stream",
     "text": [
      "Vacuuming database \n"
     ]
    }
   ],
   "source": [
    "#create a dummy biosphere database\n",
    "bd.Database(\"bio\").write({\n",
    "        (\"bio\", \"CO2\"): {\n",
    "            \"type\": \"emission\",\n",
    "            \"name\": \"carbon dioxide\",\n",
    "            \"unit\": \"kilogram\",\n",
    "        },\n",
    "        (\"bio\", \"coal\"): {\n",
    "            \"type\": \"emission\",\n",
    "            \"name\": \"coal\",\n",
    "            \"unit\": \"kilogram\",\n",
    "        },\n",
    "})"
   ]
  },
  {
   "cell_type": "code",
   "execution_count": 35,
   "metadata": {
    "tags": []
   },
   "outputs": [],
   "source": [
    "def generate_simple_database(year, share_of_wind_in_electricity_mix, generated_electricity_over_lifetime=1000):\n",
    "    \"\"\"\n",
    "    Write in the project a simple database for our testing for a given year.\n",
    "\n",
    "    :param year: Year of the database.\n",
    "    :param share_of_wind_in_electricity_mix: Share of wind electricity in the dummy electricity mix.\n",
    "    :param generated_electricity_over_lifetime: Generated electricity by the wind turbine over its lifetime.\n",
    "    :return: Database with the name 'wind-electricity-year'.\n",
    "    \"\"\"\n",
    "    database_name = 'wind-example-'+str(year)\n",
    "    \n",
    "    if database_name in list(bd.databases):\n",
    "        del bd.databases[database_name]\n",
    "        \n",
    "    bd.Database(database_name).write({\n",
    "        (database_name, 'electricity-mix'): {\n",
    "            'name': 'Electricity mix',\n",
    "            'unit': 'kilowatt hour',\n",
    "            'exchanges': [\n",
    "                {\n",
    "                    'input': (database_name, 'electricity-production-wind'),\n",
    "                    'amount': share_of_wind_in_electricity_mix,\n",
    "                    'type': 'technosphere',\n",
    "                },\n",
    "                {\n",
    "                    'input': (database_name, 'electricity-production-coal'),\n",
    "                    'amount': 1-share_of_wind_in_electricity_mix,\n",
    "                    'type': 'technosphere',\n",
    "                },\n",
    "            ]\n",
    "        },\n",
    "        (database_name, 'electricity-production-coal'): {\n",
    "            'name': 'Electricity production, coal',\n",
    "            'unit': 'kilowatt hour',\n",
    "            'exchanges': [\n",
    "                {\n",
    "                    'input': (\"bio\", 'coal'),\n",
    "                    'amount': 1,\n",
    "                    'type': 'biosphere',\n",
    "                },\n",
    "                {\n",
    "                    'input': (\"bio\", 'CO2'),\n",
    "                    'amount': 1,\n",
    "                    'type': 'biosphere',\n",
    "                },\n",
    "            ]\n",
    "        },\n",
    "        (database_name, 'electricity-production-wind'): {\n",
    "            'name': 'Electricity production, wind',\n",
    "            'unit': 'kilowatt hour',\n",
    "            'exchanges': [\n",
    "                {\n",
    "                    'input': (database_name, 'electricity-production-wind'),\n",
    "                    'amount': 1,\n",
    "                    'type': 'production',\n",
    "                },\n",
    "                {\n",
    "                    'input': (database_name, 'wind-turbine-construction'),\n",
    "                    'amount': 1/generated_electricity_over_lifetime,\n",
    "                    'type': 'technosphere',\n",
    "                    'temporal_distribution': easy_timedelta_distribution(\n",
    "                        start=-5,\n",
    "                        end=0,\n",
    "                        resolution=\"Y\",  # M for months, Y for years, etc.\n",
    "                        steps=6,\n",
    "                    ),\n",
    "                },\n",
    "                # maybe add maintenance, oil changes, ...\n",
    "            ]\n",
    "        },\n",
    "        (database_name, 'wind-turbine-construction'): {\n",
    "            'name': 'Wind turbine construction',\n",
    "            'unit': 'unit',\n",
    "            'exchanges': [\n",
    "                {\n",
    "                    'input': (database_name, 'wind-turbine-construction'),\n",
    "                    'amount': 1,\n",
    "                    'type': 'production'\n",
    "                },\n",
    "                {\n",
    "                    'input': (database_name, 'electricity-mix'),\n",
    "                    'amount': 1,\n",
    "                    'type': 'technosphere',\n",
    "                },\n",
    "                # {\n",
    "                #     'input': (database_name, 'eol-wind'),\n",
    "                #     'amount': 1,\n",
    "                #     'type': 'technosphere',\n",
    "                #     'temporal_distribution': easy_timedelta_distribution(\n",
    "                #         start=0,\n",
    "                #         end=20,\n",
    "                #         resolution=\"Y\",  # M for months, Y for years, etc.\n",
    "                #         steps=10,\n",
    "                #     ),\n",
    "                # },\n",
    "                # aggregate the rest to direct co2 emissions\n",
    "                {\n",
    "                    'input': (\"bio\", 'CO2'),\n",
    "                    'amount': 1,\n",
    "                    'type': 'biosphere',\n",
    "                }\n",
    "            ]\n",
    "        },\n",
    "        (database_name, 'eol-wind'): {\n",
    "            'name': \"End-of-life, wind turbine\",\n",
    "            'unit': 'unit',\n",
    "            'exchanges': [\n",
    "                {\n",
    "                    'input': (database_name, 'eol-wind'),\n",
    "                    'amount': 1,\n",
    "                    'type': 'production',\n",
    "                },\n",
    "                # aggregate the rest to direct co2 emissions\n",
    "                {\n",
    "                    'input': (\"bio\", 'CO2'),\n",
    "                    'amount': 1,\n",
    "                    'type': 'biosphere',\n",
    "                }\n",
    "            ]\n",
    "        },\n",
    "    })"
   ]
  },
  {
   "cell_type": "code",
   "execution_count": 36,
   "metadata": {
    "tags": []
   },
   "outputs": [
    {
     "name": "stdout",
     "output_type": "stream",
     "text": [
      "Not able to determine geocollections for all datasets. This database is not ready for regionalization.\n"
     ]
    },
    {
     "name": "stderr",
     "output_type": "stream",
     "text": [
      "100%|████████████████████████████████████████████████████████████████████████████████████████████| 5/5 [00:00<?, ?it/s]"
     ]
    },
    {
     "name": "stdout",
     "output_type": "stream",
     "text": [
      "Vacuuming database \n"
     ]
    },
    {
     "name": "stderr",
     "output_type": "stream",
     "text": [
      "\n"
     ]
    },
    {
     "name": "stdout",
     "output_type": "stream",
     "text": [
      "Not able to determine geocollections for all datasets. This database is not ready for regionalization.\n"
     ]
    },
    {
     "name": "stderr",
     "output_type": "stream",
     "text": [
      "100%|████████████████████████████████████████████████████████████████████████████████████████████| 5/5 [00:00<?, ?it/s]"
     ]
    },
    {
     "name": "stdout",
     "output_type": "stream",
     "text": [
      "Vacuuming database \n"
     ]
    },
    {
     "name": "stderr",
     "output_type": "stream",
     "text": [
      "\n"
     ]
    },
    {
     "name": "stdout",
     "output_type": "stream",
     "text": [
      "Not able to determine geocollections for all datasets. This database is not ready for regionalization.\n"
     ]
    },
    {
     "name": "stderr",
     "output_type": "stream",
     "text": [
      "100%|████████████████████████████████████████████████████████████████████████████████████████████| 5/5 [00:00<?, ?it/s]"
     ]
    },
    {
     "name": "stdout",
     "output_type": "stream",
     "text": [
      "Vacuuming database \n"
     ]
    },
    {
     "name": "stderr",
     "output_type": "stream",
     "text": [
      "\n"
     ]
    },
    {
     "name": "stdout",
     "output_type": "stream",
     "text": [
      "Not able to determine geocollections for all datasets. This database is not ready for regionalization.\n"
     ]
    },
    {
     "name": "stderr",
     "output_type": "stream",
     "text": [
      "100%|██████████████████████████████████████████████████████████████████████████████████| 5/5 [00:00<00:00, 1249.64it/s]"
     ]
    },
    {
     "name": "stdout",
     "output_type": "stream",
     "text": [
      "Vacuuming database \n"
     ]
    },
    {
     "name": "stderr",
     "output_type": "stream",
     "text": [
      "\n"
     ]
    }
   ],
   "source": [
    "generate_simple_database(2020, 0.3)\n",
    "generate_simple_database(2030, 0.5)\n",
    "generate_simple_database(2040, 0.6)\n",
    "generate_simple_database(2050, 0.7)"
   ]
  },
  {
   "cell_type": "markdown",
   "metadata": {},
   "source": [
    "# Timeline generation calculation\n",
    "\n",
    "### Impact assessment methods"
   ]
  },
  {
   "cell_type": "code",
   "execution_count": 37,
   "metadata": {
    "tags": []
   },
   "outputs": [],
   "source": [
    "bd.Method((\"GWP\", \"wind-example-2020\")).write([\n",
    "    (('bio', \"CO2\"), 1),\n",
    "])"
   ]
  },
  {
   "cell_type": "markdown",
   "metadata": {},
   "source": [
    "### Static LCA calculation"
   ]
  },
  {
   "cell_type": "code",
   "execution_count": 38,
   "metadata": {
    "tags": []
   },
   "outputs": [],
   "source": [
    "fu_2020 = {('wind-example-2020', 'electricity-production-wind'): 1}"
   ]
  },
  {
   "cell_type": "code",
   "execution_count": 39,
   "metadata": {
    "tags": []
   },
   "outputs": [
    {
     "data": {
      "text/plain": [
       "0.0017005102219358214"
      ]
     },
     "execution_count": 39,
     "metadata": {},
     "output_type": "execute_result"
    }
   ],
   "source": [
    "lca = bc.LCA(fu_2020, (\"GWP\", \"wind-example-2020\"))\n",
    "lca.lci()\n",
    "lca.lcia()\n",
    "lca.score"
   ]
  },
  {
   "cell_type": "markdown",
   "metadata": {},
   "source": [
    "### Dynamic LCA with temporalis"
   ]
  },
  {
   "cell_type": "code",
   "execution_count": 40,
   "metadata": {
    "tags": []
   },
   "outputs": [
    {
     "name": "stdout",
     "output_type": "stream",
     "text": [
      "Starting graph traversal\n",
      "Calculation count: 3\n"
     ]
    }
   ],
   "source": [
    "tlca = TemporalisLCA(lca)"
   ]
  },
  {
   "cell_type": "code",
   "execution_count": 41,
   "metadata": {
    "tags": []
   },
   "outputs": [
    {
     "name": "stderr",
     "output_type": "stream",
     "text": [
      "C:\\Users\\MULLERA\\Anaconda3\\envs\\tictac\\lib\\site-packages\\bw_temporalis\\lca.py:135: UserWarning: This functionality is experimental, and will change.\n",
      "You have been warned.\n",
      "  warnings.warn(\n"
     ]
    }
   ],
   "source": [
    "tl = tlca.build_timeline(node_timeline=True)\n",
    "tl.build_dataframe()\n",
    "tl_df = tl.add_metadata_to_dataframe(database_labels=[\"wind-example-2020\"], fields=['name', 'unit'])"
   ]
  },
  {
   "cell_type": "markdown",
   "metadata": {},
   "source": [
    "# Patch database with prospective databases"
   ]
  },
  {
   "cell_type": "markdown",
   "metadata": {},
   "source": [
    "### Information on existing databases"
   ]
  },
  {
   "cell_type": "code",
   "execution_count": 51,
   "metadata": {
    "tags": []
   },
   "outputs": [],
   "source": [
    "database_date_dict = {\n",
    "    2020: 'wind-example-2020',\n",
    "    2030: 'wind-example-2030',\n",
    "    2040: 'wind-example-2040',\n",
    "    2050: 'wind-example-2050',\n",
    "}   "
   ]
  },
  {
   "cell_type": "code",
   "execution_count": 52,
   "metadata": {
    "tags": []
   },
   "outputs": [],
   "source": [
    "dates_list = [datetime.strptime(str(x), \"%Y\") for x in database_date_dict.keys()]"
   ]
  },
  {
   "cell_type": "markdown",
   "metadata": {},
   "source": [
    "### Example of a patch"
   ]
  },
  {
   "cell_type": "code",
   "execution_count": 53,
   "metadata": {
    "tags": []
   },
   "outputs": [],
   "source": [
    "exchange_output = ('wind-example-2050', 'electricity-production-wind')\n",
    "old_exchange_input = ('wind-example-2050', 'wind-turbine-construction')\n",
    "new_exchange_input = ('wind-example-2030', 'wind-turbine-construction')\n",
    "new_exchange_input_amount = 0.001"
   ]
  },
  {
   "cell_type": "code",
   "execution_count": 54,
   "metadata": {
    "tags": []
   },
   "outputs": [],
   "source": [
    "dp = safety_razor(\n",
    "    consumer=exchange_output,\n",
    "    previous_producer=old_exchange_input, \n",
    "    new_producer=new_exchange_input, \n",
    ")"
   ]
  },
  {
   "cell_type": "code",
   "execution_count": 55,
   "metadata": {
    "tags": []
   },
   "outputs": [],
   "source": [
    "demand = {('wind-example-2050', 'electricity-production-wind'): 1, ('wind-example-2030', 'electricity-production-wind'): 1}\n",
    "ia = (\"GWP\", \"wind-example-2020\")\n",
    "fu, data_objs, remapping = bd.prepare_lca_inputs(demand=demand, method=ia)"
   ]
  },
  {
   "cell_type": "code",
   "execution_count": 56,
   "metadata": {
    "tags": []
   },
   "outputs": [
    {
     "data": {
      "text/plain": [
       "0.0030015008217283224"
      ]
     },
     "execution_count": 56,
     "metadata": {},
     "output_type": "execute_result"
    }
   ],
   "source": [
    "lca_patched = bc.LCA(fu, data_objs=data_objs + [dp], remapping_dicts=remapping)\n",
    "lca_patched.lci()\n",
    "lca_patched.lcia()\n",
    "lca_patched.score"
   ]
  },
  {
   "cell_type": "code",
   "execution_count": 57,
   "metadata": {
    "tags": []
   },
   "outputs": [
    {
     "name": "stdout",
     "output_type": "stream",
     "text": [
      "Starting graph traversal\n",
      "Calculation count: 7\n"
     ]
    }
   ],
   "source": [
    "tlca_patched = TemporalisLCA(lca_patched)"
   ]
  },
  {
   "cell_type": "code",
   "execution_count": 58,
   "metadata": {
    "tags": []
   },
   "outputs": [
    {
     "name": "stderr",
     "output_type": "stream",
     "text": [
      "C:\\Users\\MULLERA\\Anaconda3\\envs\\tictac\\lib\\site-packages\\bw_temporalis\\lca.py:135: UserWarning: This functionality is experimental, and will change.\n",
      "You have been warned.\n",
      "  warnings.warn(\n"
     ]
    }
   ],
   "source": [
    "tl_patched = tlca_patched.build_timeline(node_timeline=True)\n",
    "tl_patched.build_dataframe()\n",
    "tl_patched_df = tl_patched.add_metadata_to_dataframe(database_labels=[\"wind-example-2035\"], fields=['name', 'unit'])"
   ]
  },
  {
   "cell_type": "markdown",
   "metadata": {},
   "source": [
    "### Generating interpolation weights"
   ]
  },
  {
   "cell_type": "code",
   "execution_count": 59,
   "metadata": {
    "tags": []
   },
   "outputs": [
    {
     "name": "stderr",
     "output_type": "stream",
     "text": [
      "C:\\Users\\MULLERA\\OneDrive - VITO\\Documents\\12_teaching\\2023_Autumn_school_time_in_LCA\\group_work\\tictac_lca\\Mini-Wind-Example\\utilities.py:184: Warning: Date outside the range of dates covered by the databases.\n",
      "  warnings.warn(\"Date outside the range of dates covered by the databases.\", category=Warning)\n"
     ]
    },
    {
     "data": {
      "text/html": [
       "<div>\n",
       "<style scoped>\n",
       "    .dataframe tbody tr th:only-of-type {\n",
       "        vertical-align: middle;\n",
       "    }\n",
       "\n",
       "    .dataframe tbody tr th {\n",
       "        vertical-align: top;\n",
       "    }\n",
       "\n",
       "    .dataframe thead th {\n",
       "        text-align: right;\n",
       "    }\n",
       "</style>\n",
       "<table border=\"1\" class=\"dataframe\">\n",
       "  <thead>\n",
       "    <tr style=\"text-align: right;\">\n",
       "      <th></th>\n",
       "      <th>date</th>\n",
       "      <th>amount</th>\n",
       "      <th>flow</th>\n",
       "      <th>activity</th>\n",
       "      <th>activity_name</th>\n",
       "      <th>activity_unit</th>\n",
       "      <th>flow_name</th>\n",
       "      <th>flow_unit</th>\n",
       "      <th>interpolation_weights</th>\n",
       "    </tr>\n",
       "  </thead>\n",
       "  <tbody>\n",
       "    <tr>\n",
       "      <th>0</th>\n",
       "      <td>2018-10-12 13:00:36</td>\n",
       "      <td>0.000167</td>\n",
       "      <td>-1</td>\n",
       "      <td>258</td>\n",
       "      <td>Wind turbine construction</td>\n",
       "      <td>unit</td>\n",
       "      <td>NaN</td>\n",
       "      <td>NaN</td>\n",
       "      <td>{2020: 1}</td>\n",
       "    </tr>\n",
       "    <tr>\n",
       "      <th>1</th>\n",
       "      <td>2018-10-12 13:00:36</td>\n",
       "      <td>0.000167</td>\n",
       "      <td>-1</td>\n",
       "      <td>255</td>\n",
       "      <td>Electricity mix</td>\n",
       "      <td>kilowatt hour</td>\n",
       "      <td>NaN</td>\n",
       "      <td>NaN</td>\n",
       "      <td>{2020: 1}</td>\n",
       "    </tr>\n",
       "    <tr>\n",
       "      <th>2</th>\n",
       "      <td>2018-10-12 13:00:36</td>\n",
       "      <td>0.000117</td>\n",
       "      <td>-1</td>\n",
       "      <td>256</td>\n",
       "      <td>Electricity production, coal</td>\n",
       "      <td>kilowatt hour</td>\n",
       "      <td>NaN</td>\n",
       "      <td>NaN</td>\n",
       "      <td>{2020: 1}</td>\n",
       "    </tr>\n",
       "    <tr>\n",
       "      <th>3</th>\n",
       "      <td>2019-10-12 18:49:48</td>\n",
       "      <td>0.000167</td>\n",
       "      <td>-1</td>\n",
       "      <td>258</td>\n",
       "      <td>Wind turbine construction</td>\n",
       "      <td>unit</td>\n",
       "      <td>NaN</td>\n",
       "      <td>NaN</td>\n",
       "      <td>{2020: 1}</td>\n",
       "    </tr>\n",
       "    <tr>\n",
       "      <th>4</th>\n",
       "      <td>2019-10-12 18:49:48</td>\n",
       "      <td>0.000167</td>\n",
       "      <td>-1</td>\n",
       "      <td>255</td>\n",
       "      <td>Electricity mix</td>\n",
       "      <td>kilowatt hour</td>\n",
       "      <td>NaN</td>\n",
       "      <td>NaN</td>\n",
       "      <td>{2020: 1}</td>\n",
       "    </tr>\n",
       "    <tr>\n",
       "      <th>5</th>\n",
       "      <td>2019-10-12 18:49:48</td>\n",
       "      <td>0.000117</td>\n",
       "      <td>-1</td>\n",
       "      <td>256</td>\n",
       "      <td>Electricity production, coal</td>\n",
       "      <td>kilowatt hour</td>\n",
       "      <td>NaN</td>\n",
       "      <td>NaN</td>\n",
       "      <td>{2020: 1}</td>\n",
       "    </tr>\n",
       "    <tr>\n",
       "      <th>6</th>\n",
       "      <td>2020-10-12 00:39:00</td>\n",
       "      <td>0.000167</td>\n",
       "      <td>-1</td>\n",
       "      <td>255</td>\n",
       "      <td>Electricity mix</td>\n",
       "      <td>kilowatt hour</td>\n",
       "      <td>NaN</td>\n",
       "      <td>NaN</td>\n",
       "      <td>{2020: 0.07802548133953828, 2030: 0.9219745186...</td>\n",
       "    </tr>\n",
       "    <tr>\n",
       "      <th>7</th>\n",
       "      <td>2020-10-12 00:39:00</td>\n",
       "      <td>0.000167</td>\n",
       "      <td>-1</td>\n",
       "      <td>258</td>\n",
       "      <td>Wind turbine construction</td>\n",
       "      <td>unit</td>\n",
       "      <td>NaN</td>\n",
       "      <td>NaN</td>\n",
       "      <td>{2020: 0.07802548133953828, 2030: 0.9219745186...</td>\n",
       "    </tr>\n",
       "    <tr>\n",
       "      <th>8</th>\n",
       "      <td>2020-10-12 00:39:00</td>\n",
       "      <td>0.000117</td>\n",
       "      <td>-1</td>\n",
       "      <td>256</td>\n",
       "      <td>Electricity production, coal</td>\n",
       "      <td>kilowatt hour</td>\n",
       "      <td>NaN</td>\n",
       "      <td>NaN</td>\n",
       "      <td>{2020: 0.07802548133953828, 2030: 0.9219745186...</td>\n",
       "    </tr>\n",
       "    <tr>\n",
       "      <th>9</th>\n",
       "      <td>2021-10-12 06:28:12</td>\n",
       "      <td>0.000167</td>\n",
       "      <td>-1</td>\n",
       "      <td>258</td>\n",
       "      <td>Wind turbine construction</td>\n",
       "      <td>unit</td>\n",
       "      <td>NaN</td>\n",
       "      <td>NaN</td>\n",
       "      <td>{2020: 0.17800974085226753, 2030: 0.8219902591...</td>\n",
       "    </tr>\n",
       "    <tr>\n",
       "      <th>10</th>\n",
       "      <td>2021-10-12 06:28:12</td>\n",
       "      <td>0.000117</td>\n",
       "      <td>-1</td>\n",
       "      <td>256</td>\n",
       "      <td>Electricity production, coal</td>\n",
       "      <td>kilowatt hour</td>\n",
       "      <td>NaN</td>\n",
       "      <td>NaN</td>\n",
       "      <td>{2020: 0.17800974085226753, 2030: 0.8219902591...</td>\n",
       "    </tr>\n",
       "    <tr>\n",
       "      <th>11</th>\n",
       "      <td>2021-10-12 06:28:12</td>\n",
       "      <td>0.000167</td>\n",
       "      <td>-1</td>\n",
       "      <td>255</td>\n",
       "      <td>Electricity mix</td>\n",
       "      <td>kilowatt hour</td>\n",
       "      <td>NaN</td>\n",
       "      <td>NaN</td>\n",
       "      <td>{2020: 0.17800974085226753, 2030: 0.8219902591...</td>\n",
       "    </tr>\n",
       "    <tr>\n",
       "      <th>12</th>\n",
       "      <td>2022-10-12 12:17:24</td>\n",
       "      <td>0.000167</td>\n",
       "      <td>-1</td>\n",
       "      <td>258</td>\n",
       "      <td>Wind turbine construction</td>\n",
       "      <td>unit</td>\n",
       "      <td>NaN</td>\n",
       "      <td>NaN</td>\n",
       "      <td>{2020: 0.27799400036499683, 2030: 0.7220059996...</td>\n",
       "    </tr>\n",
       "    <tr>\n",
       "      <th>13</th>\n",
       "      <td>2022-10-12 12:17:24</td>\n",
       "      <td>0.000117</td>\n",
       "      <td>-1</td>\n",
       "      <td>256</td>\n",
       "      <td>Electricity production, coal</td>\n",
       "      <td>kilowatt hour</td>\n",
       "      <td>NaN</td>\n",
       "      <td>NaN</td>\n",
       "      <td>{2020: 0.27799400036499683, 2030: 0.7220059996...</td>\n",
       "    </tr>\n",
       "    <tr>\n",
       "      <th>14</th>\n",
       "      <td>2022-10-12 12:17:24</td>\n",
       "      <td>0.000167</td>\n",
       "      <td>-1</td>\n",
       "      <td>255</td>\n",
       "      <td>Electricity mix</td>\n",
       "      <td>kilowatt hour</td>\n",
       "      <td>NaN</td>\n",
       "      <td>NaN</td>\n",
       "      <td>{2020: 0.27799400036499683, 2030: 0.7220059996...</td>\n",
       "    </tr>\n",
       "    <tr>\n",
       "      <th>15</th>\n",
       "      <td>2023-10-12 18:06:36</td>\n",
       "      <td>1.000000</td>\n",
       "      <td>-1</td>\n",
       "      <td>257</td>\n",
       "      <td>Electricity production, wind</td>\n",
       "      <td>kilowatt hour</td>\n",
       "      <td>NaN</td>\n",
       "      <td>NaN</td>\n",
       "      <td>{2020: 0.3779782598777261, 2030: 0.62202174012...</td>\n",
       "    </tr>\n",
       "    <tr>\n",
       "      <th>16</th>\n",
       "      <td>2023-10-12 18:06:36</td>\n",
       "      <td>0.000167</td>\n",
       "      <td>-1</td>\n",
       "      <td>258</td>\n",
       "      <td>Wind turbine construction</td>\n",
       "      <td>unit</td>\n",
       "      <td>NaN</td>\n",
       "      <td>NaN</td>\n",
       "      <td>{2020: 0.3779782598777261, 2030: 0.62202174012...</td>\n",
       "    </tr>\n",
       "    <tr>\n",
       "      <th>17</th>\n",
       "      <td>2023-10-12 18:06:36</td>\n",
       "      <td>0.000167</td>\n",
       "      <td>-1</td>\n",
       "      <td>255</td>\n",
       "      <td>Electricity mix</td>\n",
       "      <td>kilowatt hour</td>\n",
       "      <td>NaN</td>\n",
       "      <td>NaN</td>\n",
       "      <td>{2020: 0.3779782598777261, 2030: 0.62202174012...</td>\n",
       "    </tr>\n",
       "    <tr>\n",
       "      <th>18</th>\n",
       "      <td>2023-10-12 18:06:36</td>\n",
       "      <td>0.000117</td>\n",
       "      <td>-1</td>\n",
       "      <td>256</td>\n",
       "      <td>Electricity production, coal</td>\n",
       "      <td>kilowatt hour</td>\n",
       "      <td>NaN</td>\n",
       "      <td>NaN</td>\n",
       "      <td>{2020: 0.3779782598777261, 2030: 0.62202174012...</td>\n",
       "    </tr>\n",
       "  </tbody>\n",
       "</table>\n",
       "</div>"
      ],
      "text/plain": [
       "                  date    amount  flow  activity  \\\n",
       "0  2018-10-12 13:00:36  0.000167    -1       258   \n",
       "1  2018-10-12 13:00:36  0.000167    -1       255   \n",
       "2  2018-10-12 13:00:36  0.000117    -1       256   \n",
       "3  2019-10-12 18:49:48  0.000167    -1       258   \n",
       "4  2019-10-12 18:49:48  0.000167    -1       255   \n",
       "5  2019-10-12 18:49:48  0.000117    -1       256   \n",
       "6  2020-10-12 00:39:00  0.000167    -1       255   \n",
       "7  2020-10-12 00:39:00  0.000167    -1       258   \n",
       "8  2020-10-12 00:39:00  0.000117    -1       256   \n",
       "9  2021-10-12 06:28:12  0.000167    -1       258   \n",
       "10 2021-10-12 06:28:12  0.000117    -1       256   \n",
       "11 2021-10-12 06:28:12  0.000167    -1       255   \n",
       "12 2022-10-12 12:17:24  0.000167    -1       258   \n",
       "13 2022-10-12 12:17:24  0.000117    -1       256   \n",
       "14 2022-10-12 12:17:24  0.000167    -1       255   \n",
       "15 2023-10-12 18:06:36  1.000000    -1       257   \n",
       "16 2023-10-12 18:06:36  0.000167    -1       258   \n",
       "17 2023-10-12 18:06:36  0.000167    -1       255   \n",
       "18 2023-10-12 18:06:36  0.000117    -1       256   \n",
       "\n",
       "                   activity_name  activity_unit flow_name flow_unit  \\\n",
       "0      Wind turbine construction           unit       NaN       NaN   \n",
       "1                Electricity mix  kilowatt hour       NaN       NaN   \n",
       "2   Electricity production, coal  kilowatt hour       NaN       NaN   \n",
       "3      Wind turbine construction           unit       NaN       NaN   \n",
       "4                Electricity mix  kilowatt hour       NaN       NaN   \n",
       "5   Electricity production, coal  kilowatt hour       NaN       NaN   \n",
       "6                Electricity mix  kilowatt hour       NaN       NaN   \n",
       "7      Wind turbine construction           unit       NaN       NaN   \n",
       "8   Electricity production, coal  kilowatt hour       NaN       NaN   \n",
       "9      Wind turbine construction           unit       NaN       NaN   \n",
       "10  Electricity production, coal  kilowatt hour       NaN       NaN   \n",
       "11               Electricity mix  kilowatt hour       NaN       NaN   \n",
       "12     Wind turbine construction           unit       NaN       NaN   \n",
       "13  Electricity production, coal  kilowatt hour       NaN       NaN   \n",
       "14               Electricity mix  kilowatt hour       NaN       NaN   \n",
       "15  Electricity production, wind  kilowatt hour       NaN       NaN   \n",
       "16     Wind turbine construction           unit       NaN       NaN   \n",
       "17               Electricity mix  kilowatt hour       NaN       NaN   \n",
       "18  Electricity production, coal  kilowatt hour       NaN       NaN   \n",
       "\n",
       "                                interpolation_weights  \n",
       "0                                           {2020: 1}  \n",
       "1                                           {2020: 1}  \n",
       "2                                           {2020: 1}  \n",
       "3                                           {2020: 1}  \n",
       "4                                           {2020: 1}  \n",
       "5                                           {2020: 1}  \n",
       "6   {2020: 0.07802548133953828, 2030: 0.9219745186...  \n",
       "7   {2020: 0.07802548133953828, 2030: 0.9219745186...  \n",
       "8   {2020: 0.07802548133953828, 2030: 0.9219745186...  \n",
       "9   {2020: 0.17800974085226753, 2030: 0.8219902591...  \n",
       "10  {2020: 0.17800974085226753, 2030: 0.8219902591...  \n",
       "11  {2020: 0.17800974085226753, 2030: 0.8219902591...  \n",
       "12  {2020: 0.27799400036499683, 2030: 0.7220059996...  \n",
       "13  {2020: 0.27799400036499683, 2030: 0.7220059996...  \n",
       "14  {2020: 0.27799400036499683, 2030: 0.7220059996...  \n",
       "15  {2020: 0.3779782598777261, 2030: 0.62202174012...  \n",
       "16  {2020: 0.3779782598777261, 2030: 0.62202174012...  \n",
       "17  {2020: 0.3779782598777261, 2030: 0.62202174012...  \n",
       "18  {2020: 0.3779782598777261, 2030: 0.62202174012...  "
      ]
     },
     "execution_count": 59,
     "metadata": {},
     "output_type": "execute_result"
    }
   ],
   "source": [
    "tl_df = add_column_interpolation_weights_on_timeline(tl_df, dates_list)\n",
    "tl_df"
   ]
  },
  {
   "cell_type": "markdown",
   "metadata": {},
   "source": [
    "# Testing automated patching"
   ]
  },
  {
   "cell_type": "code",
   "execution_count": 60,
   "metadata": {
    "tags": []
   },
   "outputs": [],
   "source": [
    "# Creating a mock timeline\n",
    "\n",
    "import pandas as pd\n",
    "import numpy as np\n",
    "\n",
    "# Number of rows in the DataFrame\n",
    "n = 10\n",
    "\n",
    "# Generate random dates\n",
    "start_date = pd.to_datetime('2020-01-01')\n",
    "end_date = pd.to_datetime('2050-01-01')\n",
    "date_range = (end_date - start_date).days\n",
    "dates = [start_date + pd.to_timedelta(np.random.randint(0, date_range), unit='D') for _ in range(n)]\n",
    "\n",
    "# Generate random amounts, let's say between 10 and 1000\n",
    "amounts = np.random.randint(10, 1000, size=n)\n",
    "\n",
    "# Generate random producer and consumer integers, let's say between 1 and 10\n",
    "producers = np.random.randint(213, 230, size=n)\n",
    "consumers = np.random.randint(213, 230, size=n)\n",
    "\n",
    "# Create DataFrame\n",
    "df = pd.DataFrame({\n",
    "    'date': dates,\n",
    "    'amount': amounts,\n",
    "    'producer': producers,\n",
    "    'consumer': consumers\n",
    "}).sort_values(by='date')"
   ]
  },
  {
   "cell_type": "code",
   "execution_count": 61,
   "metadata": {
    "tags": []
   },
   "outputs": [],
   "source": [
    "df = add_column_interpolation_weights_on_timeline(df, dates_list)"
   ]
  },
  {
   "cell_type": "code",
   "execution_count": 62,
   "metadata": {
    "tags": []
   },
   "outputs": [
    {
     "data": {
      "text/html": [
       "<div>\n",
       "<style scoped>\n",
       "    .dataframe tbody tr th:only-of-type {\n",
       "        vertical-align: middle;\n",
       "    }\n",
       "\n",
       "    .dataframe tbody tr th {\n",
       "        vertical-align: top;\n",
       "    }\n",
       "\n",
       "    .dataframe thead th {\n",
       "        text-align: right;\n",
       "    }\n",
       "</style>\n",
       "<table border=\"1\" class=\"dataframe\">\n",
       "  <thead>\n",
       "    <tr style=\"text-align: right;\">\n",
       "      <th></th>\n",
       "      <th>date</th>\n",
       "      <th>amount</th>\n",
       "      <th>producer</th>\n",
       "      <th>consumer</th>\n",
       "      <th>interpolation_weights</th>\n",
       "    </tr>\n",
       "  </thead>\n",
       "  <tbody>\n",
       "    <tr>\n",
       "      <th>8</th>\n",
       "      <td>2023-09-17</td>\n",
       "      <td>774</td>\n",
       "      <td>228</td>\n",
       "      <td>222</td>\n",
       "      <td>{2020: 0.37092800437996165, 2030: 0.6290719956...</td>\n",
       "    </tr>\n",
       "    <tr>\n",
       "      <th>7</th>\n",
       "      <td>2024-02-09</td>\n",
       "      <td>144</td>\n",
       "      <td>224</td>\n",
       "      <td>219</td>\n",
       "      <td>{2020: 0.4106214070626882, 2030: 0.58937859293...</td>\n",
       "    </tr>\n",
       "    <tr>\n",
       "      <th>6</th>\n",
       "      <td>2024-03-01</td>\n",
       "      <td>237</td>\n",
       "      <td>225</td>\n",
       "      <td>216</td>\n",
       "      <td>{2020: 0.41637010676156583, 2030: 0.5836298932...</td>\n",
       "    </tr>\n",
       "    <tr>\n",
       "      <th>4</th>\n",
       "      <td>2027-04-28</td>\n",
       "      <td>898</td>\n",
       "      <td>215</td>\n",
       "      <td>215</td>\n",
       "      <td>{2020: 0.7320010949904189, 2030: 0.26799890500...</td>\n",
       "    </tr>\n",
       "    <tr>\n",
       "      <th>1</th>\n",
       "      <td>2034-04-23</td>\n",
       "      <td>660</td>\n",
       "      <td>220</td>\n",
       "      <td>214</td>\n",
       "      <td>{2030: 0.4307228915662651, 2040: 0.56927710843...</td>\n",
       "    </tr>\n",
       "    <tr>\n",
       "      <th>5</th>\n",
       "      <td>2034-11-07</td>\n",
       "      <td>171</td>\n",
       "      <td>216</td>\n",
       "      <td>223</td>\n",
       "      <td>{2030: 0.48493975903614456, 2040: 0.5150602409...</td>\n",
       "    </tr>\n",
       "    <tr>\n",
       "      <th>9</th>\n",
       "      <td>2036-03-02</td>\n",
       "      <td>229</td>\n",
       "      <td>228</td>\n",
       "      <td>215</td>\n",
       "      <td>{2030: 0.6166484118291348, 2040: 0.38335158817...</td>\n",
       "    </tr>\n",
       "    <tr>\n",
       "      <th>0</th>\n",
       "      <td>2037-12-29</td>\n",
       "      <td>681</td>\n",
       "      <td>219</td>\n",
       "      <td>224</td>\n",
       "      <td>{2030: 0.7992880613362541, 2040: 0.20071193866...</td>\n",
       "    </tr>\n",
       "    <tr>\n",
       "      <th>2</th>\n",
       "      <td>2041-09-08</td>\n",
       "      <td>70</td>\n",
       "      <td>217</td>\n",
       "      <td>217</td>\n",
       "      <td>{2040: 0.16862852450041063, 2050: 0.8313714754...</td>\n",
       "    </tr>\n",
       "    <tr>\n",
       "      <th>3</th>\n",
       "      <td>2045-12-04</td>\n",
       "      <td>208</td>\n",
       "      <td>226</td>\n",
       "      <td>227</td>\n",
       "      <td>{2040: 0.5923898165891048, 2050: 0.40761018341...</td>\n",
       "    </tr>\n",
       "  </tbody>\n",
       "</table>\n",
       "</div>"
      ],
      "text/plain": [
       "        date  amount  producer  consumer  \\\n",
       "8 2023-09-17     774       228       222   \n",
       "7 2024-02-09     144       224       219   \n",
       "6 2024-03-01     237       225       216   \n",
       "4 2027-04-28     898       215       215   \n",
       "1 2034-04-23     660       220       214   \n",
       "5 2034-11-07     171       216       223   \n",
       "9 2036-03-02     229       228       215   \n",
       "0 2037-12-29     681       219       224   \n",
       "2 2041-09-08      70       217       217   \n",
       "3 2045-12-04     208       226       227   \n",
       "\n",
       "                               interpolation_weights  \n",
       "8  {2020: 0.37092800437996165, 2030: 0.6290719956...  \n",
       "7  {2020: 0.4106214070626882, 2030: 0.58937859293...  \n",
       "6  {2020: 0.41637010676156583, 2030: 0.5836298932...  \n",
       "4  {2020: 0.7320010949904189, 2030: 0.26799890500...  \n",
       "1  {2030: 0.4307228915662651, 2040: 0.56927710843...  \n",
       "5  {2030: 0.48493975903614456, 2040: 0.5150602409...  \n",
       "9  {2030: 0.6166484118291348, 2040: 0.38335158817...  \n",
       "0  {2030: 0.7992880613362541, 2040: 0.20071193866...  \n",
       "2  {2040: 0.16862852450041063, 2050: 0.8313714754...  \n",
       "3  {2040: 0.5923898165891048, 2050: 0.40761018341...  "
      ]
     },
     "execution_count": 62,
     "metadata": {},
     "output_type": "execute_result"
    }
   ],
   "source": [
    "df"
   ]
  },
  {
   "cell_type": "code",
   "execution_count": null,
   "metadata": {},
   "outputs": [],
   "source": []
  },
  {
   "cell_type": "code",
   "execution_count": null,
   "metadata": {},
   "outputs": [],
   "source": []
  },
  {
   "cell_type": "code",
   "execution_count": 63,
   "metadata": {
    "tags": []
   },
   "outputs": [
    {
     "data": {
      "text/plain": [
       "255"
      ]
     },
     "execution_count": 63,
     "metadata": {},
     "output_type": "execute_result"
    }
   ],
   "source": [
    "bd.get_activity(('wind-example-2020', 'electricity-mix')).id"
   ]
  },
  {
   "cell_type": "code",
   "execution_count": 64,
   "metadata": {
    "tags": []
   },
   "outputs": [
    {
     "ename": "UnknownObject",
     "evalue": "",
     "output_type": "error",
     "traceback": [
      "\u001b[1;31m---------------------------------------------------------------------------\u001b[0m",
      "\u001b[1;31mUnknownObject\u001b[0m                             Traceback (most recent call last)",
      "Cell \u001b[1;32mIn[64], line 13\u001b[0m\n\u001b[0;32m      9\u001b[0m         new_edges\u001b[38;5;241m.\u001b[39mappend((consumer, previous_producer, new_producer, new_amount))\n\u001b[0;32m     11\u001b[0m     \u001b[38;5;28;01mreturn\u001b[39;00m consumer\n\u001b[1;32m---> 13\u001b[0m \u001b[43mextract_edge_from_row\u001b[49m\u001b[43m(\u001b[49m\u001b[43mdf\u001b[49m\u001b[38;5;241;43m.\u001b[39;49m\u001b[43miloc\u001b[49m\u001b[43m[\u001b[49m\u001b[38;5;241;43m2\u001b[39;49m\u001b[43m]\u001b[49m\u001b[43m)\u001b[49m\n",
      "Cell \u001b[1;32mIn[64], line 3\u001b[0m, in \u001b[0;36mextract_edge_from_row\u001b[1;34m(row)\u001b[0m\n\u001b[0;32m      1\u001b[0m \u001b[38;5;28;01mdef\u001b[39;00m \u001b[38;5;21mextract_edge_from_row\u001b[39m(row):\n\u001b[0;32m      2\u001b[0m     new_edges \u001b[38;5;241m=\u001b[39m []\n\u001b[1;32m----> 3\u001b[0m     consumer \u001b[38;5;241m=\u001b[39m \u001b[43mbd\u001b[49m\u001b[38;5;241;43m.\u001b[39;49m\u001b[43mget_node\u001b[49m\u001b[43m(\u001b[49m\u001b[38;5;28;43mid\u001b[39;49m\u001b[38;5;241;43m=\u001b[39;49m\u001b[43mrow\u001b[49m\u001b[43m[\u001b[49m\u001b[38;5;124;43m'\u001b[39;49m\u001b[38;5;124;43mconsumer\u001b[39;49m\u001b[38;5;124;43m'\u001b[39;49m\u001b[43m]\u001b[49m\u001b[43m)\u001b[49m\n\u001b[0;32m      4\u001b[0m     previous_producer \u001b[38;5;241m=\u001b[39m bd\u001b[38;5;241m.\u001b[39mget_node(\u001b[38;5;28mid\u001b[39m\u001b[38;5;241m=\u001b[39mrow[\u001b[38;5;124m'\u001b[39m\u001b[38;5;124mproducer\u001b[39m\u001b[38;5;124m'\u001b[39m])\n\u001b[0;32m      5\u001b[0m     \u001b[38;5;28;01mfor\u001b[39;00m date, share \u001b[38;5;129;01min\u001b[39;00m row[\u001b[38;5;124m'\u001b[39m\u001b[38;5;124minterpolation_weights\u001b[39m\u001b[38;5;124m'\u001b[39m]\u001b[38;5;241m.\u001b[39mitems():\n",
      "File \u001b[1;32m~\\Anaconda3\\envs\\tictac\\lib\\site-packages\\bw2data\\utils.py:422\u001b[0m, in \u001b[0;36mget_node\u001b[1;34m(**kwargs)\u001b[0m\n\u001b[0;32m    418\u001b[0m     \u001b[38;5;28;01mraise\u001b[39;00m MultipleResults(\n\u001b[0;32m    419\u001b[0m         \u001b[38;5;124m\"\u001b[39m\u001b[38;5;124mFound \u001b[39m\u001b[38;5;132;01m{}\u001b[39;00m\u001b[38;5;124m results for the given search\u001b[39m\u001b[38;5;124m\"\u001b[39m\u001b[38;5;241m.\u001b[39mformat(\u001b[38;5;28mlen\u001b[39m(candidates))\n\u001b[0;32m    420\u001b[0m     )\n\u001b[0;32m    421\u001b[0m \u001b[38;5;28;01melif\u001b[39;00m \u001b[38;5;129;01mnot\u001b[39;00m candidates:\n\u001b[1;32m--> 422\u001b[0m     \u001b[38;5;28;01mraise\u001b[39;00m UnknownObject\n\u001b[0;32m    423\u001b[0m \u001b[38;5;28;01mreturn\u001b[39;00m candidates[\u001b[38;5;241m0\u001b[39m]\n",
      "\u001b[1;31mUnknownObject\u001b[0m: "
     ]
    }
   ],
   "source": [
    "def extract_edge_from_row(row):\n",
    "    new_edges = []\n",
    "    consumer = bd.get_node(id=row['consumer'])\n",
    "    previous_producer = bd.get_node(id=row['producer'])\n",
    "    for date, share in row['interpolation_weights'].items():\n",
    "        database = database_date_dict[date]\n",
    "        new_amount = row['amount'] * share\n",
    "        new_producer = bd.get_activity(key=(database, previous_producer['code']))\n",
    "        new_edges.append((consumer, previous_producer, new_producer, new_amount))\n",
    "    \n",
    "    return consumer\n",
    "\n",
    "extract_edge_from_row(df.iloc[2])\n",
    "\n",
    "# dp = safety_razor(\n",
    "#     consumer=exchange_output,\n",
    "#     previous_producer=old_exchange_input, \n",
    "#     new_producer=new_exchange_input, \n",
    "# )"
   ]
  },
  {
   "cell_type": "code",
   "execution_count": 65,
   "metadata": {
    "tags": []
   },
   "outputs": [
    {
     "data": {
      "text/plain": [
       "{2020: 0.37092800437996165, 2030: 0.6290719956200383}"
      ]
     },
     "execution_count": 65,
     "metadata": {},
     "output_type": "execute_result"
    }
   ],
   "source": [
    "df.iloc[0]['interpolation_weights']"
   ]
  },
  {
   "cell_type": "code",
   "execution_count": null,
   "metadata": {},
   "outputs": [],
   "source": []
  }
 ],
 "metadata": {
  "kernelspec": {
   "display_name": "Python 3 (ipykernel)",
   "language": "python",
   "name": "python3"
  },
  "language_info": {
   "codemirror_mode": {
    "name": "ipython",
    "version": 3
   },
   "file_extension": ".py",
   "mimetype": "text/x-python",
   "name": "python",
   "nbconvert_exporter": "python",
   "pygments_lexer": "ipython3",
   "version": "3.10.13"
  }
 },
 "nbformat": 4,
 "nbformat_minor": 4
}
