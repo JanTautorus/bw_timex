{
 "cells": [
  {
   "cell_type": "code",
   "execution_count": 1,
   "metadata": {},
   "outputs": [],
   "source": [
    "import bw2io as bi\n",
    "import bw2data as bd\n",
    "import bw2calc as bc\n",
    "from bw_temporalis import easy_timedelta_distribution, TemporalisLCA\n",
    "import bw_processing as bwp\n",
    "from utilities import *"
   ]
  },
  {
   "cell_type": "markdown",
   "metadata": {},
   "source": [
    "# Set project and databases"
   ]
  },
  {
   "cell_type": "code",
   "execution_count": 2,
   "metadata": {},
   "outputs": [],
   "source": [
    "bd.projects.set_current('tictac')"
   ]
  },
  {
   "cell_type": "code",
   "execution_count": 3,
   "metadata": {},
   "outputs": [
    {
     "data": {
      "text/plain": [
       "Databases dictionary with 5 object(s):\n",
       "\twind-example-2020\n",
       "\twind-example-2030\n",
       "\twind-example-2035\n",
       "\twind-example-2040\n",
       "\twind-example-2050"
      ]
     },
     "execution_count": 3,
     "metadata": {},
     "output_type": "execute_result"
    }
   ],
   "source": [
    "bd.databases"
   ]
  },
  {
   "cell_type": "code",
   "execution_count": 4,
   "metadata": {},
   "outputs": [],
   "source": [
    "def generate_simple_database(year, share_of_wind_in_electricity_mix, generated_electricity_over_lifetime=1000):\n",
    "    \"\"\"\n",
    "    Write in the project a simple database for our testing for a given year.\n",
    "\n",
    "    :param year: Year of the database.\n",
    "    :param share_of_wind_in_electricity_mix: Share of wind electricity in the dummy electricity mix.\n",
    "    :param generated_electricity_over_lifetime: Generated electricity by the wind turbine over its lifetime.\n",
    "    :return: Database with the name 'wind-electricity-year'.\n",
    "    \"\"\"\n",
    "    database_name = 'wind-example-'+str(year)\n",
    "    \n",
    "    if database_name in list(bd.databases):\n",
    "        del bd.databases[database_name]\n",
    "        \n",
    "    bd.Database(database_name).write({\n",
    "        (database_name, \"CO2\"): {\n",
    "            \"type\": \"emission\",\n",
    "            \"name\": \"carbon dioxide\",\n",
    "            \"unit\": \"kilogram\",\n",
    "        },\n",
    "        (database_name, \"coal\"): {\n",
    "            \"type\": \"emission\",\n",
    "            \"name\": \"coal\",\n",
    "            \"unit\": \"kilogram\",\n",
    "        },\n",
    "        (database_name, 'electricity-mix'): {\n",
    "            'name': 'Electricity mix',\n",
    "            'unit': 'kilowatt hour',\n",
    "            'exchanges': [\n",
    "                {\n",
    "                    'input': (database_name, 'electricity-production-wind'),\n",
    "                    'amount': share_of_wind_in_electricity_mix,\n",
    "                    'type': 'technosphere',\n",
    "                },\n",
    "                {\n",
    "                    'input': (database_name, 'electricity-production-coal'),\n",
    "                    'amount': 1-share_of_wind_in_electricity_mix,\n",
    "                    'type': 'technosphere',\n",
    "                },\n",
    "            ]\n",
    "        },\n",
    "        (database_name, 'electricity-production-coal'): {\n",
    "            'name': 'Electricity production, coal',\n",
    "            'unit': 'kilowatt hour',\n",
    "            'exchanges': [\n",
    "                {\n",
    "                    'input': (database_name, 'coal'),\n",
    "                    'amount': 1,\n",
    "                    'type': 'biosphere',\n",
    "                },\n",
    "                {\n",
    "                    'input': (database_name, 'CO2'),\n",
    "                    'amount': 1,\n",
    "                    'type': 'biosphere',\n",
    "                },\n",
    "            ]\n",
    "        },\n",
    "        (database_name, 'electricity-production-wind'): {\n",
    "            'name': 'Electricity production, wind',\n",
    "            'unit': 'kilowatt hour',\n",
    "            'exchanges': [\n",
    "                {\n",
    "                    'input': (database_name, 'electricity-production-wind'),\n",
    "                    'amount': 1,\n",
    "                    'type': 'production',\n",
    "                },\n",
    "                {\n",
    "                    'input': (database_name, 'wind-turbine-construction'),\n",
    "                    'amount': 1/generated_electricity_over_lifetime,\n",
    "                    'type': 'technosphere',\n",
    "                    'temporal_distribution': easy_timedelta_distribution(\n",
    "                        start=-5,\n",
    "                        end=0,\n",
    "                        resolution=\"Y\",  # M for months, Y for years, etc.\n",
    "                        steps=6,\n",
    "                    ),\n",
    "                },\n",
    "                # maybe add maintenance, oil changes, ...\n",
    "            ]\n",
    "        },\n",
    "        (database_name, 'wind-turbine-construction'): {\n",
    "            'name': 'Wind turbine construction',\n",
    "            'unit': 'unit',\n",
    "            'exchanges': [\n",
    "                {\n",
    "                    'input': (database_name, 'wind-turbine-construction'),\n",
    "                    'amount': 1,\n",
    "                    'type': 'production'\n",
    "                },\n",
    "                {\n",
    "                    'input': (database_name, 'electricity-mix'),\n",
    "                    'amount': 1,\n",
    "                    'type': 'technosphere',\n",
    "                },\n",
    "                # {\n",
    "                #     'input': (database_name, 'eol-wind'),\n",
    "                #     'amount': 1,\n",
    "                #     'type': 'technosphere',\n",
    "                #     'temporal_distribution': easy_timedelta_distribution(\n",
    "                #         start=0,\n",
    "                #         end=20,\n",
    "                #         resolution=\"Y\",  # M for months, Y for years, etc.\n",
    "                #         steps=10,\n",
    "                #     ),\n",
    "                # },\n",
    "                # aggregate the rest to direct co2 emissions\n",
    "                {\n",
    "                    'input': (database_name, 'CO2'),\n",
    "                    'amount': 1,\n",
    "                    'type': 'biosphere',\n",
    "                }\n",
    "            ]\n",
    "        },\n",
    "        (database_name, 'eol-wind'): {\n",
    "            'name': \"End-of-life, wind turbine\",\n",
    "            'unit': 'unit',\n",
    "            'exchanges': [\n",
    "                {\n",
    "                    'input': (database_name, 'eol-wind'),\n",
    "                    'amount': 1,\n",
    "                    'type': 'production',\n",
    "                },\n",
    "                # aggregate the rest to direct co2 emissions\n",
    "                {\n",
    "                    'input': (database_name, 'CO2'),\n",
    "                    'amount': 1,\n",
    "                    'type': 'biosphere',\n",
    "                }\n",
    "            ]\n",
    "        },\n",
    "    })"
   ]
  },
  {
   "cell_type": "code",
   "execution_count": 5,
   "metadata": {},
   "outputs": [
    {
     "name": "stdout",
     "output_type": "stream",
     "text": [
      "Not able to determine geocollections for all datasets. This database is not ready for regionalization.\n"
     ]
    },
    {
     "name": "stderr",
     "output_type": "stream",
     "text": [
      "100%|████████████████████████████████████████████████████████████████████████████████████████████| 7/7 [00:00<?, ?it/s]"
     ]
    },
    {
     "name": "stdout",
     "output_type": "stream",
     "text": [
      "Vacuuming database \n"
     ]
    },
    {
     "name": "stderr",
     "output_type": "stream",
     "text": [
      "\n"
     ]
    },
    {
     "name": "stdout",
     "output_type": "stream",
     "text": [
      "Not able to determine geocollections for all datasets. This database is not ready for regionalization.\n"
     ]
    },
    {
     "name": "stderr",
     "output_type": "stream",
     "text": [
      "100%|████████████████████████████████████████████████████████████████████████████████████████████| 7/7 [00:00<?, ?it/s]"
     ]
    },
    {
     "name": "stdout",
     "output_type": "stream",
     "text": [
      "Vacuuming database \n"
     ]
    },
    {
     "name": "stderr",
     "output_type": "stream",
     "text": [
      "\n"
     ]
    },
    {
     "name": "stdout",
     "output_type": "stream",
     "text": [
      "Not able to determine geocollections for all datasets. This database is not ready for regionalization.\n"
     ]
    },
    {
     "name": "stderr",
     "output_type": "stream",
     "text": [
      "100%|██████████████████████████████████████████████████████████████████████████████████| 7/7 [00:00<00:00, 7012.21it/s]"
     ]
    },
    {
     "name": "stdout",
     "output_type": "stream",
     "text": [
      "Vacuuming database \n"
     ]
    },
    {
     "name": "stderr",
     "output_type": "stream",
     "text": [
      "\n"
     ]
    },
    {
     "name": "stdout",
     "output_type": "stream",
     "text": [
      "Not able to determine geocollections for all datasets. This database is not ready for regionalization.\n"
     ]
    },
    {
     "name": "stderr",
     "output_type": "stream",
     "text": [
      "100%|████████████████████████████████████████████████████████████████████████████████████████████| 7/7 [00:00<?, ?it/s]"
     ]
    },
    {
     "name": "stdout",
     "output_type": "stream",
     "text": [
      "Vacuuming database \n"
     ]
    },
    {
     "name": "stderr",
     "output_type": "stream",
     "text": [
      "\n"
     ]
    }
   ],
   "source": [
    "generate_simple_database(2020, 0.3)\n",
    "generate_simple_database(2030, 0.5)\n",
    "generate_simple_database(2040, 0.6)\n",
    "generate_simple_database(2050, 0.7)"
   ]
  },
  {
   "cell_type": "markdown",
   "metadata": {},
   "source": [
    "# Timeline generation calculation\n",
    "\n",
    "### Impact assessment methods"
   ]
  },
  {
   "cell_type": "code",
   "execution_count": 6,
   "metadata": {},
   "outputs": [],
   "source": [
    "bd.Method((\"GWP\", \"wind-example-2020\")).write([\n",
    "    (('wind-example-2020', \"CO2\"), 1),\n",
    "    (('wind-example-2035', \"CO2\"), 1),\n",
    "    (('wind-example-2050', \"CO2\"), 1),\n",
    "])"
   ]
  },
  {
   "cell_type": "markdown",
   "metadata": {},
   "source": [
    "### Static LCA calculation"
   ]
  },
  {
   "cell_type": "code",
   "execution_count": 7,
   "metadata": {},
   "outputs": [],
   "source": [
    "fu_2020 = {('wind-example-2020', 'electricity-production-wind'): 1}"
   ]
  },
  {
   "cell_type": "code",
   "execution_count": 8,
   "metadata": {},
   "outputs": [
    {
     "data": {
      "text/plain": [
       "0.0017005102219358214"
      ]
     },
     "execution_count": 8,
     "metadata": {},
     "output_type": "execute_result"
    }
   ],
   "source": [
    "lca = bc.LCA(fu_2020, (\"GWP\", \"wind-example-2020\"))\n",
    "lca.lci()\n",
    "lca.lcia()\n",
    "lca.score"
   ]
  },
  {
   "cell_type": "markdown",
   "metadata": {},
   "source": [
    "### Dynamic LCA with temporalis"
   ]
  },
  {
   "cell_type": "code",
   "execution_count": 9,
   "metadata": {},
   "outputs": [
    {
     "name": "stdout",
     "output_type": "stream",
     "text": [
      "Starting graph traversal\n",
      "Calculation count: 3\n"
     ]
    }
   ],
   "source": [
    "tlca = TemporalisLCA(lca)"
   ]
  },
  {
   "cell_type": "code",
   "execution_count": 10,
   "metadata": {},
   "outputs": [
    {
     "name": "stderr",
     "output_type": "stream",
     "text": [
      "C:\\Users\\jeromea\\AppData\\Local\\Continuum\\anaconda3\\envs\\tictac\\lib\\site-packages\\bw_temporalis\\lca.py:129: UserWarning: This functionality is experimental, and will change.\n",
      "You have been warned.\n",
      "  warnings.warn(\n"
     ]
    }
   ],
   "source": [
    "tl = tlca.build_timeline(node_timeline=True)\n",
    "tl.build_dataframe()\n",
    "tl_df = tl.add_metadata_to_dataframe(database_labels=[\"wind-example-2020\"], fields=['name', 'unit'])"
   ]
  },
  {
   "cell_type": "markdown",
   "metadata": {},
   "source": [
    "# Patch database with prospective databases"
   ]
  },
  {
   "cell_type": "markdown",
   "metadata": {},
   "source": [
    "### Information on existing databases"
   ]
  },
  {
   "cell_type": "code",
   "execution_count": 11,
   "metadata": {},
   "outputs": [],
   "source": [
    "database_date_dict = {\n",
    "    2020: 'wind-example-2020',\n",
    "    2030: 'wind-example-2030',\n",
    "    2040: 'wind-example-2040',\n",
    "    2050: 'wind-example-2050',\n",
    "}   "
   ]
  },
  {
   "cell_type": "code",
   "execution_count": 12,
   "metadata": {},
   "outputs": [],
   "source": [
    "dates_list = [datetime.strptime(str(x), \"%Y\") for x in database_date_dict.keys()]"
   ]
  },
  {
   "cell_type": "markdown",
   "metadata": {},
   "source": [
    "### Example of a patch"
   ]
  },
  {
   "cell_type": "code",
   "execution_count": 13,
   "metadata": {},
   "outputs": [],
   "source": [
    "exchange_output = ('wind-example-2050', 'electricity-production-wind')\n",
    "old_exchange_input = ('wind-example-2050', 'wind-turbine-construction')\n",
    "new_exchange_input = ('wind-example-2035', 'wind-turbine-construction')\n",
    "new_exchange_input_amount = 0.001"
   ]
  },
  {
   "cell_type": "code",
   "execution_count": 14,
   "metadata": {},
   "outputs": [],
   "source": [
    "dp = safety_razor(\n",
    "    consumer=exchange_output,\n",
    "    previous_producer=old_exchange_input, \n",
    "    new_producer=new_exchange_input, \n",
    ")"
   ]
  },
  {
   "cell_type": "code",
   "execution_count": 15,
   "metadata": {},
   "outputs": [],
   "source": [
    "demand = {('wind-example-2050', 'electricity-production-wind'): 1, ('wind-example-2035', 'electricity-production-wind'): 1}\n",
    "ia = (\"GWP\", \"wind-example-2020\")\n",
    "fu, data_objs, remapping = bd.prepare_lca_inputs(demand=demand, method=ia)"
   ]
  },
  {
   "cell_type": "code",
   "execution_count": 16,
   "metadata": {},
   "outputs": [
    {
     "data": {
      "text/plain": [
       "0.0030015008217283224"
      ]
     },
     "execution_count": 16,
     "metadata": {},
     "output_type": "execute_result"
    }
   ],
   "source": [
    "lca_patched = bc.LCA(fu, data_objs=data_objs + [dp], remapping_dicts=remapping)\n",
    "lca_patched.lci()\n",
    "lca_patched.lcia()\n",
    "lca_patched.score"
   ]
  },
  {
   "cell_type": "markdown",
   "metadata": {},
   "source": [
    "### Generating interpolation weights"
   ]
  },
  {
   "cell_type": "code",
   "execution_count": 17,
   "metadata": {},
   "outputs": [
    {
     "name": "stderr",
     "output_type": "stream",
     "text": [
      "C:\\Users\\jeromea\\OneDrive - Chalmers\\Courses\\Open approaches to time in LCA\\group-project\\tictac_lca\\Mini-Wind-Example\\utilities.py:184: Warning: Date outside the range of dates covered by the databases.\n",
      "  warnings.warn(\"Date outside the range of dates covered by the databases.\", category=Warning)\n"
     ]
    },
    {
     "data": {
      "text/html": [
       "<div>\n",
       "<style scoped>\n",
       "    .dataframe tbody tr th:only-of-type {\n",
       "        vertical-align: middle;\n",
       "    }\n",
       "\n",
       "    .dataframe tbody tr th {\n",
       "        vertical-align: top;\n",
       "    }\n",
       "\n",
       "    .dataframe thead th {\n",
       "        text-align: right;\n",
       "    }\n",
       "</style>\n",
       "<table border=\"1\" class=\"dataframe\">\n",
       "  <thead>\n",
       "    <tr style=\"text-align: right;\">\n",
       "      <th></th>\n",
       "      <th>date</th>\n",
       "      <th>amount</th>\n",
       "      <th>flow</th>\n",
       "      <th>activity</th>\n",
       "      <th>activity_name</th>\n",
       "      <th>activity_unit</th>\n",
       "      <th>flow_name</th>\n",
       "      <th>flow_unit</th>\n",
       "      <th>interpolation_weights</th>\n",
       "    </tr>\n",
       "  </thead>\n",
       "  <tbody>\n",
       "    <tr>\n",
       "      <th>0</th>\n",
       "      <td>2018-10-12 08:07:33</td>\n",
       "      <td>0.000167</td>\n",
       "      <td>-1</td>\n",
       "      <td>188</td>\n",
       "      <td>Wind turbine construction</td>\n",
       "      <td>unit</td>\n",
       "      <td>NaN</td>\n",
       "      <td>NaN</td>\n",
       "      <td>{2020: 1}</td>\n",
       "    </tr>\n",
       "    <tr>\n",
       "      <th>1</th>\n",
       "      <td>2018-10-12 08:07:33</td>\n",
       "      <td>0.000167</td>\n",
       "      <td>-1</td>\n",
       "      <td>185</td>\n",
       "      <td>Electricity mix</td>\n",
       "      <td>kilowatt hour</td>\n",
       "      <td>NaN</td>\n",
       "      <td>NaN</td>\n",
       "      <td>{2020: 1}</td>\n",
       "    </tr>\n",
       "    <tr>\n",
       "      <th>2</th>\n",
       "      <td>2018-10-12 08:07:33</td>\n",
       "      <td>0.000117</td>\n",
       "      <td>-1</td>\n",
       "      <td>186</td>\n",
       "      <td>Electricity production, coal</td>\n",
       "      <td>kilowatt hour</td>\n",
       "      <td>NaN</td>\n",
       "      <td>NaN</td>\n",
       "      <td>{2020: 1}</td>\n",
       "    </tr>\n",
       "    <tr>\n",
       "      <th>3</th>\n",
       "      <td>2019-10-12 13:56:45</td>\n",
       "      <td>0.000167</td>\n",
       "      <td>-1</td>\n",
       "      <td>188</td>\n",
       "      <td>Wind turbine construction</td>\n",
       "      <td>unit</td>\n",
       "      <td>NaN</td>\n",
       "      <td>NaN</td>\n",
       "      <td>{2020: 1}</td>\n",
       "    </tr>\n",
       "    <tr>\n",
       "      <th>4</th>\n",
       "      <td>2019-10-12 13:56:45</td>\n",
       "      <td>0.000167</td>\n",
       "      <td>-1</td>\n",
       "      <td>185</td>\n",
       "      <td>Electricity mix</td>\n",
       "      <td>kilowatt hour</td>\n",
       "      <td>NaN</td>\n",
       "      <td>NaN</td>\n",
       "      <td>{2020: 1}</td>\n",
       "    </tr>\n",
       "    <tr>\n",
       "      <th>5</th>\n",
       "      <td>2019-10-12 13:56:45</td>\n",
       "      <td>0.000117</td>\n",
       "      <td>-1</td>\n",
       "      <td>186</td>\n",
       "      <td>Electricity production, coal</td>\n",
       "      <td>kilowatt hour</td>\n",
       "      <td>NaN</td>\n",
       "      <td>NaN</td>\n",
       "      <td>{2020: 1}</td>\n",
       "    </tr>\n",
       "    <tr>\n",
       "      <th>6</th>\n",
       "      <td>2020-10-11 19:45:57</td>\n",
       "      <td>0.000167</td>\n",
       "      <td>-1</td>\n",
       "      <td>185</td>\n",
       "      <td>Electricity mix</td>\n",
       "      <td>kilowatt hour</td>\n",
       "      <td>NaN</td>\n",
       "      <td>NaN</td>\n",
       "      <td>{2020: 0.07796977180095507, 2030: 0.9220302281...</td>\n",
       "    </tr>\n",
       "    <tr>\n",
       "      <th>7</th>\n",
       "      <td>2020-10-11 19:45:57</td>\n",
       "      <td>0.000167</td>\n",
       "      <td>-1</td>\n",
       "      <td>188</td>\n",
       "      <td>Wind turbine construction</td>\n",
       "      <td>unit</td>\n",
       "      <td>NaN</td>\n",
       "      <td>NaN</td>\n",
       "      <td>{2020: 0.07796977180095507, 2030: 0.9220302281...</td>\n",
       "    </tr>\n",
       "    <tr>\n",
       "      <th>8</th>\n",
       "      <td>2020-10-11 19:45:57</td>\n",
       "      <td>0.000117</td>\n",
       "      <td>-1</td>\n",
       "      <td>186</td>\n",
       "      <td>Electricity production, coal</td>\n",
       "      <td>kilowatt hour</td>\n",
       "      <td>NaN</td>\n",
       "      <td>NaN</td>\n",
       "      <td>{2020: 0.07796977180095507, 2030: 0.9220302281...</td>\n",
       "    </tr>\n",
       "    <tr>\n",
       "      <th>9</th>\n",
       "      <td>2021-10-12 01:35:09</td>\n",
       "      <td>0.000167</td>\n",
       "      <td>-1</td>\n",
       "      <td>188</td>\n",
       "      <td>Wind turbine construction</td>\n",
       "      <td>unit</td>\n",
       "      <td>NaN</td>\n",
       "      <td>NaN</td>\n",
       "      <td>{2020: 0.17795403131368434, 2030: 0.8220459686...</td>\n",
       "    </tr>\n",
       "    <tr>\n",
       "      <th>10</th>\n",
       "      <td>2021-10-12 01:35:09</td>\n",
       "      <td>0.000117</td>\n",
       "      <td>-1</td>\n",
       "      <td>186</td>\n",
       "      <td>Electricity production, coal</td>\n",
       "      <td>kilowatt hour</td>\n",
       "      <td>NaN</td>\n",
       "      <td>NaN</td>\n",
       "      <td>{2020: 0.17795403131368434, 2030: 0.8220459686...</td>\n",
       "    </tr>\n",
       "    <tr>\n",
       "      <th>11</th>\n",
       "      <td>2021-10-12 01:35:09</td>\n",
       "      <td>0.000167</td>\n",
       "      <td>-1</td>\n",
       "      <td>185</td>\n",
       "      <td>Electricity mix</td>\n",
       "      <td>kilowatt hour</td>\n",
       "      <td>NaN</td>\n",
       "      <td>NaN</td>\n",
       "      <td>{2020: 0.17795403131368434, 2030: 0.8220459686...</td>\n",
       "    </tr>\n",
       "    <tr>\n",
       "      <th>12</th>\n",
       "      <td>2022-10-12 07:24:21</td>\n",
       "      <td>0.000167</td>\n",
       "      <td>-1</td>\n",
       "      <td>188</td>\n",
       "      <td>Wind turbine construction</td>\n",
       "      <td>unit</td>\n",
       "      <td>NaN</td>\n",
       "      <td>NaN</td>\n",
       "      <td>{2020: 0.2779382908264136, 2030: 0.72206170917...</td>\n",
       "    </tr>\n",
       "    <tr>\n",
       "      <th>13</th>\n",
       "      <td>2022-10-12 07:24:21</td>\n",
       "      <td>0.000117</td>\n",
       "      <td>-1</td>\n",
       "      <td>186</td>\n",
       "      <td>Electricity production, coal</td>\n",
       "      <td>kilowatt hour</td>\n",
       "      <td>NaN</td>\n",
       "      <td>NaN</td>\n",
       "      <td>{2020: 0.2779382908264136, 2030: 0.72206170917...</td>\n",
       "    </tr>\n",
       "    <tr>\n",
       "      <th>14</th>\n",
       "      <td>2022-10-12 07:24:21</td>\n",
       "      <td>0.000167</td>\n",
       "      <td>-1</td>\n",
       "      <td>185</td>\n",
       "      <td>Electricity mix</td>\n",
       "      <td>kilowatt hour</td>\n",
       "      <td>NaN</td>\n",
       "      <td>NaN</td>\n",
       "      <td>{2020: 0.2779382908264136, 2030: 0.72206170917...</td>\n",
       "    </tr>\n",
       "    <tr>\n",
       "      <th>15</th>\n",
       "      <td>2023-10-12 13:13:33</td>\n",
       "      <td>1.000000</td>\n",
       "      <td>-1</td>\n",
       "      <td>187</td>\n",
       "      <td>Electricity production, wind</td>\n",
       "      <td>kilowatt hour</td>\n",
       "      <td>NaN</td>\n",
       "      <td>NaN</td>\n",
       "      <td>{2020: 0.37792255033914285, 2030: 0.6220774496...</td>\n",
       "    </tr>\n",
       "    <tr>\n",
       "      <th>16</th>\n",
       "      <td>2023-10-12 13:13:33</td>\n",
       "      <td>0.000167</td>\n",
       "      <td>-1</td>\n",
       "      <td>188</td>\n",
       "      <td>Wind turbine construction</td>\n",
       "      <td>unit</td>\n",
       "      <td>NaN</td>\n",
       "      <td>NaN</td>\n",
       "      <td>{2020: 0.37792255033914285, 2030: 0.6220774496...</td>\n",
       "    </tr>\n",
       "    <tr>\n",
       "      <th>17</th>\n",
       "      <td>2023-10-12 13:13:33</td>\n",
       "      <td>0.000167</td>\n",
       "      <td>-1</td>\n",
       "      <td>185</td>\n",
       "      <td>Electricity mix</td>\n",
       "      <td>kilowatt hour</td>\n",
       "      <td>NaN</td>\n",
       "      <td>NaN</td>\n",
       "      <td>{2020: 0.37792255033914285, 2030: 0.6220774496...</td>\n",
       "    </tr>\n",
       "    <tr>\n",
       "      <th>18</th>\n",
       "      <td>2023-10-12 13:13:33</td>\n",
       "      <td>0.000117</td>\n",
       "      <td>-1</td>\n",
       "      <td>186</td>\n",
       "      <td>Electricity production, coal</td>\n",
       "      <td>kilowatt hour</td>\n",
       "      <td>NaN</td>\n",
       "      <td>NaN</td>\n",
       "      <td>{2020: 0.37792255033914285, 2030: 0.6220774496...</td>\n",
       "    </tr>\n",
       "  </tbody>\n",
       "</table>\n",
       "</div>"
      ],
      "text/plain": [
       "                  date    amount  flow  activity  \\\n",
       "0  2018-10-12 08:07:33  0.000167    -1       188   \n",
       "1  2018-10-12 08:07:33  0.000167    -1       185   \n",
       "2  2018-10-12 08:07:33  0.000117    -1       186   \n",
       "3  2019-10-12 13:56:45  0.000167    -1       188   \n",
       "4  2019-10-12 13:56:45  0.000167    -1       185   \n",
       "5  2019-10-12 13:56:45  0.000117    -1       186   \n",
       "6  2020-10-11 19:45:57  0.000167    -1       185   \n",
       "7  2020-10-11 19:45:57  0.000167    -1       188   \n",
       "8  2020-10-11 19:45:57  0.000117    -1       186   \n",
       "9  2021-10-12 01:35:09  0.000167    -1       188   \n",
       "10 2021-10-12 01:35:09  0.000117    -1       186   \n",
       "11 2021-10-12 01:35:09  0.000167    -1       185   \n",
       "12 2022-10-12 07:24:21  0.000167    -1       188   \n",
       "13 2022-10-12 07:24:21  0.000117    -1       186   \n",
       "14 2022-10-12 07:24:21  0.000167    -1       185   \n",
       "15 2023-10-12 13:13:33  1.000000    -1       187   \n",
       "16 2023-10-12 13:13:33  0.000167    -1       188   \n",
       "17 2023-10-12 13:13:33  0.000167    -1       185   \n",
       "18 2023-10-12 13:13:33  0.000117    -1       186   \n",
       "\n",
       "                   activity_name  activity_unit flow_name flow_unit  \\\n",
       "0      Wind turbine construction           unit       NaN       NaN   \n",
       "1                Electricity mix  kilowatt hour       NaN       NaN   \n",
       "2   Electricity production, coal  kilowatt hour       NaN       NaN   \n",
       "3      Wind turbine construction           unit       NaN       NaN   \n",
       "4                Electricity mix  kilowatt hour       NaN       NaN   \n",
       "5   Electricity production, coal  kilowatt hour       NaN       NaN   \n",
       "6                Electricity mix  kilowatt hour       NaN       NaN   \n",
       "7      Wind turbine construction           unit       NaN       NaN   \n",
       "8   Electricity production, coal  kilowatt hour       NaN       NaN   \n",
       "9      Wind turbine construction           unit       NaN       NaN   \n",
       "10  Electricity production, coal  kilowatt hour       NaN       NaN   \n",
       "11               Electricity mix  kilowatt hour       NaN       NaN   \n",
       "12     Wind turbine construction           unit       NaN       NaN   \n",
       "13  Electricity production, coal  kilowatt hour       NaN       NaN   \n",
       "14               Electricity mix  kilowatt hour       NaN       NaN   \n",
       "15  Electricity production, wind  kilowatt hour       NaN       NaN   \n",
       "16     Wind turbine construction           unit       NaN       NaN   \n",
       "17               Electricity mix  kilowatt hour       NaN       NaN   \n",
       "18  Electricity production, coal  kilowatt hour       NaN       NaN   \n",
       "\n",
       "                                interpolation_weights  \n",
       "0                                           {2020: 1}  \n",
       "1                                           {2020: 1}  \n",
       "2                                           {2020: 1}  \n",
       "3                                           {2020: 1}  \n",
       "4                                           {2020: 1}  \n",
       "5                                           {2020: 1}  \n",
       "6   {2020: 0.07796977180095507, 2030: 0.9220302281...  \n",
       "7   {2020: 0.07796977180095507, 2030: 0.9220302281...  \n",
       "8   {2020: 0.07796977180095507, 2030: 0.9220302281...  \n",
       "9   {2020: 0.17795403131368434, 2030: 0.8220459686...  \n",
       "10  {2020: 0.17795403131368434, 2030: 0.8220459686...  \n",
       "11  {2020: 0.17795403131368434, 2030: 0.8220459686...  \n",
       "12  {2020: 0.2779382908264136, 2030: 0.72206170917...  \n",
       "13  {2020: 0.2779382908264136, 2030: 0.72206170917...  \n",
       "14  {2020: 0.2779382908264136, 2030: 0.72206170917...  \n",
       "15  {2020: 0.37792255033914285, 2030: 0.6220774496...  \n",
       "16  {2020: 0.37792255033914285, 2030: 0.6220774496...  \n",
       "17  {2020: 0.37792255033914285, 2030: 0.6220774496...  \n",
       "18  {2020: 0.37792255033914285, 2030: 0.6220774496...  "
      ]
     },
     "execution_count": 17,
     "metadata": {},
     "output_type": "execute_result"
    }
   ],
   "source": [
    "tl_df = add_column_interpolation_weights_on_timeline(tl_df, dates_list)\n",
    "tl_df"
   ]
  },
  {
   "cell_type": "markdown",
   "metadata": {},
   "source": [
    "# Testing automated patching"
   ]
  },
  {
   "cell_type": "code",
   "execution_count": 18,
   "metadata": {},
   "outputs": [],
   "source": [
    "# Creating a mock timeline\n",
    "\n",
    "import pandas as pd\n",
    "import numpy as np\n",
    "\n",
    "# Number of rows in the DataFrame\n",
    "n = 10\n",
    "\n",
    "# Generate random dates\n",
    "start_date = pd.to_datetime('2020-01-01')\n",
    "end_date = pd.to_datetime('2050-01-01')\n",
    "date_range = (end_date - start_date).days\n",
    "dates = [start_date + pd.to_timedelta(np.random.randint(0, date_range), unit='D') for _ in range(n)]\n",
    "\n",
    "# Generate random amounts, let's say between 10 and 1000\n",
    "amounts = np.random.randint(10, 1000, size=n)\n",
    "\n",
    "# Generate random producer and consumer integers, let's say between 1 and 10\n",
    "producers = np.random.randint(213, 230, size=n)\n",
    "consumers = np.random.randint(213, 230, size=n)\n",
    "\n",
    "# Create DataFrame\n",
    "df = pd.DataFrame({\n",
    "    'date': dates,\n",
    "    'amount': amounts,\n",
    "    'producer': producers,\n",
    "    'consumer': consumers\n",
    "}).sort_values(by='date')"
   ]
  },
  {
   "cell_type": "code",
   "execution_count": 19,
   "metadata": {},
   "outputs": [],
   "source": [
    "df = add_column_interpolation_weights_on_timeline(df, dates_list)"
   ]
  },
  {
   "cell_type": "code",
   "execution_count": 20,
   "metadata": {},
   "outputs": [
    {
     "data": {
      "text/html": [
       "<div>\n",
       "<style scoped>\n",
       "    .dataframe tbody tr th:only-of-type {\n",
       "        vertical-align: middle;\n",
       "    }\n",
       "\n",
       "    .dataframe tbody tr th {\n",
       "        vertical-align: top;\n",
       "    }\n",
       "\n",
       "    .dataframe thead th {\n",
       "        text-align: right;\n",
       "    }\n",
       "</style>\n",
       "<table border=\"1\" class=\"dataframe\">\n",
       "  <thead>\n",
       "    <tr style=\"text-align: right;\">\n",
       "      <th></th>\n",
       "      <th>date</th>\n",
       "      <th>amount</th>\n",
       "      <th>producer</th>\n",
       "      <th>consumer</th>\n",
       "      <th>interpolation_weights</th>\n",
       "    </tr>\n",
       "  </thead>\n",
       "  <tbody>\n",
       "    <tr>\n",
       "      <th>3</th>\n",
       "      <td>2022-01-24</td>\n",
       "      <td>250</td>\n",
       "      <td>225</td>\n",
       "      <td>224</td>\n",
       "      <td>{2020: 0.20640569395017794, 2030: 0.7935943060...</td>\n",
       "    </tr>\n",
       "    <tr>\n",
       "      <th>7</th>\n",
       "      <td>2022-12-14</td>\n",
       "      <td>615</td>\n",
       "      <td>222</td>\n",
       "      <td>221</td>\n",
       "      <td>{2020: 0.2950999178757186, 2030: 0.70490008212...</td>\n",
       "    </tr>\n",
       "    <tr>\n",
       "      <th>0</th>\n",
       "      <td>2024-07-31</td>\n",
       "      <td>843</td>\n",
       "      <td>221</td>\n",
       "      <td>228</td>\n",
       "      <td>{2020: 0.45797974267725156, 2030: 0.5420202573...</td>\n",
       "    </tr>\n",
       "    <tr>\n",
       "      <th>4</th>\n",
       "      <td>2029-02-09</td>\n",
       "      <td>342</td>\n",
       "      <td>221</td>\n",
       "      <td>213</td>\n",
       "      <td>{2020: 0.9107582808650424, 2030: 0.08924171913...</td>\n",
       "    </tr>\n",
       "    <tr>\n",
       "      <th>1</th>\n",
       "      <td>2029-09-17</td>\n",
       "      <td>53</td>\n",
       "      <td>222</td>\n",
       "      <td>229</td>\n",
       "      <td>{2020: 0.9709827539009034, 2030: 0.02901724609...</td>\n",
       "    </tr>\n",
       "    <tr>\n",
       "      <th>2</th>\n",
       "      <td>2031-10-25</td>\n",
       "      <td>21</td>\n",
       "      <td>219</td>\n",
       "      <td>229</td>\n",
       "      <td>{2030: 0.18127053669222343, 2040: 0.8187294633...</td>\n",
       "    </tr>\n",
       "    <tr>\n",
       "      <th>9</th>\n",
       "      <td>2039-12-31</td>\n",
       "      <td>540</td>\n",
       "      <td>223</td>\n",
       "      <td>225</td>\n",
       "      <td>{2030: 0.9997261774370209, 2040: 0.00027382256...</td>\n",
       "    </tr>\n",
       "    <tr>\n",
       "      <th>5</th>\n",
       "      <td>2043-03-31</td>\n",
       "      <td>911</td>\n",
       "      <td>228</td>\n",
       "      <td>213</td>\n",
       "      <td>{2040: 0.32439091157952366, 2050: 0.6756090884...</td>\n",
       "    </tr>\n",
       "    <tr>\n",
       "      <th>8</th>\n",
       "      <td>2047-06-05</td>\n",
       "      <td>407</td>\n",
       "      <td>229</td>\n",
       "      <td>213</td>\n",
       "      <td>{2040: 0.7424035039693403, 2050: 0.25759649603...</td>\n",
       "    </tr>\n",
       "    <tr>\n",
       "      <th>6</th>\n",
       "      <td>2049-11-25</td>\n",
       "      <td>695</td>\n",
       "      <td>216</td>\n",
       "      <td>213</td>\n",
       "      <td>{2040: 0.989871338625787, 2050: 0.010128661374...</td>\n",
       "    </tr>\n",
       "  </tbody>\n",
       "</table>\n",
       "</div>"
      ],
      "text/plain": [
       "        date  amount  producer  consumer  \\\n",
       "3 2022-01-24     250       225       224   \n",
       "7 2022-12-14     615       222       221   \n",
       "0 2024-07-31     843       221       228   \n",
       "4 2029-02-09     342       221       213   \n",
       "1 2029-09-17      53       222       229   \n",
       "2 2031-10-25      21       219       229   \n",
       "9 2039-12-31     540       223       225   \n",
       "5 2043-03-31     911       228       213   \n",
       "8 2047-06-05     407       229       213   \n",
       "6 2049-11-25     695       216       213   \n",
       "\n",
       "                               interpolation_weights  \n",
       "3  {2020: 0.20640569395017794, 2030: 0.7935943060...  \n",
       "7  {2020: 0.2950999178757186, 2030: 0.70490008212...  \n",
       "0  {2020: 0.45797974267725156, 2030: 0.5420202573...  \n",
       "4  {2020: 0.9107582808650424, 2030: 0.08924171913...  \n",
       "1  {2020: 0.9709827539009034, 2030: 0.02901724609...  \n",
       "2  {2030: 0.18127053669222343, 2040: 0.8187294633...  \n",
       "9  {2030: 0.9997261774370209, 2040: 0.00027382256...  \n",
       "5  {2040: 0.32439091157952366, 2050: 0.6756090884...  \n",
       "8  {2040: 0.7424035039693403, 2050: 0.25759649603...  \n",
       "6  {2040: 0.989871338625787, 2050: 0.010128661374...  "
      ]
     },
     "execution_count": 20,
     "metadata": {},
     "output_type": "execute_result"
    }
   ],
   "source": [
    "df"
   ]
  },
  {
   "cell_type": "code",
   "execution_count": 21,
   "metadata": {},
   "outputs": [
    {
     "data": {
      "text/plain": [
       "185"
      ]
     },
     "execution_count": 21,
     "metadata": {},
     "output_type": "execute_result"
    }
   ],
   "source": [
    "bd.get_activity(('wind-example-2020', 'electricity-mix')).id"
   ]
  },
  {
   "cell_type": "code",
   "execution_count": 22,
   "metadata": {},
   "outputs": [
    {
     "ename": "UnknownObject",
     "evalue": "",
     "output_type": "error",
     "traceback": [
      "\u001b[1;31m---------------------------------------------------------------------------\u001b[0m",
      "\u001b[1;31mUnknownObject\u001b[0m                             Traceback (most recent call last)",
      "Cell \u001b[1;32mIn[22], line 13\u001b[0m\n\u001b[0;32m      9\u001b[0m         new_edges\u001b[38;5;241m.\u001b[39mappend((consumer, previous_producer, new_producer, new_amount))\n\u001b[0;32m     11\u001b[0m     \u001b[38;5;28;01mreturn\u001b[39;00m consumer\n\u001b[1;32m---> 13\u001b[0m \u001b[43mextract_edge_from_row\u001b[49m\u001b[43m(\u001b[49m\u001b[43mdf\u001b[49m\u001b[38;5;241;43m.\u001b[39;49m\u001b[43miloc\u001b[49m\u001b[43m[\u001b[49m\u001b[38;5;241;43m2\u001b[39;49m\u001b[43m]\u001b[49m\u001b[43m)\u001b[49m\n\u001b[0;32m     15\u001b[0m \u001b[38;5;66;03m# dp = safety_razor(\u001b[39;00m\n\u001b[0;32m     16\u001b[0m \u001b[38;5;66;03m#     consumer=exchange_output,\u001b[39;00m\n\u001b[0;32m     17\u001b[0m \u001b[38;5;66;03m#     previous_producer=old_exchange_input, \u001b[39;00m\n\u001b[0;32m     18\u001b[0m \u001b[38;5;66;03m#     new_producer=new_exchange_input, \u001b[39;00m\n\u001b[0;32m     19\u001b[0m \u001b[38;5;66;03m# )\u001b[39;00m\n",
      "Cell \u001b[1;32mIn[22], line 3\u001b[0m, in \u001b[0;36mextract_edge_from_row\u001b[1;34m(row)\u001b[0m\n\u001b[0;32m      1\u001b[0m \u001b[38;5;28;01mdef\u001b[39;00m \u001b[38;5;21mextract_edge_from_row\u001b[39m(row):\n\u001b[0;32m      2\u001b[0m     new_edges \u001b[38;5;241m=\u001b[39m []\n\u001b[1;32m----> 3\u001b[0m     consumer \u001b[38;5;241m=\u001b[39m \u001b[43mbd\u001b[49m\u001b[38;5;241;43m.\u001b[39;49m\u001b[43mget_node\u001b[49m\u001b[43m(\u001b[49m\u001b[38;5;28;43mid\u001b[39;49m\u001b[38;5;241;43m=\u001b[39;49m\u001b[43mrow\u001b[49m\u001b[43m[\u001b[49m\u001b[38;5;124;43m'\u001b[39;49m\u001b[38;5;124;43mconsumer\u001b[39;49m\u001b[38;5;124;43m'\u001b[39;49m\u001b[43m]\u001b[49m\u001b[43m)\u001b[49m\n\u001b[0;32m      4\u001b[0m     previous_producer \u001b[38;5;241m=\u001b[39m bd\u001b[38;5;241m.\u001b[39mget_node(\u001b[38;5;28mid\u001b[39m\u001b[38;5;241m=\u001b[39mrow[\u001b[38;5;124m'\u001b[39m\u001b[38;5;124mproducer\u001b[39m\u001b[38;5;124m'\u001b[39m])\n\u001b[0;32m      5\u001b[0m     \u001b[38;5;28;01mfor\u001b[39;00m date, share \u001b[38;5;129;01min\u001b[39;00m row[\u001b[38;5;124m'\u001b[39m\u001b[38;5;124minterpolation_weights\u001b[39m\u001b[38;5;124m'\u001b[39m]\u001b[38;5;241m.\u001b[39mitems():\n",
      "File \u001b[1;32m~\\AppData\\Local\\Continuum\\anaconda3\\envs\\tictac\\lib\\site-packages\\bw2data\\utils.py:422\u001b[0m, in \u001b[0;36mget_node\u001b[1;34m(**kwargs)\u001b[0m\n\u001b[0;32m    418\u001b[0m     \u001b[38;5;28;01mraise\u001b[39;00m MultipleResults(\n\u001b[0;32m    419\u001b[0m         \u001b[38;5;124m\"\u001b[39m\u001b[38;5;124mFound \u001b[39m\u001b[38;5;132;01m{}\u001b[39;00m\u001b[38;5;124m results for the given search\u001b[39m\u001b[38;5;124m\"\u001b[39m\u001b[38;5;241m.\u001b[39mformat(\u001b[38;5;28mlen\u001b[39m(candidates))\n\u001b[0;32m    420\u001b[0m     )\n\u001b[0;32m    421\u001b[0m \u001b[38;5;28;01melif\u001b[39;00m \u001b[38;5;129;01mnot\u001b[39;00m candidates:\n\u001b[1;32m--> 422\u001b[0m     \u001b[38;5;28;01mraise\u001b[39;00m UnknownObject\n\u001b[0;32m    423\u001b[0m \u001b[38;5;28;01mreturn\u001b[39;00m candidates[\u001b[38;5;241m0\u001b[39m]\n",
      "\u001b[1;31mUnknownObject\u001b[0m: "
     ]
    }
   ],
   "source": [
    "def extract_edge_from_row(row):\n",
    "    new_edges = []\n",
    "    consumer = bd.get_node(id=row['consumer'])\n",
    "    previous_producer = bd.get_node(id=row['producer'])\n",
    "    for date, share in row['interpolation_weights'].items():\n",
    "        database = database_date_dict[date]\n",
    "        new_amount = row['amount'] * share\n",
    "        new_producer = bd.get_activity(key=(database, previous_producer['code']))\n",
    "        new_edges.append((consumer, previous_producer, new_producer, new_amount))\n",
    "    \n",
    "    return consumer\n",
    "\n",
    "extract_edge_from_row(df.iloc[2])\n",
    "\n",
    "# dp = safety_razor(\n",
    "#     consumer=exchange_output,\n",
    "#     previous_producer=old_exchange_input, \n",
    "#     new_producer=new_exchange_input, \n",
    "# )"
   ]
  },
  {
   "cell_type": "code",
   "execution_count": 23,
   "metadata": {},
   "outputs": [
    {
     "data": {
      "text/plain": [
       "{2020: 0.20640569395017794, 2030: 0.7935943060498221}"
      ]
     },
     "execution_count": 23,
     "metadata": {},
     "output_type": "execute_result"
    }
   ],
   "source": [
    "df.iloc[0]['interpolation_weights']"
   ]
  },
  {
   "cell_type": "code",
   "execution_count": null,
   "metadata": {},
   "outputs": [],
   "source": []
  }
 ],
 "metadata": {
  "kernelspec": {
   "display_name": "Python 3 (ipykernel)",
   "language": "python",
   "name": "python3"
  },
  "language_info": {
   "codemirror_mode": {
    "name": "ipython",
    "version": 3
   },
   "file_extension": ".py",
   "mimetype": "text/x-python",
   "name": "python",
   "nbconvert_exporter": "python",
   "pygments_lexer": "ipython3",
   "version": "3.10.13"
  }
 },
 "nbformat": 4,
 "nbformat_minor": 4
}
