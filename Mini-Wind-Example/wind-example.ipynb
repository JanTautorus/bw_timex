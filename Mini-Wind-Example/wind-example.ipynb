{
 "cells": [
  {
   "cell_type": "code",
   "execution_count": 7,
   "metadata": {},
   "outputs": [],
   "source": [
    "import bw2io as bi\n",
    "import bw2data as bd\n",
    "import bw2calc as bc"
   ]
  },
  {
   "cell_type": "code",
   "execution_count": 17,
   "metadata": {},
   "outputs": [
    {
     "name": "stdout",
     "output_type": "stream",
     "text": [
      "Updating all LCIA methods\n"
     ]
    },
    {
     "name": "stderr",
     "output_type": "stream",
     "text": [
      "1it [00:00, 24.77it/s]\n"
     ]
    },
    {
     "name": "stdout",
     "output_type": "stream",
     "text": [
      "Updating all LCI databases\n"
     ]
    },
    {
     "name": "stderr",
     "output_type": "stream",
     "text": [
      "1it [00:00, 16.85it/s]\n"
     ]
    }
   ],
   "source": [
    "bd.projects.migrate_project_25()"
   ]
  },
  {
   "cell_type": "code",
   "execution_count": 18,
   "metadata": {},
   "outputs": [],
   "source": [
    "bd.projects.set_current('as23_project')"
   ]
  },
  {
   "cell_type": "code",
   "execution_count": 28,
   "metadata": {},
   "outputs": [],
   "source": [
    "del bd.databases['wind-example']"
   ]
  },
  {
   "cell_type": "code",
   "execution_count": 29,
   "metadata": {},
   "outputs": [
    {
     "data": {
      "text/plain": [
       "Databases dictionary with 0 objects"
      ]
     },
     "execution_count": 29,
     "metadata": {},
     "output_type": "execute_result"
    }
   ],
   "source": [
    "bd.databases"
   ]
  },
  {
   "cell_type": "code",
   "execution_count": 30,
   "metadata": {},
   "outputs": [
    {
     "name": "stdout",
     "output_type": "stream",
     "text": [
      "Not able to determine geocollections for all datasets. This database is not ready for regionalization.\n"
     ]
    },
    {
     "name": "stderr",
     "output_type": "stream",
     "text": [
      "100%|██████████| 7/7 [00:00<?, ?it/s]"
     ]
    },
    {
     "name": "stdout",
     "output_type": "stream",
     "text": [
      "Vacuuming database \n"
     ]
    },
    {
     "name": "stderr",
     "output_type": "stream",
     "text": [
      "\n"
     ]
    }
   ],
   "source": [
    "PRODUCTION_VOLUME = 1000 # Production volume of wind turbine over lifetime\n",
    "\n",
    "bd.Database('wind-example').write({\n",
    "    ('wind-example', \"CO2\"): {\n",
    "        \"type\": \"emission\",\n",
    "        \"name\": \"carbon dioxide\",\n",
    "        \"unit\": \"kilogram\",\n",
    "    },\n",
    "    ('wind-example', \"coal\"): {\n",
    "        \"type\": \"emission\",\n",
    "        \"name\": \"coal\",\n",
    "        \"unit\": \"kilogram\",\n",
    "    },\n",
    "    ('wind-example', 'electricity-mix'): {\n",
    "        'name': 'Electricity mix',\n",
    "        'unit': 'kilowatt hour',\n",
    "        'exchanges': [\n",
    "            {\n",
    "                'input': ('wind-example', 'electricity-production-wind'),\n",
    "                'amount': 0.5,\n",
    "                'type': 'technosphere',\n",
    "            },\n",
    "            {\n",
    "                'input': ('wind-example', 'electricity-production-coal'),\n",
    "                'amount': 0.5,\n",
    "                'type': 'technosphere',\n",
    "            },\n",
    "        ]\n",
    "    },\n",
    "    ('wind-example', 'electricity-production-coal'): {\n",
    "        'name': 'Electricity production, coal',\n",
    "        'unit': 'kilowatt hour',\n",
    "        'exchanges': [\n",
    "            {\n",
    "                'input': ('wind-example', 'coal'),\n",
    "                'amount': 1,\n",
    "                'type': 'biosphere',\n",
    "            },\n",
    "            {\n",
    "                'input': ('wind-example', 'CO2'),\n",
    "                'amount': 1,\n",
    "                'type': 'biosphere',\n",
    "            },\n",
    "        ]\n",
    "    },\n",
    "    ('wind-example', 'electricity-production-wind'): {\n",
    "        'name': 'Electricity production, wind',\n",
    "        'unit': 'kilowatt hour',\n",
    "        'exchanges': [\n",
    "            {\n",
    "                'input': ('wind-example', 'electricity-production-wind'),\n",
    "                'amount': 1,\n",
    "                'type': 'production',\n",
    "            },\n",
    "            {\n",
    "                'input': ('wind-example', 'wind-turbine-construction'),\n",
    "                'amount': 1/PRODUCTION_VOLUME,\n",
    "                'type': 'technosphere',\n",
    "            },\n",
    "            # maybe add maintenance, oil changes, ...\n",
    "        ]\n",
    "    },\n",
    "    ('wind-example', 'wind-turbine-construction'): {\n",
    "        'name': 'Wind turbine construction',\n",
    "        'unit': 'unit',\n",
    "        'exchanges': [\n",
    "            {\n",
    "                'input': ('wind-example', 'wind-turbine-construction'),\n",
    "                'amount': 1,\n",
    "                'type': 'production',\n",
    "            },\n",
    "            {\n",
    "                'input': ('wind-example', 'electricity-mix'),\n",
    "                'amount': 1,\n",
    "                'type': 'technosphere',\n",
    "            },\n",
    "            {\n",
    "                'input': ('wind-example', 'eol-wind'),\n",
    "                'amount': 1,\n",
    "                'type': 'technosphere',\n",
    "            },\n",
    "            # aggregate the rest to direct co2 emissions\n",
    "            {\n",
    "                'input': ('wind-example', 'CO2'),\n",
    "                'amount': 1,\n",
    "                'type': 'biosphere',\n",
    "            }\n",
    "        ]\n",
    "    },\n",
    "    ('wind-example', 'eol-wind'): {\n",
    "        'name': \"End-of-life, wind turbine\",\n",
    "        'unit': 'unit',\n",
    "        'exchanges': [\n",
    "            {\n",
    "                'input': ('wind-example', 'eol-wind'),\n",
    "                'amount': 1,\n",
    "                'type': 'production',\n",
    "            },\n",
    "            # aggregate the rest to direct co2 emissions\n",
    "            {\n",
    "                'input': ('wind-example', 'CO2'),\n",
    "                'amount': 1,\n",
    "                'type': 'biosphere',\n",
    "            }\n",
    "        ]\n",
    "    },\n",
    "})"
   ]
  },
  {
   "cell_type": "code",
   "execution_count": 31,
   "metadata": {},
   "outputs": [],
   "source": [
    "bd.Method((\"GWP\", \"wind-example\")).write([\n",
    "    (('wind-example', \"CO2\"), 1),\n",
    "])"
   ]
  },
  {
   "cell_type": "code",
   "execution_count": 32,
   "metadata": {},
   "outputs": [
    {
     "data": {
      "text/plain": [
       "0.5012506253720875"
      ]
     },
     "execution_count": 32,
     "metadata": {},
     "output_type": "execute_result"
    }
   ],
   "source": [
    "lca = bc.LCA({('wind-example', 'electricity-mix'): 1}, (\"GWP\", \"wind-example\"))\n",
    "lca.lci()\n",
    "lca.lcia()\n",
    "lca.score"
   ]
  }
 ],
 "metadata": {
  "kernelspec": {
   "display_name": "premise_env",
   "language": "python",
   "name": "python3"
  },
  "language_info": {
   "codemirror_mode": {
    "name": "ipython",
    "version": 3
   },
   "file_extension": ".py",
   "mimetype": "text/x-python",
   "name": "python",
   "nbconvert_exporter": "python",
   "pygments_lexer": "ipython3",
   "version": "3.10.12"
  }
 },
 "nbformat": 4,
 "nbformat_minor": 2
}
